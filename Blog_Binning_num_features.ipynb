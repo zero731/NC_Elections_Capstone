{
 "cells": [
  {
   "cell_type": "code",
   "execution_count": 2,
   "metadata": {
    "ExecuteTime": {
     "end_time": "2021-04-04T17:03:21.184955Z",
     "start_time": "2021-04-04T17:03:14.571922Z"
    }
   },
   "outputs": [],
   "source": [
    "import numpy as np\n",
    "import pandas as pd\n",
    "import matplotlib.pyplot as plt\n",
    "%matplotlib inline\n",
    "import seaborn as sns"
   ]
  },
  {
   "cell_type": "code",
   "execution_count": 3,
   "metadata": {
    "ExecuteTime": {
     "end_time": "2021-04-04T17:03:21.189120Z",
     "start_time": "2021-04-04T17:03:21.186707Z"
    }
   },
   "outputs": [],
   "source": [
    "pd.options.display.max_columns = 50"
   ]
  },
  {
   "cell_type": "code",
   "execution_count": 4,
   "metadata": {
    "ExecuteTime": {
     "end_time": "2021-04-04T17:03:21.488088Z",
     "start_time": "2021-04-04T17:03:21.191480Z"
    }
   },
   "outputs": [
    {
     "data": {
      "text/html": [
       "<div>\n",
       "<style scoped>\n",
       "    .dataframe tbody tr th:only-of-type {\n",
       "        vertical-align: middle;\n",
       "    }\n",
       "\n",
       "    .dataframe tbody tr th {\n",
       "        vertical-align: top;\n",
       "    }\n",
       "\n",
       "    .dataframe thead th {\n",
       "        text-align: right;\n",
       "    }\n",
       "</style>\n",
       "<table border=\"1\" class=\"dataframe\">\n",
       "  <thead>\n",
       "    <tr style=\"text-align: right;\">\n",
       "      <th></th>\n",
       "      <th>age</th>\n",
       "      <th>birth_year</th>\n",
       "    </tr>\n",
       "  </thead>\n",
       "  <tbody>\n",
       "    <tr>\n",
       "      <th>0</th>\n",
       "      <td>65</td>\n",
       "      <td>1955</td>\n",
       "    </tr>\n",
       "    <tr>\n",
       "      <th>1</th>\n",
       "      <td>57</td>\n",
       "      <td>1963</td>\n",
       "    </tr>\n",
       "    <tr>\n",
       "      <th>2</th>\n",
       "      <td>47</td>\n",
       "      <td>1973</td>\n",
       "    </tr>\n",
       "    <tr>\n",
       "      <th>3</th>\n",
       "      <td>72</td>\n",
       "      <td>1948</td>\n",
       "    </tr>\n",
       "    <tr>\n",
       "      <th>4</th>\n",
       "      <td>53</td>\n",
       "      <td>1967</td>\n",
       "    </tr>\n",
       "  </tbody>\n",
       "</table>\n",
       "</div>"
      ],
      "text/plain": [
       "   age  birth_year\n",
       "0   65        1955\n",
       "1   57        1963\n",
       "2   47        1973\n",
       "3   72        1948\n",
       "4   53        1967"
      ]
     },
     "execution_count": 4,
     "metadata": {},
     "output_type": "execute_result"
    }
   ],
   "source": [
    "df = pd.read_csv('Data/UC_gen_2020.gz',\n",
    "                     usecols=['birth_age_adj',\n",
    "                              'birth_year'])\n",
    "df.rename(columns={'birth_age_adj':'age'}, inplace=True)\n",
    "df['age'] = df['age'].astype(int)\n",
    "df.head()"
   ]
  },
  {
   "cell_type": "code",
   "execution_count": 5,
   "metadata": {
    "ExecuteTime": {
     "end_time": "2021-04-04T17:03:21.504327Z",
     "start_time": "2021-04-04T17:03:21.491051Z"
    }
   },
   "outputs": [
    {
     "name": "stdout",
     "output_type": "stream",
     "text": [
      "<class 'pandas.core.frame.DataFrame'>\n",
      "RangeIndex: 168070 entries, 0 to 168069\n",
      "Data columns (total 2 columns):\n",
      " #   Column      Non-Null Count   Dtype\n",
      "---  ------      --------------   -----\n",
      " 0   age         168070 non-null  int64\n",
      " 1   birth_year  168070 non-null  int64\n",
      "dtypes: int64(2)\n",
      "memory usage: 2.6 MB\n"
     ]
    }
   ],
   "source": [
    "df.info()"
   ]
  },
  {
   "cell_type": "code",
   "execution_count": 6,
   "metadata": {
    "ExecuteTime": {
     "end_time": "2021-04-04T17:03:21.510235Z",
     "start_time": "2021-04-04T17:03:21.506558Z"
    }
   },
   "outputs": [],
   "source": [
    "def check_unique(col, df, dropna=False):\n",
    "\n",
    "    unique_vals = pd.DataFrame()\n",
    "    unique_vals['count'] = pd.Series(df[col].value_counts(dropna=dropna))\n",
    "    unique_vals['%'] = pd.Series(round(df[col].value_counts(normalize=True, dropna=dropna)*100, 2))\n",
    "    \n",
    "    return unique_vals"
   ]
  },
  {
   "cell_type": "code",
   "execution_count": 7,
   "metadata": {
    "ExecuteTime": {
     "end_time": "2021-04-04T17:03:21.517474Z",
     "start_time": "2021-04-04T17:03:21.511916Z"
    }
   },
   "outputs": [],
   "source": [
    "def plot_hist(variable, data, rotation=0, ha='center', figsize=(10,7)):\n",
    "    \n",
    "    plt.figure(figsize=figsize)\n",
    "    ax = sns.histplot(x=data[variable],\n",
    "                       palette='nipy_spectral')\n",
    "    \n",
    "    if variable == 'age':\n",
    "        xtick_lab = [0,20,40,60,80,100]\n",
    "    if variable == 'birth_year':\n",
    "        xtick_lab = [1900,1920,1940,1960,1980,2000]\n",
    "    ax.set_xticklabels(xtick_lab,\n",
    "                           fontsize=12, weight='bold')\n",
    "    ax.set_title(f'{variable.title()} Distribution', \n",
    "                 fontsize=16,\n",
    "                 weight='bold')\n",
    "    ax.set_xlabel(f'{variable.title()}',\n",
    "                  fontsize=14,\n",
    "                  weight='bold')\n",
    "    ax.set_ylabel('Count', fontsize=14, weight='bold')\n",
    "    ax.spines['right'].set_visible(False)\n",
    "    ax.spines['top'].set_visible(False)\n",
    "    \n",
    "    return ax"
   ]
  },
  {
   "cell_type": "code",
   "execution_count": 8,
   "metadata": {
    "ExecuteTime": {
     "end_time": "2021-04-04T17:03:21.527553Z",
     "start_time": "2021-04-04T17:03:21.519314Z"
    }
   },
   "outputs": [],
   "source": [
    "def plot_count(variable, data, rotation=0, ha='center', figsize=(8,6)):\n",
    "    \n",
    "    if variable == 'generation':\n",
    "        order = ['GenZ', 'Millennial', 'GenX', 'Boomer', 'Greatest-Silent']\n",
    "    else:\n",
    "        order = ['Teens', \"20's\", \"30's\", \"40's\", \"50's\", \"60's\", \"70's\", \"80's\", \"90's\", \"100's\"]\n",
    "    \n",
    "    plt.figure(figsize=figsize)\n",
    "    ax = sns.countplot(x=data[variable],\n",
    "                       order=order,\n",
    "                       palette='nipy_spectral')\n",
    "    \n",
    "    ax.set_xticklabels(ax.get_xticklabels(),\n",
    "                       rotation=rotation,\n",
    "                       horizontalalignment=ha,\n",
    "                       fontsize=12, weight='bold')\n",
    "    ax.set_title(f'{variable.title()} Counts', \n",
    "                 fontsize=16,\n",
    "                 weight='bold')\n",
    "    ax.set_xlabel(f'{variable.title()}',\n",
    "                  fontsize=14,\n",
    "                  weight='bold')\n",
    "    ax.set_ylabel('Count', fontsize=14, weight='bold')\n",
    "    ax.spines['right'].set_visible(False)\n",
    "    ax.spines['top'].set_visible(False)\n",
    "    \n",
    "    return ax"
   ]
  },
  {
   "cell_type": "code",
   "execution_count": 9,
   "metadata": {
    "ExecuteTime": {
     "end_time": "2021-04-04T17:03:21.540467Z",
     "start_time": "2021-04-04T17:03:21.531263Z"
    }
   },
   "outputs": [],
   "source": [
    "def plot_hist_highlight(variable, data, low, high, rotation=0, ha='center', figsize=(10,7)):\n",
    "    \n",
    "    plt.figure(figsize=figsize)\n",
    "    ax = sns.histplot(x=data[variable], kde=True,\n",
    "                       palette='nipy_spectral')\n",
    "    \n",
    "    if variable == 'age':\n",
    "        xtick_lab = [0,20,40,60,80,100]\n",
    "    if variable == 'birth_year':\n",
    "        xtick_lab = [1900,1920,1940,1960,1980,2000]\n",
    "    ax.set_xticklabels(xtick_lab,\n",
    "                       fontsize=12, weight='bold')\n",
    "\n",
    "    kde_x, kde_y = ax.lines[0].get_data()\n",
    "    print(ax.lines)\n",
    "    \n",
    "    #plotting the two lines\n",
    "    p1 = plt.axvline(x=low, color='black', ls='--', lw=4)\n",
    "    p2 = plt.axvline(x=high, color='black', ls='--', lw=4)\n",
    "\n",
    "\n",
    "    ax.fill_between(kde_x, kde_y, where=(kde_x<low) | (kde_x>high) , \n",
    "                interpolate=True, color=['red', 'yellow'])\n",
    "    \n",
    "    ax.set_title(f'{variable.title()} Distribution', \n",
    "                 fontsize=16,\n",
    "                 weight='bold')\n",
    "    ax.set_xlabel(f'{variable.title()}',\n",
    "                  fontsize=14,\n",
    "                  weight='bold')\n",
    "    ax.set_ylabel('Count', fontsize=14, weight='bold')\n",
    "    ax.spines['right'].set_visible(False)\n",
    "    ax.spines['top'].set_visible(False)\n",
    "    \n",
    "    return ax"
   ]
  },
  {
   "cell_type": "code",
   "execution_count": 10,
   "metadata": {
    "ExecuteTime": {
     "end_time": "2021-04-04T17:03:21.932509Z",
     "start_time": "2021-04-04T17:03:21.544310Z"
    }
   },
   "outputs": [
    {
     "name": "stderr",
     "output_type": "stream",
     "text": [
      "/Users/maxsteele/opt/anaconda3/envs/learn-env/lib/python3.6/site-packages/ipykernel_launcher.py:12: UserWarning: FixedFormatter should only be used together with FixedLocator\n",
      "  if sys.path[0] == '':\n"
     ]
    },
    {
     "data": {
      "image/png": "[encoded data removed]",
      "text/plain": [
       "<Figure size 720x504 with 1 Axes>"
      ]
     },
     "metadata": {
      "needs_background": "light"
     },
     "output_type": "display_data"
    }
   ],
   "source": [
    "plot_hist('age', df);\n",
    "# plt.savefig('Figures/blog_bin_num_features/age_distr', bbox_inches = \"tight\");"
   ]
  },
  {
   "cell_type": "code",
   "execution_count": 11,
   "metadata": {
    "ExecuteTime": {
     "end_time": "2021-04-04T17:03:21.947671Z",
     "start_time": "2021-04-04T17:03:21.934173Z"
    }
   },
   "outputs": [
    {
     "data": {
      "text/html": [
       "<div>\n",
       "<style scoped>\n",
       "    .dataframe tbody tr th:only-of-type {\n",
       "        vertical-align: middle;\n",
       "    }\n",
       "\n",
       "    .dataframe tbody tr th {\n",
       "        vertical-align: top;\n",
       "    }\n",
       "\n",
       "    .dataframe thead th {\n",
       "        text-align: right;\n",
       "    }\n",
       "</style>\n",
       "<table border=\"1\" class=\"dataframe\">\n",
       "  <thead>\n",
       "    <tr style=\"text-align: right;\">\n",
       "      <th></th>\n",
       "      <th>count</th>\n",
       "      <th>%</th>\n",
       "    </tr>\n",
       "  </thead>\n",
       "  <tbody>\n",
       "    <tr>\n",
       "      <th>0</th>\n",
       "      <td>154322</td>\n",
       "      <td>91.82</td>\n",
       "    </tr>\n",
       "    <tr>\n",
       "      <th>1</th>\n",
       "      <td>13748</td>\n",
       "      <td>8.18</td>\n",
       "    </tr>\n",
       "  </tbody>\n",
       "</table>\n",
       "</div>"
      ],
      "text/plain": [
       "    count      %\n",
       "0  154322  91.82\n",
       "1   13748   8.18"
      ]
     },
     "execution_count": 11,
     "metadata": {},
     "output_type": "execute_result"
    }
   ],
   "source": [
    "df['first_pres_elec'] = np.where(df['age']<22, 1, 0)\n",
    "check_unique('first_pres_elec', df)"
   ]
  },
  {
   "cell_type": "code",
   "execution_count": 12,
   "metadata": {
    "ExecuteTime": {
     "end_time": "2021-04-04T17:03:21.966330Z",
     "start_time": "2021-04-04T17:03:21.949413Z"
    }
   },
   "outputs": [
    {
     "data": {
      "text/html": [
       "<div>\n",
       "<style scoped>\n",
       "    .dataframe tbody tr th:only-of-type {\n",
       "        vertical-align: middle;\n",
       "    }\n",
       "\n",
       "    .dataframe tbody tr th {\n",
       "        vertical-align: top;\n",
       "    }\n",
       "\n",
       "    .dataframe thead th {\n",
       "        text-align: right;\n",
       "    }\n",
       "</style>\n",
       "<table border=\"1\" class=\"dataframe\">\n",
       "  <thead>\n",
       "    <tr style=\"text-align: right;\">\n",
       "      <th></th>\n",
       "      <th>count</th>\n",
       "      <th>%</th>\n",
       "    </tr>\n",
       "  </thead>\n",
       "  <tbody>\n",
       "    <tr>\n",
       "      <th>0</th>\n",
       "      <td>137614</td>\n",
       "      <td>81.88</td>\n",
       "    </tr>\n",
       "    <tr>\n",
       "      <th>1</th>\n",
       "      <td>30456</td>\n",
       "      <td>18.12</td>\n",
       "    </tr>\n",
       "  </tbody>\n",
       "</table>\n",
       "</div>"
      ],
      "text/plain": [
       "    count      %\n",
       "0  137614  81.88\n",
       "1   30456  18.12"
      ]
     },
     "execution_count": 12,
     "metadata": {},
     "output_type": "execute_result"
    }
   ],
   "source": [
    "df['senior'] = np.where(df['age']>=65, 1, 0)\n",
    "check_unique('senior', df)"
   ]
  },
  {
   "cell_type": "code",
   "execution_count": 13,
   "metadata": {
    "ExecuteTime": {
     "end_time": "2021-04-04T17:03:22.918222Z",
     "start_time": "2021-04-04T17:03:21.969263Z"
    }
   },
   "outputs": [
    {
     "name": "stderr",
     "output_type": "stream",
     "text": [
      "/Users/maxsteele/opt/anaconda3/envs/learn-env/lib/python3.6/site-packages/ipykernel_launcher.py:12: UserWarning: FixedFormatter should only be used together with FixedLocator\n",
      "  if sys.path[0] == '':\n"
     ]
    },
    {
     "name": "stdout",
     "output_type": "stream",
     "text": [
      "[<matplotlib.lines.Line2D object at 0x7f853b3dd588>]\n"
     ]
    },
    {
     "data": {
      "image/png": "[encoded data removed]",
      "text/plain": [
       "<Figure size 720x504 with 1 Axes>"
      ]
     },
     "metadata": {
      "needs_background": "light"
     },
     "output_type": "display_data"
    }
   ],
   "source": [
    "plot_hist_highlight('age', df, 22, 65)\n",
    "plt.savefig('Figures/blog_bin_num_features/age_thresh', bbox_inches = \"tight\");"
   ]
  },
  {
   "cell_type": "code",
   "execution_count": 14,
   "metadata": {
    "ExecuteTime": {
     "end_time": "2021-04-04T17:03:23.276666Z",
     "start_time": "2021-04-04T17:03:22.956226Z"
    }
   },
   "outputs": [
    {
     "name": "stderr",
     "output_type": "stream",
     "text": [
      "/Users/maxsteele/opt/anaconda3/envs/learn-env/lib/python3.6/site-packages/ipykernel_launcher.py:12: UserWarning: FixedFormatter should only be used together with FixedLocator\n",
      "  if sys.path[0] == '':\n"
     ]
    },
    {
     "data": {
      "image/png": "[encoded data removed]",
      "text/plain": [
       "<Figure size 720x504 with 1 Axes>"
      ]
     },
     "metadata": {
      "needs_background": "light"
     },
     "output_type": "display_data"
    }
   ],
   "source": [
    "plot_hist('birth_year', df);"
   ]
  },
  {
   "cell_type": "code",
   "execution_count": 16,
   "metadata": {
    "ExecuteTime": {
     "end_time": "2021-04-04T17:33:53.727333Z",
     "start_time": "2021-04-04T17:33:53.719746Z"
    }
   },
   "outputs": [],
   "source": [
    "## Define function for grouping into generation categories by birth year\n",
    "def get_gen_grp(birth_year):\n",
    "    \n",
    "    if birth_year < 1946:\n",
    "        return 'Greatest-Silent'\n",
    "    \n",
    "    elif (birth_year > 1945) & (birth_year < 1965):\n",
    "        return 'Boomer'\n",
    "    \n",
    "    elif (birth_year > 1964) & (birth_year < 1981):\n",
    "        return 'GenX'\n",
    "    \n",
    "    elif (birth_year > 1980) & (birth_year < 1997):\n",
    "        return 'Millennial'\n",
    "    \n",
    "    elif birth_year > 1996:\n",
    "        return 'GenZ'\n",
    "    \n",
    "    else:\n",
    "        return 'Missing'"
   ]
  },
  {
   "cell_type": "code",
   "execution_count": 17,
   "metadata": {
    "ExecuteTime": {
     "end_time": "2021-04-04T17:33:54.053321Z",
     "start_time": "2021-04-04T17:33:53.975904Z"
    }
   },
   "outputs": [
    {
     "data": {
      "text/html": [
       "<div>\n",
       "<style scoped>\n",
       "    .dataframe tbody tr th:only-of-type {\n",
       "        vertical-align: middle;\n",
       "    }\n",
       "\n",
       "    .dataframe tbody tr th {\n",
       "        vertical-align: top;\n",
       "    }\n",
       "\n",
       "    .dataframe thead th {\n",
       "        text-align: right;\n",
       "    }\n",
       "</style>\n",
       "<table border=\"1\" class=\"dataframe\">\n",
       "  <thead>\n",
       "    <tr style=\"text-align: right;\">\n",
       "      <th></th>\n",
       "      <th>count</th>\n",
       "      <th>%</th>\n",
       "    </tr>\n",
       "  </thead>\n",
       "  <tbody>\n",
       "    <tr>\n",
       "      <th>GenX</th>\n",
       "      <td>53717</td>\n",
       "      <td>31.96</td>\n",
       "    </tr>\n",
       "    <tr>\n",
       "      <th>Boomer</th>\n",
       "      <td>44171</td>\n",
       "      <td>26.28</td>\n",
       "    </tr>\n",
       "    <tr>\n",
       "      <th>Millennial</th>\n",
       "      <td>38600</td>\n",
       "      <td>22.97</td>\n",
       "    </tr>\n",
       "    <tr>\n",
       "      <th>GenZ</th>\n",
       "      <td>19834</td>\n",
       "      <td>11.80</td>\n",
       "    </tr>\n",
       "    <tr>\n",
       "      <th>Greatest-Silent</th>\n",
       "      <td>11748</td>\n",
       "      <td>6.99</td>\n",
       "    </tr>\n",
       "  </tbody>\n",
       "</table>\n",
       "</div>"
      ],
      "text/plain": [
       "                 count      %\n",
       "GenX             53717  31.96\n",
       "Boomer           44171  26.28\n",
       "Millennial       38600  22.97\n",
       "GenZ             19834  11.80\n",
       "Greatest-Silent  11748   6.99"
      ]
     },
     "execution_count": 17,
     "metadata": {},
     "output_type": "execute_result"
    }
   ],
   "source": [
    "## Create a new column grouping birth_year into generations\n",
    "df['generation'] = df['birth_year'].apply(get_gen_grp)\n",
    "\n",
    "## Check distribution\n",
    "check_unique('generation', df)"
   ]
  },
  {
   "cell_type": "code",
   "execution_count": 18,
   "metadata": {
    "ExecuteTime": {
     "end_time": "2021-04-04T17:33:54.635437Z",
     "start_time": "2021-04-04T17:33:54.324687Z"
    }
   },
   "outputs": [
    {
     "data": {
      "image/png": "[encoded data removed]",
      "text/plain": [
       "<Figure size 576x432 with 1 Axes>"
      ]
     },
     "metadata": {
      "needs_background": "light"
     },
     "output_type": "display_data"
    }
   ],
   "source": [
    "plot_count('generation', df)\n",
    "plt.savefig('Figures/blog_bin_num_features/gen_grps', bbox_inches = \"tight\");"
   ]
  },
  {
   "cell_type": "code",
   "execution_count": 20,
   "metadata": {
    "ExecuteTime": {
     "end_time": "2021-04-04T17:59:03.007877Z",
     "start_time": "2021-04-04T17:59:02.976995Z"
    }
   },
   "outputs": [
    {
     "data": {
      "text/html": [
       "<div>\n",
       "<style scoped>\n",
       "    .dataframe tbody tr th:only-of-type {\n",
       "        vertical-align: middle;\n",
       "    }\n",
       "\n",
       "    .dataframe tbody tr th {\n",
       "        vertical-align: top;\n",
       "    }\n",
       "\n",
       "    .dataframe thead th {\n",
       "        text-align: right;\n",
       "    }\n",
       "</style>\n",
       "<table border=\"1\" class=\"dataframe\">\n",
       "  <thead>\n",
       "    <tr style=\"text-align: right;\">\n",
       "      <th></th>\n",
       "      <th>count</th>\n",
       "      <th>%</th>\n",
       "    </tr>\n",
       "  </thead>\n",
       "  <tbody>\n",
       "    <tr>\n",
       "      <th>GenX</th>\n",
       "      <td>53717</td>\n",
       "      <td>31.96</td>\n",
       "    </tr>\n",
       "    <tr>\n",
       "      <th>Boomer</th>\n",
       "      <td>44171</td>\n",
       "      <td>26.28</td>\n",
       "    </tr>\n",
       "    <tr>\n",
       "      <th>Millennial</th>\n",
       "      <td>38600</td>\n",
       "      <td>22.97</td>\n",
       "    </tr>\n",
       "    <tr>\n",
       "      <th>GenZ</th>\n",
       "      <td>19834</td>\n",
       "      <td>11.80</td>\n",
       "    </tr>\n",
       "    <tr>\n",
       "      <th>Greatest-Silent</th>\n",
       "      <td>11748</td>\n",
       "      <td>6.99</td>\n",
       "    </tr>\n",
       "  </tbody>\n",
       "</table>\n",
       "</div>"
      ],
      "text/plain": [
       "                 count      %\n",
       "GenX             53717  31.96\n",
       "Boomer           44171  26.28\n",
       "Millennial       38600  22.97\n",
       "GenZ             19834  11.80\n",
       "Greatest-Silent  11748   6.99"
      ]
     },
     "execution_count": 20,
     "metadata": {},
     "output_type": "execute_result"
    }
   ],
   "source": [
    "## Bin registered voters into generation groups using pd.cut\n",
    "# Define group labels\n",
    "cut_labels = ['Greatest-Silent', 'Boomer', 'GenX', 'Millennial', 'GenZ']\n",
    "\n",
    "# Define bin edges\n",
    "cut_bins = [0, 1945, 1964, 1980, 1996, 2100]\n",
    "\n",
    "# Create a new column grouping birth_year into generations\n",
    "df['cut_generation'] = pd.cut(df['birth_year'], bins=cut_bins, labels=cut_labels)\n",
    "\n",
    "## Check distribution\n",
    "check_unique('cut_generation', df)"
   ]
  },
  {
   "cell_type": "code",
   "execution_count": 21,
   "metadata": {
    "ExecuteTime": {
     "end_time": "2021-04-04T17:59:03.429182Z",
     "start_time": "2021-04-04T17:59:03.396955Z"
    }
   },
   "outputs": [
    {
     "data": {
      "text/html": [
       "<div>\n",
       "<style scoped>\n",
       "    .dataframe tbody tr th:only-of-type {\n",
       "        vertical-align: middle;\n",
       "    }\n",
       "\n",
       "    .dataframe tbody tr th {\n",
       "        vertical-align: top;\n",
       "    }\n",
       "\n",
       "    .dataframe thead th {\n",
       "        text-align: right;\n",
       "    }\n",
       "</style>\n",
       "<table border=\"1\" class=\"dataframe\">\n",
       "  <thead>\n",
       "    <tr style=\"text-align: right;\">\n",
       "      <th></th>\n",
       "      <th>count</th>\n",
       "      <th>%</th>\n",
       "    </tr>\n",
       "  </thead>\n",
       "  <tbody>\n",
       "    <tr>\n",
       "      <th>(40, 50]</th>\n",
       "      <td>33349</td>\n",
       "      <td>19.84</td>\n",
       "    </tr>\n",
       "    <tr>\n",
       "      <th>(50, 60]</th>\n",
       "      <td>32924</td>\n",
       "      <td>19.59</td>\n",
       "    </tr>\n",
       "    <tr>\n",
       "      <th>(20, 30]</th>\n",
       "      <td>26411</td>\n",
       "      <td>15.71</td>\n",
       "    </tr>\n",
       "    <tr>\n",
       "      <th>(30, 40]</th>\n",
       "      <td>24427</td>\n",
       "      <td>14.53</td>\n",
       "    </tr>\n",
       "    <tr>\n",
       "      <th>(60, 70]</th>\n",
       "      <td>21781</td>\n",
       "      <td>12.96</td>\n",
       "    </tr>\n",
       "    <tr>\n",
       "      <th>(70, 80]</th>\n",
       "      <td>13614</td>\n",
       "      <td>8.10</td>\n",
       "    </tr>\n",
       "    <tr>\n",
       "      <th>(10, 20]</th>\n",
       "      <td>10520</td>\n",
       "      <td>6.26</td>\n",
       "    </tr>\n",
       "    <tr>\n",
       "      <th>(80, 90]</th>\n",
       "      <td>4349</td>\n",
       "      <td>2.59</td>\n",
       "    </tr>\n",
       "    <tr>\n",
       "      <th>(90, 100]</th>\n",
       "      <td>681</td>\n",
       "      <td>0.41</td>\n",
       "    </tr>\n",
       "    <tr>\n",
       "      <th>(100, 110]</th>\n",
       "      <td>14</td>\n",
       "      <td>0.01</td>\n",
       "    </tr>\n",
       "  </tbody>\n",
       "</table>\n",
       "</div>"
      ],
      "text/plain": [
       "            count      %\n",
       "(40, 50]    33349  19.84\n",
       "(50, 60]    32924  19.59\n",
       "(20, 30]    26411  15.71\n",
       "(30, 40]    24427  14.53\n",
       "(60, 70]    21781  12.96\n",
       "(70, 80]    13614   8.10\n",
       "(10, 20]    10520   6.26\n",
       "(80, 90]     4349   2.59\n",
       "(90, 100]     681   0.41\n",
       "(100, 110]     14   0.01"
      ]
     },
     "execution_count": 21,
     "metadata": {},
     "output_type": "execute_result"
    }
   ],
   "source": [
    "## Bin registered voters into generation groups using pd.cut\n",
    "# Define bin edges\n",
    "cut_bins = [10, 20, 30, 40, 50 ,60 ,70, 80, 90, 100, 110]\n",
    "\n",
    "# Create a new column grouping birth_year into generations\n",
    "df['cut_age'] = pd.cut(df['age'], bins=cut_bins)\n",
    "\n",
    "## Check distribution\n",
    "check_unique('cut_age', df)"
   ]
  },
  {
   "cell_type": "code",
   "execution_count": 22,
   "metadata": {
    "ExecuteTime": {
     "end_time": "2021-04-04T17:59:03.762423Z",
     "start_time": "2021-04-04T17:59:03.756512Z"
    }
   },
   "outputs": [
    {
     "data": {
      "text/plain": [
       "array([ 10,  20,  30,  40,  50,  60,  70,  80,  90, 100, 110])"
      ]
     },
     "execution_count": 22,
     "metadata": {},
     "output_type": "execute_result"
    }
   ],
   "source": [
    "np.arange(10, 111, 10)"
   ]
  },
  {
   "cell_type": "code",
   "execution_count": 23,
   "metadata": {
    "ExecuteTime": {
     "end_time": "2021-04-04T17:59:04.255694Z",
     "start_time": "2021-04-04T17:59:04.227673Z"
    }
   },
   "outputs": [
    {
     "data": {
      "text/html": [
       "<div>\n",
       "<style scoped>\n",
       "    .dataframe tbody tr th:only-of-type {\n",
       "        vertical-align: middle;\n",
       "    }\n",
       "\n",
       "    .dataframe tbody tr th {\n",
       "        vertical-align: top;\n",
       "    }\n",
       "\n",
       "    .dataframe thead th {\n",
       "        text-align: right;\n",
       "    }\n",
       "</style>\n",
       "<table border=\"1\" class=\"dataframe\">\n",
       "  <thead>\n",
       "    <tr style=\"text-align: right;\">\n",
       "      <th></th>\n",
       "      <th>count</th>\n",
       "      <th>%</th>\n",
       "    </tr>\n",
       "  </thead>\n",
       "  <tbody>\n",
       "    <tr>\n",
       "      <th>40's</th>\n",
       "      <td>33349</td>\n",
       "      <td>19.84</td>\n",
       "    </tr>\n",
       "    <tr>\n",
       "      <th>50's</th>\n",
       "      <td>32924</td>\n",
       "      <td>19.59</td>\n",
       "    </tr>\n",
       "    <tr>\n",
       "      <th>20's</th>\n",
       "      <td>26411</td>\n",
       "      <td>15.71</td>\n",
       "    </tr>\n",
       "    <tr>\n",
       "      <th>30's</th>\n",
       "      <td>24427</td>\n",
       "      <td>14.53</td>\n",
       "    </tr>\n",
       "    <tr>\n",
       "      <th>60's</th>\n",
       "      <td>21781</td>\n",
       "      <td>12.96</td>\n",
       "    </tr>\n",
       "    <tr>\n",
       "      <th>70's</th>\n",
       "      <td>13614</td>\n",
       "      <td>8.10</td>\n",
       "    </tr>\n",
       "    <tr>\n",
       "      <th>Teens</th>\n",
       "      <td>10520</td>\n",
       "      <td>6.26</td>\n",
       "    </tr>\n",
       "    <tr>\n",
       "      <th>80's</th>\n",
       "      <td>4349</td>\n",
       "      <td>2.59</td>\n",
       "    </tr>\n",
       "    <tr>\n",
       "      <th>90's</th>\n",
       "      <td>681</td>\n",
       "      <td>0.41</td>\n",
       "    </tr>\n",
       "    <tr>\n",
       "      <th>100's</th>\n",
       "      <td>14</td>\n",
       "      <td>0.01</td>\n",
       "    </tr>\n",
       "  </tbody>\n",
       "</table>\n",
       "</div>"
      ],
      "text/plain": [
       "       count      %\n",
       "40's   33349  19.84\n",
       "50's   32924  19.59\n",
       "20's   26411  15.71\n",
       "30's   24427  14.53\n",
       "60's   21781  12.96\n",
       "70's   13614   8.10\n",
       "Teens  10520   6.26\n",
       "80's    4349   2.59\n",
       "90's     681   0.41\n",
       "100's     14   0.01"
      ]
     },
     "execution_count": 23,
     "metadata": {},
     "output_type": "execute_result"
    }
   ],
   "source": [
    "## Bin registered voters into generation groups using pd.cut\n",
    "# Define group labels\n",
    "cut_labels = ['Teens', \"20's\", \"30's\", \"40's\", \"50's\", \"60's\", \"70's\", \"80's\", \"90's\", \"100's\"]\n",
    "\n",
    "# Define bin edges\n",
    "cut_bins = np.arange(10, 111, 10)\n",
    "\n",
    "# Create a new column grouping birth_year into generations\n",
    "df['cut_age'] = pd.cut(df['age'], bins=cut_bins, labels=cut_labels)\n",
    "\n",
    "## Check distribution\n",
    "check_unique('cut_age', df)"
   ]
  },
  {
   "cell_type": "code",
   "execution_count": 24,
   "metadata": {
    "ExecuteTime": {
     "end_time": "2021-04-04T17:59:05.003762Z",
     "start_time": "2021-04-04T17:59:04.679905Z"
    },
    "scrolled": false
   },
   "outputs": [
    {
     "data": {
      "image/png": "[encoded data removed]",
      "text/plain": [
       "<Figure size 576x432 with 1 Axes>"
      ]
     },
     "metadata": {
      "needs_background": "light"
     },
     "output_type": "display_data"
    }
   ],
   "source": [
    "plot_count('cut_age', df)\n",
    "plt.savefig('Figures/blog_bin_num_features/decade_grps', bbox_inches = \"tight\");"
   ]
  },
  {
   "cell_type": "code",
   "execution_count": null,
   "metadata": {},
   "outputs": [],
   "source": []
  }
 ],
 "metadata": {
  "kernelspec": {
   "display_name": "learn-env",
   "language": "python",
   "name": "learn-env"
  },
  "language_info": {
   "codemirror_mode": {
    "name": "ipython",
    "version": 3
   },
   "file_extension": ".py",
   "mimetype": "text/x-python",
   "name": "python",
   "nbconvert_exporter": "python",
   "pygments_lexer": "ipython3",
   "version": "3.6.9"
  },
  "toc": {
   "base_numbering": 1,
   "nav_menu": {},
   "number_sections": true,
   "sideBar": true,
   "skip_h1_title": false,
   "title_cell": "Table of Contents",
   "title_sidebar": "Contents",
   "toc_cell": false,
   "toc_position": {},
   "toc_section_display": true,
   "toc_window_display": false
  }
 },
 "nbformat": 4,
 "nbformat_minor": 2
}
