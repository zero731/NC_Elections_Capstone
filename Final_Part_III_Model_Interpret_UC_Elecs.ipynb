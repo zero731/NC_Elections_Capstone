{
 "cells": [
  {
   "cell_type": "markdown",
   "metadata": {},
   "source": [
    "# Part III - Registered Voter Participation in Union County, NC\n",
    "\n",
    "## Model and Interpret Trends in Voter Participation for 2020, 2016, and 2012 General Elections"
   ]
  },
  {
   "cell_type": "markdown",
   "metadata": {},
   "source": [
    "<font size=3rem>\n",
    "    \n",
    "- **[OBTAIN](#OBTAIN)**<br>\n",
    "- **[MODEL](#MODEL)**<br>\n",
    "- **[INTERPRET](#INTERPRET)**<br>\n",
    "- **[Conclusions/Recommendations](#Conclusions/Recommendations)<br>**\n",
    "</font>"
   ]
  },
  {
   "cell_type": "markdown",
   "metadata": {},
   "source": [
    "# OBTAIN"
   ]
  },
  {
   "cell_type": "code",
   "execution_count": 1,
   "metadata": {
    "ExecuteTime": {
     "end_time": "2021-01-15T15:35:37.119503Z",
     "start_time": "2021-01-15T15:35:35.579915Z"
    }
   },
   "outputs": [],
   "source": [
    "## Import Numpy and set random seed for notebook\n",
    "import numpy as np\n",
    "np.random.seed(319)\n",
    "\n",
    "## Import functions made specifically for this project\n",
    "from capstone_functions import *\n",
    "import plotly_year_functions as pyy\n",
    "\n",
    "## Import remaining necessary libraries\n",
    "import pandas as pd\n",
    "import matplotlib.pyplot as plt\n",
    "%matplotlib inline\n",
    "import datetime as dt\n",
    "import plotly.express as px"
   ]
  },
  {
   "cell_type": "code",
   "execution_count": 2,
   "metadata": {
    "ExecuteTime": {
     "end_time": "2021-01-15T15:35:37.128353Z",
     "start_time": "2021-01-15T15:35:37.122866Z"
    }
   },
   "outputs": [],
   "source": [
    "## Set options for displaying Pandas DataFrames\n",
    "pd.options.display.max_columns = 50\n",
    "pd.options.display.max_rows = 100"
   ]
  },
  {
   "cell_type": "code",
   "execution_count": 3,
   "metadata": {
    "ExecuteTime": {
     "end_time": "2021-01-15T15:35:37.137331Z",
     "start_time": "2021-01-15T15:35:37.133827Z"
    }
   },
   "outputs": [],
   "source": [
    "## Whether or not to display all plotly figures\n",
    "show_plotly = False"
   ]
  },
  {
   "cell_type": "markdown",
   "metadata": {},
   "source": [
    "## Obtain 2020 Election"
   ]
  },
  {
   "cell_type": "code",
   "execution_count": 4,
   "metadata": {
    "ExecuteTime": {
     "end_time": "2021-01-15T15:35:38.571428Z",
     "start_time": "2021-01-15T15:35:37.140646Z"
    },
    "code_folding": []
   },
   "outputs": [
    {
     "data": {
      "text/html": [
       "<div>\n",
       "<style scoped>\n",
       "    .dataframe tbody tr th:only-of-type {\n",
       "        vertical-align: middle;\n",
       "    }\n",
       "\n",
       "    .dataframe tbody tr th {\n",
       "        vertical-align: top;\n",
       "    }\n",
       "\n",
       "    .dataframe thead th {\n",
       "        text-align: right;\n",
       "    }\n",
       "</style>\n",
       "<table border=\"1\" class=\"dataframe\">\n",
       "  <thead>\n",
       "    <tr style=\"text-align: right;\">\n",
       "      <th></th>\n",
       "      <th>ncid</th>\n",
       "      <th>no_vote_his</th>\n",
       "      <th>birth_age_adj</th>\n",
       "      <th>voting_method</th>\n",
       "      <th>Gen_2020</th>\n",
       "      <th>vote_early</th>\n",
       "      <th>vote_by_mail</th>\n",
       "      <th>vote_curbside</th>\n",
       "      <th>Pri_2020</th>\n",
       "      <th>party_cd</th>\n",
       "      <th>gender_code</th>\n",
       "      <th>birth_year</th>\n",
       "      <th>registr_dt</th>\n",
       "      <th>race_code</th>\n",
       "      <th>ethnic_code</th>\n",
       "      <th>zip_code</th>\n",
       "      <th>res_street_address</th>\n",
       "      <th>res_city_desc</th>\n",
       "      <th>birth_state</th>\n",
       "      <th>drivers_lic</th>\n",
       "      <th>precinct_abbrv</th>\n",
       "      <th>vtd_abbrv</th>\n",
       "      <th>cong_dist_abbrv</th>\n",
       "      <th>super_court_abbrv</th>\n",
       "      <th>judic_dist_abbrv</th>\n",
       "      <th>nc_senate_abbrv</th>\n",
       "      <th>nc_house_abbrv</th>\n",
       "      <th>school_dist_abbrv</th>\n",
       "      <th>drivers_lic_bin</th>\n",
       "      <th>vote_cat</th>\n",
       "      <th>Gen_2020_binary</th>\n",
       "      <th>Pri_2020_binary</th>\n",
       "      <th>party_grp</th>\n",
       "      <th>race_grp</th>\n",
       "      <th>city_grp</th>\n",
       "      <th>birth_reg_other</th>\n",
       "      <th>generation</th>\n",
       "      <th>gen_grp</th>\n",
       "    </tr>\n",
       "  </thead>\n",
       "  <tbody>\n",
       "    <tr>\n",
       "      <th>0</th>\n",
       "      <td>AA100547</td>\n",
       "      <td>0</td>\n",
       "      <td>65.0</td>\n",
       "      <td>ABSENTEE ONESTOP</td>\n",
       "      <td>Early</td>\n",
       "      <td>1.0</td>\n",
       "      <td>0.0</td>\n",
       "      <td>0.0</td>\n",
       "      <td>Election Day</td>\n",
       "      <td>REP</td>\n",
       "      <td>M</td>\n",
       "      <td>1955</td>\n",
       "      <td>2014-03-31</td>\n",
       "      <td>W</td>\n",
       "      <td>UN</td>\n",
       "      <td>28079.0</td>\n",
       "      <td>5514  BEVERLY DR</td>\n",
       "      <td>INDIAN TRAIL</td>\n",
       "      <td>NC</td>\n",
       "      <td>Y</td>\n",
       "      <td>016</td>\n",
       "      <td>016</td>\n",
       "      <td>9.0</td>\n",
       "      <td>20B</td>\n",
       "      <td>20C</td>\n",
       "      <td>35.0</td>\n",
       "      <td>69.0</td>\n",
       "      <td>4.0</td>\n",
       "      <td>1</td>\n",
       "      <td>Early</td>\n",
       "      <td>1</td>\n",
       "      <td>1</td>\n",
       "      <td>Rep</td>\n",
       "      <td>White</td>\n",
       "      <td>Indian Trail</td>\n",
       "      <td>South</td>\n",
       "      <td>Boomer</td>\n",
       "      <td>Boomer</td>\n",
       "    </tr>\n",
       "    <tr>\n",
       "      <th>1</th>\n",
       "      <td>AA108801</td>\n",
       "      <td>0</td>\n",
       "      <td>57.0</td>\n",
       "      <td>No Vote</td>\n",
       "      <td>No Vote</td>\n",
       "      <td>0.0</td>\n",
       "      <td>0.0</td>\n",
       "      <td>0.0</td>\n",
       "      <td>No Vote</td>\n",
       "      <td>UNA</td>\n",
       "      <td>M</td>\n",
       "      <td>1963</td>\n",
       "      <td>2016-11-04</td>\n",
       "      <td>W</td>\n",
       "      <td>NL</td>\n",
       "      <td>28173.0</td>\n",
       "      <td>4221  OXFORD MILL RD</td>\n",
       "      <td>WAXHAW</td>\n",
       "      <td>MA</td>\n",
       "      <td>Y</td>\n",
       "      <td>020B</td>\n",
       "      <td>020B</td>\n",
       "      <td>9.0</td>\n",
       "      <td>20B</td>\n",
       "      <td>20C</td>\n",
       "      <td>35.0</td>\n",
       "      <td>68.0</td>\n",
       "      <td>6.0</td>\n",
       "      <td>1</td>\n",
       "      <td>No Vote</td>\n",
       "      <td>0</td>\n",
       "      <td>0</td>\n",
       "      <td>Other</td>\n",
       "      <td>White</td>\n",
       "      <td>Waxhaw</td>\n",
       "      <td>Northeast</td>\n",
       "      <td>Boomer</td>\n",
       "      <td>Boomer</td>\n",
       "    </tr>\n",
       "    <tr>\n",
       "      <th>2</th>\n",
       "      <td>AA109481</td>\n",
       "      <td>0</td>\n",
       "      <td>47.0</td>\n",
       "      <td>ABSENTEE ONESTOP</td>\n",
       "      <td>Early</td>\n",
       "      <td>1.0</td>\n",
       "      <td>0.0</td>\n",
       "      <td>0.0</td>\n",
       "      <td>No Vote</td>\n",
       "      <td>DEM</td>\n",
       "      <td>F</td>\n",
       "      <td>1973</td>\n",
       "      <td>2020-03-19</td>\n",
       "      <td>W</td>\n",
       "      <td>NL</td>\n",
       "      <td>28173.0</td>\n",
       "      <td>1013  LYDNEY CIR</td>\n",
       "      <td>WAXHAW</td>\n",
       "      <td>MN</td>\n",
       "      <td>Y</td>\n",
       "      <td>020A</td>\n",
       "      <td>020A</td>\n",
       "      <td>9.0</td>\n",
       "      <td>20B</td>\n",
       "      <td>20C</td>\n",
       "      <td>35.0</td>\n",
       "      <td>68.0</td>\n",
       "      <td>2.0</td>\n",
       "      <td>1</td>\n",
       "      <td>Early</td>\n",
       "      <td>1</td>\n",
       "      <td>0</td>\n",
       "      <td>Dem</td>\n",
       "      <td>White</td>\n",
       "      <td>Waxhaw</td>\n",
       "      <td>Midwest</td>\n",
       "      <td>GenX</td>\n",
       "      <td>GenX</td>\n",
       "    </tr>\n",
       "    <tr>\n",
       "      <th>3</th>\n",
       "      <td>AA112504</td>\n",
       "      <td>0</td>\n",
       "      <td>72.0</td>\n",
       "      <td>No Vote</td>\n",
       "      <td>No Vote</td>\n",
       "      <td>0.0</td>\n",
       "      <td>0.0</td>\n",
       "      <td>0.0</td>\n",
       "      <td>No Vote</td>\n",
       "      <td>REP</td>\n",
       "      <td>F</td>\n",
       "      <td>1948</td>\n",
       "      <td>2012-10-26</td>\n",
       "      <td>W</td>\n",
       "      <td>NL</td>\n",
       "      <td>28112.0</td>\n",
       "      <td>4325  WOLF POND RD</td>\n",
       "      <td>MONROE</td>\n",
       "      <td>NY</td>\n",
       "      <td>Y</td>\n",
       "      <td>024</td>\n",
       "      <td>024</td>\n",
       "      <td>9.0</td>\n",
       "      <td>20B</td>\n",
       "      <td>20C</td>\n",
       "      <td>35.0</td>\n",
       "      <td>55.0</td>\n",
       "      <td>2.0</td>\n",
       "      <td>1</td>\n",
       "      <td>No Vote</td>\n",
       "      <td>0</td>\n",
       "      <td>0</td>\n",
       "      <td>Rep</td>\n",
       "      <td>White</td>\n",
       "      <td>Monroe</td>\n",
       "      <td>Northeast</td>\n",
       "      <td>Boomer</td>\n",
       "      <td>Boomer</td>\n",
       "    </tr>\n",
       "    <tr>\n",
       "      <th>4</th>\n",
       "      <td>AA114763</td>\n",
       "      <td>0</td>\n",
       "      <td>53.0</td>\n",
       "      <td>ABSENTEE ONESTOP</td>\n",
       "      <td>Early</td>\n",
       "      <td>1.0</td>\n",
       "      <td>0.0</td>\n",
       "      <td>0.0</td>\n",
       "      <td>Election Day</td>\n",
       "      <td>DEM</td>\n",
       "      <td>F</td>\n",
       "      <td>1967</td>\n",
       "      <td>2012-08-13</td>\n",
       "      <td>B</td>\n",
       "      <td>UN</td>\n",
       "      <td>28104.0</td>\n",
       "      <td>4002  LAWRENCE DANIEL DR</td>\n",
       "      <td>MATTHEWS</td>\n",
       "      <td>NC</td>\n",
       "      <td>Y</td>\n",
       "      <td>037A</td>\n",
       "      <td>037A</td>\n",
       "      <td>9.0</td>\n",
       "      <td>20B</td>\n",
       "      <td>20C</td>\n",
       "      <td>35.0</td>\n",
       "      <td>69.0</td>\n",
       "      <td>5.0</td>\n",
       "      <td>1</td>\n",
       "      <td>Early</td>\n",
       "      <td>1</td>\n",
       "      <td>1</td>\n",
       "      <td>Dem</td>\n",
       "      <td>Black</td>\n",
       "      <td>Matthews</td>\n",
       "      <td>South</td>\n",
       "      <td>GenX</td>\n",
       "      <td>GenX</td>\n",
       "    </tr>\n",
       "  </tbody>\n",
       "</table>\n",
       "</div>"
      ],
      "text/plain": [
       "       ncid  no_vote_his  birth_age_adj     voting_method Gen_2020  \\\n",
       "0  AA100547            0           65.0  ABSENTEE ONESTOP    Early   \n",
       "1  AA108801            0           57.0           No Vote  No Vote   \n",
       "2  AA109481            0           47.0  ABSENTEE ONESTOP    Early   \n",
       "3  AA112504            0           72.0           No Vote  No Vote   \n",
       "4  AA114763            0           53.0  ABSENTEE ONESTOP    Early   \n",
       "\n",
       "   vote_early  vote_by_mail  vote_curbside      Pri_2020 party_cd gender_code  \\\n",
       "0         1.0           0.0            0.0  Election Day      REP           M   \n",
       "1         0.0           0.0            0.0       No Vote      UNA           M   \n",
       "2         1.0           0.0            0.0       No Vote      DEM           F   \n",
       "3         0.0           0.0            0.0       No Vote      REP           F   \n",
       "4         1.0           0.0            0.0  Election Day      DEM           F   \n",
       "\n",
       "   birth_year  registr_dt race_code ethnic_code  zip_code  \\\n",
       "0        1955  2014-03-31         W          UN   28079.0   \n",
       "1        1963  2016-11-04         W          NL   28173.0   \n",
       "2        1973  2020-03-19         W          NL   28173.0   \n",
       "3        1948  2012-10-26         W          NL   28112.0   \n",
       "4        1967  2012-08-13         B          UN   28104.0   \n",
       "\n",
       "            res_street_address res_city_desc birth_state drivers_lic  \\\n",
       "0          5514  BEVERLY DR     INDIAN TRAIL          NC           Y   \n",
       "1      4221  OXFORD MILL RD           WAXHAW          MA           Y   \n",
       "2          1013  LYDNEY CIR           WAXHAW          MN           Y   \n",
       "3        4325  WOLF POND RD           MONROE          NY           Y   \n",
       "4  4002  LAWRENCE DANIEL DR         MATTHEWS          NC           Y   \n",
       "\n",
       "  precinct_abbrv vtd_abbrv  cong_dist_abbrv super_court_abbrv  \\\n",
       "0            016       016              9.0               20B   \n",
       "1           020B      020B              9.0               20B   \n",
       "2           020A      020A              9.0               20B   \n",
       "3            024       024              9.0               20B   \n",
       "4           037A      037A              9.0               20B   \n",
       "\n",
       "  judic_dist_abbrv  nc_senate_abbrv  nc_house_abbrv  school_dist_abbrv  \\\n",
       "0              20C             35.0            69.0                4.0   \n",
       "1              20C             35.0            68.0                6.0   \n",
       "2              20C             35.0            68.0                2.0   \n",
       "3              20C             35.0            55.0                2.0   \n",
       "4              20C             35.0            69.0                5.0   \n",
       "\n",
       "   drivers_lic_bin vote_cat  Gen_2020_binary  Pri_2020_binary party_grp  \\\n",
       "0                1    Early                1                1       Rep   \n",
       "1                1  No Vote                0                0     Other   \n",
       "2                1    Early                1                0       Dem   \n",
       "3                1  No Vote                0                0       Rep   \n",
       "4                1    Early                1                1       Dem   \n",
       "\n",
       "  race_grp      city_grp birth_reg_other generation gen_grp  \n",
       "0    White  Indian Trail           South     Boomer  Boomer  \n",
       "1    White        Waxhaw       Northeast     Boomer  Boomer  \n",
       "2    White        Waxhaw         Midwest       GenX    GenX  \n",
       "3    White        Monroe       Northeast     Boomer  Boomer  \n",
       "4    Black      Matthews           South       GenX    GenX  "
      ]
     },
     "execution_count": 4,
     "metadata": {},
     "output_type": "execute_result"
    }
   ],
   "source": [
    "## Import and preview dataset\n",
    "elec_2020_df = pd.read_csv('Data/UC_gen_2020_clean.gz',\n",
    "                     dtype={'precinct_abbrv': str, \n",
    "                            'vtd_abbrv': str\n",
    "                             })\n",
    "elec_2020_df.head()"
   ]
  },
  {
   "cell_type": "markdown",
   "metadata": {},
   "source": [
    "## Obtain 2016 Election"
   ]
  },
  {
   "cell_type": "code",
   "execution_count": 5,
   "metadata": {
    "ExecuteTime": {
     "end_time": "2021-01-15T15:35:39.531716Z",
     "start_time": "2021-01-15T15:35:38.574751Z"
    }
   },
   "outputs": [
    {
     "data": {
      "text/html": [
       "<div>\n",
       "<style scoped>\n",
       "    .dataframe tbody tr th:only-of-type {\n",
       "        vertical-align: middle;\n",
       "    }\n",
       "\n",
       "    .dataframe tbody tr th {\n",
       "        vertical-align: top;\n",
       "    }\n",
       "\n",
       "    .dataframe thead th {\n",
       "        text-align: right;\n",
       "    }\n",
       "</style>\n",
       "<table border=\"1\" class=\"dataframe\">\n",
       "  <thead>\n",
       "    <tr style=\"text-align: right;\">\n",
       "      <th></th>\n",
       "      <th>ncid</th>\n",
       "      <th>no_vote_his</th>\n",
       "      <th>birth_age_adj</th>\n",
       "      <th>voting_method</th>\n",
       "      <th>Gen_2016</th>\n",
       "      <th>vote_early</th>\n",
       "      <th>vote_by_mail</th>\n",
       "      <th>vote_curbside</th>\n",
       "      <th>Pri_2016</th>\n",
       "      <th>party_cd</th>\n",
       "      <th>gender_code</th>\n",
       "      <th>birth_year</th>\n",
       "      <th>registr_dt</th>\n",
       "      <th>race_code</th>\n",
       "      <th>ethnic_code</th>\n",
       "      <th>zip_code</th>\n",
       "      <th>res_street_address</th>\n",
       "      <th>res_city_desc</th>\n",
       "      <th>birth_state</th>\n",
       "      <th>drivers_lic</th>\n",
       "      <th>precinct_abbrv</th>\n",
       "      <th>vtd_abbrv</th>\n",
       "      <th>cong_dist_abbrv</th>\n",
       "      <th>super_court_abbrv</th>\n",
       "      <th>judic_dist_abbrv</th>\n",
       "      <th>nc_senate_abbrv</th>\n",
       "      <th>nc_house_abbrv</th>\n",
       "      <th>school_dist_abbrv</th>\n",
       "      <th>drivers_lic_bin</th>\n",
       "      <th>vote_cat</th>\n",
       "      <th>Gen_2016_binary</th>\n",
       "      <th>Pri_2016_binary</th>\n",
       "      <th>party_grp</th>\n",
       "      <th>race_grp</th>\n",
       "      <th>city_grp</th>\n",
       "      <th>birth_reg_other</th>\n",
       "      <th>generation</th>\n",
       "      <th>gen_grp</th>\n",
       "    </tr>\n",
       "  </thead>\n",
       "  <tbody>\n",
       "    <tr>\n",
       "      <th>0</th>\n",
       "      <td>AA100547</td>\n",
       "      <td>0</td>\n",
       "      <td>61.0</td>\n",
       "      <td>ABSENTEE ONESTOP</td>\n",
       "      <td>Early</td>\n",
       "      <td>1.0</td>\n",
       "      <td>0.0</td>\n",
       "      <td>0.0</td>\n",
       "      <td>No Vote</td>\n",
       "      <td>REP</td>\n",
       "      <td>M</td>\n",
       "      <td>1955</td>\n",
       "      <td>2014-03-31</td>\n",
       "      <td>W</td>\n",
       "      <td>UN</td>\n",
       "      <td>28079.0</td>\n",
       "      <td>5514  BEVERLY DR</td>\n",
       "      <td>INDIAN TRAIL</td>\n",
       "      <td>NC</td>\n",
       "      <td>Y</td>\n",
       "      <td>016</td>\n",
       "      <td>016</td>\n",
       "      <td>9.0</td>\n",
       "      <td>20B</td>\n",
       "      <td>20C</td>\n",
       "      <td>35.0</td>\n",
       "      <td>69.0</td>\n",
       "      <td>4.0</td>\n",
       "      <td>1</td>\n",
       "      <td>Early</td>\n",
       "      <td>1</td>\n",
       "      <td>0</td>\n",
       "      <td>Rep</td>\n",
       "      <td>White</td>\n",
       "      <td>Indian Trail</td>\n",
       "      <td>South</td>\n",
       "      <td>Boomer</td>\n",
       "      <td>Boomer</td>\n",
       "    </tr>\n",
       "    <tr>\n",
       "      <th>1</th>\n",
       "      <td>AA108801</td>\n",
       "      <td>0</td>\n",
       "      <td>53.0</td>\n",
       "      <td>ABSENTEE ONESTOP</td>\n",
       "      <td>Early</td>\n",
       "      <td>1.0</td>\n",
       "      <td>0.0</td>\n",
       "      <td>0.0</td>\n",
       "      <td>No Vote</td>\n",
       "      <td>UNA</td>\n",
       "      <td>M</td>\n",
       "      <td>1963</td>\n",
       "      <td>2016-11-04</td>\n",
       "      <td>W</td>\n",
       "      <td>NL</td>\n",
       "      <td>28173.0</td>\n",
       "      <td>4221  OXFORD MILL RD</td>\n",
       "      <td>WAXHAW</td>\n",
       "      <td>MA</td>\n",
       "      <td>Y</td>\n",
       "      <td>020B</td>\n",
       "      <td>020B</td>\n",
       "      <td>9.0</td>\n",
       "      <td>20B</td>\n",
       "      <td>20C</td>\n",
       "      <td>35.0</td>\n",
       "      <td>68.0</td>\n",
       "      <td>6.0</td>\n",
       "      <td>1</td>\n",
       "      <td>Early</td>\n",
       "      <td>1</td>\n",
       "      <td>0</td>\n",
       "      <td>Other</td>\n",
       "      <td>White</td>\n",
       "      <td>Waxhaw</td>\n",
       "      <td>Northeast</td>\n",
       "      <td>Boomer</td>\n",
       "      <td>Boomer</td>\n",
       "    </tr>\n",
       "    <tr>\n",
       "      <th>2</th>\n",
       "      <td>AA112504</td>\n",
       "      <td>0</td>\n",
       "      <td>68.0</td>\n",
       "      <td>ABSENTEE ONESTOP</td>\n",
       "      <td>Early</td>\n",
       "      <td>1.0</td>\n",
       "      <td>0.0</td>\n",
       "      <td>0.0</td>\n",
       "      <td>No Vote</td>\n",
       "      <td>REP</td>\n",
       "      <td>F</td>\n",
       "      <td>1948</td>\n",
       "      <td>2012-10-26</td>\n",
       "      <td>W</td>\n",
       "      <td>NL</td>\n",
       "      <td>28112.0</td>\n",
       "      <td>4325  WOLF POND RD</td>\n",
       "      <td>MONROE</td>\n",
       "      <td>NY</td>\n",
       "      <td>Y</td>\n",
       "      <td>024</td>\n",
       "      <td>024</td>\n",
       "      <td>9.0</td>\n",
       "      <td>20B</td>\n",
       "      <td>20C</td>\n",
       "      <td>35.0</td>\n",
       "      <td>55.0</td>\n",
       "      <td>2.0</td>\n",
       "      <td>1</td>\n",
       "      <td>Early</td>\n",
       "      <td>1</td>\n",
       "      <td>0</td>\n",
       "      <td>Rep</td>\n",
       "      <td>White</td>\n",
       "      <td>Monroe</td>\n",
       "      <td>Northeast</td>\n",
       "      <td>Boomer</td>\n",
       "      <td>Boomer</td>\n",
       "    </tr>\n",
       "    <tr>\n",
       "      <th>3</th>\n",
       "      <td>AA114763</td>\n",
       "      <td>0</td>\n",
       "      <td>49.0</td>\n",
       "      <td>ABSENTEE ONESTOP</td>\n",
       "      <td>Early</td>\n",
       "      <td>1.0</td>\n",
       "      <td>0.0</td>\n",
       "      <td>0.0</td>\n",
       "      <td>Election Day</td>\n",
       "      <td>DEM</td>\n",
       "      <td>F</td>\n",
       "      <td>1967</td>\n",
       "      <td>2012-08-13</td>\n",
       "      <td>B</td>\n",
       "      <td>UN</td>\n",
       "      <td>28104.0</td>\n",
       "      <td>4002  LAWRENCE DANIEL DR</td>\n",
       "      <td>MATTHEWS</td>\n",
       "      <td>NC</td>\n",
       "      <td>Y</td>\n",
       "      <td>037A</td>\n",
       "      <td>037A</td>\n",
       "      <td>9.0</td>\n",
       "      <td>20B</td>\n",
       "      <td>20C</td>\n",
       "      <td>35.0</td>\n",
       "      <td>69.0</td>\n",
       "      <td>5.0</td>\n",
       "      <td>1</td>\n",
       "      <td>Early</td>\n",
       "      <td>1</td>\n",
       "      <td>1</td>\n",
       "      <td>Dem</td>\n",
       "      <td>Black</td>\n",
       "      <td>Matthews</td>\n",
       "      <td>South</td>\n",
       "      <td>GenX</td>\n",
       "      <td>GenX</td>\n",
       "    </tr>\n",
       "    <tr>\n",
       "      <th>4</th>\n",
       "      <td>AA118202</td>\n",
       "      <td>0</td>\n",
       "      <td>44.0</td>\n",
       "      <td>ABSENTEE ONESTOP</td>\n",
       "      <td>Early</td>\n",
       "      <td>1.0</td>\n",
       "      <td>0.0</td>\n",
       "      <td>0.0</td>\n",
       "      <td>No Vote</td>\n",
       "      <td>DEM</td>\n",
       "      <td>M</td>\n",
       "      <td>1972</td>\n",
       "      <td>2006-04-12</td>\n",
       "      <td>W</td>\n",
       "      <td>UN</td>\n",
       "      <td>28079.0</td>\n",
       "      <td>7006  CONIFER CIR</td>\n",
       "      <td>INDIAN TRAIL</td>\n",
       "      <td>CT</td>\n",
       "      <td>Y</td>\n",
       "      <td>038B</td>\n",
       "      <td>038B</td>\n",
       "      <td>9.0</td>\n",
       "      <td>20B</td>\n",
       "      <td>20C</td>\n",
       "      <td>35.0</td>\n",
       "      <td>69.0</td>\n",
       "      <td>4.0</td>\n",
       "      <td>1</td>\n",
       "      <td>Early</td>\n",
       "      <td>1</td>\n",
       "      <td>0</td>\n",
       "      <td>Dem</td>\n",
       "      <td>White</td>\n",
       "      <td>Indian Trail</td>\n",
       "      <td>Northeast</td>\n",
       "      <td>GenX</td>\n",
       "      <td>GenX</td>\n",
       "    </tr>\n",
       "  </tbody>\n",
       "</table>\n",
       "</div>"
      ],
      "text/plain": [
       "       ncid  no_vote_his  birth_age_adj     voting_method Gen_2016  \\\n",
       "0  AA100547            0           61.0  ABSENTEE ONESTOP    Early   \n",
       "1  AA108801            0           53.0  ABSENTEE ONESTOP    Early   \n",
       "2  AA112504            0           68.0  ABSENTEE ONESTOP    Early   \n",
       "3  AA114763            0           49.0  ABSENTEE ONESTOP    Early   \n",
       "4  AA118202            0           44.0  ABSENTEE ONESTOP    Early   \n",
       "\n",
       "   vote_early  vote_by_mail  vote_curbside      Pri_2016 party_cd gender_code  \\\n",
       "0         1.0           0.0            0.0       No Vote      REP           M   \n",
       "1         1.0           0.0            0.0       No Vote      UNA           M   \n",
       "2         1.0           0.0            0.0       No Vote      REP           F   \n",
       "3         1.0           0.0            0.0  Election Day      DEM           F   \n",
       "4         1.0           0.0            0.0       No Vote      DEM           M   \n",
       "\n",
       "   birth_year  registr_dt race_code ethnic_code  zip_code  \\\n",
       "0        1955  2014-03-31         W          UN   28079.0   \n",
       "1        1963  2016-11-04         W          NL   28173.0   \n",
       "2        1948  2012-10-26         W          NL   28112.0   \n",
       "3        1967  2012-08-13         B          UN   28104.0   \n",
       "4        1972  2006-04-12         W          UN   28079.0   \n",
       "\n",
       "            res_street_address res_city_desc birth_state drivers_lic  \\\n",
       "0          5514  BEVERLY DR     INDIAN TRAIL          NC           Y   \n",
       "1      4221  OXFORD MILL RD           WAXHAW          MA           Y   \n",
       "2        4325  WOLF POND RD           MONROE          NY           Y   \n",
       "3  4002  LAWRENCE DANIEL DR         MATTHEWS          NC           Y   \n",
       "4         7006  CONIFER CIR     INDIAN TRAIL          CT           Y   \n",
       "\n",
       "  precinct_abbrv vtd_abbrv  cong_dist_abbrv super_court_abbrv  \\\n",
       "0            016       016              9.0               20B   \n",
       "1           020B      020B              9.0               20B   \n",
       "2            024       024              9.0               20B   \n",
       "3           037A      037A              9.0               20B   \n",
       "4           038B      038B              9.0               20B   \n",
       "\n",
       "  judic_dist_abbrv  nc_senate_abbrv  nc_house_abbrv  school_dist_abbrv  \\\n",
       "0              20C             35.0            69.0                4.0   \n",
       "1              20C             35.0            68.0                6.0   \n",
       "2              20C             35.0            55.0                2.0   \n",
       "3              20C             35.0            69.0                5.0   \n",
       "4              20C             35.0            69.0                4.0   \n",
       "\n",
       "   drivers_lic_bin vote_cat  Gen_2016_binary  Pri_2016_binary party_grp  \\\n",
       "0                1    Early                1                0       Rep   \n",
       "1                1    Early                1                0     Other   \n",
       "2                1    Early                1                0       Rep   \n",
       "3                1    Early                1                1       Dem   \n",
       "4                1    Early                1                0       Dem   \n",
       "\n",
       "  race_grp      city_grp birth_reg_other generation gen_grp  \n",
       "0    White  Indian Trail           South     Boomer  Boomer  \n",
       "1    White        Waxhaw       Northeast     Boomer  Boomer  \n",
       "2    White        Monroe       Northeast     Boomer  Boomer  \n",
       "3    Black      Matthews           South       GenX    GenX  \n",
       "4    White  Indian Trail       Northeast       GenX    GenX  "
      ]
     },
     "execution_count": 5,
     "metadata": {},
     "output_type": "execute_result"
    }
   ],
   "source": [
    "## Import and preview dataset\n",
    "elec_2016_df = pd.read_csv('Data/UC_gen_2016_clean.gz',\n",
    "                     dtype={'precinct_abbrv': str, \n",
    "                            'vtd_abbrv': str\n",
    "                             })\n",
    "elec_2016_df.head()"
   ]
  },
  {
   "cell_type": "markdown",
   "metadata": {},
   "source": [
    "## Obtain 2012 Election"
   ]
  },
  {
   "cell_type": "code",
   "execution_count": 6,
   "metadata": {
    "ExecuteTime": {
     "end_time": "2021-01-15T15:35:40.291783Z",
     "start_time": "2021-01-15T15:35:39.534190Z"
    }
   },
   "outputs": [
    {
     "data": {
      "text/html": [
       "<div>\n",
       "<style scoped>\n",
       "    .dataframe tbody tr th:only-of-type {\n",
       "        vertical-align: middle;\n",
       "    }\n",
       "\n",
       "    .dataframe tbody tr th {\n",
       "        vertical-align: top;\n",
       "    }\n",
       "\n",
       "    .dataframe thead th {\n",
       "        text-align: right;\n",
       "    }\n",
       "</style>\n",
       "<table border=\"1\" class=\"dataframe\">\n",
       "  <thead>\n",
       "    <tr style=\"text-align: right;\">\n",
       "      <th></th>\n",
       "      <th>ncid</th>\n",
       "      <th>no_vote_his</th>\n",
       "      <th>birth_age_adj</th>\n",
       "      <th>voting_method</th>\n",
       "      <th>Gen_2012</th>\n",
       "      <th>vote_early</th>\n",
       "      <th>vote_by_mail</th>\n",
       "      <th>vote_curbside</th>\n",
       "      <th>Pri_2012</th>\n",
       "      <th>party_cd</th>\n",
       "      <th>gender_code</th>\n",
       "      <th>birth_year</th>\n",
       "      <th>registr_dt</th>\n",
       "      <th>race_code</th>\n",
       "      <th>ethnic_code</th>\n",
       "      <th>zip_code</th>\n",
       "      <th>res_street_address</th>\n",
       "      <th>res_city_desc</th>\n",
       "      <th>birth_state</th>\n",
       "      <th>drivers_lic</th>\n",
       "      <th>precinct_abbrv</th>\n",
       "      <th>vtd_abbrv</th>\n",
       "      <th>cong_dist_abbrv</th>\n",
       "      <th>super_court_abbrv</th>\n",
       "      <th>judic_dist_abbrv</th>\n",
       "      <th>nc_senate_abbrv</th>\n",
       "      <th>nc_house_abbrv</th>\n",
       "      <th>school_dist_abbrv</th>\n",
       "      <th>drivers_lic_bin</th>\n",
       "      <th>vote_cat</th>\n",
       "      <th>Gen_2012_binary</th>\n",
       "      <th>Pri_2012_binary</th>\n",
       "      <th>party_grp</th>\n",
       "      <th>race_grp</th>\n",
       "      <th>city_grp</th>\n",
       "      <th>birth_reg_other</th>\n",
       "      <th>generation</th>\n",
       "      <th>gen_grp</th>\n",
       "    </tr>\n",
       "  </thead>\n",
       "  <tbody>\n",
       "    <tr>\n",
       "      <th>0</th>\n",
       "      <td>AA109481</td>\n",
       "      <td>0</td>\n",
       "      <td>39.0</td>\n",
       "      <td>ABSENTEE ONESTOP</td>\n",
       "      <td>Early</td>\n",
       "      <td>1.0</td>\n",
       "      <td>0.0</td>\n",
       "      <td>0.0</td>\n",
       "      <td>Election Day</td>\n",
       "      <td>DEM</td>\n",
       "      <td>F</td>\n",
       "      <td>1973</td>\n",
       "      <td>2020-03-19</td>\n",
       "      <td>W</td>\n",
       "      <td>NL</td>\n",
       "      <td>28173.0</td>\n",
       "      <td>1013  LYDNEY CIR</td>\n",
       "      <td>WAXHAW</td>\n",
       "      <td>MN</td>\n",
       "      <td>Y</td>\n",
       "      <td>020A</td>\n",
       "      <td>020A</td>\n",
       "      <td>9.0</td>\n",
       "      <td>20B</td>\n",
       "      <td>20C</td>\n",
       "      <td>35.0</td>\n",
       "      <td>68.0</td>\n",
       "      <td>2.0</td>\n",
       "      <td>1</td>\n",
       "      <td>Early</td>\n",
       "      <td>1</td>\n",
       "      <td>1</td>\n",
       "      <td>Dem</td>\n",
       "      <td>White</td>\n",
       "      <td>Waxhaw</td>\n",
       "      <td>Midwest</td>\n",
       "      <td>GenX</td>\n",
       "      <td>GenX</td>\n",
       "    </tr>\n",
       "    <tr>\n",
       "      <th>1</th>\n",
       "      <td>AA112504</td>\n",
       "      <td>0</td>\n",
       "      <td>64.0</td>\n",
       "      <td>ABSENTEE ONESTOP</td>\n",
       "      <td>Early</td>\n",
       "      <td>1.0</td>\n",
       "      <td>0.0</td>\n",
       "      <td>0.0</td>\n",
       "      <td>No Vote</td>\n",
       "      <td>REP</td>\n",
       "      <td>F</td>\n",
       "      <td>1948</td>\n",
       "      <td>2012-10-26</td>\n",
       "      <td>W</td>\n",
       "      <td>NL</td>\n",
       "      <td>28112.0</td>\n",
       "      <td>4325  WOLF POND RD</td>\n",
       "      <td>MONROE</td>\n",
       "      <td>NY</td>\n",
       "      <td>Y</td>\n",
       "      <td>024</td>\n",
       "      <td>024</td>\n",
       "      <td>9.0</td>\n",
       "      <td>20B</td>\n",
       "      <td>20C</td>\n",
       "      <td>35.0</td>\n",
       "      <td>55.0</td>\n",
       "      <td>2.0</td>\n",
       "      <td>1</td>\n",
       "      <td>Early</td>\n",
       "      <td>1</td>\n",
       "      <td>0</td>\n",
       "      <td>Rep</td>\n",
       "      <td>White</td>\n",
       "      <td>Monroe</td>\n",
       "      <td>Northeast</td>\n",
       "      <td>Boomer</td>\n",
       "      <td>Boomer</td>\n",
       "    </tr>\n",
       "    <tr>\n",
       "      <th>2</th>\n",
       "      <td>AA114763</td>\n",
       "      <td>0</td>\n",
       "      <td>45.0</td>\n",
       "      <td>ABSENTEE ONESTOP</td>\n",
       "      <td>Early</td>\n",
       "      <td>1.0</td>\n",
       "      <td>0.0</td>\n",
       "      <td>0.0</td>\n",
       "      <td>No Vote</td>\n",
       "      <td>DEM</td>\n",
       "      <td>F</td>\n",
       "      <td>1967</td>\n",
       "      <td>2012-08-13</td>\n",
       "      <td>B</td>\n",
       "      <td>UN</td>\n",
       "      <td>28104.0</td>\n",
       "      <td>4002  LAWRENCE DANIEL DR</td>\n",
       "      <td>MATTHEWS</td>\n",
       "      <td>NC</td>\n",
       "      <td>Y</td>\n",
       "      <td>037A</td>\n",
       "      <td>037A</td>\n",
       "      <td>9.0</td>\n",
       "      <td>20B</td>\n",
       "      <td>20C</td>\n",
       "      <td>35.0</td>\n",
       "      <td>69.0</td>\n",
       "      <td>5.0</td>\n",
       "      <td>1</td>\n",
       "      <td>Early</td>\n",
       "      <td>1</td>\n",
       "      <td>0</td>\n",
       "      <td>Dem</td>\n",
       "      <td>Black</td>\n",
       "      <td>Matthews</td>\n",
       "      <td>South</td>\n",
       "      <td>GenX</td>\n",
       "      <td>GenX</td>\n",
       "    </tr>\n",
       "    <tr>\n",
       "      <th>3</th>\n",
       "      <td>AA116927</td>\n",
       "      <td>0</td>\n",
       "      <td>50.0</td>\n",
       "      <td>IN-PERSON</td>\n",
       "      <td>Election Day</td>\n",
       "      <td>0.0</td>\n",
       "      <td>0.0</td>\n",
       "      <td>0.0</td>\n",
       "      <td>Election Day</td>\n",
       "      <td>REP</td>\n",
       "      <td>M</td>\n",
       "      <td>1962</td>\n",
       "      <td>2018-08-06</td>\n",
       "      <td>W</td>\n",
       "      <td>NL</td>\n",
       "      <td>28173.0</td>\n",
       "      <td>3513  MCPHERSON ST</td>\n",
       "      <td>WAXHAW</td>\n",
       "      <td>NY</td>\n",
       "      <td>Y</td>\n",
       "      <td>028D</td>\n",
       "      <td>028</td>\n",
       "      <td>9.0</td>\n",
       "      <td>20B</td>\n",
       "      <td>20C</td>\n",
       "      <td>35.0</td>\n",
       "      <td>68.0</td>\n",
       "      <td>6.0</td>\n",
       "      <td>1</td>\n",
       "      <td>Election Day</td>\n",
       "      <td>1</td>\n",
       "      <td>1</td>\n",
       "      <td>Rep</td>\n",
       "      <td>White</td>\n",
       "      <td>Waxhaw</td>\n",
       "      <td>Northeast</td>\n",
       "      <td>Boomer</td>\n",
       "      <td>Boomer</td>\n",
       "    </tr>\n",
       "    <tr>\n",
       "      <th>4</th>\n",
       "      <td>AA118202</td>\n",
       "      <td>0</td>\n",
       "      <td>40.0</td>\n",
       "      <td>IN-PERSON</td>\n",
       "      <td>Election Day</td>\n",
       "      <td>0.0</td>\n",
       "      <td>0.0</td>\n",
       "      <td>0.0</td>\n",
       "      <td>No Vote</td>\n",
       "      <td>DEM</td>\n",
       "      <td>M</td>\n",
       "      <td>1972</td>\n",
       "      <td>2006-04-12</td>\n",
       "      <td>W</td>\n",
       "      <td>UN</td>\n",
       "      <td>28079.0</td>\n",
       "      <td>7006  CONIFER CIR</td>\n",
       "      <td>INDIAN TRAIL</td>\n",
       "      <td>CT</td>\n",
       "      <td>Y</td>\n",
       "      <td>038B</td>\n",
       "      <td>038B</td>\n",
       "      <td>9.0</td>\n",
       "      <td>20B</td>\n",
       "      <td>20C</td>\n",
       "      <td>35.0</td>\n",
       "      <td>69.0</td>\n",
       "      <td>4.0</td>\n",
       "      <td>1</td>\n",
       "      <td>Election Day</td>\n",
       "      <td>1</td>\n",
       "      <td>0</td>\n",
       "      <td>Dem</td>\n",
       "      <td>White</td>\n",
       "      <td>Indian Trail</td>\n",
       "      <td>Northeast</td>\n",
       "      <td>GenX</td>\n",
       "      <td>GenX</td>\n",
       "    </tr>\n",
       "  </tbody>\n",
       "</table>\n",
       "</div>"
      ],
      "text/plain": [
       "       ncid  no_vote_his  birth_age_adj     voting_method      Gen_2012  \\\n",
       "0  AA109481            0           39.0  ABSENTEE ONESTOP         Early   \n",
       "1  AA112504            0           64.0  ABSENTEE ONESTOP         Early   \n",
       "2  AA114763            0           45.0  ABSENTEE ONESTOP         Early   \n",
       "3  AA116927            0           50.0         IN-PERSON  Election Day   \n",
       "4  AA118202            0           40.0         IN-PERSON  Election Day   \n",
       "\n",
       "   vote_early  vote_by_mail  vote_curbside      Pri_2012 party_cd gender_code  \\\n",
       "0         1.0           0.0            0.0  Election Day      DEM           F   \n",
       "1         1.0           0.0            0.0       No Vote      REP           F   \n",
       "2         1.0           0.0            0.0       No Vote      DEM           F   \n",
       "3         0.0           0.0            0.0  Election Day      REP           M   \n",
       "4         0.0           0.0            0.0       No Vote      DEM           M   \n",
       "\n",
       "   birth_year  registr_dt race_code ethnic_code  zip_code  \\\n",
       "0        1973  2020-03-19         W          NL   28173.0   \n",
       "1        1948  2012-10-26         W          NL   28112.0   \n",
       "2        1967  2012-08-13         B          UN   28104.0   \n",
       "3        1962  2018-08-06         W          NL   28173.0   \n",
       "4        1972  2006-04-12         W          UN   28079.0   \n",
       "\n",
       "            res_street_address res_city_desc birth_state drivers_lic  \\\n",
       "0          1013  LYDNEY CIR           WAXHAW          MN           Y   \n",
       "1        4325  WOLF POND RD           MONROE          NY           Y   \n",
       "2  4002  LAWRENCE DANIEL DR         MATTHEWS          NC           Y   \n",
       "3        3513  MCPHERSON ST           WAXHAW          NY           Y   \n",
       "4         7006  CONIFER CIR     INDIAN TRAIL          CT           Y   \n",
       "\n",
       "  precinct_abbrv vtd_abbrv  cong_dist_abbrv super_court_abbrv  \\\n",
       "0           020A      020A              9.0               20B   \n",
       "1            024       024              9.0               20B   \n",
       "2           037A      037A              9.0               20B   \n",
       "3           028D       028              9.0               20B   \n",
       "4           038B      038B              9.0               20B   \n",
       "\n",
       "  judic_dist_abbrv  nc_senate_abbrv  nc_house_abbrv  school_dist_abbrv  \\\n",
       "0              20C             35.0            68.0                2.0   \n",
       "1              20C             35.0            55.0                2.0   \n",
       "2              20C             35.0            69.0                5.0   \n",
       "3              20C             35.0            68.0                6.0   \n",
       "4              20C             35.0            69.0                4.0   \n",
       "\n",
       "   drivers_lic_bin      vote_cat  Gen_2012_binary  Pri_2012_binary party_grp  \\\n",
       "0                1         Early                1                1       Dem   \n",
       "1                1         Early                1                0       Rep   \n",
       "2                1         Early                1                0       Dem   \n",
       "3                1  Election Day                1                1       Rep   \n",
       "4                1  Election Day                1                0       Dem   \n",
       "\n",
       "  race_grp      city_grp birth_reg_other generation gen_grp  \n",
       "0    White        Waxhaw         Midwest       GenX    GenX  \n",
       "1    White        Monroe       Northeast     Boomer  Boomer  \n",
       "2    Black      Matthews           South       GenX    GenX  \n",
       "3    White        Waxhaw       Northeast     Boomer  Boomer  \n",
       "4    White  Indian Trail       Northeast       GenX    GenX  "
      ]
     },
     "execution_count": 6,
     "metadata": {},
     "output_type": "execute_result"
    }
   ],
   "source": [
    "## Import and preview dataset\n",
    "elec_2012_df = pd.read_csv('Data/UC_gen_2012_clean.gz',\n",
    "                     dtype={'precinct_abbrv': str, \n",
    "                            'vtd_abbrv': str\n",
    "                             })\n",
    "elec_2012_df.head()"
   ]
  },
  {
   "cell_type": "markdown",
   "metadata": {},
   "source": [
    "# MODEL"
   ]
  },
  {
   "cell_type": "code",
   "execution_count": 7,
   "metadata": {
    "ExecuteTime": {
     "end_time": "2021-01-15T15:35:41.070902Z",
     "start_time": "2021-01-15T15:35:40.294929Z"
    }
   },
   "outputs": [],
   "source": [
    "## Import necessary functions/methods/classes for modeling\n",
    "from sklearn.model_selection import train_test_split, GridSearchCV\n",
    "from sklearn.ensemble import RandomForestClassifier\n",
    "from sklearn.svm import LinearSVC\n",
    "from xgboost import XGBClassifier\n",
    "from sklearn.metrics import classification_report, plot_confusion_matrix, plot_roc_curve\n",
    "\n",
    "## Import classes necessary for building preprocessing pipelines\n",
    "from sklearn.pipeline import Pipeline\n",
    "from sklearn.preprocessing import StandardScaler, OneHotEncoder, LabelEncoder\n",
    "from sklearn.compose import ColumnTransformer\n",
    "\n",
    "## Import necessary libraries for SNOTE\n",
    "import six\n",
    "import sys\n",
    "sys.modules['sklearn.externals.six'] = six\n",
    "from imblearn.over_sampling import SMOTE\n",
    "from imblearn.pipeline import Pipeline as imbPipeline"
   ]
  },
  {
   "cell_type": "markdown",
   "metadata": {},
   "source": [
    "## Model 2020 Election"
   ]
  },
  {
   "cell_type": "markdown",
   "metadata": {},
   "source": [
    "### 2020 Binary Target - Vote vs. No Vote\n",
    "\n",
    "#### 2020 Prepare DataFrame for Modeling - Train Test Split and Preprocessing"
   ]
  },
  {
   "cell_type": "code",
   "execution_count": 8,
   "metadata": {
    "ExecuteTime": {
     "end_time": "2021-01-15T15:35:41.185937Z",
     "start_time": "2021-01-15T15:35:41.076275Z"
    }
   },
   "outputs": [
    {
     "data": {
      "text/html": [
       "<div>\n",
       "<style scoped>\n",
       "    .dataframe tbody tr th:only-of-type {\n",
       "        vertical-align: middle;\n",
       "    }\n",
       "\n",
       "    .dataframe tbody tr th {\n",
       "        vertical-align: top;\n",
       "    }\n",
       "\n",
       "    .dataframe thead th {\n",
       "        text-align: right;\n",
       "    }\n",
       "</style>\n",
       "<table border=\"1\" class=\"dataframe\">\n",
       "  <thead>\n",
       "    <tr style=\"text-align: right;\">\n",
       "      <th></th>\n",
       "      <th>Gen_2020</th>\n",
       "      <th>Gen_2020_binary</th>\n",
       "      <th>gen_grp</th>\n",
       "      <th>party_grp</th>\n",
       "      <th>race_grp</th>\n",
       "      <th>gender_code</th>\n",
       "      <th>birth_reg_other</th>\n",
       "      <th>drivers_lic</th>\n",
       "      <th>city_grp</th>\n",
       "    </tr>\n",
       "  </thead>\n",
       "  <tbody>\n",
       "    <tr>\n",
       "      <th>0</th>\n",
       "      <td>Early</td>\n",
       "      <td>1</td>\n",
       "      <td>Boomer</td>\n",
       "      <td>Rep</td>\n",
       "      <td>White</td>\n",
       "      <td>M</td>\n",
       "      <td>South</td>\n",
       "      <td>Y</td>\n",
       "      <td>Indian Trail</td>\n",
       "    </tr>\n",
       "    <tr>\n",
       "      <th>1</th>\n",
       "      <td>No Vote</td>\n",
       "      <td>0</td>\n",
       "      <td>Boomer</td>\n",
       "      <td>Other</td>\n",
       "      <td>White</td>\n",
       "      <td>M</td>\n",
       "      <td>Northeast</td>\n",
       "      <td>Y</td>\n",
       "      <td>Waxhaw</td>\n",
       "    </tr>\n",
       "    <tr>\n",
       "      <th>2</th>\n",
       "      <td>Early</td>\n",
       "      <td>1</td>\n",
       "      <td>GenX</td>\n",
       "      <td>Dem</td>\n",
       "      <td>White</td>\n",
       "      <td>F</td>\n",
       "      <td>Midwest</td>\n",
       "      <td>Y</td>\n",
       "      <td>Waxhaw</td>\n",
       "    </tr>\n",
       "    <tr>\n",
       "      <th>3</th>\n",
       "      <td>No Vote</td>\n",
       "      <td>0</td>\n",
       "      <td>Boomer</td>\n",
       "      <td>Rep</td>\n",
       "      <td>White</td>\n",
       "      <td>F</td>\n",
       "      <td>Northeast</td>\n",
       "      <td>Y</td>\n",
       "      <td>Monroe</td>\n",
       "    </tr>\n",
       "    <tr>\n",
       "      <th>4</th>\n",
       "      <td>Early</td>\n",
       "      <td>1</td>\n",
       "      <td>GenX</td>\n",
       "      <td>Dem</td>\n",
       "      <td>Black</td>\n",
       "      <td>F</td>\n",
       "      <td>South</td>\n",
       "      <td>Y</td>\n",
       "      <td>Matthews</td>\n",
       "    </tr>\n",
       "  </tbody>\n",
       "</table>\n",
       "</div>"
      ],
      "text/plain": [
       "  Gen_2020  Gen_2020_binary gen_grp party_grp race_grp gender_code  \\\n",
       "0    Early                1  Boomer       Rep    White           M   \n",
       "1  No Vote                0  Boomer     Other    White           M   \n",
       "2    Early                1    GenX       Dem    White           F   \n",
       "3  No Vote                0  Boomer       Rep    White           F   \n",
       "4    Early                1    GenX       Dem    Black           F   \n",
       "\n",
       "  birth_reg_other drivers_lic      city_grp  \n",
       "0           South           Y  Indian Trail  \n",
       "1       Northeast           Y        Waxhaw  \n",
       "2         Midwest           Y        Waxhaw  \n",
       "3       Northeast           Y        Monroe  \n",
       "4           South           Y      Matthews  "
      ]
     },
     "metadata": {},
     "output_type": "display_data"
    },
    {
     "data": {
      "text/plain": [
       "167337"
      ]
     },
     "execution_count": 8,
     "metadata": {},
     "output_type": "execute_result"
    }
   ],
   "source": [
    "## Create new DataFrame from the full cleaned df that only consists of \n",
    "  ## the target ('Gen_2020') and desired predictors\n",
    "model_2020_df = elec_2020_df.copy()\n",
    "model_2020_df = model_2020_df[['Gen_2020', 'Gen_2020_binary', 'gen_grp', 'party_grp',\n",
    "                     'race_grp', 'gender_code', 'birth_reg_other',\n",
    "                     'drivers_lic', 'city_grp']]\n",
    "\n",
    "## Drop the 'Other' voting method so train-test-splits constant across\n",
    "## binary and multiclass target models\n",
    "  ## 'Other' represents provisional and transfer ballots. This type of\n",
    "    ## vote is not so much generated by a voter's choice as it is by the \n",
    "    ## legal process of how votes may be cast.\n",
    "model_2020_df = model_2020_df.drop(model_2020_df.loc[model_2020_df['Gen_2020']=='Other'].index)\n",
    "\n",
    "## Inspect the resulting df\n",
    "display(model_2020_df.head())\n",
    "len(model_2020_df)"
   ]
  },
  {
   "cell_type": "code",
   "execution_count": 9,
   "metadata": {
    "ExecuteTime": {
     "end_time": "2021-01-15T15:35:41.205909Z",
     "start_time": "2021-01-15T15:35:41.190850Z"
    }
   },
   "outputs": [
    {
     "data": {
      "text/html": [
       "<div>\n",
       "<style scoped>\n",
       "    .dataframe tbody tr th:only-of-type {\n",
       "        vertical-align: middle;\n",
       "    }\n",
       "\n",
       "    .dataframe tbody tr th {\n",
       "        vertical-align: top;\n",
       "    }\n",
       "\n",
       "    .dataframe thead th {\n",
       "        text-align: right;\n",
       "    }\n",
       "</style>\n",
       "<table border=\"1\" class=\"dataframe\">\n",
       "  <thead>\n",
       "    <tr style=\"text-align: right;\">\n",
       "      <th></th>\n",
       "      <th>count</th>\n",
       "      <th>%</th>\n",
       "    </tr>\n",
       "  </thead>\n",
       "  <tbody>\n",
       "    <tr>\n",
       "      <th>1</th>\n",
       "      <td>130750</td>\n",
       "      <td>78.14</td>\n",
       "    </tr>\n",
       "    <tr>\n",
       "      <th>0</th>\n",
       "      <td>36587</td>\n",
       "      <td>21.86</td>\n",
       "    </tr>\n",
       "  </tbody>\n",
       "</table>\n",
       "</div>"
      ],
      "text/plain": [
       "    count      %\n",
       "1  130750  78.14\n",
       "0   36587  21.86"
      ]
     },
     "execution_count": 9,
     "metadata": {},
     "output_type": "execute_result"
    }
   ],
   "source": [
    "## Check class imbalance\n",
    "check_unique('Gen_2020_binary', model_2020_df)"
   ]
  },
  {
   "cell_type": "code",
   "execution_count": 10,
   "metadata": {
    "ExecuteTime": {
     "end_time": "2021-01-15T15:35:41.798334Z",
     "start_time": "2021-01-15T15:35:41.208537Z"
    }
   },
   "outputs": [
    {
     "data": {
      "text/plain": [
       "array(['gen_grp_Boomer', 'gen_grp_GenX', 'gen_grp_GenZ',\n",
       "       'gen_grp_Greatest-Silent', 'gen_grp_Millennial', 'party_grp_Dem',\n",
       "       'party_grp_Other', 'party_grp_Rep', 'race_grp_Black',\n",
       "       'race_grp_Other', 'race_grp_Undesig.', 'race_grp_White',\n",
       "       'gender_code_F', 'gender_code_M', 'gender_code_U',\n",
       "       'birth_reg_other_Midwest', 'birth_reg_other_Missing',\n",
       "       'birth_reg_other_Northeast', 'birth_reg_other_Other',\n",
       "       'birth_reg_other_South', 'birth_reg_other_West', 'drivers_lic_Y',\n",
       "       'city_grp_Indian Trail', 'city_grp_Matthews', 'city_grp_Monroe',\n",
       "       'city_grp_Other', 'city_grp_Waxhaw'], dtype=object)"
      ]
     },
     "execution_count": 10,
     "metadata": {},
     "output_type": "execute_result"
    }
   ],
   "source": [
    "## Define target variable\n",
    "bin_2020_target = 'Gen_2020_binary'\n",
    "\n",
    "## Separate features (X) and target (y) for train-test-split\n",
    "X_2020 = model_2020_df.drop(columns=[bin_2020_target, 'Gen_2020'], axis=1).copy()\n",
    "y_bin_2020 = model_2020_df[bin_2020_target].copy()\n",
    "\n",
    "## Define random seed to use for train-test-split and \n",
    " ## classifiers for reproducibility\n",
    "random_seed = 319\n",
    "\n",
    "## Split the data into training and test sets prior to preprocessing\n",
    "X_2020_train, X_2020_test, y_bin_2020_train, y_bin_2020_test = train_test_split(X_2020, y_bin_2020,\n",
    "                                           test_size=0.25,\n",
    "                                           random_state=random_seed)\n",
    "\n",
    "## Make a list of all columns that are currently object dtype\n",
    "cat_cols = list(X_2020_train.select_dtypes('O').columns)\n",
    "\n",
    "## Create a pipeline for one hot encoding categorical columns\n",
    "cat_transformer = Pipeline(steps = [\n",
    "    ('ohe', OneHotEncoder(handle_unknown='error', \n",
    "                          sparse=False,\n",
    "                          drop='if_binary'))])\n",
    "\n",
    "## Define pipeline for preprocessing X\n",
    "preprocessing = ColumnTransformer(transformers=[\n",
    "    ('cat', cat_transformer, cat_cols)\n",
    "])\n",
    "\n",
    "## Preprocess training and test predictors (X)\n",
    "X_2020_train_tf = preprocessing.fit_transform(X_2020_train)\n",
    "X_2020_test_tf = preprocessing.transform(X_2020_test)\n",
    "\n",
    "## Get the feature names in the order they appear in preprocessed data\n",
    "feature_names_2020 = preprocessing.named_transformers_['cat'].named_steps['ohe'].get_feature_names(cat_cols)\n",
    "feature_names_2020"
   ]
  },
  {
   "cell_type": "markdown",
   "metadata": {},
   "source": [
    "#### 2020 Best Binary Target Model - XGBoost Classifier\n",
    "\n",
    "##### 2020 Baseline Binary XGBoost"
   ]
  },
  {
   "cell_type": "code",
   "execution_count": 11,
   "metadata": {
    "ExecuteTime": {
     "end_time": "2021-01-15T15:36:01.184813Z",
     "start_time": "2021-01-15T15:35:41.801829Z"
    }
   },
   "outputs": [
    {
     "name": "stdout",
     "output_type": "stream",
     "text": [
      "------------------------------------------------------------------------\n",
      "Classification Report: Baseline 2020 Binary XGBoost with Default Params\n",
      "------------------------------------------------------------------------\n",
      "              precision    recall  f1-score   support\n",
      "\n",
      "     No Vote       0.61      0.07      0.13      9211\n",
      "        Vote       0.79      0.99      0.88     32624\n",
      "\n",
      "    accuracy                           0.79     41835\n",
      "   macro avg       0.70      0.53      0.50     41835\n",
      "weighted avg       0.75      0.79      0.71     41835\n",
      "\n",
      "------------------------------------------------------------------------\n",
      "------------------------------------------------------------------------\n",
      "\n",
      "\n"
     ]
    },
    {
     "data": {
      "image/png": "[encoded data removed]",
      "text/plain": [
       "<Figure size 864x432 with 3 Axes>"
      ]
     },
     "metadata": {
      "needs_background": "light"
     },
     "output_type": "display_data"
    }
   ],
   "source": [
    "## Use preprocessor as the first step in modeling Pipeline \n",
    "xgb_bin_2020 = Pipeline(steps=[('preprocessing', preprocessing),\n",
    "                      ('xgb', XGBClassifier(random_state=random_seed,\n",
    "                                            objective='binary:logistic'))])\n",
    "\n",
    "xgb_bin_2020.fit(X_2020_train, y_bin_2020_train)\n",
    "\n",
    "eval_bin_clf(xgb_bin_2020, X_2020_test, y_bin_2020_test,\n",
    "             model_descr='Baseline 2020 Binary XGBoost with Default Params');"
   ]
  },
  {
   "cell_type": "markdown",
   "metadata": {},
   "source": [
    "##### 2020 Tuning Binary XGBoost Hyperparameters"
   ]
  },
  {
   "cell_type": "code",
   "execution_count": 12,
   "metadata": {
    "ExecuteTime": {
     "end_time": "2021-01-15T15:37:02.344203Z",
     "start_time": "2021-01-15T15:36:01.186820Z"
    }
   },
   "outputs": [
    {
     "name": "stdout",
     "output_type": "stream",
     "text": [
      "------------------------------------------------------------\n",
      "***** Grid Search Started at 01/15/21 - 10:36:01 AM\n",
      "------------------------------------------------------------\n",
      "\n",
      "\n",
      "***** Training Completed at 01/15/21 - 10:37:00 AM\n",
      "\n",
      "***** Total Training Time: 0:00:59.690408\n",
      "\n",
      "\n",
      "Best Parameters:\n",
      "{'xgb__colsample_bytree': 0.8, 'xgb__eta': 0.1, 'xgb__max_delta_step': 1, 'xgb__max_depth': 6, 'xgb__scale_pos_weight': 0.28, 'xgb__subsample': 0.85}\n",
      "\n",
      "\n",
      "------------------------------------------------------------------------\n",
      "Classification Report: Best 2020 Binary XGB Tuned for Balanced Accuracy\n",
      "------------------------------------------------------------------------\n",
      "              precision    recall  f1-score   support\n",
      "\n",
      "     No Vote       0.34      0.58      0.43      9211\n",
      "        Vote       0.85      0.69      0.76     32624\n",
      "\n",
      "    accuracy                           0.66     41835\n",
      "   macro avg       0.60      0.63      0.60     41835\n",
      "weighted avg       0.74      0.66      0.69     41835\n",
      "\n",
      "------------------------------------------------------------------------\n",
      "------------------------------------------------------------------------\n",
      "\n",
      "\n"
     ]
    },
    {
     "data": {
      "image/png": "[encoded data removed]",
      "text/plain": [
       "<Figure size 864x432 with 3 Axes>"
      ]
     },
     "metadata": {
      "needs_background": "light"
     },
     "output_type": "display_data"
    }
   ],
   "source": [
    "## Define a grid of different hyperparameter values to be tested\n",
    "params = {\n",
    "    'xgb__eta':[0.1],\n",
    "    'xgb__max_depth':[6],\n",
    "    'xgb__subsample': [0.85],\n",
    "    'xgb__colsample_bytree': [0.8],\n",
    "    'xgb__scale_pos_weight': [0.28],\n",
    "    'xgb__max_delta_step': [1]\n",
    "}\n",
    "\n",
    "## run the grid search to test parameters and find the best estimator \n",
    "xgb_bin_2020_bacc_grid = fit_grid_clf(xgb_bin_2020, params,\n",
    "                             X_2020_train, y_bin_2020_train,\n",
    "                             X_2020_test, y_bin_2020_test,\n",
    "                             model_descr='Best 2020 Binary XGB Tuned for Balanced Accuracy',\n",
    "                             score='balanced_accuracy',\n",
    "                             bin_target=True)"
   ]
  },
  {
   "cell_type": "code",
   "execution_count": 13,
   "metadata": {
    "ExecuteTime": {
     "end_time": "2021-01-15T15:37:02.626263Z",
     "start_time": "2021-01-15T15:37:02.346482Z"
    }
   },
   "outputs": [
    {
     "data": {
      "image/png": "[encoded data removed]",
      "text/plain": [
       "<Figure size 576x432 with 1 Axes>"
      ]
     },
     "metadata": {
      "needs_background": "light"
     },
     "output_type": "display_data"
    }
   ],
   "source": [
    "plot_feat_importance(xgb_bin_2020_bacc_grid.best_estimator_, 'xgb', feature_names_2020,\n",
    "                     model_title='Best 2020 Binary XGB Tuned for Balanced Accuracy \\n');"
   ]
  },
  {
   "cell_type": "markdown",
   "metadata": {},
   "source": [
    "### 2020 Multiclass Target - Early, Election Day, No Vote\n",
    "\n",
    "#### 2020 Prepare DataFrame for Modeling - Train Test Split and Preprocessing"
   ]
  },
  {
   "cell_type": "code",
   "execution_count": 14,
   "metadata": {
    "ExecuteTime": {
     "end_time": "2021-01-15T15:37:02.641609Z",
     "start_time": "2021-01-15T15:37:02.628165Z"
    }
   },
   "outputs": [
    {
     "data": {
      "text/html": [
       "<div>\n",
       "<style scoped>\n",
       "    .dataframe tbody tr th:only-of-type {\n",
       "        vertical-align: middle;\n",
       "    }\n",
       "\n",
       "    .dataframe tbody tr th {\n",
       "        vertical-align: top;\n",
       "    }\n",
       "\n",
       "    .dataframe thead th {\n",
       "        text-align: right;\n",
       "    }\n",
       "</style>\n",
       "<table border=\"1\" class=\"dataframe\">\n",
       "  <thead>\n",
       "    <tr style=\"text-align: right;\">\n",
       "      <th></th>\n",
       "      <th>Gen_2020</th>\n",
       "      <th>Gen_2020_binary</th>\n",
       "      <th>gen_grp</th>\n",
       "      <th>party_grp</th>\n",
       "      <th>race_grp</th>\n",
       "      <th>gender_code</th>\n",
       "      <th>birth_reg_other</th>\n",
       "      <th>drivers_lic</th>\n",
       "      <th>city_grp</th>\n",
       "    </tr>\n",
       "  </thead>\n",
       "  <tbody>\n",
       "    <tr>\n",
       "      <th>0</th>\n",
       "      <td>Early</td>\n",
       "      <td>1</td>\n",
       "      <td>Boomer</td>\n",
       "      <td>Rep</td>\n",
       "      <td>White</td>\n",
       "      <td>M</td>\n",
       "      <td>South</td>\n",
       "      <td>Y</td>\n",
       "      <td>Indian Trail</td>\n",
       "    </tr>\n",
       "    <tr>\n",
       "      <th>1</th>\n",
       "      <td>No Vote</td>\n",
       "      <td>0</td>\n",
       "      <td>Boomer</td>\n",
       "      <td>Other</td>\n",
       "      <td>White</td>\n",
       "      <td>M</td>\n",
       "      <td>Northeast</td>\n",
       "      <td>Y</td>\n",
       "      <td>Waxhaw</td>\n",
       "    </tr>\n",
       "    <tr>\n",
       "      <th>2</th>\n",
       "      <td>Early</td>\n",
       "      <td>1</td>\n",
       "      <td>GenX</td>\n",
       "      <td>Dem</td>\n",
       "      <td>White</td>\n",
       "      <td>F</td>\n",
       "      <td>Midwest</td>\n",
       "      <td>Y</td>\n",
       "      <td>Waxhaw</td>\n",
       "    </tr>\n",
       "    <tr>\n",
       "      <th>3</th>\n",
       "      <td>No Vote</td>\n",
       "      <td>0</td>\n",
       "      <td>Boomer</td>\n",
       "      <td>Rep</td>\n",
       "      <td>White</td>\n",
       "      <td>F</td>\n",
       "      <td>Northeast</td>\n",
       "      <td>Y</td>\n",
       "      <td>Monroe</td>\n",
       "    </tr>\n",
       "    <tr>\n",
       "      <th>4</th>\n",
       "      <td>Early</td>\n",
       "      <td>1</td>\n",
       "      <td>GenX</td>\n",
       "      <td>Dem</td>\n",
       "      <td>Black</td>\n",
       "      <td>F</td>\n",
       "      <td>South</td>\n",
       "      <td>Y</td>\n",
       "      <td>Matthews</td>\n",
       "    </tr>\n",
       "  </tbody>\n",
       "</table>\n",
       "</div>"
      ],
      "text/plain": [
       "  Gen_2020  Gen_2020_binary gen_grp party_grp race_grp gender_code  \\\n",
       "0    Early                1  Boomer       Rep    White           M   \n",
       "1  No Vote                0  Boomer     Other    White           M   \n",
       "2    Early                1    GenX       Dem    White           F   \n",
       "3  No Vote                0  Boomer       Rep    White           F   \n",
       "4    Early                1    GenX       Dem    Black           F   \n",
       "\n",
       "  birth_reg_other drivers_lic      city_grp  \n",
       "0           South           Y  Indian Trail  \n",
       "1       Northeast           Y        Waxhaw  \n",
       "2         Midwest           Y        Waxhaw  \n",
       "3       Northeast           Y        Monroe  \n",
       "4           South           Y      Matthews  "
      ]
     },
     "metadata": {},
     "output_type": "display_data"
    },
    {
     "data": {
      "text/plain": [
       "167337"
      ]
     },
     "execution_count": 14,
     "metadata": {},
     "output_type": "execute_result"
    }
   ],
   "source": [
    "## Inspect model_2020_df\n",
    "display(model_2020_df.head())\n",
    "len(model_2020_df)"
   ]
  },
  {
   "cell_type": "code",
   "execution_count": 15,
   "metadata": {
    "ExecuteTime": {
     "end_time": "2021-01-15T15:37:02.689756Z",
     "start_time": "2021-01-15T15:37:02.643646Z"
    }
   },
   "outputs": [
    {
     "data": {
      "text/html": [
       "<div>\n",
       "<style scoped>\n",
       "    .dataframe tbody tr th:only-of-type {\n",
       "        vertical-align: middle;\n",
       "    }\n",
       "\n",
       "    .dataframe tbody tr th {\n",
       "        vertical-align: top;\n",
       "    }\n",
       "\n",
       "    .dataframe thead th {\n",
       "        text-align: right;\n",
       "    }\n",
       "</style>\n",
       "<table border=\"1\" class=\"dataframe\">\n",
       "  <thead>\n",
       "    <tr style=\"text-align: right;\">\n",
       "      <th></th>\n",
       "      <th>count</th>\n",
       "      <th>%</th>\n",
       "    </tr>\n",
       "  </thead>\n",
       "  <tbody>\n",
       "    <tr>\n",
       "      <th>Early</th>\n",
       "      <td>110735</td>\n",
       "      <td>66.17</td>\n",
       "    </tr>\n",
       "    <tr>\n",
       "      <th>No Vote</th>\n",
       "      <td>36587</td>\n",
       "      <td>21.86</td>\n",
       "    </tr>\n",
       "    <tr>\n",
       "      <th>Election Day</th>\n",
       "      <td>20015</td>\n",
       "      <td>11.96</td>\n",
       "    </tr>\n",
       "  </tbody>\n",
       "</table>\n",
       "</div>"
      ],
      "text/plain": [
       "               count      %\n",
       "Early         110735  66.17\n",
       "No Vote        36587  21.86\n",
       "Election Day   20015  11.96"
      ]
     },
     "execution_count": 15,
     "metadata": {},
     "output_type": "execute_result"
    }
   ],
   "source": [
    "## Check that only the 3 target classes that represent a voter's choice remain\n",
    "check_unique('Gen_2020', model_2020_df)"
   ]
  },
  {
   "cell_type": "code",
   "execution_count": 16,
   "metadata": {
    "ExecuteTime": {
     "end_time": "2021-01-15T15:37:02.763058Z",
     "start_time": "2021-01-15T15:37:02.691690Z"
    }
   },
   "outputs": [
    {
     "data": {
      "text/plain": [
       "array(['Early', 'Election Day', 'No Vote'], dtype=object)"
      ]
     },
     "execution_count": 16,
     "metadata": {},
     "output_type": "execute_result"
    }
   ],
   "source": [
    "## Define target variable\n",
    "multi_2020_target = 'Gen_2020'\n",
    "\n",
    "## Separate features (X) and target (y) for train-test-split\n",
    "## X was already defined for previous models,\n",
    "  ## only need to adjust for new target\n",
    "y_multi_2020 = model_2020_df[multi_2020_target].copy()\n",
    "\n",
    "## Split the data into training and test sets prior to preprocessing\n",
    "  ## Random seed same as for binary modeling, so produces same X splits\n",
    "X_2020_train, X_2020_test, y_multi_2020_train, y_multi_2020_test = train_test_split(X_2020,\n",
    "                                                                y_multi_2020,\n",
    "                                                                test_size=0.25,\n",
    "                                                                random_state=random_seed)\n",
    "\n",
    "## Preprocess training and test target (y)\n",
    "le_2020 = LabelEncoder()\n",
    "y_multi_2020_train = pd.Series(le_2020.fit_transform(y_multi_2020_train))\n",
    "y_multi_2020_test = pd.Series(le_2020.transform(y_multi_2020_test))\n",
    "\n",
    "## Check order of classes\n",
    "le_2020.classes_"
   ]
  },
  {
   "cell_type": "markdown",
   "metadata": {},
   "source": [
    "#### 2020 Best Multiclass Target Model - XGBoost with SMOTE\n",
    "\n",
    "##### 2020 Baseline Multiclass XGBoost with SMOTE"
   ]
  },
  {
   "cell_type": "code",
   "execution_count": 17,
   "metadata": {
    "ExecuteTime": {
     "end_time": "2021-01-15T15:39:05.820946Z",
     "start_time": "2021-01-15T15:37:02.764940Z"
    }
   },
   "outputs": [
    {
     "name": "stdout",
     "output_type": "stream",
     "text": [
      "-------------------------------------------------------------------------\n",
      "Classification Report: 2020 Multiclass SMOTE XGBoost with Default Params\n",
      "-------------------------------------------------------------------------\n",
      "              precision    recall  f1-score   support\n",
      "\n",
      "       Early       0.76      0.56      0.64     27591\n",
      "Election Day       0.18      0.37      0.24      5033\n",
      "     No Vote       0.38      0.46      0.42      9211\n",
      "\n",
      "    accuracy                           0.51     41835\n",
      "   macro avg       0.44      0.46      0.43     41835\n",
      "weighted avg       0.61      0.51      0.54     41835\n",
      "\n",
      "-------------------------------------------------------------------------\n",
      "-------------------------------------------------------------------------\n",
      "\n",
      "\n"
     ]
    },
    {
     "data": {
      "image/png": "[encoded data removed]",
      "text/plain": [
       "<Figure size 720x432 with 2 Axes>"
      ]
     },
     "metadata": {
      "needs_background": "light"
     },
     "output_type": "display_data"
    }
   ],
   "source": [
    "## Use preprocessor as the first step in modeling Pipeline,\n",
    "  ## followed by SMOTE for oversampling\n",
    "xgb_multi_2020_smote = imbPipeline(steps=[\n",
    "    ('preprocessing', preprocessing),\n",
    "    ('sampler', SMOTE(random_state=random_seed, n_jobs=-1)),\n",
    "    ('xgb', XGBClassifier(random_state=random_seed))])\n",
    "\n",
    "xgb_multi_2020_smote.fit(X_2020_train, y_multi_2020_train)\n",
    "\n",
    "eval_classifier(xgb_multi_2020_smote, X_2020_test, y_multi_2020_test,\n",
    "                model_descr='2020 Multiclass SMOTE XGBoost with Default Params');"
   ]
  },
  {
   "cell_type": "markdown",
   "metadata": {},
   "source": [
    "##### 2020 Tuning Multiclass XGBoost with SMOTE Hyperparameters"
   ]
  },
  {
   "cell_type": "code",
   "execution_count": 18,
   "metadata": {
    "ExecuteTime": {
     "end_time": "2021-01-15T15:45:11.060914Z",
     "start_time": "2021-01-15T15:39:05.824208Z"
    }
   },
   "outputs": [
    {
     "name": "stdout",
     "output_type": "stream",
     "text": [
      "------------------------------------------------------------\n",
      "***** Grid Search Started at 01/15/21 - 10:39:05 AM\n",
      "------------------------------------------------------------\n",
      "\n",
      "\n",
      "***** Training Completed at 01/15/21 - 10:45:08 AM\n",
      "\n",
      "***** Total Training Time: 0:06:03.123295\n",
      "\n",
      "\n",
      "Best Parameters:\n",
      "{'sampler__k_neighbors': 3, 'xgb__colsample_bytree': 0.8, 'xgb__eta': 0.1, 'xgb__max_delta_step': 1, 'xgb__max_depth': 6, 'xgb__subsample': 0.7}\n",
      "\n",
      "\n",
      "----------------------------------------------------------------------------------\n",
      "Classification Report: Best 2020 Multiclass SMOTE XGB Tuned for Balanced Accuracy\n",
      "----------------------------------------------------------------------------------\n",
      "              precision    recall  f1-score   support\n",
      "\n",
      "       Early       0.76      0.53      0.63     27591\n",
      "Election Day       0.18      0.40      0.24      5033\n",
      "     No Vote       0.38      0.46      0.42      9211\n",
      "\n",
      "    accuracy                           0.50     41835\n",
      "   macro avg       0.44      0.46      0.43     41835\n",
      "weighted avg       0.61      0.50      0.53     41835\n",
      "\n",
      "----------------------------------------------------------------------------------\n",
      "----------------------------------------------------------------------------------\n",
      "\n",
      "\n"
     ]
    },
    {
     "data": {
      "image/png": "[encoded data removed]",
      "text/plain": [
       "<Figure size 720x432 with 2 Axes>"
      ]
     },
     "metadata": {
      "needs_background": "light"
     },
     "output_type": "display_data"
    }
   ],
   "source": [
    "## Define a grid of different hyperparameter values to be tested\n",
    "params = {\n",
    "    'sampler__k_neighbors':[3],\n",
    "    'xgb__eta':[0.1],\n",
    "    'xgb__max_depth':[6],\n",
    "    'xgb__subsample': [0.7],\n",
    "    'xgb__colsample_bytree': [0.8],\n",
    "    'xgb__max_delta_step': [1]\n",
    "}\n",
    "\n",
    "## run the grid search to test parameters and find the best estimator \n",
    "xgb_multi_2020_smote_bacc_grid = fit_grid_clf(xgb_multi_2020_smote, params,\n",
    "                             X_2020_train, y_multi_2020_train,\n",
    "                             X_2020_test, y_multi_2020_test,\n",
    "                             model_descr='Best 2020 Multiclass SMOTE XGB Tuned for Balanced Accuracy',\n",
    "                             score='balanced_accuracy')"
   ]
  },
  {
   "cell_type": "code",
   "execution_count": 19,
   "metadata": {
    "ExecuteTime": {
     "end_time": "2021-01-15T15:45:11.456279Z",
     "start_time": "2021-01-15T15:45:11.065106Z"
    }
   },
   "outputs": [
    {
     "data": {
      "image/png": "[encoded data removed]",
      "text/plain": [
       "<Figure size 576x432 with 1 Axes>"
      ]
     },
     "metadata": {
      "needs_background": "light"
     },
     "output_type": "display_data"
    }
   ],
   "source": [
    "plot_feat_importance(xgb_multi_2020_smote_bacc_grid.best_estimator_, 'xgb', feature_names_2020,\n",
    "                     model_title='Best 2020 Multiclass SMOTE XGBoost Tuned for Balanced Accuracy \\n');"
   ]
  },
  {
   "cell_type": "markdown",
   "metadata": {},
   "source": [
    "## Model 2016 Election\n",
    "\n",
    "### 2016 Binary Target - Vote vs. No Vote\n",
    "\n",
    "#### 2016 Prepare DataFrame for Modeling - Train Test Split and Preprocessing"
   ]
  },
  {
   "cell_type": "code",
   "execution_count": 20,
   "metadata": {
    "ExecuteTime": {
     "end_time": "2021-01-15T15:45:11.672663Z",
     "start_time": "2021-01-15T15:45:11.457962Z"
    }
   },
   "outputs": [
    {
     "data": {
      "text/html": [
       "<div>\n",
       "<style scoped>\n",
       "    .dataframe tbody tr th:only-of-type {\n",
       "        vertical-align: middle;\n",
       "    }\n",
       "\n",
       "    .dataframe tbody tr th {\n",
       "        vertical-align: top;\n",
       "    }\n",
       "\n",
       "    .dataframe thead th {\n",
       "        text-align: right;\n",
       "    }\n",
       "</style>\n",
       "<table border=\"1\" class=\"dataframe\">\n",
       "  <thead>\n",
       "    <tr style=\"text-align: right;\">\n",
       "      <th></th>\n",
       "      <th>Gen_2016</th>\n",
       "      <th>Gen_2016_binary</th>\n",
       "      <th>gen_grp</th>\n",
       "      <th>party_grp</th>\n",
       "      <th>race_grp</th>\n",
       "      <th>gender_code</th>\n",
       "      <th>birth_reg_other</th>\n",
       "      <th>drivers_lic</th>\n",
       "      <th>city_grp</th>\n",
       "    </tr>\n",
       "  </thead>\n",
       "  <tbody>\n",
       "    <tr>\n",
       "      <th>0</th>\n",
       "      <td>Early</td>\n",
       "      <td>1</td>\n",
       "      <td>Boomer</td>\n",
       "      <td>Rep</td>\n",
       "      <td>White</td>\n",
       "      <td>M</td>\n",
       "      <td>South</td>\n",
       "      <td>Y</td>\n",
       "      <td>Indian Trail</td>\n",
       "    </tr>\n",
       "    <tr>\n",
       "      <th>1</th>\n",
       "      <td>Early</td>\n",
       "      <td>1</td>\n",
       "      <td>Boomer</td>\n",
       "      <td>Other</td>\n",
       "      <td>White</td>\n",
       "      <td>M</td>\n",
       "      <td>Northeast</td>\n",
       "      <td>Y</td>\n",
       "      <td>Waxhaw</td>\n",
       "    </tr>\n",
       "    <tr>\n",
       "      <th>2</th>\n",
       "      <td>Early</td>\n",
       "      <td>1</td>\n",
       "      <td>Boomer</td>\n",
       "      <td>Rep</td>\n",
       "      <td>White</td>\n",
       "      <td>F</td>\n",
       "      <td>Northeast</td>\n",
       "      <td>Y</td>\n",
       "      <td>Monroe</td>\n",
       "    </tr>\n",
       "    <tr>\n",
       "      <th>3</th>\n",
       "      <td>Early</td>\n",
       "      <td>1</td>\n",
       "      <td>GenX</td>\n",
       "      <td>Dem</td>\n",
       "      <td>Black</td>\n",
       "      <td>F</td>\n",
       "      <td>South</td>\n",
       "      <td>Y</td>\n",
       "      <td>Matthews</td>\n",
       "    </tr>\n",
       "    <tr>\n",
       "      <th>4</th>\n",
       "      <td>Early</td>\n",
       "      <td>1</td>\n",
       "      <td>GenX</td>\n",
       "      <td>Dem</td>\n",
       "      <td>White</td>\n",
       "      <td>M</td>\n",
       "      <td>Northeast</td>\n",
       "      <td>Y</td>\n",
       "      <td>Indian Trail</td>\n",
       "    </tr>\n",
       "  </tbody>\n",
       "</table>\n",
       "</div>"
      ],
      "text/plain": [
       "  Gen_2016  Gen_2016_binary gen_grp party_grp race_grp gender_code  \\\n",
       "0    Early                1  Boomer       Rep    White           M   \n",
       "1    Early                1  Boomer     Other    White           M   \n",
       "2    Early                1  Boomer       Rep    White           F   \n",
       "3    Early                1    GenX       Dem    Black           F   \n",
       "4    Early                1    GenX       Dem    White           M   \n",
       "\n",
       "  birth_reg_other drivers_lic      city_grp  \n",
       "0           South           Y  Indian Trail  \n",
       "1       Northeast           Y        Waxhaw  \n",
       "2       Northeast           Y        Monroe  \n",
       "3           South           Y      Matthews  \n",
       "4       Northeast           Y  Indian Trail  "
      ]
     },
     "metadata": {},
     "output_type": "display_data"
    },
    {
     "data": {
      "text/plain": [
       "122061"
      ]
     },
     "execution_count": 20,
     "metadata": {},
     "output_type": "execute_result"
    }
   ],
   "source": [
    "## Create new DataFrame from the full cleaned df that only consists of \n",
    "  ## the target ('Gen_2016') and desired predictors\n",
    "model_2016_df = elec_2016_df.copy()\n",
    "model_2016_df = model_2016_df[['Gen_2016', 'Gen_2016_binary', 'gen_grp', 'party_grp',\n",
    "                     'race_grp', 'gender_code', 'birth_reg_other',\n",
    "                     'drivers_lic', 'city_grp']]\n",
    "\n",
    "# Drop the 'Other' voting method so train-test-splits constant across\n",
    "## binary and multiclass target models\n",
    "  ## 'Other' represents provisional and transfer ballots. This type of\n",
    "    ## vote is not so much generated by a voter's choice as it is by the \n",
    "    ## legal process of how votes may be cast.\n",
    "model_2016_df = model_2016_df.drop(model_2016_df.loc[model_2016_df['Gen_2016']=='Other'].index)\n",
    "\n",
    "## Inspect the resulting df\n",
    "display(model_2016_df.head())\n",
    "len(model_2016_df)"
   ]
  },
  {
   "cell_type": "code",
   "execution_count": 21,
   "metadata": {
    "ExecuteTime": {
     "end_time": "2021-01-15T15:45:11.686346Z",
     "start_time": "2021-01-15T15:45:11.674490Z"
    }
   },
   "outputs": [
    {
     "data": {
      "text/html": [
       "<div>\n",
       "<style scoped>\n",
       "    .dataframe tbody tr th:only-of-type {\n",
       "        vertical-align: middle;\n",
       "    }\n",
       "\n",
       "    .dataframe tbody tr th {\n",
       "        vertical-align: top;\n",
       "    }\n",
       "\n",
       "    .dataframe thead th {\n",
       "        text-align: right;\n",
       "    }\n",
       "</style>\n",
       "<table border=\"1\" class=\"dataframe\">\n",
       "  <thead>\n",
       "    <tr style=\"text-align: right;\">\n",
       "      <th></th>\n",
       "      <th>count</th>\n",
       "      <th>%</th>\n",
       "    </tr>\n",
       "  </thead>\n",
       "  <tbody>\n",
       "    <tr>\n",
       "      <th>1</th>\n",
       "      <td>101064</td>\n",
       "      <td>82.8</td>\n",
       "    </tr>\n",
       "    <tr>\n",
       "      <th>0</th>\n",
       "      <td>20997</td>\n",
       "      <td>17.2</td>\n",
       "    </tr>\n",
       "  </tbody>\n",
       "</table>\n",
       "</div>"
      ],
      "text/plain": [
       "    count     %\n",
       "1  101064  82.8\n",
       "0   20997  17.2"
      ]
     },
     "execution_count": 21,
     "metadata": {},
     "output_type": "execute_result"
    }
   ],
   "source": [
    "## Check class imbalance\n",
    "check_unique('Gen_2016_binary', model_2016_df)"
   ]
  },
  {
   "cell_type": "code",
   "execution_count": 22,
   "metadata": {
    "ExecuteTime": {
     "end_time": "2021-01-15T15:45:12.014807Z",
     "start_time": "2021-01-15T15:45:11.688238Z"
    }
   },
   "outputs": [
    {
     "data": {
      "text/plain": [
       "array(['gen_grp_Boomer', 'gen_grp_GenX', 'gen_grp_GenZ',\n",
       "       'gen_grp_Greatest-Silent', 'gen_grp_Millennial', 'party_grp_Dem',\n",
       "       'party_grp_Other', 'party_grp_Rep', 'race_grp_Black',\n",
       "       'race_grp_Other', 'race_grp_Undesig.', 'race_grp_White',\n",
       "       'gender_code_F', 'gender_code_M', 'gender_code_U',\n",
       "       'birth_reg_other_Midwest', 'birth_reg_other_Missing',\n",
       "       'birth_reg_other_Northeast', 'birth_reg_other_Other',\n",
       "       'birth_reg_other_South', 'birth_reg_other_West', 'drivers_lic_Y',\n",
       "       'city_grp_Indian Trail', 'city_grp_Matthews', 'city_grp_Monroe',\n",
       "       'city_grp_Other', 'city_grp_Waxhaw'], dtype=object)"
      ]
     },
     "execution_count": 22,
     "metadata": {},
     "output_type": "execute_result"
    }
   ],
   "source": [
    "## Define target variable\n",
    "bin_2016_target = 'Gen_2016_binary'\n",
    "\n",
    "## Separate features (X) and target (y) for train-test-split\n",
    "X_2016 = model_2016_df.drop(columns=[bin_2016_target, 'Gen_2016'], axis=1).copy()\n",
    "y_bin_2016 = model_2016_df[bin_2016_target].copy()\n",
    "\n",
    "## Split the data into training and test sets prior to preprocessing\n",
    "X_2016_train, X_2016_test, y_bin_2016_train, y_bin_2016_test = train_test_split(X_2016, y_bin_2016,\n",
    "                                                            test_size=0.25,\n",
    "                                                            random_state=random_seed)\n",
    "\n",
    "## Make a list of all columns that are currently object dtype\n",
    "cat_cols = list(X_2016_train.select_dtypes('O').columns)\n",
    "\n",
    "## Create a pipeline for one hot encoding categorical columns\n",
    "cat_transformer = Pipeline(steps = [\n",
    "    ('ohe', OneHotEncoder(handle_unknown='error', \n",
    "                          sparse=False,\n",
    "                          drop='if_binary'))])\n",
    "\n",
    "## Define pipeline for preprocessing X\n",
    "preprocessing = ColumnTransformer(transformers=[\n",
    "    ('cat', cat_transformer, cat_cols)\n",
    "])\n",
    "\n",
    "## Preprocess training and test predictors (X)\n",
    "X_2016_train_tf = preprocessing.fit_transform(X_2016_train)\n",
    "X_2016_test_tf = preprocessing.transform(X_2016_test)\n",
    "\n",
    "## Get the feature names in the order they appear in preprocessed data\n",
    "feature_names_2016 = preprocessing.named_transformers_['cat'].named_steps['ohe'].get_feature_names(cat_cols)\n",
    "feature_names_2016"
   ]
  },
  {
   "cell_type": "markdown",
   "metadata": {},
   "source": [
    "#### 2016 Best Binary Target Model - XGBoost Classifier\n",
    "\n",
    "##### 2016 Baseline Binary XGBoost"
   ]
  },
  {
   "cell_type": "code",
   "execution_count": 23,
   "metadata": {
    "ExecuteTime": {
     "end_time": "2021-01-15T15:45:24.655060Z",
     "start_time": "2021-01-15T15:45:12.023901Z"
    }
   },
   "outputs": [
    {
     "name": "stdout",
     "output_type": "stream",
     "text": [
      "------------------------------------------------------------------------\n",
      "Classification Report: Baseline 2016 Binary XGBoost with Default Params\n",
      "------------------------------------------------------------------------\n",
      "              precision    recall  f1-score   support\n",
      "\n",
      "     No Vote       0.61      0.07      0.13      5278\n",
      "        Vote       0.84      0.99      0.91     25238\n",
      "\n",
      "    accuracy                           0.83     30516\n",
      "   macro avg       0.72      0.53      0.52     30516\n",
      "weighted avg       0.80      0.83      0.77     30516\n",
      "\n",
      "------------------------------------------------------------------------\n",
      "------------------------------------------------------------------------\n",
      "\n",
      "\n"
     ]
    },
    {
     "data": {
      "image/png": "[encoded data removed]",
      "text/plain": [
       "<Figure size 864x432 with 3 Axes>"
      ]
     },
     "metadata": {
      "needs_background": "light"
     },
     "output_type": "display_data"
    }
   ],
   "source": [
    "## Use preprocessor as the first step in modeling Pipeline \n",
    "xgb_bin_2016 = Pipeline(steps=[('preprocessing', preprocessing),\n",
    "                          ('xgb', XGBClassifier(random_state=random_seed,\n",
    "                                                objective='binary:logistic'))])\n",
    "\n",
    "xgb_bin_2016.fit(X_2016_train, y_bin_2016_train)\n",
    "\n",
    "eval_bin_clf(xgb_bin_2016, X_2016_test, y_bin_2016_test,\n",
    "             model_descr='Baseline 2016 Binary XGBoost with Default Params');"
   ]
  },
  {
   "cell_type": "markdown",
   "metadata": {},
   "source": [
    "##### 2016 Tuning Binary XGBoost Hyperparameters"
   ]
  },
  {
   "cell_type": "code",
   "execution_count": 24,
   "metadata": {
    "ExecuteTime": {
     "end_time": "2021-01-15T15:45:50.526740Z",
     "start_time": "2021-01-15T15:45:24.660504Z"
    }
   },
   "outputs": [
    {
     "name": "stdout",
     "output_type": "stream",
     "text": [
      "------------------------------------------------------------\n",
      "***** Grid Search Started at 01/15/21 - 10:45:24 AM\n",
      "------------------------------------------------------------\n",
      "\n",
      "\n",
      "***** Training Completed at 01/15/21 - 10:45:49 AM\n",
      "\n",
      "***** Total Training Time: 0:00:24.911940\n",
      "\n",
      "\n",
      "Best Parameters:\n",
      "{'xgb__colsample_bytree': 0.7, 'xgb__eta': 0.1, 'xgb__max_delta_step': 1, 'xgb__max_depth': 4, 'xgb__scale_pos_weight': 0.2, 'xgb__subsample': 0.75}\n",
      "\n",
      "\n",
      "------------------------------------------------------------------------\n",
      "Classification Report: Best 2016 Binary XGB Tuned for Balanced Accuracy\n",
      "------------------------------------------------------------------------\n",
      "              precision    recall  f1-score   support\n",
      "\n",
      "     No Vote       0.30      0.59      0.40      5278\n",
      "        Vote       0.89      0.71      0.79     25238\n",
      "\n",
      "    accuracy                           0.69     30516\n",
      "   macro avg       0.60      0.65      0.59     30516\n",
      "weighted avg       0.79      0.69      0.72     30516\n",
      "\n",
      "------------------------------------------------------------------------\n",
      "------------------------------------------------------------------------\n",
      "\n",
      "\n"
     ]
    },
    {
     "data": {
      "image/png": "[encoded data removed]",
      "text/plain": [
       "<Figure size 864x432 with 3 Axes>"
      ]
     },
     "metadata": {
      "needs_background": "light"
     },
     "output_type": "display_data"
    }
   ],
   "source": [
    "## Define a grid of different hyperparameter values to be tested\n",
    "params = {\n",
    "    'xgb__eta':[0.1],\n",
    "    'xgb__max_depth':[4],\n",
    "    'xgb__subsample': [0.75],\n",
    "    'xgb__colsample_bytree': [0.7],\n",
    "    'xgb__scale_pos_weight': [0.20],\n",
    "    'xgb__max_delta_step': [1]\n",
    "}\n",
    "\n",
    "## run the grid search to test parameters and find the best estimator \n",
    "xgb_bin_2016_bacc_grid = fit_grid_clf(xgb_bin_2016, params,\n",
    "                                 X_2016_train, y_bin_2016_train,\n",
    "                                 X_2016_test, y_bin_2016_test,\n",
    "                                 model_descr='Best 2016 Binary XGB Tuned for Balanced Accuracy',\n",
    "                                 score='balanced_accuracy',\n",
    "                                 bin_target=True)"
   ]
  },
  {
   "cell_type": "code",
   "execution_count": 25,
   "metadata": {
    "ExecuteTime": {
     "end_time": "2021-01-15T15:45:50.883109Z",
     "start_time": "2021-01-15T15:45:50.529663Z"
    }
   },
   "outputs": [
    {
     "data": {
      "image/png": "[encoded data removed]",
      "text/plain": [
       "<Figure size 576x432 with 1 Axes>"
      ]
     },
     "metadata": {
      "needs_background": "light"
     },
     "output_type": "display_data"
    }
   ],
   "source": [
    "plot_feat_importance(xgb_bin_2016_bacc_grid.best_estimator_, 'xgb', feature_names_2016,\n",
    "                      model_title='Best 2016 Binary XGB Tuned for Balanced Accuracy\\n');"
   ]
  },
  {
   "cell_type": "markdown",
   "metadata": {},
   "source": [
    "### 2016 Multiclass Target - Early, Election Day, No Vote\n",
    "\n",
    "#### 2016 Prepare DataFrame for Modeling - Train Test Split and Preprocessing"
   ]
  },
  {
   "cell_type": "code",
   "execution_count": 26,
   "metadata": {
    "ExecuteTime": {
     "end_time": "2021-01-15T15:45:50.910728Z",
     "start_time": "2021-01-15T15:45:50.885976Z"
    }
   },
   "outputs": [
    {
     "data": {
      "text/html": [
       "<div>\n",
       "<style scoped>\n",
       "    .dataframe tbody tr th:only-of-type {\n",
       "        vertical-align: middle;\n",
       "    }\n",
       "\n",
       "    .dataframe tbody tr th {\n",
       "        vertical-align: top;\n",
       "    }\n",
       "\n",
       "    .dataframe thead th {\n",
       "        text-align: right;\n",
       "    }\n",
       "</style>\n",
       "<table border=\"1\" class=\"dataframe\">\n",
       "  <thead>\n",
       "    <tr style=\"text-align: right;\">\n",
       "      <th></th>\n",
       "      <th>Gen_2016</th>\n",
       "      <th>Gen_2016_binary</th>\n",
       "      <th>gen_grp</th>\n",
       "      <th>party_grp</th>\n",
       "      <th>race_grp</th>\n",
       "      <th>gender_code</th>\n",
       "      <th>birth_reg_other</th>\n",
       "      <th>drivers_lic</th>\n",
       "      <th>city_grp</th>\n",
       "    </tr>\n",
       "  </thead>\n",
       "  <tbody>\n",
       "    <tr>\n",
       "      <th>0</th>\n",
       "      <td>Early</td>\n",
       "      <td>1</td>\n",
       "      <td>Boomer</td>\n",
       "      <td>Rep</td>\n",
       "      <td>White</td>\n",
       "      <td>M</td>\n",
       "      <td>South</td>\n",
       "      <td>Y</td>\n",
       "      <td>Indian Trail</td>\n",
       "    </tr>\n",
       "    <tr>\n",
       "      <th>1</th>\n",
       "      <td>Early</td>\n",
       "      <td>1</td>\n",
       "      <td>Boomer</td>\n",
       "      <td>Other</td>\n",
       "      <td>White</td>\n",
       "      <td>M</td>\n",
       "      <td>Northeast</td>\n",
       "      <td>Y</td>\n",
       "      <td>Waxhaw</td>\n",
       "    </tr>\n",
       "    <tr>\n",
       "      <th>2</th>\n",
       "      <td>Early</td>\n",
       "      <td>1</td>\n",
       "      <td>Boomer</td>\n",
       "      <td>Rep</td>\n",
       "      <td>White</td>\n",
       "      <td>F</td>\n",
       "      <td>Northeast</td>\n",
       "      <td>Y</td>\n",
       "      <td>Monroe</td>\n",
       "    </tr>\n",
       "    <tr>\n",
       "      <th>3</th>\n",
       "      <td>Early</td>\n",
       "      <td>1</td>\n",
       "      <td>GenX</td>\n",
       "      <td>Dem</td>\n",
       "      <td>Black</td>\n",
       "      <td>F</td>\n",
       "      <td>South</td>\n",
       "      <td>Y</td>\n",
       "      <td>Matthews</td>\n",
       "    </tr>\n",
       "    <tr>\n",
       "      <th>4</th>\n",
       "      <td>Early</td>\n",
       "      <td>1</td>\n",
       "      <td>GenX</td>\n",
       "      <td>Dem</td>\n",
       "      <td>White</td>\n",
       "      <td>M</td>\n",
       "      <td>Northeast</td>\n",
       "      <td>Y</td>\n",
       "      <td>Indian Trail</td>\n",
       "    </tr>\n",
       "  </tbody>\n",
       "</table>\n",
       "</div>"
      ],
      "text/plain": [
       "  Gen_2016  Gen_2016_binary gen_grp party_grp race_grp gender_code  \\\n",
       "0    Early                1  Boomer       Rep    White           M   \n",
       "1    Early                1  Boomer     Other    White           M   \n",
       "2    Early                1  Boomer       Rep    White           F   \n",
       "3    Early                1    GenX       Dem    Black           F   \n",
       "4    Early                1    GenX       Dem    White           M   \n",
       "\n",
       "  birth_reg_other drivers_lic      city_grp  \n",
       "0           South           Y  Indian Trail  \n",
       "1       Northeast           Y        Waxhaw  \n",
       "2       Northeast           Y        Monroe  \n",
       "3           South           Y      Matthews  \n",
       "4       Northeast           Y  Indian Trail  "
      ]
     },
     "metadata": {},
     "output_type": "display_data"
    },
    {
     "data": {
      "text/plain": [
       "122061"
      ]
     },
     "execution_count": 26,
     "metadata": {},
     "output_type": "execute_result"
    }
   ],
   "source": [
    "## Inspect the resulting df\n",
    "display(model_2016_df.head())\n",
    "len(model_2016_df)"
   ]
  },
  {
   "cell_type": "code",
   "execution_count": 27,
   "metadata": {
    "ExecuteTime": {
     "end_time": "2021-01-15T15:45:50.958281Z",
     "start_time": "2021-01-15T15:45:50.913533Z"
    }
   },
   "outputs": [
    {
     "data": {
      "text/html": [
       "<div>\n",
       "<style scoped>\n",
       "    .dataframe tbody tr th:only-of-type {\n",
       "        vertical-align: middle;\n",
       "    }\n",
       "\n",
       "    .dataframe tbody tr th {\n",
       "        vertical-align: top;\n",
       "    }\n",
       "\n",
       "    .dataframe thead th {\n",
       "        text-align: right;\n",
       "    }\n",
       "</style>\n",
       "<table border=\"1\" class=\"dataframe\">\n",
       "  <thead>\n",
       "    <tr style=\"text-align: right;\">\n",
       "      <th></th>\n",
       "      <th>count</th>\n",
       "      <th>%</th>\n",
       "    </tr>\n",
       "  </thead>\n",
       "  <tbody>\n",
       "    <tr>\n",
       "      <th>Early</th>\n",
       "      <td>71235</td>\n",
       "      <td>58.36</td>\n",
       "    </tr>\n",
       "    <tr>\n",
       "      <th>Election Day</th>\n",
       "      <td>29829</td>\n",
       "      <td>24.44</td>\n",
       "    </tr>\n",
       "    <tr>\n",
       "      <th>No Vote</th>\n",
       "      <td>20997</td>\n",
       "      <td>17.20</td>\n",
       "    </tr>\n",
       "  </tbody>\n",
       "</table>\n",
       "</div>"
      ],
      "text/plain": [
       "              count      %\n",
       "Early         71235  58.36\n",
       "Election Day  29829  24.44\n",
       "No Vote       20997  17.20"
      ]
     },
     "execution_count": 27,
     "metadata": {},
     "output_type": "execute_result"
    }
   ],
   "source": [
    "## Check that only the 3 target classes that represent a voter's choice remain\n",
    "check_unique('Gen_2016', model_2016_df)"
   ]
  },
  {
   "cell_type": "code",
   "execution_count": 28,
   "metadata": {
    "ExecuteTime": {
     "end_time": "2021-01-15T15:45:51.020491Z",
     "start_time": "2021-01-15T15:45:50.960360Z"
    }
   },
   "outputs": [
    {
     "data": {
      "text/plain": [
       "array(['Early', 'Election Day', 'No Vote'], dtype=object)"
      ]
     },
     "execution_count": 28,
     "metadata": {},
     "output_type": "execute_result"
    }
   ],
   "source": [
    "## Define target variable\n",
    "multi_2016_target = 'Gen_2016'\n",
    "\n",
    "## Separate features (X) and target (y) for train-test-split\n",
    "## X was already defined for previous models,\n",
    "  ## only need to adjust for new target\n",
    "y_multi_2016 = model_2016_df[multi_2016_target].copy()\n",
    "\n",
    "## Split the data into training and test sets prior to preprocessing\n",
    "  ## Random seed same as for binary modeling, so produces same X splits\n",
    "X_2016_train, X_2016_test, y_multi_2016_train, y_multi_2016_test = train_test_split(X_2016, y_multi_2016,\n",
    "                                                                test_size=0.25,\n",
    "                                                    random_state=random_seed)\n",
    "\n",
    "## Preprocess training and test target (y)\n",
    "le_2016 = LabelEncoder()\n",
    "y_multi_2016_train = pd.Series(le_2016.fit_transform(y_multi_2016_train))\n",
    "y_multi_2016_test = pd.Series(le_2016.transform(y_multi_2016_test))\n",
    "\n",
    "## Check order of classes\n",
    "le_2016.classes_"
   ]
  },
  {
   "cell_type": "markdown",
   "metadata": {},
   "source": [
    "#### 2016 Best Multiclass Target Model - XGBoost with SMOTE\n",
    "\n",
    "##### 2016 Baseline Multiclass XGBoost with SMOTE"
   ]
  },
  {
   "cell_type": "code",
   "execution_count": 29,
   "metadata": {
    "ExecuteTime": {
     "end_time": "2021-01-15T15:47:14.936294Z",
     "start_time": "2021-01-15T15:45:51.023518Z"
    }
   },
   "outputs": [
    {
     "name": "stdout",
     "output_type": "stream",
     "text": [
      "-------------------------------------------------------------------------\n",
      "Classification Report: 2016 Multiclass SMOTE XGBoost with Default Params\n",
      "-------------------------------------------------------------------------\n",
      "              precision    recall  f1-score   support\n",
      "\n",
      "       Early       0.68      0.52      0.59     17799\n",
      "Election Day       0.31      0.39      0.34      7439\n",
      "     No Vote       0.34      0.49      0.40      5278\n",
      "\n",
      "    accuracy                           0.48     30516\n",
      "   macro avg       0.44      0.46      0.44     30516\n",
      "weighted avg       0.53      0.48      0.50     30516\n",
      "\n",
      "-------------------------------------------------------------------------\n",
      "-------------------------------------------------------------------------\n",
      "\n",
      "\n"
     ]
    },
    {
     "data": {
      "image/png": "[encoded data removed]",
      "text/plain": [
       "<Figure size 720x432 with 2 Axes>"
      ]
     },
     "metadata": {
      "needs_background": "light"
     },
     "output_type": "display_data"
    }
   ],
   "source": [
    "## Use preprocessor as the first step in modeling Pipeline,\n",
    "  ## followed by SMOTE for oversampling\n",
    "xgb_multi_2016_smote = imbPipeline(steps=[\n",
    "    ('preprocessing', preprocessing),\n",
    "    ('sampler', SMOTE(random_state=random_seed, n_jobs=-1)),\n",
    "    ('xgb', XGBClassifier(random_state=random_seed))])\n",
    "\n",
    "xgb_multi_2016_smote.fit(X_2016_train, y_multi_2016_train)\n",
    "\n",
    "eval_classifier(xgb_multi_2016_smote, X_2016_test, y_multi_2016_test,\n",
    "                model_descr='2016 Multiclass SMOTE XGBoost with Default Params');"
   ]
  },
  {
   "cell_type": "markdown",
   "metadata": {},
   "source": [
    "##### 2016 Tuning Multiclass XGBoost with SMOTE Hyperparameters"
   ]
  },
  {
   "cell_type": "code",
   "execution_count": null,
   "metadata": {
    "ExecuteTime": {
     "start_time": "2021-01-15T15:35:35.737Z"
    }
   },
   "outputs": [
    {
     "name": "stdout",
     "output_type": "stream",
     "text": [
      "------------------------------------------------------------\n",
      "***** Grid Search Started at 01/15/21 - 10:47:14 AM\n",
      "------------------------------------------------------------\n",
      "\n"
     ]
    }
   ],
   "source": [
    "## Define a grid of different hyperparameter values to be tested\n",
    "params = {\n",
    "    'sampler__k_neighbors':[3],\n",
    "    'xgb__eta':[0.1],\n",
    "    'xgb__max_depth':[4],\n",
    "    'xgb__subsample': [0.85],\n",
    "    'xgb__colsample_bytree': [0.65],\n",
    "    'xgb__max_delta_step': [1]\n",
    "}\n",
    "\n",
    "## run the grid search to test parameters and find the best estimator \n",
    "xgb_multi_2016_smote_bacc_grid = fit_grid_clf(xgb_multi_2016_smote, params,\n",
    "                             X_2016_train, y_multi_2016_train,\n",
    "                             X_2016_test, y_multi_2016_test,\n",
    "                             model_descr='Best 2016 Multiclass SMOTE XGB Tuned for Balanced Accuracy',\n",
    "                             score='balanced_accuracy')"
   ]
  },
  {
   "cell_type": "code",
   "execution_count": null,
   "metadata": {
    "ExecuteTime": {
     "start_time": "2021-01-15T15:35:35.741Z"
    }
   },
   "outputs": [],
   "source": [
    "plot_feat_importance(xgb_multi_2016_smote_bacc_grid.best_estimator_, 'xgb', feature_names_2016,\n",
    "                     model_title='Best 2016 Multiclass SMOTE XGBoost Tuned for Balanced Accuracy\\n');"
   ]
  },
  {
   "cell_type": "markdown",
   "metadata": {},
   "source": [
    "## Model 2012 Election\n",
    "\n",
    "### 2012 Binary Target - Vote vs. No Vote\n",
    "\n",
    "#### 2012 Prepare DataFrame for Modeling - Train Test Split and Preprocessing"
   ]
  },
  {
   "cell_type": "code",
   "execution_count": null,
   "metadata": {
    "ExecuteTime": {
     "start_time": "2021-01-15T15:35:35.746Z"
    }
   },
   "outputs": [],
   "source": [
    "## Create new DataFrame from the full cleaned df that only consists of \n",
    "  ## the target ('Gen_2012') and desired predictors\n",
    "model_2012_df = elec_2012_df.copy()\n",
    "model_2012_df = model_2012_df[['Gen_2012', 'Gen_2012_binary', 'gen_grp', 'party_grp',\n",
    "                     'race_grp', 'gender_code', 'birth_reg_other',\n",
    "                     'drivers_lic', 'city_grp']]\n",
    "\n",
    "## Drop the 'Other' voting method so train-test-splits constant across\n",
    "## binary and multiclass target models\n",
    "  ## 'Other' represents provisional and transfer ballots. This type of\n",
    "    ## vote is not so much generated by a voter's choice as it is by the \n",
    "    ## legal process of how votes may be cast.\n",
    "model_2012_df = model_2012_df.drop(model_2012_df.loc[model_2012_df['Gen_2012']=='Other'].index)\n",
    "\n",
    "## Inspect the resulting df\n",
    "display(model_2012_df.head())\n",
    "len(model_2012_df)"
   ]
  },
  {
   "cell_type": "code",
   "execution_count": null,
   "metadata": {
    "ExecuteTime": {
     "start_time": "2021-01-15T15:35:35.750Z"
    }
   },
   "outputs": [],
   "source": [
    "## Check class imbalance\n",
    "check_unique('Gen_2012_binary', model_2012_df)"
   ]
  },
  {
   "cell_type": "code",
   "execution_count": null,
   "metadata": {
    "ExecuteTime": {
     "start_time": "2021-01-15T15:35:35.756Z"
    }
   },
   "outputs": [],
   "source": [
    "## Define target variable\n",
    "bin_2012_target = 'Gen_2012_binary'\n",
    "\n",
    "## Separate features (X) and target (y) for train-test-split\n",
    "X_2012 = model_2012_df.drop(columns=[bin_2012_target, 'Gen_2012'], axis=1).copy()\n",
    "y_bin_2012 = model_2012_df[bin_2012_target].copy()\n",
    "\n",
    "## Split the data into training and test sets prior to preprocessing\n",
    "X_2012_train, X_2012_test, y_bin_2012_train, y_bin_2012_test = train_test_split(X_2012, y_bin_2012, test_size=0.25,\n",
    "                                                    random_state=random_seed)\n",
    "\n",
    "## Make a list of all columns that are currently object dtype\n",
    "cat_cols = list(X_2012_train.select_dtypes('O').columns)\n",
    "\n",
    "## Create a pipeline for one hot encoding categorical columns\n",
    "cat_transformer = Pipeline(steps = [\n",
    "    ('ohe', OneHotEncoder(handle_unknown='error', \n",
    "                          sparse=False,\n",
    "                          drop='if_binary'))])\n",
    "\n",
    "## Combine num and cat transformer pipelines into a single pipeline\n",
    "  ## for preprocessing X\n",
    "preprocessing = ColumnTransformer(transformers=[\n",
    "    ('cat', cat_transformer, cat_cols)\n",
    "])\n",
    "\n",
    "## Preprocess training and test predictors (X)\n",
    "X_2012_train_tf = preprocessing.fit_transform(X_2012_train)\n",
    "X_2012_test_tf = preprocessing.transform(X_2012_test)\n",
    "\n",
    "## Get the feature names in the order they appear in preprocessed data\n",
    "feature_names_2012 = preprocessing.named_transformers_['cat'].named_steps['ohe'].get_feature_names(cat_cols)\n",
    "feature_names_2012"
   ]
  },
  {
   "cell_type": "markdown",
   "metadata": {},
   "source": [
    "#### 2012 Best Binary Target Model - XGBoost Classifier\n",
    "\n",
    "##### 2012 Baseline Binary XGBoost"
   ]
  },
  {
   "cell_type": "code",
   "execution_count": null,
   "metadata": {
    "ExecuteTime": {
     "start_time": "2021-01-15T15:35:35.761Z"
    }
   },
   "outputs": [],
   "source": [
    "## Use preprocessor as the first step in modeling Pipeline \n",
    "xgb_bin_2012 = Pipeline(steps=[('preprocessing', preprocessing),\n",
    "                          ('xgb', XGBClassifier(random_state=random_seed,\n",
    "                                            objective='binary:logistic'))])\n",
    "\n",
    "xgb_bin_2012.fit(X_2012_train, y_bin_2012_train)\n",
    "\n",
    "eval_bin_clf(xgb_bin_2012, X_2012_test, y_bin_2012_test,\n",
    "             model_descr='Baseline 2012 Binary XGBoost with Default Params');"
   ]
  },
  {
   "cell_type": "markdown",
   "metadata": {},
   "source": [
    "##### 2012 Tuning Binary XGBoost Hyperparameters"
   ]
  },
  {
   "cell_type": "code",
   "execution_count": null,
   "metadata": {
    "ExecuteTime": {
     "start_time": "2021-01-15T15:35:35.766Z"
    }
   },
   "outputs": [],
   "source": [
    "## Define a grid of different hyperparameter values to be tested\n",
    "params = {\n",
    "    'xgb__eta':[0.1],\n",
    "    'xgb__max_depth':[5],\n",
    "    'xgb__subsample': [0.9],\n",
    "    'xgb__colsample_bytree': [0.8],\n",
    "    'xgb__scale_pos_weight': [0.12],\n",
    "    'xgb__max_delta_step': [1]\n",
    "}\n",
    "\n",
    "## run the grid search to test parameters and find the best estimator \n",
    "xgb_bin_2012_bacc_grid = fit_grid_clf(xgb_bin_2012, params,\n",
    "                             X_2012_train, y_bin_2012_train,\n",
    "                             X_2012_test, y_bin_2012_test,\n",
    "                             model_descr='Best 2012 Binary XGB Tuned for Balanced Accuracy',\n",
    "                             score='balanced_accuracy',\n",
    "                             bin_target=True)"
   ]
  },
  {
   "cell_type": "code",
   "execution_count": null,
   "metadata": {
    "ExecuteTime": {
     "start_time": "2021-01-15T15:35:35.769Z"
    }
   },
   "outputs": [],
   "source": [
    "plot_feat_importance(xgb_bin_2012_bacc_grid.best_estimator_, 'xgb', feature_names_2012,\n",
    "                      model_title='Best 2012 Binary XGB Tuned for Balanced Accuracy\\n');"
   ]
  },
  {
   "cell_type": "markdown",
   "metadata": {},
   "source": [
    "### 2012 Multiclass Target - Early, Election Day, No Vote\n",
    "\n",
    "#### 2012 Prepare DataFrame for Modeling - Train Test Split and Preprocessing"
   ]
  },
  {
   "cell_type": "code",
   "execution_count": null,
   "metadata": {
    "ExecuteTime": {
     "start_time": "2021-01-15T15:35:35.774Z"
    }
   },
   "outputs": [],
   "source": [
    "## Inspect the resulting df\n",
    "display(model_2012_df.head())\n",
    "len(model_2012_df)"
   ]
  },
  {
   "cell_type": "code",
   "execution_count": null,
   "metadata": {
    "ExecuteTime": {
     "start_time": "2021-01-15T15:35:35.779Z"
    }
   },
   "outputs": [],
   "source": [
    "## Check that only the 3 target classes that represent a voter's choice remain\n",
    "check_unique('Gen_2012', model_2012_df)"
   ]
  },
  {
   "cell_type": "code",
   "execution_count": null,
   "metadata": {
    "ExecuteTime": {
     "start_time": "2021-01-15T15:35:35.783Z"
    }
   },
   "outputs": [],
   "source": [
    "## Define target variable\n",
    "multi_2012_target = 'Gen_2012'\n",
    "\n",
    "## Separate features (X) and target (y) for train-test-split\n",
    "## X was already defined for previous models,\n",
    "  ## only need to adjust for new target\n",
    "y_multi_2012 = model_2012_df[multi_2012_target].copy()\n",
    "\n",
    "## Split the data into training and test sets prior to preprocessing\n",
    "  ## Random seed same as for binary modeling, so produces same X splits\n",
    "X_2012_train, X_2012_test, y_multi_2012_train, y_multi_2012_test = train_test_split(X_2012, y_multi_2012, test_size=0.25,\n",
    "                                                    random_state=random_seed)\n",
    "\n",
    "## Preprocess training and test target (y)\n",
    "le_2012 = LabelEncoder()\n",
    "y_multi_2012_train = pd.Series(le_2012.fit_transform(y_multi_2012_train))\n",
    "y_multi_2012_test = pd.Series(le_2012.transform(y_multi_2012_test))\n",
    "\n",
    "## Check order of classes\n",
    "le_2012.classes_"
   ]
  },
  {
   "cell_type": "markdown",
   "metadata": {},
   "source": [
    "#### 2012 Best Multiclass Target Model - XGBoost with SMOTE\n",
    "\n",
    "##### 2012 Baseline Multiclass XGBoost with SMOTE"
   ]
  },
  {
   "cell_type": "code",
   "execution_count": null,
   "metadata": {
    "ExecuteTime": {
     "start_time": "2021-01-15T15:35:35.789Z"
    }
   },
   "outputs": [],
   "source": [
    "## Use preprocessor as the first step in modeling Pipeline,\n",
    "  ## followed by SMOTE for oversampling\n",
    "xgb_multi_2012_smote = imbPipeline(steps=[\n",
    "    ('preprocessing', preprocessing),\n",
    "    ('sampler', SMOTE(random_state=random_seed, n_jobs=-1)),\n",
    "    ('xgb', XGBClassifier(random_state=random_seed))])\n",
    "\n",
    "xgb_multi_2012_smote.fit(X_2012_train, y_multi_2012_train)\n",
    "\n",
    "eval_classifier(xgb_multi_2012_smote, X_2012_test, y_multi_2012_test,\n",
    "                model_descr='2012 Multiclass SMOTE XGBoost with Default Params');"
   ]
  },
  {
   "cell_type": "markdown",
   "metadata": {},
   "source": [
    "##### 2012 Tuning Multiclass XGBoost with SMOTE Hyperparameters"
   ]
  },
  {
   "cell_type": "code",
   "execution_count": null,
   "metadata": {
    "ExecuteTime": {
     "start_time": "2021-01-15T15:35:35.794Z"
    }
   },
   "outputs": [],
   "source": [
    "## Define a grid of different hyperparameter values to be tested\n",
    "params = {\n",
    "    'sampler__k_neighbors':[3],\n",
    "    'xgb__eta':[0.1],\n",
    "    'xgb__max_depth':[5],\n",
    "    'xgb__subsample': [0.95],\n",
    "    'xgb__colsample_bytree': [0.7],\n",
    "    'xgb__max_delta_step': [1]\n",
    "}\n",
    "\n",
    "## run the grid search to test parameters and find the best estimator \n",
    "xgb_multi_2012_smote_bacc_grid = fit_grid_clf(xgb_multi_2012_smote, params,\n",
    "                             X_2012_train, y_multi_2012_train,\n",
    "                             X_2012_test, y_multi_2012_test,\n",
    "                             model_descr='Best 2012 Multiclass SMOTE XGB Tuned for Balanced Accuracy',\n",
    "                             score='balanced_accuracy')"
   ]
  },
  {
   "cell_type": "code",
   "execution_count": null,
   "metadata": {
    "ExecuteTime": {
     "start_time": "2021-01-15T15:35:35.797Z"
    }
   },
   "outputs": [],
   "source": [
    "plot_feat_importance(xgb_multi_2012_smote_bacc_grid.best_estimator_, 'xgb', feature_names_2012,\n",
    "                     model_title='Best 2012 Multiclass SMOTE XGBoost Tuned for Balanced Accuracy \\n');"
   ]
  },
  {
   "cell_type": "markdown",
   "metadata": {},
   "source": [
    "# INTERPRET"
   ]
  },
  {
   "cell_type": "code",
   "execution_count": null,
   "metadata": {
    "ExecuteTime": {
     "start_time": "2021-01-15T15:35:35.802Z"
    }
   },
   "outputs": [],
   "source": [
    "## Import necessary libraries\n",
    "import xgboost\n",
    "import shap\n",
    "\n",
    "## Load JS visualization code to notebook\n",
    "shap.initjs()"
   ]
  },
  {
   "cell_type": "markdown",
   "metadata": {},
   "source": [
    "## Interpret 2020 Election"
   ]
  },
  {
   "cell_type": "code",
   "execution_count": null,
   "metadata": {
    "ExecuteTime": {
     "start_time": "2021-01-15T15:35:35.807Z"
    }
   },
   "outputs": [],
   "source": [
    "## Convert transformed (preprocessed) X train set into pandas DataFrame\n",
    "X_2020_train_df = pd.DataFrame(X_2020_train_tf, columns=feature_names_2020)\n",
    "X_2020_train_df.head()"
   ]
  },
  {
   "cell_type": "markdown",
   "metadata": {},
   "source": [
    "### 2020 Binary Target Model"
   ]
  },
  {
   "cell_type": "code",
   "execution_count": null,
   "metadata": {
    "ExecuteTime": {
     "start_time": "2021-01-15T15:35:35.811Z"
    }
   },
   "outputs": [],
   "source": [
    "## Store the booster (trained model)\n",
    "bin_2020_model = xgb_bin_2020_bacc_grid.best_estimator_.named_steps['xgb'].get_booster()\n",
    "\n",
    "## Explain the model's predictions using SHAP\n",
    "bin_2020_explainer = shap.TreeExplainer(bin_2020_model)\n",
    "bin_2020_shap_values = bin_2020_explainer.shap_values(X_2020_train_df)"
   ]
  },
  {
   "cell_type": "code",
   "execution_count": null,
   "metadata": {
    "ExecuteTime": {
     "start_time": "2021-01-15T15:35:35.815Z"
    }
   },
   "outputs": [],
   "source": [
    "## Print model prediction for seventh row of training set\n",
    "print('Prediction: ', \n",
    "      xgb_bin_2020_bacc_grid.best_estimator_.named_steps['xgb'].predict(X_2020_train_df.iloc[6,:]))\n",
    "# (0, no vote)\n",
    "\n",
    "## Print ground truth label seventh row of training set\n",
    "print('Actual: ', \n",
    "      y_bin_2020_train.iloc[6])\n",
    "# (0, truly no vote)\n",
    "\n",
    "## Visualize the seventh prediction's explanation\n",
    "shap.force_plot(bin_2020_explainer.expected_value,\n",
    "                bin_2020_shap_values[6,:],\n",
    "                X_2020_train_df.iloc[6,:])"
   ]
  },
  {
   "cell_type": "markdown",
   "metadata": {},
   "source": [
    "The plot above visualizes how the model is making its prediction for the seventh individual in the training set. \n",
    "> The seventh individual did not vote and the model predicted this correctly. The model was pushed towards the prediction of \"no vote\" by the fact that the individual belongs to Gen Z (and thus is also neither in Generation X or a Baby Boomer). The fact that the individual was male and not a Republican also pushed the model towards the correct prediction for this individual. The facts that he lives in Matthews and is not a millennial pushed the model in the opposite direction, but not enough to overwhelm the factors more predictive of \"no vote\" (0)."
   ]
  },
  {
   "cell_type": "code",
   "execution_count": null,
   "metadata": {
    "ExecuteTime": {
     "start_time": "2021-01-15T15:35:35.821Z"
    }
   },
   "outputs": [],
   "source": [
    "## Print model prediction for third row of training set\n",
    "print(xgb_bin_2020_bacc_grid.best_estimator_.named_steps['xgb'].predict(X_2020_train_df.iloc[2,:]))\n",
    "# (1, voted)\n",
    "\n",
    "## Print ground truth label third row of training set\n",
    "print('Actual: ', \n",
    "      y_bin_2020_train.iloc[2])\n",
    "# (1, truly did vote)\n",
    "\n",
    "## Visualize the third prediction's explanation\n",
    "shap.force_plot(bin_2020_explainer.expected_value,\n",
    "                bin_2020_shap_values[2,:],\n",
    "                X_2020_train_df.iloc[2,:])"
   ]
  },
  {
   "cell_type": "markdown",
   "metadata": {},
   "source": [
    "The plot immediately above visualizes how the model is making its prediction for the third individual in the training set. \n",
    "> The third individual voted and the model predicted this correctly. The model was pushed towards the prediction of \"vote\" (1) by the fact that their birth region information was missing, they belong to the Baby Boomer generation (and thus are not a millenial), and they have a drivers license. The fact the this person is not a Republican and also chose not to identify as being affiliated with either of the two major political parties pushed the model in the incorrect direction towards \"no vote\" (0), but not enough to overwhelm the factors more predictive of \"vote\" (1)."
   ]
  },
  {
   "cell_type": "markdown",
   "metadata": {},
   "source": [
    "The plot below shows the impact each feature had on the model's output (predictions) quantified in terms of SHAP values. The top 7 features (after which there is a drop in impact) are `gen_grp_Millennial`, `birth_reg_other_Missing`, `party_grp_Rep`, `gen_grp_Boomer`, `gen_grp_GenX`, `gen_grp_GenZ`, and `drivers_lic_Y`. Obviously age group is important because it makes up 4 of the top 7 features. Only the oldest age group (really two oldest generations combined as 'Greatest-Silent') is missing. Whether or not a person's voter registration record lists their birthplace is the second most impactful feature on model output, and whether or not the voter registered as a Republican is the third most impactful feature. Whether or not the person possesses a drivers license was the 7th most impactful predictor."
   ]
  },
  {
   "cell_type": "code",
   "execution_count": null,
   "metadata": {
    "ExecuteTime": {
     "start_time": "2021-01-15T15:35:35.828Z"
    },
    "scrolled": false
   },
   "outputs": [],
   "source": [
    "## Display mean abs(SHAP value) for each feature for the full training set\n",
    "shap.summary_plot(bin_2020_shap_values, X_2020_train_df, plot_type='bar')"
   ]
  },
  {
   "cell_type": "markdown",
   "metadata": {},
   "source": [
    "The plot below is similar to that above in that it ranks the top features based on mean SHAP values (so the ordering is the same). Each point represents a voter in the training set. The grey vertical line at 0.0 represents SHAP values that had 0 impact on model output, so the farther the points are from the grey line, the more important the feature was in terms of predicting that voter's participation in the election (whether they voted or not). Negative SHAP values to the left of the grey line push the model towards a prediction of 0 or \"No Vote\" whereas positive SHAP values push the model towards a prediction of 1 or \"Vote\". \n",
    "\n",
    "Since all the features were label encoded, each feature is a binary variable representing whether the voter does or does not belong to the category listed at the end of the feature name (so 1 for `gen_grp_Millenial` means the person is a millennial). Thus high values of 1 are color coded red and low values of 0 are color coded blue.\n",
    "\n",
    "**Top 7 Features Explained**:\n",
    "\n",
    "1. `gen_grp_Millennial` - Being a millenial (1, red) pushed the model towards a prediction of \"No Vote\".\n",
    "\n",
    "\n",
    "2. `birth_reg_other_Missing` - Voters whose record was missing their birthplace information (1, red) were more likely to vote.\n",
    "\n",
    "\n",
    "3. `party_grp_Rep` - Being a Republican (1, red) pushed the model towards a prediction of \"Vote\".\n",
    "\n",
    "\n",
    "4. `gen_grp_Boomer` - Belonging to the Baby Boomer generation (1, red) pushed the model towards a prediction of \"Vote\".\n",
    "\n",
    "\n",
    "5. `gen_grp_GenX` - Belonging to the Generation X (1, red) pushed the model towards a prediction of \"Vote\".\n",
    "\n",
    "\n",
    "6. `gen_grp_GenZ` - Belonging to the Gen Z (1, red) pushed the model towards a prediction of \"No Vote\".\n",
    "\n",
    "\n",
    "7. `drivers_lic_Y` - Not having a drivers license (0, blue) made the model predict that someone was less likely to vote."
   ]
  },
  {
   "cell_type": "code",
   "execution_count": null,
   "metadata": {
    "ExecuteTime": {
     "start_time": "2021-01-15T15:35:35.832Z"
    }
   },
   "outputs": [],
   "source": [
    "## Display mean abs(SHAP value) for each feature for the full training set\n",
    "shap.summary_plot(bin_2020_shap_values, X_2020_train_df)"
   ]
  },
  {
   "cell_type": "markdown",
   "metadata": {},
   "source": [
    "### 2020 Multiclass Target Model"
   ]
  },
  {
   "cell_type": "code",
   "execution_count": null,
   "metadata": {
    "ExecuteTime": {
     "start_time": "2021-01-15T15:35:35.837Z"
    }
   },
   "outputs": [],
   "source": [
    "## Store the booster (trained model)\n",
    "multi_2020_model = xgb_multi_2020_smote_bacc_grid.best_estimator_.named_steps['xgb'].get_booster()\n",
    "\n",
    "## Explain the model's predictions using SHAP\n",
    "multi_2020_explainer = shap.TreeExplainer(multi_2020_model)\n",
    "multi_2020_shap_values = multi_2020_explainer.shap_values(X_2020_train_df)\n",
    "\n",
    "## multi_2020_shap_values is a list of 3 arrays, one for each class\n",
    "print(type(multi_2020_shap_values))\n",
    "print(type(multi_2020_shap_values[0]))\n",
    "print(multi_2020_shap_values[0].shape)\n",
    "len(multi_2020_shap_values)"
   ]
  },
  {
   "cell_type": "code",
   "execution_count": null,
   "metadata": {
    "ExecuteTime": {
     "start_time": "2021-01-15T15:35:35.840Z"
    }
   },
   "outputs": [],
   "source": [
    "## Check order of label encoded classes\n",
    "le_2020.classes_"
   ]
  },
  {
   "cell_type": "code",
   "execution_count": null,
   "metadata": {
    "ExecuteTime": {
     "start_time": "2021-01-15T15:35:35.844Z"
    }
   },
   "outputs": [],
   "source": [
    "## Store each class' array of values separately\n",
    "early_multi_2020_shap = multi_2020_shap_values[0].shape\n",
    "elec_multi_2020_shap = multi_2020_shap_values[1].shape\n",
    "no_multi_2020_shap = multi_2020_shap_values[2].shape\n",
    "\n",
    "## Print model pred and ground truth label for seventh row of training set\n",
    "  ## and visualize prediction explanation\n",
    "multi_shap_force(xgb_multi_2020_smote_bacc_grid.best_estimator_, 'xgb', 6,\n",
    "                     X_2020_train_df, y_multi_2020_train,\n",
    "                     multi_2020_explainer, multi_2020_shap_values)"
   ]
  },
  {
   "cell_type": "markdown",
   "metadata": {},
   "source": [
    "The plots above visualize how the model is making its prediction for the seventh individual in the training set. \n",
    "> The seventh individual did not vote and the model predicted this correctly. The breakdown for the \"No Vote\" class is shown in the third plot. The other two plots show how the features influenced the model's prediction for this person for the other two classes, but in the case of multiclass models, the class with the highest score was ultimately the predicted output for each voter.\n",
    "\n",
    "> Examining the bottom plot, the model was pushed towards the prediction of \"No Vote\" by the fact that the individual belongs to Gen Z (and thus is also neither in Generation X or a Baby Boomer). The fact that the individual was not a Republican, is not missing birthplace information, and is a male also pushed the model towards the correct prediction for this individual. The facts that he is white and lives in Matthews pushed the model in the opposite direction, but not enough to overwhelm the factors more predictive of \"No Vote\"."
   ]
  },
  {
   "cell_type": "code",
   "execution_count": null,
   "metadata": {
    "ExecuteTime": {
     "start_time": "2021-01-15T15:35:35.848Z"
    }
   },
   "outputs": [],
   "source": [
    "## Print model pred and ground truth label for third row of training set\n",
    "  ## and visualize prediction explanation\n",
    "multi_shap_force(xgb_multi_2020_smote_bacc_grid.best_estimator_, 'xgb', 2,\n",
    "                     X_2020_train_df, y_multi_2020_train,\n",
    "                     multi_2020_explainer, multi_2020_shap_values)"
   ]
  },
  {
   "cell_type": "markdown",
   "metadata": {},
   "source": [
    "The plots above visualize how the model is making its prediction for the third individual in the training set. \n",
    "> The third individual voted early, but the model predicted that they voted on election day. The breakdown for the \"Early\" class is shown in the first plot, while that for \"Election Day\" is in the second plot. For multiclass models, the class with the highest score was ultimately the predicted output for each voter. The score for \"Election Day\" was only 0.04 greater than the score for \"Early\".\n",
    "\n",
    "> Examining the bottom plot, the model was pushed towards the prediction of \"Election Day\" by the fact that the individual lives in Monroe (and thus does not live in Waxhaw), that their birthplace information is missing in their registration record, and they are not a Democrat or Black. The fact that the individual is not a Generation X'er and is not male or a Republican, is not missing birthplace information, and is a male pushed the model in the opposite direction, but not enough to overwhelm the factors more predictive of \"Election Day\"."
   ]
  },
  {
   "cell_type": "markdown",
   "metadata": {},
   "source": [
    "The plot below shows the impact each feature had on the model's output (predictions) quantified in terms of SHAP values. The top 6 features (after which there is a drop in impact) are `gen_grp_Millennial`, `gen_grp_GenX`, `birth_reg_other_Missing`, `party_grp_Rep`, `gen_grp_Boomer`, and `city_grp_Waxhaw`. These are almost exactly the same top features as for the binary target model, and are in a very similar order. Obviously age group is important because it makes up 3 of the top 6 features. Whether or not a person's voter registration record lists their birthplace is the third most impactful feature on model output, and whether or not the voter registered as a Republican is the fourth most impactful feature. Whether or not the voter resides in Waxhaw was the 6th most impactful predictor. The colors of the bars represent how much the particular feature influenced the prediction for each class, but these trends are more easily visualized in the non-bar summary plots that follow."
   ]
  },
  {
   "cell_type": "code",
   "execution_count": null,
   "metadata": {
    "ExecuteTime": {
     "start_time": "2021-01-15T15:35:35.853Z"
    }
   },
   "outputs": [],
   "source": [
    "## Display mean abs(SHAP value) of each feature for the full training set\n",
    "  ## for all classes\n",
    "shap.summary_plot(multi_2020_shap_values, X_2020_train_df,\n",
    "                  plot_type='bar', class_names=le_2020.classes_)"
   ]
  },
  {
   "cell_type": "markdown",
   "metadata": {},
   "source": [
    "The plots that follow are similar to the above plot in that they rank the top features based on mean SHAP values, but each plot ranks the features for one of the 3 target classes (\"Early\", \"Election Day\", and then \"No Vote\" respectively). Each point represents a voter in the training set. The grey vertical line at 0.0 represents SHAP values that had 0 impact on model output, so the farther the points are from the grey line, the more important the feature was in terms of predicting that voter's participation in the election. Negative SHAP values to the left of the grey line push the model towards a prediction of 0 for the particular class (in other words, not the class in question), whereas positive SHAP values push the model towards a prediction of the class in question (1). \n",
    "\n",
    "Since all the features were label encoded, each feature is a binary variable representing whether the voter does or does not belong to the category listed at the end of the feature name (so 1 for `gen_grp_Millenial` means the person is a millennial). Thus high values of 1 are color coded red and low values of 0 are color coded blue.\n",
    "\n",
    "---\n",
    "\n",
    "**Top 5 Features for the \"Early\" Class Explained**:\n",
    "\n",
    "1. `gen_grp_Millennial` - Being a millenial (1, red) pushed the model away from a prediction of \"Early\".\n",
    "\n",
    "\n",
    "2. `gen_grp_Boomer` - Belonging to the Baby Boomer generation (1, red) pushed the model towards a prediction of \"Early\".\n",
    "\n",
    "\n",
    "3. `city_grp_Monroe` - Residing in Monroe (1, red) pushed the model away from a prediction of \"Early\".\n",
    "\n",
    "\n",
    "4. `city_grp_Waxhaw` - Residing in Waxhaw (1, red) pushed the model towards a prediction of \"Early\".\n",
    "\n",
    "\n",
    "5. `gen_grp_Greatest-Silent` - Belonging to the Greatest/ Silent generation age group (1, red) pushed the model towards a prediction of \"Early\"."
   ]
  },
  {
   "cell_type": "code",
   "execution_count": null,
   "metadata": {
    "ExecuteTime": {
     "start_time": "2021-01-15T15:35:35.857Z"
    }
   },
   "outputs": [],
   "source": [
    "multi_shap_summ(multi_2020_shap_values, X_2020_train_df, 0);"
   ]
  },
  {
   "cell_type": "markdown",
   "metadata": {},
   "source": [
    "---\n",
    "\n",
    "**Top 5 Features for the \"Election Day\" Class Explained**:\n",
    "\n",
    "1. `city_grp_Waxhaw` - Residing in Waxhaw (1, red) pushed the model away from a prediction of \"Election Day\".\n",
    "\n",
    "\n",
    "2. `gen_grp_GenX` - Belonging to the Baby Boomer generation (1, red) pushed the model towards a prediction of \"Election Day\".\n",
    "\n",
    "\n",
    "3. `drivers_lic_Y` - Not having a drivers license (0, blue) pushed the model away from a prediction of \"Election Day\".\n",
    "\n",
    "\n",
    "4. `race_grp_Black` - Being Black (1, red) pushed the model away from a prediction of \"Election Day\".\n",
    "\n",
    "\n",
    "5. `party_grp_Dem` - Being a Democrat pushed the model away from a prediction of \"Election Day\"."
   ]
  },
  {
   "cell_type": "code",
   "execution_count": null,
   "metadata": {
    "ExecuteTime": {
     "start_time": "2021-01-15T15:35:35.861Z"
    }
   },
   "outputs": [],
   "source": [
    "multi_shap_summ(multi_2020_shap_values, X_2020_train_df, 1);"
   ]
  },
  {
   "cell_type": "markdown",
   "metadata": {},
   "source": [
    "---\n",
    "\n",
    "**Top 5 Features for the \"No Vote\" Class Explained**:\n",
    "\n",
    "1. `birth_reg_other_Missing` - Missing information about birthplace (1, red) pushed the model away from a prediction of \"No Vote\".\n",
    "\n",
    "\n",
    "2. `party_grp_Rep` - Being a Republican (1, red) pushed the model away from a prediction of \"No Vote\" and not being a Republican (0, blue) pushed the model towards a prediction of \"No Vote\".\n",
    "\n",
    "\n",
    "3. `gen_grp_GenX` -  Belonging to Generation X (1, red) pushed the model away from a prediction of \"No Vote\".\n",
    "\n",
    "\n",
    "4. `gen_grp_Boomer` - Being a Baby Boomer (1, red) pushed the model away from a prediction of \"No Vote\".\n",
    "\n",
    "\n",
    "5. `drivers_lic_Y` - Not having a drivers license (0, blue) pushed the model towards a prediction of \"No Vote\"."
   ]
  },
  {
   "cell_type": "code",
   "execution_count": null,
   "metadata": {
    "ExecuteTime": {
     "start_time": "2021-01-15T15:35:35.865Z"
    }
   },
   "outputs": [],
   "source": [
    "multi_shap_summ(multi_2020_shap_values, X_2020_train_df, 2);"
   ]
  },
  {
   "cell_type": "markdown",
   "metadata": {},
   "source": [
    "## Interpret 2016 Election"
   ]
  },
  {
   "cell_type": "code",
   "execution_count": null,
   "metadata": {
    "ExecuteTime": {
     "start_time": "2021-01-15T15:35:35.871Z"
    }
   },
   "outputs": [],
   "source": [
    "## Convert transformed (preprocessed) X train set into pandas DataFrame\n",
    "X_2016_train_df = pd.DataFrame(X_2016_train_tf, columns=feature_names_2016)\n",
    "X_2016_train_df.head()"
   ]
  },
  {
   "cell_type": "markdown",
   "metadata": {},
   "source": [
    "### 2016 Binary Target Model"
   ]
  },
  {
   "cell_type": "code",
   "execution_count": null,
   "metadata": {
    "ExecuteTime": {
     "start_time": "2021-01-15T15:35:35.875Z"
    }
   },
   "outputs": [],
   "source": [
    "## Store the booster (trained model)\n",
    "bin_2016_model = xgb_bin_2016_bacc_grid.best_estimator_.named_steps['xgb'].get_booster()\n",
    "\n",
    "## Explain the model's predictions using SHAP\n",
    "bin_2016_explainer = shap.TreeExplainer(bin_2016_model)\n",
    "bin_2016_shap_values = bin_2016_explainer.shap_values(X_2016_train_df)"
   ]
  },
  {
   "cell_type": "code",
   "execution_count": null,
   "metadata": {
    "ExecuteTime": {
     "start_time": "2021-01-15T15:35:35.878Z"
    }
   },
   "outputs": [],
   "source": [
    "## Print model prediction for third row of training set\n",
    "print(xgb_bin_2016_bacc_grid.best_estimator_.named_steps['xgb'].predict(X_2016_train_df.iloc[2,:]))\n",
    "# (0, no vote)\n",
    "\n",
    "## Print ground truth label third row of training set\n",
    "print('Actual: ', \n",
    "      y_bin_2016_train.iloc[2])\n",
    "# (0, truly did not vote)\n",
    "\n",
    "## Visualize the third prediction's explanation\n",
    "shap.force_plot(bin_2016_explainer.expected_value,\n",
    "                bin_2016_shap_values[2,:],\n",
    "                X_2016_train_df.iloc[2,:])"
   ]
  },
  {
   "cell_type": "markdown",
   "metadata": {},
   "source": [
    "The plot above visualizes how the model is making its prediction for the third individual in the training set. \n",
    "> The third individual did not vote and the model predicted this correctly. The model was pushed towards the prediction of \"No Vote\" (0) by the fact that the individual belongs to Gen Z. The fact that the individual is not a Republican, is not missing birthplace information, and resides in Monroe also pushed the model towards the correct prediction of \"No Vote\" for this individual."
   ]
  },
  {
   "cell_type": "code",
   "execution_count": null,
   "metadata": {
    "ExecuteTime": {
     "start_time": "2021-01-15T15:35:35.882Z"
    }
   },
   "outputs": [],
   "source": [
    "## Print model prediction for seventh row of training set\n",
    "print('Prediction: ', \n",
    "      xgb_bin_2016_bacc_grid.best_estimator_.named_steps['xgb'].predict(X_2016_train_df.iloc[6,:]))\n",
    "# (1, voted)\n",
    "\n",
    "## Print ground truth label seventh row of training set\n",
    "print('Actual: ', \n",
    "      y_bin_2016_train.iloc[6])\n",
    "# (1, truly did vote)\n",
    "\n",
    "## Visualize the seventh prediction's explanation\n",
    "shap.force_plot(bin_2016_explainer.expected_value,\n",
    "                bin_2016_shap_values[6,:],\n",
    "                X_2016_train_df.iloc[6,:])"
   ]
  },
  {
   "cell_type": "markdown",
   "metadata": {},
   "source": [
    "The plot immediately above visualizes how the model is making its prediction for the seventh individual in the training set. \n",
    "> The seventh individual voted and the model predicted this correctly. The model was pushed towards the prediction of \"vote\" (1) by the fact that their birth region information was missing, they belong to the Baby Boomer generation (and thus are not a millenial or Gen Z), and they have a drivers license. The fact the this person is not a Republican and resides in Monroe pushed the model in the incorrect direction towards \"No Vote\" (0), but not enough to overwhelm the factors more predictive of \"Vote\" (1)."
   ]
  },
  {
   "cell_type": "markdown",
   "metadata": {},
   "source": [
    "The plot below shows the impact each feature had on the model's output (predictions) quantified in terms of SHAP values. The top 3 features (after which there is a drop in impact) are `gen_grp_Millennial`, `birth_reg_other_Missing`, and `party_grp_Rep`, respectively."
   ]
  },
  {
   "cell_type": "code",
   "execution_count": null,
   "metadata": {
    "ExecuteTime": {
     "start_time": "2021-01-15T15:35:35.886Z"
    }
   },
   "outputs": [],
   "source": [
    "## Display mean abs(SHAP value) for each feature for the full training set\n",
    "shap.summary_plot(bin_2016_shap_values, X_2016_train_df, plot_type='bar')"
   ]
  },
  {
   "cell_type": "markdown",
   "metadata": {},
   "source": [
    "The plot below is similar to that above in that it ranks the top features based on mean SHAP values (so the ordering is the same). Each point represents a voter in the training set. The grey vertical line at 0.0 represents SHAP values that had 0 impact on model output, so the farther the points are from the grey line, the more important the feature was in terms of predicting that voter's participation in the election (whether they voted or not). Negative SHAP values to the left of the grey line push the model towards a prediction of 0 or \"No Vote\" whereas positive SHAP values push the model towards a prediction of 1 or \"Vote\". \n",
    "\n",
    "Since all the features were label encoded, each feature is a binary variable representing whether the voter does or does not belong to the category listed at the end of the feature name (so 1 for `gen_grp_Millenial` means the person is a millennial). Thus high values of 1 are color coded red and low values of 0 are color coded blue.\n",
    "\n",
    "**Top 3 Features Explained**:\n",
    "\n",
    "1. `gen_grp_Millennial` - Being a millenial (1, red) pushed the model towards a prediction of \"No Vote\".\n",
    "\n",
    "\n",
    "2. `birth_reg_other_Missing` - Voters whose record was missing their birthplace information (1, red) were more likely to vote.\n",
    "\n",
    "\n",
    "3. `party_grp_Rep` - Being a Republican (1, red) pushed the model towards a prediction of \"Vote\" and not being a Republican (0, blue) pushed the model towards a prediction of \"No Vote\"."
   ]
  },
  {
   "cell_type": "code",
   "execution_count": null,
   "metadata": {
    "ExecuteTime": {
     "start_time": "2021-01-15T15:35:35.890Z"
    }
   },
   "outputs": [],
   "source": [
    "## Display mean abs(SHAP value) for each feature for the full training set\n",
    "shap.summary_plot(bin_2016_shap_values, X_2016_train_df)"
   ]
  },
  {
   "cell_type": "markdown",
   "metadata": {},
   "source": [
    "### 2016 Multiclass Target Model"
   ]
  },
  {
   "cell_type": "code",
   "execution_count": null,
   "metadata": {
    "ExecuteTime": {
     "start_time": "2021-01-15T15:35:35.893Z"
    }
   },
   "outputs": [],
   "source": [
    "## Store the booster (trained model)\n",
    "multi_2016_model = xgb_multi_2016_smote_bacc_grid.best_estimator_.named_steps['xgb'].get_booster()\n",
    "\n",
    "## Explain the model's predictions using SHAP\n",
    "multi_2016_explainer = shap.TreeExplainer(multi_2016_model)\n",
    "multi_2016_shap_values = multi_2016_explainer.shap_values(X_2016_train_df)\n",
    "\n",
    "## multi_2016_shap_values is a list of 3 arrays, one for each class\n",
    "print(type(multi_2016_shap_values))\n",
    "print(type(multi_2016_shap_values[0]))\n",
    "print(multi_2016_shap_values[0].shape)\n",
    "len(multi_2016_shap_values)"
   ]
  },
  {
   "cell_type": "code",
   "execution_count": null,
   "metadata": {
    "ExecuteTime": {
     "start_time": "2021-01-15T15:35:35.896Z"
    }
   },
   "outputs": [],
   "source": [
    "## Check order of label encoded classes\n",
    "le_2016.classes_"
   ]
  },
  {
   "cell_type": "code",
   "execution_count": null,
   "metadata": {
    "ExecuteTime": {
     "start_time": "2021-01-15T15:35:35.899Z"
    }
   },
   "outputs": [],
   "source": [
    "## Store each class' array of values separately\n",
    "early_multi_2016_shap = multi_2016_shap_values[0].shape\n",
    "elec_multi_2016_shap = multi_2016_shap_values[1].shape\n",
    "no_multi_2016_shap = multi_2016_shap_values[2].shape\n",
    "\n",
    "## Print model pred and ground truth label for third row of training set\n",
    "  ## and visualize prediction explanation\n",
    "multi_shap_force(xgb_multi_2016_smote_bacc_grid.best_estimator_, 'xgb', 2,\n",
    "                     X_2016_train_df, y_multi_2016_train,\n",
    "                     multi_2016_explainer, multi_2016_shap_values)"
   ]
  },
  {
   "cell_type": "markdown",
   "metadata": {},
   "source": [
    "The plots above visualize how the model is making its prediction for the third individual in the training set. \n",
    "> The third individual did not vote and the model predicted this correctly. The breakdown for the \"No Vote\" class is shown in the third plot. The other two plots show how the features influenced the model's prediction for this person for the other two classes, but in the case of multiclass models, the class with the highest score was ultimately the predicted output for each voter.\n",
    "\n",
    "> Examining the bottom plot, the model was pushed towards the prediction of \"No Vote\" by the fact that the individual belongs to Gen Z (and thus is not a Baby Boomer). The fact that the individual is not a Republican, is not missing birthplace information, and resides in Monroe also pushed the model towards the correct prediction for this individual."
   ]
  },
  {
   "cell_type": "code",
   "execution_count": null,
   "metadata": {
    "ExecuteTime": {
     "start_time": "2021-01-15T15:35:35.905Z"
    }
   },
   "outputs": [],
   "source": [
    "## Print model pred and ground truth label for seventh row of training set\n",
    "  ## and visualize prediction explanation\n",
    "multi_shap_force(xgb_multi_2016_smote_bacc_grid.best_estimator_, 'xgb', 6,\n",
    "                     X_2016_train_df, y_multi_2016_train,\n",
    "                     multi_2016_explainer, multi_2016_shap_values)"
   ]
  },
  {
   "cell_type": "markdown",
   "metadata": {},
   "source": [
    "The plots above visualize how the model is making its prediction for the seventh individual in the training set. \n",
    "> The seventh individual voted early, and the model predicted this correctly. The breakdown for the \"Early\" class is shown in the first plot. For multiclass models, the class with the highest score was ultimately the predicted output for each voter.\n",
    "\n",
    "> Examining the top plot, the model was pushed towards the prediction of \"Early\" by the fact that the individual is a Baby Boomer (and thus not a millennial), that their birthplace information is missing in their registration record, and they are not a male. The fact that the individual resides in Monroe and is not a Republican pushed the model in the opposite direction, but not enough to overwhelm the factors more predictive of \"Early\"."
   ]
  },
  {
   "cell_type": "markdown",
   "metadata": {},
   "source": [
    "The plot below shows the impact each feature had on the model's output (predictions) quantified in terms of SHAP values. The top 5 features (after which there is a drop in impact) are `gen_grp_Millennial`, `birth_reg_other_Missing`, `gen_grp_Boomer`, `gen_grp_GenX`, and `party_grp_Rep`. These are very similar to the top features for the binary target model, and are in a very similar order. Obviously age group is important because it makes up 3 of the top 5 features. Whether or not a person's voter registration record lists their birthplace is the second most impactful feature on model output, and whether or not the voter registered as a Republican is the fifth most impactful feature. The colors of the bars represent how much the particular feature influenced the prediction for each class, but these trends are more easily visualized in the non-bar summary plots that follow."
   ]
  },
  {
   "cell_type": "code",
   "execution_count": null,
   "metadata": {
    "ExecuteTime": {
     "start_time": "2021-01-15T15:35:35.912Z"
    }
   },
   "outputs": [],
   "source": [
    "## Display mean abs(SHAP value) of each feature for the full training set\n",
    "  ## for all classes\n",
    "shap.summary_plot(multi_2016_shap_values, X_2016_train_df,\n",
    "                  plot_type='bar', class_names=le_2016.classes_)"
   ]
  },
  {
   "cell_type": "markdown",
   "metadata": {},
   "source": [
    "The plots that follow are similar to the above plot in that they rank the top features based on mean SHAP values, but each plot ranks the features for one of the 3 target classes (\"Early\", \"Election Day\", and then \"No Vote\" respectively). Each point represents a voter in the training set. The grey vertical line at 0.0 represents SHAP values that had 0 impact on model output, so the farther the points are from the grey line, the more important the feature was in terms of predicting that voter's participation in the election. Negative SHAP values to the left of the grey line push the model towards a prediction of 0 for the particular class (in other words, not the class in question), whereas positive SHAP values push the model towards a prediction of the class in question (1). \n",
    "\n",
    "Since all the features were label encoded, each feature is a binary variable representing whether the voter does or does not belong to the category listed at the end of the feature name (so 1 for `gen_grp_Millenial` means the person is a millennial). Thus high values of 1 are color coded red and low values of 0 are color coded blue.\n",
    "\n",
    "---\n",
    "\n",
    "**Top 5 Features for the \"Early\" Class Explained**:\n",
    "\n",
    "1. `gen_grp_Millennial` - Being a millenial (1, red) pushed the model away from a prediction of \"Early\".\n",
    "\n",
    "\n",
    "2. `gen_grp_Boomer` - Belonging to the Baby Boomer generation (1, red) pushed the model towards a prediction of \"Early\".\n",
    "\n",
    "\n",
    "3. `city_grp_Monroe` - Residing in Monroe (1, red) pushed the model away from a prediction of \"Early\".\n",
    "\n",
    "\n",
    "4. `gen_grp_Greatest-Silent` - Belonging to the Greatest/ Silent generation age group (1, red) pushed the model towards a prediction of \"Early\".\n",
    "\n",
    "\n",
    "5. `gender_code_M` - Being male (1, red) pushed the model away from a prediction of \"Early\", while not being male (0, blue) pushed the model towards a prediction of \"Early\"."
   ]
  },
  {
   "cell_type": "code",
   "execution_count": null,
   "metadata": {
    "ExecuteTime": {
     "start_time": "2021-01-15T15:35:35.917Z"
    }
   },
   "outputs": [],
   "source": [
    "multi_shap_summ(multi_2016_shap_values, X_2016_train_df, 0);"
   ]
  },
  {
   "cell_type": "markdown",
   "metadata": {},
   "source": [
    "---\n",
    "\n",
    "**Top 5 Features for the \"Election Day\" Class Explained**:\n",
    "\n",
    "1. `gen_grp_GenX` - Belonging to Generation X (1, red) pushed the model towards a prediction of \"Election Day\" while not belonging to Generation X (0, blue) pushed the model away from a prediction of \"Election Day\".\n",
    "\n",
    "\n",
    "2. `race_grp_Black` - Being Black (1, red) pushed the model away from a prediction of \"Election Day\".\n",
    "\n",
    "\n",
    "3. `race_grp_White` - Not being wlack (0, blue) pushed the model away from a prediction of \"Election Day\".\n",
    "\n",
    "\n",
    "4. `birth_reg_other_Missing` - Missing birthplace information (1, red) pushed the model towards a prediction of \"Election Day\".\n",
    "\n",
    "\n",
    "5. `gen_grp_Greatest-Silent` - Belonging to the Greatest-Silent generation age group pushed the model away from a prediction of \"Election Day\"."
   ]
  },
  {
   "cell_type": "code",
   "execution_count": null,
   "metadata": {
    "ExecuteTime": {
     "start_time": "2021-01-15T15:35:35.922Z"
    }
   },
   "outputs": [],
   "source": [
    "multi_shap_summ(multi_2016_shap_values, X_2016_train_df, 1);"
   ]
  },
  {
   "cell_type": "markdown",
   "metadata": {},
   "source": [
    "---\n",
    "\n",
    "**Top 5 Features for the \"No Vote\" Class Explained**:\n",
    "\n",
    "1. `gen_grp_Millennial` - Being a millenial (1, red) pushed the model towards a prediction of \"No Vote\".\n",
    "\n",
    "\n",
    "2. `birth_reg_other_Missing` - Missing information about birthplace (1, red) pushed the model away from a prediction of \"No Vote\".\n",
    "\n",
    "\n",
    "3. `party_grp_Rep` - Being a Republican (1, red) pushed the model away from a prediction of \"No Vote\" and not being a Republican (0, blue) pushed the model towards a prediction of \"No Vote\".\n",
    "\n",
    "\n",
    "4. `drivers_lic_Y` - Not having a drivers license (0, blue) pushed the model towards a prediction of \"No Vote\".\n",
    "\n",
    "\n",
    "5. `gen_grp_Boomer` - Being a Baby Boomer (1, red) pushed the model away from a prediction of \"No Vote\"."
   ]
  },
  {
   "cell_type": "code",
   "execution_count": null,
   "metadata": {
    "ExecuteTime": {
     "start_time": "2021-01-15T15:35:35.927Z"
    }
   },
   "outputs": [],
   "source": [
    "multi_shap_summ(multi_2016_shap_values, X_2016_train_df, 2);"
   ]
  },
  {
   "cell_type": "markdown",
   "metadata": {},
   "source": [
    "## Interpret 2012 Election"
   ]
  },
  {
   "cell_type": "code",
   "execution_count": null,
   "metadata": {
    "ExecuteTime": {
     "start_time": "2021-01-15T15:35:35.934Z"
    }
   },
   "outputs": [],
   "source": [
    "## Convert transformed (preprocessed) X train set into pandas DataFrame\n",
    "X_2012_train_df = pd.DataFrame(X_2012_train_tf, columns=feature_names_2012)\n",
    "X_2012_train_df.head()"
   ]
  },
  {
   "cell_type": "markdown",
   "metadata": {},
   "source": [
    "### 2012 Binary Target Model"
   ]
  },
  {
   "cell_type": "code",
   "execution_count": null,
   "metadata": {
    "ExecuteTime": {
     "start_time": "2021-01-15T15:35:35.939Z"
    }
   },
   "outputs": [],
   "source": [
    "## Store the booster (trained model)\n",
    "bin_2012_model = xgb_bin_2012_bacc_grid.best_estimator_.named_steps['xgb'].get_booster()\n",
    "\n",
    "## Explain the model's predictions using SHAP\n",
    "bin_2012_explainer = shap.TreeExplainer(bin_2012_model)\n",
    "bin_2012_shap_values = bin_2012_explainer.shap_values(X_2012_train_df)\n",
    "\n",
    "## Print model prediction for fourth row of training set\n",
    "print(xgb_bin_2012_bacc_grid.best_estimator_.named_steps['xgb'].predict(X_2012_train_df.iloc[3,:]))\n",
    "# (1, voted)\n",
    "\n",
    "## Print ground truth label fourth row of training set\n",
    "print('Actual: ', \n",
    "      y_bin_2020_train.iloc[3])\n",
    "# (1, truly did vote)\n",
    "\n",
    "## Visualize the fourth prediction's explanation\n",
    "shap.force_plot(bin_2012_explainer.expected_value,\n",
    "                bin_2012_shap_values[3,:],\n",
    "                X_2012_train_df.iloc[3,:])"
   ]
  },
  {
   "cell_type": "markdown",
   "metadata": {},
   "source": [
    "The plot above visualizes how the model is making its prediction for the fourth individual in the training set. \n",
    "> The fourth individual did not vote and the model predicted this correctly. The model was pushed towards the prediction of \"no vote\" by the fact that the individual is a millennial, resides in Monroe, is not a Republican, is not missing birthplace information, and does not identify with one of the two major parties."
   ]
  },
  {
   "cell_type": "code",
   "execution_count": null,
   "metadata": {
    "ExecuteTime": {
     "start_time": "2021-01-15T15:35:35.946Z"
    }
   },
   "outputs": [],
   "source": [
    "## Print model prediction for seventh row of training set\n",
    "print('Prediction: ', \n",
    "      xgb_bin_2012_bacc_grid.best_estimator_.named_steps['xgb'].predict(X_2012_train_df.iloc[6,:]))\n",
    "# (0, no vote)\n",
    "\n",
    "## Print ground truth label seventh row of training set\n",
    "print('Actual: ', \n",
    "      y_bin_2020_train.iloc[6])\n",
    "# (0, truly no vote)\n",
    "\n",
    "## Visualize the seventh prediction's explanation\n",
    "shap.force_plot(bin_2012_explainer.expected_value,\n",
    "                bin_2012_shap_values[6,:],\n",
    "                X_2012_train_df.iloc[6,:])"
   ]
  },
  {
   "cell_type": "markdown",
   "metadata": {},
   "source": [
    "The plot immediately above visualizes how the model is making its prediction for the seventh individual in the training set. \n",
    "> The seventh individual voted and the model predicted this correctly. The model was pushed towards the prediction of \"vote\" (1) by the fact that their birth region information was missing, they are Black, and they belong to the Silent-Greatest generation age group."
   ]
  },
  {
   "cell_type": "markdown",
   "metadata": {},
   "source": [
    "The plot below shows the impact each feature had on the model's output (predictions) quantified in terms of SHAP values. The top 6 features (after which there is a drop in impact) are `gen_grp_Millennial`, `birth_reg_other_Missing`, `party_grp_Rep`, `gen_grp_GenX`, `race_grp_Black`, and `city_grp_Monroe`. Obviously age group is important because it makes up 2 of the top 6 features. Whether or not a person's voter registration record lists their birthplace is the second most impactful feature on model output, and whether or not the voter registered as a Republican is the third most impactful feature. Whether or not the person is Black or resides in the city of Monroe are the 4th and 5th most impactful predictors, respectively."
   ]
  },
  {
   "cell_type": "code",
   "execution_count": null,
   "metadata": {
    "ExecuteTime": {
     "start_time": "2021-01-15T15:35:35.951Z"
    }
   },
   "outputs": [],
   "source": [
    "## Display mean abs(SHAP value) for each feature for the full training set\n",
    "shap.summary_plot(bin_2012_shap_values, X_2012_train_df, plot_type='bar')"
   ]
  },
  {
   "cell_type": "markdown",
   "metadata": {},
   "source": [
    "The plot below is similar to that above in that it ranks the top features based on mean SHAP values (so the ordering is the same). Each point represents a voter in the training set. The grey vertical line at 0.0 represents SHAP values that had 0 impact on model output, so the farther the points are from the grey line, the more important the feature was in terms of predicting that voter's participation in the election (whether they voted or not). Negative SHAP values to the left of the grey line push the model towards a prediction of 0 or \"No Vote\" whereas positive SHAP values push the model towards a prediction of 1 or \"Vote\". \n",
    "\n",
    "Since all the features were label encoded, each feature is a binary variable representing whether the voter does or does not belong to the category listed at the end of the feature name (so 1 for `gen_grp_Millenial` means the person is a millennial). Thus high values of 1 are color coded red and low values of 0 are color coded blue.\n",
    "\n",
    "**Top 6 Features Explained**:\n",
    "\n",
    "1. `gen_grp_Millennial` - Being a millenial (1, red) pushed the model towards a prediction of \"No Vote\".\n",
    "\n",
    "\n",
    "2. `birth_reg_other_Missing` - Voters whose record was missing their birthplace information (1, red) were more likely to vote.\n",
    "\n",
    "\n",
    "3. `party_grp_Rep` - Being a Republican (1, red) pushed the model towards a prediction of \"Vote\".\n",
    "\n",
    "\n",
    "4. `gen_grp_GenX` - Belonging to the Generation X (1, red) pushed the model towards a prediction of \"Vote\" and not belonging to Generation X (0, blue) pushed the model towards a prediction of \"No Vote\".\n",
    "\n",
    "\n",
    "5. `race_grp_Black` - Being Black (1, red) pushed the model towards a prediction of \"Vote\".\n",
    "\n",
    "\n",
    "6. `city_grp_Monroe` - Living in Monroe (1, red) pushed the model towards a prediction of \"No Vote\"."
   ]
  },
  {
   "cell_type": "code",
   "execution_count": null,
   "metadata": {
    "ExecuteTime": {
     "start_time": "2021-01-15T15:35:35.957Z"
    }
   },
   "outputs": [],
   "source": [
    "## Display mean abs(SHAP value) for each feature for the full training set\n",
    "shap.summary_plot(bin_2012_shap_values, X_2012_train_df)"
   ]
  },
  {
   "cell_type": "markdown",
   "metadata": {},
   "source": [
    "### 2012 Multiclass Target Model"
   ]
  },
  {
   "cell_type": "code",
   "execution_count": null,
   "metadata": {
    "ExecuteTime": {
     "start_time": "2021-01-15T15:35:35.962Z"
    }
   },
   "outputs": [],
   "source": [
    "## Store the booster (trained model)\n",
    "multi_2012_model = xgb_multi_2012_smote_bacc_grid.best_estimator_.named_steps['xgb'].get_booster()\n",
    "\n",
    "## Explain the model's predictions using SHAP\n",
    "multi_2012_explainer = shap.TreeExplainer(multi_2012_model)\n",
    "multi_2012_shap_values = multi_2012_explainer.shap_values(X_2012_train_df)\n",
    "\n",
    "## multi_2012_shap_values is a list of 3 arrays, one for each class\n",
    "print(type(multi_2012_shap_values))\n",
    "print(type(multi_2012_shap_values[0]))\n",
    "print(multi_2012_shap_values[0].shape)\n",
    "len(multi_2012_shap_values)"
   ]
  },
  {
   "cell_type": "code",
   "execution_count": null,
   "metadata": {
    "ExecuteTime": {
     "start_time": "2021-01-15T15:35:35.966Z"
    }
   },
   "outputs": [],
   "source": [
    "## Check order of label encoded classes\n",
    "le_2012.classes_"
   ]
  },
  {
   "cell_type": "code",
   "execution_count": null,
   "metadata": {
    "ExecuteTime": {
     "start_time": "2021-01-15T15:35:35.971Z"
    }
   },
   "outputs": [],
   "source": [
    "## Store each class' array of values separately\n",
    "early_multi_2012_shap = multi_2012_shap_values[0].shape\n",
    "elec_multi_2012_shap = multi_2012_shap_values[1].shape\n",
    "no_multi_2012_shap = multi_2012_shap_values[2].shape\n",
    "\n",
    "## Print model pred and ground truth label for fourth row of training set\n",
    "  ## and visualize prediction explanation\n",
    "multi_shap_force(xgb_multi_2012_smote_bacc_grid.best_estimator_, 'xgb', 3,\n",
    "                     X_2012_train_df, y_multi_2012_train,\n",
    "                     multi_2012_explainer, multi_2012_shap_values)"
   ]
  },
  {
   "cell_type": "markdown",
   "metadata": {},
   "source": [
    "The plots above visualize how the model is making its prediction for the fourth individual in the training set. \n",
    "> The fourth individual did not vote and the model predicted this correctly. The breakdown for the \"No Vote\" class is shown in the third plot. The other two plots show how the features influenced the model's prediction for this person for the other two classes, but in the case of multiclass models, the class with the highest score was ultimately the predicted output for each voter.\n",
    "\n",
    "> Examining the bottom plot, the model was pushed towards the prediction of \"No Vote\" by the fact that the individual is a millennial (and thus is also neither in Generation X or a Baby Boomer). The fact that the individual is not missing birthplace information also pushed the model towards the correct prediction for this individual. The facts that they are not male and they are a Republican pushed the model in the opposite, but not enough to overwhelm the factors more predictive of \"No Vote\"."
   ]
  },
  {
   "cell_type": "code",
   "execution_count": null,
   "metadata": {
    "ExecuteTime": {
     "start_time": "2021-01-15T15:35:35.976Z"
    }
   },
   "outputs": [],
   "source": [
    "## Print model pred and ground truth label for seventh row of training set\n",
    "  ## and visualize prediction explanation\n",
    "multi_shap_force(xgb_multi_2012_smote_bacc_grid.best_estimator_, 'xgb', 6,\n",
    "                     X_2012_train_df, y_multi_2012_train,\n",
    "                     multi_2012_explainer, multi_2012_shap_values)"
   ]
  },
  {
   "cell_type": "markdown",
   "metadata": {},
   "source": [
    "The plots above visualize how the model is making its prediction for the seventh individual in the training set. \n",
    "> The seventh individual voted early, and the model predicted this correctly. The breakdown for the \"Early\" class is shown in the first plot. For multiclass models, the class with the highest score was ultimately the predicted output for each voter.\n",
    "\n",
    "> Examining the top plot, the model was pushed towards the prediction of \"Early\" by the fact that the individual belongs to the oldest age group (and thus not a Gen X'er or millennial), they are Black (and thus not white), and they were not born in the southern U.S."
   ]
  },
  {
   "cell_type": "markdown",
   "metadata": {},
   "source": [
    "The plot below shows the impact each feature had on the model's output (predictions) quantified in terms of SHAP values. The top 9 features (after which there is a drop in impact) are `gen_grp_Millennial`, `gen_grp_Greatest-Silent`, `birth_reg_other_Missing`, `party_grp_Rep`, `gen_grp_Boomer`, `race_grp_White`, `city_grp_Monroe`, `gen_grp_GenX`, and `race_grp_Black`. These are very similar to the top features of the binary target model, and are in a similar order. Obviously age group is important because it makes up 4 of the top 9 features. Whether or not a person's voter registration record lists their birthplace is the third most impactful feature on model output, and whether or not the voter registered as a Republican is the fourth most impactful feature. Whether or not the voter is white, a resident of Monroe, or Black were the 6th, 7th, and 9th most impactful predictors, respectively. The colors of the bars represent how much the particular feature influenced the prediction for each class, but these trends are more easily visualized in the non-bar summary plots that follow."
   ]
  },
  {
   "cell_type": "code",
   "execution_count": null,
   "metadata": {
    "ExecuteTime": {
     "start_time": "2021-01-15T15:35:35.982Z"
    }
   },
   "outputs": [],
   "source": [
    "## Display mean abs(SHAP value) of each feature for the full training set\n",
    "  ## for all classes\n",
    "shap.summary_plot(multi_2012_shap_values, X_2012_train_df,\n",
    "                  plot_type='bar', class_names=le_2012.classes_)"
   ]
  },
  {
   "cell_type": "markdown",
   "metadata": {},
   "source": [
    "The plots that follow are similar to the above plot in that they rank the top features based on mean SHAP values, but each plot ranks the features for one of the 3 target classes (\"Early\", \"Election Day\", and then \"No Vote\" respectively). Each point represents a voter in the training set. The grey vertical line at 0.0 represents SHAP values that had 0 impact on model output, so the farther the points are from the grey line, the more important the feature was in terms of predicting that voter's participation in the election. Negative SHAP values to the left of the grey line push the model towards a prediction of 0 for the particular class (in other words, not the class in question), whereas positive SHAP values push the model towards a prediction of the class in question (1). \n",
    "\n",
    "Since all the features were label encoded, each feature is a binary variable representing whether the voter does or does not belong to the category listed at the end of the feature name (so 1 for `gen_grp_Millenial` means the person is a millennial). Thus high values of 1 are color coded red and low values of 0 are color coded blue.\n",
    "\n",
    "---\n",
    "\n",
    "**Top 5 Features for the \"Early\" Class Explained**:\n",
    "\n",
    "1. `gen_grp_Greatest-Silent` - Belonging to the Greatest/ Silent generation age group (1, red) pushed the model towards a prediction of \"Early\".\n",
    "\n",
    "\n",
    "2. `gen_grp_Boomer` - Belonging to the Baby Boomer generation (1, red) pushed the model towards a prediction of \"Early\".\n",
    "\n",
    "\n",
    "3. `race_grp_Black` - Being Black (1, red) pushed the model towards a prediction of \"Early\".\n",
    "\n",
    "\n",
    "4. `gen_grp_Millennial` - Being a millennial (1, red) pushed the model away from a prediction of \"Early\".\n",
    "\n",
    "\n",
    "5. ``race_grp_White`` - Not being white (0, blue) pushed the model towards a prediction of \"Early\"."
   ]
  },
  {
   "cell_type": "code",
   "execution_count": null,
   "metadata": {
    "ExecuteTime": {
     "start_time": "2021-01-15T15:35:35.988Z"
    },
    "scrolled": false
   },
   "outputs": [],
   "source": [
    "multi_shap_summ(multi_2012_shap_values, X_2012_train_df, 0);"
   ]
  },
  {
   "cell_type": "markdown",
   "metadata": {},
   "source": [
    "---\n",
    "\n",
    "**Top 5 Features for the \"Election Day\" Class Explained**:\n",
    "\n",
    "1. `gen_grp_GenX` - Belonging to Generation X (1, red) pushed the model towards a prediction of \"Election Day\" while not being a Gen X'er (0, blue) pushed the model away from a prediction of \"Election Day\".\n",
    "\n",
    "\n",
    "2. `birth_reg_other_South` - Being born in the South (1, red) pushed the model away from a prediction of \"Election Day\", while not being born in the South (0, blue) pushed the model towards a prediction of \"Election Day\".\n",
    "\n",
    "\n",
    "3. `party_grp_Dem` - Being a Democrat pushed the model away from a prediction of \"Election Day\".\n",
    "\n",
    "\n",
    "4. `race_grp_White` - Not being white (0, blue) pushed the model away from a prediction of \"Election Day\".\n",
    "\n",
    "\n",
    "5. `party_grp_Rep` - Being a Republican pushed the model away towards a prediction of \"Election Day\"."
   ]
  },
  {
   "cell_type": "code",
   "execution_count": null,
   "metadata": {
    "ExecuteTime": {
     "start_time": "2021-01-15T15:35:35.993Z"
    }
   },
   "outputs": [],
   "source": [
    "multi_shap_summ(multi_2012_shap_values, X_2012_train_df, 1);"
   ]
  },
  {
   "cell_type": "markdown",
   "metadata": {},
   "source": [
    "---\n",
    "\n",
    "**Top 5 Features for the \"No Vote\" Class Explained**:\n",
    "\n",
    "1. `birth_reg_other_Missing` - Missing information about birthplace (1, red) pushed the model away from a prediction of \"No Vote\".\n",
    "\n",
    "\n",
    "2. `gen_grp_Millennial` - Being a millennial (1, red) pushed the model towards a prediction of \"No Vote\".\n",
    "\n",
    "\n",
    "3. `party_grp_Rep` -  Being a Republican (1, red) pushed the model away from a prediction of \"No Vote\" and not being a Republican (0, blue) pushed the model towards a prediction of \"No Vote\".\n",
    "\n",
    "\n",
    "4. `city_grp_Monroe` - Living in Monroe (1, red) pushed the model towards a prediction of \"No Vote\".\n",
    "\n",
    "\n",
    "5. `race_grp_Undesig.` - Choosing not to designate your race when registering to vote (1, red) pushed the model away from a prediction of \"No Vote\"."
   ]
  },
  {
   "cell_type": "code",
   "execution_count": null,
   "metadata": {
    "ExecuteTime": {
     "start_time": "2021-01-15T15:35:35.998Z"
    }
   },
   "outputs": [],
   "source": [
    "multi_shap_summ(multi_2012_shap_values, X_2012_train_df, 2);"
   ]
  },
  {
   "cell_type": "markdown",
   "metadata": {},
   "source": [
    "## Comparison of 2020, 2016, and 2012 General Elections"
   ]
  },
  {
   "cell_type": "code",
   "execution_count": null,
   "metadata": {
    "ExecuteTime": {
     "start_time": "2021-01-15T15:35:36.005Z"
    }
   },
   "outputs": [],
   "source": [
    "## Import functions created for visualizing election trends by year\n",
    "import plotly_year_functions as pyy"
   ]
  },
  {
   "cell_type": "code",
   "execution_count": null,
   "metadata": {
    "ExecuteTime": {
     "start_time": "2021-01-15T15:35:36.010Z"
    }
   },
   "outputs": [],
   "source": [
    "## Define a function to create one df for all 3 elections\n",
    "def prep_year_df(elec_df, year):\n",
    "    \n",
    "    year_df = elec_df.copy()\n",
    "    \n",
    "    # Choose only the columns needed for exploring trends\n",
    "    year_df = year_df[['Gen_{}'.format(str(year)), 'vote_cat',\n",
    "                       'Gen_{}_binary'.format(str(year)), \n",
    "                       'Pri_{}_binary'.format(str(year)),\n",
    "                       'birth_age_adj', 'gen_grp', 'party_grp', \n",
    "                       'gender_code', 'race_grp', 'birth_reg_other',\n",
    "                       'drivers_lic', 'city_grp']]\n",
    "    \n",
    "    # Add a column for election year\n",
    "    year_df['year'] = int(year)\n",
    "    year_df.rename(columns={'Gen_{}'.format(str(year)): 'vote_method_4',\n",
    "                            'vote_cat': 'vote_method_5',\n",
    "                            'Gen_{}_binary'.format(str(year)): 'vote_bin',\n",
    "                            'Pri_{}_binary'.format(str(year)): 'pri_vote_bin'\n",
    "                           },\n",
    "                   inplace=True\n",
    "                  )\n",
    "    # Recast binary variables as Y or N\n",
    "    year_df['vote_bin'] = np.where(year_df['vote_bin']==1, 'Y', 'N')\n",
    "    year_df['pri_vote_bin'] = np.where(year_df['pri_vote_bin']==1, 'Y', 'N')\n",
    "    \n",
    "    return year_df\n",
    "\n",
    "\n",
    "## Reformat each election df\n",
    "df_2020 = prep_year_df(elec_2020_df, 2020)\n",
    "df_2016 = prep_year_df(elec_2016_df, 2016)\n",
    "df_2012 = prep_year_df(elec_2012_df, 2012)\n",
    "\n",
    "## Concatenate the reformatted dataframes\n",
    "gen_elecs_df = pd.concat([df_2020, df_2016, df_2012], ignore_index=True)\n",
    "\n",
    "## Inspect new df\n",
    "display(gen_elecs_df.head())\n",
    "gen_elecs_df.info()"
   ]
  },
  {
   "cell_type": "code",
   "execution_count": null,
   "metadata": {
    "ExecuteTime": {
     "start_time": "2021-01-15T15:35:36.016Z"
    }
   },
   "outputs": [],
   "source": [
    "# gen_elecs_df.to_csv('Data/UC_gen_elecs.gz', compression='gzip',\n",
    "#                     index=False)"
   ]
  },
  {
   "cell_type": "code",
   "execution_count": null,
   "metadata": {
    "ExecuteTime": {
     "start_time": "2021-01-15T15:35:36.020Z"
    },
    "scrolled": false
   },
   "outputs": [],
   "source": [
    "pyy.grp_yr_hist(gen_elecs_df, 'party_grp')"
   ]
  },
  {
   "cell_type": "code",
   "execution_count": null,
   "metadata": {
    "ExecuteTime": {
     "start_time": "2021-01-15T15:35:36.025Z"
    }
   },
   "outputs": [],
   "source": [
    "pyy.grp_yr_hist(gen_elecs_df, 'birth_age_adj')"
   ]
  },
  {
   "cell_type": "code",
   "execution_count": null,
   "metadata": {
    "ExecuteTime": {
     "start_time": "2021-01-15T15:35:36.030Z"
    },
    "scrolled": false
   },
   "outputs": [],
   "source": [
    "pyy.multi_yr_hist(gen_elecs_df, 'gen_grp', 'vote_bin')"
   ]
  },
  {
   "cell_type": "code",
   "execution_count": null,
   "metadata": {
    "ExecuteTime": {
     "start_time": "2021-01-15T15:35:36.035Z"
    }
   },
   "outputs": [],
   "source": [
    "pyy.basic_pie(gen_elecs_df, 2020, 'city_grp')"
   ]
  },
  {
   "cell_type": "markdown",
   "metadata": {},
   "source": [
    "### Voting Method and Participation"
   ]
  },
  {
   "cell_type": "code",
   "execution_count": null,
   "metadata": {},
   "outputs": [],
   "source": []
  },
  {
   "cell_type": "markdown",
   "metadata": {},
   "source": [
    "### Demographic Trends"
   ]
  },
  {
   "cell_type": "markdown",
   "metadata": {},
   "source": [
    "#### Age"
   ]
  },
  {
   "cell_type": "code",
   "execution_count": null,
   "metadata": {},
   "outputs": [],
   "source": []
  },
  {
   "cell_type": "markdown",
   "metadata": {},
   "source": [
    "#### Birth Region (Missing Information)"
   ]
  },
  {
   "cell_type": "code",
   "execution_count": null,
   "metadata": {},
   "outputs": [],
   "source": []
  },
  {
   "cell_type": "markdown",
   "metadata": {},
   "source": [
    "#### Political Party"
   ]
  },
  {
   "cell_type": "code",
   "execution_count": null,
   "metadata": {},
   "outputs": [],
   "source": []
  },
  {
   "cell_type": "markdown",
   "metadata": {},
   "source": [
    "#### Drivers License"
   ]
  },
  {
   "cell_type": "code",
   "execution_count": null,
   "metadata": {},
   "outputs": [],
   "source": []
  },
  {
   "cell_type": "markdown",
   "metadata": {},
   "source": [
    "#### Race"
   ]
  },
  {
   "cell_type": "code",
   "execution_count": null,
   "metadata": {},
   "outputs": [],
   "source": []
  },
  {
   "cell_type": "markdown",
   "metadata": {},
   "source": [
    "# Conclusions/Recommendations"
   ]
  },
  {
   "cell_type": "code",
   "execution_count": null,
   "metadata": {},
   "outputs": [],
   "source": []
  },
  {
   "cell_type": "code",
   "execution_count": null,
   "metadata": {},
   "outputs": [],
   "source": []
  }
 ],
 "metadata": {
  "kernelspec": {
   "display_name": "learn-env",
   "language": "python",
   "name": "learn-env"
  },
  "language_info": {
   "codemirror_mode": {
    "name": "ipython",
    "version": 3
   },
   "file_extension": ".py",
   "mimetype": "text/x-python",
   "name": "python",
   "nbconvert_exporter": "python",
   "pygments_lexer": "ipython3",
   "version": "3.6.9"
  },
  "toc": {
   "base_numbering": 1,
   "nav_menu": {},
   "number_sections": true,
   "sideBar": true,
   "skip_h1_title": false,
   "title_cell": "Table of Contents",
   "title_sidebar": "Contents",
   "toc_cell": false,
   "toc_position": {
    "height": "calc(100% - 180px)",
    "left": "10px",
    "top": "150px",
    "width": "260px"
   },
   "toc_section_display": true,
   "toc_window_display": true
  }
 },
 "nbformat": 4,
 "nbformat_minor": 2
}
