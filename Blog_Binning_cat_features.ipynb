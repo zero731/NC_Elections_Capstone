{
 "cells": [
  {
   "cell_type": "code",
   "execution_count": 1,
   "metadata": {
    "ExecuteTime": {
     "end_time": "2021-03-30T17:05:44.125179Z",
     "start_time": "2021-03-30T17:05:42.889030Z"
    }
   },
   "outputs": [],
   "source": [
    "import numpy as np\n",
    "import pandas as pd\n",
    "import matplotlib.pyplot as plt\n",
    "%matplotlib inline\n",
    "import seaborn as sns"
   ]
  },
  {
   "cell_type": "code",
   "execution_count": 2,
   "metadata": {
    "ExecuteTime": {
     "end_time": "2021-03-30T17:05:44.447129Z",
     "start_time": "2021-03-30T17:05:44.127343Z"
    }
   },
   "outputs": [
    {
     "data": {
      "text/html": [
       "<div>\n",
       "<style scoped>\n",
       "    .dataframe tbody tr th:only-of-type {\n",
       "        vertical-align: middle;\n",
       "    }\n",
       "\n",
       "    .dataframe tbody tr th {\n",
       "        vertical-align: top;\n",
       "    }\n",
       "\n",
       "    .dataframe thead th {\n",
       "        text-align: right;\n",
       "    }\n",
       "</style>\n",
       "<table border=\"1\" class=\"dataframe\">\n",
       "  <thead>\n",
       "    <tr style=\"text-align: right;\">\n",
       "      <th></th>\n",
       "      <th>voting_method</th>\n",
       "      <th>party_cd</th>\n",
       "      <th>birth_state</th>\n",
       "    </tr>\n",
       "  </thead>\n",
       "  <tbody>\n",
       "    <tr>\n",
       "      <th>0</th>\n",
       "      <td>ABSENTEE ONESTOP</td>\n",
       "      <td>REP</td>\n",
       "      <td>NC</td>\n",
       "    </tr>\n",
       "    <tr>\n",
       "      <th>1</th>\n",
       "      <td>NaN</td>\n",
       "      <td>UNA</td>\n",
       "      <td>MA</td>\n",
       "    </tr>\n",
       "    <tr>\n",
       "      <th>2</th>\n",
       "      <td>ABSENTEE ONESTOP</td>\n",
       "      <td>DEM</td>\n",
       "      <td>MN</td>\n",
       "    </tr>\n",
       "    <tr>\n",
       "      <th>3</th>\n",
       "      <td>NaN</td>\n",
       "      <td>REP</td>\n",
       "      <td>NY</td>\n",
       "    </tr>\n",
       "    <tr>\n",
       "      <th>4</th>\n",
       "      <td>ABSENTEE ONESTOP</td>\n",
       "      <td>DEM</td>\n",
       "      <td>NC</td>\n",
       "    </tr>\n",
       "  </tbody>\n",
       "</table>\n",
       "</div>"
      ],
      "text/plain": [
       "      voting_method party_cd birth_state\n",
       "0  ABSENTEE ONESTOP      REP          NC\n",
       "1               NaN      UNA          MA\n",
       "2  ABSENTEE ONESTOP      DEM          MN\n",
       "3               NaN      REP          NY\n",
       "4  ABSENTEE ONESTOP      DEM          NC"
      ]
     },
     "execution_count": 2,
     "metadata": {},
     "output_type": "execute_result"
    }
   ],
   "source": [
    "df = pd.read_csv('Data/UC_gen_2020.gz',\n",
    "                     dtype={'voting_method': str},\n",
    "                     usecols=['party_cd',\n",
    "                              'birth_state', \n",
    "                              'voting_method'])\n",
    "df.head()"
   ]
  },
  {
   "cell_type": "code",
   "execution_count": 3,
   "metadata": {
    "ExecuteTime": {
     "end_time": "2021-03-30T17:05:44.473301Z",
     "start_time": "2021-03-30T17:05:44.449698Z"
    }
   },
   "outputs": [
    {
     "name": "stdout",
     "output_type": "stream",
     "text": [
      "<class 'pandas.core.frame.DataFrame'>\n",
      "RangeIndex: 168070 entries, 0 to 168069\n",
      "Data columns (total 3 columns):\n",
      " #   Column         Non-Null Count   Dtype \n",
      "---  ------         --------------   ----- \n",
      " 0   voting_method  131483 non-null  object\n",
      " 1   party_cd       168070 non-null  object\n",
      " 2   birth_state    127298 non-null  object\n",
      "dtypes: object(3)\n",
      "memory usage: 3.8+ MB\n"
     ]
    }
   ],
   "source": [
    "df.info()"
   ]
  },
  {
   "cell_type": "code",
   "execution_count": 4,
   "metadata": {
    "ExecuteTime": {
     "end_time": "2021-03-30T17:05:44.487630Z",
     "start_time": "2021-03-30T17:05:44.477324Z"
    }
   },
   "outputs": [],
   "source": [
    "df['voting_method'].fillna(value='No Vote', inplace=True)"
   ]
  },
  {
   "cell_type": "code",
   "execution_count": 5,
   "metadata": {
    "ExecuteTime": {
     "end_time": "2021-03-30T17:05:44.498182Z",
     "start_time": "2021-03-30T17:05:44.489486Z"
    }
   },
   "outputs": [
    {
     "data": {
      "text/html": [
       "<div>\n",
       "<style scoped>\n",
       "    .dataframe tbody tr th:only-of-type {\n",
       "        vertical-align: middle;\n",
       "    }\n",
       "\n",
       "    .dataframe tbody tr th {\n",
       "        vertical-align: top;\n",
       "    }\n",
       "\n",
       "    .dataframe thead th {\n",
       "        text-align: right;\n",
       "    }\n",
       "</style>\n",
       "<table border=\"1\" class=\"dataframe\">\n",
       "  <thead>\n",
       "    <tr style=\"text-align: right;\">\n",
       "      <th></th>\n",
       "      <th>voting_method</th>\n",
       "      <th>party_cd</th>\n",
       "      <th>birth_state</th>\n",
       "    </tr>\n",
       "  </thead>\n",
       "  <tbody>\n",
       "    <tr>\n",
       "      <th>0</th>\n",
       "      <td>ABSENTEE ONESTOP</td>\n",
       "      <td>REP</td>\n",
       "      <td>NC</td>\n",
       "    </tr>\n",
       "    <tr>\n",
       "      <th>1</th>\n",
       "      <td>No Vote</td>\n",
       "      <td>UNA</td>\n",
       "      <td>MA</td>\n",
       "    </tr>\n",
       "    <tr>\n",
       "      <th>2</th>\n",
       "      <td>ABSENTEE ONESTOP</td>\n",
       "      <td>DEM</td>\n",
       "      <td>MN</td>\n",
       "    </tr>\n",
       "    <tr>\n",
       "      <th>3</th>\n",
       "      <td>No Vote</td>\n",
       "      <td>REP</td>\n",
       "      <td>NY</td>\n",
       "    </tr>\n",
       "    <tr>\n",
       "      <th>4</th>\n",
       "      <td>ABSENTEE ONESTOP</td>\n",
       "      <td>DEM</td>\n",
       "      <td>NC</td>\n",
       "    </tr>\n",
       "  </tbody>\n",
       "</table>\n",
       "</div>"
      ],
      "text/plain": [
       "      voting_method party_cd birth_state\n",
       "0  ABSENTEE ONESTOP      REP          NC\n",
       "1           No Vote      UNA          MA\n",
       "2  ABSENTEE ONESTOP      DEM          MN\n",
       "3           No Vote      REP          NY\n",
       "4  ABSENTEE ONESTOP      DEM          NC"
      ]
     },
     "execution_count": 5,
     "metadata": {},
     "output_type": "execute_result"
    }
   ],
   "source": [
    "df.head()"
   ]
  },
  {
   "cell_type": "code",
   "execution_count": 6,
   "metadata": {
    "ExecuteTime": {
     "end_time": "2021-03-30T17:05:44.511298Z",
     "start_time": "2021-03-30T17:05:44.499781Z"
    }
   },
   "outputs": [],
   "source": [
    "df['birth_state'].fillna(value='Missing', inplace=True)"
   ]
  },
  {
   "cell_type": "code",
   "execution_count": 7,
   "metadata": {
    "ExecuteTime": {
     "end_time": "2021-03-30T17:05:44.539165Z",
     "start_time": "2021-03-30T17:05:44.514163Z"
    }
   },
   "outputs": [
    {
     "name": "stdout",
     "output_type": "stream",
     "text": [
      "<class 'pandas.core.frame.DataFrame'>\n",
      "RangeIndex: 168070 entries, 0 to 168069\n",
      "Data columns (total 3 columns):\n",
      " #   Column         Non-Null Count   Dtype \n",
      "---  ------         --------------   ----- \n",
      " 0   voting_method  168070 non-null  object\n",
      " 1   party_cd       168070 non-null  object\n",
      " 2   birth_state    168070 non-null  object\n",
      "dtypes: object(3)\n",
      "memory usage: 3.8+ MB\n"
     ]
    }
   ],
   "source": [
    "df.info()"
   ]
  },
  {
   "cell_type": "code",
   "execution_count": 8,
   "metadata": {
    "ExecuteTime": {
     "end_time": "2021-03-30T17:05:44.548930Z",
     "start_time": "2021-03-30T17:05:44.544921Z"
    }
   },
   "outputs": [],
   "source": [
    "def check_unique(col, df, dropna=False):\n",
    "\n",
    "    unique_vals = pd.DataFrame()\n",
    "    unique_vals['count'] = pd.Series(df[col].value_counts(dropna=dropna))\n",
    "    unique_vals['%'] = pd.Series(round(df[col].value_counts(normalize=True, dropna=dropna)*100, 2))\n",
    "    \n",
    "    return unique_vals"
   ]
  },
  {
   "cell_type": "code",
   "execution_count": 9,
   "metadata": {
    "ExecuteTime": {
     "end_time": "2021-03-30T17:05:44.558205Z",
     "start_time": "2021-03-30T17:05:44.552693Z"
    }
   },
   "outputs": [],
   "source": [
    "def plot_count(variable, data, rotation=0, ha='center', figsize=(8,6)):\n",
    "    \n",
    "    plt.figure(figsize=figsize)\n",
    "    ax = sns.countplot(x=data[variable],\n",
    "                       order=data[variable].value_counts().index,\n",
    "                       palette='nipy_spectral')\n",
    "    \n",
    "    ax.set_xticklabels(ax.get_xticklabels(),\n",
    "                       rotation=rotation,\n",
    "                       horizontalalignment=ha,\n",
    "                       fontsize=12, weight='bold')\n",
    "    ax.set_title(f'{variable.title()} Counts', \n",
    "                 fontsize=16,\n",
    "                 weight='bold')\n",
    "    ax.set_xlabel(f'{variable}',\n",
    "                  fontsize=14,\n",
    "                  weight='bold')\n",
    "    ax.set_ylabel('Count', fontsize=14, weight='bold')\n",
    "    ax.spines['right'].set_visible(False)\n",
    "    ax.spines['top'].set_visible(False)\n",
    "    \n",
    "    return ax"
   ]
  },
  {
   "cell_type": "code",
   "execution_count": 23,
   "metadata": {
    "ExecuteTime": {
     "end_time": "2021-03-30T17:11:02.180573Z",
     "start_time": "2021-03-30T17:11:01.814457Z"
    }
   },
   "outputs": [
    {
     "data": {
      "image/png": "[encoded data removed]",
      "text/plain": [
       "<Figure size 576x432 with 1 Axes>"
      ]
     },
     "metadata": {
      "needs_background": "light"
     },
     "output_type": "display_data"
    }
   ],
   "source": [
    "plot_count('party_cd', df)\n",
    "plt.savefig('Figures/blog_bin_cat_features/party_cd_count', bbox_inches = \"tight\");"
   ]
  },
  {
   "cell_type": "code",
   "execution_count": 11,
   "metadata": {
    "ExecuteTime": {
     "end_time": "2021-03-30T17:05:44.843850Z",
     "start_time": "2021-03-30T17:05:44.810470Z"
    },
    "scrolled": true
   },
   "outputs": [
    {
     "data": {
      "text/html": [
       "<div>\n",
       "<style scoped>\n",
       "    .dataframe tbody tr th:only-of-type {\n",
       "        vertical-align: middle;\n",
       "    }\n",
       "\n",
       "    .dataframe tbody tr th {\n",
       "        vertical-align: top;\n",
       "    }\n",
       "\n",
       "    .dataframe thead th {\n",
       "        text-align: right;\n",
       "    }\n",
       "</style>\n",
       "<table border=\"1\" class=\"dataframe\">\n",
       "  <thead>\n",
       "    <tr style=\"text-align: right;\">\n",
       "      <th></th>\n",
       "      <th>count</th>\n",
       "      <th>%</th>\n",
       "    </tr>\n",
       "  </thead>\n",
       "  <tbody>\n",
       "    <tr>\n",
       "      <th>REP</th>\n",
       "      <td>69079</td>\n",
       "      <td>41.10</td>\n",
       "    </tr>\n",
       "    <tr>\n",
       "      <th>UNA</th>\n",
       "      <td>57488</td>\n",
       "      <td>34.20</td>\n",
       "    </tr>\n",
       "    <tr>\n",
       "      <th>DEM</th>\n",
       "      <td>40340</td>\n",
       "      <td>24.00</td>\n",
       "    </tr>\n",
       "    <tr>\n",
       "      <th>LIB</th>\n",
       "      <td>995</td>\n",
       "      <td>0.59</td>\n",
       "    </tr>\n",
       "    <tr>\n",
       "      <th>CST</th>\n",
       "      <td>96</td>\n",
       "      <td>0.06</td>\n",
       "    </tr>\n",
       "    <tr>\n",
       "      <th>GRE</th>\n",
       "      <td>72</td>\n",
       "      <td>0.04</td>\n",
       "    </tr>\n",
       "  </tbody>\n",
       "</table>\n",
       "</div>"
      ],
      "text/plain": [
       "     count      %\n",
       "REP  69079  41.10\n",
       "UNA  57488  34.20\n",
       "DEM  40340  24.00\n",
       "LIB    995   0.59\n",
       "CST     96   0.06\n",
       "GRE     72   0.04"
      ]
     },
     "execution_count": 11,
     "metadata": {},
     "output_type": "execute_result"
    }
   ],
   "source": [
    "## Check distribution\n",
    "check_unique('party_cd', df)"
   ]
  },
  {
   "cell_type": "code",
   "execution_count": 12,
   "metadata": {
    "ExecuteTime": {
     "end_time": "2021-03-30T17:05:44.936023Z",
     "start_time": "2021-03-30T17:05:44.846493Z"
    }
   },
   "outputs": [
    {
     "data": {
      "text/html": [
       "<div>\n",
       "<style scoped>\n",
       "    .dataframe tbody tr th:only-of-type {\n",
       "        vertical-align: middle;\n",
       "    }\n",
       "\n",
       "    .dataframe tbody tr th {\n",
       "        vertical-align: top;\n",
       "    }\n",
       "\n",
       "    .dataframe thead th {\n",
       "        text-align: right;\n",
       "    }\n",
       "</style>\n",
       "<table border=\"1\" class=\"dataframe\">\n",
       "  <thead>\n",
       "    <tr style=\"text-align: right;\">\n",
       "      <th></th>\n",
       "      <th>count</th>\n",
       "      <th>%</th>\n",
       "    </tr>\n",
       "  </thead>\n",
       "  <tbody>\n",
       "    <tr>\n",
       "      <th>Rep</th>\n",
       "      <td>69079</td>\n",
       "      <td>41.1</td>\n",
       "    </tr>\n",
       "    <tr>\n",
       "      <th>Other</th>\n",
       "      <td>58651</td>\n",
       "      <td>34.9</td>\n",
       "    </tr>\n",
       "    <tr>\n",
       "      <th>Dem</th>\n",
       "      <td>40340</td>\n",
       "      <td>24.0</td>\n",
       "    </tr>\n",
       "  </tbody>\n",
       "</table>\n",
       "</div>"
      ],
      "text/plain": [
       "       count     %\n",
       "Rep    69079  41.1\n",
       "Other  58651  34.9\n",
       "Dem    40340  24.0"
      ]
     },
     "execution_count": 12,
     "metadata": {},
     "output_type": "execute_result"
    }
   ],
   "source": [
    "## Create new column grouping most infrequent party categories\n",
    "  ## into same group as those who are unaffiliated\n",
    "df['party_grp'] = np.where(df['party_cd'].isin(['REP', 'DEM']),\n",
    "                           df['party_cd'].str.title(),\n",
    "                           'Other')\n",
    "\n",
    "## Check distribution\n",
    "check_unique('party_grp', df)"
   ]
  },
  {
   "cell_type": "code",
   "execution_count": 13,
   "metadata": {
    "ExecuteTime": {
     "end_time": "2021-03-30T17:05:45.141654Z",
     "start_time": "2021-03-30T17:05:44.937950Z"
    }
   },
   "outputs": [
    {
     "data": {
      "image/png": "[encoded data removed]",
      "text/plain": [
       "<Figure size 576x432 with 1 Axes>"
      ]
     },
     "metadata": {
      "needs_background": "light"
     },
     "output_type": "display_data"
    }
   ],
   "source": [
    "plot_count('party_grp', df);"
   ]
  },
  {
   "cell_type": "code",
   "execution_count": 24,
   "metadata": {
    "ExecuteTime": {
     "end_time": "2021-03-30T17:41:43.330579Z",
     "start_time": "2021-03-30T17:41:42.943656Z"
    }
   },
   "outputs": [
    {
     "data": {
      "image/png": "[encoded data removed]",
      "text/plain": [
       "<Figure size 576x432 with 1 Axes>"
      ]
     },
     "metadata": {
      "needs_background": "light"
     },
     "output_type": "display_data"
    }
   ],
   "source": [
    "plot_count('voting_method', df, rotation=45)\n",
    "plt.savefig('Figures/blog_bin_cat_features/voting_method_count', bbox_inches = \"tight\");"
   ]
  },
  {
   "cell_type": "code",
   "execution_count": 15,
   "metadata": {
    "ExecuteTime": {
     "end_time": "2021-03-30T17:05:45.398614Z",
     "start_time": "2021-03-30T17:05:45.366476Z"
    }
   },
   "outputs": [
    {
     "data": {
      "text/html": [
       "<div>\n",
       "<style scoped>\n",
       "    .dataframe tbody tr th:only-of-type {\n",
       "        vertical-align: middle;\n",
       "    }\n",
       "\n",
       "    .dataframe tbody tr th {\n",
       "        vertical-align: top;\n",
       "    }\n",
       "\n",
       "    .dataframe thead th {\n",
       "        text-align: right;\n",
       "    }\n",
       "</style>\n",
       "<table border=\"1\" class=\"dataframe\">\n",
       "  <thead>\n",
       "    <tr style=\"text-align: right;\">\n",
       "      <th></th>\n",
       "      <th>count</th>\n",
       "      <th>%</th>\n",
       "    </tr>\n",
       "  </thead>\n",
       "  <tbody>\n",
       "    <tr>\n",
       "      <th>ABSENTEE ONESTOP</th>\n",
       "      <td>88137</td>\n",
       "      <td>52.44</td>\n",
       "    </tr>\n",
       "    <tr>\n",
       "      <th>No Vote</th>\n",
       "      <td>36587</td>\n",
       "      <td>21.77</td>\n",
       "    </tr>\n",
       "    <tr>\n",
       "      <th>IN-PERSON</th>\n",
       "      <td>19813</td>\n",
       "      <td>11.79</td>\n",
       "    </tr>\n",
       "    <tr>\n",
       "      <th>ABSENTEE BY MAIL</th>\n",
       "      <td>19647</td>\n",
       "      <td>11.69</td>\n",
       "    </tr>\n",
       "    <tr>\n",
       "      <th>ABSENTEE CURBSIDE</th>\n",
       "      <td>2951</td>\n",
       "      <td>1.76</td>\n",
       "    </tr>\n",
       "    <tr>\n",
       "      <th>PROVISIONAL</th>\n",
       "      <td>380</td>\n",
       "      <td>0.23</td>\n",
       "    </tr>\n",
       "    <tr>\n",
       "      <th>TRANSFER</th>\n",
       "      <td>353</td>\n",
       "      <td>0.21</td>\n",
       "    </tr>\n",
       "    <tr>\n",
       "      <th>CURBSIDE</th>\n",
       "      <td>202</td>\n",
       "      <td>0.12</td>\n",
       "    </tr>\n",
       "  </tbody>\n",
       "</table>\n",
       "</div>"
      ],
      "text/plain": [
       "                   count      %\n",
       "ABSENTEE ONESTOP   88137  52.44\n",
       "No Vote            36587  21.77\n",
       "IN-PERSON          19813  11.79\n",
       "ABSENTEE BY MAIL   19647  11.69\n",
       "ABSENTEE CURBSIDE   2951   1.76\n",
       "PROVISIONAL          380   0.23\n",
       "TRANSFER             353   0.21\n",
       "CURBSIDE             202   0.12"
      ]
     },
     "execution_count": 15,
     "metadata": {},
     "output_type": "execute_result"
    }
   ],
   "source": [
    "check_unique('voting_method', df)"
   ]
  },
  {
   "cell_type": "code",
   "execution_count": 16,
   "metadata": {
    "ExecuteTime": {
     "end_time": "2021-03-30T17:05:45.418984Z",
     "start_time": "2021-03-30T17:05:45.400505Z"
    }
   },
   "outputs": [],
   "source": [
    "## Group original vote methods into more general categories in a new variable\n",
    " # Map the original categoriess to new ones\n",
    "vote_method_map = {'ABSENTEE ONESTOP': 'Early',\n",
    "                   'IN-PERSON': 'Election Day',\n",
    "                   'ABSENTEE BY MAIL': 'Early',\n",
    "                   'ABSENTEE CURBSIDE': 'Early',\n",
    "                   'TRANSFER': 'Other',\n",
    "                   'PROVISIONAL': 'Other',\n",
    "                   'CURBSIDE': 'Election Day',\n",
    "                   'No Vote': 'No Vote'}\n",
    "\n",
    "# Apply the map to create new vote_method_cat column\n",
    "df['vote_method_cat'] = df['voting_method'].map(vote_method_map)"
   ]
  },
  {
   "cell_type": "code",
   "execution_count": 17,
   "metadata": {
    "ExecuteTime": {
     "end_time": "2021-03-30T17:05:45.451702Z",
     "start_time": "2021-03-30T17:05:45.421119Z"
    }
   },
   "outputs": [
    {
     "data": {
      "text/html": [
       "<div>\n",
       "<style scoped>\n",
       "    .dataframe tbody tr th:only-of-type {\n",
       "        vertical-align: middle;\n",
       "    }\n",
       "\n",
       "    .dataframe tbody tr th {\n",
       "        vertical-align: top;\n",
       "    }\n",
       "\n",
       "    .dataframe thead th {\n",
       "        text-align: right;\n",
       "    }\n",
       "</style>\n",
       "<table border=\"1\" class=\"dataframe\">\n",
       "  <thead>\n",
       "    <tr style=\"text-align: right;\">\n",
       "      <th></th>\n",
       "      <th>count</th>\n",
       "      <th>%</th>\n",
       "    </tr>\n",
       "  </thead>\n",
       "  <tbody>\n",
       "    <tr>\n",
       "      <th>Early</th>\n",
       "      <td>110735</td>\n",
       "      <td>65.89</td>\n",
       "    </tr>\n",
       "    <tr>\n",
       "      <th>No Vote</th>\n",
       "      <td>36587</td>\n",
       "      <td>21.77</td>\n",
       "    </tr>\n",
       "    <tr>\n",
       "      <th>Election Day</th>\n",
       "      <td>20015</td>\n",
       "      <td>11.91</td>\n",
       "    </tr>\n",
       "    <tr>\n",
       "      <th>Other</th>\n",
       "      <td>733</td>\n",
       "      <td>0.44</td>\n",
       "    </tr>\n",
       "  </tbody>\n",
       "</table>\n",
       "</div>"
      ],
      "text/plain": [
       "               count      %\n",
       "Early         110735  65.89\n",
       "No Vote        36587  21.77\n",
       "Election Day   20015  11.91\n",
       "Other            733   0.44"
      ]
     },
     "execution_count": 17,
     "metadata": {},
     "output_type": "execute_result"
    }
   ],
   "source": [
    "check_unique('vote_method_cat', df)"
   ]
  },
  {
   "cell_type": "code",
   "execution_count": 18,
   "metadata": {
    "ExecuteTime": {
     "end_time": "2021-03-30T17:05:45.645785Z",
     "start_time": "2021-03-30T17:05:45.453920Z"
    }
   },
   "outputs": [
    {
     "data": {
      "image/png": "[encoded data removed]",
      "text/plain": [
       "<Figure size 576x432 with 1 Axes>"
      ]
     },
     "metadata": {
      "needs_background": "light"
     },
     "output_type": "display_data"
    }
   ],
   "source": [
    "plot_count('vote_method_cat', df, rotation=30);"
   ]
  },
  {
   "cell_type": "code",
   "execution_count": 27,
   "metadata": {
    "ExecuteTime": {
     "end_time": "2021-03-30T18:17:29.775706Z",
     "start_time": "2021-03-30T18:17:29.739271Z"
    }
   },
   "outputs": [
    {
     "data": {
      "text/html": [
       "<div>\n",
       "<style scoped>\n",
       "    .dataframe tbody tr th:only-of-type {\n",
       "        vertical-align: middle;\n",
       "    }\n",
       "\n",
       "    .dataframe tbody tr th {\n",
       "        vertical-align: top;\n",
       "    }\n",
       "\n",
       "    .dataframe thead th {\n",
       "        text-align: right;\n",
       "    }\n",
       "</style>\n",
       "<table border=\"1\" class=\"dataframe\">\n",
       "  <thead>\n",
       "    <tr style=\"text-align: right;\">\n",
       "      <th></th>\n",
       "      <th>count</th>\n",
       "      <th>%</th>\n",
       "    </tr>\n",
       "  </thead>\n",
       "  <tbody>\n",
       "    <tr>\n",
       "      <th>NC</th>\n",
       "      <td>46367</td>\n",
       "      <td>27.59</td>\n",
       "    </tr>\n",
       "    <tr>\n",
       "      <th>Missing</th>\n",
       "      <td>40772</td>\n",
       "      <td>24.26</td>\n",
       "    </tr>\n",
       "    <tr>\n",
       "      <th>NY</th>\n",
       "      <td>13211</td>\n",
       "      <td>7.86</td>\n",
       "    </tr>\n",
       "    <tr>\n",
       "      <th>OC</th>\n",
       "      <td>10042</td>\n",
       "      <td>5.97</td>\n",
       "    </tr>\n",
       "    <tr>\n",
       "      <th>SC</th>\n",
       "      <td>4753</td>\n",
       "      <td>2.83</td>\n",
       "    </tr>\n",
       "    <tr>\n",
       "      <th>NJ</th>\n",
       "      <td>4492</td>\n",
       "      <td>2.67</td>\n",
       "    </tr>\n",
       "    <tr>\n",
       "      <th>OH</th>\n",
       "      <td>4336</td>\n",
       "      <td>2.58</td>\n",
       "    </tr>\n",
       "    <tr>\n",
       "      <th>PA</th>\n",
       "      <td>4334</td>\n",
       "      <td>2.58</td>\n",
       "    </tr>\n",
       "    <tr>\n",
       "      <th>FL</th>\n",
       "      <td>3786</td>\n",
       "      <td>2.25</td>\n",
       "    </tr>\n",
       "    <tr>\n",
       "      <th>CA</th>\n",
       "      <td>3351</td>\n",
       "      <td>1.99</td>\n",
       "    </tr>\n",
       "    <tr>\n",
       "      <th>VA</th>\n",
       "      <td>3046</td>\n",
       "      <td>1.81</td>\n",
       "    </tr>\n",
       "    <tr>\n",
       "      <th>MI</th>\n",
       "      <td>2430</td>\n",
       "      <td>1.45</td>\n",
       "    </tr>\n",
       "    <tr>\n",
       "      <th>IL</th>\n",
       "      <td>2418</td>\n",
       "      <td>1.44</td>\n",
       "    </tr>\n",
       "    <tr>\n",
       "      <th>GA</th>\n",
       "      <td>2336</td>\n",
       "      <td>1.39</td>\n",
       "    </tr>\n",
       "    <tr>\n",
       "      <th>TX</th>\n",
       "      <td>1842</td>\n",
       "      <td>1.10</td>\n",
       "    </tr>\n",
       "  </tbody>\n",
       "</table>\n",
       "</div>"
      ],
      "text/plain": [
       "         count      %\n",
       "NC       46367  27.59\n",
       "Missing  40772  24.26\n",
       "NY       13211   7.86\n",
       "OC       10042   5.97\n",
       "SC        4753   2.83\n",
       "NJ        4492   2.67\n",
       "OH        4336   2.58\n",
       "PA        4334   2.58\n",
       "FL        3786   2.25\n",
       "CA        3351   1.99\n",
       "VA        3046   1.81\n",
       "MI        2430   1.45\n",
       "IL        2418   1.44\n",
       "GA        2336   1.39\n",
       "TX        1842   1.10"
      ]
     },
     "execution_count": 27,
     "metadata": {},
     "output_type": "execute_result"
    }
   ],
   "source": [
    "check_unique('birth_state', df).head(15)"
   ]
  },
  {
   "cell_type": "code",
   "execution_count": 28,
   "metadata": {
    "ExecuteTime": {
     "end_time": "2021-03-30T18:19:21.834961Z",
     "start_time": "2021-03-30T18:19:21.819302Z"
    }
   },
   "outputs": [
    {
     "data": {
      "text/plain": [
       "57"
      ]
     },
     "execution_count": 28,
     "metadata": {},
     "output_type": "execute_result"
    }
   ],
   "source": [
    "df['birth_state'].nunique()"
   ]
  },
  {
   "cell_type": "code",
   "execution_count": 29,
   "metadata": {
    "ExecuteTime": {
     "end_time": "2021-03-30T18:22:15.628581Z",
     "start_time": "2021-03-30T18:22:13.784169Z"
    },
    "scrolled": false
   },
   "outputs": [
    {
     "data": {
      "image/png": "[encoded data removed]",
      "text/plain": [
       "<Figure size 576x432 with 1 Axes>"
      ]
     },
     "metadata": {
      "needs_background": "light"
     },
     "output_type": "display_data"
    }
   ],
   "source": [
    "plot_count('birth_state', df)\n",
    "plt.savefig('Figures/blog_bin_cat_features/birth_state_count', bbox_inches = \"tight\");"
   ]
  },
  {
   "cell_type": "code",
   "execution_count": 20,
   "metadata": {
    "ExecuteTime": {
     "end_time": "2021-03-30T17:05:46.728161Z",
     "start_time": "2021-03-30T17:05:46.722753Z"
    }
   },
   "outputs": [],
   "source": [
    "## Define function for grouping birth state/country into categories\n",
    "def get_birth_reg(state):\n",
    "    \n",
    "    # check if U.S. territory or out of country\n",
    "    if state in ['AS', 'GU', 'MP', 'PR', 'VI', 'OC']:\n",
    "        return 'Other'\n",
    "    \n",
    "    # the rest of the categories are based on U.S. Census Bureau regions\n",
    "    elif state in ['CT', 'ME', 'MA', 'NH', 'RI', 'VT',\n",
    "                     'NJ', 'NY', 'PA']:\n",
    "        return 'Northeast'\n",
    "    \n",
    "    elif state in ['DE', 'FL', 'GA', 'MD', 'NC', 'SC', 'VA', \n",
    "                     'DC', 'WV', 'AL', 'KY', 'MS', 'TN', 'AR',\n",
    "                     'LA', 'OK', 'TX']:\n",
    "        return 'South'\n",
    "    \n",
    "    elif state in ['IL', 'IN', 'MI', 'OH', 'WI',\n",
    "                     'IA', 'KS', 'MN', 'MO', 'NE', 'ND', 'SD']:\n",
    "        return 'Midwest'\n",
    "    \n",
    "    elif state in ['AZ', 'CO', 'ID', 'MT', 'NV', 'NM', 'UT',\n",
    "                     'WY', 'AK', 'CA', 'HI', 'OR', 'WA']:\n",
    "        return 'West'\n",
    "    \n",
    "    else:\n",
    "        return 'Missing'"
   ]
  },
  {
   "cell_type": "code",
   "execution_count": 21,
   "metadata": {
    "ExecuteTime": {
     "end_time": "2021-03-30T17:05:46.838369Z",
     "start_time": "2021-03-30T17:05:46.730326Z"
    }
   },
   "outputs": [
    {
     "data": {
      "text/html": [
       "<div>\n",
       "<style scoped>\n",
       "    .dataframe tbody tr th:only-of-type {\n",
       "        vertical-align: middle;\n",
       "    }\n",
       "\n",
       "    .dataframe tbody tr th {\n",
       "        vertical-align: top;\n",
       "    }\n",
       "\n",
       "    .dataframe thead th {\n",
       "        text-align: right;\n",
       "    }\n",
       "</style>\n",
       "<table border=\"1\" class=\"dataframe\">\n",
       "  <thead>\n",
       "    <tr style=\"text-align: right;\">\n",
       "      <th></th>\n",
       "      <th>count</th>\n",
       "      <th>%</th>\n",
       "    </tr>\n",
       "  </thead>\n",
       "  <tbody>\n",
       "    <tr>\n",
       "      <th>South</th>\n",
       "      <td>70810</td>\n",
       "      <td>42.13</td>\n",
       "    </tr>\n",
       "    <tr>\n",
       "      <th>Missing</th>\n",
       "      <td>40773</td>\n",
       "      <td>24.26</td>\n",
       "    </tr>\n",
       "    <tr>\n",
       "      <th>Northeast</th>\n",
       "      <td>26291</td>\n",
       "      <td>15.64</td>\n",
       "    </tr>\n",
       "    <tr>\n",
       "      <th>Midwest</th>\n",
       "      <td>13749</td>\n",
       "      <td>8.18</td>\n",
       "    </tr>\n",
       "    <tr>\n",
       "      <th>Other</th>\n",
       "      <td>10535</td>\n",
       "      <td>6.27</td>\n",
       "    </tr>\n",
       "    <tr>\n",
       "      <th>West</th>\n",
       "      <td>5912</td>\n",
       "      <td>3.52</td>\n",
       "    </tr>\n",
       "  </tbody>\n",
       "</table>\n",
       "</div>"
      ],
      "text/plain": [
       "           count      %\n",
       "South      70810  42.13\n",
       "Missing    40773  24.26\n",
       "Northeast  26291  15.64\n",
       "Midwest    13749   8.18\n",
       "Other      10535   6.27\n",
       "West        5912   3.52"
      ]
     },
     "execution_count": 21,
     "metadata": {},
     "output_type": "execute_result"
    }
   ],
   "source": [
    "## Create a new column grouping birth_state into U.S. Census regions,\n",
    "  ## this time lumping territories and out of country into 'Other'\n",
    "df['birth_reg'] = df['birth_state'].apply(get_birth_reg)\n",
    "check_unique('birth_reg', df)"
   ]
  },
  {
   "cell_type": "code",
   "execution_count": 22,
   "metadata": {
    "ExecuteTime": {
     "end_time": "2021-03-30T17:05:47.079178Z",
     "start_time": "2021-03-30T17:05:46.840490Z"
    }
   },
   "outputs": [
    {
     "data": {
      "image/png": "[encoded data removed]",
      "text/plain": [
       "<Figure size 576x432 with 1 Axes>"
      ]
     },
     "metadata": {
      "needs_background": "light"
     },
     "output_type": "display_data"
    }
   ],
   "source": [
    "plot_count('birth_reg', df, rotation=30);"
   ]
  },
  {
   "cell_type": "code",
   "execution_count": null,
   "metadata": {},
   "outputs": [],
   "source": []
  }
 ],
 "metadata": {
  "kernelspec": {
   "display_name": "learn-env",
   "language": "python",
   "name": "learn-env"
  },
  "language_info": {
   "codemirror_mode": {
    "name": "ipython",
    "version": 3
   },
   "file_extension": ".py",
   "mimetype": "text/x-python",
   "name": "python",
   "nbconvert_exporter": "python",
   "pygments_lexer": "ipython3",
   "version": "3.6.9"
  },
  "toc": {
   "base_numbering": 1,
   "nav_menu": {},
   "number_sections": true,
   "sideBar": true,
   "skip_h1_title": false,
   "title_cell": "Table of Contents",
   "title_sidebar": "Contents",
   "toc_cell": false,
   "toc_position": {},
   "toc_section_display": true,
   "toc_window_display": false
  }
 },
 "nbformat": 4,
 "nbformat_minor": 2
}
