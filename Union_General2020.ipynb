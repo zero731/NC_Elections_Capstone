{
 "cells": [
  {
   "cell_type": "markdown",
   "metadata": {},
   "source": [
    "# Predicting Voting Method in Union County NC in the 2020 General Election"
   ]
  },
  {
   "cell_type": "markdown",
   "metadata": {},
   "source": [
    "<font size=3rem>\n",
    "    \n",
    "- **[Introduction](#Introduction)<br>**\n",
    "- **[OBTAIN](#OBTAIN)**<br>\n",
    "- **[SCRUB](#SCRUB)**<br>\n",
    "- **[EXPLORE](#EXPLORE)**<br>\n",
    "- **[MODEL](#MODEL)**<br>\n",
    "- **[INTERPRET](#INTERPRET)**<br>\n",
    "- **[Conclusions/Recommendations](#Conclusions/Recommendations)<br>**\n",
    "</font>"
   ]
  },
  {
   "cell_type": "markdown",
   "metadata": {},
   "source": [
    "# Introduction"
   ]
  },
  {
   "cell_type": "markdown",
   "metadata": {},
   "source": []
  },
  {
   "cell_type": "markdown",
   "metadata": {},
   "source": [
    "# OBTAIN"
   ]
  },
  {
   "cell_type": "code",
   "execution_count": 1,
   "metadata": {
    "ExecuteTime": {
     "end_time": "2020-12-15T16:28:01.975642Z",
     "start_time": "2020-12-15T16:28:01.870590Z"
    }
   },
   "outputs": [],
   "source": [
    "## Import Numpy and set random seed for notebook\n",
    "import numpy as np\n",
    "np.random.seed(319)"
   ]
  },
  {
   "cell_type": "code",
   "execution_count": 2,
   "metadata": {
    "ExecuteTime": {
     "end_time": "2020-12-15T16:28:01.984149Z",
     "start_time": "2020-12-15T16:28:01.978179Z"
    }
   },
   "outputs": [],
   "source": [
    "## Import functions made specifically for this project\n",
    "from capstone_functions import *"
   ]
  },
  {
   "cell_type": "code",
   "execution_count": 3,
   "metadata": {
    "ExecuteTime": {
     "end_time": "2020-12-15T16:28:03.272978Z",
     "start_time": "2020-12-15T16:28:01.988280Z"
    }
   },
   "outputs": [],
   "source": [
    "## Import remaining necessary libraries\n",
    "import pandas as pd\n",
    "import matplotlib.pyplot as plt\n",
    "%matplotlib inline\n",
    "import seaborn as sns\n",
    "import datetime as dt\n",
    "from tzlocal import get_localzone"
   ]
  },
  {
   "cell_type": "code",
   "execution_count": 4,
   "metadata": {
    "ExecuteTime": {
     "end_time": "2020-12-15T16:28:03.277685Z",
     "start_time": "2020-12-15T16:28:03.274960Z"
    }
   },
   "outputs": [],
   "source": [
    "## Set options for displaying Pandas DataFrames\n",
    "pd.options.display.max_columns = 50\n",
    "pd.options.display.max_rows = 100"
   ]
  },
  {
   "cell_type": "code",
   "execution_count": 5,
   "metadata": {
    "ExecuteTime": {
     "end_time": "2020-12-15T16:28:03.925693Z",
     "start_time": "2020-12-15T16:28:03.279415Z"
    }
   },
   "outputs": [
    {
     "data": {
      "text/html": [
       "<div>\n",
       "<style scoped>\n",
       "    .dataframe tbody tr th:only-of-type {\n",
       "        vertical-align: middle;\n",
       "    }\n",
       "\n",
       "    .dataframe tbody tr th {\n",
       "        vertical-align: top;\n",
       "    }\n",
       "\n",
       "    .dataframe thead th {\n",
       "        text-align: right;\n",
       "    }\n",
       "</style>\n",
       "<table border=\"1\" class=\"dataframe\">\n",
       "  <thead>\n",
       "    <tr style=\"text-align: right;\">\n",
       "      <th></th>\n",
       "      <th>ncid</th>\n",
       "      <th>no_vote_his</th>\n",
       "      <th>birth_age_adj</th>\n",
       "      <th>voting_method</th>\n",
       "      <th>Gen_2020</th>\n",
       "      <th>vote_early</th>\n",
       "      <th>vote_by_mail</th>\n",
       "      <th>vote_curbside</th>\n",
       "      <th>Pri_2020</th>\n",
       "      <th>party_cd</th>\n",
       "      <th>gender_code</th>\n",
       "      <th>birth_year</th>\n",
       "      <th>registr_dt</th>\n",
       "      <th>race_code</th>\n",
       "      <th>ethnic_code</th>\n",
       "      <th>zip_code</th>\n",
       "      <th>res_street_address</th>\n",
       "      <th>res_city_desc</th>\n",
       "      <th>birth_state</th>\n",
       "      <th>drivers_lic</th>\n",
       "      <th>precinct_abbrv</th>\n",
       "      <th>vtd_abbrv</th>\n",
       "      <th>cong_dist_abbrv</th>\n",
       "      <th>nc_senate_abbrv</th>\n",
       "      <th>nc_house_abbrv</th>\n",
       "      <th>school_dist_abbrv</th>\n",
       "    </tr>\n",
       "  </thead>\n",
       "  <tbody>\n",
       "    <tr>\n",
       "      <th>0</th>\n",
       "      <td>EF230133</td>\n",
       "      <td>0</td>\n",
       "      <td>46.0</td>\n",
       "      <td>ABSENTEE ONESTOP</td>\n",
       "      <td>Early</td>\n",
       "      <td>1.0</td>\n",
       "      <td>0.0</td>\n",
       "      <td>0.0</td>\n",
       "      <td>No Vote</td>\n",
       "      <td>UNA</td>\n",
       "      <td>M</td>\n",
       "      <td>1974</td>\n",
       "      <td>2019-04-25</td>\n",
       "      <td>W</td>\n",
       "      <td>NL</td>\n",
       "      <td>28173.0</td>\n",
       "      <td>4009  MILLBRIDGE PKWY</td>\n",
       "      <td>WAXHAW</td>\n",
       "      <td>OC</td>\n",
       "      <td>Y</td>\n",
       "      <td>020A</td>\n",
       "      <td>020A</td>\n",
       "      <td>9.0</td>\n",
       "      <td>35.0</td>\n",
       "      <td>68.0</td>\n",
       "      <td>2.0</td>\n",
       "    </tr>\n",
       "    <tr>\n",
       "      <th>1</th>\n",
       "      <td>EF231096</td>\n",
       "      <td>0</td>\n",
       "      <td>46.0</td>\n",
       "      <td>ABSENTEE ONESTOP</td>\n",
       "      <td>Early</td>\n",
       "      <td>1.0</td>\n",
       "      <td>0.0</td>\n",
       "      <td>0.0</td>\n",
       "      <td>No Vote</td>\n",
       "      <td>DEM</td>\n",
       "      <td>F</td>\n",
       "      <td>1974</td>\n",
       "      <td>2019-06-24</td>\n",
       "      <td>A</td>\n",
       "      <td>NL</td>\n",
       "      <td>28173.0</td>\n",
       "      <td>4009  MILLBRIDGE PKWY</td>\n",
       "      <td>WAXHAW</td>\n",
       "      <td>OC</td>\n",
       "      <td>Y</td>\n",
       "      <td>020A</td>\n",
       "      <td>020A</td>\n",
       "      <td>9.0</td>\n",
       "      <td>35.0</td>\n",
       "      <td>68.0</td>\n",
       "      <td>2.0</td>\n",
       "    </tr>\n",
       "    <tr>\n",
       "      <th>2</th>\n",
       "      <td>AL261840</td>\n",
       "      <td>1</td>\n",
       "      <td>26.0</td>\n",
       "      <td>NaN</td>\n",
       "      <td>No Vote</td>\n",
       "      <td>0.0</td>\n",
       "      <td>0.0</td>\n",
       "      <td>0.0</td>\n",
       "      <td>No Vote</td>\n",
       "      <td>UNA</td>\n",
       "      <td>F</td>\n",
       "      <td>1994</td>\n",
       "      <td>2013-11-04</td>\n",
       "      <td>W</td>\n",
       "      <td>NL</td>\n",
       "      <td>28079.0</td>\n",
       "      <td>1001  STEVENS PRIDE CT</td>\n",
       "      <td>INDIAN TRAIL</td>\n",
       "      <td>IA</td>\n",
       "      <td>Y</td>\n",
       "      <td>029A</td>\n",
       "      <td>029A</td>\n",
       "      <td>9.0</td>\n",
       "      <td>35.0</td>\n",
       "      <td>68.0</td>\n",
       "      <td>3.0</td>\n",
       "    </tr>\n",
       "    <tr>\n",
       "      <th>3</th>\n",
       "      <td>AL178177</td>\n",
       "      <td>0</td>\n",
       "      <td>62.0</td>\n",
       "      <td>ABSENTEE ONESTOP</td>\n",
       "      <td>Early</td>\n",
       "      <td>1.0</td>\n",
       "      <td>0.0</td>\n",
       "      <td>0.0</td>\n",
       "      <td>No Vote</td>\n",
       "      <td>UNA</td>\n",
       "      <td>M</td>\n",
       "      <td>1958</td>\n",
       "      <td>2014-09-17</td>\n",
       "      <td>W</td>\n",
       "      <td>UN</td>\n",
       "      <td>28079.0</td>\n",
       "      <td>1001  STEVENS PRIDE CT</td>\n",
       "      <td>INDIAN TRAIL</td>\n",
       "      <td>OK</td>\n",
       "      <td>Y</td>\n",
       "      <td>029A</td>\n",
       "      <td>029A</td>\n",
       "      <td>9.0</td>\n",
       "      <td>35.0</td>\n",
       "      <td>68.0</td>\n",
       "      <td>3.0</td>\n",
       "    </tr>\n",
       "    <tr>\n",
       "      <th>4</th>\n",
       "      <td>AL193958</td>\n",
       "      <td>0</td>\n",
       "      <td>62.0</td>\n",
       "      <td>ABSENTEE ONESTOP</td>\n",
       "      <td>Early</td>\n",
       "      <td>1.0</td>\n",
       "      <td>0.0</td>\n",
       "      <td>0.0</td>\n",
       "      <td>No Vote</td>\n",
       "      <td>REP</td>\n",
       "      <td>F</td>\n",
       "      <td>1958</td>\n",
       "      <td>2013-07-24</td>\n",
       "      <td>W</td>\n",
       "      <td>NL</td>\n",
       "      <td>28079.0</td>\n",
       "      <td>1001  STEVENS PRIDE CT</td>\n",
       "      <td>INDIAN TRAIL</td>\n",
       "      <td>PA</td>\n",
       "      <td>Y</td>\n",
       "      <td>029A</td>\n",
       "      <td>029A</td>\n",
       "      <td>9.0</td>\n",
       "      <td>35.0</td>\n",
       "      <td>68.0</td>\n",
       "      <td>3.0</td>\n",
       "    </tr>\n",
       "  </tbody>\n",
       "</table>\n",
       "</div>"
      ],
      "text/plain": [
       "       ncid  no_vote_his  birth_age_adj     voting_method Gen_2020  \\\n",
       "0  EF230133            0           46.0  ABSENTEE ONESTOP    Early   \n",
       "1  EF231096            0           46.0  ABSENTEE ONESTOP    Early   \n",
       "2  AL261840            1           26.0               NaN  No Vote   \n",
       "3  AL178177            0           62.0  ABSENTEE ONESTOP    Early   \n",
       "4  AL193958            0           62.0  ABSENTEE ONESTOP    Early   \n",
       "\n",
       "   vote_early  vote_by_mail  vote_curbside Pri_2020 party_cd gender_code  \\\n",
       "0         1.0           0.0            0.0  No Vote      UNA           M   \n",
       "1         1.0           0.0            0.0  No Vote      DEM           F   \n",
       "2         0.0           0.0            0.0  No Vote      UNA           F   \n",
       "3         1.0           0.0            0.0  No Vote      UNA           M   \n",
       "4         1.0           0.0            0.0  No Vote      REP           F   \n",
       "\n",
       "   birth_year  registr_dt race_code ethnic_code  zip_code  \\\n",
       "0        1974  2019-04-25         W          NL   28173.0   \n",
       "1        1974  2019-06-24         A          NL   28173.0   \n",
       "2        1994  2013-11-04         W          NL   28079.0   \n",
       "3        1958  2014-09-17         W          UN   28079.0   \n",
       "4        1958  2013-07-24         W          NL   28079.0   \n",
       "\n",
       "          res_street_address res_city_desc birth_state drivers_lic  \\\n",
       "0   4009  MILLBRIDGE PKWY           WAXHAW          OC           Y   \n",
       "1   4009  MILLBRIDGE PKWY           WAXHAW          OC           Y   \n",
       "2  1001  STEVENS PRIDE CT     INDIAN TRAIL          IA           Y   \n",
       "3  1001  STEVENS PRIDE CT     INDIAN TRAIL          OK           Y   \n",
       "4  1001  STEVENS PRIDE CT     INDIAN TRAIL          PA           Y   \n",
       "\n",
       "  precinct_abbrv vtd_abbrv  cong_dist_abbrv  nc_senate_abbrv  nc_house_abbrv  \\\n",
       "0           020A      020A              9.0             35.0            68.0   \n",
       "1           020A      020A              9.0             35.0            68.0   \n",
       "2           029A      029A              9.0             35.0            68.0   \n",
       "3           029A      029A              9.0             35.0            68.0   \n",
       "4           029A      029A              9.0             35.0            68.0   \n",
       "\n",
       "   school_dist_abbrv  \n",
       "0                2.0  \n",
       "1                2.0  \n",
       "2                3.0  \n",
       "3                3.0  \n",
       "4                3.0  "
      ]
     },
     "execution_count": 5,
     "metadata": {},
     "output_type": "execute_result"
    }
   ],
   "source": [
    "## Import and preview dataset\n",
    "elec_df = pd.read_csv('Data/UC_gen_2020.zip')\n",
    "elec_df.head()"
   ]
  },
  {
   "cell_type": "markdown",
   "metadata": {},
   "source": [
    "# SCRUB"
   ]
  },
  {
   "cell_type": "code",
   "execution_count": 6,
   "metadata": {
    "ExecuteTime": {
     "end_time": "2020-12-15T16:28:04.022273Z",
     "start_time": "2020-12-15T16:28:03.927306Z"
    }
   },
   "outputs": [
    {
     "name": "stdout",
     "output_type": "stream",
     "text": [
      "<class 'pandas.core.frame.DataFrame'>\n",
      "RangeIndex: 168463 entries, 0 to 168462\n",
      "Data columns (total 26 columns):\n",
      " #   Column              Non-Null Count   Dtype  \n",
      "---  ------              --------------   -----  \n",
      " 0   ncid                168463 non-null  object \n",
      " 1   no_vote_his         168463 non-null  int64  \n",
      " 2   birth_age_adj       168463 non-null  float64\n",
      " 3   voting_method       131414 non-null  object \n",
      " 4   Gen_2020            168463 non-null  object \n",
      " 5   vote_early          168463 non-null  float64\n",
      " 6   vote_by_mail        168463 non-null  float64\n",
      " 7   vote_curbside       168463 non-null  float64\n",
      " 8   Pri_2020            168463 non-null  object \n",
      " 9   party_cd            168463 non-null  object \n",
      " 10  gender_code         168463 non-null  object \n",
      " 11  birth_year          168463 non-null  int64  \n",
      " 12  registr_dt          168463 non-null  object \n",
      " 13  race_code           168463 non-null  object \n",
      " 14  ethnic_code         168463 non-null  object \n",
      " 15  zip_code            168460 non-null  float64\n",
      " 16  res_street_address  168463 non-null  object \n",
      " 17  res_city_desc       168460 non-null  object \n",
      " 18  birth_state         127622 non-null  object \n",
      " 19  drivers_lic         168463 non-null  object \n",
      " 20  precinct_abbrv      168463 non-null  object \n",
      " 21  vtd_abbrv           168463 non-null  object \n",
      " 22  cong_dist_abbrv     168463 non-null  float64\n",
      " 23  nc_senate_abbrv     168463 non-null  float64\n",
      " 24  nc_house_abbrv      168463 non-null  float64\n",
      " 25  school_dist_abbrv   168463 non-null  float64\n",
      "dtypes: float64(9), int64(2), object(15)\n",
      "memory usage: 33.4+ MB\n"
     ]
    }
   ],
   "source": [
    "## Check df metadata\n",
    "elec_df.info()"
   ]
  },
  {
   "cell_type": "markdown",
   "metadata": {},
   "source": [
    "> Columns with missing values:\n",
    "* `voting_method`: missing values are all cases where the individual did not cast a vote in this election\n",
    "* `zip_code`: investigate filling in the 3 missing values based on provided address\n",
    "* `res_city_desc`: same as for `zip_code`\n",
    "* `birth_state`: with so many values missing, probably want to make 'missing' its own category for this feature\n",
    "\n",
    "> Column dtypes:\n",
    "* `registr_dt`: recast as datetime\n",
    "* `zip_code`: likely more useful to treat as a categorical variable rather than as numeric\n",
    "* `drivers_lic`: change from Y or N to 1 or 0"
   ]
  },
  {
   "cell_type": "code",
   "execution_count": 7,
   "metadata": {
    "ExecuteTime": {
     "end_time": "2020-12-15T16:28:04.033844Z",
     "start_time": "2020-12-15T16:28:04.024096Z"
    }
   },
   "outputs": [],
   "source": [
    "## Fill null values in voting_method with 'No Vote'\n",
    "elec_df['voting_method'].fillna(value='No Vote', inplace=True)"
   ]
  },
  {
   "cell_type": "code",
   "execution_count": 8,
   "metadata": {
    "ExecuteTime": {
     "end_time": "2020-12-15T16:28:04.046540Z",
     "start_time": "2020-12-15T16:28:04.036986Z"
    }
   },
   "outputs": [],
   "source": [
    "## Fill null values in birth_state with 'Missing'\n",
    "elec_df['birth_state'].fillna(value='Missing', inplace=True)"
   ]
  },
  {
   "cell_type": "code",
   "execution_count": 9,
   "metadata": {
    "ExecuteTime": {
     "end_time": "2020-12-15T16:28:04.083359Z",
     "start_time": "2020-12-15T16:28:04.049249Z"
    },
    "scrolled": true
   },
   "outputs": [
    {
     "data": {
      "text/html": [
       "<div>\n",
       "<style scoped>\n",
       "    .dataframe tbody tr th:only-of-type {\n",
       "        vertical-align: middle;\n",
       "    }\n",
       "\n",
       "    .dataframe tbody tr th {\n",
       "        vertical-align: top;\n",
       "    }\n",
       "\n",
       "    .dataframe thead th {\n",
       "        text-align: right;\n",
       "    }\n",
       "</style>\n",
       "<table border=\"1\" class=\"dataframe\">\n",
       "  <thead>\n",
       "    <tr style=\"text-align: right;\">\n",
       "      <th></th>\n",
       "      <th>ncid</th>\n",
       "      <th>no_vote_his</th>\n",
       "      <th>birth_age_adj</th>\n",
       "      <th>voting_method</th>\n",
       "      <th>Gen_2020</th>\n",
       "      <th>vote_early</th>\n",
       "      <th>vote_by_mail</th>\n",
       "      <th>vote_curbside</th>\n",
       "      <th>Pri_2020</th>\n",
       "      <th>party_cd</th>\n",
       "      <th>gender_code</th>\n",
       "      <th>birth_year</th>\n",
       "      <th>registr_dt</th>\n",
       "      <th>race_code</th>\n",
       "      <th>ethnic_code</th>\n",
       "      <th>zip_code</th>\n",
       "      <th>res_street_address</th>\n",
       "      <th>res_city_desc</th>\n",
       "      <th>birth_state</th>\n",
       "      <th>drivers_lic</th>\n",
       "      <th>precinct_abbrv</th>\n",
       "      <th>vtd_abbrv</th>\n",
       "      <th>cong_dist_abbrv</th>\n",
       "      <th>nc_senate_abbrv</th>\n",
       "      <th>nc_house_abbrv</th>\n",
       "      <th>school_dist_abbrv</th>\n",
       "    </tr>\n",
       "  </thead>\n",
       "  <tbody>\n",
       "    <tr>\n",
       "      <th>54280</th>\n",
       "      <td>EF35182</td>\n",
       "      <td>0</td>\n",
       "      <td>62.0</td>\n",
       "      <td>No Vote</td>\n",
       "      <td>No Vote</td>\n",
       "      <td>0.0</td>\n",
       "      <td>0.0</td>\n",
       "      <td>0.0</td>\n",
       "      <td>No Vote</td>\n",
       "      <td>REP</td>\n",
       "      <td>F</td>\n",
       "      <td>1958</td>\n",
       "      <td>1991-03-15</td>\n",
       "      <td>W</td>\n",
       "      <td>NL</td>\n",
       "      <td>NaN</td>\n",
       "      <td>CONFIDENTIAL</td>\n",
       "      <td>NaN</td>\n",
       "      <td>NC</td>\n",
       "      <td>Y</td>\n",
       "      <td>030</td>\n",
       "      <td>030</td>\n",
       "      <td>9.0</td>\n",
       "      <td>35.0</td>\n",
       "      <td>69.0</td>\n",
       "      <td>1.0</td>\n",
       "    </tr>\n",
       "    <tr>\n",
       "      <th>69484</th>\n",
       "      <td>EF173508</td>\n",
       "      <td>0</td>\n",
       "      <td>26.0</td>\n",
       "      <td>ABSENTEE ONESTOP</td>\n",
       "      <td>Early</td>\n",
       "      <td>1.0</td>\n",
       "      <td>0.0</td>\n",
       "      <td>0.0</td>\n",
       "      <td>Early</td>\n",
       "      <td>REP</td>\n",
       "      <td>M</td>\n",
       "      <td>1994</td>\n",
       "      <td>2016-09-26</td>\n",
       "      <td>W</td>\n",
       "      <td>UN</td>\n",
       "      <td>NaN</td>\n",
       "      <td>CONFIDENTIAL</td>\n",
       "      <td>NaN</td>\n",
       "      <td>NC</td>\n",
       "      <td>Y</td>\n",
       "      <td>017A</td>\n",
       "      <td>017A</td>\n",
       "      <td>9.0</td>\n",
       "      <td>35.0</td>\n",
       "      <td>68.0</td>\n",
       "      <td>3.0</td>\n",
       "    </tr>\n",
       "    <tr>\n",
       "      <th>90712</th>\n",
       "      <td>EF203192</td>\n",
       "      <td>0</td>\n",
       "      <td>59.0</td>\n",
       "      <td>ABSENTEE ONESTOP</td>\n",
       "      <td>Early</td>\n",
       "      <td>1.0</td>\n",
       "      <td>0.0</td>\n",
       "      <td>0.0</td>\n",
       "      <td>Election Day</td>\n",
       "      <td>UNA</td>\n",
       "      <td>F</td>\n",
       "      <td>1961</td>\n",
       "      <td>2016-05-25</td>\n",
       "      <td>W</td>\n",
       "      <td>NL</td>\n",
       "      <td>NaN</td>\n",
       "      <td>CONFIDENTIAL</td>\n",
       "      <td>NaN</td>\n",
       "      <td>PA</td>\n",
       "      <td>Y</td>\n",
       "      <td>029C</td>\n",
       "      <td>029C</td>\n",
       "      <td>9.0</td>\n",
       "      <td>35.0</td>\n",
       "      <td>68.0</td>\n",
       "      <td>5.0</td>\n",
       "    </tr>\n",
       "  </tbody>\n",
       "</table>\n",
       "</div>"
      ],
      "text/plain": [
       "           ncid  no_vote_his  birth_age_adj     voting_method Gen_2020  \\\n",
       "54280   EF35182            0           62.0           No Vote  No Vote   \n",
       "69484  EF173508            0           26.0  ABSENTEE ONESTOP    Early   \n",
       "90712  EF203192            0           59.0  ABSENTEE ONESTOP    Early   \n",
       "\n",
       "       vote_early  vote_by_mail  vote_curbside      Pri_2020 party_cd  \\\n",
       "54280         0.0           0.0            0.0       No Vote      REP   \n",
       "69484         1.0           0.0            0.0         Early      REP   \n",
       "90712         1.0           0.0            0.0  Election Day      UNA   \n",
       "\n",
       "      gender_code  birth_year  registr_dt race_code ethnic_code  zip_code  \\\n",
       "54280           F        1958  1991-03-15         W          NL       NaN   \n",
       "69484           M        1994  2016-09-26         W          UN       NaN   \n",
       "90712           F        1961  2016-05-25         W          NL       NaN   \n",
       "\n",
       "      res_street_address res_city_desc birth_state drivers_lic precinct_abbrv  \\\n",
       "54280       CONFIDENTIAL           NaN          NC           Y            030   \n",
       "69484       CONFIDENTIAL           NaN          NC           Y           017A   \n",
       "90712       CONFIDENTIAL           NaN          PA           Y           029C   \n",
       "\n",
       "      vtd_abbrv  cong_dist_abbrv  nc_senate_abbrv  nc_house_abbrv  \\\n",
       "54280       030              9.0             35.0            69.0   \n",
       "69484      017A              9.0             35.0            68.0   \n",
       "90712      029C              9.0             35.0            68.0   \n",
       "\n",
       "       school_dist_abbrv  \n",
       "54280                1.0  \n",
       "69484                3.0  \n",
       "90712                5.0  "
      ]
     },
     "execution_count": 9,
     "metadata": {},
     "output_type": "execute_result"
    }
   ],
   "source": [
    "## Check records with missing zip_code\n",
    "elec_df.loc[elec_df['zip_code'].isna()]"
   ]
  },
  {
   "cell_type": "code",
   "execution_count": 10,
   "metadata": {
    "ExecuteTime": {
     "end_time": "2020-12-15T16:28:04.102403Z",
     "start_time": "2020-12-15T16:28:04.085380Z"
    },
    "scrolled": true
   },
   "outputs": [
    {
     "data": {
      "text/plain": [
       "28110.0    649\n",
       "Name: zip_code, dtype: int64"
      ]
     },
     "execution_count": 10,
     "metadata": {},
     "output_type": "execute_result"
    }
   ],
   "source": [
    "## Examine common zip codes for this combination of school distr and precinct\n",
    "elec_df.loc[(elec_df['school_dist_abbrv']==1) & \\\n",
    "            (elec_df['precinct_abbrv']=='030')]['zip_code'].value_counts()"
   ]
  },
  {
   "cell_type": "code",
   "execution_count": 11,
   "metadata": {
    "ExecuteTime": {
     "end_time": "2020-12-15T16:28:04.120303Z",
     "start_time": "2020-12-15T16:28:04.104857Z"
    }
   },
   "outputs": [
    {
     "data": {
      "text/plain": [
       "MONROE    649\n",
       "Name: res_city_desc, dtype: int64"
      ]
     },
     "execution_count": 11,
     "metadata": {},
     "output_type": "execute_result"
    }
   ],
   "source": [
    "## Examine common cities for this combination of school distr and precinct\n",
    "elec_df.loc[(elec_df['school_dist_abbrv']==1) & \\\n",
    "            (elec_df['precinct_abbrv']=='030')]['res_city_desc'].value_counts()"
   ]
  },
  {
   "cell_type": "code",
   "execution_count": 12,
   "metadata": {
    "ExecuteTime": {
     "end_time": "2020-12-15T16:28:04.144470Z",
     "start_time": "2020-12-15T16:28:04.122175Z"
    },
    "scrolled": true
   },
   "outputs": [
    {
     "data": {
      "text/plain": [
       "28110.0    2904\n",
       "28104.0     346\n",
       "28173.0      97\n",
       "28079.0      36\n",
       "Name: zip_code, dtype: int64"
      ]
     },
     "execution_count": 12,
     "metadata": {},
     "output_type": "execute_result"
    }
   ],
   "source": [
    "## Examine common zip codes for this combination of school distr and precinct\n",
    "elec_df.loc[(elec_df['school_dist_abbrv']==3) & \\\n",
    "            (elec_df['precinct_abbrv']=='017A')]['zip_code'].value_counts()"
   ]
  },
  {
   "cell_type": "code",
   "execution_count": 13,
   "metadata": {
    "ExecuteTime": {
     "end_time": "2020-12-15T16:28:04.163814Z",
     "start_time": "2020-12-15T16:28:04.147057Z"
    }
   },
   "outputs": [
    {
     "data": {
      "text/plain": [
       "MONROE          2904\n",
       "MATTHEWS         346\n",
       "WAXHAW            97\n",
       "INDIAN TRAIL      36\n",
       "Name: res_city_desc, dtype: int64"
      ]
     },
     "execution_count": 13,
     "metadata": {},
     "output_type": "execute_result"
    }
   ],
   "source": [
    "## Examine common cities for this combination of school distr and precinct\n",
    "elec_df.loc[(elec_df['school_dist_abbrv']==3) & \\\n",
    "            (elec_df['precinct_abbrv']=='017A')]['res_city_desc'].value_counts()"
   ]
  },
  {
   "cell_type": "code",
   "execution_count": 14,
   "metadata": {
    "ExecuteTime": {
     "end_time": "2020-12-15T16:28:04.186976Z",
     "start_time": "2020-12-15T16:28:04.165636Z"
    }
   },
   "outputs": [
    {
     "data": {
      "text/plain": [
       "28079.0    1879\n",
       "28104.0     871\n",
       "Name: zip_code, dtype: int64"
      ]
     },
     "execution_count": 14,
     "metadata": {},
     "output_type": "execute_result"
    }
   ],
   "source": [
    "## Examine common zip codes for this combination of school distr and precinct\n",
    "elec_df.loc[(elec_df['school_dist_abbrv']==5) & \\\n",
    "            (elec_df['precinct_abbrv']=='029C')]['zip_code'].value_counts()"
   ]
  },
  {
   "cell_type": "code",
   "execution_count": 15,
   "metadata": {
    "ExecuteTime": {
     "end_time": "2020-12-15T16:28:04.208014Z",
     "start_time": "2020-12-15T16:28:04.189691Z"
    }
   },
   "outputs": [
    {
     "data": {
      "text/plain": [
       "INDIAN TRAIL    1879\n",
       "MATTHEWS         871\n",
       "Name: res_city_desc, dtype: int64"
      ]
     },
     "execution_count": 15,
     "metadata": {},
     "output_type": "execute_result"
    }
   ],
   "source": [
    "## Examine common cities for this combination of school distr and precinct\n",
    "elec_df.loc[(elec_df['school_dist_abbrv']==5) & \\\n",
    "            (elec_df['precinct_abbrv']=='029C')]['res_city_desc'].value_counts()"
   ]
  },
  {
   "cell_type": "markdown",
   "metadata": {},
   "source": [
    "> These three records missing `zip_code` also correspond to the three records missing `res_city_desc`, most likely because the residential address is confidential for these individuals. These records can have the group mode imputed for the specific combination of school district and voting precinct as part of the pipeline for modeling."
   ]
  },
  {
   "cell_type": "code",
   "execution_count": 16,
   "metadata": {
    "ExecuteTime": {
     "end_time": "2020-12-15T16:28:04.237223Z",
     "start_time": "2020-12-15T16:28:04.211202Z"
    }
   },
   "outputs": [],
   "source": [
    "## Change drivers_license to binary indicator\n",
    "elec_df['drivers_lic'] = np.where(elec_df['drivers_lic']=='Y', 1, 0)"
   ]
  },
  {
   "cell_type": "code",
   "execution_count": 17,
   "metadata": {
    "ExecuteTime": {
     "end_time": "2020-12-15T16:28:04.252085Z",
     "start_time": "2020-12-15T16:28:04.239267Z"
    }
   },
   "outputs": [],
   "source": [
    "## Recast zip_code as category\n",
    "elec_df['zip_code'] = elec_df['zip_code'].astype('category')"
   ]
  },
  {
   "cell_type": "code",
   "execution_count": 18,
   "metadata": {
    "ExecuteTime": {
     "end_time": "2020-12-15T16:28:04.312093Z",
     "start_time": "2020-12-15T16:28:04.254580Z"
    }
   },
   "outputs": [],
   "source": [
    "## Recast registr_dt as datetime variable\n",
    "elec_df['registr_dt'] = pd.to_datetime(elec_df['registr_dt'])"
   ]
  },
  {
   "cell_type": "code",
   "execution_count": 19,
   "metadata": {
    "ExecuteTime": {
     "end_time": "2020-12-15T16:28:04.399700Z",
     "start_time": "2020-12-15T16:28:04.314848Z"
    }
   },
   "outputs": [
    {
     "name": "stdout",
     "output_type": "stream",
     "text": [
      "<class 'pandas.core.frame.DataFrame'>\n",
      "RangeIndex: 168463 entries, 0 to 168462\n",
      "Data columns (total 26 columns):\n",
      " #   Column              Non-Null Count   Dtype         \n",
      "---  ------              --------------   -----         \n",
      " 0   ncid                168463 non-null  object        \n",
      " 1   no_vote_his         168463 non-null  int64         \n",
      " 2   birth_age_adj       168463 non-null  float64       \n",
      " 3   voting_method       168463 non-null  object        \n",
      " 4   Gen_2020            168463 non-null  object        \n",
      " 5   vote_early          168463 non-null  float64       \n",
      " 6   vote_by_mail        168463 non-null  float64       \n",
      " 7   vote_curbside       168463 non-null  float64       \n",
      " 8   Pri_2020            168463 non-null  object        \n",
      " 9   party_cd            168463 non-null  object        \n",
      " 10  gender_code         168463 non-null  object        \n",
      " 11  birth_year          168463 non-null  int64         \n",
      " 12  registr_dt          168463 non-null  datetime64[ns]\n",
      " 13  race_code           168463 non-null  object        \n",
      " 14  ethnic_code         168463 non-null  object        \n",
      " 15  zip_code            168460 non-null  category      \n",
      " 16  res_street_address  168463 non-null  object        \n",
      " 17  res_city_desc       168460 non-null  object        \n",
      " 18  birth_state         168463 non-null  object        \n",
      " 19  drivers_lic         168463 non-null  int64         \n",
      " 20  precinct_abbrv      168463 non-null  object        \n",
      " 21  vtd_abbrv           168463 non-null  object        \n",
      " 22  cong_dist_abbrv     168463 non-null  float64       \n",
      " 23  nc_senate_abbrv     168463 non-null  float64       \n",
      " 24  nc_house_abbrv      168463 non-null  float64       \n",
      " 25  school_dist_abbrv   168463 non-null  float64       \n",
      "dtypes: category(1), datetime64[ns](1), float64(8), int64(3), object(13)\n",
      "memory usage: 32.3+ MB\n"
     ]
    }
   ],
   "source": [
    "## Recheck elec_df metadata\n",
    "elec_df.info()"
   ]
  },
  {
   "cell_type": "markdown",
   "metadata": {},
   "source": [
    "# EXPLORE"
   ]
  },
  {
   "cell_type": "markdown",
   "metadata": {},
   "source": [
    "## Categorical Variables"
   ]
  },
  {
   "cell_type": "code",
   "execution_count": 22,
   "metadata": {
    "ExecuteTime": {
     "end_time": "2020-12-15T16:30:33.465750Z",
     "start_time": "2020-12-15T16:30:33.421259Z"
    }
   },
   "outputs": [
    {
     "data": {
      "text/html": [
       "<div>\n",
       "<style scoped>\n",
       "    .dataframe tbody tr th:only-of-type {\n",
       "        vertical-align: middle;\n",
       "    }\n",
       "\n",
       "    .dataframe tbody tr th {\n",
       "        vertical-align: top;\n",
       "    }\n",
       "\n",
       "    .dataframe thead th {\n",
       "        text-align: right;\n",
       "    }\n",
       "</style>\n",
       "<table border=\"1\" class=\"dataframe\">\n",
       "  <thead>\n",
       "    <tr style=\"text-align: right;\">\n",
       "      <th></th>\n",
       "      <th>count</th>\n",
       "      <th>%</th>\n",
       "    </tr>\n",
       "  </thead>\n",
       "  <tbody>\n",
       "    <tr>\n",
       "      <th>ABSENTEE ONESTOP</th>\n",
       "      <td>88057</td>\n",
       "      <td>0.522708</td>\n",
       "    </tr>\n",
       "    <tr>\n",
       "      <th>No Vote</th>\n",
       "      <td>37049</td>\n",
       "      <td>0.219924</td>\n",
       "    </tr>\n",
       "    <tr>\n",
       "      <th>IN-PERSON</th>\n",
       "      <td>19809</td>\n",
       "      <td>0.117587</td>\n",
       "    </tr>\n",
       "    <tr>\n",
       "      <th>ABSENTEE BY MAIL</th>\n",
       "      <td>19657</td>\n",
       "      <td>0.116684</td>\n",
       "    </tr>\n",
       "    <tr>\n",
       "      <th>ABSENTEE CURBSIDE</th>\n",
       "      <td>2953</td>\n",
       "      <td>0.017529</td>\n",
       "    </tr>\n",
       "    <tr>\n",
       "      <th>PROVISIONAL</th>\n",
       "      <td>381</td>\n",
       "      <td>0.002262</td>\n",
       "    </tr>\n",
       "    <tr>\n",
       "      <th>TRANSFER</th>\n",
       "      <td>353</td>\n",
       "      <td>0.002095</td>\n",
       "    </tr>\n",
       "    <tr>\n",
       "      <th>CURBSIDE</th>\n",
       "      <td>204</td>\n",
       "      <td>0.001211</td>\n",
       "    </tr>\n",
       "  </tbody>\n",
       "</table>\n",
       "</div>"
      ],
      "text/plain": [
       "                   count         %\n",
       "ABSENTEE ONESTOP   88057  0.522708\n",
       "No Vote            37049  0.219924\n",
       "IN-PERSON          19809  0.117587\n",
       "ABSENTEE BY MAIL   19657  0.116684\n",
       "ABSENTEE CURBSIDE   2953  0.017529\n",
       "PROVISIONAL          381  0.002262\n",
       "TRANSFER             353  0.002095\n",
       "CURBSIDE             204  0.001211"
      ]
     },
     "execution_count": 22,
     "metadata": {},
     "output_type": "execute_result"
    }
   ],
   "source": [
    "check_unique('voting_method', elec_df)"
   ]
  },
  {
   "cell_type": "code",
   "execution_count": 23,
   "metadata": {
    "ExecuteTime": {
     "end_time": "2020-12-15T16:30:45.772230Z",
     "start_time": "2020-12-15T16:30:45.730031Z"
    }
   },
   "outputs": [
    {
     "data": {
      "text/html": [
       "<div>\n",
       "<style scoped>\n",
       "    .dataframe tbody tr th:only-of-type {\n",
       "        vertical-align: middle;\n",
       "    }\n",
       "\n",
       "    .dataframe tbody tr th {\n",
       "        vertical-align: top;\n",
       "    }\n",
       "\n",
       "    .dataframe thead th {\n",
       "        text-align: right;\n",
       "    }\n",
       "</style>\n",
       "<table border=\"1\" class=\"dataframe\">\n",
       "  <thead>\n",
       "    <tr style=\"text-align: right;\">\n",
       "      <th></th>\n",
       "      <th>count</th>\n",
       "      <th>%</th>\n",
       "    </tr>\n",
       "  </thead>\n",
       "  <tbody>\n",
       "    <tr>\n",
       "      <th>Early</th>\n",
       "      <td>110667</td>\n",
       "      <td>0.656922</td>\n",
       "    </tr>\n",
       "    <tr>\n",
       "      <th>No Vote</th>\n",
       "      <td>37049</td>\n",
       "      <td>0.219924</td>\n",
       "    </tr>\n",
       "    <tr>\n",
       "      <th>Election Day</th>\n",
       "      <td>20013</td>\n",
       "      <td>0.118798</td>\n",
       "    </tr>\n",
       "    <tr>\n",
       "      <th>Other</th>\n",
       "      <td>734</td>\n",
       "      <td>0.004357</td>\n",
       "    </tr>\n",
       "  </tbody>\n",
       "</table>\n",
       "</div>"
      ],
      "text/plain": [
       "               count         %\n",
       "Early         110667  0.656922\n",
       "No Vote        37049  0.219924\n",
       "Election Day   20013  0.118798\n",
       "Other            734  0.004357"
      ]
     },
     "execution_count": 23,
     "metadata": {},
     "output_type": "execute_result"
    }
   ],
   "source": [
    "check_unique('Gen_2020', elec_df)"
   ]
  },
  {
   "cell_type": "markdown",
   "metadata": {},
   "source": [
    "> The 'Other' category is made up of only 734 individuals that voted with either a provisional or transfer ballot. Need to consider dropping this extremely rare category or somehow adding those records into one of the other categories."
   ]
  },
  {
   "cell_type": "code",
   "execution_count": 24,
   "metadata": {
    "ExecuteTime": {
     "end_time": "2020-12-15T16:35:34.569696Z",
     "start_time": "2020-12-15T16:35:34.532821Z"
    }
   },
   "outputs": [
    {
     "data": {
      "text/html": [
       "<div>\n",
       "<style scoped>\n",
       "    .dataframe tbody tr th:only-of-type {\n",
       "        vertical-align: middle;\n",
       "    }\n",
       "\n",
       "    .dataframe tbody tr th {\n",
       "        vertical-align: top;\n",
       "    }\n",
       "\n",
       "    .dataframe thead th {\n",
       "        text-align: right;\n",
       "    }\n",
       "</style>\n",
       "<table border=\"1\" class=\"dataframe\">\n",
       "  <thead>\n",
       "    <tr style=\"text-align: right;\">\n",
       "      <th></th>\n",
       "      <th>count</th>\n",
       "      <th>%</th>\n",
       "    </tr>\n",
       "  </thead>\n",
       "  <tbody>\n",
       "    <tr>\n",
       "      <th>No Vote</th>\n",
       "      <td>125191</td>\n",
       "      <td>0.743136</td>\n",
       "    </tr>\n",
       "    <tr>\n",
       "      <th>Election Day</th>\n",
       "      <td>25817</td>\n",
       "      <td>0.153250</td>\n",
       "    </tr>\n",
       "    <tr>\n",
       "      <th>Early</th>\n",
       "      <td>17138</td>\n",
       "      <td>0.101732</td>\n",
       "    </tr>\n",
       "    <tr>\n",
       "      <th>Other</th>\n",
       "      <td>317</td>\n",
       "      <td>0.001882</td>\n",
       "    </tr>\n",
       "  </tbody>\n",
       "</table>\n",
       "</div>"
      ],
      "text/plain": [
       "               count         %\n",
       "No Vote       125191  0.743136\n",
       "Election Day   25817  0.153250\n",
       "Early          17138  0.101732\n",
       "Other            317  0.001882"
      ]
     },
     "execution_count": 24,
     "metadata": {},
     "output_type": "execute_result"
    }
   ],
   "source": [
    "check_unique('Pri_2020', elec_df)"
   ]
  },
  {
   "cell_type": "markdown",
   "metadata": {},
   "source": [
    "> 'Other' category also extremely rare for `Pri_2020` as well. If this is used as a predictor, consider changing to a binary variable indicating simply whether or not the person voted in the Primary."
   ]
  },
  {
   "cell_type": "code",
   "execution_count": 25,
   "metadata": {
    "ExecuteTime": {
     "end_time": "2020-12-15T16:38:25.370456Z",
     "start_time": "2020-12-15T16:38:25.333911Z"
    }
   },
   "outputs": [
    {
     "data": {
      "text/html": [
       "<div>\n",
       "<style scoped>\n",
       "    .dataframe tbody tr th:only-of-type {\n",
       "        vertical-align: middle;\n",
       "    }\n",
       "\n",
       "    .dataframe tbody tr th {\n",
       "        vertical-align: top;\n",
       "    }\n",
       "\n",
       "    .dataframe thead th {\n",
       "        text-align: right;\n",
       "    }\n",
       "</style>\n",
       "<table border=\"1\" class=\"dataframe\">\n",
       "  <thead>\n",
       "    <tr style=\"text-align: right;\">\n",
       "      <th></th>\n",
       "      <th>count</th>\n",
       "      <th>%</th>\n",
       "    </tr>\n",
       "  </thead>\n",
       "  <tbody>\n",
       "    <tr>\n",
       "      <th>REP</th>\n",
       "      <td>69147</td>\n",
       "      <td>0.410458</td>\n",
       "    </tr>\n",
       "    <tr>\n",
       "      <th>UNA</th>\n",
       "      <td>57672</td>\n",
       "      <td>0.342342</td>\n",
       "    </tr>\n",
       "    <tr>\n",
       "      <th>DEM</th>\n",
       "      <td>40488</td>\n",
       "      <td>0.240338</td>\n",
       "    </tr>\n",
       "    <tr>\n",
       "      <th>LIB</th>\n",
       "      <td>991</td>\n",
       "      <td>0.005883</td>\n",
       "    </tr>\n",
       "    <tr>\n",
       "      <th>CST</th>\n",
       "      <td>93</td>\n",
       "      <td>0.000552</td>\n",
       "    </tr>\n",
       "    <tr>\n",
       "      <th>GRE</th>\n",
       "      <td>72</td>\n",
       "      <td>0.000427</td>\n",
       "    </tr>\n",
       "  </tbody>\n",
       "</table>\n",
       "</div>"
      ],
      "text/plain": [
       "     count         %\n",
       "REP  69147  0.410458\n",
       "UNA  57672  0.342342\n",
       "DEM  40488  0.240338\n",
       "LIB    991  0.005883\n",
       "CST     93  0.000552\n",
       "GRE     72  0.000427"
      ]
     },
     "execution_count": 25,
     "metadata": {},
     "output_type": "execute_result"
    }
   ],
   "source": [
    "check_unique('party_cd', elec_df)"
   ]
  },
  {
   "cell_type": "markdown",
   "metadata": {},
   "source": [
    "> LIB, CST, and GRE extremely rare within the county. Need to deal with this in some way, but grouping into a single 'Rare' category won't necessarily solve the issue since that would still represent barely more than 0.5% of voters in this election. It could make sense to combine these three parties with UNA (unaffiliated) to simply represent voters that do not align with one of the two major parties."
   ]
  },
  {
   "cell_type": "code",
   "execution_count": 26,
   "metadata": {
    "ExecuteTime": {
     "end_time": "2020-12-15T16:54:39.331582Z",
     "start_time": "2020-12-15T16:54:39.301374Z"
    }
   },
   "outputs": [
    {
     "data": {
      "text/html": [
       "<div>\n",
       "<style scoped>\n",
       "    .dataframe tbody tr th:only-of-type {\n",
       "        vertical-align: middle;\n",
       "    }\n",
       "\n",
       "    .dataframe tbody tr th {\n",
       "        vertical-align: top;\n",
       "    }\n",
       "\n",
       "    .dataframe thead th {\n",
       "        text-align: right;\n",
       "    }\n",
       "</style>\n",
       "<table border=\"1\" class=\"dataframe\">\n",
       "  <thead>\n",
       "    <tr style=\"text-align: right;\">\n",
       "      <th></th>\n",
       "      <th>count</th>\n",
       "      <th>%</th>\n",
       "    </tr>\n",
       "  </thead>\n",
       "  <tbody>\n",
       "    <tr>\n",
       "      <th>F</th>\n",
       "      <td>80750</td>\n",
       "      <td>0.479334</td>\n",
       "    </tr>\n",
       "    <tr>\n",
       "      <th>M</th>\n",
       "      <td>72716</td>\n",
       "      <td>0.431644</td>\n",
       "    </tr>\n",
       "    <tr>\n",
       "      <th>U</th>\n",
       "      <td>14997</td>\n",
       "      <td>0.089023</td>\n",
       "    </tr>\n",
       "  </tbody>\n",
       "</table>\n",
       "</div>"
      ],
      "text/plain": [
       "   count         %\n",
       "F  80750  0.479334\n",
       "M  72716  0.431644\n",
       "U  14997  0.089023"
      ]
     },
     "execution_count": 26,
     "metadata": {},
     "output_type": "execute_result"
    }
   ],
   "source": [
    "check_unique('gender_code', elec_df)"
   ]
  },
  {
   "cell_type": "code",
   "execution_count": 27,
   "metadata": {
    "ExecuteTime": {
     "end_time": "2020-12-15T16:54:51.315512Z",
     "start_time": "2020-12-15T16:54:51.282131Z"
    }
   },
   "outputs": [
    {
     "data": {
      "text/html": [
       "<div>\n",
       "<style scoped>\n",
       "    .dataframe tbody tr th:only-of-type {\n",
       "        vertical-align: middle;\n",
       "    }\n",
       "\n",
       "    .dataframe tbody tr th {\n",
       "        vertical-align: top;\n",
       "    }\n",
       "\n",
       "    .dataframe thead th {\n",
       "        text-align: right;\n",
       "    }\n",
       "</style>\n",
       "<table border=\"1\" class=\"dataframe\">\n",
       "  <thead>\n",
       "    <tr style=\"text-align: right;\">\n",
       "      <th></th>\n",
       "      <th>count</th>\n",
       "      <th>%</th>\n",
       "    </tr>\n",
       "  </thead>\n",
       "  <tbody>\n",
       "    <tr>\n",
       "      <th>W</th>\n",
       "      <td>120058</td>\n",
       "      <td>0.712667</td>\n",
       "    </tr>\n",
       "    <tr>\n",
       "      <th>B</th>\n",
       "      <td>19246</td>\n",
       "      <td>0.114245</td>\n",
       "    </tr>\n",
       "    <tr>\n",
       "      <th>U</th>\n",
       "      <td>18744</td>\n",
       "      <td>0.111265</td>\n",
       "    </tr>\n",
       "    <tr>\n",
       "      <th>O</th>\n",
       "      <td>6136</td>\n",
       "      <td>0.036423</td>\n",
       "    </tr>\n",
       "    <tr>\n",
       "      <th>A</th>\n",
       "      <td>2940</td>\n",
       "      <td>0.017452</td>\n",
       "    </tr>\n",
       "    <tr>\n",
       "      <th>M</th>\n",
       "      <td>908</td>\n",
       "      <td>0.005390</td>\n",
       "    </tr>\n",
       "    <tr>\n",
       "      <th>I</th>\n",
       "      <td>425</td>\n",
       "      <td>0.002523</td>\n",
       "    </tr>\n",
       "    <tr>\n",
       "      <th>P</th>\n",
       "      <td>6</td>\n",
       "      <td>0.000036</td>\n",
       "    </tr>\n",
       "  </tbody>\n",
       "</table>\n",
       "</div>"
      ],
      "text/plain": [
       "    count         %\n",
       "W  120058  0.712667\n",
       "B   19246  0.114245\n",
       "U   18744  0.111265\n",
       "O    6136  0.036423\n",
       "A    2940  0.017452\n",
       "M     908  0.005390\n",
       "I     425  0.002523\n",
       "P       6  0.000036"
      ]
     },
     "execution_count": 27,
     "metadata": {},
     "output_type": "execute_result"
    }
   ],
   "source": [
    "check_unique('race_code', elec_df)"
   ]
  },
  {
   "cell_type": "markdown",
   "metadata": {},
   "source": [
    "> The most infrequent categories (Other, Asian, Multiple, Native American, Pacific Islander/Native Hawaiian) each represent less than 5% of voters. To deal with these rare labels, it is probably best from a modeling standpoint to group them all under 'Other'."
   ]
  },
  {
   "cell_type": "code",
   "execution_count": 28,
   "metadata": {
    "ExecuteTime": {
     "end_time": "2020-12-15T16:55:12.836599Z",
     "start_time": "2020-12-15T16:55:12.802311Z"
    }
   },
   "outputs": [
    {
     "data": {
      "text/html": [
       "<div>\n",
       "<style scoped>\n",
       "    .dataframe tbody tr th:only-of-type {\n",
       "        vertical-align: middle;\n",
       "    }\n",
       "\n",
       "    .dataframe tbody tr th {\n",
       "        vertical-align: top;\n",
       "    }\n",
       "\n",
       "    .dataframe thead th {\n",
       "        text-align: right;\n",
       "    }\n",
       "</style>\n",
       "<table border=\"1\" class=\"dataframe\">\n",
       "  <thead>\n",
       "    <tr style=\"text-align: right;\">\n",
       "      <th></th>\n",
       "      <th>count</th>\n",
       "      <th>%</th>\n",
       "    </tr>\n",
       "  </thead>\n",
       "  <tbody>\n",
       "    <tr>\n",
       "      <th>NL</th>\n",
       "      <td>124346</td>\n",
       "      <td>0.738121</td>\n",
       "    </tr>\n",
       "    <tr>\n",
       "      <th>UN</th>\n",
       "      <td>37188</td>\n",
       "      <td>0.220749</td>\n",
       "    </tr>\n",
       "    <tr>\n",
       "      <th>HL</th>\n",
       "      <td>6929</td>\n",
       "      <td>0.041131</td>\n",
       "    </tr>\n",
       "  </tbody>\n",
       "</table>\n",
       "</div>"
      ],
      "text/plain": [
       "     count         %\n",
       "NL  124346  0.738121\n",
       "UN   37188  0.220749\n",
       "HL    6929  0.041131"
      ]
     },
     "execution_count": 28,
     "metadata": {},
     "output_type": "execute_result"
    }
   ],
   "source": [
    "check_unique('ethnic_code', elec_df)"
   ]
  },
  {
   "cell_type": "markdown",
   "metadata": {},
   "source": [
    "> Voters that chose to identify themselves as Hispanic or Latino represent less than 5% of voters. Check below to see how disclosed racial and ethnic identities intersect."
   ]
  },
  {
   "cell_type": "code",
   "execution_count": 32,
   "metadata": {
    "ExecuteTime": {
     "end_time": "2020-12-15T17:17:13.524932Z",
     "start_time": "2020-12-15T17:17:13.422674Z"
    }
   },
   "outputs": [
    {
     "name": "stdout",
     "output_type": "stream",
     "text": [
      "*****NL*****\n"
     ]
    },
    {
     "data": {
      "text/html": [
       "<div>\n",
       "<style scoped>\n",
       "    .dataframe tbody tr th:only-of-type {\n",
       "        vertical-align: middle;\n",
       "    }\n",
       "\n",
       "    .dataframe tbody tr th {\n",
       "        vertical-align: top;\n",
       "    }\n",
       "\n",
       "    .dataframe thead th {\n",
       "        text-align: right;\n",
       "    }\n",
       "</style>\n",
       "<table border=\"1\" class=\"dataframe\">\n",
       "  <thead>\n",
       "    <tr style=\"text-align: right;\">\n",
       "      <th></th>\n",
       "      <th>race_code</th>\n",
       "    </tr>\n",
       "  </thead>\n",
       "  <tbody>\n",
       "    <tr>\n",
       "      <th>W</th>\n",
       "      <td>103610</td>\n",
       "    </tr>\n",
       "    <tr>\n",
       "      <th>B</th>\n",
       "      <td>15209</td>\n",
       "    </tr>\n",
       "    <tr>\n",
       "      <th>O</th>\n",
       "      <td>2314</td>\n",
       "    </tr>\n",
       "    <tr>\n",
       "      <th>A</th>\n",
       "      <td>2119</td>\n",
       "    </tr>\n",
       "    <tr>\n",
       "      <th>U</th>\n",
       "      <td>385</td>\n",
       "    </tr>\n",
       "    <tr>\n",
       "      <th>M</th>\n",
       "      <td>381</td>\n",
       "    </tr>\n",
       "    <tr>\n",
       "      <th>I</th>\n",
       "      <td>327</td>\n",
       "    </tr>\n",
       "    <tr>\n",
       "      <th>P</th>\n",
       "      <td>1</td>\n",
       "    </tr>\n",
       "  </tbody>\n",
       "</table>\n",
       "</div>"
      ],
      "text/plain": [
       "   race_code\n",
       "W     103610\n",
       "B      15209\n",
       "O       2314\n",
       "A       2119\n",
       "U        385\n",
       "M        381\n",
       "I        327\n",
       "P          1"
      ]
     },
     "metadata": {},
     "output_type": "display_data"
    },
    {
     "name": "stdout",
     "output_type": "stream",
     "text": [
      "\n",
      "*****UN*****\n"
     ]
    },
    {
     "data": {
      "text/html": [
       "<div>\n",
       "<style scoped>\n",
       "    .dataframe tbody tr th:only-of-type {\n",
       "        vertical-align: middle;\n",
       "    }\n",
       "\n",
       "    .dataframe tbody tr th {\n",
       "        vertical-align: top;\n",
       "    }\n",
       "\n",
       "    .dataframe thead th {\n",
       "        text-align: right;\n",
       "    }\n",
       "</style>\n",
       "<table border=\"1\" class=\"dataframe\">\n",
       "  <thead>\n",
       "    <tr style=\"text-align: right;\">\n",
       "      <th></th>\n",
       "      <th>race_code</th>\n",
       "    </tr>\n",
       "  </thead>\n",
       "  <tbody>\n",
       "    <tr>\n",
       "      <th>U</th>\n",
       "      <td>16681</td>\n",
       "    </tr>\n",
       "    <tr>\n",
       "      <th>W</th>\n",
       "      <td>14956</td>\n",
       "    </tr>\n",
       "    <tr>\n",
       "      <th>B</th>\n",
       "      <td>3950</td>\n",
       "    </tr>\n",
       "    <tr>\n",
       "      <th>A</th>\n",
       "      <td>811</td>\n",
       "    </tr>\n",
       "    <tr>\n",
       "      <th>O</th>\n",
       "      <td>471</td>\n",
       "    </tr>\n",
       "    <tr>\n",
       "      <th>M</th>\n",
       "      <td>229</td>\n",
       "    </tr>\n",
       "    <tr>\n",
       "      <th>I</th>\n",
       "      <td>87</td>\n",
       "    </tr>\n",
       "    <tr>\n",
       "      <th>P</th>\n",
       "      <td>3</td>\n",
       "    </tr>\n",
       "  </tbody>\n",
       "</table>\n",
       "</div>"
      ],
      "text/plain": [
       "   race_code\n",
       "U      16681\n",
       "W      14956\n",
       "B       3950\n",
       "A        811\n",
       "O        471\n",
       "M        229\n",
       "I         87\n",
       "P          3"
      ]
     },
     "metadata": {},
     "output_type": "display_data"
    },
    {
     "name": "stdout",
     "output_type": "stream",
     "text": [
      "\n",
      "*****HL*****\n"
     ]
    },
    {
     "data": {
      "text/html": [
       "<div>\n",
       "<style scoped>\n",
       "    .dataframe tbody tr th:only-of-type {\n",
       "        vertical-align: middle;\n",
       "    }\n",
       "\n",
       "    .dataframe tbody tr th {\n",
       "        vertical-align: top;\n",
       "    }\n",
       "\n",
       "    .dataframe thead th {\n",
       "        text-align: right;\n",
       "    }\n",
       "</style>\n",
       "<table border=\"1\" class=\"dataframe\">\n",
       "  <thead>\n",
       "    <tr style=\"text-align: right;\">\n",
       "      <th></th>\n",
       "      <th>race_code</th>\n",
       "    </tr>\n",
       "  </thead>\n",
       "  <tbody>\n",
       "    <tr>\n",
       "      <th>O</th>\n",
       "      <td>3351</td>\n",
       "    </tr>\n",
       "    <tr>\n",
       "      <th>U</th>\n",
       "      <td>1678</td>\n",
       "    </tr>\n",
       "    <tr>\n",
       "      <th>W</th>\n",
       "      <td>1492</td>\n",
       "    </tr>\n",
       "    <tr>\n",
       "      <th>M</th>\n",
       "      <td>298</td>\n",
       "    </tr>\n",
       "    <tr>\n",
       "      <th>B</th>\n",
       "      <td>87</td>\n",
       "    </tr>\n",
       "    <tr>\n",
       "      <th>I</th>\n",
       "      <td>11</td>\n",
       "    </tr>\n",
       "    <tr>\n",
       "      <th>A</th>\n",
       "      <td>10</td>\n",
       "    </tr>\n",
       "    <tr>\n",
       "      <th>P</th>\n",
       "      <td>2</td>\n",
       "    </tr>\n",
       "  </tbody>\n",
       "</table>\n",
       "</div>"
      ],
      "text/plain": [
       "   race_code\n",
       "O       3351\n",
       "U       1678\n",
       "W       1492\n",
       "M        298\n",
       "B         87\n",
       "I         11\n",
       "A         10\n",
       "P          2"
      ]
     },
     "metadata": {},
     "output_type": "display_data"
    },
    {
     "name": "stdout",
     "output_type": "stream",
     "text": [
      "\n"
     ]
    }
   ],
   "source": [
    "## Investigate how race intersects with ethnic code\n",
    "for code in elec_df['ethnic_code'].unique():\n",
    "    print('*****{}*****'.format(code))\n",
    "    display(elec_df.loc[elec_df['ethnic_code']==code]['race_code'].value_counts().to_frame())\n",
    "    print()"
   ]
  },
  {
   "cell_type": "markdown",
   "metadata": {},
   "source": [
    "> Patterns of intersection between race and ethnicity are somewhat unclear. The majority of voters that chose not to disclose their race also chose not to disclose their ethnicity (16,681 out of 18,744). The majority of voters that identified themselves as Hispanic or Latino when registering listed their race as 'Other'(3,351 out of 6,929), with the next most frequent category being 'Undesignated' (1,678 out of 6,929), then 'White' (1,492 out of 6,929). As such, I am uncertain how useful this feature will be as a predictor, especially given that the 'HL' category is so rare."
   ]
  },
  {
   "cell_type": "code",
   "execution_count": 39,
   "metadata": {
    "ExecuteTime": {
     "end_time": "2020-12-15T17:44:26.970414Z",
     "start_time": "2020-12-15T17:44:26.946031Z"
    }
   },
   "outputs": [
    {
     "data": {
      "text/html": [
       "<div>\n",
       "<style scoped>\n",
       "    .dataframe tbody tr th:only-of-type {\n",
       "        vertical-align: middle;\n",
       "    }\n",
       "\n",
       "    .dataframe tbody tr th {\n",
       "        vertical-align: top;\n",
       "    }\n",
       "\n",
       "    .dataframe thead th {\n",
       "        text-align: right;\n",
       "    }\n",
       "</style>\n",
       "<table border=\"1\" class=\"dataframe\">\n",
       "  <thead>\n",
       "    <tr style=\"text-align: right;\">\n",
       "      <th></th>\n",
       "      <th>count</th>\n",
       "      <th>%</th>\n",
       "    </tr>\n",
       "  </thead>\n",
       "  <tbody>\n",
       "    <tr>\n",
       "      <th>28173.0</th>\n",
       "      <td>47693</td>\n",
       "      <td>0.283107</td>\n",
       "    </tr>\n",
       "    <tr>\n",
       "      <th>28110.0</th>\n",
       "      <td>34808</td>\n",
       "      <td>0.206621</td>\n",
       "    </tr>\n",
       "    <tr>\n",
       "      <th>28079.0</th>\n",
       "      <td>28267</td>\n",
       "      <td>0.167794</td>\n",
       "    </tr>\n",
       "    <tr>\n",
       "      <th>28104.0</th>\n",
       "      <td>25648</td>\n",
       "      <td>0.152247</td>\n",
       "    </tr>\n",
       "    <tr>\n",
       "      <th>28112.0</th>\n",
       "      <td>18073</td>\n",
       "      <td>0.107282</td>\n",
       "    </tr>\n",
       "    <tr>\n",
       "      <th>28103.0</th>\n",
       "      <td>7306</td>\n",
       "      <td>0.043369</td>\n",
       "    </tr>\n",
       "    <tr>\n",
       "      <th>28174.0</th>\n",
       "      <td>5787</td>\n",
       "      <td>0.034352</td>\n",
       "    </tr>\n",
       "    <tr>\n",
       "      <th>28227.0</th>\n",
       "      <td>397</td>\n",
       "      <td>0.002357</td>\n",
       "    </tr>\n",
       "    <tr>\n",
       "      <th>28105.0</th>\n",
       "      <td>236</td>\n",
       "      <td>0.001401</td>\n",
       "    </tr>\n",
       "    <tr>\n",
       "      <th>28133.0</th>\n",
       "      <td>155</td>\n",
       "      <td>0.000920</td>\n",
       "    </tr>\n",
       "    <tr>\n",
       "      <th>28107.0</th>\n",
       "      <td>88</td>\n",
       "      <td>0.000522</td>\n",
       "    </tr>\n",
       "    <tr>\n",
       "      <th>NaN</th>\n",
       "      <td>3</td>\n",
       "      <td>0.000018</td>\n",
       "    </tr>\n",
       "    <tr>\n",
       "      <th>28135.0</th>\n",
       "      <td>2</td>\n",
       "      <td>0.000012</td>\n",
       "    </tr>\n",
       "  </tbody>\n",
       "</table>\n",
       "</div>"
      ],
      "text/plain": [
       "         count         %\n",
       "28173.0  47693  0.283107\n",
       "28110.0  34808  0.206621\n",
       "28079.0  28267  0.167794\n",
       "28104.0  25648  0.152247\n",
       "28112.0  18073  0.107282\n",
       "28103.0   7306  0.043369\n",
       "28174.0   5787  0.034352\n",
       "28227.0    397  0.002357\n",
       "28105.0    236  0.001401\n",
       "28133.0    155  0.000920\n",
       "28107.0     88  0.000522\n",
       "NaN          3  0.000018\n",
       "28135.0      2  0.000012"
      ]
     },
     "execution_count": 39,
     "metadata": {},
     "output_type": "execute_result"
    }
   ],
   "source": [
    "check_unique('zip_code', elec_df)"
   ]
  },
  {
   "cell_type": "markdown",
   "metadata": {},
   "source": [
    "> Seven of the 12 zip codes are rare labels (each representing less than 5% of the voters). It may be best to use grouped cities as a predictor (see immediately below) rather than zip codes, especially since the two will be highly correlated."
   ]
  },
  {
   "cell_type": "code",
   "execution_count": 33,
   "metadata": {
    "ExecuteTime": {
     "end_time": "2020-12-15T17:32:04.382317Z",
     "start_time": "2020-12-15T17:32:04.345029Z"
    },
    "scrolled": true
   },
   "outputs": [
    {
     "data": {
      "text/html": [
       "<div>\n",
       "<style scoped>\n",
       "    .dataframe tbody tr th:only-of-type {\n",
       "        vertical-align: middle;\n",
       "    }\n",
       "\n",
       "    .dataframe tbody tr th {\n",
       "        vertical-align: top;\n",
       "    }\n",
       "\n",
       "    .dataframe thead th {\n",
       "        text-align: right;\n",
       "    }\n",
       "</style>\n",
       "<table border=\"1\" class=\"dataframe\">\n",
       "  <thead>\n",
       "    <tr style=\"text-align: right;\">\n",
       "      <th></th>\n",
       "      <th>count</th>\n",
       "      <th>%</th>\n",
       "    </tr>\n",
       "  </thead>\n",
       "  <tbody>\n",
       "    <tr>\n",
       "      <th>MONROE</th>\n",
       "      <td>52881</td>\n",
       "      <td>0.313903</td>\n",
       "    </tr>\n",
       "    <tr>\n",
       "      <th>WAXHAW</th>\n",
       "      <td>47693</td>\n",
       "      <td>0.283107</td>\n",
       "    </tr>\n",
       "    <tr>\n",
       "      <th>INDIAN TRAIL</th>\n",
       "      <td>28267</td>\n",
       "      <td>0.167794</td>\n",
       "    </tr>\n",
       "    <tr>\n",
       "      <th>MATTHEWS</th>\n",
       "      <td>25884</td>\n",
       "      <td>0.153648</td>\n",
       "    </tr>\n",
       "    <tr>\n",
       "      <th>MARSHVILLE</th>\n",
       "      <td>7306</td>\n",
       "      <td>0.043369</td>\n",
       "    </tr>\n",
       "    <tr>\n",
       "      <th>WINGATE</th>\n",
       "      <td>5787</td>\n",
       "      <td>0.034352</td>\n",
       "    </tr>\n",
       "    <tr>\n",
       "      <th>CHARLOTTE</th>\n",
       "      <td>397</td>\n",
       "      <td>0.002357</td>\n",
       "    </tr>\n",
       "    <tr>\n",
       "      <th>PEACHLAND</th>\n",
       "      <td>155</td>\n",
       "      <td>0.000920</td>\n",
       "    </tr>\n",
       "    <tr>\n",
       "      <th>MIDLAND</th>\n",
       "      <td>88</td>\n",
       "      <td>0.000522</td>\n",
       "    </tr>\n",
       "    <tr>\n",
       "      <th>NaN</th>\n",
       "      <td>3</td>\n",
       "      <td>0.000018</td>\n",
       "    </tr>\n",
       "    <tr>\n",
       "      <th>POLKTON</th>\n",
       "      <td>2</td>\n",
       "      <td>0.000012</td>\n",
       "    </tr>\n",
       "  </tbody>\n",
       "</table>\n",
       "</div>"
      ],
      "text/plain": [
       "              count         %\n",
       "MONROE        52881  0.313903\n",
       "WAXHAW        47693  0.283107\n",
       "INDIAN TRAIL  28267  0.167794\n",
       "MATTHEWS      25884  0.153648\n",
       "MARSHVILLE     7306  0.043369\n",
       "WINGATE        5787  0.034352\n",
       "CHARLOTTE       397  0.002357\n",
       "PEACHLAND       155  0.000920\n",
       "MIDLAND          88  0.000522\n",
       "NaN               3  0.000018\n",
       "POLKTON           2  0.000012"
      ]
     },
     "execution_count": 33,
     "metadata": {},
     "output_type": "execute_result"
    }
   ],
   "source": [
    "check_unique('res_city_desc', elec_df)"
   ]
  },
  {
   "cell_type": "markdown",
   "metadata": {},
   "source": [
    "> There are several rare labels, so if `res_city_desc` is to be used as a predictor, cities besides Monroe, Waxhaw, Indian Trail, and Matthews should probably be combined into an 'Other' category."
   ]
  },
  {
   "cell_type": "code",
   "execution_count": 34,
   "metadata": {
    "ExecuteTime": {
     "end_time": "2020-12-15T17:34:49.370758Z",
     "start_time": "2020-12-15T17:34:49.330138Z"
    }
   },
   "outputs": [
    {
     "data": {
      "text/html": [
       "<div>\n",
       "<style scoped>\n",
       "    .dataframe tbody tr th:only-of-type {\n",
       "        vertical-align: middle;\n",
       "    }\n",
       "\n",
       "    .dataframe tbody tr th {\n",
       "        vertical-align: top;\n",
       "    }\n",
       "\n",
       "    .dataframe thead th {\n",
       "        text-align: right;\n",
       "    }\n",
       "</style>\n",
       "<table border=\"1\" class=\"dataframe\">\n",
       "  <thead>\n",
       "    <tr style=\"text-align: right;\">\n",
       "      <th></th>\n",
       "      <th>count</th>\n",
       "      <th>%</th>\n",
       "    </tr>\n",
       "  </thead>\n",
       "  <tbody>\n",
       "    <tr>\n",
       "      <th>NC</th>\n",
       "      <td>46506</td>\n",
       "      <td>0.276061</td>\n",
       "    </tr>\n",
       "    <tr>\n",
       "      <th>Missing</th>\n",
       "      <td>40841</td>\n",
       "      <td>0.242433</td>\n",
       "    </tr>\n",
       "    <tr>\n",
       "      <th>NY</th>\n",
       "      <td>13239</td>\n",
       "      <td>0.078587</td>\n",
       "    </tr>\n",
       "    <tr>\n",
       "      <th>OC</th>\n",
       "      <td>10038</td>\n",
       "      <td>0.059586</td>\n",
       "    </tr>\n",
       "    <tr>\n",
       "      <th>SC</th>\n",
       "      <td>4762</td>\n",
       "      <td>0.028267</td>\n",
       "    </tr>\n",
       "    <tr>\n",
       "      <th>NJ</th>\n",
       "      <td>4510</td>\n",
       "      <td>0.026771</td>\n",
       "    </tr>\n",
       "    <tr>\n",
       "      <th>OH</th>\n",
       "      <td>4347</td>\n",
       "      <td>0.025804</td>\n",
       "    </tr>\n",
       "    <tr>\n",
       "      <th>PA</th>\n",
       "      <td>4347</td>\n",
       "      <td>0.025804</td>\n",
       "    </tr>\n",
       "    <tr>\n",
       "      <th>FL</th>\n",
       "      <td>3794</td>\n",
       "      <td>0.022521</td>\n",
       "    </tr>\n",
       "    <tr>\n",
       "      <th>CA</th>\n",
       "      <td>3355</td>\n",
       "      <td>0.019915</td>\n",
       "    </tr>\n",
       "    <tr>\n",
       "      <th>VA</th>\n",
       "      <td>3053</td>\n",
       "      <td>0.018123</td>\n",
       "    </tr>\n",
       "    <tr>\n",
       "      <th>MI</th>\n",
       "      <td>2440</td>\n",
       "      <td>0.014484</td>\n",
       "    </tr>\n",
       "    <tr>\n",
       "      <th>IL</th>\n",
       "      <td>2427</td>\n",
       "      <td>0.014407</td>\n",
       "    </tr>\n",
       "    <tr>\n",
       "      <th>GA</th>\n",
       "      <td>2343</td>\n",
       "      <td>0.013908</td>\n",
       "    </tr>\n",
       "    <tr>\n",
       "      <th>TX</th>\n",
       "      <td>1846</td>\n",
       "      <td>0.010958</td>\n",
       "    </tr>\n",
       "    <tr>\n",
       "      <th>MA</th>\n",
       "      <td>1793</td>\n",
       "      <td>0.010643</td>\n",
       "    </tr>\n",
       "    <tr>\n",
       "      <th>WV</th>\n",
       "      <td>1639</td>\n",
       "      <td>0.009729</td>\n",
       "    </tr>\n",
       "    <tr>\n",
       "      <th>MD</th>\n",
       "      <td>1622</td>\n",
       "      <td>0.009628</td>\n",
       "    </tr>\n",
       "    <tr>\n",
       "      <th>CT</th>\n",
       "      <td>1443</td>\n",
       "      <td>0.008566</td>\n",
       "    </tr>\n",
       "    <tr>\n",
       "      <th>IN</th>\n",
       "      <td>1288</td>\n",
       "      <td>0.007646</td>\n",
       "    </tr>\n",
       "    <tr>\n",
       "      <th>TN</th>\n",
       "      <td>1236</td>\n",
       "      <td>0.007337</td>\n",
       "    </tr>\n",
       "    <tr>\n",
       "      <th>AL</th>\n",
       "      <td>837</td>\n",
       "      <td>0.004968</td>\n",
       "    </tr>\n",
       "    <tr>\n",
       "      <th>KY</th>\n",
       "      <td>833</td>\n",
       "      <td>0.004945</td>\n",
       "    </tr>\n",
       "    <tr>\n",
       "      <th>WI</th>\n",
       "      <td>747</td>\n",
       "      <td>0.004434</td>\n",
       "    </tr>\n",
       "    <tr>\n",
       "      <th>MO</th>\n",
       "      <td>742</td>\n",
       "      <td>0.004405</td>\n",
       "    </tr>\n",
       "    <tr>\n",
       "      <th>LA</th>\n",
       "      <td>640</td>\n",
       "      <td>0.003799</td>\n",
       "    </tr>\n",
       "    <tr>\n",
       "      <th>DC</th>\n",
       "      <td>615</td>\n",
       "      <td>0.003651</td>\n",
       "    </tr>\n",
       "    <tr>\n",
       "      <th>MN</th>\n",
       "      <td>525</td>\n",
       "      <td>0.003116</td>\n",
       "    </tr>\n",
       "    <tr>\n",
       "      <th>CO</th>\n",
       "      <td>484</td>\n",
       "      <td>0.002873</td>\n",
       "    </tr>\n",
       "    <tr>\n",
       "      <th>PR</th>\n",
       "      <td>471</td>\n",
       "      <td>0.002796</td>\n",
       "    </tr>\n",
       "    <tr>\n",
       "      <th>IA</th>\n",
       "      <td>469</td>\n",
       "      <td>0.002784</td>\n",
       "    </tr>\n",
       "    <tr>\n",
       "      <th>WA</th>\n",
       "      <td>453</td>\n",
       "      <td>0.002689</td>\n",
       "    </tr>\n",
       "    <tr>\n",
       "      <th>MS</th>\n",
       "      <td>426</td>\n",
       "      <td>0.002529</td>\n",
       "    </tr>\n",
       "    <tr>\n",
       "      <th>AZ</th>\n",
       "      <td>422</td>\n",
       "      <td>0.002505</td>\n",
       "    </tr>\n",
       "    <tr>\n",
       "      <th>OK</th>\n",
       "      <td>357</td>\n",
       "      <td>0.002119</td>\n",
       "    </tr>\n",
       "    <tr>\n",
       "      <th>KS</th>\n",
       "      <td>352</td>\n",
       "      <td>0.002089</td>\n",
       "    </tr>\n",
       "    <tr>\n",
       "      <th>RI</th>\n",
       "      <td>316</td>\n",
       "      <td>0.001876</td>\n",
       "    </tr>\n",
       "    <tr>\n",
       "      <th>AR</th>\n",
       "      <td>270</td>\n",
       "      <td>0.001603</td>\n",
       "    </tr>\n",
       "    <tr>\n",
       "      <th>NH</th>\n",
       "      <td>260</td>\n",
       "      <td>0.001543</td>\n",
       "    </tr>\n",
       "    <tr>\n",
       "      <th>NE</th>\n",
       "      <td>251</td>\n",
       "      <td>0.001490</td>\n",
       "    </tr>\n",
       "    <tr>\n",
       "      <th>ME</th>\n",
       "      <td>247</td>\n",
       "      <td>0.001466</td>\n",
       "    </tr>\n",
       "    <tr>\n",
       "      <th>DE</th>\n",
       "      <td>236</td>\n",
       "      <td>0.001401</td>\n",
       "    </tr>\n",
       "    <tr>\n",
       "      <th>UT</th>\n",
       "      <td>217</td>\n",
       "      <td>0.001288</td>\n",
       "    </tr>\n",
       "    <tr>\n",
       "      <th>OR</th>\n",
       "      <td>215</td>\n",
       "      <td>0.001276</td>\n",
       "    </tr>\n",
       "    <tr>\n",
       "      <th>VT</th>\n",
       "      <td>208</td>\n",
       "      <td>0.001235</td>\n",
       "    </tr>\n",
       "    <tr>\n",
       "      <th>NM</th>\n",
       "      <td>150</td>\n",
       "      <td>0.000890</td>\n",
       "    </tr>\n",
       "    <tr>\n",
       "      <th>HI</th>\n",
       "      <td>149</td>\n",
       "      <td>0.000884</td>\n",
       "    </tr>\n",
       "    <tr>\n",
       "      <th>NV</th>\n",
       "      <td>125</td>\n",
       "      <td>0.000742</td>\n",
       "    </tr>\n",
       "    <tr>\n",
       "      <th>ID</th>\n",
       "      <td>113</td>\n",
       "      <td>0.000671</td>\n",
       "    </tr>\n",
       "    <tr>\n",
       "      <th>AK</th>\n",
       "      <td>106</td>\n",
       "      <td>0.000629</td>\n",
       "    </tr>\n",
       "    <tr>\n",
       "      <th>ND</th>\n",
       "      <td>102</td>\n",
       "      <td>0.000605</td>\n",
       "    </tr>\n",
       "    <tr>\n",
       "      <th>SD</th>\n",
       "      <td>97</td>\n",
       "      <td>0.000576</td>\n",
       "    </tr>\n",
       "    <tr>\n",
       "      <th>MT</th>\n",
       "      <td>95</td>\n",
       "      <td>0.000564</td>\n",
       "    </tr>\n",
       "    <tr>\n",
       "      <th>WY</th>\n",
       "      <td>40</td>\n",
       "      <td>0.000237</td>\n",
       "    </tr>\n",
       "    <tr>\n",
       "      <th>VI</th>\n",
       "      <td>15</td>\n",
       "      <td>0.000089</td>\n",
       "    </tr>\n",
       "    <tr>\n",
       "      <th>GU</th>\n",
       "      <td>8</td>\n",
       "      <td>0.000047</td>\n",
       "    </tr>\n",
       "    <tr>\n",
       "      <th>NO</th>\n",
       "      <td>1</td>\n",
       "      <td>0.000006</td>\n",
       "    </tr>\n",
       "  </tbody>\n",
       "</table>\n",
       "</div>"
      ],
      "text/plain": [
       "         count         %\n",
       "NC       46506  0.276061\n",
       "Missing  40841  0.242433\n",
       "NY       13239  0.078587\n",
       "OC       10038  0.059586\n",
       "SC        4762  0.028267\n",
       "NJ        4510  0.026771\n",
       "OH        4347  0.025804\n",
       "PA        4347  0.025804\n",
       "FL        3794  0.022521\n",
       "CA        3355  0.019915\n",
       "VA        3053  0.018123\n",
       "MI        2440  0.014484\n",
       "IL        2427  0.014407\n",
       "GA        2343  0.013908\n",
       "TX        1846  0.010958\n",
       "MA        1793  0.010643\n",
       "WV        1639  0.009729\n",
       "MD        1622  0.009628\n",
       "CT        1443  0.008566\n",
       "IN        1288  0.007646\n",
       "TN        1236  0.007337\n",
       "AL         837  0.004968\n",
       "KY         833  0.004945\n",
       "WI         747  0.004434\n",
       "MO         742  0.004405\n",
       "LA         640  0.003799\n",
       "DC         615  0.003651\n",
       "MN         525  0.003116\n",
       "CO         484  0.002873\n",
       "PR         471  0.002796\n",
       "IA         469  0.002784\n",
       "WA         453  0.002689\n",
       "MS         426  0.002529\n",
       "AZ         422  0.002505\n",
       "OK         357  0.002119\n",
       "KS         352  0.002089\n",
       "RI         316  0.001876\n",
       "AR         270  0.001603\n",
       "NH         260  0.001543\n",
       "NE         251  0.001490\n",
       "ME         247  0.001466\n",
       "DE         236  0.001401\n",
       "UT         217  0.001288\n",
       "OR         215  0.001276\n",
       "VT         208  0.001235\n",
       "NM         150  0.000890\n",
       "HI         149  0.000884\n",
       "NV         125  0.000742\n",
       "ID         113  0.000671\n",
       "AK         106  0.000629\n",
       "ND         102  0.000605\n",
       "SD          97  0.000576\n",
       "MT          95  0.000564\n",
       "WY          40  0.000237\n",
       "VI          15  0.000089\n",
       "GU           8  0.000047\n",
       "NO           1  0.000006"
      ]
     },
     "execution_count": 34,
     "metadata": {},
     "output_type": "execute_result"
    }
   ],
   "source": [
    "check_unique('birth_state', elec_df)"
   ]
  },
  {
   "cell_type": "markdown",
   "metadata": {},
   "source": [
    "> The majority of `birth_state` labels are rare categories (less than 5% of voters). Some of the codes are clearly not U.S. states. These rare labels could be dealt with in a couple ways. They could all be grouped into an 'Other' category, or they could be grouped according to geographic region of the U.S. with an additional category for naturalized U.S. citizens."
   ]
  },
  {
   "cell_type": "code",
   "execution_count": 38,
   "metadata": {
    "ExecuteTime": {
     "end_time": "2020-12-15T17:43:46.803698Z",
     "start_time": "2020-12-15T17:43:46.760204Z"
    }
   },
   "outputs": [
    {
     "data": {
      "text/html": [
       "<div>\n",
       "<style scoped>\n",
       "    .dataframe tbody tr th:only-of-type {\n",
       "        vertical-align: middle;\n",
       "    }\n",
       "\n",
       "    .dataframe tbody tr th {\n",
       "        vertical-align: top;\n",
       "    }\n",
       "\n",
       "    .dataframe thead th {\n",
       "        text-align: right;\n",
       "    }\n",
       "</style>\n",
       "<table border=\"1\" class=\"dataframe\">\n",
       "  <thead>\n",
       "    <tr style=\"text-align: right;\">\n",
       "      <th></th>\n",
       "      <th>count</th>\n",
       "      <th>%</th>\n",
       "    </tr>\n",
       "  </thead>\n",
       "  <tbody>\n",
       "    <tr>\n",
       "      <th>019</th>\n",
       "      <td>6616</td>\n",
       "      <td>0.039273</td>\n",
       "    </tr>\n",
       "    <tr>\n",
       "      <th>020A</th>\n",
       "      <td>6138</td>\n",
       "      <td>0.036435</td>\n",
       "    </tr>\n",
       "    <tr>\n",
       "      <th>037A</th>\n",
       "      <td>5906</td>\n",
       "      <td>0.035058</td>\n",
       "    </tr>\n",
       "    <tr>\n",
       "      <th>028A</th>\n",
       "      <td>5850</td>\n",
       "      <td>0.034726</td>\n",
       "    </tr>\n",
       "    <tr>\n",
       "      <th>016</th>\n",
       "      <td>5688</td>\n",
       "      <td>0.033764</td>\n",
       "    </tr>\n",
       "    <tr>\n",
       "      <th>028D</th>\n",
       "      <td>5316</td>\n",
       "      <td>0.031556</td>\n",
       "    </tr>\n",
       "    <tr>\n",
       "      <th>029A</th>\n",
       "      <td>5289</td>\n",
       "      <td>0.031396</td>\n",
       "    </tr>\n",
       "    <tr>\n",
       "      <th>017B</th>\n",
       "      <td>5103</td>\n",
       "      <td>0.030292</td>\n",
       "    </tr>\n",
       "    <tr>\n",
       "      <th>020B</th>\n",
       "      <td>5101</td>\n",
       "      <td>0.030280</td>\n",
       "    </tr>\n",
       "    <tr>\n",
       "      <th>030</th>\n",
       "      <td>5065</td>\n",
       "      <td>0.030066</td>\n",
       "    </tr>\n",
       "    <tr>\n",
       "      <th>015</th>\n",
       "      <td>4823</td>\n",
       "      <td>0.028629</td>\n",
       "    </tr>\n",
       "    <tr>\n",
       "      <th>041</th>\n",
       "      <td>4623</td>\n",
       "      <td>0.027442</td>\n",
       "    </tr>\n",
       "    <tr>\n",
       "      <th>028B</th>\n",
       "      <td>4363</td>\n",
       "      <td>0.025899</td>\n",
       "    </tr>\n",
       "    <tr>\n",
       "      <th>031</th>\n",
       "      <td>4106</td>\n",
       "      <td>0.024373</td>\n",
       "    </tr>\n",
       "    <tr>\n",
       "      <th>038A</th>\n",
       "      <td>4105</td>\n",
       "      <td>0.024367</td>\n",
       "    </tr>\n",
       "    <tr>\n",
       "      <th>040</th>\n",
       "      <td>4066</td>\n",
       "      <td>0.024136</td>\n",
       "    </tr>\n",
       "    <tr>\n",
       "      <th>028C</th>\n",
       "      <td>4006</td>\n",
       "      <td>0.023780</td>\n",
       "    </tr>\n",
       "    <tr>\n",
       "      <th>007</th>\n",
       "      <td>3695</td>\n",
       "      <td>0.021934</td>\n",
       "    </tr>\n",
       "    <tr>\n",
       "      <th>034</th>\n",
       "      <td>3620</td>\n",
       "      <td>0.021488</td>\n",
       "    </tr>\n",
       "    <tr>\n",
       "      <th>005</th>\n",
       "      <td>3484</td>\n",
       "      <td>0.020681</td>\n",
       "    </tr>\n",
       "    <tr>\n",
       "      <th>032</th>\n",
       "      <td>3462</td>\n",
       "      <td>0.020551</td>\n",
       "    </tr>\n",
       "    <tr>\n",
       "      <th>017A</th>\n",
       "      <td>3384</td>\n",
       "      <td>0.020087</td>\n",
       "    </tr>\n",
       "    <tr>\n",
       "      <th>018</th>\n",
       "      <td>3231</td>\n",
       "      <td>0.019179</td>\n",
       "    </tr>\n",
       "    <tr>\n",
       "      <th>008</th>\n",
       "      <td>3002</td>\n",
       "      <td>0.017820</td>\n",
       "    </tr>\n",
       "    <tr>\n",
       "      <th>022</th>\n",
       "      <td>2879</td>\n",
       "      <td>0.017090</td>\n",
       "    </tr>\n",
       "    <tr>\n",
       "      <th>013</th>\n",
       "      <td>2780</td>\n",
       "      <td>0.016502</td>\n",
       "    </tr>\n",
       "    <tr>\n",
       "      <th>029C</th>\n",
       "      <td>2751</td>\n",
       "      <td>0.016330</td>\n",
       "    </tr>\n",
       "    <tr>\n",
       "      <th>011</th>\n",
       "      <td>2731</td>\n",
       "      <td>0.016211</td>\n",
       "    </tr>\n",
       "    <tr>\n",
       "      <th>038B</th>\n",
       "      <td>2687</td>\n",
       "      <td>0.015950</td>\n",
       "    </tr>\n",
       "    <tr>\n",
       "      <th>021</th>\n",
       "      <td>2640</td>\n",
       "      <td>0.015671</td>\n",
       "    </tr>\n",
       "    <tr>\n",
       "      <th>033</th>\n",
       "      <td>2628</td>\n",
       "      <td>0.015600</td>\n",
       "    </tr>\n",
       "    <tr>\n",
       "      <th>039</th>\n",
       "      <td>2610</td>\n",
       "      <td>0.015493</td>\n",
       "    </tr>\n",
       "    <tr>\n",
       "      <th>012</th>\n",
       "      <td>2503</td>\n",
       "      <td>0.014858</td>\n",
       "    </tr>\n",
       "    <tr>\n",
       "      <th>024</th>\n",
       "      <td>2479</td>\n",
       "      <td>0.014715</td>\n",
       "    </tr>\n",
       "    <tr>\n",
       "      <th>042</th>\n",
       "      <td>2272</td>\n",
       "      <td>0.013487</td>\n",
       "    </tr>\n",
       "    <tr>\n",
       "      <th>023</th>\n",
       "      <td>2217</td>\n",
       "      <td>0.013160</td>\n",
       "    </tr>\n",
       "    <tr>\n",
       "      <th>036</th>\n",
       "      <td>2136</td>\n",
       "      <td>0.012679</td>\n",
       "    </tr>\n",
       "    <tr>\n",
       "      <th>025</th>\n",
       "      <td>2076</td>\n",
       "      <td>0.012323</td>\n",
       "    </tr>\n",
       "    <tr>\n",
       "      <th>026</th>\n",
       "      <td>2064</td>\n",
       "      <td>0.012252</td>\n",
       "    </tr>\n",
       "    <tr>\n",
       "      <th>035</th>\n",
       "      <td>2034</td>\n",
       "      <td>0.012074</td>\n",
       "    </tr>\n",
       "    <tr>\n",
       "      <th>027</th>\n",
       "      <td>1929</td>\n",
       "      <td>0.011451</td>\n",
       "    </tr>\n",
       "    <tr>\n",
       "      <th>006</th>\n",
       "      <td>1861</td>\n",
       "      <td>0.011047</td>\n",
       "    </tr>\n",
       "    <tr>\n",
       "      <th>029B</th>\n",
       "      <td>1827</td>\n",
       "      <td>0.010845</td>\n",
       "    </tr>\n",
       "    <tr>\n",
       "      <th>002</th>\n",
       "      <td>1796</td>\n",
       "      <td>0.010661</td>\n",
       "    </tr>\n",
       "    <tr>\n",
       "      <th>037B</th>\n",
       "      <td>1642</td>\n",
       "      <td>0.009747</td>\n",
       "    </tr>\n",
       "    <tr>\n",
       "      <th>009</th>\n",
       "      <td>1614</td>\n",
       "      <td>0.009581</td>\n",
       "    </tr>\n",
       "    <tr>\n",
       "      <th>014</th>\n",
       "      <td>1513</td>\n",
       "      <td>0.008981</td>\n",
       "    </tr>\n",
       "    <tr>\n",
       "      <th>004</th>\n",
       "      <td>1491</td>\n",
       "      <td>0.008851</td>\n",
       "    </tr>\n",
       "    <tr>\n",
       "      <th>001</th>\n",
       "      <td>1424</td>\n",
       "      <td>0.008453</td>\n",
       "    </tr>\n",
       "    <tr>\n",
       "      <th>010</th>\n",
       "      <td>1343</td>\n",
       "      <td>0.007972</td>\n",
       "    </tr>\n",
       "    <tr>\n",
       "      <th>003</th>\n",
       "      <td>1341</td>\n",
       "      <td>0.007960</td>\n",
       "    </tr>\n",
       "    <tr>\n",
       "      <th>043</th>\n",
       "      <td>1153</td>\n",
       "      <td>0.006844</td>\n",
       "    </tr>\n",
       "  </tbody>\n",
       "</table>\n",
       "</div>"
      ],
      "text/plain": [
       "      count         %\n",
       "019    6616  0.039273\n",
       "020A   6138  0.036435\n",
       "037A   5906  0.035058\n",
       "028A   5850  0.034726\n",
       "016    5688  0.033764\n",
       "028D   5316  0.031556\n",
       "029A   5289  0.031396\n",
       "017B   5103  0.030292\n",
       "020B   5101  0.030280\n",
       "030    5065  0.030066\n",
       "015    4823  0.028629\n",
       "041    4623  0.027442\n",
       "028B   4363  0.025899\n",
       "031    4106  0.024373\n",
       "038A   4105  0.024367\n",
       "040    4066  0.024136\n",
       "028C   4006  0.023780\n",
       "007    3695  0.021934\n",
       "034    3620  0.021488\n",
       "005    3484  0.020681\n",
       "032    3462  0.020551\n",
       "017A   3384  0.020087\n",
       "018    3231  0.019179\n",
       "008    3002  0.017820\n",
       "022    2879  0.017090\n",
       "013    2780  0.016502\n",
       "029C   2751  0.016330\n",
       "011    2731  0.016211\n",
       "038B   2687  0.015950\n",
       "021    2640  0.015671\n",
       "033    2628  0.015600\n",
       "039    2610  0.015493\n",
       "012    2503  0.014858\n",
       "024    2479  0.014715\n",
       "042    2272  0.013487\n",
       "023    2217  0.013160\n",
       "036    2136  0.012679\n",
       "025    2076  0.012323\n",
       "026    2064  0.012252\n",
       "035    2034  0.012074\n",
       "027    1929  0.011451\n",
       "006    1861  0.011047\n",
       "029B   1827  0.010845\n",
       "002    1796  0.010661\n",
       "037B   1642  0.009747\n",
       "009    1614  0.009581\n",
       "014    1513  0.008981\n",
       "004    1491  0.008851\n",
       "001    1424  0.008453\n",
       "010    1343  0.007972\n",
       "003    1341  0.007960\n",
       "043    1153  0.006844"
      ]
     },
     "execution_count": 38,
     "metadata": {},
     "output_type": "execute_result"
    }
   ],
   "source": [
    "check_unique('precinct_abbrv', elec_df)"
   ]
  },
  {
   "cell_type": "code",
   "execution_count": 40,
   "metadata": {
    "ExecuteTime": {
     "end_time": "2020-12-15T17:49:53.505213Z",
     "start_time": "2020-12-15T17:49:53.469604Z"
    }
   },
   "outputs": [
    {
     "data": {
      "text/html": [
       "<div>\n",
       "<style scoped>\n",
       "    .dataframe tbody tr th:only-of-type {\n",
       "        vertical-align: middle;\n",
       "    }\n",
       "\n",
       "    .dataframe tbody tr th {\n",
       "        vertical-align: top;\n",
       "    }\n",
       "\n",
       "    .dataframe thead th {\n",
       "        text-align: right;\n",
       "    }\n",
       "</style>\n",
       "<table border=\"1\" class=\"dataframe\">\n",
       "  <thead>\n",
       "    <tr style=\"text-align: right;\">\n",
       "      <th></th>\n",
       "      <th>count</th>\n",
       "      <th>%</th>\n",
       "    </tr>\n",
       "  </thead>\n",
       "  <tbody>\n",
       "    <tr>\n",
       "      <th>028</th>\n",
       "      <td>19535</td>\n",
       "      <td>0.115960</td>\n",
       "    </tr>\n",
       "    <tr>\n",
       "      <th>019</th>\n",
       "      <td>6616</td>\n",
       "      <td>0.039273</td>\n",
       "    </tr>\n",
       "    <tr>\n",
       "      <th>020A</th>\n",
       "      <td>6138</td>\n",
       "      <td>0.036435</td>\n",
       "    </tr>\n",
       "    <tr>\n",
       "      <th>037A</th>\n",
       "      <td>5906</td>\n",
       "      <td>0.035058</td>\n",
       "    </tr>\n",
       "    <tr>\n",
       "      <th>016</th>\n",
       "      <td>5688</td>\n",
       "      <td>0.033764</td>\n",
       "    </tr>\n",
       "    <tr>\n",
       "      <th>029A</th>\n",
       "      <td>5289</td>\n",
       "      <td>0.031396</td>\n",
       "    </tr>\n",
       "    <tr>\n",
       "      <th>017B</th>\n",
       "      <td>5103</td>\n",
       "      <td>0.030292</td>\n",
       "    </tr>\n",
       "    <tr>\n",
       "      <th>020B</th>\n",
       "      <td>5101</td>\n",
       "      <td>0.030280</td>\n",
       "    </tr>\n",
       "    <tr>\n",
       "      <th>030</th>\n",
       "      <td>5065</td>\n",
       "      <td>0.030066</td>\n",
       "    </tr>\n",
       "    <tr>\n",
       "      <th>015</th>\n",
       "      <td>4823</td>\n",
       "      <td>0.028629</td>\n",
       "    </tr>\n",
       "    <tr>\n",
       "      <th>041</th>\n",
       "      <td>4623</td>\n",
       "      <td>0.027442</td>\n",
       "    </tr>\n",
       "    <tr>\n",
       "      <th>031</th>\n",
       "      <td>4106</td>\n",
       "      <td>0.024373</td>\n",
       "    </tr>\n",
       "    <tr>\n",
       "      <th>038A</th>\n",
       "      <td>4105</td>\n",
       "      <td>0.024367</td>\n",
       "    </tr>\n",
       "    <tr>\n",
       "      <th>040</th>\n",
       "      <td>4066</td>\n",
       "      <td>0.024136</td>\n",
       "    </tr>\n",
       "    <tr>\n",
       "      <th>007</th>\n",
       "      <td>3695</td>\n",
       "      <td>0.021934</td>\n",
       "    </tr>\n",
       "    <tr>\n",
       "      <th>034</th>\n",
       "      <td>3620</td>\n",
       "      <td>0.021488</td>\n",
       "    </tr>\n",
       "    <tr>\n",
       "      <th>005</th>\n",
       "      <td>3484</td>\n",
       "      <td>0.020681</td>\n",
       "    </tr>\n",
       "    <tr>\n",
       "      <th>032</th>\n",
       "      <td>3462</td>\n",
       "      <td>0.020551</td>\n",
       "    </tr>\n",
       "    <tr>\n",
       "      <th>017A</th>\n",
       "      <td>3384</td>\n",
       "      <td>0.020087</td>\n",
       "    </tr>\n",
       "    <tr>\n",
       "      <th>018</th>\n",
       "      <td>3231</td>\n",
       "      <td>0.019179</td>\n",
       "    </tr>\n",
       "    <tr>\n",
       "      <th>008</th>\n",
       "      <td>3002</td>\n",
       "      <td>0.017820</td>\n",
       "    </tr>\n",
       "    <tr>\n",
       "      <th>022</th>\n",
       "      <td>2879</td>\n",
       "      <td>0.017090</td>\n",
       "    </tr>\n",
       "    <tr>\n",
       "      <th>013</th>\n",
       "      <td>2780</td>\n",
       "      <td>0.016502</td>\n",
       "    </tr>\n",
       "    <tr>\n",
       "      <th>029C</th>\n",
       "      <td>2751</td>\n",
       "      <td>0.016330</td>\n",
       "    </tr>\n",
       "    <tr>\n",
       "      <th>011</th>\n",
       "      <td>2731</td>\n",
       "      <td>0.016211</td>\n",
       "    </tr>\n",
       "    <tr>\n",
       "      <th>038B</th>\n",
       "      <td>2687</td>\n",
       "      <td>0.015950</td>\n",
       "    </tr>\n",
       "    <tr>\n",
       "      <th>021</th>\n",
       "      <td>2640</td>\n",
       "      <td>0.015671</td>\n",
       "    </tr>\n",
       "    <tr>\n",
       "      <th>033</th>\n",
       "      <td>2628</td>\n",
       "      <td>0.015600</td>\n",
       "    </tr>\n",
       "    <tr>\n",
       "      <th>039</th>\n",
       "      <td>2610</td>\n",
       "      <td>0.015493</td>\n",
       "    </tr>\n",
       "    <tr>\n",
       "      <th>012</th>\n",
       "      <td>2503</td>\n",
       "      <td>0.014858</td>\n",
       "    </tr>\n",
       "    <tr>\n",
       "      <th>024</th>\n",
       "      <td>2479</td>\n",
       "      <td>0.014715</td>\n",
       "    </tr>\n",
       "    <tr>\n",
       "      <th>042</th>\n",
       "      <td>2272</td>\n",
       "      <td>0.013487</td>\n",
       "    </tr>\n",
       "    <tr>\n",
       "      <th>023</th>\n",
       "      <td>2217</td>\n",
       "      <td>0.013160</td>\n",
       "    </tr>\n",
       "    <tr>\n",
       "      <th>036</th>\n",
       "      <td>2136</td>\n",
       "      <td>0.012679</td>\n",
       "    </tr>\n",
       "    <tr>\n",
       "      <th>025</th>\n",
       "      <td>2076</td>\n",
       "      <td>0.012323</td>\n",
       "    </tr>\n",
       "    <tr>\n",
       "      <th>026</th>\n",
       "      <td>2064</td>\n",
       "      <td>0.012252</td>\n",
       "    </tr>\n",
       "    <tr>\n",
       "      <th>035</th>\n",
       "      <td>2034</td>\n",
       "      <td>0.012074</td>\n",
       "    </tr>\n",
       "    <tr>\n",
       "      <th>027</th>\n",
       "      <td>1929</td>\n",
       "      <td>0.011451</td>\n",
       "    </tr>\n",
       "    <tr>\n",
       "      <th>006</th>\n",
       "      <td>1861</td>\n",
       "      <td>0.011047</td>\n",
       "    </tr>\n",
       "    <tr>\n",
       "      <th>029B</th>\n",
       "      <td>1827</td>\n",
       "      <td>0.010845</td>\n",
       "    </tr>\n",
       "    <tr>\n",
       "      <th>002</th>\n",
       "      <td>1796</td>\n",
       "      <td>0.010661</td>\n",
       "    </tr>\n",
       "    <tr>\n",
       "      <th>037B</th>\n",
       "      <td>1642</td>\n",
       "      <td>0.009747</td>\n",
       "    </tr>\n",
       "    <tr>\n",
       "      <th>009</th>\n",
       "      <td>1614</td>\n",
       "      <td>0.009581</td>\n",
       "    </tr>\n",
       "    <tr>\n",
       "      <th>014</th>\n",
       "      <td>1513</td>\n",
       "      <td>0.008981</td>\n",
       "    </tr>\n",
       "    <tr>\n",
       "      <th>004</th>\n",
       "      <td>1491</td>\n",
       "      <td>0.008851</td>\n",
       "    </tr>\n",
       "    <tr>\n",
       "      <th>001</th>\n",
       "      <td>1424</td>\n",
       "      <td>0.008453</td>\n",
       "    </tr>\n",
       "    <tr>\n",
       "      <th>010</th>\n",
       "      <td>1343</td>\n",
       "      <td>0.007972</td>\n",
       "    </tr>\n",
       "    <tr>\n",
       "      <th>003</th>\n",
       "      <td>1341</td>\n",
       "      <td>0.007960</td>\n",
       "    </tr>\n",
       "    <tr>\n",
       "      <th>043</th>\n",
       "      <td>1153</td>\n",
       "      <td>0.006844</td>\n",
       "    </tr>\n",
       "  </tbody>\n",
       "</table>\n",
       "</div>"
      ],
      "text/plain": [
       "      count         %\n",
       "028   19535  0.115960\n",
       "019    6616  0.039273\n",
       "020A   6138  0.036435\n",
       "037A   5906  0.035058\n",
       "016    5688  0.033764\n",
       "029A   5289  0.031396\n",
       "017B   5103  0.030292\n",
       "020B   5101  0.030280\n",
       "030    5065  0.030066\n",
       "015    4823  0.028629\n",
       "041    4623  0.027442\n",
       "031    4106  0.024373\n",
       "038A   4105  0.024367\n",
       "040    4066  0.024136\n",
       "007    3695  0.021934\n",
       "034    3620  0.021488\n",
       "005    3484  0.020681\n",
       "032    3462  0.020551\n",
       "017A   3384  0.020087\n",
       "018    3231  0.019179\n",
       "008    3002  0.017820\n",
       "022    2879  0.017090\n",
       "013    2780  0.016502\n",
       "029C   2751  0.016330\n",
       "011    2731  0.016211\n",
       "038B   2687  0.015950\n",
       "021    2640  0.015671\n",
       "033    2628  0.015600\n",
       "039    2610  0.015493\n",
       "012    2503  0.014858\n",
       "024    2479  0.014715\n",
       "042    2272  0.013487\n",
       "023    2217  0.013160\n",
       "036    2136  0.012679\n",
       "025    2076  0.012323\n",
       "026    2064  0.012252\n",
       "035    2034  0.012074\n",
       "027    1929  0.011451\n",
       "006    1861  0.011047\n",
       "029B   1827  0.010845\n",
       "002    1796  0.010661\n",
       "037B   1642  0.009747\n",
       "009    1614  0.009581\n",
       "014    1513  0.008981\n",
       "004    1491  0.008851\n",
       "001    1424  0.008453\n",
       "010    1343  0.007972\n",
       "003    1341  0.007960\n",
       "043    1153  0.006844"
      ]
     },
     "execution_count": 40,
     "metadata": {},
     "output_type": "execute_result"
    }
   ],
   "source": [
    "check_unique('vtd_abbrv', elec_df)"
   ]
  },
  {
   "cell_type": "code",
   "execution_count": 42,
   "metadata": {
    "ExecuteTime": {
     "end_time": "2020-12-15T17:50:47.072677Z",
     "start_time": "2020-12-15T17:50:47.059165Z"
    }
   },
   "outputs": [
    {
     "data": {
      "text/html": [
       "<div>\n",
       "<style scoped>\n",
       "    .dataframe tbody tr th:only-of-type {\n",
       "        vertical-align: middle;\n",
       "    }\n",
       "\n",
       "    .dataframe tbody tr th {\n",
       "        vertical-align: top;\n",
       "    }\n",
       "\n",
       "    .dataframe thead th {\n",
       "        text-align: right;\n",
       "    }\n",
       "</style>\n",
       "<table border=\"1\" class=\"dataframe\">\n",
       "  <thead>\n",
       "    <tr style=\"text-align: right;\">\n",
       "      <th></th>\n",
       "      <th>count</th>\n",
       "      <th>%</th>\n",
       "    </tr>\n",
       "  </thead>\n",
       "  <tbody>\n",
       "    <tr>\n",
       "      <th>9.0</th>\n",
       "      <td>168463</td>\n",
       "      <td>1.0</td>\n",
       "    </tr>\n",
       "  </tbody>\n",
       "</table>\n",
       "</div>"
      ],
      "text/plain": [
       "      count    %\n",
       "9.0  168463  1.0"
      ]
     },
     "execution_count": 42,
     "metadata": {},
     "output_type": "execute_result"
    }
   ],
   "source": [
    "check_unique('cong_dist_abbrv', elec_df)"
   ]
  },
  {
   "cell_type": "code",
   "execution_count": 43,
   "metadata": {
    "ExecuteTime": {
     "end_time": "2020-12-15T17:51:01.001016Z",
     "start_time": "2020-12-15T17:51:00.987750Z"
    }
   },
   "outputs": [
    {
     "data": {
      "text/html": [
       "<div>\n",
       "<style scoped>\n",
       "    .dataframe tbody tr th:only-of-type {\n",
       "        vertical-align: middle;\n",
       "    }\n",
       "\n",
       "    .dataframe tbody tr th {\n",
       "        vertical-align: top;\n",
       "    }\n",
       "\n",
       "    .dataframe thead th {\n",
       "        text-align: right;\n",
       "    }\n",
       "</style>\n",
       "<table border=\"1\" class=\"dataframe\">\n",
       "  <thead>\n",
       "    <tr style=\"text-align: right;\">\n",
       "      <th></th>\n",
       "      <th>count</th>\n",
       "      <th>%</th>\n",
       "    </tr>\n",
       "  </thead>\n",
       "  <tbody>\n",
       "    <tr>\n",
       "      <th>35.0</th>\n",
       "      <td>158822</td>\n",
       "      <td>0.942771</td>\n",
       "    </tr>\n",
       "    <tr>\n",
       "      <th>36.0</th>\n",
       "      <td>9641</td>\n",
       "      <td>0.057229</td>\n",
       "    </tr>\n",
       "  </tbody>\n",
       "</table>\n",
       "</div>"
      ],
      "text/plain": [
       "       count         %\n",
       "35.0  158822  0.942771\n",
       "36.0    9641  0.057229"
      ]
     },
     "execution_count": 43,
     "metadata": {},
     "output_type": "execute_result"
    }
   ],
   "source": [
    "check_unique('nc_senate_abbrv', elec_df)"
   ]
  },
  {
   "cell_type": "code",
   "execution_count": 44,
   "metadata": {
    "ExecuteTime": {
     "end_time": "2020-12-15T17:51:12.167461Z",
     "start_time": "2020-12-15T17:51:12.151721Z"
    }
   },
   "outputs": [
    {
     "data": {
      "text/html": [
       "<div>\n",
       "<style scoped>\n",
       "    .dataframe tbody tr th:only-of-type {\n",
       "        vertical-align: middle;\n",
       "    }\n",
       "\n",
       "    .dataframe tbody tr th {\n",
       "        vertical-align: top;\n",
       "    }\n",
       "\n",
       "    .dataframe thead th {\n",
       "        text-align: right;\n",
       "    }\n",
       "</style>\n",
       "<table border=\"1\" class=\"dataframe\">\n",
       "  <thead>\n",
       "    <tr style=\"text-align: right;\">\n",
       "      <th></th>\n",
       "      <th>count</th>\n",
       "      <th>%</th>\n",
       "    </tr>\n",
       "  </thead>\n",
       "  <tbody>\n",
       "    <tr>\n",
       "      <th>68.0</th>\n",
       "      <td>75811</td>\n",
       "      <td>0.450016</td>\n",
       "    </tr>\n",
       "    <tr>\n",
       "      <th>69.0</th>\n",
       "      <td>58041</td>\n",
       "      <td>0.344533</td>\n",
       "    </tr>\n",
       "    <tr>\n",
       "      <th>55.0</th>\n",
       "      <td>34611</td>\n",
       "      <td>0.205452</td>\n",
       "    </tr>\n",
       "  </tbody>\n",
       "</table>\n",
       "</div>"
      ],
      "text/plain": [
       "      count         %\n",
       "68.0  75811  0.450016\n",
       "69.0  58041  0.344533\n",
       "55.0  34611  0.205452"
      ]
     },
     "execution_count": 44,
     "metadata": {},
     "output_type": "execute_result"
    }
   ],
   "source": [
    "check_unique('nc_house_abbrv', elec_df)"
   ]
  },
  {
   "cell_type": "code",
   "execution_count": 45,
   "metadata": {
    "ExecuteTime": {
     "end_time": "2020-12-15T17:51:25.834818Z",
     "start_time": "2020-12-15T17:51:25.814023Z"
    }
   },
   "outputs": [
    {
     "data": {
      "text/html": [
       "<div>\n",
       "<style scoped>\n",
       "    .dataframe tbody tr th:only-of-type {\n",
       "        vertical-align: middle;\n",
       "    }\n",
       "\n",
       "    .dataframe tbody tr th {\n",
       "        vertical-align: top;\n",
       "    }\n",
       "\n",
       "    .dataframe thead th {\n",
       "        text-align: right;\n",
       "    }\n",
       "</style>\n",
       "<table border=\"1\" class=\"dataframe\">\n",
       "  <thead>\n",
       "    <tr style=\"text-align: right;\">\n",
       "      <th></th>\n",
       "      <th>count</th>\n",
       "      <th>%</th>\n",
       "    </tr>\n",
       "  </thead>\n",
       "  <tbody>\n",
       "    <tr>\n",
       "      <th>6.0</th>\n",
       "      <td>36355</td>\n",
       "      <td>0.215804</td>\n",
       "    </tr>\n",
       "    <tr>\n",
       "      <th>5.0</th>\n",
       "      <td>30382</td>\n",
       "      <td>0.180348</td>\n",
       "    </tr>\n",
       "    <tr>\n",
       "      <th>2.0</th>\n",
       "      <td>29528</td>\n",
       "      <td>0.175279</td>\n",
       "    </tr>\n",
       "    <tr>\n",
       "      <th>4.0</th>\n",
       "      <td>28600</td>\n",
       "      <td>0.169770</td>\n",
       "    </tr>\n",
       "    <tr>\n",
       "      <th>3.0</th>\n",
       "      <td>26255</td>\n",
       "      <td>0.155850</td>\n",
       "    </tr>\n",
       "    <tr>\n",
       "      <th>1.0</th>\n",
       "      <td>17343</td>\n",
       "      <td>0.102948</td>\n",
       "    </tr>\n",
       "  </tbody>\n",
       "</table>\n",
       "</div>"
      ],
      "text/plain": [
       "     count         %\n",
       "6.0  36355  0.215804\n",
       "5.0  30382  0.180348\n",
       "2.0  29528  0.175279\n",
       "4.0  28600  0.169770\n",
       "3.0  26255  0.155850\n",
       "1.0  17343  0.102948"
      ]
     },
     "execution_count": 45,
     "metadata": {},
     "output_type": "execute_result"
    }
   ],
   "source": [
    "check_unique('school_dist_abbrv', elec_df)"
   ]
  },
  {
   "cell_type": "markdown",
   "metadata": {},
   "source": [
    "## Group Rare Categories"
   ]
  },
  {
   "cell_type": "code",
   "execution_count": 59,
   "metadata": {
    "ExecuteTime": {
     "end_time": "2020-12-15T19:22:31.220582Z",
     "start_time": "2020-12-15T19:22:31.200325Z"
    }
   },
   "outputs": [
    {
     "data": {
      "text/html": [
       "<div>\n",
       "<style scoped>\n",
       "    .dataframe tbody tr th:only-of-type {\n",
       "        vertical-align: middle;\n",
       "    }\n",
       "\n",
       "    .dataframe tbody tr th {\n",
       "        vertical-align: top;\n",
       "    }\n",
       "\n",
       "    .dataframe thead th {\n",
       "        text-align: right;\n",
       "    }\n",
       "</style>\n",
       "<table border=\"1\" class=\"dataframe\">\n",
       "  <thead>\n",
       "    <tr style=\"text-align: right;\">\n",
       "      <th></th>\n",
       "      <th>count</th>\n",
       "      <th>%</th>\n",
       "    </tr>\n",
       "  </thead>\n",
       "  <tbody>\n",
       "    <tr>\n",
       "      <th>1</th>\n",
       "      <td>131414</td>\n",
       "      <td>0.780076</td>\n",
       "    </tr>\n",
       "    <tr>\n",
       "      <th>0</th>\n",
       "      <td>37049</td>\n",
       "      <td>0.219924</td>\n",
       "    </tr>\n",
       "  </tbody>\n",
       "</table>\n",
       "</div>"
      ],
      "text/plain": [
       "    count         %\n",
       "1  131414  0.780076\n",
       "0   37049  0.219924"
      ]
     },
     "execution_count": 59,
     "metadata": {},
     "output_type": "execute_result"
    }
   ],
   "source": [
    "## Create new column that is a binary variable indicating whether the voter\n",
    "  ## cast a vote in the 2020 election or not\n",
    "elec_df['Gen_2020_binary'] = np.where(elec_df['Gen_2020']=='No Vote',\n",
    "                                0, 1)\n",
    "\n",
    "## Check distribution\n",
    "check_unique('Gen_2020_binary', elec_df)"
   ]
  },
  {
   "cell_type": "code",
   "execution_count": 60,
   "metadata": {
    "ExecuteTime": {
     "end_time": "2020-12-15T19:23:53.299172Z",
     "start_time": "2020-12-15T19:23:53.273138Z"
    }
   },
   "outputs": [
    {
     "data": {
      "text/html": [
       "<div>\n",
       "<style scoped>\n",
       "    .dataframe tbody tr th:only-of-type {\n",
       "        vertical-align: middle;\n",
       "    }\n",
       "\n",
       "    .dataframe tbody tr th {\n",
       "        vertical-align: top;\n",
       "    }\n",
       "\n",
       "    .dataframe thead th {\n",
       "        text-align: right;\n",
       "    }\n",
       "</style>\n",
       "<table border=\"1\" class=\"dataframe\">\n",
       "  <thead>\n",
       "    <tr style=\"text-align: right;\">\n",
       "      <th></th>\n",
       "      <th>count</th>\n",
       "      <th>%</th>\n",
       "    </tr>\n",
       "  </thead>\n",
       "  <tbody>\n",
       "    <tr>\n",
       "      <th>0</th>\n",
       "      <td>125191</td>\n",
       "      <td>0.743136</td>\n",
       "    </tr>\n",
       "    <tr>\n",
       "      <th>1</th>\n",
       "      <td>43272</td>\n",
       "      <td>0.256864</td>\n",
       "    </tr>\n",
       "  </tbody>\n",
       "</table>\n",
       "</div>"
      ],
      "text/plain": [
       "    count         %\n",
       "0  125191  0.743136\n",
       "1   43272  0.256864"
      ]
     },
     "execution_count": 60,
     "metadata": {},
     "output_type": "execute_result"
    }
   ],
   "source": [
    "## Create new column that is a binary variable indicating whether the voter\n",
    "  ## cast a vote in the 2020 election or not\n",
    "elec_df['Pri_2020_binary'] = np.where(elec_df['Pri_2020']=='No Vote',\n",
    "                                0, 1)\n",
    "\n",
    "## Check distribution\n",
    "check_unique('Pri_2020_binary', elec_df)"
   ]
  },
  {
   "cell_type": "code",
   "execution_count": 56,
   "metadata": {
    "ExecuteTime": {
     "end_time": "2020-12-15T18:56:07.881454Z",
     "start_time": "2020-12-15T18:56:07.839990Z"
    }
   },
   "outputs": [
    {
     "data": {
      "text/html": [
       "<div>\n",
       "<style scoped>\n",
       "    .dataframe tbody tr th:only-of-type {\n",
       "        vertical-align: middle;\n",
       "    }\n",
       "\n",
       "    .dataframe tbody tr th {\n",
       "        vertical-align: top;\n",
       "    }\n",
       "\n",
       "    .dataframe thead th {\n",
       "        text-align: right;\n",
       "    }\n",
       "</style>\n",
       "<table border=\"1\" class=\"dataframe\">\n",
       "  <thead>\n",
       "    <tr style=\"text-align: right;\">\n",
       "      <th></th>\n",
       "      <th>count</th>\n",
       "      <th>%</th>\n",
       "    </tr>\n",
       "  </thead>\n",
       "  <tbody>\n",
       "    <tr>\n",
       "      <th>REP</th>\n",
       "      <td>69147</td>\n",
       "      <td>0.410458</td>\n",
       "    </tr>\n",
       "    <tr>\n",
       "      <th>Other</th>\n",
       "      <td>58828</td>\n",
       "      <td>0.349204</td>\n",
       "    </tr>\n",
       "    <tr>\n",
       "      <th>DEM</th>\n",
       "      <td>40488</td>\n",
       "      <td>0.240338</td>\n",
       "    </tr>\n",
       "  </tbody>\n",
       "</table>\n",
       "</div>"
      ],
      "text/plain": [
       "       count         %\n",
       "REP    69147  0.410458\n",
       "Other  58828  0.349204\n",
       "DEM    40488  0.240338"
      ]
     },
     "execution_count": 56,
     "metadata": {},
     "output_type": "execute_result"
    }
   ],
   "source": [
    "## Create new column grouping most infrequent party categories (<5% of voters)\n",
    "  ## into same group as those who are unaffiliated\n",
    "elec_df['party_grp'] = np.where(elec_df['party_cd'].isin(['REP', 'DEM']),\n",
    "                                elec_df['party_cd'], 'Other')\n",
    "\n",
    "## Check distribution\n",
    "check_unique('party_grp', elec_df)"
   ]
  },
  {
   "cell_type": "code",
   "execution_count": 55,
   "metadata": {
    "ExecuteTime": {
     "end_time": "2020-12-15T18:52:58.215730Z",
     "start_time": "2020-12-15T18:52:58.179738Z"
    }
   },
   "outputs": [
    {
     "data": {
      "text/html": [
       "<div>\n",
       "<style scoped>\n",
       "    .dataframe tbody tr th:only-of-type {\n",
       "        vertical-align: middle;\n",
       "    }\n",
       "\n",
       "    .dataframe tbody tr th {\n",
       "        vertical-align: top;\n",
       "    }\n",
       "\n",
       "    .dataframe thead th {\n",
       "        text-align: right;\n",
       "    }\n",
       "</style>\n",
       "<table border=\"1\" class=\"dataframe\">\n",
       "  <thead>\n",
       "    <tr style=\"text-align: right;\">\n",
       "      <th></th>\n",
       "      <th>count</th>\n",
       "      <th>%</th>\n",
       "    </tr>\n",
       "  </thead>\n",
       "  <tbody>\n",
       "    <tr>\n",
       "      <th>W</th>\n",
       "      <td>120058</td>\n",
       "      <td>0.712667</td>\n",
       "    </tr>\n",
       "    <tr>\n",
       "      <th>B</th>\n",
       "      <td>19246</td>\n",
       "      <td>0.114245</td>\n",
       "    </tr>\n",
       "    <tr>\n",
       "      <th>U</th>\n",
       "      <td>18744</td>\n",
       "      <td>0.111265</td>\n",
       "    </tr>\n",
       "    <tr>\n",
       "      <th>O</th>\n",
       "      <td>10415</td>\n",
       "      <td>0.061824</td>\n",
       "    </tr>\n",
       "  </tbody>\n",
       "</table>\n",
       "</div>"
      ],
      "text/plain": [
       "    count         %\n",
       "W  120058  0.712667\n",
       "B   19246  0.114245\n",
       "U   18744  0.111265\n",
       "O   10415  0.061824"
      ]
     },
     "execution_count": 55,
     "metadata": {},
     "output_type": "execute_result"
    }
   ],
   "source": [
    "## Create new column grouping most infrequent race categories (<5% of voters)\n",
    "elec_df['race_grp'] = np.where(elec_df['race_code'].isin(['W', 'B', 'U']),\n",
    "                               elec_df['race_code'], 'O')\n",
    "\n",
    "## Check distribution\n",
    "check_unique('race_grp', elec_df)"
   ]
  },
  {
   "cell_type": "code",
   "execution_count": 57,
   "metadata": {
    "ExecuteTime": {
     "end_time": "2020-12-15T19:10:51.953049Z",
     "start_time": "2020-12-15T19:10:51.911338Z"
    }
   },
   "outputs": [
    {
     "data": {
      "text/html": [
       "<div>\n",
       "<style scoped>\n",
       "    .dataframe tbody tr th:only-of-type {\n",
       "        vertical-align: middle;\n",
       "    }\n",
       "\n",
       "    .dataframe tbody tr th {\n",
       "        vertical-align: top;\n",
       "    }\n",
       "\n",
       "    .dataframe thead th {\n",
       "        text-align: right;\n",
       "    }\n",
       "</style>\n",
       "<table border=\"1\" class=\"dataframe\">\n",
       "  <thead>\n",
       "    <tr style=\"text-align: right;\">\n",
       "      <th></th>\n",
       "      <th>count</th>\n",
       "      <th>%</th>\n",
       "    </tr>\n",
       "  </thead>\n",
       "  <tbody>\n",
       "    <tr>\n",
       "      <th>MONROE</th>\n",
       "      <td>52881</td>\n",
       "      <td>0.313903</td>\n",
       "    </tr>\n",
       "    <tr>\n",
       "      <th>WAXHAW</th>\n",
       "      <td>47693</td>\n",
       "      <td>0.283107</td>\n",
       "    </tr>\n",
       "    <tr>\n",
       "      <th>INDIAN TRAIL</th>\n",
       "      <td>28267</td>\n",
       "      <td>0.167794</td>\n",
       "    </tr>\n",
       "    <tr>\n",
       "      <th>MATTHEWS</th>\n",
       "      <td>25884</td>\n",
       "      <td>0.153648</td>\n",
       "    </tr>\n",
       "    <tr>\n",
       "      <th>Other</th>\n",
       "      <td>13738</td>\n",
       "      <td>0.081549</td>\n",
       "    </tr>\n",
       "  </tbody>\n",
       "</table>\n",
       "</div>"
      ],
      "text/plain": [
       "              count         %\n",
       "MONROE        52881  0.313903\n",
       "WAXHAW        47693  0.283107\n",
       "INDIAN TRAIL  28267  0.167794\n",
       "MATTHEWS      25884  0.153648\n",
       "Other         13738  0.081549"
      ]
     },
     "execution_count": 57,
     "metadata": {},
     "output_type": "execute_result"
    }
   ],
   "source": [
    "## Create new column grouping most infrequent cities (<5% of voters)\n",
    "elec_df['city_grp'] = np.where(elec_df['res_city_desc'].isin(['MONROE', \n",
    "                                                              'WAXHAW',\n",
    "                                                              'INDIAN TRAIL',\n",
    "                                                              'MATTHEWS']),\n",
    "                                elec_df['res_city_desc'], 'Other')\n",
    "\n",
    "## Check distribution\n",
    "check_unique('city_grp', elec_df)"
   ]
  },
  {
   "cell_type": "code",
   "execution_count": null,
   "metadata": {},
   "outputs": [],
   "source": []
  },
  {
   "cell_type": "markdown",
   "metadata": {},
   "source": [
    "## Numeric Variables"
   ]
  },
  {
   "cell_type": "code",
   "execution_count": 52,
   "metadata": {
    "ExecuteTime": {
     "end_time": "2020-12-15T17:57:20.447256Z",
     "start_time": "2020-12-15T17:57:19.948449Z"
    }
   },
   "outputs": [
    {
     "data": {
      "image/png": "[encoded data removed]",
      "text/plain": [
       "<Figure size 576x432 with 1 Axes>"
      ]
     },
     "metadata": {
      "needs_background": "light"
     },
     "output_type": "display_data"
    }
   ],
   "source": [
    "## Check distribution of voter age in 2020\n",
    "plt.figure(figsize=(8,6))\n",
    "sns.histplot(elec_df['birth_age_adj']);"
   ]
  },
  {
   "cell_type": "code",
   "execution_count": 53,
   "metadata": {
    "ExecuteTime": {
     "end_time": "2020-12-15T17:57:21.512448Z",
     "start_time": "2020-12-15T17:57:20.449174Z"
    }
   },
   "outputs": [
    {
     "data": {
      "image/png": "[encoded data removed]",
      "text/plain": [
       "<Figure size 576x432 with 1 Axes>"
      ]
     },
     "metadata": {
      "needs_background": "light"
     },
     "output_type": "display_data"
    }
   ],
   "source": [
    "## Check distribution of registration dates\n",
    "plt.figure(figsize=(8,6))\n",
    "sns.histplot(elec_df['registr_dt']);"
   ]
  },
  {
   "cell_type": "markdown",
   "metadata": {},
   "source": [
    "## Relationship to Target (Gen_2020 voting method)"
   ]
  },
  {
   "cell_type": "code",
   "execution_count": 48,
   "metadata": {
    "ExecuteTime": {
     "end_time": "2020-12-15T16:20:49.886614Z",
     "start_time": "2020-12-15T16:20:49.538892Z"
    }
   },
   "outputs": [
    {
     "data": {
      "image/png": "[encoded data removed]",
      "text/plain": [
       "<Figure size 576x432 with 1 Axes>"
      ]
     },
     "metadata": {
      "needs_background": "light"
     },
     "output_type": "display_data"
    }
   ],
   "source": [
    "plot_count('Pri_2020', 'Gen_2020', elec_df);"
   ]
  },
  {
   "cell_type": "code",
   "execution_count": 63,
   "metadata": {
    "ExecuteTime": {
     "end_time": "2020-12-15T19:25:58.852566Z",
     "start_time": "2020-12-15T19:25:58.548402Z"
    }
   },
   "outputs": [
    {
     "data": {
      "image/png": "[encoded data removed]",
      "text/plain": [
       "<Figure size 576x432 with 1 Axes>"
      ]
     },
     "metadata": {
      "needs_background": "light"
     },
     "output_type": "display_data"
    }
   ],
   "source": [
    "plot_count('Pri_2020_binary', 'Gen_2020', elec_df);"
   ]
  },
  {
   "cell_type": "code",
   "execution_count": 49,
   "metadata": {
    "ExecuteTime": {
     "end_time": "2020-12-15T16:20:56.417154Z",
     "start_time": "2020-12-15T16:20:56.036162Z"
    },
    "scrolled": false
   },
   "outputs": [
    {
     "data": {
      "image/png": "[encoded data removed]",
      "text/plain": [
       "<Figure size 576x432 with 1 Axes>"
      ]
     },
     "metadata": {
      "needs_background": "light"
     },
     "output_type": "display_data"
    }
   ],
   "source": [
    "plot_count('party_cd', 'Gen_2020', elec_df);"
   ]
  },
  {
   "cell_type": "code",
   "execution_count": 58,
   "metadata": {
    "ExecuteTime": {
     "end_time": "2020-12-15T19:19:09.792455Z",
     "start_time": "2020-12-15T19:19:09.223256Z"
    }
   },
   "outputs": [
    {
     "data": {
      "image/png": "[encoded data removed]",
      "text/plain": [
       "<Figure size 576x432 with 1 Axes>"
      ]
     },
     "metadata": {
      "needs_background": "light"
     },
     "output_type": "display_data"
    }
   ],
   "source": [
    "plot_count('party_grp', 'Gen_2020', elec_df);"
   ]
  },
  {
   "cell_type": "markdown",
   "metadata": {},
   "source": [
    "# MODEL"
   ]
  },
  {
   "cell_type": "code",
   "execution_count": null,
   "metadata": {},
   "outputs": [],
   "source": []
  },
  {
   "cell_type": "code",
   "execution_count": null,
   "metadata": {},
   "outputs": [],
   "source": []
  },
  {
   "cell_type": "code",
   "execution_count": null,
   "metadata": {},
   "outputs": [],
   "source": []
  },
  {
   "cell_type": "markdown",
   "metadata": {},
   "source": [
    "# INTERPRET"
   ]
  },
  {
   "cell_type": "code",
   "execution_count": null,
   "metadata": {},
   "outputs": [],
   "source": []
  },
  {
   "cell_type": "code",
   "execution_count": null,
   "metadata": {},
   "outputs": [],
   "source": []
  },
  {
   "cell_type": "code",
   "execution_count": null,
   "metadata": {},
   "outputs": [],
   "source": []
  },
  {
   "cell_type": "markdown",
   "metadata": {},
   "source": [
    "# Conclusions/Recommendations"
   ]
  },
  {
   "cell_type": "code",
   "execution_count": null,
   "metadata": {},
   "outputs": [],
   "source": []
  }
 ],
 "metadata": {
  "kernelspec": {
   "display_name": "learn-env",
   "language": "python",
   "name": "learn-env"
  },
  "language_info": {
   "codemirror_mode": {
    "name": "ipython",
    "version": 3
   },
   "file_extension": ".py",
   "mimetype": "text/x-python",
   "name": "python",
   "nbconvert_exporter": "python",
   "pygments_lexer": "ipython3",
   "version": "3.6.9"
  },
  "toc": {
   "base_numbering": 1,
   "nav_menu": {},
   "number_sections": true,
   "sideBar": true,
   "skip_h1_title": false,
   "title_cell": "Table of Contents",
   "title_sidebar": "Contents",
   "toc_cell": false,
   "toc_position": {},
   "toc_section_display": true,
   "toc_window_display": true
  }
 },
 "nbformat": 4,
 "nbformat_minor": 2
}
