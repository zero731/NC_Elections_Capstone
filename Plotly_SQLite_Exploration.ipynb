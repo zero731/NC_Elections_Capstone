{
 "cells": [
  {
   "cell_type": "code",
   "execution_count": 14,
   "metadata": {
    "ExecuteTime": {
     "end_time": "2020-12-31T20:03:53.345668Z",
     "start_time": "2020-12-31T20:03:53.337477Z"
    }
   },
   "outputs": [],
   "source": [
    "## Import remaining necessary libraries\n",
    "import pandas as pd\n",
    "import matplotlib.pyplot as plt\n",
    "%matplotlib inline\n",
    "import seaborn as sns\n",
    "import datetime as dt\n",
    "from tzlocal import get_localzone\n",
    "import plotly.express as px\n",
    "from sqlalchemy import create_engine # database connection\n",
    "from sqlalchemy.types import Integer, String"
   ]
  },
  {
   "cell_type": "code",
   "execution_count": 15,
   "metadata": {
    "ExecuteTime": {
     "end_time": "2020-12-31T20:03:53.767713Z",
     "start_time": "2020-12-31T20:03:53.762375Z"
    }
   },
   "outputs": [],
   "source": [
    "disk_engine = create_engine('sqlite:///NC_2020.db')"
   ]
  },
  {
   "cell_type": "code",
   "execution_count": 16,
   "metadata": {
    "ExecuteTime": {
     "end_time": "2020-12-31T20:04:14.724219Z",
     "start_time": "2020-12-31T20:03:54.214576Z"
    }
   },
   "outputs": [
    {
     "data": {
      "text/html": [
       "<div>\n",
       "<style scoped>\n",
       "    .dataframe tbody tr th:only-of-type {\n",
       "        vertical-align: middle;\n",
       "    }\n",
       "\n",
       "    .dataframe tbody tr th {\n",
       "        vertical-align: top;\n",
       "    }\n",
       "\n",
       "    .dataframe thead th {\n",
       "        text-align: right;\n",
       "    }\n",
       "</style>\n",
       "<table border=\"1\" class=\"dataframe\">\n",
       "  <thead>\n",
       "    <tr style=\"text-align: right;\">\n",
       "      <th></th>\n",
       "      <th>no_vote_his</th>\n",
       "      <th>birth_age_adj</th>\n",
       "      <th>Gen_2020</th>\n",
       "      <th>gender_code</th>\n",
       "      <th>drivers_lic</th>\n",
       "      <th>county_id</th>\n",
       "      <th>county_party_res_2016_tri</th>\n",
       "      <th>Gen_2020_binary</th>\n",
       "      <th>party_grp</th>\n",
       "      <th>race_grp</th>\n",
       "      <th>birth_reg_other</th>\n",
       "    </tr>\n",
       "  </thead>\n",
       "  <tbody>\n",
       "    <tr>\n",
       "      <th>0</th>\n",
       "      <td>0</td>\n",
       "      <td>85.0</td>\n",
       "      <td>Early</td>\n",
       "      <td>F</td>\n",
       "      <td>0</td>\n",
       "      <td>1</td>\n",
       "      <td>0.0</td>\n",
       "      <td>1</td>\n",
       "      <td>Other</td>\n",
       "      <td>W</td>\n",
       "      <td>Northeast</td>\n",
       "    </tr>\n",
       "    <tr>\n",
       "      <th>1</th>\n",
       "      <td>0</td>\n",
       "      <td>42.0</td>\n",
       "      <td>Early</td>\n",
       "      <td>F</td>\n",
       "      <td>1</td>\n",
       "      <td>1</td>\n",
       "      <td>0.0</td>\n",
       "      <td>1</td>\n",
       "      <td>Other</td>\n",
       "      <td>W</td>\n",
       "      <td>South</td>\n",
       "    </tr>\n",
       "    <tr>\n",
       "      <th>2</th>\n",
       "      <td>0</td>\n",
       "      <td>54.0</td>\n",
       "      <td>Early</td>\n",
       "      <td>M</td>\n",
       "      <td>0</td>\n",
       "      <td>1</td>\n",
       "      <td>1.0</td>\n",
       "      <td>1</td>\n",
       "      <td>REP</td>\n",
       "      <td>W</td>\n",
       "      <td>South</td>\n",
       "    </tr>\n",
       "    <tr>\n",
       "      <th>3</th>\n",
       "      <td>0</td>\n",
       "      <td>44.0</td>\n",
       "      <td>Early</td>\n",
       "      <td>F</td>\n",
       "      <td>1</td>\n",
       "      <td>1</td>\n",
       "      <td>0.0</td>\n",
       "      <td>1</td>\n",
       "      <td>Other</td>\n",
       "      <td>W</td>\n",
       "      <td>South</td>\n",
       "    </tr>\n",
       "    <tr>\n",
       "      <th>4</th>\n",
       "      <td>0</td>\n",
       "      <td>75.0</td>\n",
       "      <td>Early</td>\n",
       "      <td>F</td>\n",
       "      <td>1</td>\n",
       "      <td>1</td>\n",
       "      <td>0.0</td>\n",
       "      <td>1</td>\n",
       "      <td>Other</td>\n",
       "      <td>W</td>\n",
       "      <td>South</td>\n",
       "    </tr>\n",
       "  </tbody>\n",
       "</table>\n",
       "</div>"
      ],
      "text/plain": [
       "   no_vote_his  birth_age_adj Gen_2020 gender_code  drivers_lic  county_id  \\\n",
       "0            0           85.0    Early           F            0          1   \n",
       "1            0           42.0    Early           F            1          1   \n",
       "2            0           54.0    Early           M            0          1   \n",
       "3            0           44.0    Early           F            1          1   \n",
       "4            0           75.0    Early           F            1          1   \n",
       "\n",
       "   county_party_res_2016_tri  Gen_2020_binary party_grp race_grp  \\\n",
       "0                        0.0                1     Other        W   \n",
       "1                        0.0                1     Other        W   \n",
       "2                        1.0                1       REP        W   \n",
       "3                        0.0                1     Other        W   \n",
       "4                        0.0                1     Other        W   \n",
       "\n",
       "  birth_reg_other  \n",
       "0       Northeast  \n",
       "1           South  \n",
       "2           South  \n",
       "3           South  \n",
       "4           South  "
      ]
     },
     "execution_count": 16,
     "metadata": {},
     "output_type": "execute_result"
    }
   ],
   "source": [
    "NC_2020_df = pd.read_csv('Data/NC_gen_2020_clean.gz',\n",
    "                         usecols=['birth_age_adj', 'Gen_2020',\n",
    "                                  'gender_code', 'drivers_lic', 'county_id', \n",
    "                                  'county_party_res_2016_tri', \n",
    "                                  'Gen_2020_binary', 'party_grp', 'race_grp',\n",
    "                                  'birth_reg_other']\n",
    "                        )\n",
    "NC_2020_df.head()"
   ]
  },
  {
   "cell_type": "code",
   "execution_count": 17,
   "metadata": {
    "ExecuteTime": {
     "end_time": "2020-12-31T20:06:51.752017Z",
     "start_time": "2020-12-31T20:04:34.624236Z"
    }
   },
   "outputs": [],
   "source": [
    "NC_2020_df.to_sql('data', disk_engine, if_exists='append',\n",
    "                  dtype={\n",
    "                     'birth_age_adj': Integer,\n",
    "                     'Gen_2020': String,\n",
    "                     'gender_code': String,\n",
    "                     'drivers_lic': Integer,\n",
    "                     'county_id': Integer,\n",
    "                     'county_party_res_2016_tri': Integer, \n",
    "                     'Gen_2020_binary': Integer,\n",
    "                     'party_grp': String,\n",
    "                     'race_grp': String,\n",
    "                     'birth_reg_other': String\n",
    "                  })"
   ]
  },
  {
   "cell_type": "code",
   "execution_count": 18,
   "metadata": {
    "ExecuteTime": {
     "end_time": "2020-12-31T20:08:19.339011Z",
     "start_time": "2020-12-31T20:07:44.964471Z"
    }
   },
   "outputs": [],
   "source": [
    "df = pd.read_sql_query('SELECT birth_age_adj, Gen_2020 '\n",
    "                       'FROM data', disk_engine)"
   ]
  },
  {
   "cell_type": "code",
   "execution_count": 20,
   "metadata": {
    "ExecuteTime": {
     "end_time": "2020-12-31T20:56:21.850241Z",
     "start_time": "2020-12-31T20:56:21.823401Z"
    }
   },
   "outputs": [],
   "source": [
    "# fig = px.histogram(df, x='birth_age_adj',\n",
    "#                    color='Gen_2020')\n",
    "# fig.show()"
   ]
  },
  {
   "cell_type": "code",
   "execution_count": null,
   "metadata": {},
   "outputs": [],
   "source": []
  },
  {
   "cell_type": "code",
   "execution_count": null,
   "metadata": {},
   "outputs": [],
   "source": []
  }
 ],
 "metadata": {
  "kernelspec": {
   "display_name": "learn-env",
   "language": "python",
   "name": "learn-env"
  },
  "language_info": {
   "codemirror_mode": {
    "name": "ipython",
    "version": 3
   },
   "file_extension": ".py",
   "mimetype": "text/x-python",
   "name": "python",
   "nbconvert_exporter": "python",
   "pygments_lexer": "ipython3",
   "version": "3.6.9"
  },
  "toc": {
   "base_numbering": 1,
   "nav_menu": {},
   "number_sections": true,
   "sideBar": true,
   "skip_h1_title": false,
   "title_cell": "Table of Contents",
   "title_sidebar": "Contents",
   "toc_cell": false,
   "toc_position": {},
   "toc_section_display": true,
   "toc_window_display": false
  }
 },
 "nbformat": 4,
 "nbformat_minor": 2
}
