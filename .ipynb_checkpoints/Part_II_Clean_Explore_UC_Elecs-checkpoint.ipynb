{
 "cells": [
  {
   "cell_type": "markdown",
   "metadata": {},
   "source": [
    "# Part II - Registered Voter Participation in Union County, NC\n",
    "\n",
    "## Clean and Explore Voter Demographics and Participation DataFrames for 2020, 2016, and 2012 General Elections"
   ]
  },
  {
   "cell_type": "markdown",
   "metadata": {},
   "source": [
    "<font size=3rem>\n",
    "    \n",
    "- **[OBTAIN](#OBTAIN)**<br>\n",
    "- **[SCRUB](#SCRUB)**<br>\n",
    "- **[EXPLORE](#EXPLORE)**<br>\n",
    "\n",
    "</font>"
   ]
  },
  {
   "cell_type": "markdown",
   "metadata": {},
   "source": [
    "# OBTAIN"
   ]
  },
  {
   "cell_type": "code",
   "execution_count": 1,
   "metadata": {
    "ExecuteTime": {
     "end_time": "2021-01-12T23:10:35.731024Z",
     "start_time": "2021-01-12T23:10:33.476002Z"
    }
   },
   "outputs": [],
   "source": [
    "## Import functions made specifically for this project\n",
    "from capstone_functions import *\n",
    "\n",
    "## Import remaining necessary libraries\n",
    "import numpy as np\n",
    "import pandas as pd\n",
    "import matplotlib.pyplot as plt\n",
    "%matplotlib inline\n",
    "import seaborn as sns\n",
    "import datetime as dt\n",
    "from tzlocal import get_localzone\n",
    "import plotly.express as px"
   ]
  },
  {
   "cell_type": "code",
   "execution_count": 2,
   "metadata": {
    "ExecuteTime": {
     "end_time": "2021-01-12T23:10:35.736430Z",
     "start_time": "2021-01-12T23:10:35.733350Z"
    }
   },
   "outputs": [],
   "source": [
    "## Set options for displaying Pandas DataFrames\n",
    "pd.options.display.max_columns = 50\n",
    "pd.options.display.max_rows = 100"
   ]
  },
  {
   "cell_type": "code",
   "execution_count": 3,
   "metadata": {
    "ExecuteTime": {
     "end_time": "2021-01-12T23:10:35.741604Z",
     "start_time": "2021-01-12T23:10:35.739274Z"
    }
   },
   "outputs": [],
   "source": [
    "## Whether or not to display all plotly figures\n",
    "show_plotly = False"
   ]
  },
  {
   "cell_type": "markdown",
   "metadata": {},
   "source": [
    "## Obtain 2020 Election"
   ]
  },
  {
   "cell_type": "code",
   "execution_count": 4,
   "metadata": {
    "ExecuteTime": {
     "end_time": "2021-01-12T23:10:36.598376Z",
     "start_time": "2021-01-12T23:10:35.744229Z"
    }
   },
   "outputs": [
    {
     "data": {
      "text/html": [
       "<div>\n",
       "<style scoped>\n",
       "    .dataframe tbody tr th:only-of-type {\n",
       "        vertical-align: middle;\n",
       "    }\n",
       "\n",
       "    .dataframe tbody tr th {\n",
       "        vertical-align: top;\n",
       "    }\n",
       "\n",
       "    .dataframe thead th {\n",
       "        text-align: right;\n",
       "    }\n",
       "</style>\n",
       "<table border=\"1\" class=\"dataframe\">\n",
       "  <thead>\n",
       "    <tr style=\"text-align: right;\">\n",
       "      <th></th>\n",
       "      <th>ncid</th>\n",
       "      <th>no_vote_his</th>\n",
       "      <th>birth_age_adj</th>\n",
       "      <th>voting_method</th>\n",
       "      <th>Gen_2020</th>\n",
       "      <th>vote_early</th>\n",
       "      <th>vote_by_mail</th>\n",
       "      <th>vote_curbside</th>\n",
       "      <th>Pri_2020</th>\n",
       "      <th>party_cd</th>\n",
       "      <th>gender_code</th>\n",
       "      <th>birth_year</th>\n",
       "      <th>registr_dt</th>\n",
       "      <th>race_code</th>\n",
       "      <th>ethnic_code</th>\n",
       "      <th>zip_code</th>\n",
       "      <th>res_street_address</th>\n",
       "      <th>res_city_desc</th>\n",
       "      <th>birth_state</th>\n",
       "      <th>drivers_lic</th>\n",
       "      <th>precinct_abbrv</th>\n",
       "      <th>vtd_abbrv</th>\n",
       "      <th>cong_dist_abbrv</th>\n",
       "      <th>super_court_abbrv</th>\n",
       "      <th>judic_dist_abbrv</th>\n",
       "      <th>nc_senate_abbrv</th>\n",
       "      <th>nc_house_abbrv</th>\n",
       "      <th>school_dist_abbrv</th>\n",
       "    </tr>\n",
       "  </thead>\n",
       "  <tbody>\n",
       "    <tr>\n",
       "      <th>0</th>\n",
       "      <td>AA100547</td>\n",
       "      <td>0</td>\n",
       "      <td>65.0</td>\n",
       "      <td>ABSENTEE ONESTOP</td>\n",
       "      <td>Early</td>\n",
       "      <td>1.0</td>\n",
       "      <td>0.0</td>\n",
       "      <td>0.0</td>\n",
       "      <td>Election Day</td>\n",
       "      <td>REP</td>\n",
       "      <td>M</td>\n",
       "      <td>1955</td>\n",
       "      <td>2014-03-31</td>\n",
       "      <td>W</td>\n",
       "      <td>UN</td>\n",
       "      <td>28079.0</td>\n",
       "      <td>5514  BEVERLY DR</td>\n",
       "      <td>INDIAN TRAIL</td>\n",
       "      <td>NC</td>\n",
       "      <td>Y</td>\n",
       "      <td>016</td>\n",
       "      <td>016</td>\n",
       "      <td>9.0</td>\n",
       "      <td>20B</td>\n",
       "      <td>20C</td>\n",
       "      <td>35.0</td>\n",
       "      <td>69.0</td>\n",
       "      <td>4.0</td>\n",
       "    </tr>\n",
       "    <tr>\n",
       "      <th>1</th>\n",
       "      <td>AA108801</td>\n",
       "      <td>0</td>\n",
       "      <td>57.0</td>\n",
       "      <td>NaN</td>\n",
       "      <td>No Vote</td>\n",
       "      <td>0.0</td>\n",
       "      <td>0.0</td>\n",
       "      <td>0.0</td>\n",
       "      <td>No Vote</td>\n",
       "      <td>UNA</td>\n",
       "      <td>M</td>\n",
       "      <td>1963</td>\n",
       "      <td>2016-11-04</td>\n",
       "      <td>W</td>\n",
       "      <td>NL</td>\n",
       "      <td>28173.0</td>\n",
       "      <td>4221  OXFORD MILL RD</td>\n",
       "      <td>WAXHAW</td>\n",
       "      <td>MA</td>\n",
       "      <td>Y</td>\n",
       "      <td>020B</td>\n",
       "      <td>020B</td>\n",
       "      <td>9.0</td>\n",
       "      <td>20B</td>\n",
       "      <td>20C</td>\n",
       "      <td>35.0</td>\n",
       "      <td>68.0</td>\n",
       "      <td>6.0</td>\n",
       "    </tr>\n",
       "    <tr>\n",
       "      <th>2</th>\n",
       "      <td>AA109481</td>\n",
       "      <td>0</td>\n",
       "      <td>47.0</td>\n",
       "      <td>ABSENTEE ONESTOP</td>\n",
       "      <td>Early</td>\n",
       "      <td>1.0</td>\n",
       "      <td>0.0</td>\n",
       "      <td>0.0</td>\n",
       "      <td>No Vote</td>\n",
       "      <td>DEM</td>\n",
       "      <td>F</td>\n",
       "      <td>1973</td>\n",
       "      <td>2020-03-19</td>\n",
       "      <td>W</td>\n",
       "      <td>NL</td>\n",
       "      <td>28173.0</td>\n",
       "      <td>1013  LYDNEY CIR</td>\n",
       "      <td>WAXHAW</td>\n",
       "      <td>MN</td>\n",
       "      <td>Y</td>\n",
       "      <td>020A</td>\n",
       "      <td>020A</td>\n",
       "      <td>9.0</td>\n",
       "      <td>20B</td>\n",
       "      <td>20C</td>\n",
       "      <td>35.0</td>\n",
       "      <td>68.0</td>\n",
       "      <td>2.0</td>\n",
       "    </tr>\n",
       "    <tr>\n",
       "      <th>3</th>\n",
       "      <td>AA112504</td>\n",
       "      <td>0</td>\n",
       "      <td>72.0</td>\n",
       "      <td>NaN</td>\n",
       "      <td>No Vote</td>\n",
       "      <td>0.0</td>\n",
       "      <td>0.0</td>\n",
       "      <td>0.0</td>\n",
       "      <td>No Vote</td>\n",
       "      <td>REP</td>\n",
       "      <td>F</td>\n",
       "      <td>1948</td>\n",
       "      <td>2012-10-26</td>\n",
       "      <td>W</td>\n",
       "      <td>NL</td>\n",
       "      <td>28112.0</td>\n",
       "      <td>4325  WOLF POND RD</td>\n",
       "      <td>MONROE</td>\n",
       "      <td>NY</td>\n",
       "      <td>Y</td>\n",
       "      <td>024</td>\n",
       "      <td>024</td>\n",
       "      <td>9.0</td>\n",
       "      <td>20B</td>\n",
       "      <td>20C</td>\n",
       "      <td>35.0</td>\n",
       "      <td>55.0</td>\n",
       "      <td>2.0</td>\n",
       "    </tr>\n",
       "    <tr>\n",
       "      <th>4</th>\n",
       "      <td>AA114763</td>\n",
       "      <td>0</td>\n",
       "      <td>53.0</td>\n",
       "      <td>ABSENTEE ONESTOP</td>\n",
       "      <td>Early</td>\n",
       "      <td>1.0</td>\n",
       "      <td>0.0</td>\n",
       "      <td>0.0</td>\n",
       "      <td>Election Day</td>\n",
       "      <td>DEM</td>\n",
       "      <td>F</td>\n",
       "      <td>1967</td>\n",
       "      <td>2012-08-13</td>\n",
       "      <td>B</td>\n",
       "      <td>UN</td>\n",
       "      <td>28104.0</td>\n",
       "      <td>4002  LAWRENCE DANIEL DR</td>\n",
       "      <td>MATTHEWS</td>\n",
       "      <td>NC</td>\n",
       "      <td>Y</td>\n",
       "      <td>037A</td>\n",
       "      <td>037A</td>\n",
       "      <td>9.0</td>\n",
       "      <td>20B</td>\n",
       "      <td>20C</td>\n",
       "      <td>35.0</td>\n",
       "      <td>69.0</td>\n",
       "      <td>5.0</td>\n",
       "    </tr>\n",
       "  </tbody>\n",
       "</table>\n",
       "</div>"
      ],
      "text/plain": [
       "       ncid  no_vote_his  birth_age_adj     voting_method Gen_2020  \\\n",
       "0  AA100547            0           65.0  ABSENTEE ONESTOP    Early   \n",
       "1  AA108801            0           57.0               NaN  No Vote   \n",
       "2  AA109481            0           47.0  ABSENTEE ONESTOP    Early   \n",
       "3  AA112504            0           72.0               NaN  No Vote   \n",
       "4  AA114763            0           53.0  ABSENTEE ONESTOP    Early   \n",
       "\n",
       "   vote_early  vote_by_mail  vote_curbside      Pri_2020 party_cd gender_code  \\\n",
       "0         1.0           0.0            0.0  Election Day      REP           M   \n",
       "1         0.0           0.0            0.0       No Vote      UNA           M   \n",
       "2         1.0           0.0            0.0       No Vote      DEM           F   \n",
       "3         0.0           0.0            0.0       No Vote      REP           F   \n",
       "4         1.0           0.0            0.0  Election Day      DEM           F   \n",
       "\n",
       "   birth_year  registr_dt race_code ethnic_code  zip_code  \\\n",
       "0        1955  2014-03-31         W          UN   28079.0   \n",
       "1        1963  2016-11-04         W          NL   28173.0   \n",
       "2        1973  2020-03-19         W          NL   28173.0   \n",
       "3        1948  2012-10-26         W          NL   28112.0   \n",
       "4        1967  2012-08-13         B          UN   28104.0   \n",
       "\n",
       "            res_street_address res_city_desc birth_state drivers_lic  \\\n",
       "0          5514  BEVERLY DR     INDIAN TRAIL          NC           Y   \n",
       "1      4221  OXFORD MILL RD           WAXHAW          MA           Y   \n",
       "2          1013  LYDNEY CIR           WAXHAW          MN           Y   \n",
       "3        4325  WOLF POND RD           MONROE          NY           Y   \n",
       "4  4002  LAWRENCE DANIEL DR         MATTHEWS          NC           Y   \n",
       "\n",
       "  precinct_abbrv vtd_abbrv  cong_dist_abbrv super_court_abbrv  \\\n",
       "0            016       016              9.0               20B   \n",
       "1           020B      020B              9.0               20B   \n",
       "2           020A      020A              9.0               20B   \n",
       "3            024       024              9.0               20B   \n",
       "4           037A      037A              9.0               20B   \n",
       "\n",
       "  judic_dist_abbrv  nc_senate_abbrv  nc_house_abbrv  school_dist_abbrv  \n",
       "0              20C             35.0            69.0                4.0  \n",
       "1              20C             35.0            68.0                6.0  \n",
       "2              20C             35.0            68.0                2.0  \n",
       "3              20C             35.0            55.0                2.0  \n",
       "4              20C             35.0            69.0                5.0  "
      ]
     },
     "execution_count": 4,
     "metadata": {},
     "output_type": "execute_result"
    }
   ],
   "source": [
    "## Import and preview dataset\n",
    "elec_2020_df = pd.read_csv('Data/UC_gen_2020.gz',\n",
    "                     dtype={'voting_method': str})\n",
    "elec_2020_df.head()"
   ]
  },
  {
   "cell_type": "markdown",
   "metadata": {},
   "source": [
    "## Obtain 2016 Election"
   ]
  },
  {
   "cell_type": "code",
   "execution_count": 5,
   "metadata": {
    "ExecuteTime": {
     "end_time": "2021-01-12T23:10:37.230898Z",
     "start_time": "2021-01-12T23:10:36.600241Z"
    }
   },
   "outputs": [
    {
     "data": {
      "text/html": [
       "<div>\n",
       "<style scoped>\n",
       "    .dataframe tbody tr th:only-of-type {\n",
       "        vertical-align: middle;\n",
       "    }\n",
       "\n",
       "    .dataframe tbody tr th {\n",
       "        vertical-align: top;\n",
       "    }\n",
       "\n",
       "    .dataframe thead th {\n",
       "        text-align: right;\n",
       "    }\n",
       "</style>\n",
       "<table border=\"1\" class=\"dataframe\">\n",
       "  <thead>\n",
       "    <tr style=\"text-align: right;\">\n",
       "      <th></th>\n",
       "      <th>ncid</th>\n",
       "      <th>no_vote_his</th>\n",
       "      <th>birth_age_adj</th>\n",
       "      <th>voting_method</th>\n",
       "      <th>Gen_2016</th>\n",
       "      <th>vote_early</th>\n",
       "      <th>vote_by_mail</th>\n",
       "      <th>vote_curbside</th>\n",
       "      <th>Pri_2016</th>\n",
       "      <th>party_cd</th>\n",
       "      <th>gender_code</th>\n",
       "      <th>birth_year</th>\n",
       "      <th>registr_dt</th>\n",
       "      <th>race_code</th>\n",
       "      <th>ethnic_code</th>\n",
       "      <th>zip_code</th>\n",
       "      <th>res_street_address</th>\n",
       "      <th>res_city_desc</th>\n",
       "      <th>birth_state</th>\n",
       "      <th>drivers_lic</th>\n",
       "      <th>precinct_abbrv</th>\n",
       "      <th>vtd_abbrv</th>\n",
       "      <th>cong_dist_abbrv</th>\n",
       "      <th>super_court_abbrv</th>\n",
       "      <th>judic_dist_abbrv</th>\n",
       "      <th>nc_senate_abbrv</th>\n",
       "      <th>nc_house_abbrv</th>\n",
       "      <th>school_dist_abbrv</th>\n",
       "    </tr>\n",
       "  </thead>\n",
       "  <tbody>\n",
       "    <tr>\n",
       "      <th>0</th>\n",
       "      <td>AA100547</td>\n",
       "      <td>0</td>\n",
       "      <td>61.0</td>\n",
       "      <td>ABSENTEE ONESTOP</td>\n",
       "      <td>Early</td>\n",
       "      <td>1.0</td>\n",
       "      <td>0.0</td>\n",
       "      <td>0.0</td>\n",
       "      <td>No Vote</td>\n",
       "      <td>REP</td>\n",
       "      <td>M</td>\n",
       "      <td>1955</td>\n",
       "      <td>2014-03-31</td>\n",
       "      <td>W</td>\n",
       "      <td>UN</td>\n",
       "      <td>28079.0</td>\n",
       "      <td>5514  BEVERLY DR</td>\n",
       "      <td>INDIAN TRAIL</td>\n",
       "      <td>NC</td>\n",
       "      <td>Y</td>\n",
       "      <td>016</td>\n",
       "      <td>016</td>\n",
       "      <td>9.0</td>\n",
       "      <td>20B</td>\n",
       "      <td>20C</td>\n",
       "      <td>35.0</td>\n",
       "      <td>69.0</td>\n",
       "      <td>4.0</td>\n",
       "    </tr>\n",
       "    <tr>\n",
       "      <th>1</th>\n",
       "      <td>AA108801</td>\n",
       "      <td>0</td>\n",
       "      <td>53.0</td>\n",
       "      <td>ABSENTEE ONESTOP</td>\n",
       "      <td>Early</td>\n",
       "      <td>1.0</td>\n",
       "      <td>0.0</td>\n",
       "      <td>0.0</td>\n",
       "      <td>No Vote</td>\n",
       "      <td>UNA</td>\n",
       "      <td>M</td>\n",
       "      <td>1963</td>\n",
       "      <td>2016-11-04</td>\n",
       "      <td>W</td>\n",
       "      <td>NL</td>\n",
       "      <td>28173.0</td>\n",
       "      <td>4221  OXFORD MILL RD</td>\n",
       "      <td>WAXHAW</td>\n",
       "      <td>MA</td>\n",
       "      <td>Y</td>\n",
       "      <td>020B</td>\n",
       "      <td>020B</td>\n",
       "      <td>9.0</td>\n",
       "      <td>20B</td>\n",
       "      <td>20C</td>\n",
       "      <td>35.0</td>\n",
       "      <td>68.0</td>\n",
       "      <td>6.0</td>\n",
       "    </tr>\n",
       "    <tr>\n",
       "      <th>2</th>\n",
       "      <td>AA112504</td>\n",
       "      <td>0</td>\n",
       "      <td>68.0</td>\n",
       "      <td>ABSENTEE ONESTOP</td>\n",
       "      <td>Early</td>\n",
       "      <td>1.0</td>\n",
       "      <td>0.0</td>\n",
       "      <td>0.0</td>\n",
       "      <td>No Vote</td>\n",
       "      <td>REP</td>\n",
       "      <td>F</td>\n",
       "      <td>1948</td>\n",
       "      <td>2012-10-26</td>\n",
       "      <td>W</td>\n",
       "      <td>NL</td>\n",
       "      <td>28112.0</td>\n",
       "      <td>4325  WOLF POND RD</td>\n",
       "      <td>MONROE</td>\n",
       "      <td>NY</td>\n",
       "      <td>Y</td>\n",
       "      <td>024</td>\n",
       "      <td>024</td>\n",
       "      <td>9.0</td>\n",
       "      <td>20B</td>\n",
       "      <td>20C</td>\n",
       "      <td>35.0</td>\n",
       "      <td>55.0</td>\n",
       "      <td>2.0</td>\n",
       "    </tr>\n",
       "    <tr>\n",
       "      <th>3</th>\n",
       "      <td>AA114763</td>\n",
       "      <td>0</td>\n",
       "      <td>49.0</td>\n",
       "      <td>ABSENTEE ONESTOP</td>\n",
       "      <td>Early</td>\n",
       "      <td>1.0</td>\n",
       "      <td>0.0</td>\n",
       "      <td>0.0</td>\n",
       "      <td>Election Day</td>\n",
       "      <td>DEM</td>\n",
       "      <td>F</td>\n",
       "      <td>1967</td>\n",
       "      <td>2012-08-13</td>\n",
       "      <td>B</td>\n",
       "      <td>UN</td>\n",
       "      <td>28104.0</td>\n",
       "      <td>4002  LAWRENCE DANIEL DR</td>\n",
       "      <td>MATTHEWS</td>\n",
       "      <td>NC</td>\n",
       "      <td>Y</td>\n",
       "      <td>037A</td>\n",
       "      <td>037A</td>\n",
       "      <td>9.0</td>\n",
       "      <td>20B</td>\n",
       "      <td>20C</td>\n",
       "      <td>35.0</td>\n",
       "      <td>69.0</td>\n",
       "      <td>5.0</td>\n",
       "    </tr>\n",
       "    <tr>\n",
       "      <th>4</th>\n",
       "      <td>AA118202</td>\n",
       "      <td>0</td>\n",
       "      <td>44.0</td>\n",
       "      <td>ABSENTEE ONESTOP</td>\n",
       "      <td>Early</td>\n",
       "      <td>1.0</td>\n",
       "      <td>0.0</td>\n",
       "      <td>0.0</td>\n",
       "      <td>No Vote</td>\n",
       "      <td>DEM</td>\n",
       "      <td>M</td>\n",
       "      <td>1972</td>\n",
       "      <td>2006-04-12</td>\n",
       "      <td>W</td>\n",
       "      <td>UN</td>\n",
       "      <td>28079.0</td>\n",
       "      <td>7006  CONIFER CIR</td>\n",
       "      <td>INDIAN TRAIL</td>\n",
       "      <td>CT</td>\n",
       "      <td>Y</td>\n",
       "      <td>038B</td>\n",
       "      <td>038B</td>\n",
       "      <td>9.0</td>\n",
       "      <td>20B</td>\n",
       "      <td>20C</td>\n",
       "      <td>35.0</td>\n",
       "      <td>69.0</td>\n",
       "      <td>4.0</td>\n",
       "    </tr>\n",
       "  </tbody>\n",
       "</table>\n",
       "</div>"
      ],
      "text/plain": [
       "       ncid  no_vote_his  birth_age_adj     voting_method Gen_2016  \\\n",
       "0  AA100547            0           61.0  ABSENTEE ONESTOP    Early   \n",
       "1  AA108801            0           53.0  ABSENTEE ONESTOP    Early   \n",
       "2  AA112504            0           68.0  ABSENTEE ONESTOP    Early   \n",
       "3  AA114763            0           49.0  ABSENTEE ONESTOP    Early   \n",
       "4  AA118202            0           44.0  ABSENTEE ONESTOP    Early   \n",
       "\n",
       "   vote_early  vote_by_mail  vote_curbside      Pri_2016 party_cd gender_code  \\\n",
       "0         1.0           0.0            0.0       No Vote      REP           M   \n",
       "1         1.0           0.0            0.0       No Vote      UNA           M   \n",
       "2         1.0           0.0            0.0       No Vote      REP           F   \n",
       "3         1.0           0.0            0.0  Election Day      DEM           F   \n",
       "4         1.0           0.0            0.0       No Vote      DEM           M   \n",
       "\n",
       "   birth_year  registr_dt race_code ethnic_code  zip_code  \\\n",
       "0        1955  2014-03-31         W          UN   28079.0   \n",
       "1        1963  2016-11-04         W          NL   28173.0   \n",
       "2        1948  2012-10-26         W          NL   28112.0   \n",
       "3        1967  2012-08-13         B          UN   28104.0   \n",
       "4        1972  2006-04-12         W          UN   28079.0   \n",
       "\n",
       "            res_street_address res_city_desc birth_state drivers_lic  \\\n",
       "0          5514  BEVERLY DR     INDIAN TRAIL          NC           Y   \n",
       "1      4221  OXFORD MILL RD           WAXHAW          MA           Y   \n",
       "2        4325  WOLF POND RD           MONROE          NY           Y   \n",
       "3  4002  LAWRENCE DANIEL DR         MATTHEWS          NC           Y   \n",
       "4         7006  CONIFER CIR     INDIAN TRAIL          CT           Y   \n",
       "\n",
       "  precinct_abbrv vtd_abbrv  cong_dist_abbrv super_court_abbrv  \\\n",
       "0            016       016              9.0               20B   \n",
       "1           020B      020B              9.0               20B   \n",
       "2            024       024              9.0               20B   \n",
       "3           037A      037A              9.0               20B   \n",
       "4           038B      038B              9.0               20B   \n",
       "\n",
       "  judic_dist_abbrv  nc_senate_abbrv  nc_house_abbrv  school_dist_abbrv  \n",
       "0              20C             35.0            69.0                4.0  \n",
       "1              20C             35.0            68.0                6.0  \n",
       "2              20C             35.0            55.0                2.0  \n",
       "3              20C             35.0            69.0                5.0  \n",
       "4              20C             35.0            69.0                4.0  "
      ]
     },
     "execution_count": 5,
     "metadata": {},
     "output_type": "execute_result"
    }
   ],
   "source": [
    "## Import and preview dataset\n",
    "elec_2016_df = pd.read_csv('Data/UC_gen_2016.gz',\n",
    "                     dtype={'voting_method': str})\n",
    "elec_2016_df.head()"
   ]
  },
  {
   "cell_type": "markdown",
   "metadata": {},
   "source": [
    "## Obtain 2012 Election"
   ]
  },
  {
   "cell_type": "code",
   "execution_count": 6,
   "metadata": {
    "ExecuteTime": {
     "end_time": "2021-01-12T23:10:37.703579Z",
     "start_time": "2021-01-12T23:10:37.233034Z"
    }
   },
   "outputs": [
    {
     "data": {
      "text/html": [
       "<div>\n",
       "<style scoped>\n",
       "    .dataframe tbody tr th:only-of-type {\n",
       "        vertical-align: middle;\n",
       "    }\n",
       "\n",
       "    .dataframe tbody tr th {\n",
       "        vertical-align: top;\n",
       "    }\n",
       "\n",
       "    .dataframe thead th {\n",
       "        text-align: right;\n",
       "    }\n",
       "</style>\n",
       "<table border=\"1\" class=\"dataframe\">\n",
       "  <thead>\n",
       "    <tr style=\"text-align: right;\">\n",
       "      <th></th>\n",
       "      <th>ncid</th>\n",
       "      <th>no_vote_his</th>\n",
       "      <th>birth_age_adj</th>\n",
       "      <th>voting_method</th>\n",
       "      <th>Gen_2012</th>\n",
       "      <th>vote_early</th>\n",
       "      <th>vote_by_mail</th>\n",
       "      <th>vote_curbside</th>\n",
       "      <th>Pri_2012</th>\n",
       "      <th>party_cd</th>\n",
       "      <th>gender_code</th>\n",
       "      <th>birth_year</th>\n",
       "      <th>registr_dt</th>\n",
       "      <th>race_code</th>\n",
       "      <th>ethnic_code</th>\n",
       "      <th>zip_code</th>\n",
       "      <th>res_street_address</th>\n",
       "      <th>res_city_desc</th>\n",
       "      <th>birth_state</th>\n",
       "      <th>drivers_lic</th>\n",
       "      <th>precinct_abbrv</th>\n",
       "      <th>vtd_abbrv</th>\n",
       "      <th>cong_dist_abbrv</th>\n",
       "      <th>super_court_abbrv</th>\n",
       "      <th>judic_dist_abbrv</th>\n",
       "      <th>nc_senate_abbrv</th>\n",
       "      <th>nc_house_abbrv</th>\n",
       "      <th>school_dist_abbrv</th>\n",
       "    </tr>\n",
       "  </thead>\n",
       "  <tbody>\n",
       "    <tr>\n",
       "      <th>0</th>\n",
       "      <td>AA109481</td>\n",
       "      <td>0</td>\n",
       "      <td>39.0</td>\n",
       "      <td>ABSENTEE ONESTOP</td>\n",
       "      <td>Early</td>\n",
       "      <td>1.0</td>\n",
       "      <td>0.0</td>\n",
       "      <td>0.0</td>\n",
       "      <td>Election Day</td>\n",
       "      <td>DEM</td>\n",
       "      <td>F</td>\n",
       "      <td>1973</td>\n",
       "      <td>2020-03-19</td>\n",
       "      <td>W</td>\n",
       "      <td>NL</td>\n",
       "      <td>28173.0</td>\n",
       "      <td>1013  LYDNEY CIR</td>\n",
       "      <td>WAXHAW</td>\n",
       "      <td>MN</td>\n",
       "      <td>Y</td>\n",
       "      <td>020A</td>\n",
       "      <td>020A</td>\n",
       "      <td>9.0</td>\n",
       "      <td>20B</td>\n",
       "      <td>20C</td>\n",
       "      <td>35.0</td>\n",
       "      <td>68.0</td>\n",
       "      <td>2.0</td>\n",
       "    </tr>\n",
       "    <tr>\n",
       "      <th>1</th>\n",
       "      <td>AA112504</td>\n",
       "      <td>0</td>\n",
       "      <td>64.0</td>\n",
       "      <td>ABSENTEE ONESTOP</td>\n",
       "      <td>Early</td>\n",
       "      <td>1.0</td>\n",
       "      <td>0.0</td>\n",
       "      <td>0.0</td>\n",
       "      <td>No Vote</td>\n",
       "      <td>REP</td>\n",
       "      <td>F</td>\n",
       "      <td>1948</td>\n",
       "      <td>2012-10-26</td>\n",
       "      <td>W</td>\n",
       "      <td>NL</td>\n",
       "      <td>28112.0</td>\n",
       "      <td>4325  WOLF POND RD</td>\n",
       "      <td>MONROE</td>\n",
       "      <td>NY</td>\n",
       "      <td>Y</td>\n",
       "      <td>024</td>\n",
       "      <td>024</td>\n",
       "      <td>9.0</td>\n",
       "      <td>20B</td>\n",
       "      <td>20C</td>\n",
       "      <td>35.0</td>\n",
       "      <td>55.0</td>\n",
       "      <td>2.0</td>\n",
       "    </tr>\n",
       "    <tr>\n",
       "      <th>2</th>\n",
       "      <td>AA114763</td>\n",
       "      <td>0</td>\n",
       "      <td>45.0</td>\n",
       "      <td>ABSENTEE ONESTOP</td>\n",
       "      <td>Early</td>\n",
       "      <td>1.0</td>\n",
       "      <td>0.0</td>\n",
       "      <td>0.0</td>\n",
       "      <td>No Vote</td>\n",
       "      <td>DEM</td>\n",
       "      <td>F</td>\n",
       "      <td>1967</td>\n",
       "      <td>2012-08-13</td>\n",
       "      <td>B</td>\n",
       "      <td>UN</td>\n",
       "      <td>28104.0</td>\n",
       "      <td>4002  LAWRENCE DANIEL DR</td>\n",
       "      <td>MATTHEWS</td>\n",
       "      <td>NC</td>\n",
       "      <td>Y</td>\n",
       "      <td>037A</td>\n",
       "      <td>037A</td>\n",
       "      <td>9.0</td>\n",
       "      <td>20B</td>\n",
       "      <td>20C</td>\n",
       "      <td>35.0</td>\n",
       "      <td>69.0</td>\n",
       "      <td>5.0</td>\n",
       "    </tr>\n",
       "    <tr>\n",
       "      <th>3</th>\n",
       "      <td>AA116927</td>\n",
       "      <td>0</td>\n",
       "      <td>50.0</td>\n",
       "      <td>IN-PERSON</td>\n",
       "      <td>Election Day</td>\n",
       "      <td>0.0</td>\n",
       "      <td>0.0</td>\n",
       "      <td>0.0</td>\n",
       "      <td>Election Day</td>\n",
       "      <td>REP</td>\n",
       "      <td>M</td>\n",
       "      <td>1962</td>\n",
       "      <td>2018-08-06</td>\n",
       "      <td>W</td>\n",
       "      <td>NL</td>\n",
       "      <td>28173.0</td>\n",
       "      <td>3513  MCPHERSON ST</td>\n",
       "      <td>WAXHAW</td>\n",
       "      <td>NY</td>\n",
       "      <td>Y</td>\n",
       "      <td>028D</td>\n",
       "      <td>028</td>\n",
       "      <td>9.0</td>\n",
       "      <td>20B</td>\n",
       "      <td>20C</td>\n",
       "      <td>35.0</td>\n",
       "      <td>68.0</td>\n",
       "      <td>6.0</td>\n",
       "    </tr>\n",
       "    <tr>\n",
       "      <th>4</th>\n",
       "      <td>AA118202</td>\n",
       "      <td>0</td>\n",
       "      <td>40.0</td>\n",
       "      <td>IN-PERSON</td>\n",
       "      <td>Election Day</td>\n",
       "      <td>0.0</td>\n",
       "      <td>0.0</td>\n",
       "      <td>0.0</td>\n",
       "      <td>No Vote</td>\n",
       "      <td>DEM</td>\n",
       "      <td>M</td>\n",
       "      <td>1972</td>\n",
       "      <td>2006-04-12</td>\n",
       "      <td>W</td>\n",
       "      <td>UN</td>\n",
       "      <td>28079.0</td>\n",
       "      <td>7006  CONIFER CIR</td>\n",
       "      <td>INDIAN TRAIL</td>\n",
       "      <td>CT</td>\n",
       "      <td>Y</td>\n",
       "      <td>038B</td>\n",
       "      <td>038B</td>\n",
       "      <td>9.0</td>\n",
       "      <td>20B</td>\n",
       "      <td>20C</td>\n",
       "      <td>35.0</td>\n",
       "      <td>69.0</td>\n",
       "      <td>4.0</td>\n",
       "    </tr>\n",
       "  </tbody>\n",
       "</table>\n",
       "</div>"
      ],
      "text/plain": [
       "       ncid  no_vote_his  birth_age_adj     voting_method      Gen_2012  \\\n",
       "0  AA109481            0           39.0  ABSENTEE ONESTOP         Early   \n",
       "1  AA112504            0           64.0  ABSENTEE ONESTOP         Early   \n",
       "2  AA114763            0           45.0  ABSENTEE ONESTOP         Early   \n",
       "3  AA116927            0           50.0         IN-PERSON  Election Day   \n",
       "4  AA118202            0           40.0         IN-PERSON  Election Day   \n",
       "\n",
       "   vote_early  vote_by_mail  vote_curbside      Pri_2012 party_cd gender_code  \\\n",
       "0         1.0           0.0            0.0  Election Day      DEM           F   \n",
       "1         1.0           0.0            0.0       No Vote      REP           F   \n",
       "2         1.0           0.0            0.0       No Vote      DEM           F   \n",
       "3         0.0           0.0            0.0  Election Day      REP           M   \n",
       "4         0.0           0.0            0.0       No Vote      DEM           M   \n",
       "\n",
       "   birth_year  registr_dt race_code ethnic_code  zip_code  \\\n",
       "0        1973  2020-03-19         W          NL   28173.0   \n",
       "1        1948  2012-10-26         W          NL   28112.0   \n",
       "2        1967  2012-08-13         B          UN   28104.0   \n",
       "3        1962  2018-08-06         W          NL   28173.0   \n",
       "4        1972  2006-04-12         W          UN   28079.0   \n",
       "\n",
       "            res_street_address res_city_desc birth_state drivers_lic  \\\n",
       "0          1013  LYDNEY CIR           WAXHAW          MN           Y   \n",
       "1        4325  WOLF POND RD           MONROE          NY           Y   \n",
       "2  4002  LAWRENCE DANIEL DR         MATTHEWS          NC           Y   \n",
       "3        3513  MCPHERSON ST           WAXHAW          NY           Y   \n",
       "4         7006  CONIFER CIR     INDIAN TRAIL          CT           Y   \n",
       "\n",
       "  precinct_abbrv vtd_abbrv  cong_dist_abbrv super_court_abbrv  \\\n",
       "0           020A      020A              9.0               20B   \n",
       "1            024       024              9.0               20B   \n",
       "2           037A      037A              9.0               20B   \n",
       "3           028D       028              9.0               20B   \n",
       "4           038B      038B              9.0               20B   \n",
       "\n",
       "  judic_dist_abbrv  nc_senate_abbrv  nc_house_abbrv  school_dist_abbrv  \n",
       "0              20C             35.0            68.0                2.0  \n",
       "1              20C             35.0            55.0                2.0  \n",
       "2              20C             35.0            69.0                5.0  \n",
       "3              20C             35.0            68.0                6.0  \n",
       "4              20C             35.0            69.0                4.0  "
      ]
     },
     "execution_count": 6,
     "metadata": {},
     "output_type": "execute_result"
    }
   ],
   "source": [
    "## Import and preview dataset\n",
    "elec_2012_df = pd.read_csv('Data/UC_gen_2012.gz',\n",
    "                     dtype={'voting_method': str})\n",
    "elec_2012_df.head()"
   ]
  },
  {
   "cell_type": "markdown",
   "metadata": {
    "ExecuteTime": {
     "end_time": "2021-01-12T15:30:49.850420Z",
     "start_time": "2021-01-12T15:30:49.847378Z"
    }
   },
   "source": [
    "# SCRUB\n",
    "\n",
    "## Scrub 2020 Election"
   ]
  },
  {
   "cell_type": "code",
   "execution_count": 7,
   "metadata": {
    "ExecuteTime": {
     "end_time": "2021-01-12T23:10:37.814788Z",
     "start_time": "2021-01-12T23:10:37.705976Z"
    },
    "scrolled": false
   },
   "outputs": [
    {
     "name": "stdout",
     "output_type": "stream",
     "text": [
      "<class 'pandas.core.frame.DataFrame'>\n",
      "RangeIndex: 168070 entries, 0 to 168069\n",
      "Data columns (total 28 columns):\n",
      "ncid                  168070 non-null object\n",
      "no_vote_his           168070 non-null int64\n",
      "birth_age_adj         168070 non-null float64\n",
      "voting_method         131483 non-null object\n",
      "Gen_2020              168070 non-null object\n",
      "vote_early            168070 non-null float64\n",
      "vote_by_mail          168070 non-null float64\n",
      "vote_curbside         168070 non-null float64\n",
      "Pri_2020              168070 non-null object\n",
      "party_cd              168070 non-null object\n",
      "gender_code           168070 non-null object\n",
      "birth_year            168070 non-null int64\n",
      "registr_dt            168070 non-null object\n",
      "race_code             168070 non-null object\n",
      "ethnic_code           168070 non-null object\n",
      "zip_code              168067 non-null float64\n",
      "res_street_address    168070 non-null object\n",
      "res_city_desc         168067 non-null object\n",
      "birth_state           127298 non-null object\n",
      "drivers_lic           168070 non-null object\n",
      "precinct_abbrv        168070 non-null object\n",
      "vtd_abbrv             168070 non-null object\n",
      "cong_dist_abbrv       168070 non-null float64\n",
      "super_court_abbrv     168070 non-null object\n",
      "judic_dist_abbrv      168070 non-null object\n",
      "nc_senate_abbrv       168070 non-null float64\n",
      "nc_house_abbrv        168070 non-null float64\n",
      "school_dist_abbrv     168070 non-null float64\n",
      "dtypes: float64(9), int64(2), object(17)\n",
      "memory usage: 35.9+ MB\n"
     ]
    }
   ],
   "source": [
    "## Check df metadata\n",
    "elec_2020_df.info()"
   ]
  },
  {
   "cell_type": "markdown",
   "metadata": {},
   "source": [
    "> Columns with missing values:\n",
    "* `voting_method`: missing values are all cases where the individual did not cast a vote in this election\n",
    "* `zip_code`: investigate filling in the 3 missing values based on provided address\n",
    "* `res_city_desc`: same as for `zip_code`\n",
    "* `birth_state`: with so many values missing, probably want to make 'missing' its own category for this feature\n",
    "\n",
    "> Column dtypes:\n",
    "* `registr_dt`: recast as datetime\n",
    "* `zip_code`: likely more useful to treat as a categorical variable rather than as numeric\n",
    "* `drivers_lic`: change from Y or N to 1 or 0"
   ]
  },
  {
   "cell_type": "code",
   "execution_count": 8,
   "metadata": {
    "ExecuteTime": {
     "end_time": "2021-01-12T23:10:37.913767Z",
     "start_time": "2021-01-12T23:10:37.818497Z"
    }
   },
   "outputs": [
    {
     "data": {
      "text/html": [
       "<div>\n",
       "<style scoped>\n",
       "    .dataframe tbody tr th:only-of-type {\n",
       "        vertical-align: middle;\n",
       "    }\n",
       "\n",
       "    .dataframe tbody tr th {\n",
       "        vertical-align: top;\n",
       "    }\n",
       "\n",
       "    .dataframe thead th {\n",
       "        text-align: right;\n",
       "    }\n",
       "</style>\n",
       "<table border=\"1\" class=\"dataframe\">\n",
       "  <thead>\n",
       "    <tr style=\"text-align: right;\">\n",
       "      <th></th>\n",
       "      <th>ncid</th>\n",
       "      <th>no_vote_his</th>\n",
       "      <th>birth_age_adj</th>\n",
       "      <th>voting_method</th>\n",
       "      <th>Gen_2020</th>\n",
       "      <th>vote_early</th>\n",
       "      <th>vote_by_mail</th>\n",
       "      <th>vote_curbside</th>\n",
       "      <th>Pri_2020</th>\n",
       "      <th>party_cd</th>\n",
       "      <th>gender_code</th>\n",
       "      <th>birth_year</th>\n",
       "      <th>registr_dt</th>\n",
       "      <th>race_code</th>\n",
       "      <th>ethnic_code</th>\n",
       "      <th>zip_code</th>\n",
       "      <th>res_street_address</th>\n",
       "      <th>res_city_desc</th>\n",
       "      <th>birth_state</th>\n",
       "      <th>drivers_lic</th>\n",
       "      <th>precinct_abbrv</th>\n",
       "      <th>vtd_abbrv</th>\n",
       "      <th>cong_dist_abbrv</th>\n",
       "      <th>super_court_abbrv</th>\n",
       "      <th>judic_dist_abbrv</th>\n",
       "      <th>nc_senate_abbrv</th>\n",
       "      <th>nc_house_abbrv</th>\n",
       "      <th>school_dist_abbrv</th>\n",
       "      <th>drivers_lic_bin</th>\n",
       "    </tr>\n",
       "  </thead>\n",
       "  <tbody>\n",
       "    <tr>\n",
       "      <th>66460</th>\n",
       "      <td>EF173508</td>\n",
       "      <td>0</td>\n",
       "      <td>26.0</td>\n",
       "      <td>ABSENTEE ONESTOP</td>\n",
       "      <td>Early</td>\n",
       "      <td>1.0</td>\n",
       "      <td>0.0</td>\n",
       "      <td>0.0</td>\n",
       "      <td>Early</td>\n",
       "      <td>REP</td>\n",
       "      <td>M</td>\n",
       "      <td>1994</td>\n",
       "      <td>2016-09-26</td>\n",
       "      <td>W</td>\n",
       "      <td>UN</td>\n",
       "      <td>NaN</td>\n",
       "      <td>CONFIDENTIAL</td>\n",
       "      <td>NaN</td>\n",
       "      <td>NC</td>\n",
       "      <td>Y</td>\n",
       "      <td>017A</td>\n",
       "      <td>017A</td>\n",
       "      <td>9.0</td>\n",
       "      <td>20B</td>\n",
       "      <td>20C</td>\n",
       "      <td>35.0</td>\n",
       "      <td>68.0</td>\n",
       "      <td>3.0</td>\n",
       "      <td>1</td>\n",
       "    </tr>\n",
       "    <tr>\n",
       "      <th>84648</th>\n",
       "      <td>EF203192</td>\n",
       "      <td>0</td>\n",
       "      <td>59.0</td>\n",
       "      <td>ABSENTEE ONESTOP</td>\n",
       "      <td>Early</td>\n",
       "      <td>1.0</td>\n",
       "      <td>0.0</td>\n",
       "      <td>0.0</td>\n",
       "      <td>Election Day</td>\n",
       "      <td>UNA</td>\n",
       "      <td>F</td>\n",
       "      <td>1961</td>\n",
       "      <td>2016-05-25</td>\n",
       "      <td>W</td>\n",
       "      <td>NL</td>\n",
       "      <td>NaN</td>\n",
       "      <td>CONFIDENTIAL</td>\n",
       "      <td>NaN</td>\n",
       "      <td>PA</td>\n",
       "      <td>Y</td>\n",
       "      <td>029C</td>\n",
       "      <td>029C</td>\n",
       "      <td>9.0</td>\n",
       "      <td>20B</td>\n",
       "      <td>20C</td>\n",
       "      <td>35.0</td>\n",
       "      <td>68.0</td>\n",
       "      <td>5.0</td>\n",
       "      <td>1</td>\n",
       "    </tr>\n",
       "    <tr>\n",
       "      <th>123136</th>\n",
       "      <td>EF35182</td>\n",
       "      <td>0</td>\n",
       "      <td>62.0</td>\n",
       "      <td>No Vote</td>\n",
       "      <td>No Vote</td>\n",
       "      <td>0.0</td>\n",
       "      <td>0.0</td>\n",
       "      <td>0.0</td>\n",
       "      <td>No Vote</td>\n",
       "      <td>REP</td>\n",
       "      <td>F</td>\n",
       "      <td>1958</td>\n",
       "      <td>1991-03-15</td>\n",
       "      <td>W</td>\n",
       "      <td>NL</td>\n",
       "      <td>NaN</td>\n",
       "      <td>CONFIDENTIAL</td>\n",
       "      <td>NaN</td>\n",
       "      <td>NC</td>\n",
       "      <td>Y</td>\n",
       "      <td>030</td>\n",
       "      <td>030</td>\n",
       "      <td>9.0</td>\n",
       "      <td>20B</td>\n",
       "      <td>20C</td>\n",
       "      <td>35.0</td>\n",
       "      <td>69.0</td>\n",
       "      <td>1.0</td>\n",
       "      <td>1</td>\n",
       "    </tr>\n",
       "  </tbody>\n",
       "</table>\n",
       "</div>"
      ],
      "text/plain": [
       "            ncid  no_vote_his  birth_age_adj     voting_method Gen_2020  \\\n",
       "66460   EF173508            0           26.0  ABSENTEE ONESTOP    Early   \n",
       "84648   EF203192            0           59.0  ABSENTEE ONESTOP    Early   \n",
       "123136   EF35182            0           62.0           No Vote  No Vote   \n",
       "\n",
       "        vote_early  vote_by_mail  vote_curbside      Pri_2020 party_cd  \\\n",
       "66460          1.0           0.0            0.0         Early      REP   \n",
       "84648          1.0           0.0            0.0  Election Day      UNA   \n",
       "123136         0.0           0.0            0.0       No Vote      REP   \n",
       "\n",
       "       gender_code  birth_year registr_dt race_code ethnic_code zip_code  \\\n",
       "66460            M        1994 2016-09-26         W          UN      NaN   \n",
       "84648            F        1961 2016-05-25         W          NL      NaN   \n",
       "123136           F        1958 1991-03-15         W          NL      NaN   \n",
       "\n",
       "       res_street_address res_city_desc birth_state drivers_lic  \\\n",
       "66460        CONFIDENTIAL           NaN          NC           Y   \n",
       "84648        CONFIDENTIAL           NaN          PA           Y   \n",
       "123136       CONFIDENTIAL           NaN          NC           Y   \n",
       "\n",
       "       precinct_abbrv vtd_abbrv  cong_dist_abbrv super_court_abbrv  \\\n",
       "66460            017A      017A              9.0               20B   \n",
       "84648            029C      029C              9.0               20B   \n",
       "123136            030       030              9.0               20B   \n",
       "\n",
       "       judic_dist_abbrv  nc_senate_abbrv  nc_house_abbrv  school_dist_abbrv  \\\n",
       "66460               20C             35.0            68.0                3.0   \n",
       "84648               20C             35.0            68.0                5.0   \n",
       "123136              20C             35.0            69.0                1.0   \n",
       "\n",
       "        drivers_lic_bin  \n",
       "66460                 1  \n",
       "84648                 1  \n",
       "123136                1  "
      ]
     },
     "execution_count": 8,
     "metadata": {},
     "output_type": "execute_result"
    }
   ],
   "source": [
    "## Change drivers_lic to binary indicator\n",
    "elec_2020_df['drivers_lic_bin'] = np.where(elec_2020_df['drivers_lic']=='Y', 1, 0)\n",
    "\n",
    "## Recast zip_code as category\n",
    "elec_2020_df['zip_code'] = elec_2020_df['zip_code'].astype('category')\n",
    "\n",
    "## Recast registr_dt as datetime variable\n",
    "elec_2020_df['registr_dt'] = pd.to_datetime(elec_2020_df['registr_dt'])\n",
    "\n",
    "## Fill null values in voting_method with 'No Vote'\n",
    "elec_2020_df['voting_method'].fillna(value='No Vote', inplace=True)\n",
    "\n",
    "## Fill null values in birth_state with 'Missing'\n",
    "elec_2020_df['birth_state'].fillna(value='Missing', inplace=True)\n",
    "\n",
    "## Check records with missing zip_code\n",
    "elec_2020_df.loc[elec_2020_df['zip_code'].isna()]"
   ]
  },
  {
   "cell_type": "markdown",
   "metadata": {},
   "source": [
    "> These three records missing `zip_code` also correspond to the three records missing `res_city_desc`, most likely because the residential address is confidential for these individuals. These records will be lumped under the 'Other' category for the less frequently appearing cities created to avoid issues with high cardinality and rare labels."
   ]
  },
  {
   "cell_type": "markdown",
   "metadata": {},
   "source": [
    "## Scrub 2016 Election"
   ]
  },
  {
   "cell_type": "code",
   "execution_count": 9,
   "metadata": {
    "ExecuteTime": {
     "end_time": "2021-01-12T23:10:37.996663Z",
     "start_time": "2021-01-12T23:10:37.916751Z"
    }
   },
   "outputs": [
    {
     "name": "stdout",
     "output_type": "stream",
     "text": [
      "<class 'pandas.core.frame.DataFrame'>\n",
      "RangeIndex: 123222 entries, 0 to 123221\n",
      "Data columns (total 28 columns):\n",
      "ncid                  123222 non-null object\n",
      "no_vote_his           123222 non-null int64\n",
      "birth_age_adj         123222 non-null float64\n",
      "voting_method         102225 non-null object\n",
      "Gen_2016              123222 non-null object\n",
      "vote_early            123222 non-null float64\n",
      "vote_by_mail          123222 non-null float64\n",
      "vote_curbside         123222 non-null float64\n",
      "Pri_2016              123222 non-null object\n",
      "party_cd              123222 non-null object\n",
      "gender_code           123222 non-null object\n",
      "birth_year            123222 non-null int64\n",
      "registr_dt            123222 non-null object\n",
      "race_code             123222 non-null object\n",
      "ethnic_code           123222 non-null object\n",
      "zip_code              123219 non-null float64\n",
      "res_street_address    123222 non-null object\n",
      "res_city_desc         123219 non-null object\n",
      "birth_state           94850 non-null object\n",
      "drivers_lic           123222 non-null object\n",
      "precinct_abbrv        123222 non-null object\n",
      "vtd_abbrv             123222 non-null object\n",
      "cong_dist_abbrv       123222 non-null float64\n",
      "super_court_abbrv     123222 non-null object\n",
      "judic_dist_abbrv      123222 non-null object\n",
      "nc_senate_abbrv       123222 non-null float64\n",
      "nc_house_abbrv        123222 non-null float64\n",
      "school_dist_abbrv     123222 non-null float64\n",
      "dtypes: float64(9), int64(2), object(17)\n",
      "memory usage: 26.3+ MB\n"
     ]
    }
   ],
   "source": [
    "## Check df metadata\n",
    "elec_2016_df.info()"
   ]
  },
  {
   "cell_type": "markdown",
   "metadata": {},
   "source": [
    "> Columns with missing values:\n",
    "* `voting_method`: missing values are all cases where the individual did not cast a vote in this election\n",
    "* `zip_code`: investigate filling in the 3 missing values based on provided address\n",
    "* `res_city_desc`: same as for `zip_code`\n",
    "* `birth_state`: with so many values missing, probably want to make 'missing' its own category for this feature\n",
    "\n",
    "> Column dtypes:\n",
    "* `registr_dt`: recast as datetime\n",
    "* `zip_code`: likely more useful to treat as a categorical variable rather than as numeric\n",
    "* `drivers_lic`: change from Y or N to 1 or 0"
   ]
  },
  {
   "cell_type": "code",
   "execution_count": 10,
   "metadata": {
    "ExecuteTime": {
     "end_time": "2021-01-12T23:10:38.087389Z",
     "start_time": "2021-01-12T23:10:37.999278Z"
    }
   },
   "outputs": [
    {
     "data": {
      "text/html": [
       "<div>\n",
       "<style scoped>\n",
       "    .dataframe tbody tr th:only-of-type {\n",
       "        vertical-align: middle;\n",
       "    }\n",
       "\n",
       "    .dataframe tbody tr th {\n",
       "        vertical-align: top;\n",
       "    }\n",
       "\n",
       "    .dataframe thead th {\n",
       "        text-align: right;\n",
       "    }\n",
       "</style>\n",
       "<table border=\"1\" class=\"dataframe\">\n",
       "  <thead>\n",
       "    <tr style=\"text-align: right;\">\n",
       "      <th></th>\n",
       "      <th>ncid</th>\n",
       "      <th>no_vote_his</th>\n",
       "      <th>birth_age_adj</th>\n",
       "      <th>voting_method</th>\n",
       "      <th>Gen_2016</th>\n",
       "      <th>vote_early</th>\n",
       "      <th>vote_by_mail</th>\n",
       "      <th>vote_curbside</th>\n",
       "      <th>Pri_2016</th>\n",
       "      <th>party_cd</th>\n",
       "      <th>gender_code</th>\n",
       "      <th>birth_year</th>\n",
       "      <th>registr_dt</th>\n",
       "      <th>race_code</th>\n",
       "      <th>ethnic_code</th>\n",
       "      <th>zip_code</th>\n",
       "      <th>res_street_address</th>\n",
       "      <th>res_city_desc</th>\n",
       "      <th>birth_state</th>\n",
       "      <th>drivers_lic</th>\n",
       "      <th>precinct_abbrv</th>\n",
       "      <th>vtd_abbrv</th>\n",
       "      <th>cong_dist_abbrv</th>\n",
       "      <th>super_court_abbrv</th>\n",
       "      <th>judic_dist_abbrv</th>\n",
       "      <th>nc_senate_abbrv</th>\n",
       "      <th>nc_house_abbrv</th>\n",
       "      <th>school_dist_abbrv</th>\n",
       "      <th>drivers_lic_bin</th>\n",
       "    </tr>\n",
       "  </thead>\n",
       "  <tbody>\n",
       "    <tr>\n",
       "      <th>59612</th>\n",
       "      <td>EF173508</td>\n",
       "      <td>0</td>\n",
       "      <td>22.0</td>\n",
       "      <td>ABSENTEE ONESTOP</td>\n",
       "      <td>Early</td>\n",
       "      <td>1.0</td>\n",
       "      <td>0.0</td>\n",
       "      <td>0.0</td>\n",
       "      <td>No Vote</td>\n",
       "      <td>REP</td>\n",
       "      <td>M</td>\n",
       "      <td>1994</td>\n",
       "      <td>2016-09-26</td>\n",
       "      <td>W</td>\n",
       "      <td>UN</td>\n",
       "      <td>NaN</td>\n",
       "      <td>CONFIDENTIAL</td>\n",
       "      <td>NaN</td>\n",
       "      <td>NC</td>\n",
       "      <td>Y</td>\n",
       "      <td>017A</td>\n",
       "      <td>017A</td>\n",
       "      <td>9.0</td>\n",
       "      <td>20B</td>\n",
       "      <td>20C</td>\n",
       "      <td>35.0</td>\n",
       "      <td>68.0</td>\n",
       "      <td>3.0</td>\n",
       "      <td>1</td>\n",
       "    </tr>\n",
       "    <tr>\n",
       "      <th>77543</th>\n",
       "      <td>EF203192</td>\n",
       "      <td>0</td>\n",
       "      <td>55.0</td>\n",
       "      <td>ABSENTEE ONESTOP</td>\n",
       "      <td>Early</td>\n",
       "      <td>1.0</td>\n",
       "      <td>0.0</td>\n",
       "      <td>0.0</td>\n",
       "      <td>No Vote</td>\n",
       "      <td>UNA</td>\n",
       "      <td>F</td>\n",
       "      <td>1961</td>\n",
       "      <td>2016-05-25</td>\n",
       "      <td>W</td>\n",
       "      <td>NL</td>\n",
       "      <td>NaN</td>\n",
       "      <td>CONFIDENTIAL</td>\n",
       "      <td>NaN</td>\n",
       "      <td>PA</td>\n",
       "      <td>Y</td>\n",
       "      <td>029C</td>\n",
       "      <td>029C</td>\n",
       "      <td>9.0</td>\n",
       "      <td>20B</td>\n",
       "      <td>20C</td>\n",
       "      <td>35.0</td>\n",
       "      <td>68.0</td>\n",
       "      <td>5.0</td>\n",
       "      <td>1</td>\n",
       "    </tr>\n",
       "    <tr>\n",
       "      <th>88945</th>\n",
       "      <td>EF35182</td>\n",
       "      <td>0</td>\n",
       "      <td>58.0</td>\n",
       "      <td>No Vote</td>\n",
       "      <td>No Vote</td>\n",
       "      <td>0.0</td>\n",
       "      <td>0.0</td>\n",
       "      <td>0.0</td>\n",
       "      <td>No Vote</td>\n",
       "      <td>REP</td>\n",
       "      <td>F</td>\n",
       "      <td>1958</td>\n",
       "      <td>1991-03-15</td>\n",
       "      <td>W</td>\n",
       "      <td>NL</td>\n",
       "      <td>NaN</td>\n",
       "      <td>CONFIDENTIAL</td>\n",
       "      <td>NaN</td>\n",
       "      <td>NC</td>\n",
       "      <td>Y</td>\n",
       "      <td>030</td>\n",
       "      <td>030</td>\n",
       "      <td>9.0</td>\n",
       "      <td>20B</td>\n",
       "      <td>20C</td>\n",
       "      <td>35.0</td>\n",
       "      <td>69.0</td>\n",
       "      <td>1.0</td>\n",
       "      <td>1</td>\n",
       "    </tr>\n",
       "  </tbody>\n",
       "</table>\n",
       "</div>"
      ],
      "text/plain": [
       "           ncid  no_vote_his  birth_age_adj     voting_method Gen_2016  \\\n",
       "59612  EF173508            0           22.0  ABSENTEE ONESTOP    Early   \n",
       "77543  EF203192            0           55.0  ABSENTEE ONESTOP    Early   \n",
       "88945   EF35182            0           58.0           No Vote  No Vote   \n",
       "\n",
       "       vote_early  vote_by_mail  vote_curbside Pri_2016 party_cd gender_code  \\\n",
       "59612         1.0           0.0            0.0  No Vote      REP           M   \n",
       "77543         1.0           0.0            0.0  No Vote      UNA           F   \n",
       "88945         0.0           0.0            0.0  No Vote      REP           F   \n",
       "\n",
       "       birth_year registr_dt race_code ethnic_code zip_code  \\\n",
       "59612        1994 2016-09-26         W          UN      NaN   \n",
       "77543        1961 2016-05-25         W          NL      NaN   \n",
       "88945        1958 1991-03-15         W          NL      NaN   \n",
       "\n",
       "      res_street_address res_city_desc birth_state drivers_lic precinct_abbrv  \\\n",
       "59612       CONFIDENTIAL           NaN          NC           Y           017A   \n",
       "77543       CONFIDENTIAL           NaN          PA           Y           029C   \n",
       "88945       CONFIDENTIAL           NaN          NC           Y            030   \n",
       "\n",
       "      vtd_abbrv  cong_dist_abbrv super_court_abbrv judic_dist_abbrv  \\\n",
       "59612      017A              9.0               20B              20C   \n",
       "77543      029C              9.0               20B              20C   \n",
       "88945       030              9.0               20B              20C   \n",
       "\n",
       "       nc_senate_abbrv  nc_house_abbrv  school_dist_abbrv  drivers_lic_bin  \n",
       "59612             35.0            68.0                3.0                1  \n",
       "77543             35.0            68.0                5.0                1  \n",
       "88945             35.0            69.0                1.0                1  "
      ]
     },
     "execution_count": 10,
     "metadata": {},
     "output_type": "execute_result"
    }
   ],
   "source": [
    "## Change drivers_lic to binary indicator\n",
    "elec_2016_df['drivers_lic_bin'] = np.where(elec_2016_df['drivers_lic']=='Y', 1, 0)\n",
    "\n",
    "## Recast zip_code as category\n",
    "elec_2016_df['zip_code'] = elec_2016_df['zip_code'].astype('category')\n",
    "\n",
    "## Recast registr_dt as datetime variable\n",
    "elec_2016_df['registr_dt'] = pd.to_datetime(elec_2016_df['registr_dt'])\n",
    "\n",
    "## Fill null values in voting_method with 'No Vote'\n",
    "elec_2016_df['voting_method'].fillna(value='No Vote', inplace=True)\n",
    "\n",
    "## Fill null values in birth_state with 'Missing'\n",
    "elec_2016_df['birth_state'].fillna(value='Missing', inplace=True)\n",
    "\n",
    "## Check records with missing zip_code\n",
    "elec_2016_df.loc[elec_2016_df['zip_code'].isna()]"
   ]
  },
  {
   "cell_type": "markdown",
   "metadata": {},
   "source": [
    "> These three records missing `zip_code` also correspond to the three records missing `res_city_desc`, most likely because the residential address is confidential for these individuals. These records will be lumped under the 'Other' category for the less frequently appearing cities created to avoid issues with high cardinality and rare labels."
   ]
  },
  {
   "cell_type": "markdown",
   "metadata": {},
   "source": [
    "## Scrub 2012 Election"
   ]
  },
  {
   "cell_type": "code",
   "execution_count": 11,
   "metadata": {
    "ExecuteTime": {
     "end_time": "2021-01-12T23:10:38.147359Z",
     "start_time": "2021-01-12T23:10:38.089191Z"
    }
   },
   "outputs": [
    {
     "name": "stdout",
     "output_type": "stream",
     "text": [
      "<class 'pandas.core.frame.DataFrame'>\n",
      "RangeIndex: 96275 entries, 0 to 96274\n",
      "Data columns (total 28 columns):\n",
      "ncid                  96275 non-null object\n",
      "no_vote_his           96275 non-null int64\n",
      "birth_age_adj         96275 non-null float64\n",
      "voting_method         86494 non-null object\n",
      "Gen_2012              96275 non-null object\n",
      "vote_early            96275 non-null float64\n",
      "vote_by_mail          96275 non-null float64\n",
      "vote_curbside         96275 non-null float64\n",
      "Pri_2012              96275 non-null object\n",
      "party_cd              96275 non-null object\n",
      "gender_code           96275 non-null object\n",
      "birth_year            96275 non-null int64\n",
      "registr_dt            96275 non-null object\n",
      "race_code             96275 non-null object\n",
      "ethnic_code           96275 non-null object\n",
      "zip_code              96273 non-null float64\n",
      "res_street_address    96275 non-null object\n",
      "res_city_desc         96273 non-null object\n",
      "birth_state           71418 non-null object\n",
      "drivers_lic           96275 non-null object\n",
      "precinct_abbrv        96275 non-null object\n",
      "vtd_abbrv             96275 non-null object\n",
      "cong_dist_abbrv       96275 non-null float64\n",
      "super_court_abbrv     96275 non-null object\n",
      "judic_dist_abbrv      96275 non-null object\n",
      "nc_senate_abbrv       96275 non-null float64\n",
      "nc_house_abbrv        96275 non-null float64\n",
      "school_dist_abbrv     96275 non-null float64\n",
      "dtypes: float64(9), int64(2), object(17)\n",
      "memory usage: 20.6+ MB\n"
     ]
    }
   ],
   "source": [
    "## Check df metadata\n",
    "elec_2012_df.info()"
   ]
  },
  {
   "cell_type": "markdown",
   "metadata": {},
   "source": [
    "> Columns with missing values:\n",
    "* `voting_method`: missing values are all cases where the individual did not cast a vote in this election\n",
    "* `zip_code`: investigate filling in the 2 missing values based on provided address\n",
    "* `res_city_desc`: same as for `zip_code`\n",
    "* `birth_state`: with so many values missing, probably want to make 'missing' its own category for this feature\n",
    "\n",
    "> Column dtypes:\n",
    "* `registr_dt`: recast as datetime\n",
    "* `zip_code`: likely more useful to treat as a categorical variable rather than as numeric\n",
    "* `drivers_lic`: change from Y or N to 1 or 0"
   ]
  },
  {
   "cell_type": "code",
   "execution_count": 12,
   "metadata": {
    "ExecuteTime": {
     "end_time": "2021-01-12T23:10:38.214414Z",
     "start_time": "2021-01-12T23:10:38.149275Z"
    }
   },
   "outputs": [
    {
     "data": {
      "text/html": [
       "<div>\n",
       "<style scoped>\n",
       "    .dataframe tbody tr th:only-of-type {\n",
       "        vertical-align: middle;\n",
       "    }\n",
       "\n",
       "    .dataframe tbody tr th {\n",
       "        vertical-align: top;\n",
       "    }\n",
       "\n",
       "    .dataframe thead th {\n",
       "        text-align: right;\n",
       "    }\n",
       "</style>\n",
       "<table border=\"1\" class=\"dataframe\">\n",
       "  <thead>\n",
       "    <tr style=\"text-align: right;\">\n",
       "      <th></th>\n",
       "      <th>ncid</th>\n",
       "      <th>no_vote_his</th>\n",
       "      <th>birth_age_adj</th>\n",
       "      <th>voting_method</th>\n",
       "      <th>Gen_2012</th>\n",
       "      <th>vote_early</th>\n",
       "      <th>vote_by_mail</th>\n",
       "      <th>vote_curbside</th>\n",
       "      <th>Pri_2012</th>\n",
       "      <th>party_cd</th>\n",
       "      <th>gender_code</th>\n",
       "      <th>birth_year</th>\n",
       "      <th>registr_dt</th>\n",
       "      <th>race_code</th>\n",
       "      <th>ethnic_code</th>\n",
       "      <th>zip_code</th>\n",
       "      <th>res_street_address</th>\n",
       "      <th>res_city_desc</th>\n",
       "      <th>birth_state</th>\n",
       "      <th>drivers_lic</th>\n",
       "      <th>precinct_abbrv</th>\n",
       "      <th>vtd_abbrv</th>\n",
       "      <th>cong_dist_abbrv</th>\n",
       "      <th>super_court_abbrv</th>\n",
       "      <th>judic_dist_abbrv</th>\n",
       "      <th>nc_senate_abbrv</th>\n",
       "      <th>nc_house_abbrv</th>\n",
       "      <th>school_dist_abbrv</th>\n",
       "      <th>drivers_lic_bin</th>\n",
       "    </tr>\n",
       "  </thead>\n",
       "  <tbody>\n",
       "    <tr>\n",
       "      <th>55482</th>\n",
       "      <td>EF173508</td>\n",
       "      <td>0</td>\n",
       "      <td>18.0</td>\n",
       "      <td>ABSENTEE ONESTOP</td>\n",
       "      <td>Early</td>\n",
       "      <td>1.0</td>\n",
       "      <td>0.0</td>\n",
       "      <td>0.0</td>\n",
       "      <td>No Vote</td>\n",
       "      <td>REP</td>\n",
       "      <td>M</td>\n",
       "      <td>1994</td>\n",
       "      <td>2016-09-26</td>\n",
       "      <td>W</td>\n",
       "      <td>UN</td>\n",
       "      <td>NaN</td>\n",
       "      <td>CONFIDENTIAL</td>\n",
       "      <td>NaN</td>\n",
       "      <td>NC</td>\n",
       "      <td>Y</td>\n",
       "      <td>017A</td>\n",
       "      <td>017A</td>\n",
       "      <td>9.0</td>\n",
       "      <td>20B</td>\n",
       "      <td>20C</td>\n",
       "      <td>35.0</td>\n",
       "      <td>68.0</td>\n",
       "      <td>3.0</td>\n",
       "      <td>1</td>\n",
       "    </tr>\n",
       "    <tr>\n",
       "      <th>67409</th>\n",
       "      <td>EF35182</td>\n",
       "      <td>0</td>\n",
       "      <td>54.0</td>\n",
       "      <td>TRANSFER</td>\n",
       "      <td>Other</td>\n",
       "      <td>0.0</td>\n",
       "      <td>0.0</td>\n",
       "      <td>0.0</td>\n",
       "      <td>No Vote</td>\n",
       "      <td>REP</td>\n",
       "      <td>F</td>\n",
       "      <td>1958</td>\n",
       "      <td>1991-03-15</td>\n",
       "      <td>W</td>\n",
       "      <td>NL</td>\n",
       "      <td>NaN</td>\n",
       "      <td>CONFIDENTIAL</td>\n",
       "      <td>NaN</td>\n",
       "      <td>NC</td>\n",
       "      <td>Y</td>\n",
       "      <td>030</td>\n",
       "      <td>030</td>\n",
       "      <td>9.0</td>\n",
       "      <td>20B</td>\n",
       "      <td>20C</td>\n",
       "      <td>35.0</td>\n",
       "      <td>69.0</td>\n",
       "      <td>1.0</td>\n",
       "      <td>1</td>\n",
       "    </tr>\n",
       "  </tbody>\n",
       "</table>\n",
       "</div>"
      ],
      "text/plain": [
       "           ncid  no_vote_his  birth_age_adj     voting_method Gen_2012  \\\n",
       "55482  EF173508            0           18.0  ABSENTEE ONESTOP    Early   \n",
       "67409   EF35182            0           54.0          TRANSFER    Other   \n",
       "\n",
       "       vote_early  vote_by_mail  vote_curbside Pri_2012 party_cd gender_code  \\\n",
       "55482         1.0           0.0            0.0  No Vote      REP           M   \n",
       "67409         0.0           0.0            0.0  No Vote      REP           F   \n",
       "\n",
       "       birth_year registr_dt race_code ethnic_code zip_code  \\\n",
       "55482        1994 2016-09-26         W          UN      NaN   \n",
       "67409        1958 1991-03-15         W          NL      NaN   \n",
       "\n",
       "      res_street_address res_city_desc birth_state drivers_lic precinct_abbrv  \\\n",
       "55482       CONFIDENTIAL           NaN          NC           Y           017A   \n",
       "67409       CONFIDENTIAL           NaN          NC           Y            030   \n",
       "\n",
       "      vtd_abbrv  cong_dist_abbrv super_court_abbrv judic_dist_abbrv  \\\n",
       "55482      017A              9.0               20B              20C   \n",
       "67409       030              9.0               20B              20C   \n",
       "\n",
       "       nc_senate_abbrv  nc_house_abbrv  school_dist_abbrv  drivers_lic_bin  \n",
       "55482             35.0            68.0                3.0                1  \n",
       "67409             35.0            69.0                1.0                1  "
      ]
     },
     "execution_count": 12,
     "metadata": {},
     "output_type": "execute_result"
    }
   ],
   "source": [
    "## Change drivers_lic to binary indicator\n",
    "elec_2012_df['drivers_lic_bin'] = np.where(elec_2012_df['drivers_lic']=='Y', 1, 0)\n",
    "\n",
    "## Recast zip_code as category\n",
    "elec_2012_df['zip_code'] = elec_2012_df['zip_code'].astype('category')\n",
    "\n",
    "## Recast registr_dt as datetime variable\n",
    "elec_2012_df['registr_dt'] = pd.to_datetime(elec_2012_df['registr_dt'])\n",
    "\n",
    "## Fill null values in voting_method with 'No Vote'\n",
    "elec_2012_df['voting_method'].fillna(value='No Vote', inplace=True)\n",
    "\n",
    "## Fill null values in birth_state with 'Missing'\n",
    "elec_2012_df['birth_state'].fillna(value='Missing', inplace=True)\n",
    "\n",
    "## Check records with missing zip_code\n",
    "elec_2012_df.loc[elec_2012_df['zip_code'].isna()]"
   ]
  },
  {
   "cell_type": "markdown",
   "metadata": {},
   "source": [
    "> These 2 records missing `zip_code` also correspond to the three records missing `res_city_desc`, most likely because the residential address is confidential for these individuals. These records will be lumped under the 'Other' category for the less frequently appearing cities created to avoid issues with high cardinality and rare labels."
   ]
  },
  {
   "cell_type": "markdown",
   "metadata": {},
   "source": [
    "# EXPLORE\n",
    "\n",
    "## Explore 2020 Election\n",
    "\n",
    "### 2020 Categorical Variables"
   ]
  },
  {
   "cell_type": "code",
   "execution_count": 13,
   "metadata": {
    "ExecuteTime": {
     "end_time": "2021-01-12T23:10:38.267513Z",
     "start_time": "2021-01-12T23:10:38.216116Z"
    }
   },
   "outputs": [
    {
     "data": {
      "text/html": [
       "<div>\n",
       "<style scoped>\n",
       "    .dataframe tbody tr th:only-of-type {\n",
       "        vertical-align: middle;\n",
       "    }\n",
       "\n",
       "    .dataframe tbody tr th {\n",
       "        vertical-align: top;\n",
       "    }\n",
       "\n",
       "    .dataframe thead th {\n",
       "        text-align: right;\n",
       "    }\n",
       "</style>\n",
       "<table border=\"1\" class=\"dataframe\">\n",
       "  <thead>\n",
       "    <tr style=\"text-align: right;\">\n",
       "      <th></th>\n",
       "      <th>count</th>\n",
       "      <th>%</th>\n",
       "    </tr>\n",
       "  </thead>\n",
       "  <tbody>\n",
       "    <tr>\n",
       "      <th>ABSENTEE ONESTOP</th>\n",
       "      <td>88137</td>\n",
       "      <td>52.44</td>\n",
       "    </tr>\n",
       "    <tr>\n",
       "      <th>No Vote</th>\n",
       "      <td>36587</td>\n",
       "      <td>21.77</td>\n",
       "    </tr>\n",
       "    <tr>\n",
       "      <th>IN-PERSON</th>\n",
       "      <td>19813</td>\n",
       "      <td>11.79</td>\n",
       "    </tr>\n",
       "    <tr>\n",
       "      <th>ABSENTEE BY MAIL</th>\n",
       "      <td>19647</td>\n",
       "      <td>11.69</td>\n",
       "    </tr>\n",
       "    <tr>\n",
       "      <th>ABSENTEE CURBSIDE</th>\n",
       "      <td>2951</td>\n",
       "      <td>1.76</td>\n",
       "    </tr>\n",
       "    <tr>\n",
       "      <th>PROVISIONAL</th>\n",
       "      <td>380</td>\n",
       "      <td>0.23</td>\n",
       "    </tr>\n",
       "    <tr>\n",
       "      <th>TRANSFER</th>\n",
       "      <td>353</td>\n",
       "      <td>0.21</td>\n",
       "    </tr>\n",
       "    <tr>\n",
       "      <th>CURBSIDE</th>\n",
       "      <td>202</td>\n",
       "      <td>0.12</td>\n",
       "    </tr>\n",
       "  </tbody>\n",
       "</table>\n",
       "</div>"
      ],
      "text/plain": [
       "                   count      %\n",
       "ABSENTEE ONESTOP   88137  52.44\n",
       "No Vote            36587  21.77\n",
       "IN-PERSON          19813  11.79\n",
       "ABSENTEE BY MAIL   19647  11.69\n",
       "ABSENTEE CURBSIDE   2951   1.76\n",
       "PROVISIONAL          380   0.23\n",
       "TRANSFER             353   0.21\n",
       "CURBSIDE             202   0.12"
      ]
     },
     "execution_count": 13,
     "metadata": {},
     "output_type": "execute_result"
    }
   ],
   "source": [
    "check_unique('voting_method', elec_2020_df)"
   ]
  },
  {
   "cell_type": "markdown",
   "metadata": {},
   "source": [
    "> Almost as many people who voted in person on election day voted by mail, suggesting mail-in votes may be better treated as a separate category for the 2020 election. This would also help to break down the majority class of 'Early' to represent a smaller portion of the whole. Below I create a new column 'vote_cat'."
   ]
  },
  {
   "cell_type": "code",
   "execution_count": 14,
   "metadata": {
    "ExecuteTime": {
     "end_time": "2021-01-12T23:10:38.362253Z",
     "start_time": "2021-01-12T23:10:38.270147Z"
    }
   },
   "outputs": [
    {
     "data": {
      "text/html": [
       "<div>\n",
       "<style scoped>\n",
       "    .dataframe tbody tr th:only-of-type {\n",
       "        vertical-align: middle;\n",
       "    }\n",
       "\n",
       "    .dataframe tbody tr th {\n",
       "        vertical-align: top;\n",
       "    }\n",
       "\n",
       "    .dataframe thead th {\n",
       "        text-align: right;\n",
       "    }\n",
       "</style>\n",
       "<table border=\"1\" class=\"dataframe\">\n",
       "  <thead>\n",
       "    <tr style=\"text-align: right;\">\n",
       "      <th></th>\n",
       "      <th>count</th>\n",
       "      <th>%</th>\n",
       "    </tr>\n",
       "  </thead>\n",
       "  <tbody>\n",
       "    <tr>\n",
       "      <th>Early</th>\n",
       "      <td>110735</td>\n",
       "      <td>65.89</td>\n",
       "    </tr>\n",
       "    <tr>\n",
       "      <th>No Vote</th>\n",
       "      <td>36587</td>\n",
       "      <td>21.77</td>\n",
       "    </tr>\n",
       "    <tr>\n",
       "      <th>Election Day</th>\n",
       "      <td>20015</td>\n",
       "      <td>11.91</td>\n",
       "    </tr>\n",
       "    <tr>\n",
       "      <th>Other</th>\n",
       "      <td>733</td>\n",
       "      <td>0.44</td>\n",
       "    </tr>\n",
       "  </tbody>\n",
       "</table>\n",
       "</div>"
      ],
      "text/plain": [
       "               count      %\n",
       "Early         110735  65.89\n",
       "No Vote        36587  21.77\n",
       "Election Day   20015  11.91\n",
       "Other            733   0.44"
      ]
     },
     "execution_count": 14,
     "metadata": {},
     "output_type": "execute_result"
    }
   ],
   "source": [
    "## Group original vote methods into more general categories in a new variable\n",
    " # Map the original categories to new ones\n",
    "vote_method_map = {'ABSENTEE ONESTOP': 'Early',\n",
    "                   'IN-PERSON': 'Election Day',\n",
    "                   'ABSENTEE BY MAIL': 'Mail',\n",
    "                   'ABSENTEE CURBSIDE': 'Early',\n",
    "                   'TRANSFER': 'Other',\n",
    "                   'PROVISIONAL': 'Other',\n",
    "                   'CURBSIDE': 'Election Day',\n",
    "                   'No Vote': 'No Vote'}\n",
    "\n",
    "# Apply the map to create new vote_method_cat column\n",
    "elec_2020_df['vote_cat'] = elec_2020_df['voting_method'].map(vote_method_map)\n",
    "\n",
    "check_unique('vote_cat', elec_2020_df)\n",
    "\n",
    "check_unique('Gen_2020', elec_2020_df)"
   ]
  },
  {
   "cell_type": "markdown",
   "metadata": {},
   "source": [
    "> The 'Other' category is made up of only 733 individuals that voted with either a provisional or transfer ballot. Need to consider dropping this extremely rare category or somehow adding those records into one of the other categories."
   ]
  },
  {
   "cell_type": "code",
   "execution_count": 15,
   "metadata": {
    "ExecuteTime": {
     "end_time": "2021-01-12T23:10:38.406524Z",
     "start_time": "2021-01-12T23:10:38.364115Z"
    }
   },
   "outputs": [
    {
     "data": {
      "text/html": [
       "<div>\n",
       "<style scoped>\n",
       "    .dataframe tbody tr th:only-of-type {\n",
       "        vertical-align: middle;\n",
       "    }\n",
       "\n",
       "    .dataframe tbody tr th {\n",
       "        vertical-align: top;\n",
       "    }\n",
       "\n",
       "    .dataframe thead th {\n",
       "        text-align: right;\n",
       "    }\n",
       "</style>\n",
       "<table border=\"1\" class=\"dataframe\">\n",
       "  <thead>\n",
       "    <tr style=\"text-align: right;\">\n",
       "      <th></th>\n",
       "      <th>count</th>\n",
       "      <th>%</th>\n",
       "    </tr>\n",
       "  </thead>\n",
       "  <tbody>\n",
       "    <tr>\n",
       "      <th>No Vote</th>\n",
       "      <td>124810</td>\n",
       "      <td>74.26</td>\n",
       "    </tr>\n",
       "    <tr>\n",
       "      <th>Election Day</th>\n",
       "      <td>25825</td>\n",
       "      <td>15.37</td>\n",
       "    </tr>\n",
       "    <tr>\n",
       "      <th>Early</th>\n",
       "      <td>17122</td>\n",
       "      <td>10.19</td>\n",
       "    </tr>\n",
       "    <tr>\n",
       "      <th>Other</th>\n",
       "      <td>313</td>\n",
       "      <td>0.19</td>\n",
       "    </tr>\n",
       "  </tbody>\n",
       "</table>\n",
       "</div>"
      ],
      "text/plain": [
       "               count      %\n",
       "No Vote       124810  74.26\n",
       "Election Day   25825  15.37\n",
       "Early          17122  10.19\n",
       "Other            313   0.19"
      ]
     },
     "execution_count": 15,
     "metadata": {},
     "output_type": "execute_result"
    }
   ],
   "source": [
    "check_unique('Pri_2020', elec_2020_df)"
   ]
  },
  {
   "cell_type": "markdown",
   "metadata": {},
   "source": [
    "> 'Other' category also extremely rare for `Pri_2020` as well. If this is used as a predictor, consider changing to a binary variable indicating simply whether or not the person voted in the Primary."
   ]
  },
  {
   "cell_type": "code",
   "execution_count": 16,
   "metadata": {
    "ExecuteTime": {
     "end_time": "2021-01-12T23:10:38.449989Z",
     "start_time": "2021-01-12T23:10:38.408812Z"
    }
   },
   "outputs": [
    {
     "data": {
      "text/html": [
       "<div>\n",
       "<style scoped>\n",
       "    .dataframe tbody tr th:only-of-type {\n",
       "        vertical-align: middle;\n",
       "    }\n",
       "\n",
       "    .dataframe tbody tr th {\n",
       "        vertical-align: top;\n",
       "    }\n",
       "\n",
       "    .dataframe thead th {\n",
       "        text-align: right;\n",
       "    }\n",
       "</style>\n",
       "<table border=\"1\" class=\"dataframe\">\n",
       "  <thead>\n",
       "    <tr style=\"text-align: right;\">\n",
       "      <th></th>\n",
       "      <th>count</th>\n",
       "      <th>%</th>\n",
       "    </tr>\n",
       "  </thead>\n",
       "  <tbody>\n",
       "    <tr>\n",
       "      <th>REP</th>\n",
       "      <td>69079</td>\n",
       "      <td>41.10</td>\n",
       "    </tr>\n",
       "    <tr>\n",
       "      <th>UNA</th>\n",
       "      <td>57488</td>\n",
       "      <td>34.20</td>\n",
       "    </tr>\n",
       "    <tr>\n",
       "      <th>DEM</th>\n",
       "      <td>40340</td>\n",
       "      <td>24.00</td>\n",
       "    </tr>\n",
       "    <tr>\n",
       "      <th>LIB</th>\n",
       "      <td>995</td>\n",
       "      <td>0.59</td>\n",
       "    </tr>\n",
       "    <tr>\n",
       "      <th>CST</th>\n",
       "      <td>96</td>\n",
       "      <td>0.06</td>\n",
       "    </tr>\n",
       "    <tr>\n",
       "      <th>GRE</th>\n",
       "      <td>72</td>\n",
       "      <td>0.04</td>\n",
       "    </tr>\n",
       "  </tbody>\n",
       "</table>\n",
       "</div>"
      ],
      "text/plain": [
       "     count      %\n",
       "REP  69079  41.10\n",
       "UNA  57488  34.20\n",
       "DEM  40340  24.00\n",
       "LIB    995   0.59\n",
       "CST     96   0.06\n",
       "GRE     72   0.04"
      ]
     },
     "execution_count": 16,
     "metadata": {},
     "output_type": "execute_result"
    }
   ],
   "source": [
    "check_unique('party_cd', elec_2020_df)"
   ]
  },
  {
   "cell_type": "markdown",
   "metadata": {},
   "source": [
    "> LIB, CST, and GRE extremely rare within the county. Need to deal with this in some way, but grouping into a single 'Rare' category won't necessarily solve the issue since that would still represent barely more than 0.5% of voters in this election. It could make sense to combine these three parties with UNA (unaffiliated) to simply represent voters that do not align with one of the two major parties."
   ]
  },
  {
   "cell_type": "code",
   "execution_count": 17,
   "metadata": {
    "ExecuteTime": {
     "end_time": "2021-01-12T23:10:38.488294Z",
     "start_time": "2021-01-12T23:10:38.451772Z"
    }
   },
   "outputs": [
    {
     "data": {
      "text/html": [
       "<div>\n",
       "<style scoped>\n",
       "    .dataframe tbody tr th:only-of-type {\n",
       "        vertical-align: middle;\n",
       "    }\n",
       "\n",
       "    .dataframe tbody tr th {\n",
       "        vertical-align: top;\n",
       "    }\n",
       "\n",
       "    .dataframe thead th {\n",
       "        text-align: right;\n",
       "    }\n",
       "</style>\n",
       "<table border=\"1\" class=\"dataframe\">\n",
       "  <thead>\n",
       "    <tr style=\"text-align: right;\">\n",
       "      <th></th>\n",
       "      <th>count</th>\n",
       "      <th>%</th>\n",
       "    </tr>\n",
       "  </thead>\n",
       "  <tbody>\n",
       "    <tr>\n",
       "      <th>F</th>\n",
       "      <td>80522</td>\n",
       "      <td>47.91</td>\n",
       "    </tr>\n",
       "    <tr>\n",
       "      <th>M</th>\n",
       "      <td>72454</td>\n",
       "      <td>43.11</td>\n",
       "    </tr>\n",
       "    <tr>\n",
       "      <th>U</th>\n",
       "      <td>15094</td>\n",
       "      <td>8.98</td>\n",
       "    </tr>\n",
       "  </tbody>\n",
       "</table>\n",
       "</div>"
      ],
      "text/plain": [
       "   count      %\n",
       "F  80522  47.91\n",
       "M  72454  43.11\n",
       "U  15094   8.98"
      ]
     },
     "execution_count": 17,
     "metadata": {},
     "output_type": "execute_result"
    }
   ],
   "source": [
    "check_unique('gender_code', elec_2020_df)"
   ]
  },
  {
   "cell_type": "code",
   "execution_count": 18,
   "metadata": {
    "ExecuteTime": {
     "end_time": "2021-01-12T23:10:38.526906Z",
     "start_time": "2021-01-12T23:10:38.489997Z"
    }
   },
   "outputs": [
    {
     "data": {
      "text/html": [
       "<div>\n",
       "<style scoped>\n",
       "    .dataframe tbody tr th:only-of-type {\n",
       "        vertical-align: middle;\n",
       "    }\n",
       "\n",
       "    .dataframe tbody tr th {\n",
       "        vertical-align: top;\n",
       "    }\n",
       "\n",
       "    .dataframe thead th {\n",
       "        text-align: right;\n",
       "    }\n",
       "</style>\n",
       "<table border=\"1\" class=\"dataframe\">\n",
       "  <thead>\n",
       "    <tr style=\"text-align: right;\">\n",
       "      <th></th>\n",
       "      <th>count</th>\n",
       "      <th>%</th>\n",
       "    </tr>\n",
       "  </thead>\n",
       "  <tbody>\n",
       "    <tr>\n",
       "      <th>W</th>\n",
       "      <td>119683</td>\n",
       "      <td>71.21</td>\n",
       "    </tr>\n",
       "    <tr>\n",
       "      <th>B</th>\n",
       "      <td>19182</td>\n",
       "      <td>11.41</td>\n",
       "    </tr>\n",
       "    <tr>\n",
       "      <th>U</th>\n",
       "      <td>18823</td>\n",
       "      <td>11.20</td>\n",
       "    </tr>\n",
       "    <tr>\n",
       "      <th>O</th>\n",
       "      <td>6115</td>\n",
       "      <td>3.64</td>\n",
       "    </tr>\n",
       "    <tr>\n",
       "      <th>A</th>\n",
       "      <td>2930</td>\n",
       "      <td>1.74</td>\n",
       "    </tr>\n",
       "    <tr>\n",
       "      <th>M</th>\n",
       "      <td>905</td>\n",
       "      <td>0.54</td>\n",
       "    </tr>\n",
       "    <tr>\n",
       "      <th>I</th>\n",
       "      <td>426</td>\n",
       "      <td>0.25</td>\n",
       "    </tr>\n",
       "    <tr>\n",
       "      <th>P</th>\n",
       "      <td>6</td>\n",
       "      <td>0.00</td>\n",
       "    </tr>\n",
       "  </tbody>\n",
       "</table>\n",
       "</div>"
      ],
      "text/plain": [
       "    count      %\n",
       "W  119683  71.21\n",
       "B   19182  11.41\n",
       "U   18823  11.20\n",
       "O    6115   3.64\n",
       "A    2930   1.74\n",
       "M     905   0.54\n",
       "I     426   0.25\n",
       "P       6   0.00"
      ]
     },
     "execution_count": 18,
     "metadata": {},
     "output_type": "execute_result"
    }
   ],
   "source": [
    "check_unique('race_code', elec_2020_df)"
   ]
  },
  {
   "cell_type": "markdown",
   "metadata": {},
   "source": [
    "> The most infrequent categories (Other, Asian, Multiple, Native American, Pacific Islander/Native Hawaiian) each represent less than 5% of voters. To deal with these rare labels, it is probably best from a modeling standpoint to group them all under 'Other'."
   ]
  },
  {
   "cell_type": "code",
   "execution_count": 19,
   "metadata": {
    "ExecuteTime": {
     "end_time": "2021-01-12T23:10:38.567824Z",
     "start_time": "2021-01-12T23:10:38.528574Z"
    }
   },
   "outputs": [
    {
     "data": {
      "text/html": [
       "<div>\n",
       "<style scoped>\n",
       "    .dataframe tbody tr th:only-of-type {\n",
       "        vertical-align: middle;\n",
       "    }\n",
       "\n",
       "    .dataframe tbody tr th {\n",
       "        vertical-align: top;\n",
       "    }\n",
       "\n",
       "    .dataframe thead th {\n",
       "        text-align: right;\n",
       "    }\n",
       "</style>\n",
       "<table border=\"1\" class=\"dataframe\">\n",
       "  <thead>\n",
       "    <tr style=\"text-align: right;\">\n",
       "      <th></th>\n",
       "      <th>count</th>\n",
       "      <th>%</th>\n",
       "    </tr>\n",
       "  </thead>\n",
       "  <tbody>\n",
       "    <tr>\n",
       "      <th>NL</th>\n",
       "      <td>123992</td>\n",
       "      <td>73.77</td>\n",
       "    </tr>\n",
       "    <tr>\n",
       "      <th>UN</th>\n",
       "      <td>37163</td>\n",
       "      <td>22.11</td>\n",
       "    </tr>\n",
       "    <tr>\n",
       "      <th>HL</th>\n",
       "      <td>6915</td>\n",
       "      <td>4.11</td>\n",
       "    </tr>\n",
       "  </tbody>\n",
       "</table>\n",
       "</div>"
      ],
      "text/plain": [
       "     count      %\n",
       "NL  123992  73.77\n",
       "UN   37163  22.11\n",
       "HL    6915   4.11"
      ]
     },
     "execution_count": 19,
     "metadata": {},
     "output_type": "execute_result"
    }
   ],
   "source": [
    "check_unique('ethnic_code', elec_2020_df)"
   ]
  },
  {
   "cell_type": "markdown",
   "metadata": {},
   "source": [
    "> Voters that chose to identify themselves as Hispanic or Latino represent less than 5% of voters. Check below to see how disclosed racial and ethnic identities intersect."
   ]
  },
  {
   "cell_type": "code",
   "execution_count": 20,
   "metadata": {
    "ExecuteTime": {
     "end_time": "2021-01-12T23:10:38.729977Z",
     "start_time": "2021-01-12T23:10:38.569560Z"
    }
   },
   "outputs": [
    {
     "name": "stdout",
     "output_type": "stream",
     "text": [
      "*****UN*****\n"
     ]
    },
    {
     "data": {
      "text/html": [
       "<div>\n",
       "<style scoped>\n",
       "    .dataframe tbody tr th:only-of-type {\n",
       "        vertical-align: middle;\n",
       "    }\n",
       "\n",
       "    .dataframe tbody tr th {\n",
       "        vertical-align: top;\n",
       "    }\n",
       "\n",
       "    .dataframe thead th {\n",
       "        text-align: right;\n",
       "    }\n",
       "</style>\n",
       "<table border=\"1\" class=\"dataframe\">\n",
       "  <thead>\n",
       "    <tr style=\"text-align: right;\">\n",
       "      <th></th>\n",
       "      <th>race_code</th>\n",
       "    </tr>\n",
       "  </thead>\n",
       "  <tbody>\n",
       "    <tr>\n",
       "      <th>U</th>\n",
       "      <td>16769</td>\n",
       "    </tr>\n",
       "    <tr>\n",
       "      <th>W</th>\n",
       "      <td>14871</td>\n",
       "    </tr>\n",
       "    <tr>\n",
       "      <th>B</th>\n",
       "      <td>3931</td>\n",
       "    </tr>\n",
       "    <tr>\n",
       "      <th>A</th>\n",
       "      <td>810</td>\n",
       "    </tr>\n",
       "    <tr>\n",
       "      <th>O</th>\n",
       "      <td>464</td>\n",
       "    </tr>\n",
       "    <tr>\n",
       "      <th>M</th>\n",
       "      <td>228</td>\n",
       "    </tr>\n",
       "    <tr>\n",
       "      <th>I</th>\n",
       "      <td>87</td>\n",
       "    </tr>\n",
       "    <tr>\n",
       "      <th>P</th>\n",
       "      <td>3</td>\n",
       "    </tr>\n",
       "  </tbody>\n",
       "</table>\n",
       "</div>"
      ],
      "text/plain": [
       "   race_code\n",
       "U      16769\n",
       "W      14871\n",
       "B       3931\n",
       "A        810\n",
       "O        464\n",
       "M        228\n",
       "I         87\n",
       "P          3"
      ]
     },
     "metadata": {},
     "output_type": "display_data"
    },
    {
     "name": "stdout",
     "output_type": "stream",
     "text": [
      "\n",
      "*****NL*****\n"
     ]
    },
    {
     "data": {
      "text/html": [
       "<div>\n",
       "<style scoped>\n",
       "    .dataframe tbody tr th:only-of-type {\n",
       "        vertical-align: middle;\n",
       "    }\n",
       "\n",
       "    .dataframe tbody tr th {\n",
       "        vertical-align: top;\n",
       "    }\n",
       "\n",
       "    .dataframe thead th {\n",
       "        text-align: right;\n",
       "    }\n",
       "</style>\n",
       "<table border=\"1\" class=\"dataframe\">\n",
       "  <thead>\n",
       "    <tr style=\"text-align: right;\">\n",
       "      <th></th>\n",
       "      <th>race_code</th>\n",
       "    </tr>\n",
       "  </thead>\n",
       "  <tbody>\n",
       "    <tr>\n",
       "      <th>W</th>\n",
       "      <td>103316</td>\n",
       "    </tr>\n",
       "    <tr>\n",
       "      <th>B</th>\n",
       "      <td>15162</td>\n",
       "    </tr>\n",
       "    <tr>\n",
       "      <th>O</th>\n",
       "      <td>2312</td>\n",
       "    </tr>\n",
       "    <tr>\n",
       "      <th>A</th>\n",
       "      <td>2110</td>\n",
       "    </tr>\n",
       "    <tr>\n",
       "      <th>U</th>\n",
       "      <td>383</td>\n",
       "    </tr>\n",
       "    <tr>\n",
       "      <th>M</th>\n",
       "      <td>380</td>\n",
       "    </tr>\n",
       "    <tr>\n",
       "      <th>I</th>\n",
       "      <td>328</td>\n",
       "    </tr>\n",
       "    <tr>\n",
       "      <th>P</th>\n",
       "      <td>1</td>\n",
       "    </tr>\n",
       "  </tbody>\n",
       "</table>\n",
       "</div>"
      ],
      "text/plain": [
       "   race_code\n",
       "W     103316\n",
       "B      15162\n",
       "O       2312\n",
       "A       2110\n",
       "U        383\n",
       "M        380\n",
       "I        328\n",
       "P          1"
      ]
     },
     "metadata": {},
     "output_type": "display_data"
    },
    {
     "name": "stdout",
     "output_type": "stream",
     "text": [
      "\n",
      "*****HL*****\n"
     ]
    },
    {
     "data": {
      "text/html": [
       "<div>\n",
       "<style scoped>\n",
       "    .dataframe tbody tr th:only-of-type {\n",
       "        vertical-align: middle;\n",
       "    }\n",
       "\n",
       "    .dataframe tbody tr th {\n",
       "        vertical-align: top;\n",
       "    }\n",
       "\n",
       "    .dataframe thead th {\n",
       "        text-align: right;\n",
       "    }\n",
       "</style>\n",
       "<table border=\"1\" class=\"dataframe\">\n",
       "  <thead>\n",
       "    <tr style=\"text-align: right;\">\n",
       "      <th></th>\n",
       "      <th>race_code</th>\n",
       "    </tr>\n",
       "  </thead>\n",
       "  <tbody>\n",
       "    <tr>\n",
       "      <th>O</th>\n",
       "      <td>3339</td>\n",
       "    </tr>\n",
       "    <tr>\n",
       "      <th>U</th>\n",
       "      <td>1671</td>\n",
       "    </tr>\n",
       "    <tr>\n",
       "      <th>W</th>\n",
       "      <td>1496</td>\n",
       "    </tr>\n",
       "    <tr>\n",
       "      <th>M</th>\n",
       "      <td>297</td>\n",
       "    </tr>\n",
       "    <tr>\n",
       "      <th>B</th>\n",
       "      <td>89</td>\n",
       "    </tr>\n",
       "    <tr>\n",
       "      <th>I</th>\n",
       "      <td>11</td>\n",
       "    </tr>\n",
       "    <tr>\n",
       "      <th>A</th>\n",
       "      <td>10</td>\n",
       "    </tr>\n",
       "    <tr>\n",
       "      <th>P</th>\n",
       "      <td>2</td>\n",
       "    </tr>\n",
       "  </tbody>\n",
       "</table>\n",
       "</div>"
      ],
      "text/plain": [
       "   race_code\n",
       "O       3339\n",
       "U       1671\n",
       "W       1496\n",
       "M        297\n",
       "B         89\n",
       "I         11\n",
       "A         10\n",
       "P          2"
      ]
     },
     "metadata": {},
     "output_type": "display_data"
    },
    {
     "name": "stdout",
     "output_type": "stream",
     "text": [
      "\n"
     ]
    }
   ],
   "source": [
    "## Investigate how race intersects with ethnic code\n",
    "for code in elec_2020_df['ethnic_code'].unique():\n",
    "    print('*****{}*****'.format(code))\n",
    "    display(elec_2020_df.loc[elec_2020_df['ethnic_code']==code]['race_code'].value_counts().to_frame())\n",
    "    print()"
   ]
  },
  {
   "cell_type": "markdown",
   "metadata": {},
   "source": [
    "> Patterns of intersection between race and ethnicity are somewhat unclear. The majority of voters that chose not to disclose their race also chose not to disclose their ethnicity (16,769 out of 37,163). The majority of voters that identified themselves as Hispanic or Latino when registering listed their race as 'Other'(3,339 out of 6,915), with the next most frequent category being 'Undesignated' (1,671 out of 6,915), then 'White' (1,496 out of 6,915). As such, I am uncertain how useful this feature will be as a predictor, especially given that the 'HL' category is so rare."
   ]
  },
  {
   "cell_type": "code",
   "execution_count": 21,
   "metadata": {
    "ExecuteTime": {
     "end_time": "2021-01-12T23:10:38.749923Z",
     "start_time": "2021-01-12T23:10:38.732369Z"
    }
   },
   "outputs": [
    {
     "data": {
      "text/html": [
       "<div>\n",
       "<style scoped>\n",
       "    .dataframe tbody tr th:only-of-type {\n",
       "        vertical-align: middle;\n",
       "    }\n",
       "\n",
       "    .dataframe tbody tr th {\n",
       "        vertical-align: top;\n",
       "    }\n",
       "\n",
       "    .dataframe thead th {\n",
       "        text-align: right;\n",
       "    }\n",
       "</style>\n",
       "<table border=\"1\" class=\"dataframe\">\n",
       "  <thead>\n",
       "    <tr style=\"text-align: right;\">\n",
       "      <th></th>\n",
       "      <th>count</th>\n",
       "      <th>%</th>\n",
       "    </tr>\n",
       "  </thead>\n",
       "  <tbody>\n",
       "    <tr>\n",
       "      <th>28173.0</th>\n",
       "      <td>47609</td>\n",
       "      <td>28.33</td>\n",
       "    </tr>\n",
       "    <tr>\n",
       "      <th>28110.0</th>\n",
       "      <td>34719</td>\n",
       "      <td>20.66</td>\n",
       "    </tr>\n",
       "    <tr>\n",
       "      <th>28079.0</th>\n",
       "      <td>28195</td>\n",
       "      <td>16.78</td>\n",
       "    </tr>\n",
       "    <tr>\n",
       "      <th>28104.0</th>\n",
       "      <td>25603</td>\n",
       "      <td>15.23</td>\n",
       "    </tr>\n",
       "    <tr>\n",
       "      <th>28112.0</th>\n",
       "      <td>18032</td>\n",
       "      <td>10.73</td>\n",
       "    </tr>\n",
       "    <tr>\n",
       "      <th>28103.0</th>\n",
       "      <td>7299</td>\n",
       "      <td>4.34</td>\n",
       "    </tr>\n",
       "    <tr>\n",
       "      <th>28174.0</th>\n",
       "      <td>5734</td>\n",
       "      <td>3.41</td>\n",
       "    </tr>\n",
       "    <tr>\n",
       "      <th>28227.0</th>\n",
       "      <td>396</td>\n",
       "      <td>0.24</td>\n",
       "    </tr>\n",
       "    <tr>\n",
       "      <th>28105.0</th>\n",
       "      <td>237</td>\n",
       "      <td>0.14</td>\n",
       "    </tr>\n",
       "    <tr>\n",
       "      <th>28133.0</th>\n",
       "      <td>155</td>\n",
       "      <td>0.09</td>\n",
       "    </tr>\n",
       "    <tr>\n",
       "      <th>28107.0</th>\n",
       "      <td>86</td>\n",
       "      <td>0.05</td>\n",
       "    </tr>\n",
       "    <tr>\n",
       "      <th>NaN</th>\n",
       "      <td>3</td>\n",
       "      <td>0.00</td>\n",
       "    </tr>\n",
       "    <tr>\n",
       "      <th>28135.0</th>\n",
       "      <td>2</td>\n",
       "      <td>0.00</td>\n",
       "    </tr>\n",
       "  </tbody>\n",
       "</table>\n",
       "</div>"
      ],
      "text/plain": [
       "          count      %\n",
       " 28173.0  47609  28.33\n",
       " 28110.0  34719  20.66\n",
       " 28079.0  28195  16.78\n",
       " 28104.0  25603  15.23\n",
       " 28112.0  18032  10.73\n",
       " 28103.0   7299   4.34\n",
       " 28174.0   5734   3.41\n",
       " 28227.0    396   0.24\n",
       " 28105.0    237   0.14\n",
       " 28133.0    155   0.09\n",
       " 28107.0     86   0.05\n",
       "NaN           3   0.00\n",
       " 28135.0      2   0.00"
      ]
     },
     "execution_count": 21,
     "metadata": {},
     "output_type": "execute_result"
    }
   ],
   "source": [
    "check_unique('zip_code', elec_2020_df)"
   ]
  },
  {
   "cell_type": "markdown",
   "metadata": {},
   "source": [
    "> Seven of the 12 zip codes are rare labels (each representing less than 5% of the voters). It may be best to use grouped cities as a predictor (see immediately below) rather than zip codes, especially since the two will be highly correlated."
   ]
  },
  {
   "cell_type": "code",
   "execution_count": 22,
   "metadata": {
    "ExecuteTime": {
     "end_time": "2021-01-12T23:10:38.797729Z",
     "start_time": "2021-01-12T23:10:38.752127Z"
    },
    "scrolled": true
   },
   "outputs": [
    {
     "data": {
      "text/html": [
       "<div>\n",
       "<style scoped>\n",
       "    .dataframe tbody tr th:only-of-type {\n",
       "        vertical-align: middle;\n",
       "    }\n",
       "\n",
       "    .dataframe tbody tr th {\n",
       "        vertical-align: top;\n",
       "    }\n",
       "\n",
       "    .dataframe thead th {\n",
       "        text-align: right;\n",
       "    }\n",
       "</style>\n",
       "<table border=\"1\" class=\"dataframe\">\n",
       "  <thead>\n",
       "    <tr style=\"text-align: right;\">\n",
       "      <th></th>\n",
       "      <th>count</th>\n",
       "      <th>%</th>\n",
       "    </tr>\n",
       "  </thead>\n",
       "  <tbody>\n",
       "    <tr>\n",
       "      <th>MONROE</th>\n",
       "      <td>52751</td>\n",
       "      <td>31.39</td>\n",
       "    </tr>\n",
       "    <tr>\n",
       "      <th>WAXHAW</th>\n",
       "      <td>47609</td>\n",
       "      <td>28.33</td>\n",
       "    </tr>\n",
       "    <tr>\n",
       "      <th>INDIAN TRAIL</th>\n",
       "      <td>28195</td>\n",
       "      <td>16.78</td>\n",
       "    </tr>\n",
       "    <tr>\n",
       "      <th>MATTHEWS</th>\n",
       "      <td>25840</td>\n",
       "      <td>15.37</td>\n",
       "    </tr>\n",
       "    <tr>\n",
       "      <th>MARSHVILLE</th>\n",
       "      <td>7299</td>\n",
       "      <td>4.34</td>\n",
       "    </tr>\n",
       "    <tr>\n",
       "      <th>WINGATE</th>\n",
       "      <td>5734</td>\n",
       "      <td>3.41</td>\n",
       "    </tr>\n",
       "    <tr>\n",
       "      <th>CHARLOTTE</th>\n",
       "      <td>396</td>\n",
       "      <td>0.24</td>\n",
       "    </tr>\n",
       "    <tr>\n",
       "      <th>PEACHLAND</th>\n",
       "      <td>155</td>\n",
       "      <td>0.09</td>\n",
       "    </tr>\n",
       "    <tr>\n",
       "      <th>MIDLAND</th>\n",
       "      <td>86</td>\n",
       "      <td>0.05</td>\n",
       "    </tr>\n",
       "    <tr>\n",
       "      <th>NaN</th>\n",
       "      <td>3</td>\n",
       "      <td>0.00</td>\n",
       "    </tr>\n",
       "    <tr>\n",
       "      <th>POLKTON</th>\n",
       "      <td>2</td>\n",
       "      <td>0.00</td>\n",
       "    </tr>\n",
       "  </tbody>\n",
       "</table>\n",
       "</div>"
      ],
      "text/plain": [
       "              count      %\n",
       "MONROE        52751  31.39\n",
       "WAXHAW        47609  28.33\n",
       "INDIAN TRAIL  28195  16.78\n",
       "MATTHEWS      25840  15.37\n",
       "MARSHVILLE     7299   4.34\n",
       "WINGATE        5734   3.41\n",
       "CHARLOTTE       396   0.24\n",
       "PEACHLAND       155   0.09\n",
       "MIDLAND          86   0.05\n",
       "NaN               3   0.00\n",
       "POLKTON           2   0.00"
      ]
     },
     "execution_count": 22,
     "metadata": {},
     "output_type": "execute_result"
    }
   ],
   "source": [
    "check_unique('res_city_desc', elec_2020_df)"
   ]
  },
  {
   "cell_type": "markdown",
   "metadata": {},
   "source": [
    "> There are several rare labels, so if `res_city_desc` is to be used as a predictor, cities besides Monroe, Waxhaw, Indian Trail, and Matthews should probably be combined into an 'Other' category."
   ]
  },
  {
   "cell_type": "code",
   "execution_count": 23,
   "metadata": {
    "ExecuteTime": {
     "end_time": "2021-01-12T23:10:38.847905Z",
     "start_time": "2021-01-12T23:10:38.803456Z"
    }
   },
   "outputs": [
    {
     "data": {
      "text/html": [
       "<div>\n",
       "<style scoped>\n",
       "    .dataframe tbody tr th:only-of-type {\n",
       "        vertical-align: middle;\n",
       "    }\n",
       "\n",
       "    .dataframe tbody tr th {\n",
       "        vertical-align: top;\n",
       "    }\n",
       "\n",
       "    .dataframe thead th {\n",
       "        text-align: right;\n",
       "    }\n",
       "</style>\n",
       "<table border=\"1\" class=\"dataframe\">\n",
       "  <thead>\n",
       "    <tr style=\"text-align: right;\">\n",
       "      <th></th>\n",
       "      <th>count</th>\n",
       "      <th>%</th>\n",
       "    </tr>\n",
       "  </thead>\n",
       "  <tbody>\n",
       "    <tr>\n",
       "      <th>NC</th>\n",
       "      <td>46367</td>\n",
       "      <td>27.59</td>\n",
       "    </tr>\n",
       "    <tr>\n",
       "      <th>Missing</th>\n",
       "      <td>40772</td>\n",
       "      <td>24.26</td>\n",
       "    </tr>\n",
       "    <tr>\n",
       "      <th>NY</th>\n",
       "      <td>13211</td>\n",
       "      <td>7.86</td>\n",
       "    </tr>\n",
       "    <tr>\n",
       "      <th>OC</th>\n",
       "      <td>10042</td>\n",
       "      <td>5.97</td>\n",
       "    </tr>\n",
       "    <tr>\n",
       "      <th>SC</th>\n",
       "      <td>4753</td>\n",
       "      <td>2.83</td>\n",
       "    </tr>\n",
       "    <tr>\n",
       "      <th>NJ</th>\n",
       "      <td>4492</td>\n",
       "      <td>2.67</td>\n",
       "    </tr>\n",
       "    <tr>\n",
       "      <th>OH</th>\n",
       "      <td>4336</td>\n",
       "      <td>2.58</td>\n",
       "    </tr>\n",
       "    <tr>\n",
       "      <th>PA</th>\n",
       "      <td>4334</td>\n",
       "      <td>2.58</td>\n",
       "    </tr>\n",
       "    <tr>\n",
       "      <th>FL</th>\n",
       "      <td>3786</td>\n",
       "      <td>2.25</td>\n",
       "    </tr>\n",
       "    <tr>\n",
       "      <th>CA</th>\n",
       "      <td>3351</td>\n",
       "      <td>1.99</td>\n",
       "    </tr>\n",
       "    <tr>\n",
       "      <th>VA</th>\n",
       "      <td>3046</td>\n",
       "      <td>1.81</td>\n",
       "    </tr>\n",
       "    <tr>\n",
       "      <th>MI</th>\n",
       "      <td>2430</td>\n",
       "      <td>1.45</td>\n",
       "    </tr>\n",
       "    <tr>\n",
       "      <th>IL</th>\n",
       "      <td>2418</td>\n",
       "      <td>1.44</td>\n",
       "    </tr>\n",
       "    <tr>\n",
       "      <th>GA</th>\n",
       "      <td>2336</td>\n",
       "      <td>1.39</td>\n",
       "    </tr>\n",
       "    <tr>\n",
       "      <th>TX</th>\n",
       "      <td>1842</td>\n",
       "      <td>1.10</td>\n",
       "    </tr>\n",
       "    <tr>\n",
       "      <th>MA</th>\n",
       "      <td>1785</td>\n",
       "      <td>1.06</td>\n",
       "    </tr>\n",
       "    <tr>\n",
       "      <th>WV</th>\n",
       "      <td>1632</td>\n",
       "      <td>0.97</td>\n",
       "    </tr>\n",
       "    <tr>\n",
       "      <th>MD</th>\n",
       "      <td>1614</td>\n",
       "      <td>0.96</td>\n",
       "    </tr>\n",
       "    <tr>\n",
       "      <th>CT</th>\n",
       "      <td>1440</td>\n",
       "      <td>0.86</td>\n",
       "    </tr>\n",
       "    <tr>\n",
       "      <th>IN</th>\n",
       "      <td>1283</td>\n",
       "      <td>0.76</td>\n",
       "    </tr>\n",
       "    <tr>\n",
       "      <th>TN</th>\n",
       "      <td>1233</td>\n",
       "      <td>0.73</td>\n",
       "    </tr>\n",
       "    <tr>\n",
       "      <th>AL</th>\n",
       "      <td>835</td>\n",
       "      <td>0.50</td>\n",
       "    </tr>\n",
       "    <tr>\n",
       "      <th>KY</th>\n",
       "      <td>828</td>\n",
       "      <td>0.49</td>\n",
       "    </tr>\n",
       "    <tr>\n",
       "      <th>WI</th>\n",
       "      <td>746</td>\n",
       "      <td>0.44</td>\n",
       "    </tr>\n",
       "    <tr>\n",
       "      <th>MO</th>\n",
       "      <td>742</td>\n",
       "      <td>0.44</td>\n",
       "    </tr>\n",
       "    <tr>\n",
       "      <th>LA</th>\n",
       "      <td>641</td>\n",
       "      <td>0.38</td>\n",
       "    </tr>\n",
       "    <tr>\n",
       "      <th>DC</th>\n",
       "      <td>611</td>\n",
       "      <td>0.36</td>\n",
       "    </tr>\n",
       "    <tr>\n",
       "      <th>MN</th>\n",
       "      <td>524</td>\n",
       "      <td>0.31</td>\n",
       "    </tr>\n",
       "    <tr>\n",
       "      <th>CO</th>\n",
       "      <td>483</td>\n",
       "      <td>0.29</td>\n",
       "    </tr>\n",
       "    <tr>\n",
       "      <th>PR</th>\n",
       "      <td>470</td>\n",
       "      <td>0.28</td>\n",
       "    </tr>\n",
       "    <tr>\n",
       "      <th>IA</th>\n",
       "      <td>469</td>\n",
       "      <td>0.28</td>\n",
       "    </tr>\n",
       "    <tr>\n",
       "      <th>WA</th>\n",
       "      <td>452</td>\n",
       "      <td>0.27</td>\n",
       "    </tr>\n",
       "    <tr>\n",
       "      <th>MS</th>\n",
       "      <td>426</td>\n",
       "      <td>0.25</td>\n",
       "    </tr>\n",
       "    <tr>\n",
       "      <th>AZ</th>\n",
       "      <td>419</td>\n",
       "      <td>0.25</td>\n",
       "    </tr>\n",
       "    <tr>\n",
       "      <th>OK</th>\n",
       "      <td>356</td>\n",
       "      <td>0.21</td>\n",
       "    </tr>\n",
       "    <tr>\n",
       "      <th>KS</th>\n",
       "      <td>352</td>\n",
       "      <td>0.21</td>\n",
       "    </tr>\n",
       "    <tr>\n",
       "      <th>RI</th>\n",
       "      <td>313</td>\n",
       "      <td>0.19</td>\n",
       "    </tr>\n",
       "    <tr>\n",
       "      <th>AR</th>\n",
       "      <td>268</td>\n",
       "      <td>0.16</td>\n",
       "    </tr>\n",
       "    <tr>\n",
       "      <th>NH</th>\n",
       "      <td>262</td>\n",
       "      <td>0.16</td>\n",
       "    </tr>\n",
       "    <tr>\n",
       "      <th>NE</th>\n",
       "      <td>249</td>\n",
       "      <td>0.15</td>\n",
       "    </tr>\n",
       "    <tr>\n",
       "      <th>ME</th>\n",
       "      <td>247</td>\n",
       "      <td>0.15</td>\n",
       "    </tr>\n",
       "    <tr>\n",
       "      <th>DE</th>\n",
       "      <td>236</td>\n",
       "      <td>0.14</td>\n",
       "    </tr>\n",
       "    <tr>\n",
       "      <th>UT</th>\n",
       "      <td>216</td>\n",
       "      <td>0.13</td>\n",
       "    </tr>\n",
       "    <tr>\n",
       "      <th>OR</th>\n",
       "      <td>214</td>\n",
       "      <td>0.13</td>\n",
       "    </tr>\n",
       "    <tr>\n",
       "      <th>VT</th>\n",
       "      <td>207</td>\n",
       "      <td>0.12</td>\n",
       "    </tr>\n",
       "    <tr>\n",
       "      <th>NM</th>\n",
       "      <td>151</td>\n",
       "      <td>0.09</td>\n",
       "    </tr>\n",
       "    <tr>\n",
       "      <th>HI</th>\n",
       "      <td>148</td>\n",
       "      <td>0.09</td>\n",
       "    </tr>\n",
       "    <tr>\n",
       "      <th>NV</th>\n",
       "      <td>125</td>\n",
       "      <td>0.07</td>\n",
       "    </tr>\n",
       "    <tr>\n",
       "      <th>ID</th>\n",
       "      <td>112</td>\n",
       "      <td>0.07</td>\n",
       "    </tr>\n",
       "    <tr>\n",
       "      <th>AK</th>\n",
       "      <td>106</td>\n",
       "      <td>0.06</td>\n",
       "    </tr>\n",
       "    <tr>\n",
       "      <th>ND</th>\n",
       "      <td>102</td>\n",
       "      <td>0.06</td>\n",
       "    </tr>\n",
       "    <tr>\n",
       "      <th>SD</th>\n",
       "      <td>98</td>\n",
       "      <td>0.06</td>\n",
       "    </tr>\n",
       "    <tr>\n",
       "      <th>MT</th>\n",
       "      <td>95</td>\n",
       "      <td>0.06</td>\n",
       "    </tr>\n",
       "    <tr>\n",
       "      <th>WY</th>\n",
       "      <td>40</td>\n",
       "      <td>0.02</td>\n",
       "    </tr>\n",
       "    <tr>\n",
       "      <th>VI</th>\n",
       "      <td>15</td>\n",
       "      <td>0.01</td>\n",
       "    </tr>\n",
       "    <tr>\n",
       "      <th>GU</th>\n",
       "      <td>8</td>\n",
       "      <td>0.00</td>\n",
       "    </tr>\n",
       "    <tr>\n",
       "      <th>NO</th>\n",
       "      <td>1</td>\n",
       "      <td>0.00</td>\n",
       "    </tr>\n",
       "  </tbody>\n",
       "</table>\n",
       "</div>"
      ],
      "text/plain": [
       "         count      %\n",
       "NC       46367  27.59\n",
       "Missing  40772  24.26\n",
       "NY       13211   7.86\n",
       "OC       10042   5.97\n",
       "SC        4753   2.83\n",
       "NJ        4492   2.67\n",
       "OH        4336   2.58\n",
       "PA        4334   2.58\n",
       "FL        3786   2.25\n",
       "CA        3351   1.99\n",
       "VA        3046   1.81\n",
       "MI        2430   1.45\n",
       "IL        2418   1.44\n",
       "GA        2336   1.39\n",
       "TX        1842   1.10\n",
       "MA        1785   1.06\n",
       "WV        1632   0.97\n",
       "MD        1614   0.96\n",
       "CT        1440   0.86\n",
       "IN        1283   0.76\n",
       "TN        1233   0.73\n",
       "AL         835   0.50\n",
       "KY         828   0.49\n",
       "WI         746   0.44\n",
       "MO         742   0.44\n",
       "LA         641   0.38\n",
       "DC         611   0.36\n",
       "MN         524   0.31\n",
       "CO         483   0.29\n",
       "PR         470   0.28\n",
       "IA         469   0.28\n",
       "WA         452   0.27\n",
       "MS         426   0.25\n",
       "AZ         419   0.25\n",
       "OK         356   0.21\n",
       "KS         352   0.21\n",
       "RI         313   0.19\n",
       "AR         268   0.16\n",
       "NH         262   0.16\n",
       "NE         249   0.15\n",
       "ME         247   0.15\n",
       "DE         236   0.14\n",
       "UT         216   0.13\n",
       "OR         214   0.13\n",
       "VT         207   0.12\n",
       "NM         151   0.09\n",
       "HI         148   0.09\n",
       "NV         125   0.07\n",
       "ID         112   0.07\n",
       "AK         106   0.06\n",
       "ND         102   0.06\n",
       "SD          98   0.06\n",
       "MT          95   0.06\n",
       "WY          40   0.02\n",
       "VI          15   0.01\n",
       "GU           8   0.00\n",
       "NO           1   0.00"
      ]
     },
     "execution_count": 23,
     "metadata": {},
     "output_type": "execute_result"
    }
   ],
   "source": [
    "check_unique('birth_state', elec_2020_df)"
   ]
  },
  {
   "cell_type": "markdown",
   "metadata": {},
   "source": [
    "> The majority of `birth_state` labels are rare categories (less than 5% of voters). Some of the codes do not appear to be U.S. states or territories. These rare labels could be dealt with in a couple ways. They could all be grouped into an 'Other' category, or they could be grouped according to geographic region of the U.S. with an additional category for naturalized U.S. citizens."
   ]
  },
  {
   "cell_type": "code",
   "execution_count": 24,
   "metadata": {
    "ExecuteTime": {
     "end_time": "2021-01-12T23:10:38.888355Z",
     "start_time": "2021-01-12T23:10:38.852357Z"
    }
   },
   "outputs": [
    {
     "data": {
      "text/html": [
       "<div>\n",
       "<style scoped>\n",
       "    .dataframe tbody tr th:only-of-type {\n",
       "        vertical-align: middle;\n",
       "    }\n",
       "\n",
       "    .dataframe tbody tr th {\n",
       "        vertical-align: top;\n",
       "    }\n",
       "\n",
       "    .dataframe thead th {\n",
       "        text-align: right;\n",
       "    }\n",
       "</style>\n",
       "<table border=\"1\" class=\"dataframe\">\n",
       "  <thead>\n",
       "    <tr style=\"text-align: right;\">\n",
       "      <th></th>\n",
       "      <th>count</th>\n",
       "      <th>%</th>\n",
       "    </tr>\n",
       "  </thead>\n",
       "  <tbody>\n",
       "    <tr>\n",
       "      <th>Y</th>\n",
       "      <td>152984</td>\n",
       "      <td>91.02</td>\n",
       "    </tr>\n",
       "    <tr>\n",
       "      <th>N</th>\n",
       "      <td>15086</td>\n",
       "      <td>8.98</td>\n",
       "    </tr>\n",
       "  </tbody>\n",
       "</table>\n",
       "</div>"
      ],
      "text/plain": [
       "    count      %\n",
       "Y  152984  91.02\n",
       "N   15086   8.98"
      ]
     },
     "execution_count": 24,
     "metadata": {},
     "output_type": "execute_result"
    }
   ],
   "source": [
    "check_unique('drivers_lic', elec_2020_df)"
   ]
  },
  {
   "cell_type": "markdown",
   "metadata": {},
   "source": [
    "### 2020 Group Rare Categories"
   ]
  },
  {
   "cell_type": "code",
   "execution_count": 25,
   "metadata": {
    "ExecuteTime": {
     "end_time": "2021-01-12T23:10:38.910795Z",
     "start_time": "2021-01-12T23:10:38.890316Z"
    }
   },
   "outputs": [
    {
     "data": {
      "text/html": [
       "<div>\n",
       "<style scoped>\n",
       "    .dataframe tbody tr th:only-of-type {\n",
       "        vertical-align: middle;\n",
       "    }\n",
       "\n",
       "    .dataframe tbody tr th {\n",
       "        vertical-align: top;\n",
       "    }\n",
       "\n",
       "    .dataframe thead th {\n",
       "        text-align: right;\n",
       "    }\n",
       "</style>\n",
       "<table border=\"1\" class=\"dataframe\">\n",
       "  <thead>\n",
       "    <tr style=\"text-align: right;\">\n",
       "      <th></th>\n",
       "      <th>count</th>\n",
       "      <th>%</th>\n",
       "    </tr>\n",
       "  </thead>\n",
       "  <tbody>\n",
       "    <tr>\n",
       "      <th>1</th>\n",
       "      <td>131483</td>\n",
       "      <td>78.23</td>\n",
       "    </tr>\n",
       "    <tr>\n",
       "      <th>0</th>\n",
       "      <td>36587</td>\n",
       "      <td>21.77</td>\n",
       "    </tr>\n",
       "  </tbody>\n",
       "</table>\n",
       "</div>"
      ],
      "text/plain": [
       "    count      %\n",
       "1  131483  78.23\n",
       "0   36587  21.77"
      ]
     },
     "execution_count": 25,
     "metadata": {},
     "output_type": "execute_result"
    }
   ],
   "source": [
    "## Create new column that is a binary variable indicating whether the voter\n",
    "  ## cast a vote in the 2020 election or not\n",
    "elec_2020_df['Gen_2020_binary'] = np.where(elec_2020_df['Gen_2020']=='No Vote',\n",
    "                                0, 1)\n",
    "\n",
    "## Check distribution\n",
    "check_unique('Gen_2020_binary', elec_2020_df)"
   ]
  },
  {
   "cell_type": "code",
   "execution_count": 26,
   "metadata": {
    "ExecuteTime": {
     "end_time": "2021-01-12T23:10:38.933897Z",
     "start_time": "2021-01-12T23:10:38.912728Z"
    }
   },
   "outputs": [
    {
     "data": {
      "text/html": [
       "<div>\n",
       "<style scoped>\n",
       "    .dataframe tbody tr th:only-of-type {\n",
       "        vertical-align: middle;\n",
       "    }\n",
       "\n",
       "    .dataframe tbody tr th {\n",
       "        vertical-align: top;\n",
       "    }\n",
       "\n",
       "    .dataframe thead th {\n",
       "        text-align: right;\n",
       "    }\n",
       "</style>\n",
       "<table border=\"1\" class=\"dataframe\">\n",
       "  <thead>\n",
       "    <tr style=\"text-align: right;\">\n",
       "      <th></th>\n",
       "      <th>count</th>\n",
       "      <th>%</th>\n",
       "    </tr>\n",
       "  </thead>\n",
       "  <tbody>\n",
       "    <tr>\n",
       "      <th>0</th>\n",
       "      <td>124810</td>\n",
       "      <td>74.26</td>\n",
       "    </tr>\n",
       "    <tr>\n",
       "      <th>1</th>\n",
       "      <td>43260</td>\n",
       "      <td>25.74</td>\n",
       "    </tr>\n",
       "  </tbody>\n",
       "</table>\n",
       "</div>"
      ],
      "text/plain": [
       "    count      %\n",
       "0  124810  74.26\n",
       "1   43260  25.74"
      ]
     },
     "execution_count": 26,
     "metadata": {},
     "output_type": "execute_result"
    }
   ],
   "source": [
    "## Create new column that is a binary variable indicating whether the voter\n",
    "  ## cast a vote in the 2020 election or not\n",
    "elec_2020_df['Pri_2020_binary'] = np.where(elec_2020_df['Pri_2020']=='No Vote',\n",
    "                                0, 1)\n",
    "\n",
    "## Check distribution\n",
    "check_unique('Pri_2020_binary', elec_2020_df)"
   ]
  },
  {
   "cell_type": "code",
   "execution_count": 27,
   "metadata": {
    "ExecuteTime": {
     "end_time": "2021-01-12T23:10:39.024631Z",
     "start_time": "2021-01-12T23:10:38.935833Z"
    }
   },
   "outputs": [
    {
     "data": {
      "text/html": [
       "<div>\n",
       "<style scoped>\n",
       "    .dataframe tbody tr th:only-of-type {\n",
       "        vertical-align: middle;\n",
       "    }\n",
       "\n",
       "    .dataframe tbody tr th {\n",
       "        vertical-align: top;\n",
       "    }\n",
       "\n",
       "    .dataframe thead th {\n",
       "        text-align: right;\n",
       "    }\n",
       "</style>\n",
       "<table border=\"1\" class=\"dataframe\">\n",
       "  <thead>\n",
       "    <tr style=\"text-align: right;\">\n",
       "      <th></th>\n",
       "      <th>count</th>\n",
       "      <th>%</th>\n",
       "    </tr>\n",
       "  </thead>\n",
       "  <tbody>\n",
       "    <tr>\n",
       "      <th>Rep</th>\n",
       "      <td>69079</td>\n",
       "      <td>41.1</td>\n",
       "    </tr>\n",
       "    <tr>\n",
       "      <th>Other</th>\n",
       "      <td>58651</td>\n",
       "      <td>34.9</td>\n",
       "    </tr>\n",
       "    <tr>\n",
       "      <th>Dem</th>\n",
       "      <td>40340</td>\n",
       "      <td>24.0</td>\n",
       "    </tr>\n",
       "  </tbody>\n",
       "</table>\n",
       "</div>"
      ],
      "text/plain": [
       "       count     %\n",
       "Rep    69079  41.1\n",
       "Other  58651  34.9\n",
       "Dem    40340  24.0"
      ]
     },
     "execution_count": 27,
     "metadata": {},
     "output_type": "execute_result"
    }
   ],
   "source": [
    "## Create new column grouping most infrequent party categories (<5% of voters)\n",
    "  ## into same group as those who are unaffiliated\n",
    "elec_2020_df['party_grp'] = np.where(elec_2020_df['party_cd'].isin(['REP', 'DEM']),\n",
    "                                elec_2020_df['party_cd'].str.title(), 'Other')\n",
    "\n",
    "## Check distribution\n",
    "check_unique('party_grp', elec_2020_df)"
   ]
  },
  {
   "cell_type": "code",
   "execution_count": 28,
   "metadata": {
    "ExecuteTime": {
     "end_time": "2021-01-12T23:10:39.096886Z",
     "start_time": "2021-01-12T23:10:39.026826Z"
    }
   },
   "outputs": [
    {
     "data": {
      "text/html": [
       "<div>\n",
       "<style scoped>\n",
       "    .dataframe tbody tr th:only-of-type {\n",
       "        vertical-align: middle;\n",
       "    }\n",
       "\n",
       "    .dataframe tbody tr th {\n",
       "        vertical-align: top;\n",
       "    }\n",
       "\n",
       "    .dataframe thead th {\n",
       "        text-align: right;\n",
       "    }\n",
       "</style>\n",
       "<table border=\"1\" class=\"dataframe\">\n",
       "  <thead>\n",
       "    <tr style=\"text-align: right;\">\n",
       "      <th></th>\n",
       "      <th>count</th>\n",
       "      <th>%</th>\n",
       "    </tr>\n",
       "  </thead>\n",
       "  <tbody>\n",
       "    <tr>\n",
       "      <th>White</th>\n",
       "      <td>119683</td>\n",
       "      <td>71.21</td>\n",
       "    </tr>\n",
       "    <tr>\n",
       "      <th>Black</th>\n",
       "      <td>19182</td>\n",
       "      <td>11.41</td>\n",
       "    </tr>\n",
       "    <tr>\n",
       "      <th>Undesig.</th>\n",
       "      <td>18823</td>\n",
       "      <td>11.20</td>\n",
       "    </tr>\n",
       "    <tr>\n",
       "      <th>Other</th>\n",
       "      <td>10382</td>\n",
       "      <td>6.18</td>\n",
       "    </tr>\n",
       "  </tbody>\n",
       "</table>\n",
       "</div>"
      ],
      "text/plain": [
       "           count      %\n",
       "White     119683  71.21\n",
       "Black      19182  11.41\n",
       "Undesig.   18823  11.20\n",
       "Other      10382   6.18"
      ]
     },
     "execution_count": 28,
     "metadata": {},
     "output_type": "execute_result"
    }
   ],
   "source": [
    "## Create new column grouping most infrequent race categories (<5% of voters)\n",
    "elec_2020_df['race_grp'] = np.where(elec_2020_df['race_code'].isin(['W', 'B', 'U']),\n",
    "                               elec_2020_df['race_code'], 'O')\n",
    "race_grp_map = {'W': 'White',\n",
    "                'B': 'Black',\n",
    "                'U': 'Undesig.',\n",
    "                'O': 'Other'}\n",
    "elec_2020_df['race_grp'] = elec_2020_df['race_grp'].map(race_grp_map)\n",
    "\n",
    "## Check distribution\n",
    "check_unique('race_grp', elec_2020_df)"
   ]
  },
  {
   "cell_type": "code",
   "execution_count": 29,
   "metadata": {
    "ExecuteTime": {
     "end_time": "2021-01-12T23:10:39.201827Z",
     "start_time": "2021-01-12T23:10:39.099169Z"
    }
   },
   "outputs": [
    {
     "data": {
      "text/html": [
       "<div>\n",
       "<style scoped>\n",
       "    .dataframe tbody tr th:only-of-type {\n",
       "        vertical-align: middle;\n",
       "    }\n",
       "\n",
       "    .dataframe tbody tr th {\n",
       "        vertical-align: top;\n",
       "    }\n",
       "\n",
       "    .dataframe thead th {\n",
       "        text-align: right;\n",
       "    }\n",
       "</style>\n",
       "<table border=\"1\" class=\"dataframe\">\n",
       "  <thead>\n",
       "    <tr style=\"text-align: right;\">\n",
       "      <th></th>\n",
       "      <th>count</th>\n",
       "      <th>%</th>\n",
       "    </tr>\n",
       "  </thead>\n",
       "  <tbody>\n",
       "    <tr>\n",
       "      <th>Monroe</th>\n",
       "      <td>52751</td>\n",
       "      <td>31.39</td>\n",
       "    </tr>\n",
       "    <tr>\n",
       "      <th>Waxhaw</th>\n",
       "      <td>47609</td>\n",
       "      <td>28.33</td>\n",
       "    </tr>\n",
       "    <tr>\n",
       "      <th>Indian Trail</th>\n",
       "      <td>28195</td>\n",
       "      <td>16.78</td>\n",
       "    </tr>\n",
       "    <tr>\n",
       "      <th>Matthews</th>\n",
       "      <td>25840</td>\n",
       "      <td>15.37</td>\n",
       "    </tr>\n",
       "    <tr>\n",
       "      <th>Other</th>\n",
       "      <td>13675</td>\n",
       "      <td>8.14</td>\n",
       "    </tr>\n",
       "  </tbody>\n",
       "</table>\n",
       "</div>"
      ],
      "text/plain": [
       "              count      %\n",
       "Monroe        52751  31.39\n",
       "Waxhaw        47609  28.33\n",
       "Indian Trail  28195  16.78\n",
       "Matthews      25840  15.37\n",
       "Other         13675   8.14"
      ]
     },
     "execution_count": 29,
     "metadata": {},
     "output_type": "execute_result"
    }
   ],
   "source": [
    "## Create new column grouping most infrequent cities (<5% of voters)\n",
    "elec_2020_df['city_grp'] = np.where(elec_2020_df['res_city_desc'].isin(['MONROE', \n",
    "                                                              'WAXHAW',\n",
    "                                                              'INDIAN TRAIL',\n",
    "                                                              'MATTHEWS']),\n",
    "                                elec_2020_df['res_city_desc'].str.title(), 'Other')\n",
    "\n",
    "## Check distribution\n",
    "check_unique('city_grp', elec_2020_df)"
   ]
  },
  {
   "cell_type": "code",
   "execution_count": 30,
   "metadata": {
    "ExecuteTime": {
     "end_time": "2021-01-12T23:10:39.322873Z",
     "start_time": "2021-01-12T23:10:39.203564Z"
    }
   },
   "outputs": [
    {
     "data": {
      "text/html": [
       "<div>\n",
       "<style scoped>\n",
       "    .dataframe tbody tr th:only-of-type {\n",
       "        vertical-align: middle;\n",
       "    }\n",
       "\n",
       "    .dataframe tbody tr th {\n",
       "        vertical-align: top;\n",
       "    }\n",
       "\n",
       "    .dataframe thead th {\n",
       "        text-align: right;\n",
       "    }\n",
       "</style>\n",
       "<table border=\"1\" class=\"dataframe\">\n",
       "  <thead>\n",
       "    <tr style=\"text-align: right;\">\n",
       "      <th></th>\n",
       "      <th>count</th>\n",
       "      <th>%</th>\n",
       "    </tr>\n",
       "  </thead>\n",
       "  <tbody>\n",
       "    <tr>\n",
       "      <th>South</th>\n",
       "      <td>70810</td>\n",
       "      <td>42.13</td>\n",
       "    </tr>\n",
       "    <tr>\n",
       "      <th>Missing</th>\n",
       "      <td>40773</td>\n",
       "      <td>24.26</td>\n",
       "    </tr>\n",
       "    <tr>\n",
       "      <th>Northeast</th>\n",
       "      <td>26291</td>\n",
       "      <td>15.64</td>\n",
       "    </tr>\n",
       "    <tr>\n",
       "      <th>Midwest</th>\n",
       "      <td>13749</td>\n",
       "      <td>8.18</td>\n",
       "    </tr>\n",
       "    <tr>\n",
       "      <th>Other</th>\n",
       "      <td>10535</td>\n",
       "      <td>6.27</td>\n",
       "    </tr>\n",
       "    <tr>\n",
       "      <th>West</th>\n",
       "      <td>5912</td>\n",
       "      <td>3.52</td>\n",
       "    </tr>\n",
       "  </tbody>\n",
       "</table>\n",
       "</div>"
      ],
      "text/plain": [
       "           count      %\n",
       "South      70810  42.13\n",
       "Missing    40773  24.26\n",
       "Northeast  26291  15.64\n",
       "Midwest    13749   8.18\n",
       "Other      10535   6.27\n",
       "West        5912   3.52"
      ]
     },
     "execution_count": 30,
     "metadata": {},
     "output_type": "execute_result"
    }
   ],
   "source": [
    "## Create a function for grouping birth_state into U.S. Census regions, \n",
    "  ## also lumping territories and out of country into 'Other'\n",
    "def get_birth_reg_census_other(state):\n",
    "    \n",
    "    if state in ['AS', 'GU', 'MP', 'PR', 'VI', 'OC']:\n",
    "        return 'Other'\n",
    "    \n",
    "    # the rest of the categories are based on U.S. Census Bureau regions\n",
    "    elif state in ['CT', 'ME', 'MA', 'NH', 'RI', 'VT',\n",
    "                     'NJ', 'NY', 'PA']:\n",
    "        return 'Northeast'\n",
    "    \n",
    "    elif state in ['DE', 'FL', 'GA', 'MD', 'NC', 'SC', 'VA', \n",
    "                     'DC', 'WV', 'AL', 'KY', 'MS', 'TN', 'AR',\n",
    "                     'LA', 'OK', 'TX']:\n",
    "        return 'South'\n",
    "    \n",
    "    elif state in ['IL', 'IN', 'MI', 'OH', 'WI',\n",
    "                     'IA', 'KS', 'MN', 'MO', 'NE', 'ND', 'SD']:\n",
    "        return 'Midwest'\n",
    "    \n",
    "    elif state in ['AZ', 'CO', 'ID', 'MT', 'NV', 'NM', 'UT',\n",
    "                     'WY', 'AK', 'CA', 'HI', 'OR', 'WA']:\n",
    "        return 'West'\n",
    "    \n",
    "    else:\n",
    "        return 'Missing'\n",
    "\n",
    "## Create a new column grouping birth_state into U.S. Census regions,\n",
    "  ## this time lumping territories and out of country into 'Other'\n",
    "elec_2020_df['birth_reg_other'] = elec_2020_df['birth_state'].apply(get_birth_reg_census_other)\n",
    "check_unique('birth_reg_other', elec_2020_df)"
   ]
  },
  {
   "cell_type": "markdown",
   "metadata": {},
   "source": [
    "### 2020 Numeric Variables"
   ]
  },
  {
   "cell_type": "code",
   "execution_count": 31,
   "metadata": {
    "ExecuteTime": {
     "end_time": "2021-01-12T23:10:39.886181Z",
     "start_time": "2021-01-12T23:10:39.324682Z"
    }
   },
   "outputs": [
    {
     "data": {
      "image/png": "[encoded data removed]",
      "text/plain": [
       "<Figure size 720x504 with 1 Axes>"
      ]
     },
     "metadata": {
      "needs_background": "light"
     },
     "output_type": "display_data"
    }
   ],
   "source": [
    "## Plot distribution of current age as of EOY 2020 \n",
    "plt.figure(figsize=(10,7))\n",
    "ax = sns.histplot(elec_2020_df['birth_age_adj'], stat='density')\n",
    "ax.set_title('Distribution of Age', fontsize=16, weight='bold')\n",
    "ax.set_xlabel('Age', fontsize=14, weight='bold')\n",
    "ax.set_ylabel('Count', fontsize=14, weight='bold')\n",
    "ax.set_xlim(15,115);"
   ]
  },
  {
   "cell_type": "markdown",
   "metadata": {},
   "source": [
    "### 2020 Bin Age into Generation Categories"
   ]
  },
  {
   "cell_type": "code",
   "execution_count": 32,
   "metadata": {
    "ExecuteTime": {
     "end_time": "2021-01-12T23:10:39.986243Z",
     "start_time": "2021-01-12T23:10:39.888771Z"
    }
   },
   "outputs": [
    {
     "data": {
      "text/html": [
       "<div>\n",
       "<style scoped>\n",
       "    .dataframe tbody tr th:only-of-type {\n",
       "        vertical-align: middle;\n",
       "    }\n",
       "\n",
       "    .dataframe tbody tr th {\n",
       "        vertical-align: top;\n",
       "    }\n",
       "\n",
       "    .dataframe thead th {\n",
       "        text-align: right;\n",
       "    }\n",
       "</style>\n",
       "<table border=\"1\" class=\"dataframe\">\n",
       "  <thead>\n",
       "    <tr style=\"text-align: right;\">\n",
       "      <th></th>\n",
       "      <th>count</th>\n",
       "      <th>%</th>\n",
       "    </tr>\n",
       "  </thead>\n",
       "  <tbody>\n",
       "    <tr>\n",
       "      <th>GenX</th>\n",
       "      <td>53717</td>\n",
       "      <td>31.96</td>\n",
       "    </tr>\n",
       "    <tr>\n",
       "      <th>Boomer</th>\n",
       "      <td>44171</td>\n",
       "      <td>26.28</td>\n",
       "    </tr>\n",
       "    <tr>\n",
       "      <th>Millennial</th>\n",
       "      <td>38600</td>\n",
       "      <td>22.97</td>\n",
       "    </tr>\n",
       "    <tr>\n",
       "      <th>GenZ</th>\n",
       "      <td>19834</td>\n",
       "      <td>11.80</td>\n",
       "    </tr>\n",
       "    <tr>\n",
       "      <th>Silent</th>\n",
       "      <td>11595</td>\n",
       "      <td>6.90</td>\n",
       "    </tr>\n",
       "    <tr>\n",
       "      <th>Greatest</th>\n",
       "      <td>153</td>\n",
       "      <td>0.09</td>\n",
       "    </tr>\n",
       "  </tbody>\n",
       "</table>\n",
       "</div>"
      ],
      "text/plain": [
       "            count      %\n",
       "GenX        53717  31.96\n",
       "Boomer      44171  26.28\n",
       "Millennial  38600  22.97\n",
       "GenZ        19834  11.80\n",
       "Silent      11595   6.90\n",
       "Greatest      153   0.09"
      ]
     },
     "execution_count": 32,
     "metadata": {},
     "output_type": "execute_result"
    }
   ],
   "source": [
    "## Create a function for grouping birth_year into generations\n",
    "def get_generation(birth_year):\n",
    "    \n",
    "    if birth_year <= 1924:\n",
    "        return 'Greatest'\n",
    "    \n",
    "    elif (birth_year > 1923) & (birth_year < 1946):\n",
    "        return 'Silent'\n",
    "    \n",
    "    elif (birth_year > 1945) & (birth_year < 1965):\n",
    "        return 'Boomer'\n",
    "    \n",
    "    elif (birth_year > 1964) & (birth_year < 1981):\n",
    "        return 'GenX'\n",
    "    \n",
    "    elif (birth_year > 1980) & (birth_year < 1997):\n",
    "        return 'Millennial'\n",
    "    \n",
    "    elif birth_year > 1996:\n",
    "        return 'GenZ'\n",
    "\n",
    "## Create a a new column grouping birth_year into generations\n",
    "elec_2020_df['generation'] = elec_2020_df['birth_year'].apply(get_generation)\n",
    "check_unique('generation', elec_2020_df)"
   ]
  },
  {
   "cell_type": "code",
   "execution_count": 33,
   "metadata": {
    "ExecuteTime": {
     "end_time": "2021-01-12T23:10:40.062744Z",
     "start_time": "2021-01-12T23:10:39.987952Z"
    }
   },
   "outputs": [
    {
     "data": {
      "text/html": [
       "<div>\n",
       "<style scoped>\n",
       "    .dataframe tbody tr th:only-of-type {\n",
       "        vertical-align: middle;\n",
       "    }\n",
       "\n",
       "    .dataframe tbody tr th {\n",
       "        vertical-align: top;\n",
       "    }\n",
       "\n",
       "    .dataframe thead th {\n",
       "        text-align: right;\n",
       "    }\n",
       "</style>\n",
       "<table border=\"1\" class=\"dataframe\">\n",
       "  <thead>\n",
       "    <tr style=\"text-align: right;\">\n",
       "      <th></th>\n",
       "      <th>count</th>\n",
       "      <th>%</th>\n",
       "    </tr>\n",
       "  </thead>\n",
       "  <tbody>\n",
       "    <tr>\n",
       "      <th>GenX</th>\n",
       "      <td>53717</td>\n",
       "      <td>31.96</td>\n",
       "    </tr>\n",
       "    <tr>\n",
       "      <th>Boomer</th>\n",
       "      <td>44171</td>\n",
       "      <td>26.28</td>\n",
       "    </tr>\n",
       "    <tr>\n",
       "      <th>Millennial</th>\n",
       "      <td>38600</td>\n",
       "      <td>22.97</td>\n",
       "    </tr>\n",
       "    <tr>\n",
       "      <th>GenZ</th>\n",
       "      <td>19834</td>\n",
       "      <td>11.80</td>\n",
       "    </tr>\n",
       "    <tr>\n",
       "      <th>Greatest-Silent</th>\n",
       "      <td>11748</td>\n",
       "      <td>6.99</td>\n",
       "    </tr>\n",
       "  </tbody>\n",
       "</table>\n",
       "</div>"
      ],
      "text/plain": [
       "                 count      %\n",
       "GenX             53717  31.96\n",
       "Boomer           44171  26.28\n",
       "Millennial       38600  22.97\n",
       "GenZ             19834  11.80\n",
       "Greatest-Silent  11748   6.99"
      ]
     },
     "execution_count": 33,
     "metadata": {},
     "output_type": "execute_result"
    }
   ],
   "source": [
    "## Create a function for grouping birth_year into generations, \n",
    "  ## also lumping Silent in with Greatest\n",
    "def get_gen_grp(birth_year):\n",
    "    \n",
    "    if birth_year < 1946:\n",
    "        return 'Greatest-Silent'\n",
    "    \n",
    "    elif (birth_year > 1945) & (birth_year < 1965):\n",
    "        return 'Boomer'\n",
    "    \n",
    "    elif (birth_year > 1964) & (birth_year < 1981):\n",
    "        return 'GenX'\n",
    "    \n",
    "    elif (birth_year > 1980) & (birth_year < 1997):\n",
    "        return 'Millennial'\n",
    "    \n",
    "    elif birth_year > 1996:\n",
    "        return 'GenZ'\n",
    "\n",
    "## Create a new column grouping birth_year into generations, \n",
    "  ## also lumping Silent in with Greatest\n",
    "elec_2020_df['gen_grp'] = elec_2020_df['birth_year'].apply(get_gen_grp)\n",
    "check_unique('gen_grp', elec_2020_df)"
   ]
  },
  {
   "cell_type": "markdown",
   "metadata": {},
   "source": [
    "### 2020 Load in Full Clean Dataset"
   ]
  },
  {
   "cell_type": "code",
   "execution_count": 34,
   "metadata": {
    "ExecuteTime": {
     "end_time": "2021-01-12T23:10:41.093204Z",
     "start_time": "2021-01-12T23:10:40.064536Z"
    }
   },
   "outputs": [
    {
     "data": {
      "text/html": [
       "<div>\n",
       "<style scoped>\n",
       "    .dataframe tbody tr th:only-of-type {\n",
       "        vertical-align: middle;\n",
       "    }\n",
       "\n",
       "    .dataframe tbody tr th {\n",
       "        vertical-align: top;\n",
       "    }\n",
       "\n",
       "    .dataframe thead th {\n",
       "        text-align: right;\n",
       "    }\n",
       "</style>\n",
       "<table border=\"1\" class=\"dataframe\">\n",
       "  <thead>\n",
       "    <tr style=\"text-align: right;\">\n",
       "      <th></th>\n",
       "      <th>ncid</th>\n",
       "      <th>no_vote_his</th>\n",
       "      <th>birth_age_adj</th>\n",
       "      <th>voting_method</th>\n",
       "      <th>Gen_2020</th>\n",
       "      <th>vote_early</th>\n",
       "      <th>vote_by_mail</th>\n",
       "      <th>vote_curbside</th>\n",
       "      <th>Pri_2020</th>\n",
       "      <th>party_cd</th>\n",
       "      <th>gender_code</th>\n",
       "      <th>birth_year</th>\n",
       "      <th>registr_dt</th>\n",
       "      <th>race_code</th>\n",
       "      <th>ethnic_code</th>\n",
       "      <th>zip_code</th>\n",
       "      <th>res_street_address</th>\n",
       "      <th>res_city_desc</th>\n",
       "      <th>birth_state</th>\n",
       "      <th>drivers_lic</th>\n",
       "      <th>precinct_abbrv</th>\n",
       "      <th>vtd_abbrv</th>\n",
       "      <th>cong_dist_abbrv</th>\n",
       "      <th>super_court_abbrv</th>\n",
       "      <th>judic_dist_abbrv</th>\n",
       "      <th>nc_senate_abbrv</th>\n",
       "      <th>nc_house_abbrv</th>\n",
       "      <th>school_dist_abbrv</th>\n",
       "      <th>drivers_lic_bin</th>\n",
       "      <th>vote_cat</th>\n",
       "      <th>Gen_2020_binary</th>\n",
       "      <th>Pri_2020_binary</th>\n",
       "      <th>party_grp</th>\n",
       "      <th>race_grp</th>\n",
       "      <th>city_grp</th>\n",
       "      <th>birth_reg_other</th>\n",
       "      <th>generation</th>\n",
       "      <th>gen_grp</th>\n",
       "    </tr>\n",
       "  </thead>\n",
       "  <tbody>\n",
       "    <tr>\n",
       "      <th>0</th>\n",
       "      <td>AA100547</td>\n",
       "      <td>0</td>\n",
       "      <td>65.0</td>\n",
       "      <td>ABSENTEE ONESTOP</td>\n",
       "      <td>Early</td>\n",
       "      <td>1.0</td>\n",
       "      <td>0.0</td>\n",
       "      <td>0.0</td>\n",
       "      <td>Election Day</td>\n",
       "      <td>REP</td>\n",
       "      <td>M</td>\n",
       "      <td>1955</td>\n",
       "      <td>2014-03-31</td>\n",
       "      <td>W</td>\n",
       "      <td>UN</td>\n",
       "      <td>28079.0</td>\n",
       "      <td>5514  BEVERLY DR</td>\n",
       "      <td>INDIAN TRAIL</td>\n",
       "      <td>NC</td>\n",
       "      <td>Y</td>\n",
       "      <td>016</td>\n",
       "      <td>016</td>\n",
       "      <td>9.0</td>\n",
       "      <td>20B</td>\n",
       "      <td>20C</td>\n",
       "      <td>35.0</td>\n",
       "      <td>69.0</td>\n",
       "      <td>4.0</td>\n",
       "      <td>1</td>\n",
       "      <td>Early</td>\n",
       "      <td>1</td>\n",
       "      <td>1</td>\n",
       "      <td>Rep</td>\n",
       "      <td>White</td>\n",
       "      <td>Indian Trail</td>\n",
       "      <td>South</td>\n",
       "      <td>Boomer</td>\n",
       "      <td>Boomer</td>\n",
       "    </tr>\n",
       "    <tr>\n",
       "      <th>1</th>\n",
       "      <td>AA108801</td>\n",
       "      <td>0</td>\n",
       "      <td>57.0</td>\n",
       "      <td>No Vote</td>\n",
       "      <td>No Vote</td>\n",
       "      <td>0.0</td>\n",
       "      <td>0.0</td>\n",
       "      <td>0.0</td>\n",
       "      <td>No Vote</td>\n",
       "      <td>UNA</td>\n",
       "      <td>M</td>\n",
       "      <td>1963</td>\n",
       "      <td>2016-11-04</td>\n",
       "      <td>W</td>\n",
       "      <td>NL</td>\n",
       "      <td>28173.0</td>\n",
       "      <td>4221  OXFORD MILL RD</td>\n",
       "      <td>WAXHAW</td>\n",
       "      <td>MA</td>\n",
       "      <td>Y</td>\n",
       "      <td>020B</td>\n",
       "      <td>020B</td>\n",
       "      <td>9.0</td>\n",
       "      <td>20B</td>\n",
       "      <td>20C</td>\n",
       "      <td>35.0</td>\n",
       "      <td>68.0</td>\n",
       "      <td>6.0</td>\n",
       "      <td>1</td>\n",
       "      <td>No Vote</td>\n",
       "      <td>0</td>\n",
       "      <td>0</td>\n",
       "      <td>Other</td>\n",
       "      <td>White</td>\n",
       "      <td>Waxhaw</td>\n",
       "      <td>Northeast</td>\n",
       "      <td>Boomer</td>\n",
       "      <td>Boomer</td>\n",
       "    </tr>\n",
       "    <tr>\n",
       "      <th>2</th>\n",
       "      <td>AA109481</td>\n",
       "      <td>0</td>\n",
       "      <td>47.0</td>\n",
       "      <td>ABSENTEE ONESTOP</td>\n",
       "      <td>Early</td>\n",
       "      <td>1.0</td>\n",
       "      <td>0.0</td>\n",
       "      <td>0.0</td>\n",
       "      <td>No Vote</td>\n",
       "      <td>DEM</td>\n",
       "      <td>F</td>\n",
       "      <td>1973</td>\n",
       "      <td>2020-03-19</td>\n",
       "      <td>W</td>\n",
       "      <td>NL</td>\n",
       "      <td>28173.0</td>\n",
       "      <td>1013  LYDNEY CIR</td>\n",
       "      <td>WAXHAW</td>\n",
       "      <td>MN</td>\n",
       "      <td>Y</td>\n",
       "      <td>020A</td>\n",
       "      <td>020A</td>\n",
       "      <td>9.0</td>\n",
       "      <td>20B</td>\n",
       "      <td>20C</td>\n",
       "      <td>35.0</td>\n",
       "      <td>68.0</td>\n",
       "      <td>2.0</td>\n",
       "      <td>1</td>\n",
       "      <td>Early</td>\n",
       "      <td>1</td>\n",
       "      <td>0</td>\n",
       "      <td>Dem</td>\n",
       "      <td>White</td>\n",
       "      <td>Waxhaw</td>\n",
       "      <td>Midwest</td>\n",
       "      <td>GenX</td>\n",
       "      <td>GenX</td>\n",
       "    </tr>\n",
       "    <tr>\n",
       "      <th>3</th>\n",
       "      <td>AA112504</td>\n",
       "      <td>0</td>\n",
       "      <td>72.0</td>\n",
       "      <td>No Vote</td>\n",
       "      <td>No Vote</td>\n",
       "      <td>0.0</td>\n",
       "      <td>0.0</td>\n",
       "      <td>0.0</td>\n",
       "      <td>No Vote</td>\n",
       "      <td>REP</td>\n",
       "      <td>F</td>\n",
       "      <td>1948</td>\n",
       "      <td>2012-10-26</td>\n",
       "      <td>W</td>\n",
       "      <td>NL</td>\n",
       "      <td>28112.0</td>\n",
       "      <td>4325  WOLF POND RD</td>\n",
       "      <td>MONROE</td>\n",
       "      <td>NY</td>\n",
       "      <td>Y</td>\n",
       "      <td>024</td>\n",
       "      <td>024</td>\n",
       "      <td>9.0</td>\n",
       "      <td>20B</td>\n",
       "      <td>20C</td>\n",
       "      <td>35.0</td>\n",
       "      <td>55.0</td>\n",
       "      <td>2.0</td>\n",
       "      <td>1</td>\n",
       "      <td>No Vote</td>\n",
       "      <td>0</td>\n",
       "      <td>0</td>\n",
       "      <td>Rep</td>\n",
       "      <td>White</td>\n",
       "      <td>Monroe</td>\n",
       "      <td>Northeast</td>\n",
       "      <td>Boomer</td>\n",
       "      <td>Boomer</td>\n",
       "    </tr>\n",
       "    <tr>\n",
       "      <th>4</th>\n",
       "      <td>AA114763</td>\n",
       "      <td>0</td>\n",
       "      <td>53.0</td>\n",
       "      <td>ABSENTEE ONESTOP</td>\n",
       "      <td>Early</td>\n",
       "      <td>1.0</td>\n",
       "      <td>0.0</td>\n",
       "      <td>0.0</td>\n",
       "      <td>Election Day</td>\n",
       "      <td>DEM</td>\n",
       "      <td>F</td>\n",
       "      <td>1967</td>\n",
       "      <td>2012-08-13</td>\n",
       "      <td>B</td>\n",
       "      <td>UN</td>\n",
       "      <td>28104.0</td>\n",
       "      <td>4002  LAWRENCE DANIEL DR</td>\n",
       "      <td>MATTHEWS</td>\n",
       "      <td>NC</td>\n",
       "      <td>Y</td>\n",
       "      <td>037A</td>\n",
       "      <td>037A</td>\n",
       "      <td>9.0</td>\n",
       "      <td>20B</td>\n",
       "      <td>20C</td>\n",
       "      <td>35.0</td>\n",
       "      <td>69.0</td>\n",
       "      <td>5.0</td>\n",
       "      <td>1</td>\n",
       "      <td>Early</td>\n",
       "      <td>1</td>\n",
       "      <td>1</td>\n",
       "      <td>Dem</td>\n",
       "      <td>Black</td>\n",
       "      <td>Matthews</td>\n",
       "      <td>South</td>\n",
       "      <td>GenX</td>\n",
       "      <td>GenX</td>\n",
       "    </tr>\n",
       "  </tbody>\n",
       "</table>\n",
       "</div>"
      ],
      "text/plain": [
       "       ncid  no_vote_his  birth_age_adj     voting_method Gen_2020  \\\n",
       "0  AA100547            0           65.0  ABSENTEE ONESTOP    Early   \n",
       "1  AA108801            0           57.0           No Vote  No Vote   \n",
       "2  AA109481            0           47.0  ABSENTEE ONESTOP    Early   \n",
       "3  AA112504            0           72.0           No Vote  No Vote   \n",
       "4  AA114763            0           53.0  ABSENTEE ONESTOP    Early   \n",
       "\n",
       "   vote_early  vote_by_mail  vote_curbside      Pri_2020 party_cd gender_code  \\\n",
       "0         1.0           0.0            0.0  Election Day      REP           M   \n",
       "1         0.0           0.0            0.0       No Vote      UNA           M   \n",
       "2         1.0           0.0            0.0       No Vote      DEM           F   \n",
       "3         0.0           0.0            0.0       No Vote      REP           F   \n",
       "4         1.0           0.0            0.0  Election Day      DEM           F   \n",
       "\n",
       "   birth_year  registr_dt race_code ethnic_code  zip_code  \\\n",
       "0        1955  2014-03-31         W          UN   28079.0   \n",
       "1        1963  2016-11-04         W          NL   28173.0   \n",
       "2        1973  2020-03-19         W          NL   28173.0   \n",
       "3        1948  2012-10-26         W          NL   28112.0   \n",
       "4        1967  2012-08-13         B          UN   28104.0   \n",
       "\n",
       "            res_street_address res_city_desc birth_state drivers_lic  \\\n",
       "0          5514  BEVERLY DR     INDIAN TRAIL          NC           Y   \n",
       "1      4221  OXFORD MILL RD           WAXHAW          MA           Y   \n",
       "2          1013  LYDNEY CIR           WAXHAW          MN           Y   \n",
       "3        4325  WOLF POND RD           MONROE          NY           Y   \n",
       "4  4002  LAWRENCE DANIEL DR         MATTHEWS          NC           Y   \n",
       "\n",
       "  precinct_abbrv vtd_abbrv  cong_dist_abbrv super_court_abbrv  \\\n",
       "0            016       016              9.0               20B   \n",
       "1           020B      020B              9.0               20B   \n",
       "2           020A      020A              9.0               20B   \n",
       "3            024       024              9.0               20B   \n",
       "4           037A      037A              9.0               20B   \n",
       "\n",
       "  judic_dist_abbrv  nc_senate_abbrv  nc_house_abbrv  school_dist_abbrv  \\\n",
       "0              20C             35.0            69.0                4.0   \n",
       "1              20C             35.0            68.0                6.0   \n",
       "2              20C             35.0            68.0                2.0   \n",
       "3              20C             35.0            55.0                2.0   \n",
       "4              20C             35.0            69.0                5.0   \n",
       "\n",
       "   drivers_lic_bin vote_cat  Gen_2020_binary  Pri_2020_binary party_grp  \\\n",
       "0                1    Early                1                1       Rep   \n",
       "1                1  No Vote                0                0     Other   \n",
       "2                1    Early                1                0       Dem   \n",
       "3                1  No Vote                0                0       Rep   \n",
       "4                1    Early                1                1       Dem   \n",
       "\n",
       "  race_grp      city_grp birth_reg_other generation gen_grp  \n",
       "0    White  Indian Trail           South     Boomer  Boomer  \n",
       "1    White        Waxhaw       Northeast     Boomer  Boomer  \n",
       "2    White        Waxhaw         Midwest       GenX    GenX  \n",
       "3    White        Monroe       Northeast     Boomer  Boomer  \n",
       "4    Black      Matthews           South       GenX    GenX  "
      ]
     },
     "execution_count": 34,
     "metadata": {},
     "output_type": "execute_result"
    }
   ],
   "source": [
    "## Import and preview dataset\n",
    "elec_2020_df = pd.read_csv('Data/UC_gen_2020_clean.gz',\n",
    "                     dtype={'precinct_abbrv': str, \n",
    "                            'vtd_abbrv': str\n",
    "                             })\n",
    "elec_2020_df.head()"
   ]
  },
  {
   "cell_type": "markdown",
   "metadata": {},
   "source": [
    "### 2020 Registered Voter Population Summary"
   ]
  },
  {
   "cell_type": "code",
   "execution_count": 35,
   "metadata": {
    "ExecuteTime": {
     "end_time": "2021-01-12T23:10:41.098846Z",
     "start_time": "2021-01-12T23:10:41.095548Z"
    }
   },
   "outputs": [],
   "source": [
    "if show_plotly:\n",
    "    display(basic_px_hist(elec_2020_df, 2020, 'Gen_2020',\n",
    "                  title='Distribution of Voting Methods in 2020 Election'))"
   ]
  },
  {
   "cell_type": "code",
   "execution_count": 36,
   "metadata": {
    "ExecuteTime": {
     "end_time": "2021-01-12T23:10:41.103867Z",
     "start_time": "2021-01-12T23:10:41.100923Z"
    }
   },
   "outputs": [],
   "source": [
    "if show_plotly:\n",
    "    display(basic_pie(elec_2020_df, 2020, 'Gen_2020',\n",
    "              title='Voting Methods in 2020 Election'))"
   ]
  },
  {
   "cell_type": "code",
   "execution_count": 37,
   "metadata": {
    "ExecuteTime": {
     "end_time": "2021-01-12T23:10:41.108976Z",
     "start_time": "2021-01-12T23:10:41.105802Z"
    }
   },
   "outputs": [],
   "source": [
    "if show_plotly:\n",
    "    fig = px.histogram(elec_2020_df, x='birth_age_adj', nbins=50,\n",
    "                       title='Distribution of Registered Voters by Age in 2020 Election',\n",
    "                       labels={'birth_age_adj': 'Age'},\n",
    "                       template='seaborn'\n",
    "                      )\n",
    "    \n",
    "    fig.show()"
   ]
  },
  {
   "cell_type": "code",
   "execution_count": 38,
   "metadata": {
    "ExecuteTime": {
     "end_time": "2021-01-12T23:10:41.114002Z",
     "start_time": "2021-01-12T23:10:41.111088Z"
    }
   },
   "outputs": [],
   "source": [
    "if show_plotly:\n",
    "    display(basic_px_hist(elec_2020_df, 2020, 'gen_grp',\n",
    "              title='Distribution of Registered Voters by Generation in 2020 Election'))"
   ]
  },
  {
   "cell_type": "code",
   "execution_count": 39,
   "metadata": {
    "ExecuteTime": {
     "end_time": "2021-01-12T23:10:41.118817Z",
     "start_time": "2021-01-12T23:10:41.115923Z"
    }
   },
   "outputs": [],
   "source": [
    "if show_plotly:\n",
    "    display(basic_pie(elec_2020_df, 2020, 'gen_grp',\n",
    "              title='Registered Voters by Generation in 2020 Election'))"
   ]
  },
  {
   "cell_type": "code",
   "execution_count": 40,
   "metadata": {
    "ExecuteTime": {
     "end_time": "2021-01-12T23:10:41.123685Z",
     "start_time": "2021-01-12T23:10:41.120738Z"
    }
   },
   "outputs": [],
   "source": [
    "if show_plotly:\n",
    "    display(basic_px_hist(elec_2020_df, 2020, 'party_grp',\n",
    "              title='Distribution of Registered Voters by Party Affiliation in 2020 Election'))"
   ]
  },
  {
   "cell_type": "code",
   "execution_count": 41,
   "metadata": {
    "ExecuteTime": {
     "end_time": "2021-01-12T23:10:41.128270Z",
     "start_time": "2021-01-12T23:10:41.125466Z"
    }
   },
   "outputs": [],
   "source": [
    "if show_plotly:\n",
    "    display(basic_pie(elec_2020_df, 2020, 'party_grp',\n",
    "              title='Registered Voters by Party Affiliation in 2020 Election'))"
   ]
  },
  {
   "cell_type": "code",
   "execution_count": 42,
   "metadata": {
    "ExecuteTime": {
     "end_time": "2021-01-12T23:10:41.133164Z",
     "start_time": "2021-01-12T23:10:41.130441Z"
    }
   },
   "outputs": [],
   "source": [
    "if show_plotly:\n",
    "    display(basic_px_hist(elec_2020_df, 2020, 'race_grp',\n",
    "              title='Distribution of Registered Voters by Race in 2020 Election'))"
   ]
  },
  {
   "cell_type": "code",
   "execution_count": 43,
   "metadata": {
    "ExecuteTime": {
     "end_time": "2021-01-12T23:10:41.137607Z",
     "start_time": "2021-01-12T23:10:41.134986Z"
    }
   },
   "outputs": [],
   "source": [
    "if show_plotly:\n",
    "    display(basic_pie(elec_2020_df, 2020, 'race_grp',\n",
    "              title='Registered Voters by Race in 2020 Election'))"
   ]
  },
  {
   "cell_type": "code",
   "execution_count": 44,
   "metadata": {
    "ExecuteTime": {
     "end_time": "2021-01-12T23:10:41.141960Z",
     "start_time": "2021-01-12T23:10:41.139391Z"
    }
   },
   "outputs": [],
   "source": [
    "if show_plotly:\n",
    "    display(basic_px_hist(elec_2020_df, 2020, 'gender_code',\n",
    "              title='Distribution of Registered Voters by Gender in 2020 Election'))"
   ]
  },
  {
   "cell_type": "code",
   "execution_count": 45,
   "metadata": {
    "ExecuteTime": {
     "end_time": "2021-01-12T23:10:41.146743Z",
     "start_time": "2021-01-12T23:10:41.143890Z"
    }
   },
   "outputs": [],
   "source": [
    "if show_plotly:\n",
    "    display(basic_pie(elec_2020_df, 2020, 'gender_code',\n",
    "              title='Registered Voters by Gender in 2020 Election'))"
   ]
  },
  {
   "cell_type": "code",
   "execution_count": 46,
   "metadata": {
    "ExecuteTime": {
     "end_time": "2021-01-12T23:10:41.150993Z",
     "start_time": "2021-01-12T23:10:41.148351Z"
    }
   },
   "outputs": [],
   "source": [
    "if show_plotly:\n",
    "    display(basic_px_hist(elec_2020_df, 2020, 'birth_reg_other',\n",
    "              title='Distribution of Registered Voters by Birth Region in 2020 Election'))"
   ]
  },
  {
   "cell_type": "code",
   "execution_count": 47,
   "metadata": {
    "ExecuteTime": {
     "end_time": "2021-01-12T23:10:41.155955Z",
     "start_time": "2021-01-12T23:10:41.152876Z"
    }
   },
   "outputs": [],
   "source": [
    "if show_plotly:\n",
    "    display(basic_pie(elec_2020_df, 2020, 'birth_reg_other',\n",
    "              title='Registered Voters by Birth Region in 2020 Election'))"
   ]
  },
  {
   "cell_type": "code",
   "execution_count": 48,
   "metadata": {
    "ExecuteTime": {
     "end_time": "2021-01-12T23:10:41.160650Z",
     "start_time": "2021-01-12T23:10:41.157670Z"
    }
   },
   "outputs": [],
   "source": [
    "if show_plotly:\n",
    "    display(basic_px_hist(elec_2020_df, 2020, 'drivers_lic',\n",
    "              title='Distribution of Registered Voters by Drivers License Possession in 2020 Election'))"
   ]
  },
  {
   "cell_type": "code",
   "execution_count": 49,
   "metadata": {
    "ExecuteTime": {
     "end_time": "2021-01-12T23:10:41.165509Z",
     "start_time": "2021-01-12T23:10:41.162540Z"
    }
   },
   "outputs": [],
   "source": [
    "if show_plotly:\n",
    "    display(basic_pie(elec_2020_df, 2020, 'drivers_lic',\n",
    "              title='Possession of Drivers License by Registered Voters in 2020 Election'))"
   ]
  },
  {
   "cell_type": "code",
   "execution_count": 50,
   "metadata": {
    "ExecuteTime": {
     "end_time": "2021-01-12T23:10:41.169886Z",
     "start_time": "2021-01-12T23:10:41.167196Z"
    }
   },
   "outputs": [],
   "source": [
    "if show_plotly:\n",
    "    display(basic_px_hist(elec_2020_df, 2020, 'city_grp',\n",
    "              title='Distribution of Registered Voters by City in 2020 Election'))"
   ]
  },
  {
   "cell_type": "code",
   "execution_count": 51,
   "metadata": {
    "ExecuteTime": {
     "end_time": "2021-01-12T23:10:41.174645Z",
     "start_time": "2021-01-12T23:10:41.171879Z"
    }
   },
   "outputs": [],
   "source": [
    "if show_plotly:\n",
    "    display(basic_pie(elec_2020_df, 2020, 'city_grp',\n",
    "              title='Registered Voters by City in 2020 Election'))"
   ]
  },
  {
   "cell_type": "markdown",
   "metadata": {},
   "source": [
    "### 2020 Relationship to Voting Method\n",
    "\n",
    "#### 2020 By Age"
   ]
  },
  {
   "cell_type": "code",
   "execution_count": 52,
   "metadata": {
    "ExecuteTime": {
     "end_time": "2021-01-12T23:10:41.179274Z",
     "start_time": "2021-01-12T23:10:41.176373Z"
    }
   },
   "outputs": [],
   "source": [
    "if show_plotly:\n",
    "    display(grp_px_hist(elec_2020_df, 2020, 'birth_age_adj', 'Gen_2020', \n",
    "            title='Distribution of Voter Age by Voting Method in 2020 Election'))"
   ]
  },
  {
   "cell_type": "code",
   "execution_count": 53,
   "metadata": {
    "ExecuteTime": {
     "end_time": "2021-01-12T23:10:41.184130Z",
     "start_time": "2021-01-12T23:10:41.181329Z"
    }
   },
   "outputs": [],
   "source": [
    "if show_plotly:\n",
    "    display(grp_px_hist(elec_2020_df, 2020, 'gen_grp', 'Gen_2020', \n",
    "            title='Voting Method by Generation'))"
   ]
  },
  {
   "cell_type": "code",
   "execution_count": 54,
   "metadata": {
    "ExecuteTime": {
     "end_time": "2021-01-12T23:10:41.188661Z",
     "start_time": "2021-01-12T23:10:41.185951Z"
    }
   },
   "outputs": [],
   "source": [
    "if show_plotly:\n",
    "    display(grp_pie(elec_2020_df, 2020, 'Gen_2020', 'gen_grp', 'Early',\n",
    "              title='Early Voters by Generation'))"
   ]
  },
  {
   "cell_type": "code",
   "execution_count": 55,
   "metadata": {
    "ExecuteTime": {
     "end_time": "2021-01-12T23:10:41.193228Z",
     "start_time": "2021-01-12T23:10:41.190433Z"
    }
   },
   "outputs": [],
   "source": [
    "if show_plotly:\n",
    "    display(grp_pie(elec_2020_df, 2020, 'Gen_2020', 'gen_grp', 'Election Day',\n",
    "              title='Election Day Voters by Generation'))"
   ]
  },
  {
   "cell_type": "code",
   "execution_count": 56,
   "metadata": {
    "ExecuteTime": {
     "end_time": "2021-01-12T23:10:41.197856Z",
     "start_time": "2021-01-12T23:10:41.195111Z"
    }
   },
   "outputs": [],
   "source": [
    "if show_plotly:\n",
    "    display(grp_pie(elec_2020_df, 2020, 'Gen_2020', 'gen_grp', 'No Vote',\n",
    "              title='Non-Voters by Generation'))"
   ]
  },
  {
   "cell_type": "code",
   "execution_count": 57,
   "metadata": {
    "ExecuteTime": {
     "end_time": "2021-01-12T23:10:41.202216Z",
     "start_time": "2021-01-12T23:10:41.199553Z"
    }
   },
   "outputs": [],
   "source": [
    "if show_plotly:\n",
    "    display(grp_pie(elec_2020_df, 2020, 'Gen_2020', 'gen_grp', 'Other',\n",
    "              title='Provisional/ Transfer Voters by Generation'))"
   ]
  },
  {
   "cell_type": "code",
   "execution_count": 58,
   "metadata": {
    "ExecuteTime": {
     "end_time": "2021-01-12T23:10:41.206571Z",
     "start_time": "2021-01-12T23:10:41.203881Z"
    }
   },
   "outputs": [],
   "source": [
    "if show_plotly:\n",
    "    display(grp_pie(elec_2020_df, 2020, 'gen_grp', 'Gen_2020', 'GenZ',\n",
    "              title='Votes by Gen Z'))"
   ]
  },
  {
   "cell_type": "code",
   "execution_count": 59,
   "metadata": {
    "ExecuteTime": {
     "end_time": "2021-01-12T23:10:41.211168Z",
     "start_time": "2021-01-12T23:10:41.208522Z"
    }
   },
   "outputs": [],
   "source": [
    "if show_plotly:\n",
    "    display(grp_pie(elec_2020_df, 2020, 'gen_grp', 'Gen_2020', 'Millennial',\n",
    "              title='Votes by Millennials'))"
   ]
  },
  {
   "cell_type": "code",
   "execution_count": 60,
   "metadata": {
    "ExecuteTime": {
     "end_time": "2021-01-12T23:10:41.215579Z",
     "start_time": "2021-01-12T23:10:41.212862Z"
    }
   },
   "outputs": [],
   "source": [
    "if show_plotly:\n",
    "    display(grp_pie(elec_2020_df, 2020, 'gen_grp', 'Gen_2020', 'GenX',\n",
    "              title='Votes by Generation X'))"
   ]
  },
  {
   "cell_type": "code",
   "execution_count": 61,
   "metadata": {
    "ExecuteTime": {
     "end_time": "2021-01-12T23:10:41.220094Z",
     "start_time": "2021-01-12T23:10:41.217408Z"
    }
   },
   "outputs": [],
   "source": [
    "if show_plotly:\n",
    "    display(grp_pie(elec_2020_df, 2020, 'gen_grp', 'Gen_2020', 'Boomer',\n",
    "              title='Votes by Baby Boomers'))"
   ]
  },
  {
   "cell_type": "code",
   "execution_count": 62,
   "metadata": {
    "ExecuteTime": {
     "end_time": "2021-01-12T23:10:41.224980Z",
     "start_time": "2021-01-12T23:10:41.222282Z"
    }
   },
   "outputs": [],
   "source": [
    "if show_plotly:\n",
    "    display(grp_pie(elec_2020_df, 2020, 'gen_grp', 'Gen_2020', 'Greatest-Silent',\n",
    "              title='Votes by Greatest and Silent Generation'))"
   ]
  },
  {
   "cell_type": "markdown",
   "metadata": {
    "ExecuteTime": {
     "end_time": "2021-01-12T20:30:42.131610Z",
     "start_time": "2021-01-12T20:30:42.117297Z"
    }
   },
   "source": [
    "#### 2020 By Party"
   ]
  },
  {
   "cell_type": "code",
   "execution_count": 63,
   "metadata": {
    "ExecuteTime": {
     "end_time": "2021-01-12T23:10:41.229857Z",
     "start_time": "2021-01-12T23:10:41.226740Z"
    }
   },
   "outputs": [],
   "source": [
    "if show_plotly:\n",
    "    display(grp_px_hist(elec_2020_df, 2020, 'Gen_2020', 'party_grp', \n",
    "            title='Voting Method by Party'))"
   ]
  },
  {
   "cell_type": "code",
   "execution_count": 64,
   "metadata": {
    "ExecuteTime": {
     "end_time": "2021-01-12T23:10:41.234473Z",
     "start_time": "2021-01-12T23:10:41.231503Z"
    }
   },
   "outputs": [],
   "source": [
    "if show_plotly:\n",
    "    display(grp_pie(elec_2020_df, 2020, 'Gen_2020', 'party_grp', 'Early',\n",
    "              title='Early Voters by Party'))"
   ]
  },
  {
   "cell_type": "code",
   "execution_count": 65,
   "metadata": {
    "ExecuteTime": {
     "end_time": "2021-01-12T23:10:41.239450Z",
     "start_time": "2021-01-12T23:10:41.236344Z"
    }
   },
   "outputs": [],
   "source": [
    "if show_plotly:\n",
    "    display(grp_pie(elec_2020_df, 2020, 'Gen_2020', 'party_grp', 'Election Day',\n",
    "              title='Election Day Voters by Party'))"
   ]
  },
  {
   "cell_type": "code",
   "execution_count": 66,
   "metadata": {
    "ExecuteTime": {
     "end_time": "2021-01-12T23:10:41.244067Z",
     "start_time": "2021-01-12T23:10:41.241167Z"
    }
   },
   "outputs": [],
   "source": [
    "if show_plotly:\n",
    "    display(grp_pie(elec_2020_df, 2020, 'Gen_2020', 'party_grp', 'No Vote',\n",
    "              title='Non-Voters by Party'))"
   ]
  },
  {
   "cell_type": "code",
   "execution_count": 67,
   "metadata": {
    "ExecuteTime": {
     "end_time": "2021-01-12T23:10:41.250217Z",
     "start_time": "2021-01-12T23:10:41.246578Z"
    }
   },
   "outputs": [],
   "source": [
    "if show_plotly:\n",
    "    display(grp_pie(elec_2020_df, 2020, 'Gen_2020', 'party_grp', 'Other',\n",
    "              title='Provisional/ Transfer Voters by Party'))"
   ]
  },
  {
   "cell_type": "code",
   "execution_count": 68,
   "metadata": {
    "ExecuteTime": {
     "end_time": "2021-01-12T23:10:41.269469Z",
     "start_time": "2021-01-12T23:10:41.266545Z"
    }
   },
   "outputs": [],
   "source": [
    "if show_plotly:\n",
    "    display(grp_pie(elec_2020_df, 2020, 'party_grp', 'Gen_2020', 'Dem',\n",
    "              title='Votes by Democratic Party'))"
   ]
  },
  {
   "cell_type": "code",
   "execution_count": 69,
   "metadata": {
    "ExecuteTime": {
     "end_time": "2021-01-12T23:10:41.281473Z",
     "start_time": "2021-01-12T23:10:41.278470Z"
    }
   },
   "outputs": [],
   "source": [
    "if show_plotly:\n",
    "    display(grp_pie(elec_2020_df, 2020, 'party_grp', 'Gen_2020', 'Rep',\n",
    "              title='Votes by Republican Party'))"
   ]
  },
  {
   "cell_type": "code",
   "execution_count": 70,
   "metadata": {
    "ExecuteTime": {
     "end_time": "2021-01-12T23:10:41.286282Z",
     "start_time": "2021-01-12T23:10:41.283430Z"
    }
   },
   "outputs": [],
   "source": [
    "if show_plotly:\n",
    "    display(grp_pie(elec_2020_df, 2020, 'party_grp', 'Gen_2020', 'Other',\n",
    "              title='Votes by Other Voters'))"
   ]
  },
  {
   "cell_type": "markdown",
   "metadata": {},
   "source": [
    "#### 2020 By Race"
   ]
  },
  {
   "cell_type": "code",
   "execution_count": 71,
   "metadata": {
    "ExecuteTime": {
     "end_time": "2021-01-12T23:10:41.290864Z",
     "start_time": "2021-01-12T23:10:41.288283Z"
    }
   },
   "outputs": [],
   "source": [
    "if show_plotly:\n",
    "    display(grp_px_hist(elec_2020_df, 2020, 'Gen_2020', 'race_grp',\n",
    "            title='Voting Method by Race'))"
   ]
  },
  {
   "cell_type": "code",
   "execution_count": 72,
   "metadata": {
    "ExecuteTime": {
     "end_time": "2021-01-12T23:10:41.295546Z",
     "start_time": "2021-01-12T23:10:41.292558Z"
    }
   },
   "outputs": [],
   "source": [
    "if show_plotly:\n",
    "    display(grp_pie(elec_2020_df, 2020, 'Gen_2020', 'race_grp', 'Early',\n",
    "              title='Early Voters by Race'))"
   ]
  },
  {
   "cell_type": "code",
   "execution_count": 73,
   "metadata": {
    "ExecuteTime": {
     "end_time": "2021-01-12T23:10:41.299917Z",
     "start_time": "2021-01-12T23:10:41.297157Z"
    }
   },
   "outputs": [],
   "source": [
    "if show_plotly:\n",
    "    display(grp_pie(elec_2020_df, 2020, 'Gen_2020', 'race_grp', 'Election Day',\n",
    "              title='Election Day Voters by Race'))"
   ]
  },
  {
   "cell_type": "code",
   "execution_count": 74,
   "metadata": {
    "ExecuteTime": {
     "end_time": "2021-01-12T23:10:41.304255Z",
     "start_time": "2021-01-12T23:10:41.301810Z"
    }
   },
   "outputs": [],
   "source": [
    "if show_plotly:\n",
    "    display(grp_pie(elec_2020_df, 2020, 'Gen_2020', 'race_grp', 'No Vote',\n",
    "              title='Non-Voters by Race'))"
   ]
  },
  {
   "cell_type": "code",
   "execution_count": 75,
   "metadata": {
    "ExecuteTime": {
     "end_time": "2021-01-12T23:10:41.308566Z",
     "start_time": "2021-01-12T23:10:41.305991Z"
    }
   },
   "outputs": [],
   "source": [
    "if show_plotly:\n",
    "    display(grp_pie(elec_2020_df, 2020, 'Gen_2020', 'race_grp', 'Other',\n",
    "              title='Provisional/ Transfer Voters by Race'))"
   ]
  },
  {
   "cell_type": "code",
   "execution_count": 76,
   "metadata": {
    "ExecuteTime": {
     "end_time": "2021-01-12T23:10:41.313119Z",
     "start_time": "2021-01-12T23:10:41.310212Z"
    }
   },
   "outputs": [],
   "source": [
    "if show_plotly:\n",
    "    display(grp_pie(elec_2020_df, 2020, 'race_grp', 'Gen_2020', 'White',\n",
    "              title='Votes by White Voters'))"
   ]
  },
  {
   "cell_type": "code",
   "execution_count": 77,
   "metadata": {
    "ExecuteTime": {
     "end_time": "2021-01-12T23:10:41.318540Z",
     "start_time": "2021-01-12T23:10:41.315695Z"
    }
   },
   "outputs": [],
   "source": [
    "if show_plotly:\n",
    "    display(grp_pie(elec_2020_df, 2020, 'race_grp', 'Gen_2020', 'Black',\n",
    "              title='Votes by Black Voters'))"
   ]
  },
  {
   "cell_type": "code",
   "execution_count": 78,
   "metadata": {
    "ExecuteTime": {
     "end_time": "2021-01-12T23:10:41.323279Z",
     "start_time": "2021-01-12T23:10:41.320521Z"
    }
   },
   "outputs": [],
   "source": [
    "if show_plotly:\n",
    "    display(grp_pie(elec_2020_df, 2020, 'race_grp', 'Gen_2020', 'Undesig.',\n",
    "              title='Votes by Voters of Undesignated Race'))"
   ]
  },
  {
   "cell_type": "code",
   "execution_count": 79,
   "metadata": {
    "ExecuteTime": {
     "end_time": "2021-01-12T23:10:41.327581Z",
     "start_time": "2021-01-12T23:10:41.324879Z"
    }
   },
   "outputs": [],
   "source": [
    "if show_plotly:\n",
    "    display(grp_pie(elec_2020_df, 2020, 'race_grp', 'Gen_2020', 'Other',\n",
    "              title='Votes by Voters of Other Racial Backgrounds'))"
   ]
  },
  {
   "cell_type": "markdown",
   "metadata": {
    "ExecuteTime": {
     "end_time": "2021-01-12T20:30:42.146921Z",
     "start_time": "2021-01-12T20:30:42.134485Z"
    }
   },
   "source": [
    "#### 2020 By Gender"
   ]
  },
  {
   "cell_type": "code",
   "execution_count": 80,
   "metadata": {
    "ExecuteTime": {
     "end_time": "2021-01-12T23:10:41.332282Z",
     "start_time": "2021-01-12T23:10:41.329626Z"
    }
   },
   "outputs": [],
   "source": [
    "if show_plotly:\n",
    "    display(grp_px_hist(elec_2020_df, 2020, 'Gen_2020', 'gender_code', \n",
    "            title='Voting Method by Gender'))"
   ]
  },
  {
   "cell_type": "code",
   "execution_count": 81,
   "metadata": {
    "ExecuteTime": {
     "end_time": "2021-01-12T23:10:41.336637Z",
     "start_time": "2021-01-12T23:10:41.334040Z"
    }
   },
   "outputs": [],
   "source": [
    "if show_plotly:\n",
    "    display(grp_pie(elec_2020_df, 2020, 'Gen_2020', 'gender_code', 'Early',\n",
    "              title='Early Voters by Gender'))"
   ]
  },
  {
   "cell_type": "code",
   "execution_count": 82,
   "metadata": {
    "ExecuteTime": {
     "end_time": "2021-01-12T23:10:41.340865Z",
     "start_time": "2021-01-12T23:10:41.338293Z"
    }
   },
   "outputs": [],
   "source": [
    "if show_plotly:\n",
    "    display(grp_pie(elec_2020_df, 2020, 'Gen_2020', 'gender_code', 'Election Day',\n",
    "              title='Election Day Voters by Gender'))"
   ]
  },
  {
   "cell_type": "code",
   "execution_count": 83,
   "metadata": {
    "ExecuteTime": {
     "end_time": "2021-01-12T23:10:41.345612Z",
     "start_time": "2021-01-12T23:10:41.342875Z"
    }
   },
   "outputs": [],
   "source": [
    "if show_plotly:\n",
    "    display(grp_pie(elec_2020_df, 2020, 'Gen_2020', 'gender_code', 'No Vote',\n",
    "              title='Non-Voters by Gender'))"
   ]
  },
  {
   "cell_type": "code",
   "execution_count": 84,
   "metadata": {
    "ExecuteTime": {
     "end_time": "2021-01-12T23:10:41.350162Z",
     "start_time": "2021-01-12T23:10:41.347262Z"
    }
   },
   "outputs": [],
   "source": [
    "if show_plotly:\n",
    "    display(grp_pie(elec_2020_df, 2020, 'Gen_2020', 'gender_code', 'Other',\n",
    "              title='Provisional/ Transfer Voters by Gender'))"
   ]
  },
  {
   "cell_type": "code",
   "execution_count": 85,
   "metadata": {
    "ExecuteTime": {
     "end_time": "2021-01-12T23:10:41.354417Z",
     "start_time": "2021-01-12T23:10:41.351783Z"
    }
   },
   "outputs": [],
   "source": [
    "if show_plotly:\n",
    "    display(grp_pie(elec_2020_df, 2020, 'gender_code', 'Gen_2020', 'F',\n",
    "              title='Votes by Women'))"
   ]
  },
  {
   "cell_type": "code",
   "execution_count": 86,
   "metadata": {
    "ExecuteTime": {
     "end_time": "2021-01-12T23:10:41.358695Z",
     "start_time": "2021-01-12T23:10:41.356175Z"
    }
   },
   "outputs": [],
   "source": [
    "if show_plotly:\n",
    "    display(grp_pie(elec_2020_df, 2020, 'gender_code', 'Gen_2020', 'M',\n",
    "              title='Votes by Men'))"
   ]
  },
  {
   "cell_type": "code",
   "execution_count": 87,
   "metadata": {
    "ExecuteTime": {
     "end_time": "2021-01-12T23:10:41.363127Z",
     "start_time": "2021-01-12T23:10:41.360431Z"
    }
   },
   "outputs": [],
   "source": [
    "if show_plotly:\n",
    "    display(grp_pie(elec_2020_df, 2020, 'gender_code', 'Gen_2020', 'U',\n",
    "              title='Votes by Voters of Undesignated Gender'))"
   ]
  },
  {
   "cell_type": "markdown",
   "metadata": {},
   "source": [
    "#### 2020 By Birth Region"
   ]
  },
  {
   "cell_type": "code",
   "execution_count": 88,
   "metadata": {
    "ExecuteTime": {
     "end_time": "2021-01-12T23:10:41.367838Z",
     "start_time": "2021-01-12T23:10:41.365157Z"
    }
   },
   "outputs": [],
   "source": [
    "if show_plotly:\n",
    "    display(grp_px_hist(elec_2020_df, 2020, 'Gen_2020', 'birth_reg_other', \n",
    "            title='Voting Method by Birth Region'))"
   ]
  },
  {
   "cell_type": "code",
   "execution_count": 89,
   "metadata": {
    "ExecuteTime": {
     "end_time": "2021-01-12T23:10:41.373007Z",
     "start_time": "2021-01-12T23:10:41.370040Z"
    }
   },
   "outputs": [],
   "source": [
    "if show_plotly:\n",
    "    display(grp_pie(elec_2020_df, 2020, 'Gen_2020', 'birth_reg_other', 'Early',\n",
    "              title='Early Voters by Birth Region'))"
   ]
  },
  {
   "cell_type": "code",
   "execution_count": 90,
   "metadata": {
    "ExecuteTime": {
     "end_time": "2021-01-12T23:10:41.377194Z",
     "start_time": "2021-01-12T23:10:41.374714Z"
    }
   },
   "outputs": [],
   "source": [
    "if show_plotly:\n",
    "    display(grp_pie(elec_2020_df, 2020, 'Gen_2020', 'birth_reg_other', 'Election Day',\n",
    "              title='Election Day Voters by Birth Region'))"
   ]
  },
  {
   "cell_type": "code",
   "execution_count": 91,
   "metadata": {
    "ExecuteTime": {
     "end_time": "2021-01-12T23:10:41.382014Z",
     "start_time": "2021-01-12T23:10:41.379022Z"
    }
   },
   "outputs": [],
   "source": [
    "if show_plotly:\n",
    "    display(grp_pie(elec_2020_df, 2020, 'Gen_2020', 'birth_reg_other', 'No Vote',\n",
    "              title='Non-Voters by Birth Region'))"
   ]
  },
  {
   "cell_type": "code",
   "execution_count": 92,
   "metadata": {
    "ExecuteTime": {
     "end_time": "2021-01-12T23:10:41.386399Z",
     "start_time": "2021-01-12T23:10:41.383667Z"
    }
   },
   "outputs": [],
   "source": [
    "if show_plotly:\n",
    "    display(grp_pie(elec_2020_df, 2020, 'Gen_2020', 'birth_reg_other', 'Other',\n",
    "              title='Provisional/ Transfer Voters by Birth Region'))"
   ]
  },
  {
   "cell_type": "code",
   "execution_count": 93,
   "metadata": {
    "ExecuteTime": {
     "end_time": "2021-01-12T23:10:41.390806Z",
     "start_time": "2021-01-12T23:10:41.387926Z"
    }
   },
   "outputs": [],
   "source": [
    "if show_plotly:\n",
    "    display(grp_pie(elec_2020_df, 2020, 'birth_reg_other', 'Gen_2020', 'South',\n",
    "              title='Votes by Voters from the South'))"
   ]
  },
  {
   "cell_type": "code",
   "execution_count": 94,
   "metadata": {
    "ExecuteTime": {
     "end_time": "2021-01-12T23:10:41.395030Z",
     "start_time": "2021-01-12T23:10:41.392428Z"
    }
   },
   "outputs": [],
   "source": [
    "if show_plotly:\n",
    "    display(grp_pie(elec_2020_df, 2020, 'birth_reg_other', 'Gen_2020', 'Missing',\n",
    "              title='Votes by Voters with Missing Birth Region'))"
   ]
  },
  {
   "cell_type": "code",
   "execution_count": 95,
   "metadata": {
    "ExecuteTime": {
     "end_time": "2021-01-12T23:10:41.399193Z",
     "start_time": "2021-01-12T23:10:41.396636Z"
    }
   },
   "outputs": [],
   "source": [
    "if show_plotly:\n",
    "    display(grp_pie(elec_2020_df, 2020, 'birth_reg_other', 'Gen_2020', 'Northeast',\n",
    "              title='Votes by Voters from the Northeast'))"
   ]
  },
  {
   "cell_type": "code",
   "execution_count": 96,
   "metadata": {
    "ExecuteTime": {
     "end_time": "2021-01-12T23:10:41.403578Z",
     "start_time": "2021-01-12T23:10:41.400742Z"
    }
   },
   "outputs": [],
   "source": [
    "if show_plotly:\n",
    "    display(grp_pie(elec_2020_df, 2020, 'birth_reg_other', 'Gen_2020', 'Midwest',\n",
    "              title='Votes by Voters from the Midwest'))"
   ]
  },
  {
   "cell_type": "code",
   "execution_count": 97,
   "metadata": {
    "ExecuteTime": {
     "end_time": "2021-01-12T23:10:41.407822Z",
     "start_time": "2021-01-12T23:10:41.405264Z"
    }
   },
   "outputs": [],
   "source": [
    "if show_plotly:\n",
    "    display(grp_pie(elec_2020_df, 2020, 'birth_reg_other', 'Gen_2020', 'Other',\n",
    "              title='Votes by Voters Born in U.S. Territories or Outside the U.S.'))"
   ]
  },
  {
   "cell_type": "code",
   "execution_count": 98,
   "metadata": {
    "ExecuteTime": {
     "end_time": "2021-01-12T23:10:41.411958Z",
     "start_time": "2021-01-12T23:10:41.409409Z"
    }
   },
   "outputs": [],
   "source": [
    "if show_plotly:\n",
    "    display(grp_pie(elec_2020_df, 2020, 'birth_reg_other', 'Gen_2020', 'West',\n",
    "              title='Votes by Voters from the West'))"
   ]
  },
  {
   "cell_type": "markdown",
   "metadata": {},
   "source": [
    "#### 2020 By Possessing a Drivers License"
   ]
  },
  {
   "cell_type": "code",
   "execution_count": 99,
   "metadata": {
    "ExecuteTime": {
     "end_time": "2021-01-12T23:10:41.416116Z",
     "start_time": "2021-01-12T23:10:41.413535Z"
    }
   },
   "outputs": [],
   "source": [
    "if show_plotly:\n",
    "    display(grp_px_hist(elec_2020_df, 2020, 'Gen_2020', 'drivers_lic', \n",
    "            title='Voting Method by Voters with and without Drivers Licenses'))"
   ]
  },
  {
   "cell_type": "code",
   "execution_count": 100,
   "metadata": {
    "ExecuteTime": {
     "end_time": "2021-01-12T23:10:41.420803Z",
     "start_time": "2021-01-12T23:10:41.417945Z"
    }
   },
   "outputs": [],
   "source": [
    "if show_plotly:\n",
    "    display(grp_pie(elec_2020_df, 2020, 'Gen_2020', 'drivers_lic', 'Early',\n",
    "              title='Early Voters by Possession of Drivers License'))"
   ]
  },
  {
   "cell_type": "code",
   "execution_count": 101,
   "metadata": {
    "ExecuteTime": {
     "end_time": "2021-01-12T23:10:41.424999Z",
     "start_time": "2021-01-12T23:10:41.422393Z"
    }
   },
   "outputs": [],
   "source": [
    "if show_plotly:\n",
    "    display(grp_pie(elec_2020_df, 2020, 'Gen_2020', 'drivers_lic', 'Election Day',\n",
    "              title='Election Day Voters by Possession of Drivers License'))"
   ]
  },
  {
   "cell_type": "code",
   "execution_count": 102,
   "metadata": {
    "ExecuteTime": {
     "end_time": "2021-01-12T23:10:41.429353Z",
     "start_time": "2021-01-12T23:10:41.426651Z"
    }
   },
   "outputs": [],
   "source": [
    "if show_plotly:\n",
    "    display(grp_pie(elec_2020_df, 2020, 'Gen_2020', 'drivers_lic', 'No Vote',\n",
    "              title='Non-Voters by Possession of Drivers License'))"
   ]
  },
  {
   "cell_type": "code",
   "execution_count": 103,
   "metadata": {
    "ExecuteTime": {
     "end_time": "2021-01-12T23:10:41.433675Z",
     "start_time": "2021-01-12T23:10:41.431095Z"
    }
   },
   "outputs": [],
   "source": [
    "if show_plotly:\n",
    "    display(grp_pie(elec_2020_df, 2020, 'Gen_2020', 'drivers_lic', 'Other',\n",
    "              title='Provisional/ Transfer Voters by Possession of Drivers License'))"
   ]
  },
  {
   "cell_type": "code",
   "execution_count": 104,
   "metadata": {
    "ExecuteTime": {
     "end_time": "2021-01-12T23:10:41.437831Z",
     "start_time": "2021-01-12T23:10:41.435256Z"
    }
   },
   "outputs": [],
   "source": [
    "if show_plotly:\n",
    "    display(grp_pie(elec_2020_df, 2020, 'drivers_lic', 'Gen_2020', 'Y',\n",
    "              title='Votes by People with a Drivers License'))"
   ]
  },
  {
   "cell_type": "code",
   "execution_count": 105,
   "metadata": {
    "ExecuteTime": {
     "end_time": "2021-01-12T23:10:41.442113Z",
     "start_time": "2021-01-12T23:10:41.439404Z"
    }
   },
   "outputs": [],
   "source": [
    "if show_plotly:\n",
    "    display(grp_pie(elec_2020_df, 2020, 'drivers_lic', 'Gen_2020', 'N',\n",
    "              title='Votes by People with No Drivers License'))"
   ]
  },
  {
   "cell_type": "markdown",
   "metadata": {
    "ExecuteTime": {
     "end_time": "2021-01-12T19:47:27.939464Z",
     "start_time": "2021-01-12T19:47:27.928996Z"
    }
   },
   "source": [
    "#### 2020 By City"
   ]
  },
  {
   "cell_type": "code",
   "execution_count": 106,
   "metadata": {
    "ExecuteTime": {
     "end_time": "2021-01-12T23:10:41.446459Z",
     "start_time": "2021-01-12T23:10:41.443825Z"
    }
   },
   "outputs": [],
   "source": [
    "if show_plotly:\n",
    "    display(grp_px_hist(elec_2020_df, 2020, 'Gen_2020', 'city_grp', \n",
    "            title='Voting Method by City of Residence'))"
   ]
  },
  {
   "cell_type": "code",
   "execution_count": 107,
   "metadata": {
    "ExecuteTime": {
     "end_time": "2021-01-12T23:10:41.450636Z",
     "start_time": "2021-01-12T23:10:41.448070Z"
    }
   },
   "outputs": [],
   "source": [
    "if show_plotly:\n",
    "    display(grp_pie(elec_2020_df, 2020, 'Gen_2020', 'city_grp', 'Early',\n",
    "              title='Early Voters by City of Residence'))"
   ]
  },
  {
   "cell_type": "code",
   "execution_count": 108,
   "metadata": {
    "ExecuteTime": {
     "end_time": "2021-01-12T23:10:41.454874Z",
     "start_time": "2021-01-12T23:10:41.452205Z"
    }
   },
   "outputs": [],
   "source": [
    "if show_plotly:\n",
    "    display(grp_pie(elec_2020_df, 2020, 'Gen_2020', 'city_grp', 'Election Day',\n",
    "              title='Election Day Voters by City of Residence'))"
   ]
  },
  {
   "cell_type": "code",
   "execution_count": 109,
   "metadata": {
    "ExecuteTime": {
     "end_time": "2021-01-12T23:10:41.459369Z",
     "start_time": "2021-01-12T23:10:41.456592Z"
    }
   },
   "outputs": [],
   "source": [
    "if show_plotly:\n",
    "    display(grp_pie(elec_2020_df, 2020, 'Gen_2020', 'city_grp', 'No Vote',\n",
    "              title='Non-Voters by City of Residence'))"
   ]
  },
  {
   "cell_type": "code",
   "execution_count": 110,
   "metadata": {
    "ExecuteTime": {
     "end_time": "2021-01-12T23:10:41.463633Z",
     "start_time": "2021-01-12T23:10:41.461108Z"
    }
   },
   "outputs": [],
   "source": [
    "if show_plotly:\n",
    "    display(grp_pie(elec_2020_df, 2020, 'Gen_2020', 'city_grp', 'Other',\n",
    "              title='Provisional/ Transfer Voters by City of Residence'))"
   ]
  },
  {
   "cell_type": "code",
   "execution_count": 111,
   "metadata": {
    "ExecuteTime": {
     "end_time": "2021-01-12T23:10:41.468845Z",
     "start_time": "2021-01-12T23:10:41.465960Z"
    }
   },
   "outputs": [],
   "source": [
    "if show_plotly:\n",
    "    display(grp_pie(elec_2020_df, 2020, 'city_grp', 'Gen_2020', 'Monroe',\n",
    "              title='Votes by Residents of Monroe'))"
   ]
  },
  {
   "cell_type": "code",
   "execution_count": 112,
   "metadata": {
    "ExecuteTime": {
     "end_time": "2021-01-12T23:10:41.474034Z",
     "start_time": "2021-01-12T23:10:41.471115Z"
    }
   },
   "outputs": [],
   "source": [
    "if show_plotly:\n",
    "    display(grp_pie(elec_2020_df, 2020, 'city_grp', 'Gen_2020', 'Waxhaw',\n",
    "              title='Votes by Residents of Waxhaw'))"
   ]
  },
  {
   "cell_type": "code",
   "execution_count": 113,
   "metadata": {
    "ExecuteTime": {
     "end_time": "2021-01-12T23:10:41.478844Z",
     "start_time": "2021-01-12T23:10:41.475957Z"
    }
   },
   "outputs": [],
   "source": [
    "if show_plotly:\n",
    "    display(grp_pie(elec_2020_df, 2020, 'city_grp', 'Gen_2020', 'Indian Trail',\n",
    "              title='Votes by Residents of Indian Trail'))"
   ]
  },
  {
   "cell_type": "code",
   "execution_count": 114,
   "metadata": {
    "ExecuteTime": {
     "end_time": "2021-01-12T23:10:41.483246Z",
     "start_time": "2021-01-12T23:10:41.480628Z"
    }
   },
   "outputs": [],
   "source": [
    "if show_plotly:\n",
    "    display(grp_pie(elec_2020_df, 2020, 'city_grp', 'Gen_2020', 'Matthews',\n",
    "              title='Votes by Residents of Matthews'))"
   ]
  },
  {
   "cell_type": "code",
   "execution_count": 115,
   "metadata": {
    "ExecuteTime": {
     "end_time": "2021-01-12T23:10:41.487608Z",
     "start_time": "2021-01-12T23:10:41.484996Z"
    }
   },
   "outputs": [],
   "source": [
    "if show_plotly:\n",
    "    display(grp_pie(elec_2020_df, 2020, 'city_grp', 'Gen_2020', 'Other',\n",
    "              title='Votes from Other Cities in Union County'))"
   ]
  },
  {
   "cell_type": "markdown",
   "metadata": {},
   "source": [
    "## Explore 2016 Election\n",
    "\n",
    "### 2016 Categorical Variables"
   ]
  },
  {
   "cell_type": "code",
   "execution_count": 116,
   "metadata": {
    "ExecuteTime": {
     "end_time": "2021-01-12T23:10:41.521988Z",
     "start_time": "2021-01-12T23:10:41.489319Z"
    }
   },
   "outputs": [
    {
     "data": {
      "text/html": [
       "<div>\n",
       "<style scoped>\n",
       "    .dataframe tbody tr th:only-of-type {\n",
       "        vertical-align: middle;\n",
       "    }\n",
       "\n",
       "    .dataframe tbody tr th {\n",
       "        vertical-align: top;\n",
       "    }\n",
       "\n",
       "    .dataframe thead th {\n",
       "        text-align: right;\n",
       "    }\n",
       "</style>\n",
       "<table border=\"1\" class=\"dataframe\">\n",
       "  <thead>\n",
       "    <tr style=\"text-align: right;\">\n",
       "      <th></th>\n",
       "      <th>count</th>\n",
       "      <th>%</th>\n",
       "    </tr>\n",
       "  </thead>\n",
       "  <tbody>\n",
       "    <tr>\n",
       "      <th>ABSENTEE ONESTOP</th>\n",
       "      <td>67085</td>\n",
       "      <td>54.44</td>\n",
       "    </tr>\n",
       "    <tr>\n",
       "      <th>IN-PERSON</th>\n",
       "      <td>29688</td>\n",
       "      <td>24.09</td>\n",
       "    </tr>\n",
       "    <tr>\n",
       "      <th>No Vote</th>\n",
       "      <td>20997</td>\n",
       "      <td>17.04</td>\n",
       "    </tr>\n",
       "    <tr>\n",
       "      <th>ABSENTEE BY MAIL</th>\n",
       "      <td>3604</td>\n",
       "      <td>2.92</td>\n",
       "    </tr>\n",
       "    <tr>\n",
       "      <th>TRANSFER</th>\n",
       "      <td>701</td>\n",
       "      <td>0.57</td>\n",
       "    </tr>\n",
       "    <tr>\n",
       "      <th>ABSENTEE CURBSIDE</th>\n",
       "      <td>546</td>\n",
       "      <td>0.44</td>\n",
       "    </tr>\n",
       "    <tr>\n",
       "      <th>PROVISIONAL</th>\n",
       "      <td>460</td>\n",
       "      <td>0.37</td>\n",
       "    </tr>\n",
       "    <tr>\n",
       "      <th>CURBSIDE</th>\n",
       "      <td>141</td>\n",
       "      <td>0.11</td>\n",
       "    </tr>\n",
       "  </tbody>\n",
       "</table>\n",
       "</div>"
      ],
      "text/plain": [
       "                   count      %\n",
       "ABSENTEE ONESTOP   67085  54.44\n",
       "IN-PERSON          29688  24.09\n",
       "No Vote            20997  17.04\n",
       "ABSENTEE BY MAIL    3604   2.92\n",
       "TRANSFER             701   0.57\n",
       "ABSENTEE CURBSIDE    546   0.44\n",
       "PROVISIONAL          460   0.37\n",
       "CURBSIDE             141   0.11"
      ]
     },
     "execution_count": 116,
     "metadata": {},
     "output_type": "execute_result"
    }
   ],
   "source": [
    "check_unique('voting_method', elec_2016_df)"
   ]
  },
  {
   "cell_type": "code",
   "execution_count": 117,
   "metadata": {
    "ExecuteTime": {
     "end_time": "2021-01-12T23:10:41.562378Z",
     "start_time": "2021-01-12T23:10:41.523762Z"
    }
   },
   "outputs": [
    {
     "data": {
      "text/html": [
       "<div>\n",
       "<style scoped>\n",
       "    .dataframe tbody tr th:only-of-type {\n",
       "        vertical-align: middle;\n",
       "    }\n",
       "\n",
       "    .dataframe tbody tr th {\n",
       "        vertical-align: top;\n",
       "    }\n",
       "\n",
       "    .dataframe thead th {\n",
       "        text-align: right;\n",
       "    }\n",
       "</style>\n",
       "<table border=\"1\" class=\"dataframe\">\n",
       "  <thead>\n",
       "    <tr style=\"text-align: right;\">\n",
       "      <th></th>\n",
       "      <th>count</th>\n",
       "      <th>%</th>\n",
       "    </tr>\n",
       "  </thead>\n",
       "  <tbody>\n",
       "    <tr>\n",
       "      <th>Early</th>\n",
       "      <td>67631</td>\n",
       "      <td>54.89</td>\n",
       "    </tr>\n",
       "    <tr>\n",
       "      <th>Election Day</th>\n",
       "      <td>29829</td>\n",
       "      <td>24.21</td>\n",
       "    </tr>\n",
       "    <tr>\n",
       "      <th>No Vote</th>\n",
       "      <td>20997</td>\n",
       "      <td>17.04</td>\n",
       "    </tr>\n",
       "    <tr>\n",
       "      <th>Mail</th>\n",
       "      <td>3604</td>\n",
       "      <td>2.92</td>\n",
       "    </tr>\n",
       "    <tr>\n",
       "      <th>Other</th>\n",
       "      <td>1161</td>\n",
       "      <td>0.94</td>\n",
       "    </tr>\n",
       "  </tbody>\n",
       "</table>\n",
       "</div>"
      ],
      "text/plain": [
       "              count      %\n",
       "Early         67631  54.89\n",
       "Election Day  29829  24.21\n",
       "No Vote       20997  17.04\n",
       "Mail           3604   2.92\n",
       "Other          1161   0.94"
      ]
     },
     "execution_count": 117,
     "metadata": {},
     "output_type": "execute_result"
    }
   ],
   "source": [
    "## Group original vote methods into more general categories in a new variable\n",
    " # Map the original categories to new ones\n",
    "vote_method_map = {'ABSENTEE ONESTOP': 'Early',\n",
    "                   'IN-PERSON': 'Election Day',\n",
    "                   'ABSENTEE BY MAIL': 'Mail',\n",
    "                   'ABSENTEE CURBSIDE': 'Early',\n",
    "                   'TRANSFER': 'Other',\n",
    "                   'PROVISIONAL': 'Other',\n",
    "                   'CURBSIDE': 'Election Day',\n",
    "                   'No Vote': 'No Vote'}\n",
    "\n",
    "# Apply the map to create new vote_method_cat column\n",
    "elec_2016_df['vote_cat'] = elec_2016_df['voting_method'].map(vote_method_map)\n",
    "\n",
    "check_unique('vote_cat', elec_2016_df)"
   ]
  },
  {
   "cell_type": "code",
   "execution_count": 118,
   "metadata": {
    "ExecuteTime": {
     "end_time": "2021-01-12T23:10:41.596480Z",
     "start_time": "2021-01-12T23:10:41.564078Z"
    }
   },
   "outputs": [
    {
     "data": {
      "text/html": [
       "<div>\n",
       "<style scoped>\n",
       "    .dataframe tbody tr th:only-of-type {\n",
       "        vertical-align: middle;\n",
       "    }\n",
       "\n",
       "    .dataframe tbody tr th {\n",
       "        vertical-align: top;\n",
       "    }\n",
       "\n",
       "    .dataframe thead th {\n",
       "        text-align: right;\n",
       "    }\n",
       "</style>\n",
       "<table border=\"1\" class=\"dataframe\">\n",
       "  <thead>\n",
       "    <tr style=\"text-align: right;\">\n",
       "      <th></th>\n",
       "      <th>count</th>\n",
       "      <th>%</th>\n",
       "    </tr>\n",
       "  </thead>\n",
       "  <tbody>\n",
       "    <tr>\n",
       "      <th>Early</th>\n",
       "      <td>71235</td>\n",
       "      <td>57.81</td>\n",
       "    </tr>\n",
       "    <tr>\n",
       "      <th>Election Day</th>\n",
       "      <td>29829</td>\n",
       "      <td>24.21</td>\n",
       "    </tr>\n",
       "    <tr>\n",
       "      <th>No Vote</th>\n",
       "      <td>20997</td>\n",
       "      <td>17.04</td>\n",
       "    </tr>\n",
       "    <tr>\n",
       "      <th>Other</th>\n",
       "      <td>1161</td>\n",
       "      <td>0.94</td>\n",
       "    </tr>\n",
       "  </tbody>\n",
       "</table>\n",
       "</div>"
      ],
      "text/plain": [
       "              count      %\n",
       "Early         71235  57.81\n",
       "Election Day  29829  24.21\n",
       "No Vote       20997  17.04\n",
       "Other          1161   0.94"
      ]
     },
     "execution_count": 118,
     "metadata": {},
     "output_type": "execute_result"
    }
   ],
   "source": [
    "check_unique('Gen_2016', elec_2016_df)"
   ]
  },
  {
   "cell_type": "markdown",
   "metadata": {},
   "source": [
    "> The 'Other' category is made up of only 1,161 individuals that voted with either a provisional or transfer ballot. Need to consider dropping this extremely rare category or somehow adding those records into one of the other categories."
   ]
  },
  {
   "cell_type": "code",
   "execution_count": 119,
   "metadata": {
    "ExecuteTime": {
     "end_time": "2021-01-12T23:10:41.637431Z",
     "start_time": "2021-01-12T23:10:41.598909Z"
    }
   },
   "outputs": [
    {
     "data": {
      "text/html": [
       "<div>\n",
       "<style scoped>\n",
       "    .dataframe tbody tr th:only-of-type {\n",
       "        vertical-align: middle;\n",
       "    }\n",
       "\n",
       "    .dataframe tbody tr th {\n",
       "        vertical-align: top;\n",
       "    }\n",
       "\n",
       "    .dataframe thead th {\n",
       "        text-align: right;\n",
       "    }\n",
       "</style>\n",
       "<table border=\"1\" class=\"dataframe\">\n",
       "  <thead>\n",
       "    <tr style=\"text-align: right;\">\n",
       "      <th></th>\n",
       "      <th>count</th>\n",
       "      <th>%</th>\n",
       "    </tr>\n",
       "  </thead>\n",
       "  <tbody>\n",
       "    <tr>\n",
       "      <th>No Vote</th>\n",
       "      <td>79340</td>\n",
       "      <td>64.39</td>\n",
       "    </tr>\n",
       "    <tr>\n",
       "      <th>Election Day</th>\n",
       "      <td>29742</td>\n",
       "      <td>24.14</td>\n",
       "    </tr>\n",
       "    <tr>\n",
       "      <th>Early</th>\n",
       "      <td>13250</td>\n",
       "      <td>10.75</td>\n",
       "    </tr>\n",
       "    <tr>\n",
       "      <th>Other</th>\n",
       "      <td>890</td>\n",
       "      <td>0.72</td>\n",
       "    </tr>\n",
       "  </tbody>\n",
       "</table>\n",
       "</div>"
      ],
      "text/plain": [
       "              count      %\n",
       "No Vote       79340  64.39\n",
       "Election Day  29742  24.14\n",
       "Early         13250  10.75\n",
       "Other           890   0.72"
      ]
     },
     "execution_count": 119,
     "metadata": {},
     "output_type": "execute_result"
    }
   ],
   "source": [
    "check_unique('Pri_2016', elec_2016_df)"
   ]
  },
  {
   "cell_type": "markdown",
   "metadata": {},
   "source": [
    "> 'Other' category also extremely rare for `Pri_2016` as well. If this is used as a predictor, consider changing to a binary variable indicating simply whether or not the person voted in the Primary."
   ]
  },
  {
   "cell_type": "code",
   "execution_count": 120,
   "metadata": {
    "ExecuteTime": {
     "end_time": "2021-01-12T23:10:41.684989Z",
     "start_time": "2021-01-12T23:10:41.639768Z"
    }
   },
   "outputs": [
    {
     "data": {
      "text/html": [
       "<div>\n",
       "<style scoped>\n",
       "    .dataframe tbody tr th:only-of-type {\n",
       "        vertical-align: middle;\n",
       "    }\n",
       "\n",
       "    .dataframe tbody tr th {\n",
       "        vertical-align: top;\n",
       "    }\n",
       "\n",
       "    .dataframe thead th {\n",
       "        text-align: right;\n",
       "    }\n",
       "</style>\n",
       "<table border=\"1\" class=\"dataframe\">\n",
       "  <thead>\n",
       "    <tr style=\"text-align: right;\">\n",
       "      <th></th>\n",
       "      <th>count</th>\n",
       "      <th>%</th>\n",
       "    </tr>\n",
       "  </thead>\n",
       "  <tbody>\n",
       "    <tr>\n",
       "      <th>REP</th>\n",
       "      <td>53497</td>\n",
       "      <td>43.42</td>\n",
       "    </tr>\n",
       "    <tr>\n",
       "      <th>UNA</th>\n",
       "      <td>39124</td>\n",
       "      <td>31.75</td>\n",
       "    </tr>\n",
       "    <tr>\n",
       "      <th>DEM</th>\n",
       "      <td>29957</td>\n",
       "      <td>24.31</td>\n",
       "    </tr>\n",
       "    <tr>\n",
       "      <th>LIB</th>\n",
       "      <td>580</td>\n",
       "      <td>0.47</td>\n",
       "    </tr>\n",
       "    <tr>\n",
       "      <th>CST</th>\n",
       "      <td>44</td>\n",
       "      <td>0.04</td>\n",
       "    </tr>\n",
       "    <tr>\n",
       "      <th>GRE</th>\n",
       "      <td>20</td>\n",
       "      <td>0.02</td>\n",
       "    </tr>\n",
       "  </tbody>\n",
       "</table>\n",
       "</div>"
      ],
      "text/plain": [
       "     count      %\n",
       "REP  53497  43.42\n",
       "UNA  39124  31.75\n",
       "DEM  29957  24.31\n",
       "LIB    580   0.47\n",
       "CST     44   0.04\n",
       "GRE     20   0.02"
      ]
     },
     "execution_count": 120,
     "metadata": {},
     "output_type": "execute_result"
    }
   ],
   "source": [
    "check_unique('party_cd', elec_2016_df)"
   ]
  },
  {
   "cell_type": "markdown",
   "metadata": {},
   "source": [
    "> LIB, CST, and GRE extremely rare within the county. Need to deal with this in some way, but grouping into a single 'Rare' category won't necessarily solve the issue since that would still represent barely more than 0.5% of voters in this election. It could make sense to combine these three parties with UNA (unaffiliated) to simply represent voters that do not align with one of the two major parties."
   ]
  },
  {
   "cell_type": "code",
   "execution_count": 121,
   "metadata": {
    "ExecuteTime": {
     "end_time": "2021-01-12T23:10:41.718456Z",
     "start_time": "2021-01-12T23:10:41.687443Z"
    }
   },
   "outputs": [
    {
     "data": {
      "text/html": [
       "<div>\n",
       "<style scoped>\n",
       "    .dataframe tbody tr th:only-of-type {\n",
       "        vertical-align: middle;\n",
       "    }\n",
       "\n",
       "    .dataframe tbody tr th {\n",
       "        vertical-align: top;\n",
       "    }\n",
       "\n",
       "    .dataframe thead th {\n",
       "        text-align: right;\n",
       "    }\n",
       "</style>\n",
       "<table border=\"1\" class=\"dataframe\">\n",
       "  <thead>\n",
       "    <tr style=\"text-align: right;\">\n",
       "      <th></th>\n",
       "      <th>count</th>\n",
       "      <th>%</th>\n",
       "    </tr>\n",
       "  </thead>\n",
       "  <tbody>\n",
       "    <tr>\n",
       "      <th>F</th>\n",
       "      <td>62865</td>\n",
       "      <td>51.02</td>\n",
       "    </tr>\n",
       "    <tr>\n",
       "      <th>M</th>\n",
       "      <td>55183</td>\n",
       "      <td>44.78</td>\n",
       "    </tr>\n",
       "    <tr>\n",
       "      <th>U</th>\n",
       "      <td>5174</td>\n",
       "      <td>4.20</td>\n",
       "    </tr>\n",
       "  </tbody>\n",
       "</table>\n",
       "</div>"
      ],
      "text/plain": [
       "   count      %\n",
       "F  62865  51.02\n",
       "M  55183  44.78\n",
       "U   5174   4.20"
      ]
     },
     "execution_count": 121,
     "metadata": {},
     "output_type": "execute_result"
    }
   ],
   "source": [
    "check_unique('gender_code', elec_2016_df)"
   ]
  },
  {
   "cell_type": "code",
   "execution_count": 122,
   "metadata": {
    "ExecuteTime": {
     "end_time": "2021-01-12T23:10:41.749649Z",
     "start_time": "2021-01-12T23:10:41.720293Z"
    }
   },
   "outputs": [
    {
     "data": {
      "text/html": [
       "<div>\n",
       "<style scoped>\n",
       "    .dataframe tbody tr th:only-of-type {\n",
       "        vertical-align: middle;\n",
       "    }\n",
       "\n",
       "    .dataframe tbody tr th {\n",
       "        vertical-align: top;\n",
       "    }\n",
       "\n",
       "    .dataframe thead th {\n",
       "        text-align: right;\n",
       "    }\n",
       "</style>\n",
       "<table border=\"1\" class=\"dataframe\">\n",
       "  <thead>\n",
       "    <tr style=\"text-align: right;\">\n",
       "      <th></th>\n",
       "      <th>count</th>\n",
       "      <th>%</th>\n",
       "    </tr>\n",
       "  </thead>\n",
       "  <tbody>\n",
       "    <tr>\n",
       "      <th>W</th>\n",
       "      <td>94971</td>\n",
       "      <td>77.07</td>\n",
       "    </tr>\n",
       "    <tr>\n",
       "      <th>B</th>\n",
       "      <td>14892</td>\n",
       "      <td>12.09</td>\n",
       "    </tr>\n",
       "    <tr>\n",
       "      <th>U</th>\n",
       "      <td>7029</td>\n",
       "      <td>5.70</td>\n",
       "    </tr>\n",
       "    <tr>\n",
       "      <th>O</th>\n",
       "      <td>3707</td>\n",
       "      <td>3.01</td>\n",
       "    </tr>\n",
       "    <tr>\n",
       "      <th>A</th>\n",
       "      <td>1689</td>\n",
       "      <td>1.37</td>\n",
       "    </tr>\n",
       "    <tr>\n",
       "      <th>M</th>\n",
       "      <td>624</td>\n",
       "      <td>0.51</td>\n",
       "    </tr>\n",
       "    <tr>\n",
       "      <th>I</th>\n",
       "      <td>308</td>\n",
       "      <td>0.25</td>\n",
       "    </tr>\n",
       "    <tr>\n",
       "      <th>P</th>\n",
       "      <td>2</td>\n",
       "      <td>0.00</td>\n",
       "    </tr>\n",
       "  </tbody>\n",
       "</table>\n",
       "</div>"
      ],
      "text/plain": [
       "   count      %\n",
       "W  94971  77.07\n",
       "B  14892  12.09\n",
       "U   7029   5.70\n",
       "O   3707   3.01\n",
       "A   1689   1.37\n",
       "M    624   0.51\n",
       "I    308   0.25\n",
       "P      2   0.00"
      ]
     },
     "execution_count": 122,
     "metadata": {},
     "output_type": "execute_result"
    }
   ],
   "source": [
    "check_unique('race_code', elec_2016_df)"
   ]
  },
  {
   "cell_type": "markdown",
   "metadata": {},
   "source": [
    "> The most infrequent categories (Other, Asian, Multiple, Native American, Pacific Islander/Native Hawaiian) each represent less than 5% of voters. To deal with these rare labels, it is probably best from a modeling standpoint to group them all under 'Other'."
   ]
  },
  {
   "cell_type": "code",
   "execution_count": 123,
   "metadata": {
    "ExecuteTime": {
     "end_time": "2021-01-12T23:10:41.782972Z",
     "start_time": "2021-01-12T23:10:41.751476Z"
    }
   },
   "outputs": [
    {
     "data": {
      "text/html": [
       "<div>\n",
       "<style scoped>\n",
       "    .dataframe tbody tr th:only-of-type {\n",
       "        vertical-align: middle;\n",
       "    }\n",
       "\n",
       "    .dataframe tbody tr th {\n",
       "        vertical-align: top;\n",
       "    }\n",
       "\n",
       "    .dataframe thead th {\n",
       "        text-align: right;\n",
       "    }\n",
       "</style>\n",
       "<table border=\"1\" class=\"dataframe\">\n",
       "  <thead>\n",
       "    <tr style=\"text-align: right;\">\n",
       "      <th></th>\n",
       "      <th>count</th>\n",
       "      <th>%</th>\n",
       "    </tr>\n",
       "  </thead>\n",
       "  <tbody>\n",
       "    <tr>\n",
       "      <th>NL</th>\n",
       "      <td>98402</td>\n",
       "      <td>79.86</td>\n",
       "    </tr>\n",
       "    <tr>\n",
       "      <th>UN</th>\n",
       "      <td>20701</td>\n",
       "      <td>16.80</td>\n",
       "    </tr>\n",
       "    <tr>\n",
       "      <th>HL</th>\n",
       "      <td>4119</td>\n",
       "      <td>3.34</td>\n",
       "    </tr>\n",
       "  </tbody>\n",
       "</table>\n",
       "</div>"
      ],
      "text/plain": [
       "    count      %\n",
       "NL  98402  79.86\n",
       "UN  20701  16.80\n",
       "HL   4119   3.34"
      ]
     },
     "execution_count": 123,
     "metadata": {},
     "output_type": "execute_result"
    }
   ],
   "source": [
    "check_unique('ethnic_code', elec_2016_df)"
   ]
  },
  {
   "cell_type": "markdown",
   "metadata": {},
   "source": [
    "> Voters that chose to identify themselves as Hispanic or Latino represent less than 5% of voters. Check below to see how disclosed racial and ethnic identities intersect."
   ]
  },
  {
   "cell_type": "code",
   "execution_count": 124,
   "metadata": {
    "ExecuteTime": {
     "end_time": "2021-01-12T23:10:41.898701Z",
     "start_time": "2021-01-12T23:10:41.784812Z"
    }
   },
   "outputs": [
    {
     "name": "stdout",
     "output_type": "stream",
     "text": [
      "*****UN*****\n"
     ]
    },
    {
     "data": {
      "text/html": [
       "<div>\n",
       "<style scoped>\n",
       "    .dataframe tbody tr th:only-of-type {\n",
       "        vertical-align: middle;\n",
       "    }\n",
       "\n",
       "    .dataframe tbody tr th {\n",
       "        vertical-align: top;\n",
       "    }\n",
       "\n",
       "    .dataframe thead th {\n",
       "        text-align: right;\n",
       "    }\n",
       "</style>\n",
       "<table border=\"1\" class=\"dataframe\">\n",
       "  <thead>\n",
       "    <tr style=\"text-align: right;\">\n",
       "      <th></th>\n",
       "      <th>race_code</th>\n",
       "    </tr>\n",
       "  </thead>\n",
       "  <tbody>\n",
       "    <tr>\n",
       "      <th>W</th>\n",
       "      <td>10782</td>\n",
       "    </tr>\n",
       "    <tr>\n",
       "      <th>U</th>\n",
       "      <td>6098</td>\n",
       "    </tr>\n",
       "    <tr>\n",
       "      <th>B</th>\n",
       "      <td>2908</td>\n",
       "    </tr>\n",
       "    <tr>\n",
       "      <th>A</th>\n",
       "      <td>480</td>\n",
       "    </tr>\n",
       "    <tr>\n",
       "      <th>O</th>\n",
       "      <td>214</td>\n",
       "    </tr>\n",
       "    <tr>\n",
       "      <th>M</th>\n",
       "      <td>160</td>\n",
       "    </tr>\n",
       "    <tr>\n",
       "      <th>I</th>\n",
       "      <td>58</td>\n",
       "    </tr>\n",
       "    <tr>\n",
       "      <th>P</th>\n",
       "      <td>1</td>\n",
       "    </tr>\n",
       "  </tbody>\n",
       "</table>\n",
       "</div>"
      ],
      "text/plain": [
       "   race_code\n",
       "W      10782\n",
       "U       6098\n",
       "B       2908\n",
       "A        480\n",
       "O        214\n",
       "M        160\n",
       "I         58\n",
       "P          1"
      ]
     },
     "metadata": {},
     "output_type": "display_data"
    },
    {
     "name": "stdout",
     "output_type": "stream",
     "text": [
      "\n",
      "*****NL*****\n"
     ]
    },
    {
     "data": {
      "text/html": [
       "<div>\n",
       "<style scoped>\n",
       "    .dataframe tbody tr th:only-of-type {\n",
       "        vertical-align: middle;\n",
       "    }\n",
       "\n",
       "    .dataframe tbody tr th {\n",
       "        vertical-align: top;\n",
       "    }\n",
       "\n",
       "    .dataframe thead th {\n",
       "        text-align: right;\n",
       "    }\n",
       "</style>\n",
       "<table border=\"1\" class=\"dataframe\">\n",
       "  <thead>\n",
       "    <tr style=\"text-align: right;\">\n",
       "      <th></th>\n",
       "      <th>race_code</th>\n",
       "    </tr>\n",
       "  </thead>\n",
       "  <tbody>\n",
       "    <tr>\n",
       "      <th>W</th>\n",
       "      <td>83152</td>\n",
       "    </tr>\n",
       "    <tr>\n",
       "      <th>B</th>\n",
       "      <td>11922</td>\n",
       "    </tr>\n",
       "    <tr>\n",
       "      <th>O</th>\n",
       "      <td>1427</td>\n",
       "    </tr>\n",
       "    <tr>\n",
       "      <th>A</th>\n",
       "      <td>1203</td>\n",
       "    </tr>\n",
       "    <tr>\n",
       "      <th>M</th>\n",
       "      <td>274</td>\n",
       "    </tr>\n",
       "    <tr>\n",
       "      <th>I</th>\n",
       "      <td>242</td>\n",
       "    </tr>\n",
       "    <tr>\n",
       "      <th>U</th>\n",
       "      <td>181</td>\n",
       "    </tr>\n",
       "    <tr>\n",
       "      <th>P</th>\n",
       "      <td>1</td>\n",
       "    </tr>\n",
       "  </tbody>\n",
       "</table>\n",
       "</div>"
      ],
      "text/plain": [
       "   race_code\n",
       "W      83152\n",
       "B      11922\n",
       "O       1427\n",
       "A       1203\n",
       "M        274\n",
       "I        242\n",
       "U        181\n",
       "P          1"
      ]
     },
     "metadata": {},
     "output_type": "display_data"
    },
    {
     "name": "stdout",
     "output_type": "stream",
     "text": [
      "\n",
      "*****HL*****\n"
     ]
    },
    {
     "data": {
      "text/html": [
       "<div>\n",
       "<style scoped>\n",
       "    .dataframe tbody tr th:only-of-type {\n",
       "        vertical-align: middle;\n",
       "    }\n",
       "\n",
       "    .dataframe tbody tr th {\n",
       "        vertical-align: top;\n",
       "    }\n",
       "\n",
       "    .dataframe thead th {\n",
       "        text-align: right;\n",
       "    }\n",
       "</style>\n",
       "<table border=\"1\" class=\"dataframe\">\n",
       "  <thead>\n",
       "    <tr style=\"text-align: right;\">\n",
       "      <th></th>\n",
       "      <th>race_code</th>\n",
       "    </tr>\n",
       "  </thead>\n",
       "  <tbody>\n",
       "    <tr>\n",
       "      <th>O</th>\n",
       "      <td>2066</td>\n",
       "    </tr>\n",
       "    <tr>\n",
       "      <th>W</th>\n",
       "      <td>1037</td>\n",
       "    </tr>\n",
       "    <tr>\n",
       "      <th>U</th>\n",
       "      <td>750</td>\n",
       "    </tr>\n",
       "    <tr>\n",
       "      <th>M</th>\n",
       "      <td>190</td>\n",
       "    </tr>\n",
       "    <tr>\n",
       "      <th>B</th>\n",
       "      <td>62</td>\n",
       "    </tr>\n",
       "    <tr>\n",
       "      <th>I</th>\n",
       "      <td>8</td>\n",
       "    </tr>\n",
       "    <tr>\n",
       "      <th>A</th>\n",
       "      <td>6</td>\n",
       "    </tr>\n",
       "  </tbody>\n",
       "</table>\n",
       "</div>"
      ],
      "text/plain": [
       "   race_code\n",
       "O       2066\n",
       "W       1037\n",
       "U        750\n",
       "M        190\n",
       "B         62\n",
       "I          8\n",
       "A          6"
      ]
     },
     "metadata": {},
     "output_type": "display_data"
    },
    {
     "name": "stdout",
     "output_type": "stream",
     "text": [
      "\n"
     ]
    }
   ],
   "source": [
    "## Investigate how race intersects with ethnic code\n",
    "for code in elec_2016_df['ethnic_code'].unique():\n",
    "    print('*****{}*****'.format(code))\n",
    "    display(elec_2016_df.loc[elec_2016_df['ethnic_code']==code]['race_code'].value_counts().to_frame())\n",
    "    print()"
   ]
  },
  {
   "cell_type": "markdown",
   "metadata": {},
   "source": [
    "> Patterns of intersection between race and ethnicity are somewhat unclear. The majority of voters that chose not to disclose their ethnicity were white (10,782 out of 20,701). The majority of voters that identified themselves as Hispanic or Latino when registering listed their race as 'Other'(2,066 out of 4,119), with the next most frequent category being 'White' (1,037 out of 4,119), then 'Undesignated' (750 out of 4,119). As such, I am uncertain how useful this feature will be as a predictor, especially given that the 'HL' category is so rare."
   ]
  },
  {
   "cell_type": "code",
   "execution_count": 125,
   "metadata": {
    "ExecuteTime": {
     "end_time": "2021-01-12T23:10:41.914235Z",
     "start_time": "2021-01-12T23:10:41.900632Z"
    }
   },
   "outputs": [
    {
     "data": {
      "text/html": [
       "<div>\n",
       "<style scoped>\n",
       "    .dataframe tbody tr th:only-of-type {\n",
       "        vertical-align: middle;\n",
       "    }\n",
       "\n",
       "    .dataframe tbody tr th {\n",
       "        vertical-align: top;\n",
       "    }\n",
       "\n",
       "    .dataframe thead th {\n",
       "        text-align: right;\n",
       "    }\n",
       "</style>\n",
       "<table border=\"1\" class=\"dataframe\">\n",
       "  <thead>\n",
       "    <tr style=\"text-align: right;\">\n",
       "      <th></th>\n",
       "      <th>count</th>\n",
       "      <th>%</th>\n",
       "    </tr>\n",
       "  </thead>\n",
       "  <tbody>\n",
       "    <tr>\n",
       "      <th>28173.0</th>\n",
       "      <td>33068</td>\n",
       "      <td>26.84</td>\n",
       "    </tr>\n",
       "    <tr>\n",
       "      <th>28110.0</th>\n",
       "      <td>26041</td>\n",
       "      <td>21.13</td>\n",
       "    </tr>\n",
       "    <tr>\n",
       "      <th>28079.0</th>\n",
       "      <td>20304</td>\n",
       "      <td>16.48</td>\n",
       "    </tr>\n",
       "    <tr>\n",
       "      <th>28104.0</th>\n",
       "      <td>18875</td>\n",
       "      <td>15.32</td>\n",
       "    </tr>\n",
       "    <tr>\n",
       "      <th>28112.0</th>\n",
       "      <td>14207</td>\n",
       "      <td>11.53</td>\n",
       "    </tr>\n",
       "    <tr>\n",
       "      <th>28103.0</th>\n",
       "      <td>5841</td>\n",
       "      <td>4.74</td>\n",
       "    </tr>\n",
       "    <tr>\n",
       "      <th>28174.0</th>\n",
       "      <td>4205</td>\n",
       "      <td>3.41</td>\n",
       "    </tr>\n",
       "    <tr>\n",
       "      <th>28227.0</th>\n",
       "      <td>298</td>\n",
       "      <td>0.24</td>\n",
       "    </tr>\n",
       "    <tr>\n",
       "      <th>28105.0</th>\n",
       "      <td>183</td>\n",
       "      <td>0.15</td>\n",
       "    </tr>\n",
       "    <tr>\n",
       "      <th>28133.0</th>\n",
       "      <td>128</td>\n",
       "      <td>0.10</td>\n",
       "    </tr>\n",
       "    <tr>\n",
       "      <th>28107.0</th>\n",
       "      <td>67</td>\n",
       "      <td>0.05</td>\n",
       "    </tr>\n",
       "    <tr>\n",
       "      <th>NaN</th>\n",
       "      <td>3</td>\n",
       "      <td>0.00</td>\n",
       "    </tr>\n",
       "    <tr>\n",
       "      <th>28135.0</th>\n",
       "      <td>2</td>\n",
       "      <td>0.00</td>\n",
       "    </tr>\n",
       "  </tbody>\n",
       "</table>\n",
       "</div>"
      ],
      "text/plain": [
       "          count      %\n",
       " 28173.0  33068  26.84\n",
       " 28110.0  26041  21.13\n",
       " 28079.0  20304  16.48\n",
       " 28104.0  18875  15.32\n",
       " 28112.0  14207  11.53\n",
       " 28103.0   5841   4.74\n",
       " 28174.0   4205   3.41\n",
       " 28227.0    298   0.24\n",
       " 28105.0    183   0.15\n",
       " 28133.0    128   0.10\n",
       " 28107.0     67   0.05\n",
       "NaN           3   0.00\n",
       " 28135.0      2   0.00"
      ]
     },
     "execution_count": 125,
     "metadata": {},
     "output_type": "execute_result"
    }
   ],
   "source": [
    "check_unique('zip_code', elec_2016_df)"
   ]
  },
  {
   "cell_type": "markdown",
   "metadata": {},
   "source": [
    "> Seven of the 12 zip codes are rare labels (each representing less than 5% of the voters). It may be best to use grouped cities as a predictor (see immediately below) rather than zip codes, especially since the two will be highly correlated."
   ]
  },
  {
   "cell_type": "code",
   "execution_count": 126,
   "metadata": {
    "ExecuteTime": {
     "end_time": "2021-01-12T23:10:41.949702Z",
     "start_time": "2021-01-12T23:10:41.915882Z"
    }
   },
   "outputs": [
    {
     "data": {
      "text/html": [
       "<div>\n",
       "<style scoped>\n",
       "    .dataframe tbody tr th:only-of-type {\n",
       "        vertical-align: middle;\n",
       "    }\n",
       "\n",
       "    .dataframe tbody tr th {\n",
       "        vertical-align: top;\n",
       "    }\n",
       "\n",
       "    .dataframe thead th {\n",
       "        text-align: right;\n",
       "    }\n",
       "</style>\n",
       "<table border=\"1\" class=\"dataframe\">\n",
       "  <thead>\n",
       "    <tr style=\"text-align: right;\">\n",
       "      <th></th>\n",
       "      <th>count</th>\n",
       "      <th>%</th>\n",
       "    </tr>\n",
       "  </thead>\n",
       "  <tbody>\n",
       "    <tr>\n",
       "      <th>MONROE</th>\n",
       "      <td>40248</td>\n",
       "      <td>32.66</td>\n",
       "    </tr>\n",
       "    <tr>\n",
       "      <th>WAXHAW</th>\n",
       "      <td>33068</td>\n",
       "      <td>26.84</td>\n",
       "    </tr>\n",
       "    <tr>\n",
       "      <th>INDIAN TRAIL</th>\n",
       "      <td>20304</td>\n",
       "      <td>16.48</td>\n",
       "    </tr>\n",
       "    <tr>\n",
       "      <th>MATTHEWS</th>\n",
       "      <td>19058</td>\n",
       "      <td>15.47</td>\n",
       "    </tr>\n",
       "    <tr>\n",
       "      <th>MARSHVILLE</th>\n",
       "      <td>5841</td>\n",
       "      <td>4.74</td>\n",
       "    </tr>\n",
       "    <tr>\n",
       "      <th>WINGATE</th>\n",
       "      <td>4205</td>\n",
       "      <td>3.41</td>\n",
       "    </tr>\n",
       "    <tr>\n",
       "      <th>CHARLOTTE</th>\n",
       "      <td>298</td>\n",
       "      <td>0.24</td>\n",
       "    </tr>\n",
       "    <tr>\n",
       "      <th>PEACHLAND</th>\n",
       "      <td>128</td>\n",
       "      <td>0.10</td>\n",
       "    </tr>\n",
       "    <tr>\n",
       "      <th>MIDLAND</th>\n",
       "      <td>67</td>\n",
       "      <td>0.05</td>\n",
       "    </tr>\n",
       "    <tr>\n",
       "      <th>NaN</th>\n",
       "      <td>3</td>\n",
       "      <td>0.00</td>\n",
       "    </tr>\n",
       "    <tr>\n",
       "      <th>POLKTON</th>\n",
       "      <td>2</td>\n",
       "      <td>0.00</td>\n",
       "    </tr>\n",
       "  </tbody>\n",
       "</table>\n",
       "</div>"
      ],
      "text/plain": [
       "              count      %\n",
       "MONROE        40248  32.66\n",
       "WAXHAW        33068  26.84\n",
       "INDIAN TRAIL  20304  16.48\n",
       "MATTHEWS      19058  15.47\n",
       "MARSHVILLE     5841   4.74\n",
       "WINGATE        4205   3.41\n",
       "CHARLOTTE       298   0.24\n",
       "PEACHLAND       128   0.10\n",
       "MIDLAND          67   0.05\n",
       "NaN               3   0.00\n",
       "POLKTON           2   0.00"
      ]
     },
     "execution_count": 126,
     "metadata": {},
     "output_type": "execute_result"
    }
   ],
   "source": [
    "check_unique('res_city_desc', elec_2016_df)"
   ]
  },
  {
   "cell_type": "markdown",
   "metadata": {},
   "source": [
    "> There are several rare labels, so if `res_city_desc` is to be used as a predictor, cities besides Monroe, Waxhaw, Indian Trail, and Matthews should probably be combined into an 'Other' category."
   ]
  },
  {
   "cell_type": "code",
   "execution_count": 127,
   "metadata": {
    "ExecuteTime": {
     "end_time": "2021-01-12T23:10:41.993687Z",
     "start_time": "2021-01-12T23:10:41.951389Z"
    }
   },
   "outputs": [
    {
     "data": {
      "text/html": [
       "<div>\n",
       "<style scoped>\n",
       "    .dataframe tbody tr th:only-of-type {\n",
       "        vertical-align: middle;\n",
       "    }\n",
       "\n",
       "    .dataframe tbody tr th {\n",
       "        vertical-align: top;\n",
       "    }\n",
       "\n",
       "    .dataframe thead th {\n",
       "        text-align: right;\n",
       "    }\n",
       "</style>\n",
       "<table border=\"1\" class=\"dataframe\">\n",
       "  <thead>\n",
       "    <tr style=\"text-align: right;\">\n",
       "      <th></th>\n",
       "      <th>count</th>\n",
       "      <th>%</th>\n",
       "    </tr>\n",
       "  </thead>\n",
       "  <tbody>\n",
       "    <tr>\n",
       "      <th>NC</th>\n",
       "      <td>35549</td>\n",
       "      <td>28.85</td>\n",
       "    </tr>\n",
       "    <tr>\n",
       "      <th>Missing</th>\n",
       "      <td>28372</td>\n",
       "      <td>23.03</td>\n",
       "    </tr>\n",
       "    <tr>\n",
       "      <th>NY</th>\n",
       "      <td>9812</td>\n",
       "      <td>7.96</td>\n",
       "    </tr>\n",
       "    <tr>\n",
       "      <th>OC</th>\n",
       "      <td>6553</td>\n",
       "      <td>5.32</td>\n",
       "    </tr>\n",
       "    <tr>\n",
       "      <th>SC</th>\n",
       "      <td>3743</td>\n",
       "      <td>3.04</td>\n",
       "    </tr>\n",
       "    <tr>\n",
       "      <th>OH</th>\n",
       "      <td>3401</td>\n",
       "      <td>2.76</td>\n",
       "    </tr>\n",
       "    <tr>\n",
       "      <th>PA</th>\n",
       "      <td>3385</td>\n",
       "      <td>2.75</td>\n",
       "    </tr>\n",
       "    <tr>\n",
       "      <th>NJ</th>\n",
       "      <td>3311</td>\n",
       "      <td>2.69</td>\n",
       "    </tr>\n",
       "    <tr>\n",
       "      <th>FL</th>\n",
       "      <td>2636</td>\n",
       "      <td>2.14</td>\n",
       "    </tr>\n",
       "    <tr>\n",
       "      <th>CA</th>\n",
       "      <td>2270</td>\n",
       "      <td>1.84</td>\n",
       "    </tr>\n",
       "    <tr>\n",
       "      <th>VA</th>\n",
       "      <td>2260</td>\n",
       "      <td>1.83</td>\n",
       "    </tr>\n",
       "    <tr>\n",
       "      <th>MI</th>\n",
       "      <td>1863</td>\n",
       "      <td>1.51</td>\n",
       "    </tr>\n",
       "    <tr>\n",
       "      <th>IL</th>\n",
       "      <td>1731</td>\n",
       "      <td>1.40</td>\n",
       "    </tr>\n",
       "    <tr>\n",
       "      <th>GA</th>\n",
       "      <td>1713</td>\n",
       "      <td>1.39</td>\n",
       "    </tr>\n",
       "    <tr>\n",
       "      <th>TX</th>\n",
       "      <td>1341</td>\n",
       "      <td>1.09</td>\n",
       "    </tr>\n",
       "    <tr>\n",
       "      <th>WV</th>\n",
       "      <td>1327</td>\n",
       "      <td>1.08</td>\n",
       "    </tr>\n",
       "    <tr>\n",
       "      <th>MA</th>\n",
       "      <td>1309</td>\n",
       "      <td>1.06</td>\n",
       "    </tr>\n",
       "    <tr>\n",
       "      <th>MD</th>\n",
       "      <td>1180</td>\n",
       "      <td>0.96</td>\n",
       "    </tr>\n",
       "    <tr>\n",
       "      <th>CT</th>\n",
       "      <td>1011</td>\n",
       "      <td>0.82</td>\n",
       "    </tr>\n",
       "    <tr>\n",
       "      <th>IN</th>\n",
       "      <td>989</td>\n",
       "      <td>0.80</td>\n",
       "    </tr>\n",
       "    <tr>\n",
       "      <th>TN</th>\n",
       "      <td>961</td>\n",
       "      <td>0.78</td>\n",
       "    </tr>\n",
       "    <tr>\n",
       "      <th>AL</th>\n",
       "      <td>674</td>\n",
       "      <td>0.55</td>\n",
       "    </tr>\n",
       "    <tr>\n",
       "      <th>KY</th>\n",
       "      <td>634</td>\n",
       "      <td>0.51</td>\n",
       "    </tr>\n",
       "    <tr>\n",
       "      <th>MO</th>\n",
       "      <td>568</td>\n",
       "      <td>0.46</td>\n",
       "    </tr>\n",
       "    <tr>\n",
       "      <th>WI</th>\n",
       "      <td>558</td>\n",
       "      <td>0.45</td>\n",
       "    </tr>\n",
       "    <tr>\n",
       "      <th>DC</th>\n",
       "      <td>507</td>\n",
       "      <td>0.41</td>\n",
       "    </tr>\n",
       "    <tr>\n",
       "      <th>LA</th>\n",
       "      <td>463</td>\n",
       "      <td>0.38</td>\n",
       "    </tr>\n",
       "    <tr>\n",
       "      <th>MN</th>\n",
       "      <td>376</td>\n",
       "      <td>0.31</td>\n",
       "    </tr>\n",
       "    <tr>\n",
       "      <th>IA</th>\n",
       "      <td>371</td>\n",
       "      <td>0.30</td>\n",
       "    </tr>\n",
       "    <tr>\n",
       "      <th>MS</th>\n",
       "      <td>319</td>\n",
       "      <td>0.26</td>\n",
       "    </tr>\n",
       "    <tr>\n",
       "      <th>WA</th>\n",
       "      <td>318</td>\n",
       "      <td>0.26</td>\n",
       "    </tr>\n",
       "    <tr>\n",
       "      <th>PR</th>\n",
       "      <td>312</td>\n",
       "      <td>0.25</td>\n",
       "    </tr>\n",
       "    <tr>\n",
       "      <th>CO</th>\n",
       "      <td>311</td>\n",
       "      <td>0.25</td>\n",
       "    </tr>\n",
       "    <tr>\n",
       "      <th>OK</th>\n",
       "      <td>272</td>\n",
       "      <td>0.22</td>\n",
       "    </tr>\n",
       "    <tr>\n",
       "      <th>KS</th>\n",
       "      <td>259</td>\n",
       "      <td>0.21</td>\n",
       "    </tr>\n",
       "    <tr>\n",
       "      <th>AZ</th>\n",
       "      <td>245</td>\n",
       "      <td>0.20</td>\n",
       "    </tr>\n",
       "    <tr>\n",
       "      <th>RI</th>\n",
       "      <td>242</td>\n",
       "      <td>0.20</td>\n",
       "    </tr>\n",
       "    <tr>\n",
       "      <th>ME</th>\n",
       "      <td>199</td>\n",
       "      <td>0.16</td>\n",
       "    </tr>\n",
       "    <tr>\n",
       "      <th>NH</th>\n",
       "      <td>198</td>\n",
       "      <td>0.16</td>\n",
       "    </tr>\n",
       "    <tr>\n",
       "      <th>AR</th>\n",
       "      <td>196</td>\n",
       "      <td>0.16</td>\n",
       "    </tr>\n",
       "    <tr>\n",
       "      <th>NE</th>\n",
       "      <td>180</td>\n",
       "      <td>0.15</td>\n",
       "    </tr>\n",
       "    <tr>\n",
       "      <th>DE</th>\n",
       "      <td>174</td>\n",
       "      <td>0.14</td>\n",
       "    </tr>\n",
       "    <tr>\n",
       "      <th>VT</th>\n",
       "      <td>150</td>\n",
       "      <td>0.12</td>\n",
       "    </tr>\n",
       "    <tr>\n",
       "      <th>UT</th>\n",
       "      <td>143</td>\n",
       "      <td>0.12</td>\n",
       "    </tr>\n",
       "    <tr>\n",
       "      <th>OR</th>\n",
       "      <td>134</td>\n",
       "      <td>0.11</td>\n",
       "    </tr>\n",
       "    <tr>\n",
       "      <th>HI</th>\n",
       "      <td>108</td>\n",
       "      <td>0.09</td>\n",
       "    </tr>\n",
       "    <tr>\n",
       "      <th>NM</th>\n",
       "      <td>107</td>\n",
       "      <td>0.09</td>\n",
       "    </tr>\n",
       "    <tr>\n",
       "      <th>SD</th>\n",
       "      <td>77</td>\n",
       "      <td>0.06</td>\n",
       "    </tr>\n",
       "    <tr>\n",
       "      <th>ID</th>\n",
       "      <td>76</td>\n",
       "      <td>0.06</td>\n",
       "    </tr>\n",
       "    <tr>\n",
       "      <th>AK</th>\n",
       "      <td>76</td>\n",
       "      <td>0.06</td>\n",
       "    </tr>\n",
       "    <tr>\n",
       "      <th>ND</th>\n",
       "      <td>76</td>\n",
       "      <td>0.06</td>\n",
       "    </tr>\n",
       "    <tr>\n",
       "      <th>MT</th>\n",
       "      <td>75</td>\n",
       "      <td>0.06</td>\n",
       "    </tr>\n",
       "    <tr>\n",
       "      <th>NV</th>\n",
       "      <td>66</td>\n",
       "      <td>0.05</td>\n",
       "    </tr>\n",
       "    <tr>\n",
       "      <th>WY</th>\n",
       "      <td>26</td>\n",
       "      <td>0.02</td>\n",
       "    </tr>\n",
       "    <tr>\n",
       "      <th>VI</th>\n",
       "      <td>10</td>\n",
       "      <td>0.01</td>\n",
       "    </tr>\n",
       "    <tr>\n",
       "      <th>GU</th>\n",
       "      <td>4</td>\n",
       "      <td>0.00</td>\n",
       "    </tr>\n",
       "    <tr>\n",
       "      <th>NO</th>\n",
       "      <td>1</td>\n",
       "      <td>0.00</td>\n",
       "    </tr>\n",
       "  </tbody>\n",
       "</table>\n",
       "</div>"
      ],
      "text/plain": [
       "         count      %\n",
       "NC       35549  28.85\n",
       "Missing  28372  23.03\n",
       "NY        9812   7.96\n",
       "OC        6553   5.32\n",
       "SC        3743   3.04\n",
       "OH        3401   2.76\n",
       "PA        3385   2.75\n",
       "NJ        3311   2.69\n",
       "FL        2636   2.14\n",
       "CA        2270   1.84\n",
       "VA        2260   1.83\n",
       "MI        1863   1.51\n",
       "IL        1731   1.40\n",
       "GA        1713   1.39\n",
       "TX        1341   1.09\n",
       "WV        1327   1.08\n",
       "MA        1309   1.06\n",
       "MD        1180   0.96\n",
       "CT        1011   0.82\n",
       "IN         989   0.80\n",
       "TN         961   0.78\n",
       "AL         674   0.55\n",
       "KY         634   0.51\n",
       "MO         568   0.46\n",
       "WI         558   0.45\n",
       "DC         507   0.41\n",
       "LA         463   0.38\n",
       "MN         376   0.31\n",
       "IA         371   0.30\n",
       "MS         319   0.26\n",
       "WA         318   0.26\n",
       "PR         312   0.25\n",
       "CO         311   0.25\n",
       "OK         272   0.22\n",
       "KS         259   0.21\n",
       "AZ         245   0.20\n",
       "RI         242   0.20\n",
       "ME         199   0.16\n",
       "NH         198   0.16\n",
       "AR         196   0.16\n",
       "NE         180   0.15\n",
       "DE         174   0.14\n",
       "VT         150   0.12\n",
       "UT         143   0.12\n",
       "OR         134   0.11\n",
       "HI         108   0.09\n",
       "NM         107   0.09\n",
       "SD          77   0.06\n",
       "ID          76   0.06\n",
       "AK          76   0.06\n",
       "ND          76   0.06\n",
       "MT          75   0.06\n",
       "NV          66   0.05\n",
       "WY          26   0.02\n",
       "VI          10   0.01\n",
       "GU           4   0.00\n",
       "NO           1   0.00"
      ]
     },
     "execution_count": 127,
     "metadata": {},
     "output_type": "execute_result"
    }
   ],
   "source": [
    "check_unique('birth_state', elec_2016_df)"
   ]
  },
  {
   "cell_type": "markdown",
   "metadata": {},
   "source": [
    "> The majority of `birth_state` labels are rare categories (less than 5% of voters). Some of the codes do not appear to be U.S. states or territories. These rare labels could be dealt with in a couple ways. They could all be grouped into an 'Other' category, or they could be grouped according to geographic region of the U.S. with an additional category for naturalized U.S. citizens."
   ]
  },
  {
   "cell_type": "code",
   "execution_count": 128,
   "metadata": {
    "ExecuteTime": {
     "end_time": "2021-01-12T23:10:42.034422Z",
     "start_time": "2021-01-12T23:10:41.996188Z"
    }
   },
   "outputs": [
    {
     "data": {
      "text/html": [
       "<div>\n",
       "<style scoped>\n",
       "    .dataframe tbody tr th:only-of-type {\n",
       "        vertical-align: middle;\n",
       "    }\n",
       "\n",
       "    .dataframe tbody tr th {\n",
       "        vertical-align: top;\n",
       "    }\n",
       "\n",
       "    .dataframe thead th {\n",
       "        text-align: right;\n",
       "    }\n",
       "</style>\n",
       "<table border=\"1\" class=\"dataframe\">\n",
       "  <thead>\n",
       "    <tr style=\"text-align: right;\">\n",
       "      <th></th>\n",
       "      <th>count</th>\n",
       "      <th>%</th>\n",
       "    </tr>\n",
       "  </thead>\n",
       "  <tbody>\n",
       "    <tr>\n",
       "      <th>Y</th>\n",
       "      <td>113301</td>\n",
       "      <td>91.95</td>\n",
       "    </tr>\n",
       "    <tr>\n",
       "      <th>N</th>\n",
       "      <td>9921</td>\n",
       "      <td>8.05</td>\n",
       "    </tr>\n",
       "  </tbody>\n",
       "</table>\n",
       "</div>"
      ],
      "text/plain": [
       "    count      %\n",
       "Y  113301  91.95\n",
       "N    9921   8.05"
      ]
     },
     "execution_count": 128,
     "metadata": {},
     "output_type": "execute_result"
    }
   ],
   "source": [
    "check_unique('drivers_lic', elec_2016_df)"
   ]
  },
  {
   "cell_type": "markdown",
   "metadata": {},
   "source": [
    "### 2016 Group Rare Categories"
   ]
  },
  {
   "cell_type": "code",
   "execution_count": 129,
   "metadata": {
    "ExecuteTime": {
     "end_time": "2021-01-12T23:10:42.058702Z",
     "start_time": "2021-01-12T23:10:42.037075Z"
    }
   },
   "outputs": [
    {
     "data": {
      "text/html": [
       "<div>\n",
       "<style scoped>\n",
       "    .dataframe tbody tr th:only-of-type {\n",
       "        vertical-align: middle;\n",
       "    }\n",
       "\n",
       "    .dataframe tbody tr th {\n",
       "        vertical-align: top;\n",
       "    }\n",
       "\n",
       "    .dataframe thead th {\n",
       "        text-align: right;\n",
       "    }\n",
       "</style>\n",
       "<table border=\"1\" class=\"dataframe\">\n",
       "  <thead>\n",
       "    <tr style=\"text-align: right;\">\n",
       "      <th></th>\n",
       "      <th>count</th>\n",
       "      <th>%</th>\n",
       "    </tr>\n",
       "  </thead>\n",
       "  <tbody>\n",
       "    <tr>\n",
       "      <th>1</th>\n",
       "      <td>102225</td>\n",
       "      <td>82.96</td>\n",
       "    </tr>\n",
       "    <tr>\n",
       "      <th>0</th>\n",
       "      <td>20997</td>\n",
       "      <td>17.04</td>\n",
       "    </tr>\n",
       "  </tbody>\n",
       "</table>\n",
       "</div>"
      ],
      "text/plain": [
       "    count      %\n",
       "1  102225  82.96\n",
       "0   20997  17.04"
      ]
     },
     "execution_count": 129,
     "metadata": {},
     "output_type": "execute_result"
    }
   ],
   "source": [
    "## Create new column that is a binary variable indicating whether the voter\n",
    "  ## cast a vote in the 2016 election or not\n",
    "elec_2016_df['Gen_2016_binary'] = np.where(elec_2016_df['Gen_2016']=='No Vote',\n",
    "                                0, 1)\n",
    "\n",
    "## Check distribution\n",
    "check_unique('Gen_2016_binary', elec_2016_df)"
   ]
  },
  {
   "cell_type": "code",
   "execution_count": 130,
   "metadata": {
    "ExecuteTime": {
     "end_time": "2021-01-12T23:10:42.080867Z",
     "start_time": "2021-01-12T23:10:42.061494Z"
    }
   },
   "outputs": [
    {
     "data": {
      "text/html": [
       "<div>\n",
       "<style scoped>\n",
       "    .dataframe tbody tr th:only-of-type {\n",
       "        vertical-align: middle;\n",
       "    }\n",
       "\n",
       "    .dataframe tbody tr th {\n",
       "        vertical-align: top;\n",
       "    }\n",
       "\n",
       "    .dataframe thead th {\n",
       "        text-align: right;\n",
       "    }\n",
       "</style>\n",
       "<table border=\"1\" class=\"dataframe\">\n",
       "  <thead>\n",
       "    <tr style=\"text-align: right;\">\n",
       "      <th></th>\n",
       "      <th>count</th>\n",
       "      <th>%</th>\n",
       "    </tr>\n",
       "  </thead>\n",
       "  <tbody>\n",
       "    <tr>\n",
       "      <th>0</th>\n",
       "      <td>79340</td>\n",
       "      <td>64.39</td>\n",
       "    </tr>\n",
       "    <tr>\n",
       "      <th>1</th>\n",
       "      <td>43882</td>\n",
       "      <td>35.61</td>\n",
       "    </tr>\n",
       "  </tbody>\n",
       "</table>\n",
       "</div>"
      ],
      "text/plain": [
       "   count      %\n",
       "0  79340  64.39\n",
       "1  43882  35.61"
      ]
     },
     "execution_count": 130,
     "metadata": {},
     "output_type": "execute_result"
    }
   ],
   "source": [
    "## Create new column that is a binary variable indicating whether the voter\n",
    "  ## cast a vote in the 2016 election or not\n",
    "elec_2016_df['Pri_2016_binary'] = np.where(elec_2016_df['Pri_2016']=='No Vote',\n",
    "                                0, 1)\n",
    "\n",
    "## Check distribution\n",
    "check_unique('Pri_2016_binary', elec_2016_df)"
   ]
  },
  {
   "cell_type": "code",
   "execution_count": 131,
   "metadata": {
    "ExecuteTime": {
     "end_time": "2021-01-12T23:10:42.151477Z",
     "start_time": "2021-01-12T23:10:42.082695Z"
    }
   },
   "outputs": [
    {
     "data": {
      "text/html": [
       "<div>\n",
       "<style scoped>\n",
       "    .dataframe tbody tr th:only-of-type {\n",
       "        vertical-align: middle;\n",
       "    }\n",
       "\n",
       "    .dataframe tbody tr th {\n",
       "        vertical-align: top;\n",
       "    }\n",
       "\n",
       "    .dataframe thead th {\n",
       "        text-align: right;\n",
       "    }\n",
       "</style>\n",
       "<table border=\"1\" class=\"dataframe\">\n",
       "  <thead>\n",
       "    <tr style=\"text-align: right;\">\n",
       "      <th></th>\n",
       "      <th>count</th>\n",
       "      <th>%</th>\n",
       "    </tr>\n",
       "  </thead>\n",
       "  <tbody>\n",
       "    <tr>\n",
       "      <th>Rep</th>\n",
       "      <td>53497</td>\n",
       "      <td>43.42</td>\n",
       "    </tr>\n",
       "    <tr>\n",
       "      <th>Other</th>\n",
       "      <td>39768</td>\n",
       "      <td>32.27</td>\n",
       "    </tr>\n",
       "    <tr>\n",
       "      <th>Dem</th>\n",
       "      <td>29957</td>\n",
       "      <td>24.31</td>\n",
       "    </tr>\n",
       "  </tbody>\n",
       "</table>\n",
       "</div>"
      ],
      "text/plain": [
       "       count      %\n",
       "Rep    53497  43.42\n",
       "Other  39768  32.27\n",
       "Dem    29957  24.31"
      ]
     },
     "execution_count": 131,
     "metadata": {},
     "output_type": "execute_result"
    }
   ],
   "source": [
    "## Create new column grouping most infrequent party categories (<5% of voters)\n",
    "  ## into same group as those who are unaffiliated\n",
    "elec_2016_df['party_grp'] = np.where(elec_2016_df['party_cd'].isin(['REP', 'DEM']),\n",
    "                                elec_2016_df['party_cd'].str.title(), 'Other')\n",
    "\n",
    "## Check distribution\n",
    "check_unique('party_grp', elec_2016_df)"
   ]
  },
  {
   "cell_type": "code",
   "execution_count": 132,
   "metadata": {
    "ExecuteTime": {
     "end_time": "2021-01-12T23:10:42.193944Z",
     "start_time": "2021-01-12T23:10:42.153175Z"
    }
   },
   "outputs": [
    {
     "data": {
      "text/html": [
       "<div>\n",
       "<style scoped>\n",
       "    .dataframe tbody tr th:only-of-type {\n",
       "        vertical-align: middle;\n",
       "    }\n",
       "\n",
       "    .dataframe tbody tr th {\n",
       "        vertical-align: top;\n",
       "    }\n",
       "\n",
       "    .dataframe thead th {\n",
       "        text-align: right;\n",
       "    }\n",
       "</style>\n",
       "<table border=\"1\" class=\"dataframe\">\n",
       "  <thead>\n",
       "    <tr style=\"text-align: right;\">\n",
       "      <th></th>\n",
       "      <th>count</th>\n",
       "      <th>%</th>\n",
       "    </tr>\n",
       "  </thead>\n",
       "  <tbody>\n",
       "    <tr>\n",
       "      <th>White</th>\n",
       "      <td>94971</td>\n",
       "      <td>77.07</td>\n",
       "    </tr>\n",
       "    <tr>\n",
       "      <th>Black</th>\n",
       "      <td>14892</td>\n",
       "      <td>12.09</td>\n",
       "    </tr>\n",
       "    <tr>\n",
       "      <th>Undesig.</th>\n",
       "      <td>7029</td>\n",
       "      <td>5.70</td>\n",
       "    </tr>\n",
       "    <tr>\n",
       "      <th>Other</th>\n",
       "      <td>6330</td>\n",
       "      <td>5.14</td>\n",
       "    </tr>\n",
       "  </tbody>\n",
       "</table>\n",
       "</div>"
      ],
      "text/plain": [
       "          count      %\n",
       "White     94971  77.07\n",
       "Black     14892  12.09\n",
       "Undesig.   7029   5.70\n",
       "Other      6330   5.14"
      ]
     },
     "execution_count": 132,
     "metadata": {},
     "output_type": "execute_result"
    }
   ],
   "source": [
    "## Create new column grouping most infrequent race categories (<5% of voters)\n",
    "elec_2016_df['race_grp'] = np.where(elec_2016_df['race_code'].isin(['W', 'B', 'U']),\n",
    "                               elec_2016_df['race_code'], 'O')\n",
    "race_grp_map = {'W': 'White',\n",
    "                'B': 'Black',\n",
    "                'U': 'Undesig.',\n",
    "                'O': 'Other'}\n",
    "elec_2016_df['race_grp'] = elec_2016_df['race_grp'].map(race_grp_map)\n",
    "\n",
    "## Check distribution\n",
    "check_unique('race_grp', elec_2016_df)"
   ]
  },
  {
   "cell_type": "code",
   "execution_count": 133,
   "metadata": {
    "ExecuteTime": {
     "end_time": "2021-01-12T23:10:42.273211Z",
     "start_time": "2021-01-12T23:10:42.196052Z"
    }
   },
   "outputs": [
    {
     "data": {
      "text/html": [
       "<div>\n",
       "<style scoped>\n",
       "    .dataframe tbody tr th:only-of-type {\n",
       "        vertical-align: middle;\n",
       "    }\n",
       "\n",
       "    .dataframe tbody tr th {\n",
       "        vertical-align: top;\n",
       "    }\n",
       "\n",
       "    .dataframe thead th {\n",
       "        text-align: right;\n",
       "    }\n",
       "</style>\n",
       "<table border=\"1\" class=\"dataframe\">\n",
       "  <thead>\n",
       "    <tr style=\"text-align: right;\">\n",
       "      <th></th>\n",
       "      <th>count</th>\n",
       "      <th>%</th>\n",
       "    </tr>\n",
       "  </thead>\n",
       "  <tbody>\n",
       "    <tr>\n",
       "      <th>Monroe</th>\n",
       "      <td>40248</td>\n",
       "      <td>32.66</td>\n",
       "    </tr>\n",
       "    <tr>\n",
       "      <th>Waxhaw</th>\n",
       "      <td>33068</td>\n",
       "      <td>26.84</td>\n",
       "    </tr>\n",
       "    <tr>\n",
       "      <th>Indian Trail</th>\n",
       "      <td>20304</td>\n",
       "      <td>16.48</td>\n",
       "    </tr>\n",
       "    <tr>\n",
       "      <th>Matthews</th>\n",
       "      <td>19058</td>\n",
       "      <td>15.47</td>\n",
       "    </tr>\n",
       "    <tr>\n",
       "      <th>Other</th>\n",
       "      <td>10544</td>\n",
       "      <td>8.56</td>\n",
       "    </tr>\n",
       "  </tbody>\n",
       "</table>\n",
       "</div>"
      ],
      "text/plain": [
       "              count      %\n",
       "Monroe        40248  32.66\n",
       "Waxhaw        33068  26.84\n",
       "Indian Trail  20304  16.48\n",
       "Matthews      19058  15.47\n",
       "Other         10544   8.56"
      ]
     },
     "execution_count": 133,
     "metadata": {},
     "output_type": "execute_result"
    }
   ],
   "source": [
    "## Create new column grouping most infrequent cities (<5% of voters)\n",
    "elec_2016_df['city_grp'] = np.where(elec_2016_df['res_city_desc'].isin(['MONROE', \n",
    "                                                              'WAXHAW',\n",
    "                                                              'INDIAN TRAIL',\n",
    "                                                              'MATTHEWS']),\n",
    "                                elec_2016_df['res_city_desc'].str.title(), 'Other')\n",
    "\n",
    "## Check distribution\n",
    "check_unique('city_grp', elec_2016_df)"
   ]
  },
  {
   "cell_type": "code",
   "execution_count": 134,
   "metadata": {
    "ExecuteTime": {
     "end_time": "2021-01-12T23:10:42.364574Z",
     "start_time": "2021-01-12T23:10:42.275097Z"
    }
   },
   "outputs": [
    {
     "data": {
      "text/html": [
       "<div>\n",
       "<style scoped>\n",
       "    .dataframe tbody tr th:only-of-type {\n",
       "        vertical-align: middle;\n",
       "    }\n",
       "\n",
       "    .dataframe tbody tr th {\n",
       "        vertical-align: top;\n",
       "    }\n",
       "\n",
       "    .dataframe thead th {\n",
       "        text-align: right;\n",
       "    }\n",
       "</style>\n",
       "<table border=\"1\" class=\"dataframe\">\n",
       "  <thead>\n",
       "    <tr style=\"text-align: right;\">\n",
       "      <th></th>\n",
       "      <th>count</th>\n",
       "      <th>%</th>\n",
       "    </tr>\n",
       "  </thead>\n",
       "  <tbody>\n",
       "    <tr>\n",
       "      <th>South</th>\n",
       "      <td>53949</td>\n",
       "      <td>43.78</td>\n",
       "    </tr>\n",
       "    <tr>\n",
       "      <th>Missing</th>\n",
       "      <td>28373</td>\n",
       "      <td>23.03</td>\n",
       "    </tr>\n",
       "    <tr>\n",
       "      <th>Northeast</th>\n",
       "      <td>19617</td>\n",
       "      <td>15.92</td>\n",
       "    </tr>\n",
       "    <tr>\n",
       "      <th>Midwest</th>\n",
       "      <td>10449</td>\n",
       "      <td>8.48</td>\n",
       "    </tr>\n",
       "    <tr>\n",
       "      <th>Other</th>\n",
       "      <td>6879</td>\n",
       "      <td>5.58</td>\n",
       "    </tr>\n",
       "    <tr>\n",
       "      <th>West</th>\n",
       "      <td>3955</td>\n",
       "      <td>3.21</td>\n",
       "    </tr>\n",
       "  </tbody>\n",
       "</table>\n",
       "</div>"
      ],
      "text/plain": [
       "           count      %\n",
       "South      53949  43.78\n",
       "Missing    28373  23.03\n",
       "Northeast  19617  15.92\n",
       "Midwest    10449   8.48\n",
       "Other       6879   5.58\n",
       "West        3955   3.21"
      ]
     },
     "execution_count": 134,
     "metadata": {},
     "output_type": "execute_result"
    }
   ],
   "source": [
    "## Create a new column grouping birth_state into U.S. Census regions,\n",
    "  ## this time lumping territories and out of country into 'Other'\n",
    "elec_2016_df['birth_reg_other'] = elec_2016_df['birth_state'].apply(get_birth_reg_census_other)\n",
    "check_unique('birth_reg_other', elec_2016_df)"
   ]
  },
  {
   "cell_type": "markdown",
   "metadata": {},
   "source": [
    "### 2016 Numeric Variables"
   ]
  },
  {
   "cell_type": "code",
   "execution_count": 135,
   "metadata": {
    "ExecuteTime": {
     "end_time": "2021-01-12T23:10:42.888152Z",
     "start_time": "2021-01-12T23:10:42.367164Z"
    }
   },
   "outputs": [
    {
     "data": {
      "image/png": "[encoded data removed]",
      "text/plain": [
       "<Figure size 720x504 with 1 Axes>"
      ]
     },
     "metadata": {
      "needs_background": "light"
     },
     "output_type": "display_data"
    }
   ],
   "source": [
    "## Plot distribution of current age as of EOY 2016 \n",
    "plt.figure(figsize=(10,7))\n",
    "ax = sns.histplot(elec_2016_df['birth_age_adj'], stat='density')\n",
    "ax.set_title('Distribution of Age', fontsize=16, weight='bold')\n",
    "ax.set_xlabel('Age', fontsize=14, weight='bold')\n",
    "ax.set_ylabel('Count', fontsize=14, weight='bold')\n",
    "ax.set_xlim(15,115);"
   ]
  },
  {
   "cell_type": "markdown",
   "metadata": {},
   "source": [
    "### 2016 Bin Age into Generation Categories"
   ]
  },
  {
   "cell_type": "code",
   "execution_count": 136,
   "metadata": {
    "ExecuteTime": {
     "end_time": "2021-01-12T23:10:42.958806Z",
     "start_time": "2021-01-12T23:10:42.889935Z"
    }
   },
   "outputs": [
    {
     "data": {
      "text/html": [
       "<div>\n",
       "<style scoped>\n",
       "    .dataframe tbody tr th:only-of-type {\n",
       "        vertical-align: middle;\n",
       "    }\n",
       "\n",
       "    .dataframe tbody tr th {\n",
       "        vertical-align: top;\n",
       "    }\n",
       "\n",
       "    .dataframe thead th {\n",
       "        text-align: right;\n",
       "    }\n",
       "</style>\n",
       "<table border=\"1\" class=\"dataframe\">\n",
       "  <thead>\n",
       "    <tr style=\"text-align: right;\">\n",
       "      <th></th>\n",
       "      <th>count</th>\n",
       "      <th>%</th>\n",
       "    </tr>\n",
       "  </thead>\n",
       "  <tbody>\n",
       "    <tr>\n",
       "      <th>GenX</th>\n",
       "      <td>42965</td>\n",
       "      <td>34.87</td>\n",
       "    </tr>\n",
       "    <tr>\n",
       "      <th>Boomer</th>\n",
       "      <td>38332</td>\n",
       "      <td>31.11</td>\n",
       "    </tr>\n",
       "    <tr>\n",
       "      <th>Millennial</th>\n",
       "      <td>27377</td>\n",
       "      <td>22.22</td>\n",
       "    </tr>\n",
       "    <tr>\n",
       "      <th>Silent</th>\n",
       "      <td>10414</td>\n",
       "      <td>8.45</td>\n",
       "    </tr>\n",
       "    <tr>\n",
       "      <th>GenZ</th>\n",
       "      <td>3994</td>\n",
       "      <td>3.24</td>\n",
       "    </tr>\n",
       "    <tr>\n",
       "      <th>Greatest</th>\n",
       "      <td>140</td>\n",
       "      <td>0.11</td>\n",
       "    </tr>\n",
       "  </tbody>\n",
       "</table>\n",
       "</div>"
      ],
      "text/plain": [
       "            count      %\n",
       "GenX        42965  34.87\n",
       "Boomer      38332  31.11\n",
       "Millennial  27377  22.22\n",
       "Silent      10414   8.45\n",
       "GenZ         3994   3.24\n",
       "Greatest      140   0.11"
      ]
     },
     "execution_count": 136,
     "metadata": {},
     "output_type": "execute_result"
    }
   ],
   "source": [
    "## Create a a new column grouping birth_year into generations\n",
    "elec_2016_df['generation'] = elec_2016_df['birth_year'].apply(get_generation)\n",
    "check_unique('generation', elec_2016_df)"
   ]
  },
  {
   "cell_type": "code",
   "execution_count": 137,
   "metadata": {
    "ExecuteTime": {
     "end_time": "2021-01-12T23:10:43.036041Z",
     "start_time": "2021-01-12T23:10:42.961060Z"
    }
   },
   "outputs": [
    {
     "data": {
      "text/html": [
       "<div>\n",
       "<style scoped>\n",
       "    .dataframe tbody tr th:only-of-type {\n",
       "        vertical-align: middle;\n",
       "    }\n",
       "\n",
       "    .dataframe tbody tr th {\n",
       "        vertical-align: top;\n",
       "    }\n",
       "\n",
       "    .dataframe thead th {\n",
       "        text-align: right;\n",
       "    }\n",
       "</style>\n",
       "<table border=\"1\" class=\"dataframe\">\n",
       "  <thead>\n",
       "    <tr style=\"text-align: right;\">\n",
       "      <th></th>\n",
       "      <th>count</th>\n",
       "      <th>%</th>\n",
       "    </tr>\n",
       "  </thead>\n",
       "  <tbody>\n",
       "    <tr>\n",
       "      <th>GenX</th>\n",
       "      <td>42965</td>\n",
       "      <td>34.87</td>\n",
       "    </tr>\n",
       "    <tr>\n",
       "      <th>Boomer</th>\n",
       "      <td>38332</td>\n",
       "      <td>31.11</td>\n",
       "    </tr>\n",
       "    <tr>\n",
       "      <th>Millennial</th>\n",
       "      <td>27377</td>\n",
       "      <td>22.22</td>\n",
       "    </tr>\n",
       "    <tr>\n",
       "      <th>Greatest-Silent</th>\n",
       "      <td>10554</td>\n",
       "      <td>8.57</td>\n",
       "    </tr>\n",
       "    <tr>\n",
       "      <th>GenZ</th>\n",
       "      <td>3994</td>\n",
       "      <td>3.24</td>\n",
       "    </tr>\n",
       "  </tbody>\n",
       "</table>\n",
       "</div>"
      ],
      "text/plain": [
       "                 count      %\n",
       "GenX             42965  34.87\n",
       "Boomer           38332  31.11\n",
       "Millennial       27377  22.22\n",
       "Greatest-Silent  10554   8.57\n",
       "GenZ              3994   3.24"
      ]
     },
     "execution_count": 137,
     "metadata": {},
     "output_type": "execute_result"
    }
   ],
   "source": [
    "## Create a new column grouping birth_year into generations, \n",
    "  ## also lumping Silent in with Greatest\n",
    "elec_2016_df['gen_grp'] = elec_2016_df['birth_year'].apply(get_gen_grp)\n",
    "check_unique('gen_grp', elec_2016_df)"
   ]
  },
  {
   "cell_type": "markdown",
   "metadata": {},
   "source": [
    "### 2016 Load in Full Clean Dataset"
   ]
  },
  {
   "cell_type": "code",
   "execution_count": 138,
   "metadata": {
    "ExecuteTime": {
     "end_time": "2021-01-12T23:10:43.805802Z",
     "start_time": "2021-01-12T23:10:43.038349Z"
    }
   },
   "outputs": [
    {
     "data": {
      "text/html": [
       "<div>\n",
       "<style scoped>\n",
       "    .dataframe tbody tr th:only-of-type {\n",
       "        vertical-align: middle;\n",
       "    }\n",
       "\n",
       "    .dataframe tbody tr th {\n",
       "        vertical-align: top;\n",
       "    }\n",
       "\n",
       "    .dataframe thead th {\n",
       "        text-align: right;\n",
       "    }\n",
       "</style>\n",
       "<table border=\"1\" class=\"dataframe\">\n",
       "  <thead>\n",
       "    <tr style=\"text-align: right;\">\n",
       "      <th></th>\n",
       "      <th>ncid</th>\n",
       "      <th>no_vote_his</th>\n",
       "      <th>birth_age_adj</th>\n",
       "      <th>voting_method</th>\n",
       "      <th>Gen_2016</th>\n",
       "      <th>vote_early</th>\n",
       "      <th>vote_by_mail</th>\n",
       "      <th>vote_curbside</th>\n",
       "      <th>Pri_2016</th>\n",
       "      <th>party_cd</th>\n",
       "      <th>gender_code</th>\n",
       "      <th>birth_year</th>\n",
       "      <th>registr_dt</th>\n",
       "      <th>race_code</th>\n",
       "      <th>ethnic_code</th>\n",
       "      <th>zip_code</th>\n",
       "      <th>res_street_address</th>\n",
       "      <th>res_city_desc</th>\n",
       "      <th>birth_state</th>\n",
       "      <th>drivers_lic</th>\n",
       "      <th>precinct_abbrv</th>\n",
       "      <th>vtd_abbrv</th>\n",
       "      <th>cong_dist_abbrv</th>\n",
       "      <th>super_court_abbrv</th>\n",
       "      <th>judic_dist_abbrv</th>\n",
       "      <th>nc_senate_abbrv</th>\n",
       "      <th>nc_house_abbrv</th>\n",
       "      <th>school_dist_abbrv</th>\n",
       "      <th>drivers_lic_bin</th>\n",
       "      <th>vote_cat</th>\n",
       "      <th>Gen_2016_binary</th>\n",
       "      <th>Pri_2016_binary</th>\n",
       "      <th>party_grp</th>\n",
       "      <th>race_grp</th>\n",
       "      <th>city_grp</th>\n",
       "      <th>birth_reg_other</th>\n",
       "      <th>generation</th>\n",
       "      <th>gen_grp</th>\n",
       "    </tr>\n",
       "  </thead>\n",
       "  <tbody>\n",
       "    <tr>\n",
       "      <th>0</th>\n",
       "      <td>AA100547</td>\n",
       "      <td>0</td>\n",
       "      <td>61.0</td>\n",
       "      <td>ABSENTEE ONESTOP</td>\n",
       "      <td>Early</td>\n",
       "      <td>1.0</td>\n",
       "      <td>0.0</td>\n",
       "      <td>0.0</td>\n",
       "      <td>No Vote</td>\n",
       "      <td>REP</td>\n",
       "      <td>M</td>\n",
       "      <td>1955</td>\n",
       "      <td>2014-03-31</td>\n",
       "      <td>W</td>\n",
       "      <td>UN</td>\n",
       "      <td>28079.0</td>\n",
       "      <td>5514  BEVERLY DR</td>\n",
       "      <td>INDIAN TRAIL</td>\n",
       "      <td>NC</td>\n",
       "      <td>Y</td>\n",
       "      <td>016</td>\n",
       "      <td>016</td>\n",
       "      <td>9.0</td>\n",
       "      <td>20B</td>\n",
       "      <td>20C</td>\n",
       "      <td>35.0</td>\n",
       "      <td>69.0</td>\n",
       "      <td>4.0</td>\n",
       "      <td>1</td>\n",
       "      <td>Early</td>\n",
       "      <td>1</td>\n",
       "      <td>0</td>\n",
       "      <td>Rep</td>\n",
       "      <td>White</td>\n",
       "      <td>Indian Trail</td>\n",
       "      <td>South</td>\n",
       "      <td>Boomer</td>\n",
       "      <td>Boomer</td>\n",
       "    </tr>\n",
       "    <tr>\n",
       "      <th>1</th>\n",
       "      <td>AA108801</td>\n",
       "      <td>0</td>\n",
       "      <td>53.0</td>\n",
       "      <td>ABSENTEE ONESTOP</td>\n",
       "      <td>Early</td>\n",
       "      <td>1.0</td>\n",
       "      <td>0.0</td>\n",
       "      <td>0.0</td>\n",
       "      <td>No Vote</td>\n",
       "      <td>UNA</td>\n",
       "      <td>M</td>\n",
       "      <td>1963</td>\n",
       "      <td>2016-11-04</td>\n",
       "      <td>W</td>\n",
       "      <td>NL</td>\n",
       "      <td>28173.0</td>\n",
       "      <td>4221  OXFORD MILL RD</td>\n",
       "      <td>WAXHAW</td>\n",
       "      <td>MA</td>\n",
       "      <td>Y</td>\n",
       "      <td>020B</td>\n",
       "      <td>020B</td>\n",
       "      <td>9.0</td>\n",
       "      <td>20B</td>\n",
       "      <td>20C</td>\n",
       "      <td>35.0</td>\n",
       "      <td>68.0</td>\n",
       "      <td>6.0</td>\n",
       "      <td>1</td>\n",
       "      <td>Early</td>\n",
       "      <td>1</td>\n",
       "      <td>0</td>\n",
       "      <td>Other</td>\n",
       "      <td>White</td>\n",
       "      <td>Waxhaw</td>\n",
       "      <td>Northeast</td>\n",
       "      <td>Boomer</td>\n",
       "      <td>Boomer</td>\n",
       "    </tr>\n",
       "    <tr>\n",
       "      <th>2</th>\n",
       "      <td>AA112504</td>\n",
       "      <td>0</td>\n",
       "      <td>68.0</td>\n",
       "      <td>ABSENTEE ONESTOP</td>\n",
       "      <td>Early</td>\n",
       "      <td>1.0</td>\n",
       "      <td>0.0</td>\n",
       "      <td>0.0</td>\n",
       "      <td>No Vote</td>\n",
       "      <td>REP</td>\n",
       "      <td>F</td>\n",
       "      <td>1948</td>\n",
       "      <td>2012-10-26</td>\n",
       "      <td>W</td>\n",
       "      <td>NL</td>\n",
       "      <td>28112.0</td>\n",
       "      <td>4325  WOLF POND RD</td>\n",
       "      <td>MONROE</td>\n",
       "      <td>NY</td>\n",
       "      <td>Y</td>\n",
       "      <td>024</td>\n",
       "      <td>024</td>\n",
       "      <td>9.0</td>\n",
       "      <td>20B</td>\n",
       "      <td>20C</td>\n",
       "      <td>35.0</td>\n",
       "      <td>55.0</td>\n",
       "      <td>2.0</td>\n",
       "      <td>1</td>\n",
       "      <td>Early</td>\n",
       "      <td>1</td>\n",
       "      <td>0</td>\n",
       "      <td>Rep</td>\n",
       "      <td>White</td>\n",
       "      <td>Monroe</td>\n",
       "      <td>Northeast</td>\n",
       "      <td>Boomer</td>\n",
       "      <td>Boomer</td>\n",
       "    </tr>\n",
       "    <tr>\n",
       "      <th>3</th>\n",
       "      <td>AA114763</td>\n",
       "      <td>0</td>\n",
       "      <td>49.0</td>\n",
       "      <td>ABSENTEE ONESTOP</td>\n",
       "      <td>Early</td>\n",
       "      <td>1.0</td>\n",
       "      <td>0.0</td>\n",
       "      <td>0.0</td>\n",
       "      <td>Election Day</td>\n",
       "      <td>DEM</td>\n",
       "      <td>F</td>\n",
       "      <td>1967</td>\n",
       "      <td>2012-08-13</td>\n",
       "      <td>B</td>\n",
       "      <td>UN</td>\n",
       "      <td>28104.0</td>\n",
       "      <td>4002  LAWRENCE DANIEL DR</td>\n",
       "      <td>MATTHEWS</td>\n",
       "      <td>NC</td>\n",
       "      <td>Y</td>\n",
       "      <td>037A</td>\n",
       "      <td>037A</td>\n",
       "      <td>9.0</td>\n",
       "      <td>20B</td>\n",
       "      <td>20C</td>\n",
       "      <td>35.0</td>\n",
       "      <td>69.0</td>\n",
       "      <td>5.0</td>\n",
       "      <td>1</td>\n",
       "      <td>Early</td>\n",
       "      <td>1</td>\n",
       "      <td>1</td>\n",
       "      <td>Dem</td>\n",
       "      <td>Black</td>\n",
       "      <td>Matthews</td>\n",
       "      <td>South</td>\n",
       "      <td>GenX</td>\n",
       "      <td>GenX</td>\n",
       "    </tr>\n",
       "    <tr>\n",
       "      <th>4</th>\n",
       "      <td>AA118202</td>\n",
       "      <td>0</td>\n",
       "      <td>44.0</td>\n",
       "      <td>ABSENTEE ONESTOP</td>\n",
       "      <td>Early</td>\n",
       "      <td>1.0</td>\n",
       "      <td>0.0</td>\n",
       "      <td>0.0</td>\n",
       "      <td>No Vote</td>\n",
       "      <td>DEM</td>\n",
       "      <td>M</td>\n",
       "      <td>1972</td>\n",
       "      <td>2006-04-12</td>\n",
       "      <td>W</td>\n",
       "      <td>UN</td>\n",
       "      <td>28079.0</td>\n",
       "      <td>7006  CONIFER CIR</td>\n",
       "      <td>INDIAN TRAIL</td>\n",
       "      <td>CT</td>\n",
       "      <td>Y</td>\n",
       "      <td>038B</td>\n",
       "      <td>038B</td>\n",
       "      <td>9.0</td>\n",
       "      <td>20B</td>\n",
       "      <td>20C</td>\n",
       "      <td>35.0</td>\n",
       "      <td>69.0</td>\n",
       "      <td>4.0</td>\n",
       "      <td>1</td>\n",
       "      <td>Early</td>\n",
       "      <td>1</td>\n",
       "      <td>0</td>\n",
       "      <td>Dem</td>\n",
       "      <td>White</td>\n",
       "      <td>Indian Trail</td>\n",
       "      <td>Northeast</td>\n",
       "      <td>GenX</td>\n",
       "      <td>GenX</td>\n",
       "    </tr>\n",
       "  </tbody>\n",
       "</table>\n",
       "</div>"
      ],
      "text/plain": [
       "       ncid  no_vote_his  birth_age_adj     voting_method Gen_2016  \\\n",
       "0  AA100547            0           61.0  ABSENTEE ONESTOP    Early   \n",
       "1  AA108801            0           53.0  ABSENTEE ONESTOP    Early   \n",
       "2  AA112504            0           68.0  ABSENTEE ONESTOP    Early   \n",
       "3  AA114763            0           49.0  ABSENTEE ONESTOP    Early   \n",
       "4  AA118202            0           44.0  ABSENTEE ONESTOP    Early   \n",
       "\n",
       "   vote_early  vote_by_mail  vote_curbside      Pri_2016 party_cd gender_code  \\\n",
       "0         1.0           0.0            0.0       No Vote      REP           M   \n",
       "1         1.0           0.0            0.0       No Vote      UNA           M   \n",
       "2         1.0           0.0            0.0       No Vote      REP           F   \n",
       "3         1.0           0.0            0.0  Election Day      DEM           F   \n",
       "4         1.0           0.0            0.0       No Vote      DEM           M   \n",
       "\n",
       "   birth_year  registr_dt race_code ethnic_code  zip_code  \\\n",
       "0        1955  2014-03-31         W          UN   28079.0   \n",
       "1        1963  2016-11-04         W          NL   28173.0   \n",
       "2        1948  2012-10-26         W          NL   28112.0   \n",
       "3        1967  2012-08-13         B          UN   28104.0   \n",
       "4        1972  2006-04-12         W          UN   28079.0   \n",
       "\n",
       "            res_street_address res_city_desc birth_state drivers_lic  \\\n",
       "0          5514  BEVERLY DR     INDIAN TRAIL          NC           Y   \n",
       "1      4221  OXFORD MILL RD           WAXHAW          MA           Y   \n",
       "2        4325  WOLF POND RD           MONROE          NY           Y   \n",
       "3  4002  LAWRENCE DANIEL DR         MATTHEWS          NC           Y   \n",
       "4         7006  CONIFER CIR     INDIAN TRAIL          CT           Y   \n",
       "\n",
       "  precinct_abbrv vtd_abbrv  cong_dist_abbrv super_court_abbrv  \\\n",
       "0            016       016              9.0               20B   \n",
       "1           020B      020B              9.0               20B   \n",
       "2            024       024              9.0               20B   \n",
       "3           037A      037A              9.0               20B   \n",
       "4           038B      038B              9.0               20B   \n",
       "\n",
       "  judic_dist_abbrv  nc_senate_abbrv  nc_house_abbrv  school_dist_abbrv  \\\n",
       "0              20C             35.0            69.0                4.0   \n",
       "1              20C             35.0            68.0                6.0   \n",
       "2              20C             35.0            55.0                2.0   \n",
       "3              20C             35.0            69.0                5.0   \n",
       "4              20C             35.0            69.0                4.0   \n",
       "\n",
       "   drivers_lic_bin vote_cat  Gen_2016_binary  Pri_2016_binary party_grp  \\\n",
       "0                1    Early                1                0       Rep   \n",
       "1                1    Early                1                0     Other   \n",
       "2                1    Early                1                0       Rep   \n",
       "3                1    Early                1                1       Dem   \n",
       "4                1    Early                1                0       Dem   \n",
       "\n",
       "  race_grp      city_grp birth_reg_other generation gen_grp  \n",
       "0    White  Indian Trail           South     Boomer  Boomer  \n",
       "1    White        Waxhaw       Northeast     Boomer  Boomer  \n",
       "2    White        Monroe       Northeast     Boomer  Boomer  \n",
       "3    Black      Matthews           South       GenX    GenX  \n",
       "4    White  Indian Trail       Northeast       GenX    GenX  "
      ]
     },
     "execution_count": 138,
     "metadata": {},
     "output_type": "execute_result"
    }
   ],
   "source": [
    "## Import and preview dataset\n",
    "elec_2016_df = pd.read_csv('Data/UC_gen_2016_clean.gz',\n",
    "                     dtype={'precinct_abbrv': str, \n",
    "                            'vtd_abbrv': str\n",
    "                             })\n",
    "elec_2016_df.head()"
   ]
  },
  {
   "cell_type": "markdown",
   "metadata": {},
   "source": [
    "### 2016 Registered Voter Population Summary"
   ]
  },
  {
   "cell_type": "code",
   "execution_count": 139,
   "metadata": {
    "ExecuteTime": {
     "end_time": "2021-01-12T23:10:43.812219Z",
     "start_time": "2021-01-12T23:10:43.808215Z"
    }
   },
   "outputs": [],
   "source": [
    "if show_plotly:\n",
    "    display(basic_px_hist(elec_2016_df, 2016, 'Gen_2016',\n",
    "              title='Distribution of Voting Methods in 2016 Election'))"
   ]
  },
  {
   "cell_type": "code",
   "execution_count": 140,
   "metadata": {
    "ExecuteTime": {
     "end_time": "2021-01-12T23:10:43.818180Z",
     "start_time": "2021-01-12T23:10:43.814944Z"
    }
   },
   "outputs": [],
   "source": [
    "if show_plotly:\n",
    "    display(basic_pie(elec_2016_df, 2016, 'Gen_2016',\n",
    "              title='Voting Methods in 2016 Election'))"
   ]
  },
  {
   "cell_type": "code",
   "execution_count": 141,
   "metadata": {
    "ExecuteTime": {
     "end_time": "2021-01-12T23:10:43.861431Z",
     "start_time": "2021-01-12T23:10:43.820790Z"
    }
   },
   "outputs": [],
   "source": [
    "if show_plotly:\n",
    "    fig = px.histogram(elec_2016_df, x='birth_age_adj', nbins=50,\n",
    "                       title='Distribution of Registered Voters by Age in 2016 Election',\n",
    "                       labels={'birth_age_adj': 'Age'},\n",
    "                       template='seaborn'\n",
    "                      )\n",
    "    \n",
    "    fig.show()"
   ]
  },
  {
   "cell_type": "code",
   "execution_count": 142,
   "metadata": {
    "ExecuteTime": {
     "end_time": "2021-01-12T23:10:43.867015Z",
     "start_time": "2021-01-12T23:10:43.863773Z"
    }
   },
   "outputs": [],
   "source": [
    "if show_plotly:\n",
    "    display(basic_px_hist(elec_2016_df, 2016, 'gen_grp',\n",
    "              title='Distribution of Registered Voters by Generation in 2016 Election'))"
   ]
  },
  {
   "cell_type": "code",
   "execution_count": 143,
   "metadata": {
    "ExecuteTime": {
     "end_time": "2021-01-12T23:10:43.872972Z",
     "start_time": "2021-01-12T23:10:43.869813Z"
    }
   },
   "outputs": [],
   "source": [
    "if show_plotly:\n",
    "    display(basic_pie(elec_2016_df, 2016, 'gen_grp',\n",
    "              title='Registered Voters by Generation in 2016 Election'))"
   ]
  },
  {
   "cell_type": "code",
   "execution_count": 144,
   "metadata": {
    "ExecuteTime": {
     "end_time": "2021-01-12T23:10:43.878740Z",
     "start_time": "2021-01-12T23:10:43.875632Z"
    }
   },
   "outputs": [],
   "source": [
    "if show_plotly:\n",
    "    display(basic_px_hist(elec_2016_df, 2016, 'party_grp',\n",
    "              title='Distribution of Registered Voters by Party Affiliation in 2016 Election'))"
   ]
  },
  {
   "cell_type": "code",
   "execution_count": 145,
   "metadata": {
    "ExecuteTime": {
     "end_time": "2021-01-12T23:10:43.884092Z",
     "start_time": "2021-01-12T23:10:43.881194Z"
    }
   },
   "outputs": [],
   "source": [
    "if show_plotly:\n",
    "    display(basic_pie(elec_2016_df, 2016, 'party_grp',\n",
    "              title='Registered Voters by Party Affiliation in 2016 Election'))"
   ]
  },
  {
   "cell_type": "code",
   "execution_count": 146,
   "metadata": {
    "ExecuteTime": {
     "end_time": "2021-01-12T23:10:43.888554Z",
     "start_time": "2021-01-12T23:10:43.885807Z"
    }
   },
   "outputs": [],
   "source": [
    "if show_plotly:\n",
    "    display(basic_px_hist(elec_2016_df, 2016, 'race_grp',\n",
    "              title='Distribution of Registered Voters by Race in 2016 Election'))"
   ]
  },
  {
   "cell_type": "code",
   "execution_count": 147,
   "metadata": {
    "ExecuteTime": {
     "end_time": "2021-01-12T23:10:43.892950Z",
     "start_time": "2021-01-12T23:10:43.890373Z"
    }
   },
   "outputs": [],
   "source": [
    "if show_plotly:\n",
    "    display(basic_pie(elec_2016_df, 2016, 'race_grp',\n",
    "              title='Registered Voters by Race in 2016 Election'))"
   ]
  },
  {
   "cell_type": "code",
   "execution_count": 148,
   "metadata": {
    "ExecuteTime": {
     "end_time": "2021-01-12T23:10:43.897752Z",
     "start_time": "2021-01-12T23:10:43.894950Z"
    }
   },
   "outputs": [],
   "source": [
    "if show_plotly:\n",
    "    display(basic_px_hist(elec_2016_df, 2016, 'gender_code',\n",
    "              title='Distribution of Registered Voters by Gender in 2016 Election'))"
   ]
  },
  {
   "cell_type": "code",
   "execution_count": 149,
   "metadata": {
    "ExecuteTime": {
     "end_time": "2021-01-12T23:10:43.902154Z",
     "start_time": "2021-01-12T23:10:43.899508Z"
    }
   },
   "outputs": [],
   "source": [
    "if show_plotly:\n",
    "    display(basic_pie(elec_2016_df, 2016, 'gender_code',\n",
    "              title='Registered Voters by Gender in 2016 Election'))"
   ]
  },
  {
   "cell_type": "code",
   "execution_count": 150,
   "metadata": {
    "ExecuteTime": {
     "end_time": "2021-01-12T23:10:43.906626Z",
     "start_time": "2021-01-12T23:10:43.903853Z"
    }
   },
   "outputs": [],
   "source": [
    "if show_plotly:\n",
    "    display(basic_px_hist(elec_2016_df, 2016, 'birth_reg_other',\n",
    "              title='Distribution of Registered Voters by Birth Region in 2016 Election'))"
   ]
  },
  {
   "cell_type": "code",
   "execution_count": 151,
   "metadata": {
    "ExecuteTime": {
     "end_time": "2021-01-12T23:10:43.911445Z",
     "start_time": "2021-01-12T23:10:43.908530Z"
    }
   },
   "outputs": [],
   "source": [
    "if show_plotly:\n",
    "    display(basic_pie(elec_2016_df, 2016, 'birth_reg_other',\n",
    "              title='Registered Voters by Birth Region in 2016 Election'))"
   ]
  },
  {
   "cell_type": "code",
   "execution_count": 152,
   "metadata": {
    "ExecuteTime": {
     "end_time": "2021-01-12T23:10:43.916250Z",
     "start_time": "2021-01-12T23:10:43.913247Z"
    }
   },
   "outputs": [],
   "source": [
    "if show_plotly:\n",
    "    display(basic_px_hist(elec_2016_df, 2016, 'drivers_lic',\n",
    "              title='Distribution of Registered Voters by Drivers License Possession in 2016 Election'))"
   ]
  },
  {
   "cell_type": "code",
   "execution_count": 153,
   "metadata": {
    "ExecuteTime": {
     "end_time": "2021-01-12T23:10:43.921168Z",
     "start_time": "2021-01-12T23:10:43.918196Z"
    }
   },
   "outputs": [],
   "source": [
    "if show_plotly:\n",
    "    display(basic_pie(elec_2016_df, 2016, 'drivers_lic',\n",
    "              title='Possession of Drivers License by Registered Voters in 2016 Election'))"
   ]
  },
  {
   "cell_type": "code",
   "execution_count": 154,
   "metadata": {
    "ExecuteTime": {
     "end_time": "2021-01-12T23:10:43.925518Z",
     "start_time": "2021-01-12T23:10:43.923010Z"
    }
   },
   "outputs": [],
   "source": [
    "if show_plotly:\n",
    "    display(basic_px_hist(elec_2016_df, 2016, 'city_grp',\n",
    "              title='Distribution of Registered Voters by City in 2016 Election'))"
   ]
  },
  {
   "cell_type": "code",
   "execution_count": 155,
   "metadata": {
    "ExecuteTime": {
     "end_time": "2021-01-12T23:10:43.930439Z",
     "start_time": "2021-01-12T23:10:43.927659Z"
    }
   },
   "outputs": [],
   "source": [
    "if show_plotly:\n",
    "    display(basic_pie(elec_2016_df, 2016, 'city_grp',\n",
    "              title='Registered Voters by City in 2016 Election'))"
   ]
  },
  {
   "cell_type": "markdown",
   "metadata": {},
   "source": [
    "### 2016 Relationship to Voting Method\n",
    "\n",
    "#### 2016 By Age"
   ]
  },
  {
   "cell_type": "code",
   "execution_count": 156,
   "metadata": {
    "ExecuteTime": {
     "end_time": "2021-01-12T23:10:43.934933Z",
     "start_time": "2021-01-12T23:10:43.932233Z"
    }
   },
   "outputs": [],
   "source": [
    "if show_plotly:\n",
    "    display(grp_px_hist(elec_2016_df, 2016, 'birth_age_adj', 'Gen_2016', \n",
    "            title='Distribution of Voter Age by Voting Method in 2016 Election'))"
   ]
  },
  {
   "cell_type": "code",
   "execution_count": 157,
   "metadata": {
    "ExecuteTime": {
     "end_time": "2021-01-12T23:10:43.939345Z",
     "start_time": "2021-01-12T23:10:43.936709Z"
    }
   },
   "outputs": [],
   "source": [
    "if show_plotly:\n",
    "    display(grp_px_hist(elec_2016_df, 2016, 'gen_grp', 'Gen_2016', \n",
    "            title='Voting Method by Generation'))"
   ]
  },
  {
   "cell_type": "code",
   "execution_count": 158,
   "metadata": {
    "ExecuteTime": {
     "end_time": "2021-01-12T23:10:43.944129Z",
     "start_time": "2021-01-12T23:10:43.941365Z"
    }
   },
   "outputs": [],
   "source": [
    "if show_plotly:\n",
    "    display(grp_pie(elec_2016_df, 2016, 'Gen_2016', 'gen_grp', 'Early',\n",
    "              title='Early Voters by Generation'))"
   ]
  },
  {
   "cell_type": "code",
   "execution_count": 159,
   "metadata": {
    "ExecuteTime": {
     "end_time": "2021-01-12T23:10:43.949189Z",
     "start_time": "2021-01-12T23:10:43.946120Z"
    }
   },
   "outputs": [],
   "source": [
    "if show_plotly:\n",
    "    display(grp_pie(elec_2016_df, 2016, 'Gen_2016', 'gen_grp', 'Election Day',\n",
    "              title='Election Day Voters by Generation'))"
   ]
  },
  {
   "cell_type": "code",
   "execution_count": 160,
   "metadata": {
    "ExecuteTime": {
     "end_time": "2021-01-12T23:10:43.953835Z",
     "start_time": "2021-01-12T23:10:43.951155Z"
    }
   },
   "outputs": [],
   "source": [
    "if show_plotly:\n",
    "    display(grp_pie(elec_2016_df, 2016, 'Gen_2016', 'gen_grp', 'No Vote',\n",
    "              title='Non-Voters by Generation'))"
   ]
  },
  {
   "cell_type": "code",
   "execution_count": 161,
   "metadata": {
    "ExecuteTime": {
     "end_time": "2021-01-12T23:10:43.958390Z",
     "start_time": "2021-01-12T23:10:43.955663Z"
    }
   },
   "outputs": [],
   "source": [
    "if show_plotly:\n",
    "    display(grp_pie(elec_2016_df, 2016, 'Gen_2016', 'gen_grp', 'Other',\n",
    "              title='Provisional/ Transfer Voters by Generation'))"
   ]
  },
  {
   "cell_type": "code",
   "execution_count": 162,
   "metadata": {
    "ExecuteTime": {
     "end_time": "2021-01-12T23:10:43.962795Z",
     "start_time": "2021-01-12T23:10:43.960074Z"
    }
   },
   "outputs": [],
   "source": [
    "if show_plotly:\n",
    "    display(grp_pie(elec_2016_df, 2016, 'gen_grp', 'Gen_2016', 'GenZ',\n",
    "              title='Votes by Gen Z'))"
   ]
  },
  {
   "cell_type": "code",
   "execution_count": 163,
   "metadata": {
    "ExecuteTime": {
     "end_time": "2021-01-12T23:10:43.967525Z",
     "start_time": "2021-01-12T23:10:43.964779Z"
    }
   },
   "outputs": [],
   "source": [
    "if show_plotly:\n",
    "    display(grp_pie(elec_2016_df, 2016, 'gen_grp', 'Gen_2016', 'Millennial',\n",
    "              title='Votes by Millennials'))"
   ]
  },
  {
   "cell_type": "code",
   "execution_count": 164,
   "metadata": {
    "ExecuteTime": {
     "end_time": "2021-01-12T23:10:43.972005Z",
     "start_time": "2021-01-12T23:10:43.969248Z"
    }
   },
   "outputs": [],
   "source": [
    "if show_plotly:\n",
    "    display(grp_pie(elec_2016_df, 2016, 'gen_grp', 'Gen_2016', 'GenX',\n",
    "              title='Votes by Generation X'))"
   ]
  },
  {
   "cell_type": "code",
   "execution_count": 165,
   "metadata": {
    "ExecuteTime": {
     "end_time": "2021-01-12T23:10:43.976713Z",
     "start_time": "2021-01-12T23:10:43.973964Z"
    }
   },
   "outputs": [],
   "source": [
    "if show_plotly:\n",
    "    display(grp_pie(elec_2016_df, 2016, 'gen_grp', 'Gen_2016', 'Boomer',\n",
    "              title='Votes by Baby Boomers'))"
   ]
  },
  {
   "cell_type": "code",
   "execution_count": 166,
   "metadata": {
    "ExecuteTime": {
     "end_time": "2021-01-12T23:10:43.981780Z",
     "start_time": "2021-01-12T23:10:43.978887Z"
    }
   },
   "outputs": [],
   "source": [
    "if show_plotly:\n",
    "    display(grp_pie(elec_2016_df, 2016, 'gen_grp', 'Gen_2016', 'Greatest-Silent',\n",
    "              title='Votes by Greatest and Silent Generation'))"
   ]
  },
  {
   "cell_type": "markdown",
   "metadata": {},
   "source": [
    "#### 2016 By Party"
   ]
  },
  {
   "cell_type": "code",
   "execution_count": 167,
   "metadata": {
    "ExecuteTime": {
     "end_time": "2021-01-12T23:10:43.986350Z",
     "start_time": "2021-01-12T23:10:43.983539Z"
    }
   },
   "outputs": [],
   "source": [
    "if show_plotly:\n",
    "    display(grp_px_hist(elec_2016_df, 2016, 'Gen_2016', 'party_grp', \n",
    "            title='Voting Method by Party'))"
   ]
  },
  {
   "cell_type": "code",
   "execution_count": 168,
   "metadata": {
    "ExecuteTime": {
     "end_time": "2021-01-12T23:10:43.991111Z",
     "start_time": "2021-01-12T23:10:43.988048Z"
    }
   },
   "outputs": [],
   "source": [
    "if show_plotly:\n",
    "    display(grp_pie(elec_2016_df, 2016, 'Gen_2016', 'party_grp', 'Early',\n",
    "              title='Early Voters by Party'))"
   ]
  },
  {
   "cell_type": "code",
   "execution_count": 169,
   "metadata": {
    "ExecuteTime": {
     "end_time": "2021-01-12T23:10:43.995467Z",
     "start_time": "2021-01-12T23:10:43.992717Z"
    }
   },
   "outputs": [],
   "source": [
    "if show_plotly:\n",
    "    display(grp_pie(elec_2016_df, 2016, 'Gen_2016', 'party_grp', 'Election Day',\n",
    "              title='Election Day Voters by Party'))"
   ]
  },
  {
   "cell_type": "code",
   "execution_count": 170,
   "metadata": {
    "ExecuteTime": {
     "end_time": "2021-01-12T23:10:43.999845Z",
     "start_time": "2021-01-12T23:10:43.997195Z"
    }
   },
   "outputs": [],
   "source": [
    "if show_plotly:\n",
    "    display(grp_pie(elec_2016_df, 2016, 'Gen_2016', 'party_grp', 'No Vote',\n",
    "              title='Non-Voters by Party'))"
   ]
  },
  {
   "cell_type": "code",
   "execution_count": 171,
   "metadata": {
    "ExecuteTime": {
     "end_time": "2021-01-12T23:10:44.004335Z",
     "start_time": "2021-01-12T23:10:44.001626Z"
    }
   },
   "outputs": [],
   "source": [
    "if show_plotly:\n",
    "    display(grp_pie(elec_2016_df, 2016, 'Gen_2016', 'party_grp', 'Other',\n",
    "              title='Provisional/ Transfer Voters by Party'))"
   ]
  },
  {
   "cell_type": "code",
   "execution_count": 172,
   "metadata": {
    "ExecuteTime": {
     "end_time": "2021-01-12T23:10:44.008919Z",
     "start_time": "2021-01-12T23:10:44.006273Z"
    }
   },
   "outputs": [],
   "source": [
    "if show_plotly:\n",
    "    display(grp_pie(elec_2016_df, 2016, 'party_grp', 'Gen_2016', 'Dem',\n",
    "              title='Votes by Democratic Party'))"
   ]
  },
  {
   "cell_type": "code",
   "execution_count": 173,
   "metadata": {
    "ExecuteTime": {
     "end_time": "2021-01-12T23:10:44.013738Z",
     "start_time": "2021-01-12T23:10:44.010739Z"
    }
   },
   "outputs": [],
   "source": [
    "if show_plotly:\n",
    "    display(grp_pie(elec_2016_df, 2016, 'party_grp', 'Gen_2016', 'Rep',\n",
    "              title='Votes by Republican Party'))"
   ]
  },
  {
   "cell_type": "code",
   "execution_count": 174,
   "metadata": {
    "ExecuteTime": {
     "end_time": "2021-01-12T23:10:44.018222Z",
     "start_time": "2021-01-12T23:10:44.015643Z"
    }
   },
   "outputs": [],
   "source": [
    "if show_plotly:\n",
    "    display(grp_pie(elec_2016_df, 2016, 'party_grp', 'Gen_2016', 'Other',\n",
    "              title='Votes by Other Voters'))"
   ]
  },
  {
   "cell_type": "markdown",
   "metadata": {},
   "source": [
    "#### 2016 By Race"
   ]
  },
  {
   "cell_type": "code",
   "execution_count": 175,
   "metadata": {
    "ExecuteTime": {
     "end_time": "2021-01-12T23:10:44.022668Z",
     "start_time": "2021-01-12T23:10:44.019956Z"
    }
   },
   "outputs": [],
   "source": [
    "if show_plotly:\n",
    "    display(grp_px_hist(elec_2016_df, 2016, 'Gen_2016', 'race_grp',\n",
    "            title='Voting Method by Race'))"
   ]
  },
  {
   "cell_type": "code",
   "execution_count": 176,
   "metadata": {
    "ExecuteTime": {
     "end_time": "2021-01-12T23:10:44.027048Z",
     "start_time": "2021-01-12T23:10:44.024295Z"
    }
   },
   "outputs": [],
   "source": [
    "if show_plotly:\n",
    "    display(grp_pie(elec_2016_df, 2016, 'Gen_2016', 'race_grp', 'Early',\n",
    "              title='Early Voters by Race'))"
   ]
  },
  {
   "cell_type": "code",
   "execution_count": 177,
   "metadata": {
    "ExecuteTime": {
     "end_time": "2021-01-12T23:10:44.031816Z",
     "start_time": "2021-01-12T23:10:44.028774Z"
    }
   },
   "outputs": [],
   "source": [
    "if show_plotly:\n",
    "    display(grp_pie(elec_2016_df, 2016, 'Gen_2016', 'race_grp', 'Election Day',\n",
    "              title='Election Day Voters by Race'))"
   ]
  },
  {
   "cell_type": "code",
   "execution_count": 178,
   "metadata": {
    "ExecuteTime": {
     "end_time": "2021-01-12T23:10:44.036246Z",
     "start_time": "2021-01-12T23:10:44.033585Z"
    }
   },
   "outputs": [],
   "source": [
    "if show_plotly:\n",
    "    display(grp_pie(elec_2016_df, 2016, 'Gen_2016', 'race_grp', 'No Vote',\n",
    "              title='Non-Voters by Race'))"
   ]
  },
  {
   "cell_type": "code",
   "execution_count": 179,
   "metadata": {
    "ExecuteTime": {
     "end_time": "2021-01-12T23:10:44.040994Z",
     "start_time": "2021-01-12T23:10:44.038140Z"
    }
   },
   "outputs": [],
   "source": [
    "if show_plotly:\n",
    "    display(grp_pie(elec_2016_df, 2016, 'Gen_2016', 'race_grp', 'Other',\n",
    "              title='Provisional/ Transfer Voters by Race'))"
   ]
  },
  {
   "cell_type": "code",
   "execution_count": 180,
   "metadata": {
    "ExecuteTime": {
     "end_time": "2021-01-12T23:10:44.045534Z",
     "start_time": "2021-01-12T23:10:44.042860Z"
    }
   },
   "outputs": [],
   "source": [
    "if show_plotly:\n",
    "    display(grp_pie(elec_2016_df, 2016, 'race_grp', 'Gen_2016', 'White',\n",
    "              title='Votes by White Voters'))"
   ]
  },
  {
   "cell_type": "code",
   "execution_count": 181,
   "metadata": {
    "ExecuteTime": {
     "end_time": "2021-01-12T23:10:44.050285Z",
     "start_time": "2021-01-12T23:10:44.047371Z"
    }
   },
   "outputs": [],
   "source": [
    "if show_plotly:\n",
    "    display(grp_pie(elec_2016_df, 2016, 'race_grp', 'Gen_2016', 'Black',\n",
    "              title='Votes by Black Voters'))"
   ]
  },
  {
   "cell_type": "code",
   "execution_count": 182,
   "metadata": {
    "ExecuteTime": {
     "end_time": "2021-01-12T23:10:44.054617Z",
     "start_time": "2021-01-12T23:10:44.051968Z"
    }
   },
   "outputs": [],
   "source": [
    "if show_plotly:\n",
    "    display(grp_pie(elec_2016_df, 2016, 'race_grp', 'Gen_2016', 'Undesig.',\n",
    "              title='Votes by Voters of Undesignated Race'))"
   ]
  },
  {
   "cell_type": "code",
   "execution_count": 183,
   "metadata": {
    "ExecuteTime": {
     "end_time": "2021-01-12T23:10:44.059092Z",
     "start_time": "2021-01-12T23:10:44.056502Z"
    }
   },
   "outputs": [],
   "source": [
    "if show_plotly:\n",
    "    display(grp_pie(elec_2016_df, 2016, 'race_grp', 'Gen_2016', 'Other',\n",
    "              title='Votes by Voters of Other Racial Backgrounds'))"
   ]
  },
  {
   "cell_type": "markdown",
   "metadata": {},
   "source": [
    "#### 2016 By Gender"
   ]
  },
  {
   "cell_type": "code",
   "execution_count": 184,
   "metadata": {
    "ExecuteTime": {
     "end_time": "2021-01-12T23:10:44.063784Z",
     "start_time": "2021-01-12T23:10:44.060923Z"
    }
   },
   "outputs": [],
   "source": [
    "if show_plotly:\n",
    "    display(grp_px_hist(elec_2016_df, 2016, 'Gen_2016', 'gender_code', \n",
    "            title='Voting Method by Gender'))"
   ]
  },
  {
   "cell_type": "code",
   "execution_count": 185,
   "metadata": {
    "ExecuteTime": {
     "end_time": "2021-01-12T23:10:44.069326Z",
     "start_time": "2021-01-12T23:10:44.066566Z"
    }
   },
   "outputs": [],
   "source": [
    "if show_plotly:\n",
    "    display(grp_pie(elec_2016_df, 2016, 'Gen_2016', 'gender_code', 'Early',\n",
    "              title='Early Voters by Gender'))"
   ]
  },
  {
   "cell_type": "code",
   "execution_count": 186,
   "metadata": {
    "ExecuteTime": {
     "end_time": "2021-01-12T23:10:44.073870Z",
     "start_time": "2021-01-12T23:10:44.071188Z"
    }
   },
   "outputs": [],
   "source": [
    "if show_plotly:\n",
    "    display(grp_pie(elec_2016_df, 2016, 'Gen_2016', 'gender_code', 'Election Day',\n",
    "              title='Election Day Voters by Gender'))"
   ]
  },
  {
   "cell_type": "code",
   "execution_count": 187,
   "metadata": {
    "ExecuteTime": {
     "end_time": "2021-01-12T23:10:44.078500Z",
     "start_time": "2021-01-12T23:10:44.075578Z"
    }
   },
   "outputs": [],
   "source": [
    "if show_plotly:\n",
    "    display(grp_pie(elec_2016_df, 2016, 'Gen_2016', 'gender_code', 'No Vote',\n",
    "                    title='Non-Voters by Gender'))"
   ]
  },
  {
   "cell_type": "code",
   "execution_count": 188,
   "metadata": {
    "ExecuteTime": {
     "end_time": "2021-01-12T23:10:44.083526Z",
     "start_time": "2021-01-12T23:10:44.080736Z"
    }
   },
   "outputs": [],
   "source": [
    "if show_plotly:\n",
    "    display(grp_pie(elec_2016_df, 2016, 'Gen_2016', 'gender_code', 'Other',\n",
    "              title='Provisional/ Transfer Voters by Gender'))"
   ]
  },
  {
   "cell_type": "code",
   "execution_count": 189,
   "metadata": {
    "ExecuteTime": {
     "end_time": "2021-01-12T23:10:44.088960Z",
     "start_time": "2021-01-12T23:10:44.086047Z"
    }
   },
   "outputs": [],
   "source": [
    "if show_plotly:\n",
    "    display(grp_pie(elec_2016_df, 2016, 'gender_code', 'Gen_2016', 'F',\n",
    "              title='Votes by Women'))"
   ]
  },
  {
   "cell_type": "code",
   "execution_count": 190,
   "metadata": {
    "ExecuteTime": {
     "end_time": "2021-01-12T23:10:44.093459Z",
     "start_time": "2021-01-12T23:10:44.090775Z"
    }
   },
   "outputs": [],
   "source": [
    "if show_plotly:\n",
    "    display(grp_pie(elec_2016_df, 2016, 'gender_code', 'Gen_2016', 'M',\n",
    "              title='Votes by Men'))"
   ]
  },
  {
   "cell_type": "code",
   "execution_count": 191,
   "metadata": {
    "ExecuteTime": {
     "end_time": "2021-01-12T23:10:44.097991Z",
     "start_time": "2021-01-12T23:10:44.095349Z"
    }
   },
   "outputs": [],
   "source": [
    "if show_plotly:\n",
    "    display(grp_pie(elec_2016_df, 2016, 'gender_code', 'Gen_2016', 'U',\n",
    "              title='Votes by Voters of Undesignated Gender'))"
   ]
  },
  {
   "cell_type": "code",
   "execution_count": 192,
   "metadata": {
    "ExecuteTime": {
     "end_time": "2021-01-12T23:10:44.102721Z",
     "start_time": "2021-01-12T23:10:44.099859Z"
    }
   },
   "outputs": [],
   "source": [
    "if show_plotly:\n",
    "    display(grp_pie(elec_2016_df, 2016, 'Gen_2016', 'gender_code', 'Other',\n",
    "              title='Provisional/ Transfer Voters by Gender'))"
   ]
  },
  {
   "cell_type": "code",
   "execution_count": 193,
   "metadata": {
    "ExecuteTime": {
     "end_time": "2021-01-12T23:10:44.107114Z",
     "start_time": "2021-01-12T23:10:44.104422Z"
    }
   },
   "outputs": [],
   "source": [
    "if show_plotly:\n",
    "    display(grp_pie(elec_2016_df, 2016, 'gender_code', 'Gen_2016', 'F',\n",
    "              title='Votes by Women'))"
   ]
  },
  {
   "cell_type": "code",
   "execution_count": 194,
   "metadata": {
    "ExecuteTime": {
     "end_time": "2021-01-12T23:10:44.111839Z",
     "start_time": "2021-01-12T23:10:44.108961Z"
    }
   },
   "outputs": [],
   "source": [
    "if show_plotly:\n",
    "    display(grp_pie(elec_2016_df, 2016, 'gender_code', 'Gen_2016', 'M',\n",
    "              title='Votes by Men'))"
   ]
  },
  {
   "cell_type": "code",
   "execution_count": 195,
   "metadata": {
    "ExecuteTime": {
     "end_time": "2021-01-12T23:10:44.116379Z",
     "start_time": "2021-01-12T23:10:44.113611Z"
    }
   },
   "outputs": [],
   "source": [
    "if show_plotly:\n",
    "    display(grp_pie(elec_2016_df, 2016, 'gender_code', 'Gen_2016', 'U',\n",
    "              title='Votes by Voters of Undesignated Gender'))"
   ]
  },
  {
   "cell_type": "markdown",
   "metadata": {},
   "source": [
    "#### 2016 By Birth Region"
   ]
  },
  {
   "cell_type": "code",
   "execution_count": 196,
   "metadata": {
    "ExecuteTime": {
     "end_time": "2021-01-12T23:10:44.121424Z",
     "start_time": "2021-01-12T23:10:44.118671Z"
    }
   },
   "outputs": [],
   "source": [
    "if show_plotly:\n",
    "    display(grp_px_hist(elec_2016_df, 2016, 'Gen_2016', 'birth_reg_other', \n",
    "            title='Voting Method by Birth Region'))"
   ]
  },
  {
   "cell_type": "code",
   "execution_count": 197,
   "metadata": {
    "ExecuteTime": {
     "end_time": "2021-01-12T23:10:44.126013Z",
     "start_time": "2021-01-12T23:10:44.123288Z"
    }
   },
   "outputs": [],
   "source": [
    "if show_plotly:\n",
    "    display(grp_pie(elec_2016_df, 2016, 'Gen_2016', 'birth_reg_other', 'Early',\n",
    "              title='Early Voters by Birth Region'))"
   ]
  },
  {
   "cell_type": "code",
   "execution_count": 198,
   "metadata": {
    "ExecuteTime": {
     "end_time": "2021-01-12T23:10:44.130606Z",
     "start_time": "2021-01-12T23:10:44.127827Z"
    }
   },
   "outputs": [],
   "source": [
    "if show_plotly:\n",
    "    display(grp_pie(elec_2016_df, 2016, 'Gen_2016', 'birth_reg_other', 'Election Day',\n",
    "              title='Election Day Voters by Birth Region'))"
   ]
  },
  {
   "cell_type": "code",
   "execution_count": 199,
   "metadata": {
    "ExecuteTime": {
     "end_time": "2021-01-12T23:10:44.135173Z",
     "start_time": "2021-01-12T23:10:44.132404Z"
    }
   },
   "outputs": [],
   "source": [
    "if show_plotly:\n",
    "    display(grp_pie(elec_2016_df, 2016, 'Gen_2016', 'birth_reg_other', 'No Vote',\n",
    "              title='Non-Voters by Birth Region'))"
   ]
  },
  {
   "cell_type": "code",
   "execution_count": 200,
   "metadata": {
    "ExecuteTime": {
     "end_time": "2021-01-12T23:10:44.139712Z",
     "start_time": "2021-01-12T23:10:44.136953Z"
    }
   },
   "outputs": [],
   "source": [
    "if show_plotly:\n",
    "    display(grp_pie(elec_2016_df, 2016, 'Gen_2016', 'birth_reg_other', 'Other',\n",
    "              title='Provisional/ Transfer Voters by Birth Region'))"
   ]
  },
  {
   "cell_type": "code",
   "execution_count": 201,
   "metadata": {
    "ExecuteTime": {
     "end_time": "2021-01-12T23:10:44.144269Z",
     "start_time": "2021-01-12T23:10:44.141427Z"
    }
   },
   "outputs": [],
   "source": [
    "if show_plotly:\n",
    "    display(grp_pie(elec_2016_df, 2016, 'birth_reg_other', 'Gen_2016', 'South',\n",
    "              title='Votes by Voters from the South'))"
   ]
  },
  {
   "cell_type": "code",
   "execution_count": 202,
   "metadata": {
    "ExecuteTime": {
     "end_time": "2021-01-12T23:10:44.148864Z",
     "start_time": "2021-01-12T23:10:44.146114Z"
    }
   },
   "outputs": [],
   "source": [
    "if show_plotly:\n",
    "    display(grp_pie(elec_2016_df, 2016, 'birth_reg_other', 'Gen_2016', 'Missing',\n",
    "              title='Votes by Voters with Missing Birth Region'))"
   ]
  },
  {
   "cell_type": "code",
   "execution_count": 203,
   "metadata": {
    "ExecuteTime": {
     "end_time": "2021-01-12T23:10:44.181804Z",
     "start_time": "2021-01-12T23:10:44.178844Z"
    }
   },
   "outputs": [],
   "source": [
    "if show_plotly:\n",
    "    display(grp_pie(elec_2016_df, 2016, 'birth_reg_other', 'Gen_2016', 'Northeast',\n",
    "              title='Votes by Voters from the Northeast'))"
   ]
  },
  {
   "cell_type": "code",
   "execution_count": 204,
   "metadata": {
    "ExecuteTime": {
     "end_time": "2021-01-12T23:10:44.191250Z",
     "start_time": "2021-01-12T23:10:44.188731Z"
    }
   },
   "outputs": [],
   "source": [
    "if show_plotly:\n",
    "    display(grp_pie(elec_2016_df, 2016, 'birth_reg_other', 'Gen_2016', 'Midwest',\n",
    "              title='Votes by Voters from the Midwest'))"
   ]
  },
  {
   "cell_type": "code",
   "execution_count": 205,
   "metadata": {
    "ExecuteTime": {
     "end_time": "2021-01-12T23:10:44.195900Z",
     "start_time": "2021-01-12T23:10:44.193007Z"
    }
   },
   "outputs": [],
   "source": [
    "if show_plotly:\n",
    "    display(grp_pie(elec_2016_df, 2016, 'birth_reg_other', 'Gen_2016', 'Other',\n",
    "              title='Votes by Voters Born in U.S. Territories or Outside the U.S.'))"
   ]
  },
  {
   "cell_type": "code",
   "execution_count": 206,
   "metadata": {
    "ExecuteTime": {
     "end_time": "2021-01-12T23:10:44.201682Z",
     "start_time": "2021-01-12T23:10:44.198153Z"
    }
   },
   "outputs": [],
   "source": [
    "if show_plotly:\n",
    "    display(grp_pie(elec_2016_df, 2016, 'birth_reg_other', 'Gen_2016', 'West',\n",
    "              title='Votes by Voters from the West'))"
   ]
  },
  {
   "cell_type": "markdown",
   "metadata": {},
   "source": [
    "#### 2016 By Possessing a Drivers License"
   ]
  },
  {
   "cell_type": "code",
   "execution_count": 207,
   "metadata": {
    "ExecuteTime": {
     "end_time": "2021-01-12T23:10:44.206929Z",
     "start_time": "2021-01-12T23:10:44.203813Z"
    }
   },
   "outputs": [],
   "source": [
    "if show_plotly:\n",
    "    display(grp_px_hist(elec_2016_df, 2016, 'Gen_2016', 'drivers_lic', \n",
    "            title='Voting Method by Voters with and without Drivers Licenses'))"
   ]
  },
  {
   "cell_type": "code",
   "execution_count": 208,
   "metadata": {
    "ExecuteTime": {
     "end_time": "2021-01-12T23:10:44.212397Z",
     "start_time": "2021-01-12T23:10:44.209007Z"
    }
   },
   "outputs": [],
   "source": [
    "if show_plotly:\n",
    "    display(grp_pie(elec_2016_df, 2016, 'Gen_2016', 'drivers_lic', 'Early',\n",
    "              title='Early Voters by Possession of Drivers License'))"
   ]
  },
  {
   "cell_type": "code",
   "execution_count": 209,
   "metadata": {
    "ExecuteTime": {
     "end_time": "2021-01-12T23:10:44.218759Z",
     "start_time": "2021-01-12T23:10:44.215194Z"
    }
   },
   "outputs": [],
   "source": [
    "if show_plotly:\n",
    "    display(grp_pie(elec_2016_df, 2016, 'Gen_2016', 'drivers_lic', 'Election Day',\n",
    "              title='Election Day Voters by Possession of Drivers License'))"
   ]
  },
  {
   "cell_type": "code",
   "execution_count": 210,
   "metadata": {
    "ExecuteTime": {
     "end_time": "2021-01-12T23:10:44.224558Z",
     "start_time": "2021-01-12T23:10:44.221092Z"
    }
   },
   "outputs": [],
   "source": [
    "if show_plotly:\n",
    "    display(grp_pie(elec_2016_df, 2016, 'Gen_2016', 'drivers_lic', 'No Vote',\n",
    "              title='Non-Voters by Possession of Drivers License'))"
   ]
  },
  {
   "cell_type": "code",
   "execution_count": 211,
   "metadata": {
    "ExecuteTime": {
     "end_time": "2021-01-12T23:10:44.229563Z",
     "start_time": "2021-01-12T23:10:44.226763Z"
    }
   },
   "outputs": [],
   "source": [
    "if show_plotly:\n",
    "    display(grp_pie(elec_2016_df, 2016, 'Gen_2016', 'drivers_lic', 'Other',\n",
    "              title='Provisional/ Transfer Voters by Possession of Drivers License'))"
   ]
  },
  {
   "cell_type": "code",
   "execution_count": 212,
   "metadata": {
    "ExecuteTime": {
     "end_time": "2021-01-12T23:10:44.235292Z",
     "start_time": "2021-01-12T23:10:44.231957Z"
    }
   },
   "outputs": [],
   "source": [
    "if show_plotly:\n",
    "    display(grp_pie(elec_2016_df, 2016, 'drivers_lic', 'Gen_2016', 'Y',\n",
    "              title='Votes by People with a Drivers License'))"
   ]
  },
  {
   "cell_type": "code",
   "execution_count": 213,
   "metadata": {
    "ExecuteTime": {
     "end_time": "2021-01-12T23:10:44.241540Z",
     "start_time": "2021-01-12T23:10:44.237810Z"
    }
   },
   "outputs": [],
   "source": [
    "if show_plotly:\n",
    "    display(grp_pie(elec_2016_df, 2016, 'drivers_lic', 'Gen_2016', 'N',\n",
    "              title='Votes by People with No Drivers License'))"
   ]
  },
  {
   "cell_type": "markdown",
   "metadata": {},
   "source": [
    "#### 2016 By City"
   ]
  },
  {
   "cell_type": "code",
   "execution_count": 214,
   "metadata": {
    "ExecuteTime": {
     "end_time": "2021-01-12T23:10:44.247414Z",
     "start_time": "2021-01-12T23:10:44.244107Z"
    }
   },
   "outputs": [],
   "source": [
    "if show_plotly:\n",
    "    display(grp_px_hist(elec_2016_df, 2016, 'Gen_2016', 'city_grp', \n",
    "            title='Voting Method by City of Residence'))"
   ]
  },
  {
   "cell_type": "code",
   "execution_count": 215,
   "metadata": {
    "ExecuteTime": {
     "end_time": "2021-01-12T23:10:44.253041Z",
     "start_time": "2021-01-12T23:10:44.249762Z"
    }
   },
   "outputs": [],
   "source": [
    "if show_plotly:\n",
    "    display(grp_pie(elec_2016_df, 2016, 'Gen_2016', 'city_grp', 'Early',\n",
    "              title='Early Voters by City of Residence'))"
   ]
  },
  {
   "cell_type": "code",
   "execution_count": 216,
   "metadata": {
    "ExecuteTime": {
     "end_time": "2021-01-12T23:10:44.258941Z",
     "start_time": "2021-01-12T23:10:44.255554Z"
    }
   },
   "outputs": [],
   "source": [
    "if show_plotly:\n",
    "    display(grp_pie(elec_2016_df, 2016, 'Gen_2016', 'city_grp', 'Election Day',\n",
    "              title='Election Day Voters by City of Residence'))"
   ]
  },
  {
   "cell_type": "code",
   "execution_count": 217,
   "metadata": {
    "ExecuteTime": {
     "end_time": "2021-01-12T23:10:44.265350Z",
     "start_time": "2021-01-12T23:10:44.261381Z"
    }
   },
   "outputs": [],
   "source": [
    "if show_plotly:\n",
    "    display(grp_pie(elec_2016_df, 2016, 'Gen_2016', 'city_grp', 'No Vote',\n",
    "              title='Non-Voters by City of Residence'))"
   ]
  },
  {
   "cell_type": "code",
   "execution_count": 218,
   "metadata": {
    "ExecuteTime": {
     "end_time": "2021-01-12T23:10:44.272249Z",
     "start_time": "2021-01-12T23:10:44.267926Z"
    }
   },
   "outputs": [],
   "source": [
    "if show_plotly:\n",
    "    display(grp_pie(elec_2016_df, 2016, 'Gen_2016', 'city_grp', 'Other',\n",
    "              title='Provisional/ Transfer Voters by City of Residence'))"
   ]
  },
  {
   "cell_type": "code",
   "execution_count": 219,
   "metadata": {
    "ExecuteTime": {
     "end_time": "2021-01-12T23:10:44.278830Z",
     "start_time": "2021-01-12T23:10:44.274964Z"
    }
   },
   "outputs": [],
   "source": [
    "if show_plotly:\n",
    "    display(grp_pie(elec_2016_df, 2016, 'city_grp', 'Gen_2016', 'Monroe',\n",
    "              title='Votes by Residents of Monroe'))"
   ]
  },
  {
   "cell_type": "code",
   "execution_count": 220,
   "metadata": {
    "ExecuteTime": {
     "end_time": "2021-01-12T23:10:44.284057Z",
     "start_time": "2021-01-12T23:10:44.281208Z"
    }
   },
   "outputs": [],
   "source": [
    "if show_plotly:\n",
    "    display(grp_pie(elec_2016_df, 2016, 'city_grp', 'Gen_2016', 'Waxhaw',\n",
    "              title='Votes by Residents of Waxhaw'))"
   ]
  },
  {
   "cell_type": "code",
   "execution_count": 221,
   "metadata": {
    "ExecuteTime": {
     "end_time": "2021-01-12T23:10:44.290021Z",
     "start_time": "2021-01-12T23:10:44.286577Z"
    }
   },
   "outputs": [],
   "source": [
    "if show_plotly:\n",
    "    display(grp_pie(elec_2016_df, 2016, 'city_grp', 'Gen_2016', 'Indian Trail',\n",
    "              title='Votes by Residents of Indian Trail'))"
   ]
  },
  {
   "cell_type": "code",
   "execution_count": 222,
   "metadata": {
    "ExecuteTime": {
     "end_time": "2021-01-12T23:10:44.296216Z",
     "start_time": "2021-01-12T23:10:44.292754Z"
    }
   },
   "outputs": [],
   "source": [
    "if show_plotly:\n",
    "    display(grp_pie(elec_2016_df, 2016, 'city_grp', 'Gen_2016', 'Matthews',\n",
    "              title='Votes by Residents of Matthews'))"
   ]
  },
  {
   "cell_type": "code",
   "execution_count": 223,
   "metadata": {
    "ExecuteTime": {
     "end_time": "2021-01-12T23:10:44.301671Z",
     "start_time": "2021-01-12T23:10:44.298413Z"
    }
   },
   "outputs": [],
   "source": [
    "if show_plotly:\n",
    "    display(grp_pie(elec_2016_df, 2016, 'city_grp', 'Gen_2016', 'Other',\n",
    "              title='Votes from Other Cities in Union County'))"
   ]
  },
  {
   "cell_type": "markdown",
   "metadata": {},
   "source": [
    "## Explore 2012 Election\n",
    "\n",
    "### 2012 Categorical Variables"
   ]
  },
  {
   "cell_type": "code",
   "execution_count": 224,
   "metadata": {
    "ExecuteTime": {
     "end_time": "2021-01-12T23:10:44.332947Z",
     "start_time": "2021-01-12T23:10:44.303976Z"
    }
   },
   "outputs": [
    {
     "data": {
      "text/html": [
       "<div>\n",
       "<style scoped>\n",
       "    .dataframe tbody tr th:only-of-type {\n",
       "        vertical-align: middle;\n",
       "    }\n",
       "\n",
       "    .dataframe tbody tr th {\n",
       "        vertical-align: top;\n",
       "    }\n",
       "\n",
       "    .dataframe thead th {\n",
       "        text-align: right;\n",
       "    }\n",
       "</style>\n",
       "<table border=\"1\" class=\"dataframe\">\n",
       "  <thead>\n",
       "    <tr style=\"text-align: right;\">\n",
       "      <th></th>\n",
       "      <th>count</th>\n",
       "      <th>%</th>\n",
       "    </tr>\n",
       "  </thead>\n",
       "  <tbody>\n",
       "    <tr>\n",
       "      <th>ABSENTEE ONESTOP</th>\n",
       "      <td>49387</td>\n",
       "      <td>51.30</td>\n",
       "    </tr>\n",
       "    <tr>\n",
       "      <th>IN-PERSON</th>\n",
       "      <td>31793</td>\n",
       "      <td>33.02</td>\n",
       "    </tr>\n",
       "    <tr>\n",
       "      <th>No Vote</th>\n",
       "      <td>9781</td>\n",
       "      <td>10.16</td>\n",
       "    </tr>\n",
       "    <tr>\n",
       "      <th>ABSENTEE BY MAIL</th>\n",
       "      <td>4251</td>\n",
       "      <td>4.42</td>\n",
       "    </tr>\n",
       "    <tr>\n",
       "      <th>TRANSFER</th>\n",
       "      <td>619</td>\n",
       "      <td>0.64</td>\n",
       "    </tr>\n",
       "    <tr>\n",
       "      <th>PROVISIONAL</th>\n",
       "      <td>386</td>\n",
       "      <td>0.40</td>\n",
       "    </tr>\n",
       "    <tr>\n",
       "      <th>CURBSIDE</th>\n",
       "      <td>58</td>\n",
       "      <td>0.06</td>\n",
       "    </tr>\n",
       "  </tbody>\n",
       "</table>\n",
       "</div>"
      ],
      "text/plain": [
       "                  count      %\n",
       "ABSENTEE ONESTOP  49387  51.30\n",
       "IN-PERSON         31793  33.02\n",
       "No Vote            9781  10.16\n",
       "ABSENTEE BY MAIL   4251   4.42\n",
       "TRANSFER            619   0.64\n",
       "PROVISIONAL         386   0.40\n",
       "CURBSIDE             58   0.06"
      ]
     },
     "execution_count": 224,
     "metadata": {},
     "output_type": "execute_result"
    }
   ],
   "source": [
    "check_unique('voting_method', elec_2012_df)"
   ]
  },
  {
   "cell_type": "code",
   "execution_count": 225,
   "metadata": {
    "ExecuteTime": {
     "end_time": "2021-01-12T23:10:44.367947Z",
     "start_time": "2021-01-12T23:10:44.334605Z"
    }
   },
   "outputs": [
    {
     "data": {
      "text/html": [
       "<div>\n",
       "<style scoped>\n",
       "    .dataframe tbody tr th:only-of-type {\n",
       "        vertical-align: middle;\n",
       "    }\n",
       "\n",
       "    .dataframe tbody tr th {\n",
       "        vertical-align: top;\n",
       "    }\n",
       "\n",
       "    .dataframe thead th {\n",
       "        text-align: right;\n",
       "    }\n",
       "</style>\n",
       "<table border=\"1\" class=\"dataframe\">\n",
       "  <thead>\n",
       "    <tr style=\"text-align: right;\">\n",
       "      <th></th>\n",
       "      <th>count</th>\n",
       "      <th>%</th>\n",
       "    </tr>\n",
       "  </thead>\n",
       "  <tbody>\n",
       "    <tr>\n",
       "      <th>Early</th>\n",
       "      <td>49387</td>\n",
       "      <td>51.30</td>\n",
       "    </tr>\n",
       "    <tr>\n",
       "      <th>Election Day</th>\n",
       "      <td>31851</td>\n",
       "      <td>33.08</td>\n",
       "    </tr>\n",
       "    <tr>\n",
       "      <th>No Vote</th>\n",
       "      <td>9781</td>\n",
       "      <td>10.16</td>\n",
       "    </tr>\n",
       "    <tr>\n",
       "      <th>Mail</th>\n",
       "      <td>4251</td>\n",
       "      <td>4.42</td>\n",
       "    </tr>\n",
       "    <tr>\n",
       "      <th>Other</th>\n",
       "      <td>1005</td>\n",
       "      <td>1.04</td>\n",
       "    </tr>\n",
       "  </tbody>\n",
       "</table>\n",
       "</div>"
      ],
      "text/plain": [
       "              count      %\n",
       "Early         49387  51.30\n",
       "Election Day  31851  33.08\n",
       "No Vote        9781  10.16\n",
       "Mail           4251   4.42\n",
       "Other          1005   1.04"
      ]
     },
     "execution_count": 225,
     "metadata": {},
     "output_type": "execute_result"
    }
   ],
   "source": [
    "## Group original vote methods into more general categories in a new variable\n",
    " # Map the original categories to new ones\n",
    "vote_method_map = {'ABSENTEE ONESTOP': 'Early',\n",
    "                   'IN-PERSON': 'Election Day',\n",
    "                   'ABSENTEE BY MAIL': 'Mail',\n",
    "                   'ABSENTEE CURBSIDE': 'Early',\n",
    "                   'TRANSFER': 'Other',\n",
    "                   'PROVISIONAL': 'Other',\n",
    "                   'CURBSIDE': 'Election Day',\n",
    "                   'No Vote': 'No Vote'}\n",
    "\n",
    "# Apply the map to create new vote_method_cat column\n",
    "elec_2012_df['vote_cat'] = elec_2012_df['voting_method'].map(vote_method_map)\n",
    "\n",
    "check_unique('vote_cat', elec_2012_df)"
   ]
  },
  {
   "cell_type": "code",
   "execution_count": 226,
   "metadata": {
    "ExecuteTime": {
     "end_time": "2021-01-12T23:10:44.398063Z",
     "start_time": "2021-01-12T23:10:44.370095Z"
    }
   },
   "outputs": [
    {
     "data": {
      "text/html": [
       "<div>\n",
       "<style scoped>\n",
       "    .dataframe tbody tr th:only-of-type {\n",
       "        vertical-align: middle;\n",
       "    }\n",
       "\n",
       "    .dataframe tbody tr th {\n",
       "        vertical-align: top;\n",
       "    }\n",
       "\n",
       "    .dataframe thead th {\n",
       "        text-align: right;\n",
       "    }\n",
       "</style>\n",
       "<table border=\"1\" class=\"dataframe\">\n",
       "  <thead>\n",
       "    <tr style=\"text-align: right;\">\n",
       "      <th></th>\n",
       "      <th>count</th>\n",
       "      <th>%</th>\n",
       "    </tr>\n",
       "  </thead>\n",
       "  <tbody>\n",
       "    <tr>\n",
       "      <th>Early</th>\n",
       "      <td>53638</td>\n",
       "      <td>55.71</td>\n",
       "    </tr>\n",
       "    <tr>\n",
       "      <th>Election Day</th>\n",
       "      <td>31851</td>\n",
       "      <td>33.08</td>\n",
       "    </tr>\n",
       "    <tr>\n",
       "      <th>No Vote</th>\n",
       "      <td>9781</td>\n",
       "      <td>10.16</td>\n",
       "    </tr>\n",
       "    <tr>\n",
       "      <th>Other</th>\n",
       "      <td>1005</td>\n",
       "      <td>1.04</td>\n",
       "    </tr>\n",
       "  </tbody>\n",
       "</table>\n",
       "</div>"
      ],
      "text/plain": [
       "              count      %\n",
       "Early         53638  55.71\n",
       "Election Day  31851  33.08\n",
       "No Vote        9781  10.16\n",
       "Other          1005   1.04"
      ]
     },
     "execution_count": 226,
     "metadata": {},
     "output_type": "execute_result"
    }
   ],
   "source": [
    "check_unique('Gen_2012', elec_2012_df)"
   ]
  },
  {
   "cell_type": "markdown",
   "metadata": {},
   "source": [
    "> The 'Other' category is made up of only 1005 individuals that voted with either a provisional or transfer ballot. Need to consider dropping this extremely rare category or somehow adding those records into one of the other categories."
   ]
  },
  {
   "cell_type": "code",
   "execution_count": 227,
   "metadata": {
    "ExecuteTime": {
     "end_time": "2021-01-12T23:10:44.427076Z",
     "start_time": "2021-01-12T23:10:44.400120Z"
    }
   },
   "outputs": [
    {
     "data": {
      "text/html": [
       "<div>\n",
       "<style scoped>\n",
       "    .dataframe tbody tr th:only-of-type {\n",
       "        vertical-align: middle;\n",
       "    }\n",
       "\n",
       "    .dataframe tbody tr th {\n",
       "        vertical-align: top;\n",
       "    }\n",
       "\n",
       "    .dataframe thead th {\n",
       "        text-align: right;\n",
       "    }\n",
       "</style>\n",
       "<table border=\"1\" class=\"dataframe\">\n",
       "  <thead>\n",
       "    <tr style=\"text-align: right;\">\n",
       "      <th></th>\n",
       "      <th>count</th>\n",
       "      <th>%</th>\n",
       "    </tr>\n",
       "  </thead>\n",
       "  <tbody>\n",
       "    <tr>\n",
       "      <th>No Vote</th>\n",
       "      <td>60177</td>\n",
       "      <td>62.51</td>\n",
       "    </tr>\n",
       "    <tr>\n",
       "      <th>Election Day</th>\n",
       "      <td>27764</td>\n",
       "      <td>28.84</td>\n",
       "    </tr>\n",
       "    <tr>\n",
       "      <th>Early</th>\n",
       "      <td>7819</td>\n",
       "      <td>8.12</td>\n",
       "    </tr>\n",
       "    <tr>\n",
       "      <th>Other</th>\n",
       "      <td>515</td>\n",
       "      <td>0.53</td>\n",
       "    </tr>\n",
       "  </tbody>\n",
       "</table>\n",
       "</div>"
      ],
      "text/plain": [
       "              count      %\n",
       "No Vote       60177  62.51\n",
       "Election Day  27764  28.84\n",
       "Early          7819   8.12\n",
       "Other           515   0.53"
      ]
     },
     "execution_count": 227,
     "metadata": {},
     "output_type": "execute_result"
    }
   ],
   "source": [
    "check_unique('Pri_2012', elec_2012_df)"
   ]
  },
  {
   "cell_type": "markdown",
   "metadata": {},
   "source": [
    "> 'Other' category also extremely rare for `Pri_2012` as well. If this is used as a predictor, consider changing to a binary variable indicating simply whether or not the person voted in the Primary."
   ]
  },
  {
   "cell_type": "code",
   "execution_count": 228,
   "metadata": {
    "ExecuteTime": {
     "end_time": "2021-01-12T23:10:44.455192Z",
     "start_time": "2021-01-12T23:10:44.428763Z"
    }
   },
   "outputs": [
    {
     "data": {
      "text/html": [
       "<div>\n",
       "<style scoped>\n",
       "    .dataframe tbody tr th:only-of-type {\n",
       "        vertical-align: middle;\n",
       "    }\n",
       "\n",
       "    .dataframe tbody tr th {\n",
       "        vertical-align: top;\n",
       "    }\n",
       "\n",
       "    .dataframe thead th {\n",
       "        text-align: right;\n",
       "    }\n",
       "</style>\n",
       "<table border=\"1\" class=\"dataframe\">\n",
       "  <thead>\n",
       "    <tr style=\"text-align: right;\">\n",
       "      <th></th>\n",
       "      <th>count</th>\n",
       "      <th>%</th>\n",
       "    </tr>\n",
       "  </thead>\n",
       "  <tbody>\n",
       "    <tr>\n",
       "      <th>REP</th>\n",
       "      <td>43658</td>\n",
       "      <td>45.35</td>\n",
       "    </tr>\n",
       "    <tr>\n",
       "      <th>UNA</th>\n",
       "      <td>28162</td>\n",
       "      <td>29.25</td>\n",
       "    </tr>\n",
       "    <tr>\n",
       "      <th>DEM</th>\n",
       "      <td>24062</td>\n",
       "      <td>24.99</td>\n",
       "    </tr>\n",
       "    <tr>\n",
       "      <th>LIB</th>\n",
       "      <td>358</td>\n",
       "      <td>0.37</td>\n",
       "    </tr>\n",
       "    <tr>\n",
       "      <th>CST</th>\n",
       "      <td>29</td>\n",
       "      <td>0.03</td>\n",
       "    </tr>\n",
       "    <tr>\n",
       "      <th>GRE</th>\n",
       "      <td>6</td>\n",
       "      <td>0.01</td>\n",
       "    </tr>\n",
       "  </tbody>\n",
       "</table>\n",
       "</div>"
      ],
      "text/plain": [
       "     count      %\n",
       "REP  43658  45.35\n",
       "UNA  28162  29.25\n",
       "DEM  24062  24.99\n",
       "LIB    358   0.37\n",
       "CST     29   0.03\n",
       "GRE      6   0.01"
      ]
     },
     "execution_count": 228,
     "metadata": {},
     "output_type": "execute_result"
    }
   ],
   "source": [
    "check_unique('party_cd', elec_2012_df)"
   ]
  },
  {
   "cell_type": "markdown",
   "metadata": {},
   "source": [
    "> LIB, CST, and GRE extremely rare within the county. Need to deal with this in some way, but grouping into a single 'Rare' category won't necessarily solve the issue since that would still represent barely more than 0.5% of voters in this election. It could make sense to combine these three parties with UNA (unaffiliated) to simply represent voters that do not align with one of the two major parties."
   ]
  },
  {
   "cell_type": "code",
   "execution_count": 229,
   "metadata": {
    "ExecuteTime": {
     "end_time": "2021-01-12T23:10:44.482143Z",
     "start_time": "2021-01-12T23:10:44.456933Z"
    }
   },
   "outputs": [
    {
     "data": {
      "text/html": [
       "<div>\n",
       "<style scoped>\n",
       "    .dataframe tbody tr th:only-of-type {\n",
       "        vertical-align: middle;\n",
       "    }\n",
       "\n",
       "    .dataframe tbody tr th {\n",
       "        vertical-align: top;\n",
       "    }\n",
       "\n",
       "    .dataframe thead th {\n",
       "        text-align: right;\n",
       "    }\n",
       "</style>\n",
       "<table border=\"1\" class=\"dataframe\">\n",
       "  <thead>\n",
       "    <tr style=\"text-align: right;\">\n",
       "      <th></th>\n",
       "      <th>count</th>\n",
       "      <th>%</th>\n",
       "    </tr>\n",
       "  </thead>\n",
       "  <tbody>\n",
       "    <tr>\n",
       "      <th>F</th>\n",
       "      <td>50072</td>\n",
       "      <td>52.01</td>\n",
       "    </tr>\n",
       "    <tr>\n",
       "      <th>M</th>\n",
       "      <td>42527</td>\n",
       "      <td>44.17</td>\n",
       "    </tr>\n",
       "    <tr>\n",
       "      <th>U</th>\n",
       "      <td>3676</td>\n",
       "      <td>3.82</td>\n",
       "    </tr>\n",
       "  </tbody>\n",
       "</table>\n",
       "</div>"
      ],
      "text/plain": [
       "   count      %\n",
       "F  50072  52.01\n",
       "M  42527  44.17\n",
       "U   3676   3.82"
      ]
     },
     "execution_count": 229,
     "metadata": {},
     "output_type": "execute_result"
    }
   ],
   "source": [
    "check_unique('gender_code', elec_2012_df)"
   ]
  },
  {
   "cell_type": "code",
   "execution_count": 230,
   "metadata": {
    "ExecuteTime": {
     "end_time": "2021-01-12T23:10:44.509079Z",
     "start_time": "2021-01-12T23:10:44.484053Z"
    }
   },
   "outputs": [
    {
     "data": {
      "text/html": [
       "<div>\n",
       "<style scoped>\n",
       "    .dataframe tbody tr th:only-of-type {\n",
       "        vertical-align: middle;\n",
       "    }\n",
       "\n",
       "    .dataframe tbody tr th {\n",
       "        vertical-align: top;\n",
       "    }\n",
       "\n",
       "    .dataframe thead th {\n",
       "        text-align: right;\n",
       "    }\n",
       "</style>\n",
       "<table border=\"1\" class=\"dataframe\">\n",
       "  <thead>\n",
       "    <tr style=\"text-align: right;\">\n",
       "      <th></th>\n",
       "      <th>count</th>\n",
       "      <th>%</th>\n",
       "    </tr>\n",
       "  </thead>\n",
       "  <tbody>\n",
       "    <tr>\n",
       "      <th>W</th>\n",
       "      <td>75603</td>\n",
       "      <td>78.53</td>\n",
       "    </tr>\n",
       "    <tr>\n",
       "      <th>B</th>\n",
       "      <td>12028</td>\n",
       "      <td>12.49</td>\n",
       "    </tr>\n",
       "    <tr>\n",
       "      <th>U</th>\n",
       "      <td>4927</td>\n",
       "      <td>5.12</td>\n",
       "    </tr>\n",
       "    <tr>\n",
       "      <th>O</th>\n",
       "      <td>2072</td>\n",
       "      <td>2.15</td>\n",
       "    </tr>\n",
       "    <tr>\n",
       "      <th>A</th>\n",
       "      <td>1028</td>\n",
       "      <td>1.07</td>\n",
       "    </tr>\n",
       "    <tr>\n",
       "      <th>M</th>\n",
       "      <td>385</td>\n",
       "      <td>0.40</td>\n",
       "    </tr>\n",
       "    <tr>\n",
       "      <th>I</th>\n",
       "      <td>230</td>\n",
       "      <td>0.24</td>\n",
       "    </tr>\n",
       "    <tr>\n",
       "      <th>P</th>\n",
       "      <td>2</td>\n",
       "      <td>0.00</td>\n",
       "    </tr>\n",
       "  </tbody>\n",
       "</table>\n",
       "</div>"
      ],
      "text/plain": [
       "   count      %\n",
       "W  75603  78.53\n",
       "B  12028  12.49\n",
       "U   4927   5.12\n",
       "O   2072   2.15\n",
       "A   1028   1.07\n",
       "M    385   0.40\n",
       "I    230   0.24\n",
       "P      2   0.00"
      ]
     },
     "execution_count": 230,
     "metadata": {},
     "output_type": "execute_result"
    }
   ],
   "source": [
    "check_unique('race_code', elec_2012_df)"
   ]
  },
  {
   "cell_type": "markdown",
   "metadata": {},
   "source": [
    "> The most infrequent categories (Other, Asian, Multiple, Native American, Pacific Islander/Native Hawaiian) each represent less than 5% of voters. To deal with these rare labels, it is probably best from a modeling standpoint to group them all under 'Other'."
   ]
  },
  {
   "cell_type": "code",
   "execution_count": 231,
   "metadata": {
    "ExecuteTime": {
     "end_time": "2021-01-12T23:10:44.536343Z",
     "start_time": "2021-01-12T23:10:44.510784Z"
    }
   },
   "outputs": [
    {
     "data": {
      "text/html": [
       "<div>\n",
       "<style scoped>\n",
       "    .dataframe tbody tr th:only-of-type {\n",
       "        vertical-align: middle;\n",
       "    }\n",
       "\n",
       "    .dataframe tbody tr th {\n",
       "        vertical-align: top;\n",
       "    }\n",
       "\n",
       "    .dataframe thead th {\n",
       "        text-align: right;\n",
       "    }\n",
       "</style>\n",
       "<table border=\"1\" class=\"dataframe\">\n",
       "  <thead>\n",
       "    <tr style=\"text-align: right;\">\n",
       "      <th></th>\n",
       "      <th>count</th>\n",
       "      <th>%</th>\n",
       "    </tr>\n",
       "  </thead>\n",
       "  <tbody>\n",
       "    <tr>\n",
       "      <th>NL</th>\n",
       "      <td>78235</td>\n",
       "      <td>81.26</td>\n",
       "    </tr>\n",
       "    <tr>\n",
       "      <th>UN</th>\n",
       "      <td>15734</td>\n",
       "      <td>16.34</td>\n",
       "    </tr>\n",
       "    <tr>\n",
       "      <th>HL</th>\n",
       "      <td>2306</td>\n",
       "      <td>2.40</td>\n",
       "    </tr>\n",
       "  </tbody>\n",
       "</table>\n",
       "</div>"
      ],
      "text/plain": [
       "    count      %\n",
       "NL  78235  81.26\n",
       "UN  15734  16.34\n",
       "HL   2306   2.40"
      ]
     },
     "execution_count": 231,
     "metadata": {},
     "output_type": "execute_result"
    }
   ],
   "source": [
    "check_unique('ethnic_code', elec_2012_df)"
   ]
  },
  {
   "cell_type": "markdown",
   "metadata": {},
   "source": [
    "> Voters that chose to identify themselves as Hispanic or Latino represent less than 5% of voters. Check below to see how disclosed racial and ethnic identities intersect."
   ]
  },
  {
   "cell_type": "code",
   "execution_count": 232,
   "metadata": {
    "ExecuteTime": {
     "end_time": "2021-01-12T23:10:44.633837Z",
     "start_time": "2021-01-12T23:10:44.537957Z"
    }
   },
   "outputs": [
    {
     "name": "stdout",
     "output_type": "stream",
     "text": [
      "*****NL*****\n"
     ]
    },
    {
     "data": {
      "text/html": [
       "<div>\n",
       "<style scoped>\n",
       "    .dataframe tbody tr th:only-of-type {\n",
       "        vertical-align: middle;\n",
       "    }\n",
       "\n",
       "    .dataframe tbody tr th {\n",
       "        vertical-align: top;\n",
       "    }\n",
       "\n",
       "    .dataframe thead th {\n",
       "        text-align: right;\n",
       "    }\n",
       "</style>\n",
       "<table border=\"1\" class=\"dataframe\">\n",
       "  <thead>\n",
       "    <tr style=\"text-align: right;\">\n",
       "      <th></th>\n",
       "      <th>race_code</th>\n",
       "    </tr>\n",
       "  </thead>\n",
       "  <tbody>\n",
       "    <tr>\n",
       "      <th>W</th>\n",
       "      <td>66562</td>\n",
       "    </tr>\n",
       "    <tr>\n",
       "      <th>B</th>\n",
       "      <td>9631</td>\n",
       "    </tr>\n",
       "    <tr>\n",
       "      <th>O</th>\n",
       "      <td>815</td>\n",
       "    </tr>\n",
       "    <tr>\n",
       "      <th>A</th>\n",
       "      <td>708</td>\n",
       "    </tr>\n",
       "    <tr>\n",
       "      <th>I</th>\n",
       "      <td>188</td>\n",
       "    </tr>\n",
       "    <tr>\n",
       "      <th>M</th>\n",
       "      <td>169</td>\n",
       "    </tr>\n",
       "    <tr>\n",
       "      <th>U</th>\n",
       "      <td>162</td>\n",
       "    </tr>\n",
       "  </tbody>\n",
       "</table>\n",
       "</div>"
      ],
      "text/plain": [
       "   race_code\n",
       "W      66562\n",
       "B       9631\n",
       "O        815\n",
       "A        708\n",
       "I        188\n",
       "M        169\n",
       "U        162"
      ]
     },
     "metadata": {},
     "output_type": "display_data"
    },
    {
     "name": "stdout",
     "output_type": "stream",
     "text": [
      "\n",
      "*****UN*****\n"
     ]
    },
    {
     "data": {
      "text/html": [
       "<div>\n",
       "<style scoped>\n",
       "    .dataframe tbody tr th:only-of-type {\n",
       "        vertical-align: middle;\n",
       "    }\n",
       "\n",
       "    .dataframe tbody tr th {\n",
       "        vertical-align: top;\n",
       "    }\n",
       "\n",
       "    .dataframe thead th {\n",
       "        text-align: right;\n",
       "    }\n",
       "</style>\n",
       "<table border=\"1\" class=\"dataframe\">\n",
       "  <thead>\n",
       "    <tr style=\"text-align: right;\">\n",
       "      <th></th>\n",
       "      <th>race_code</th>\n",
       "    </tr>\n",
       "  </thead>\n",
       "  <tbody>\n",
       "    <tr>\n",
       "      <th>W</th>\n",
       "      <td>8443</td>\n",
       "    </tr>\n",
       "    <tr>\n",
       "      <th>U</th>\n",
       "      <td>4311</td>\n",
       "    </tr>\n",
       "    <tr>\n",
       "      <th>B</th>\n",
       "      <td>2363</td>\n",
       "    </tr>\n",
       "    <tr>\n",
       "      <th>A</th>\n",
       "      <td>315</td>\n",
       "    </tr>\n",
       "    <tr>\n",
       "      <th>O</th>\n",
       "      <td>150</td>\n",
       "    </tr>\n",
       "    <tr>\n",
       "      <th>M</th>\n",
       "      <td>109</td>\n",
       "    </tr>\n",
       "    <tr>\n",
       "      <th>I</th>\n",
       "      <td>41</td>\n",
       "    </tr>\n",
       "    <tr>\n",
       "      <th>P</th>\n",
       "      <td>2</td>\n",
       "    </tr>\n",
       "  </tbody>\n",
       "</table>\n",
       "</div>"
      ],
      "text/plain": [
       "   race_code\n",
       "W       8443\n",
       "U       4311\n",
       "B       2363\n",
       "A        315\n",
       "O        150\n",
       "M        109\n",
       "I         41\n",
       "P          2"
      ]
     },
     "metadata": {},
     "output_type": "display_data"
    },
    {
     "name": "stdout",
     "output_type": "stream",
     "text": [
      "\n",
      "*****HL*****\n"
     ]
    },
    {
     "data": {
      "text/html": [
       "<div>\n",
       "<style scoped>\n",
       "    .dataframe tbody tr th:only-of-type {\n",
       "        vertical-align: middle;\n",
       "    }\n",
       "\n",
       "    .dataframe tbody tr th {\n",
       "        vertical-align: top;\n",
       "    }\n",
       "\n",
       "    .dataframe thead th {\n",
       "        text-align: right;\n",
       "    }\n",
       "</style>\n",
       "<table border=\"1\" class=\"dataframe\">\n",
       "  <thead>\n",
       "    <tr style=\"text-align: right;\">\n",
       "      <th></th>\n",
       "      <th>race_code</th>\n",
       "    </tr>\n",
       "  </thead>\n",
       "  <tbody>\n",
       "    <tr>\n",
       "      <th>O</th>\n",
       "      <td>1107</td>\n",
       "    </tr>\n",
       "    <tr>\n",
       "      <th>W</th>\n",
       "      <td>598</td>\n",
       "    </tr>\n",
       "    <tr>\n",
       "      <th>U</th>\n",
       "      <td>454</td>\n",
       "    </tr>\n",
       "    <tr>\n",
       "      <th>M</th>\n",
       "      <td>107</td>\n",
       "    </tr>\n",
       "    <tr>\n",
       "      <th>B</th>\n",
       "      <td>34</td>\n",
       "    </tr>\n",
       "    <tr>\n",
       "      <th>A</th>\n",
       "      <td>5</td>\n",
       "    </tr>\n",
       "    <tr>\n",
       "      <th>I</th>\n",
       "      <td>1</td>\n",
       "    </tr>\n",
       "  </tbody>\n",
       "</table>\n",
       "</div>"
      ],
      "text/plain": [
       "   race_code\n",
       "O       1107\n",
       "W        598\n",
       "U        454\n",
       "M        107\n",
       "B         34\n",
       "A          5\n",
       "I          1"
      ]
     },
     "metadata": {},
     "output_type": "display_data"
    },
    {
     "name": "stdout",
     "output_type": "stream",
     "text": [
      "\n"
     ]
    }
   ],
   "source": [
    "## Investigate how race intersects with ethnic code\n",
    "for code in elec_2012_df['ethnic_code'].unique():\n",
    "    print('*****{}*****'.format(code))\n",
    "    display(elec_2012_df.loc[elec_2012_df['ethnic_code']==code]['race_code'].value_counts().to_frame())\n",
    "    print()"
   ]
  },
  {
   "cell_type": "markdown",
   "metadata": {},
   "source": [
    "> Patterns of intersection between race and ethnicity are somewhat unclear. The majority of voters that chose not to disclose their ethnicity were white (8,443 out of 15,734). The majority of voters that identified themselves as Hispanic or Latino when registering listed their race as 'Other'(1,107 out of 2,306), with the next most frequent category being 'White' (598 out of 2,306), then 'Undesignated' (454 out of 2,306). As such, I am uncertain how useful this feature will be as a predictor, especially given that the 'HL' category is so rare."
   ]
  },
  {
   "cell_type": "code",
   "execution_count": 233,
   "metadata": {
    "ExecuteTime": {
     "end_time": "2021-01-12T23:10:44.648868Z",
     "start_time": "2021-01-12T23:10:44.635774Z"
    }
   },
   "outputs": [
    {
     "data": {
      "text/html": [
       "<div>\n",
       "<style scoped>\n",
       "    .dataframe tbody tr th:only-of-type {\n",
       "        vertical-align: middle;\n",
       "    }\n",
       "\n",
       "    .dataframe tbody tr th {\n",
       "        vertical-align: top;\n",
       "    }\n",
       "\n",
       "    .dataframe thead th {\n",
       "        text-align: right;\n",
       "    }\n",
       "</style>\n",
       "<table border=\"1\" class=\"dataframe\">\n",
       "  <thead>\n",
       "    <tr style=\"text-align: right;\">\n",
       "      <th></th>\n",
       "      <th>count</th>\n",
       "      <th>%</th>\n",
       "    </tr>\n",
       "  </thead>\n",
       "  <tbody>\n",
       "    <tr>\n",
       "      <th>28173.0</th>\n",
       "      <td>24451</td>\n",
       "      <td>25.40</td>\n",
       "    </tr>\n",
       "    <tr>\n",
       "      <th>28110.0</th>\n",
       "      <td>20868</td>\n",
       "      <td>21.68</td>\n",
       "    </tr>\n",
       "    <tr>\n",
       "      <th>28079.0</th>\n",
       "      <td>15719</td>\n",
       "      <td>16.33</td>\n",
       "    </tr>\n",
       "    <tr>\n",
       "      <th>28104.0</th>\n",
       "      <td>14860</td>\n",
       "      <td>15.43</td>\n",
       "    </tr>\n",
       "    <tr>\n",
       "      <th>28112.0</th>\n",
       "      <td>11550</td>\n",
       "      <td>12.00</td>\n",
       "    </tr>\n",
       "    <tr>\n",
       "      <th>28103.0</th>\n",
       "      <td>4944</td>\n",
       "      <td>5.14</td>\n",
       "    </tr>\n",
       "    <tr>\n",
       "      <th>28174.0</th>\n",
       "      <td>3346</td>\n",
       "      <td>3.48</td>\n",
       "    </tr>\n",
       "    <tr>\n",
       "      <th>28227.0</th>\n",
       "      <td>236</td>\n",
       "      <td>0.25</td>\n",
       "    </tr>\n",
       "    <tr>\n",
       "      <th>28105.0</th>\n",
       "      <td>141</td>\n",
       "      <td>0.15</td>\n",
       "    </tr>\n",
       "    <tr>\n",
       "      <th>28133.0</th>\n",
       "      <td>105</td>\n",
       "      <td>0.11</td>\n",
       "    </tr>\n",
       "    <tr>\n",
       "      <th>28107.0</th>\n",
       "      <td>51</td>\n",
       "      <td>0.05</td>\n",
       "    </tr>\n",
       "    <tr>\n",
       "      <th>NaN</th>\n",
       "      <td>2</td>\n",
       "      <td>0.00</td>\n",
       "    </tr>\n",
       "    <tr>\n",
       "      <th>28135.0</th>\n",
       "      <td>2</td>\n",
       "      <td>0.00</td>\n",
       "    </tr>\n",
       "  </tbody>\n",
       "</table>\n",
       "</div>"
      ],
      "text/plain": [
       "          count      %\n",
       " 28173.0  24451  25.40\n",
       " 28110.0  20868  21.68\n",
       " 28079.0  15719  16.33\n",
       " 28104.0  14860  15.43\n",
       " 28112.0  11550  12.00\n",
       " 28103.0   4944   5.14\n",
       " 28174.0   3346   3.48\n",
       " 28227.0    236   0.25\n",
       " 28105.0    141   0.15\n",
       " 28133.0    105   0.11\n",
       " 28107.0     51   0.05\n",
       "NaN           2   0.00\n",
       " 28135.0      2   0.00"
      ]
     },
     "execution_count": 233,
     "metadata": {},
     "output_type": "execute_result"
    }
   ],
   "source": [
    "check_unique('zip_code', elec_2012_df)"
   ]
  },
  {
   "cell_type": "markdown",
   "metadata": {},
   "source": [
    "> Six of the 12 zip codes are rare labels (each representing less than 5% of the voters). It may be best to use grouped cities as a predictor (see immediately below) rather than zip codes, especially since the two will be highly correlated."
   ]
  },
  {
   "cell_type": "code",
   "execution_count": 234,
   "metadata": {
    "ExecuteTime": {
     "end_time": "2021-01-12T23:10:44.681365Z",
     "start_time": "2021-01-12T23:10:44.650977Z"
    }
   },
   "outputs": [
    {
     "data": {
      "text/html": [
       "<div>\n",
       "<style scoped>\n",
       "    .dataframe tbody tr th:only-of-type {\n",
       "        vertical-align: middle;\n",
       "    }\n",
       "\n",
       "    .dataframe tbody tr th {\n",
       "        vertical-align: top;\n",
       "    }\n",
       "\n",
       "    .dataframe thead th {\n",
       "        text-align: right;\n",
       "    }\n",
       "</style>\n",
       "<table border=\"1\" class=\"dataframe\">\n",
       "  <thead>\n",
       "    <tr style=\"text-align: right;\">\n",
       "      <th></th>\n",
       "      <th>count</th>\n",
       "      <th>%</th>\n",
       "    </tr>\n",
       "  </thead>\n",
       "  <tbody>\n",
       "    <tr>\n",
       "      <th>MONROE</th>\n",
       "      <td>32418</td>\n",
       "      <td>33.67</td>\n",
       "    </tr>\n",
       "    <tr>\n",
       "      <th>WAXHAW</th>\n",
       "      <td>24451</td>\n",
       "      <td>25.40</td>\n",
       "    </tr>\n",
       "    <tr>\n",
       "      <th>INDIAN TRAIL</th>\n",
       "      <td>15719</td>\n",
       "      <td>16.33</td>\n",
       "    </tr>\n",
       "    <tr>\n",
       "      <th>MATTHEWS</th>\n",
       "      <td>15001</td>\n",
       "      <td>15.58</td>\n",
       "    </tr>\n",
       "    <tr>\n",
       "      <th>MARSHVILLE</th>\n",
       "      <td>4944</td>\n",
       "      <td>5.14</td>\n",
       "    </tr>\n",
       "    <tr>\n",
       "      <th>WINGATE</th>\n",
       "      <td>3346</td>\n",
       "      <td>3.48</td>\n",
       "    </tr>\n",
       "    <tr>\n",
       "      <th>CHARLOTTE</th>\n",
       "      <td>236</td>\n",
       "      <td>0.25</td>\n",
       "    </tr>\n",
       "    <tr>\n",
       "      <th>PEACHLAND</th>\n",
       "      <td>105</td>\n",
       "      <td>0.11</td>\n",
       "    </tr>\n",
       "    <tr>\n",
       "      <th>MIDLAND</th>\n",
       "      <td>51</td>\n",
       "      <td>0.05</td>\n",
       "    </tr>\n",
       "    <tr>\n",
       "      <th>POLKTON</th>\n",
       "      <td>2</td>\n",
       "      <td>0.00</td>\n",
       "    </tr>\n",
       "    <tr>\n",
       "      <th>NaN</th>\n",
       "      <td>2</td>\n",
       "      <td>0.00</td>\n",
       "    </tr>\n",
       "  </tbody>\n",
       "</table>\n",
       "</div>"
      ],
      "text/plain": [
       "              count      %\n",
       "MONROE        32418  33.67\n",
       "WAXHAW        24451  25.40\n",
       "INDIAN TRAIL  15719  16.33\n",
       "MATTHEWS      15001  15.58\n",
       "MARSHVILLE     4944   5.14\n",
       "WINGATE        3346   3.48\n",
       "CHARLOTTE       236   0.25\n",
       "PEACHLAND       105   0.11\n",
       "MIDLAND          51   0.05\n",
       "POLKTON           2   0.00\n",
       "NaN               2   0.00"
      ]
     },
     "execution_count": 234,
     "metadata": {},
     "output_type": "execute_result"
    }
   ],
   "source": [
    "check_unique('res_city_desc', elec_2012_df)"
   ]
  },
  {
   "cell_type": "markdown",
   "metadata": {},
   "source": [
    "> There are several rare labels, so if `res_city_desc` is to be used as a predictor, cities besides Monroe, Waxhaw, Indian Trail, and Matthews should probably be combined into an 'Other' category."
   ]
  },
  {
   "cell_type": "code",
   "execution_count": 235,
   "metadata": {
    "ExecuteTime": {
     "end_time": "2021-01-12T23:10:44.721754Z",
     "start_time": "2021-01-12T23:10:44.683667Z"
    }
   },
   "outputs": [
    {
     "data": {
      "text/html": [
       "<div>\n",
       "<style scoped>\n",
       "    .dataframe tbody tr th:only-of-type {\n",
       "        vertical-align: middle;\n",
       "    }\n",
       "\n",
       "    .dataframe tbody tr th {\n",
       "        vertical-align: top;\n",
       "    }\n",
       "\n",
       "    .dataframe thead th {\n",
       "        text-align: right;\n",
       "    }\n",
       "</style>\n",
       "<table border=\"1\" class=\"dataframe\">\n",
       "  <thead>\n",
       "    <tr style=\"text-align: right;\">\n",
       "      <th></th>\n",
       "      <th>count</th>\n",
       "      <th>%</th>\n",
       "    </tr>\n",
       "  </thead>\n",
       "  <tbody>\n",
       "    <tr>\n",
       "      <th>NC</th>\n",
       "      <td>28514</td>\n",
       "      <td>29.62</td>\n",
       "    </tr>\n",
       "    <tr>\n",
       "      <th>Missing</th>\n",
       "      <td>24857</td>\n",
       "      <td>25.82</td>\n",
       "    </tr>\n",
       "    <tr>\n",
       "      <th>NY</th>\n",
       "      <td>7114</td>\n",
       "      <td>7.39</td>\n",
       "    </tr>\n",
       "    <tr>\n",
       "      <th>OC</th>\n",
       "      <td>4253</td>\n",
       "      <td>4.42</td>\n",
       "    </tr>\n",
       "    <tr>\n",
       "      <th>SC</th>\n",
       "      <td>3020</td>\n",
       "      <td>3.14</td>\n",
       "    </tr>\n",
       "    <tr>\n",
       "      <th>OH</th>\n",
       "      <td>2596</td>\n",
       "      <td>2.70</td>\n",
       "    </tr>\n",
       "    <tr>\n",
       "      <th>PA</th>\n",
       "      <td>2577</td>\n",
       "      <td>2.68</td>\n",
       "    </tr>\n",
       "    <tr>\n",
       "      <th>NJ</th>\n",
       "      <td>2348</td>\n",
       "      <td>2.44</td>\n",
       "    </tr>\n",
       "    <tr>\n",
       "      <th>FL</th>\n",
       "      <td>1847</td>\n",
       "      <td>1.92</td>\n",
       "    </tr>\n",
       "    <tr>\n",
       "      <th>VA</th>\n",
       "      <td>1735</td>\n",
       "      <td>1.80</td>\n",
       "    </tr>\n",
       "    <tr>\n",
       "      <th>CA</th>\n",
       "      <td>1537</td>\n",
       "      <td>1.60</td>\n",
       "    </tr>\n",
       "    <tr>\n",
       "      <th>MI</th>\n",
       "      <td>1369</td>\n",
       "      <td>1.42</td>\n",
       "    </tr>\n",
       "    <tr>\n",
       "      <th>GA</th>\n",
       "      <td>1284</td>\n",
       "      <td>1.33</td>\n",
       "    </tr>\n",
       "    <tr>\n",
       "      <th>IL</th>\n",
       "      <td>1257</td>\n",
       "      <td>1.31</td>\n",
       "    </tr>\n",
       "    <tr>\n",
       "      <th>WV</th>\n",
       "      <td>1072</td>\n",
       "      <td>1.11</td>\n",
       "    </tr>\n",
       "    <tr>\n",
       "      <th>MA</th>\n",
       "      <td>898</td>\n",
       "      <td>0.93</td>\n",
       "    </tr>\n",
       "    <tr>\n",
       "      <th>TX</th>\n",
       "      <td>896</td>\n",
       "      <td>0.93</td>\n",
       "    </tr>\n",
       "    <tr>\n",
       "      <th>MD</th>\n",
       "      <td>869</td>\n",
       "      <td>0.90</td>\n",
       "    </tr>\n",
       "    <tr>\n",
       "      <th>IN</th>\n",
       "      <td>749</td>\n",
       "      <td>0.78</td>\n",
       "    </tr>\n",
       "    <tr>\n",
       "      <th>TN</th>\n",
       "      <td>734</td>\n",
       "      <td>0.76</td>\n",
       "    </tr>\n",
       "    <tr>\n",
       "      <th>CT</th>\n",
       "      <td>668</td>\n",
       "      <td>0.69</td>\n",
       "    </tr>\n",
       "    <tr>\n",
       "      <th>AL</th>\n",
       "      <td>526</td>\n",
       "      <td>0.55</td>\n",
       "    </tr>\n",
       "    <tr>\n",
       "      <th>KY</th>\n",
       "      <td>490</td>\n",
       "      <td>0.51</td>\n",
       "    </tr>\n",
       "    <tr>\n",
       "      <th>MO</th>\n",
       "      <td>414</td>\n",
       "      <td>0.43</td>\n",
       "    </tr>\n",
       "    <tr>\n",
       "      <th>WI</th>\n",
       "      <td>411</td>\n",
       "      <td>0.43</td>\n",
       "    </tr>\n",
       "    <tr>\n",
       "      <th>DC</th>\n",
       "      <td>411</td>\n",
       "      <td>0.43</td>\n",
       "    </tr>\n",
       "    <tr>\n",
       "      <th>LA</th>\n",
       "      <td>340</td>\n",
       "      <td>0.35</td>\n",
       "    </tr>\n",
       "    <tr>\n",
       "      <th>MN</th>\n",
       "      <td>270</td>\n",
       "      <td>0.28</td>\n",
       "    </tr>\n",
       "    <tr>\n",
       "      <th>IA</th>\n",
       "      <td>267</td>\n",
       "      <td>0.28</td>\n",
       "    </tr>\n",
       "    <tr>\n",
       "      <th>MS</th>\n",
       "      <td>227</td>\n",
       "      <td>0.24</td>\n",
       "    </tr>\n",
       "    <tr>\n",
       "      <th>WA</th>\n",
       "      <td>224</td>\n",
       "      <td>0.23</td>\n",
       "    </tr>\n",
       "    <tr>\n",
       "      <th>CO</th>\n",
       "      <td>222</td>\n",
       "      <td>0.23</td>\n",
       "    </tr>\n",
       "    <tr>\n",
       "      <th>OK</th>\n",
       "      <td>189</td>\n",
       "      <td>0.20</td>\n",
       "    </tr>\n",
       "    <tr>\n",
       "      <th>PR</th>\n",
       "      <td>186</td>\n",
       "      <td>0.19</td>\n",
       "    </tr>\n",
       "    <tr>\n",
       "      <th>KS</th>\n",
       "      <td>178</td>\n",
       "      <td>0.18</td>\n",
       "    </tr>\n",
       "    <tr>\n",
       "      <th>RI</th>\n",
       "      <td>164</td>\n",
       "      <td>0.17</td>\n",
       "    </tr>\n",
       "    <tr>\n",
       "      <th>AZ</th>\n",
       "      <td>161</td>\n",
       "      <td>0.17</td>\n",
       "    </tr>\n",
       "    <tr>\n",
       "      <th>AR</th>\n",
       "      <td>139</td>\n",
       "      <td>0.14</td>\n",
       "    </tr>\n",
       "    <tr>\n",
       "      <th>ME</th>\n",
       "      <td>133</td>\n",
       "      <td>0.14</td>\n",
       "    </tr>\n",
       "    <tr>\n",
       "      <th>NH</th>\n",
       "      <td>128</td>\n",
       "      <td>0.13</td>\n",
       "    </tr>\n",
       "    <tr>\n",
       "      <th>NE</th>\n",
       "      <td>122</td>\n",
       "      <td>0.13</td>\n",
       "    </tr>\n",
       "    <tr>\n",
       "      <th>DE</th>\n",
       "      <td>119</td>\n",
       "      <td>0.12</td>\n",
       "    </tr>\n",
       "    <tr>\n",
       "      <th>VT</th>\n",
       "      <td>98</td>\n",
       "      <td>0.10</td>\n",
       "    </tr>\n",
       "    <tr>\n",
       "      <th>UT</th>\n",
       "      <td>84</td>\n",
       "      <td>0.09</td>\n",
       "    </tr>\n",
       "    <tr>\n",
       "      <th>OR</th>\n",
       "      <td>84</td>\n",
       "      <td>0.09</td>\n",
       "    </tr>\n",
       "    <tr>\n",
       "      <th>NM</th>\n",
       "      <td>76</td>\n",
       "      <td>0.08</td>\n",
       "    </tr>\n",
       "    <tr>\n",
       "      <th>HI</th>\n",
       "      <td>74</td>\n",
       "      <td>0.08</td>\n",
       "    </tr>\n",
       "    <tr>\n",
       "      <th>SD</th>\n",
       "      <td>57</td>\n",
       "      <td>0.06</td>\n",
       "    </tr>\n",
       "    <tr>\n",
       "      <th>ND</th>\n",
       "      <td>53</td>\n",
       "      <td>0.06</td>\n",
       "    </tr>\n",
       "    <tr>\n",
       "      <th>MT</th>\n",
       "      <td>53</td>\n",
       "      <td>0.06</td>\n",
       "    </tr>\n",
       "    <tr>\n",
       "      <th>AK</th>\n",
       "      <td>53</td>\n",
       "      <td>0.06</td>\n",
       "    </tr>\n",
       "    <tr>\n",
       "      <th>ID</th>\n",
       "      <td>48</td>\n",
       "      <td>0.05</td>\n",
       "    </tr>\n",
       "    <tr>\n",
       "      <th>NV</th>\n",
       "      <td>44</td>\n",
       "      <td>0.05</td>\n",
       "    </tr>\n",
       "    <tr>\n",
       "      <th>WY</th>\n",
       "      <td>21</td>\n",
       "      <td>0.02</td>\n",
       "    </tr>\n",
       "    <tr>\n",
       "      <th>VI</th>\n",
       "      <td>9</td>\n",
       "      <td>0.01</td>\n",
       "    </tr>\n",
       "    <tr>\n",
       "      <th>GU</th>\n",
       "      <td>5</td>\n",
       "      <td>0.01</td>\n",
       "    </tr>\n",
       "    <tr>\n",
       "      <th>NO</th>\n",
       "      <td>1</td>\n",
       "      <td>0.00</td>\n",
       "    </tr>\n",
       "  </tbody>\n",
       "</table>\n",
       "</div>"
      ],
      "text/plain": [
       "         count      %\n",
       "NC       28514  29.62\n",
       "Missing  24857  25.82\n",
       "NY        7114   7.39\n",
       "OC        4253   4.42\n",
       "SC        3020   3.14\n",
       "OH        2596   2.70\n",
       "PA        2577   2.68\n",
       "NJ        2348   2.44\n",
       "FL        1847   1.92\n",
       "VA        1735   1.80\n",
       "CA        1537   1.60\n",
       "MI        1369   1.42\n",
       "GA        1284   1.33\n",
       "IL        1257   1.31\n",
       "WV        1072   1.11\n",
       "MA         898   0.93\n",
       "TX         896   0.93\n",
       "MD         869   0.90\n",
       "IN         749   0.78\n",
       "TN         734   0.76\n",
       "CT         668   0.69\n",
       "AL         526   0.55\n",
       "KY         490   0.51\n",
       "MO         414   0.43\n",
       "WI         411   0.43\n",
       "DC         411   0.43\n",
       "LA         340   0.35\n",
       "MN         270   0.28\n",
       "IA         267   0.28\n",
       "MS         227   0.24\n",
       "WA         224   0.23\n",
       "CO         222   0.23\n",
       "OK         189   0.20\n",
       "PR         186   0.19\n",
       "KS         178   0.18\n",
       "RI         164   0.17\n",
       "AZ         161   0.17\n",
       "AR         139   0.14\n",
       "ME         133   0.14\n",
       "NH         128   0.13\n",
       "NE         122   0.13\n",
       "DE         119   0.12\n",
       "VT          98   0.10\n",
       "UT          84   0.09\n",
       "OR          84   0.09\n",
       "NM          76   0.08\n",
       "HI          74   0.08\n",
       "SD          57   0.06\n",
       "ND          53   0.06\n",
       "MT          53   0.06\n",
       "AK          53   0.06\n",
       "ID          48   0.05\n",
       "NV          44   0.05\n",
       "WY          21   0.02\n",
       "VI           9   0.01\n",
       "GU           5   0.01\n",
       "NO           1   0.00"
      ]
     },
     "execution_count": 235,
     "metadata": {},
     "output_type": "execute_result"
    }
   ],
   "source": [
    "check_unique('birth_state', elec_2012_df)"
   ]
  },
  {
   "cell_type": "markdown",
   "metadata": {},
   "source": [
    "> The majority of `birth_state` labels are rare categories (less than 5% of voters). Some of the codes do not appear to be U.S. states or territories. These rare labels could be dealt with in a couple ways. They could all be grouped into an 'Other' category, or they could be grouped according to geographic region of the U.S. with an additional category for naturalized U.S. citizens."
   ]
  },
  {
   "cell_type": "code",
   "execution_count": 236,
   "metadata": {
    "ExecuteTime": {
     "end_time": "2021-01-12T23:10:44.765571Z",
     "start_time": "2021-01-12T23:10:44.724415Z"
    }
   },
   "outputs": [
    {
     "data": {
      "text/html": [
       "<div>\n",
       "<style scoped>\n",
       "    .dataframe tbody tr th:only-of-type {\n",
       "        vertical-align: middle;\n",
       "    }\n",
       "\n",
       "    .dataframe tbody tr th {\n",
       "        vertical-align: top;\n",
       "    }\n",
       "\n",
       "    .dataframe thead th {\n",
       "        text-align: right;\n",
       "    }\n",
       "</style>\n",
       "<table border=\"1\" class=\"dataframe\">\n",
       "  <thead>\n",
       "    <tr style=\"text-align: right;\">\n",
       "      <th></th>\n",
       "      <th>count</th>\n",
       "      <th>%</th>\n",
       "    </tr>\n",
       "  </thead>\n",
       "  <tbody>\n",
       "    <tr>\n",
       "      <th>Y</th>\n",
       "      <td>89060</td>\n",
       "      <td>92.51</td>\n",
       "    </tr>\n",
       "    <tr>\n",
       "      <th>N</th>\n",
       "      <td>7215</td>\n",
       "      <td>7.49</td>\n",
       "    </tr>\n",
       "  </tbody>\n",
       "</table>\n",
       "</div>"
      ],
      "text/plain": [
       "   count      %\n",
       "Y  89060  92.51\n",
       "N   7215   7.49"
      ]
     },
     "execution_count": 236,
     "metadata": {},
     "output_type": "execute_result"
    }
   ],
   "source": [
    "check_unique('drivers_lic', elec_2012_df)"
   ]
  },
  {
   "cell_type": "markdown",
   "metadata": {},
   "source": [
    "### 2012 Group Rare Categories"
   ]
  },
  {
   "cell_type": "code",
   "execution_count": 237,
   "metadata": {
    "ExecuteTime": {
     "end_time": "2021-01-12T23:10:44.787731Z",
     "start_time": "2021-01-12T23:10:44.768227Z"
    }
   },
   "outputs": [
    {
     "data": {
      "text/html": [
       "<div>\n",
       "<style scoped>\n",
       "    .dataframe tbody tr th:only-of-type {\n",
       "        vertical-align: middle;\n",
       "    }\n",
       "\n",
       "    .dataframe tbody tr th {\n",
       "        vertical-align: top;\n",
       "    }\n",
       "\n",
       "    .dataframe thead th {\n",
       "        text-align: right;\n",
       "    }\n",
       "</style>\n",
       "<table border=\"1\" class=\"dataframe\">\n",
       "  <thead>\n",
       "    <tr style=\"text-align: right;\">\n",
       "      <th></th>\n",
       "      <th>count</th>\n",
       "      <th>%</th>\n",
       "    </tr>\n",
       "  </thead>\n",
       "  <tbody>\n",
       "    <tr>\n",
       "      <th>1</th>\n",
       "      <td>86494</td>\n",
       "      <td>89.84</td>\n",
       "    </tr>\n",
       "    <tr>\n",
       "      <th>0</th>\n",
       "      <td>9781</td>\n",
       "      <td>10.16</td>\n",
       "    </tr>\n",
       "  </tbody>\n",
       "</table>\n",
       "</div>"
      ],
      "text/plain": [
       "   count      %\n",
       "1  86494  89.84\n",
       "0   9781  10.16"
      ]
     },
     "execution_count": 237,
     "metadata": {},
     "output_type": "execute_result"
    }
   ],
   "source": [
    "## Create new column that is a binary variable indicating whether the voter\n",
    "  ## cast a vote in the 2012 election or not\n",
    "elec_2012_df['Gen_2012_binary'] = np.where(elec_2012_df['Gen_2012']=='No Vote',\n",
    "                                0, 1)\n",
    "\n",
    "## Check distribution\n",
    "check_unique('Gen_2012_binary', elec_2012_df)"
   ]
  },
  {
   "cell_type": "code",
   "execution_count": 238,
   "metadata": {
    "ExecuteTime": {
     "end_time": "2021-01-12T23:10:44.808771Z",
     "start_time": "2021-01-12T23:10:44.790952Z"
    }
   },
   "outputs": [
    {
     "data": {
      "text/html": [
       "<div>\n",
       "<style scoped>\n",
       "    .dataframe tbody tr th:only-of-type {\n",
       "        vertical-align: middle;\n",
       "    }\n",
       "\n",
       "    .dataframe tbody tr th {\n",
       "        vertical-align: top;\n",
       "    }\n",
       "\n",
       "    .dataframe thead th {\n",
       "        text-align: right;\n",
       "    }\n",
       "</style>\n",
       "<table border=\"1\" class=\"dataframe\">\n",
       "  <thead>\n",
       "    <tr style=\"text-align: right;\">\n",
       "      <th></th>\n",
       "      <th>count</th>\n",
       "      <th>%</th>\n",
       "    </tr>\n",
       "  </thead>\n",
       "  <tbody>\n",
       "    <tr>\n",
       "      <th>0</th>\n",
       "      <td>60177</td>\n",
       "      <td>62.51</td>\n",
       "    </tr>\n",
       "    <tr>\n",
       "      <th>1</th>\n",
       "      <td>36098</td>\n",
       "      <td>37.49</td>\n",
       "    </tr>\n",
       "  </tbody>\n",
       "</table>\n",
       "</div>"
      ],
      "text/plain": [
       "   count      %\n",
       "0  60177  62.51\n",
       "1  36098  37.49"
      ]
     },
     "execution_count": 238,
     "metadata": {},
     "output_type": "execute_result"
    }
   ],
   "source": [
    "## Create new column that is a binary variable indicating whether the voter\n",
    "  ## cast a vote in the 2012 election or not\n",
    "elec_2012_df['Pri_2012_binary'] = np.where(elec_2012_df['Pri_2012']=='No Vote',\n",
    "                                0, 1)\n",
    "\n",
    "## Check distribution\n",
    "check_unique('Pri_2012_binary', elec_2012_df)"
   ]
  },
  {
   "cell_type": "code",
   "execution_count": 239,
   "metadata": {
    "ExecuteTime": {
     "end_time": "2021-01-12T23:10:44.865772Z",
     "start_time": "2021-01-12T23:10:44.810860Z"
    }
   },
   "outputs": [
    {
     "data": {
      "text/html": [
       "<div>\n",
       "<style scoped>\n",
       "    .dataframe tbody tr th:only-of-type {\n",
       "        vertical-align: middle;\n",
       "    }\n",
       "\n",
       "    .dataframe tbody tr th {\n",
       "        vertical-align: top;\n",
       "    }\n",
       "\n",
       "    .dataframe thead th {\n",
       "        text-align: right;\n",
       "    }\n",
       "</style>\n",
       "<table border=\"1\" class=\"dataframe\">\n",
       "  <thead>\n",
       "    <tr style=\"text-align: right;\">\n",
       "      <th></th>\n",
       "      <th>count</th>\n",
       "      <th>%</th>\n",
       "    </tr>\n",
       "  </thead>\n",
       "  <tbody>\n",
       "    <tr>\n",
       "      <th>Rep</th>\n",
       "      <td>43658</td>\n",
       "      <td>45.35</td>\n",
       "    </tr>\n",
       "    <tr>\n",
       "      <th>Other</th>\n",
       "      <td>28555</td>\n",
       "      <td>29.66</td>\n",
       "    </tr>\n",
       "    <tr>\n",
       "      <th>Dem</th>\n",
       "      <td>24062</td>\n",
       "      <td>24.99</td>\n",
       "    </tr>\n",
       "  </tbody>\n",
       "</table>\n",
       "</div>"
      ],
      "text/plain": [
       "       count      %\n",
       "Rep    43658  45.35\n",
       "Other  28555  29.66\n",
       "Dem    24062  24.99"
      ]
     },
     "execution_count": 239,
     "metadata": {},
     "output_type": "execute_result"
    }
   ],
   "source": [
    "## Create new column grouping most infrequent party categories (<5% of voters)\n",
    "  ## into same group as those who are unaffiliated\n",
    "elec_2012_df['party_grp'] = np.where(elec_2012_df['party_cd'].isin(['REP', 'DEM']),\n",
    "                                elec_2012_df['party_cd'].str.title(), 'Other')\n",
    "\n",
    "## Check distribution\n",
    "check_unique('party_grp', elec_2012_df)"
   ]
  },
  {
   "cell_type": "code",
   "execution_count": 240,
   "metadata": {
    "ExecuteTime": {
     "end_time": "2021-01-12T23:10:44.905691Z",
     "start_time": "2021-01-12T23:10:44.867855Z"
    }
   },
   "outputs": [
    {
     "data": {
      "text/html": [
       "<div>\n",
       "<style scoped>\n",
       "    .dataframe tbody tr th:only-of-type {\n",
       "        vertical-align: middle;\n",
       "    }\n",
       "\n",
       "    .dataframe tbody tr th {\n",
       "        vertical-align: top;\n",
       "    }\n",
       "\n",
       "    .dataframe thead th {\n",
       "        text-align: right;\n",
       "    }\n",
       "</style>\n",
       "<table border=\"1\" class=\"dataframe\">\n",
       "  <thead>\n",
       "    <tr style=\"text-align: right;\">\n",
       "      <th></th>\n",
       "      <th>count</th>\n",
       "      <th>%</th>\n",
       "    </tr>\n",
       "  </thead>\n",
       "  <tbody>\n",
       "    <tr>\n",
       "      <th>White</th>\n",
       "      <td>75603</td>\n",
       "      <td>78.53</td>\n",
       "    </tr>\n",
       "    <tr>\n",
       "      <th>Black</th>\n",
       "      <td>12028</td>\n",
       "      <td>12.49</td>\n",
       "    </tr>\n",
       "    <tr>\n",
       "      <th>Undesig.</th>\n",
       "      <td>4927</td>\n",
       "      <td>5.12</td>\n",
       "    </tr>\n",
       "    <tr>\n",
       "      <th>Other</th>\n",
       "      <td>3717</td>\n",
       "      <td>3.86</td>\n",
       "    </tr>\n",
       "  </tbody>\n",
       "</table>\n",
       "</div>"
      ],
      "text/plain": [
       "          count      %\n",
       "White     75603  78.53\n",
       "Black     12028  12.49\n",
       "Undesig.   4927   5.12\n",
       "Other      3717   3.86"
      ]
     },
     "execution_count": 240,
     "metadata": {},
     "output_type": "execute_result"
    }
   ],
   "source": [
    "## Create new column grouping most infrequent race categories (<5% of voters)\n",
    "elec_2012_df['race_grp'] = np.where(elec_2012_df['race_code'].isin(['W', 'B', 'U']),\n",
    "                               elec_2012_df['race_code'], 'O')\n",
    "race_grp_map = {'W': 'White',\n",
    "                'B': 'Black',\n",
    "                'U': 'Undesig.',\n",
    "                'O': 'Other'}\n",
    "elec_2012_df['race_grp'] = elec_2012_df['race_grp'].map(race_grp_map)\n",
    "\n",
    "## Check distribution\n",
    "check_unique('race_grp', elec_2012_df)"
   ]
  },
  {
   "cell_type": "code",
   "execution_count": 241,
   "metadata": {
    "ExecuteTime": {
     "end_time": "2021-01-12T23:10:44.973406Z",
     "start_time": "2021-01-12T23:10:44.907368Z"
    }
   },
   "outputs": [
    {
     "data": {
      "text/html": [
       "<div>\n",
       "<style scoped>\n",
       "    .dataframe tbody tr th:only-of-type {\n",
       "        vertical-align: middle;\n",
       "    }\n",
       "\n",
       "    .dataframe tbody tr th {\n",
       "        vertical-align: top;\n",
       "    }\n",
       "\n",
       "    .dataframe thead th {\n",
       "        text-align: right;\n",
       "    }\n",
       "</style>\n",
       "<table border=\"1\" class=\"dataframe\">\n",
       "  <thead>\n",
       "    <tr style=\"text-align: right;\">\n",
       "      <th></th>\n",
       "      <th>count</th>\n",
       "      <th>%</th>\n",
       "    </tr>\n",
       "  </thead>\n",
       "  <tbody>\n",
       "    <tr>\n",
       "      <th>Monroe</th>\n",
       "      <td>32418</td>\n",
       "      <td>33.67</td>\n",
       "    </tr>\n",
       "    <tr>\n",
       "      <th>Waxhaw</th>\n",
       "      <td>24451</td>\n",
       "      <td>25.40</td>\n",
       "    </tr>\n",
       "    <tr>\n",
       "      <th>Indian Trail</th>\n",
       "      <td>15719</td>\n",
       "      <td>16.33</td>\n",
       "    </tr>\n",
       "    <tr>\n",
       "      <th>Matthews</th>\n",
       "      <td>15001</td>\n",
       "      <td>15.58</td>\n",
       "    </tr>\n",
       "    <tr>\n",
       "      <th>Other</th>\n",
       "      <td>8686</td>\n",
       "      <td>9.02</td>\n",
       "    </tr>\n",
       "  </tbody>\n",
       "</table>\n",
       "</div>"
      ],
      "text/plain": [
       "              count      %\n",
       "Monroe        32418  33.67\n",
       "Waxhaw        24451  25.40\n",
       "Indian Trail  15719  16.33\n",
       "Matthews      15001  15.58\n",
       "Other          8686   9.02"
      ]
     },
     "execution_count": 241,
     "metadata": {},
     "output_type": "execute_result"
    }
   ],
   "source": [
    "## Create new column grouping most infrequent cities (<5% of voters)\n",
    "elec_2012_df['city_grp'] = np.where(elec_2012_df['res_city_desc'].isin(['MONROE', \n",
    "                                                              'WAXHAW',\n",
    "                                                              'INDIAN TRAIL',\n",
    "                                                              'MATTHEWS']),\n",
    "                                elec_2012_df['res_city_desc'].str.title(), 'Other')\n",
    "\n",
    "## Check distribution\n",
    "check_unique('city_grp', elec_2012_df)"
   ]
  },
  {
   "cell_type": "code",
   "execution_count": 242,
   "metadata": {
    "ExecuteTime": {
     "end_time": "2021-01-12T23:10:45.046806Z",
     "start_time": "2021-01-12T23:10:44.975289Z"
    }
   },
   "outputs": [
    {
     "data": {
      "text/html": [
       "<div>\n",
       "<style scoped>\n",
       "    .dataframe tbody tr th:only-of-type {\n",
       "        vertical-align: middle;\n",
       "    }\n",
       "\n",
       "    .dataframe tbody tr th {\n",
       "        vertical-align: top;\n",
       "    }\n",
       "\n",
       "    .dataframe thead th {\n",
       "        text-align: right;\n",
       "    }\n",
       "</style>\n",
       "<table border=\"1\" class=\"dataframe\">\n",
       "  <thead>\n",
       "    <tr style=\"text-align: right;\">\n",
       "      <th></th>\n",
       "      <th>count</th>\n",
       "      <th>%</th>\n",
       "    </tr>\n",
       "  </thead>\n",
       "  <tbody>\n",
       "    <tr>\n",
       "      <th>South</th>\n",
       "      <td>42412</td>\n",
       "      <td>44.05</td>\n",
       "    </tr>\n",
       "    <tr>\n",
       "      <th>Missing</th>\n",
       "      <td>24858</td>\n",
       "      <td>25.82</td>\n",
       "    </tr>\n",
       "    <tr>\n",
       "      <th>Northeast</th>\n",
       "      <td>14128</td>\n",
       "      <td>14.67</td>\n",
       "    </tr>\n",
       "    <tr>\n",
       "      <th>Midwest</th>\n",
       "      <td>7743</td>\n",
       "      <td>8.04</td>\n",
       "    </tr>\n",
       "    <tr>\n",
       "      <th>Other</th>\n",
       "      <td>4453</td>\n",
       "      <td>4.63</td>\n",
       "    </tr>\n",
       "    <tr>\n",
       "      <th>West</th>\n",
       "      <td>2681</td>\n",
       "      <td>2.78</td>\n",
       "    </tr>\n",
       "  </tbody>\n",
       "</table>\n",
       "</div>"
      ],
      "text/plain": [
       "           count      %\n",
       "South      42412  44.05\n",
       "Missing    24858  25.82\n",
       "Northeast  14128  14.67\n",
       "Midwest     7743   8.04\n",
       "Other       4453   4.63\n",
       "West        2681   2.78"
      ]
     },
     "execution_count": 242,
     "metadata": {},
     "output_type": "execute_result"
    }
   ],
   "source": [
    "## Create a new column grouping birth_state into U.S. Census regions,\n",
    "  ## this time lumping territories and out of country into 'Other'\n",
    "elec_2012_df['birth_reg_other'] = elec_2012_df['birth_state'].apply(get_birth_reg_census_other)\n",
    "check_unique('birth_reg_other', elec_2012_df)"
   ]
  },
  {
   "cell_type": "markdown",
   "metadata": {},
   "source": [
    "### 2012 Numeric Variables"
   ]
  },
  {
   "cell_type": "code",
   "execution_count": 243,
   "metadata": {
    "ExecuteTime": {
     "end_time": "2021-01-12T23:10:45.483722Z",
     "start_time": "2021-01-12T23:10:45.048610Z"
    }
   },
   "outputs": [
    {
     "data": {
      "image/png": "[encoded data removed]",
      "text/plain": [
       "<Figure size 720x504 with 1 Axes>"
      ]
     },
     "metadata": {
      "needs_background": "light"
     },
     "output_type": "display_data"
    }
   ],
   "source": [
    "## Plot distribution of current age as of EOY 2012 \n",
    "plt.figure(figsize=(10,7))\n",
    "ax = sns.histplot(elec_2012_df['birth_age_adj'], stat='density')\n",
    "ax.set_title('Distribution of Age', fontsize=16, weight='bold')\n",
    "ax.set_xlabel('Age', fontsize=14, weight='bold')\n",
    "ax.set_ylabel('Count', fontsize=14, weight='bold')\n",
    "ax.set_xlim(15,115);"
   ]
  },
  {
   "cell_type": "markdown",
   "metadata": {},
   "source": [
    "### 2012 Bin Age into Generation Categories"
   ]
  },
  {
   "cell_type": "code",
   "execution_count": 244,
   "metadata": {
    "ExecuteTime": {
     "end_time": "2021-01-12T23:10:45.536415Z",
     "start_time": "2021-01-12T23:10:45.485512Z"
    }
   },
   "outputs": [
    {
     "data": {
      "text/html": [
       "<div>\n",
       "<style scoped>\n",
       "    .dataframe tbody tr th:only-of-type {\n",
       "        vertical-align: middle;\n",
       "    }\n",
       "\n",
       "    .dataframe tbody tr th {\n",
       "        vertical-align: top;\n",
       "    }\n",
       "\n",
       "    .dataframe thead th {\n",
       "        text-align: right;\n",
       "    }\n",
       "</style>\n",
       "<table border=\"1\" class=\"dataframe\">\n",
       "  <thead>\n",
       "    <tr style=\"text-align: right;\">\n",
       "      <th></th>\n",
       "      <th>count</th>\n",
       "      <th>%</th>\n",
       "    </tr>\n",
       "  </thead>\n",
       "  <tbody>\n",
       "    <tr>\n",
       "      <th>GenX</th>\n",
       "      <td>35250</td>\n",
       "      <td>36.61</td>\n",
       "    </tr>\n",
       "    <tr>\n",
       "      <th>Boomer</th>\n",
       "      <td>34082</td>\n",
       "      <td>35.40</td>\n",
       "    </tr>\n",
       "    <tr>\n",
       "      <th>Millennial</th>\n",
       "      <td>17234</td>\n",
       "      <td>17.90</td>\n",
       "    </tr>\n",
       "    <tr>\n",
       "      <th>Silent</th>\n",
       "      <td>9585</td>\n",
       "      <td>9.96</td>\n",
       "    </tr>\n",
       "    <tr>\n",
       "      <th>Greatest</th>\n",
       "      <td>124</td>\n",
       "      <td>0.13</td>\n",
       "    </tr>\n",
       "  </tbody>\n",
       "</table>\n",
       "</div>"
      ],
      "text/plain": [
       "            count      %\n",
       "GenX        35250  36.61\n",
       "Boomer      34082  35.40\n",
       "Millennial  17234  17.90\n",
       "Silent       9585   9.96\n",
       "Greatest      124   0.13"
      ]
     },
     "execution_count": 244,
     "metadata": {},
     "output_type": "execute_result"
    }
   ],
   "source": [
    "## Create a a new column grouping birth_year into generations\n",
    "elec_2012_df['generation'] = elec_2012_df['birth_year'].apply(get_generation)\n",
    "check_unique('generation', elec_2012_df)"
   ]
  },
  {
   "cell_type": "code",
   "execution_count": 245,
   "metadata": {
    "ExecuteTime": {
     "end_time": "2021-01-12T23:10:45.583065Z",
     "start_time": "2021-01-12T23:10:45.538213Z"
    }
   },
   "outputs": [
    {
     "data": {
      "text/html": [
       "<div>\n",
       "<style scoped>\n",
       "    .dataframe tbody tr th:only-of-type {\n",
       "        vertical-align: middle;\n",
       "    }\n",
       "\n",
       "    .dataframe tbody tr th {\n",
       "        vertical-align: top;\n",
       "    }\n",
       "\n",
       "    .dataframe thead th {\n",
       "        text-align: right;\n",
       "    }\n",
       "</style>\n",
       "<table border=\"1\" class=\"dataframe\">\n",
       "  <thead>\n",
       "    <tr style=\"text-align: right;\">\n",
       "      <th></th>\n",
       "      <th>count</th>\n",
       "      <th>%</th>\n",
       "    </tr>\n",
       "  </thead>\n",
       "  <tbody>\n",
       "    <tr>\n",
       "      <th>GenX</th>\n",
       "      <td>35250</td>\n",
       "      <td>36.61</td>\n",
       "    </tr>\n",
       "    <tr>\n",
       "      <th>Boomer</th>\n",
       "      <td>34082</td>\n",
       "      <td>35.40</td>\n",
       "    </tr>\n",
       "    <tr>\n",
       "      <th>Millennial</th>\n",
       "      <td>17234</td>\n",
       "      <td>17.90</td>\n",
       "    </tr>\n",
       "    <tr>\n",
       "      <th>Greatest-Silent</th>\n",
       "      <td>9709</td>\n",
       "      <td>10.08</td>\n",
       "    </tr>\n",
       "  </tbody>\n",
       "</table>\n",
       "</div>"
      ],
      "text/plain": [
       "                 count      %\n",
       "GenX             35250  36.61\n",
       "Boomer           34082  35.40\n",
       "Millennial       17234  17.90\n",
       "Greatest-Silent   9709  10.08"
      ]
     },
     "execution_count": 245,
     "metadata": {},
     "output_type": "execute_result"
    }
   ],
   "source": [
    "## Create a new column grouping birth_year into generations, \n",
    "  ## also lumping Silent in with Greatest\n",
    "elec_2012_df['gen_grp'] = elec_2012_df['birth_year'].apply(get_gen_grp)\n",
    "check_unique('gen_grp', elec_2012_df)"
   ]
  },
  {
   "cell_type": "markdown",
   "metadata": {},
   "source": [
    "### 2012 Load in Full Clean Dataset"
   ]
  },
  {
   "cell_type": "code",
   "execution_count": 246,
   "metadata": {
    "ExecuteTime": {
     "end_time": "2021-01-12T23:10:46.179546Z",
     "start_time": "2021-01-12T23:10:45.584783Z"
    }
   },
   "outputs": [
    {
     "data": {
      "text/html": [
       "<div>\n",
       "<style scoped>\n",
       "    .dataframe tbody tr th:only-of-type {\n",
       "        vertical-align: middle;\n",
       "    }\n",
       "\n",
       "    .dataframe tbody tr th {\n",
       "        vertical-align: top;\n",
       "    }\n",
       "\n",
       "    .dataframe thead th {\n",
       "        text-align: right;\n",
       "    }\n",
       "</style>\n",
       "<table border=\"1\" class=\"dataframe\">\n",
       "  <thead>\n",
       "    <tr style=\"text-align: right;\">\n",
       "      <th></th>\n",
       "      <th>ncid</th>\n",
       "      <th>no_vote_his</th>\n",
       "      <th>birth_age_adj</th>\n",
       "      <th>voting_method</th>\n",
       "      <th>Gen_2012</th>\n",
       "      <th>vote_early</th>\n",
       "      <th>vote_by_mail</th>\n",
       "      <th>vote_curbside</th>\n",
       "      <th>Pri_2012</th>\n",
       "      <th>party_cd</th>\n",
       "      <th>gender_code</th>\n",
       "      <th>birth_year</th>\n",
       "      <th>registr_dt</th>\n",
       "      <th>race_code</th>\n",
       "      <th>ethnic_code</th>\n",
       "      <th>zip_code</th>\n",
       "      <th>res_street_address</th>\n",
       "      <th>res_city_desc</th>\n",
       "      <th>birth_state</th>\n",
       "      <th>drivers_lic</th>\n",
       "      <th>precinct_abbrv</th>\n",
       "      <th>vtd_abbrv</th>\n",
       "      <th>cong_dist_abbrv</th>\n",
       "      <th>super_court_abbrv</th>\n",
       "      <th>judic_dist_abbrv</th>\n",
       "      <th>nc_senate_abbrv</th>\n",
       "      <th>nc_house_abbrv</th>\n",
       "      <th>school_dist_abbrv</th>\n",
       "      <th>drivers_lic_bin</th>\n",
       "      <th>vote_cat</th>\n",
       "      <th>Gen_2012_binary</th>\n",
       "      <th>Pri_2012_binary</th>\n",
       "      <th>party_grp</th>\n",
       "      <th>race_grp</th>\n",
       "      <th>city_grp</th>\n",
       "      <th>birth_reg_other</th>\n",
       "      <th>generation</th>\n",
       "      <th>gen_grp</th>\n",
       "    </tr>\n",
       "  </thead>\n",
       "  <tbody>\n",
       "    <tr>\n",
       "      <th>0</th>\n",
       "      <td>AA109481</td>\n",
       "      <td>0</td>\n",
       "      <td>39.0</td>\n",
       "      <td>ABSENTEE ONESTOP</td>\n",
       "      <td>Early</td>\n",
       "      <td>1.0</td>\n",
       "      <td>0.0</td>\n",
       "      <td>0.0</td>\n",
       "      <td>Election Day</td>\n",
       "      <td>DEM</td>\n",
       "      <td>F</td>\n",
       "      <td>1973</td>\n",
       "      <td>2020-03-19</td>\n",
       "      <td>W</td>\n",
       "      <td>NL</td>\n",
       "      <td>28173.0</td>\n",
       "      <td>1013  LYDNEY CIR</td>\n",
       "      <td>WAXHAW</td>\n",
       "      <td>MN</td>\n",
       "      <td>Y</td>\n",
       "      <td>020A</td>\n",
       "      <td>020A</td>\n",
       "      <td>9.0</td>\n",
       "      <td>20B</td>\n",
       "      <td>20C</td>\n",
       "      <td>35.0</td>\n",
       "      <td>68.0</td>\n",
       "      <td>2.0</td>\n",
       "      <td>1</td>\n",
       "      <td>Early</td>\n",
       "      <td>1</td>\n",
       "      <td>1</td>\n",
       "      <td>Dem</td>\n",
       "      <td>White</td>\n",
       "      <td>Waxhaw</td>\n",
       "      <td>Midwest</td>\n",
       "      <td>GenX</td>\n",
       "      <td>GenX</td>\n",
       "    </tr>\n",
       "    <tr>\n",
       "      <th>1</th>\n",
       "      <td>AA112504</td>\n",
       "      <td>0</td>\n",
       "      <td>64.0</td>\n",
       "      <td>ABSENTEE ONESTOP</td>\n",
       "      <td>Early</td>\n",
       "      <td>1.0</td>\n",
       "      <td>0.0</td>\n",
       "      <td>0.0</td>\n",
       "      <td>No Vote</td>\n",
       "      <td>REP</td>\n",
       "      <td>F</td>\n",
       "      <td>1948</td>\n",
       "      <td>2012-10-26</td>\n",
       "      <td>W</td>\n",
       "      <td>NL</td>\n",
       "      <td>28112.0</td>\n",
       "      <td>4325  WOLF POND RD</td>\n",
       "      <td>MONROE</td>\n",
       "      <td>NY</td>\n",
       "      <td>Y</td>\n",
       "      <td>024</td>\n",
       "      <td>024</td>\n",
       "      <td>9.0</td>\n",
       "      <td>20B</td>\n",
       "      <td>20C</td>\n",
       "      <td>35.0</td>\n",
       "      <td>55.0</td>\n",
       "      <td>2.0</td>\n",
       "      <td>1</td>\n",
       "      <td>Early</td>\n",
       "      <td>1</td>\n",
       "      <td>0</td>\n",
       "      <td>Rep</td>\n",
       "      <td>White</td>\n",
       "      <td>Monroe</td>\n",
       "      <td>Northeast</td>\n",
       "      <td>Boomer</td>\n",
       "      <td>Boomer</td>\n",
       "    </tr>\n",
       "    <tr>\n",
       "      <th>2</th>\n",
       "      <td>AA114763</td>\n",
       "      <td>0</td>\n",
       "      <td>45.0</td>\n",
       "      <td>ABSENTEE ONESTOP</td>\n",
       "      <td>Early</td>\n",
       "      <td>1.0</td>\n",
       "      <td>0.0</td>\n",
       "      <td>0.0</td>\n",
       "      <td>No Vote</td>\n",
       "      <td>DEM</td>\n",
       "      <td>F</td>\n",
       "      <td>1967</td>\n",
       "      <td>2012-08-13</td>\n",
       "      <td>B</td>\n",
       "      <td>UN</td>\n",
       "      <td>28104.0</td>\n",
       "      <td>4002  LAWRENCE DANIEL DR</td>\n",
       "      <td>MATTHEWS</td>\n",
       "      <td>NC</td>\n",
       "      <td>Y</td>\n",
       "      <td>037A</td>\n",
       "      <td>037A</td>\n",
       "      <td>9.0</td>\n",
       "      <td>20B</td>\n",
       "      <td>20C</td>\n",
       "      <td>35.0</td>\n",
       "      <td>69.0</td>\n",
       "      <td>5.0</td>\n",
       "      <td>1</td>\n",
       "      <td>Early</td>\n",
       "      <td>1</td>\n",
       "      <td>0</td>\n",
       "      <td>Dem</td>\n",
       "      <td>Black</td>\n",
       "      <td>Matthews</td>\n",
       "      <td>South</td>\n",
       "      <td>GenX</td>\n",
       "      <td>GenX</td>\n",
       "    </tr>\n",
       "    <tr>\n",
       "      <th>3</th>\n",
       "      <td>AA116927</td>\n",
       "      <td>0</td>\n",
       "      <td>50.0</td>\n",
       "      <td>IN-PERSON</td>\n",
       "      <td>Election Day</td>\n",
       "      <td>0.0</td>\n",
       "      <td>0.0</td>\n",
       "      <td>0.0</td>\n",
       "      <td>Election Day</td>\n",
       "      <td>REP</td>\n",
       "      <td>M</td>\n",
       "      <td>1962</td>\n",
       "      <td>2018-08-06</td>\n",
       "      <td>W</td>\n",
       "      <td>NL</td>\n",
       "      <td>28173.0</td>\n",
       "      <td>3513  MCPHERSON ST</td>\n",
       "      <td>WAXHAW</td>\n",
       "      <td>NY</td>\n",
       "      <td>Y</td>\n",
       "      <td>028D</td>\n",
       "      <td>028</td>\n",
       "      <td>9.0</td>\n",
       "      <td>20B</td>\n",
       "      <td>20C</td>\n",
       "      <td>35.0</td>\n",
       "      <td>68.0</td>\n",
       "      <td>6.0</td>\n",
       "      <td>1</td>\n",
       "      <td>Election Day</td>\n",
       "      <td>1</td>\n",
       "      <td>1</td>\n",
       "      <td>Rep</td>\n",
       "      <td>White</td>\n",
       "      <td>Waxhaw</td>\n",
       "      <td>Northeast</td>\n",
       "      <td>Boomer</td>\n",
       "      <td>Boomer</td>\n",
       "    </tr>\n",
       "    <tr>\n",
       "      <th>4</th>\n",
       "      <td>AA118202</td>\n",
       "      <td>0</td>\n",
       "      <td>40.0</td>\n",
       "      <td>IN-PERSON</td>\n",
       "      <td>Election Day</td>\n",
       "      <td>0.0</td>\n",
       "      <td>0.0</td>\n",
       "      <td>0.0</td>\n",
       "      <td>No Vote</td>\n",
       "      <td>DEM</td>\n",
       "      <td>M</td>\n",
       "      <td>1972</td>\n",
       "      <td>2006-04-12</td>\n",
       "      <td>W</td>\n",
       "      <td>UN</td>\n",
       "      <td>28079.0</td>\n",
       "      <td>7006  CONIFER CIR</td>\n",
       "      <td>INDIAN TRAIL</td>\n",
       "      <td>CT</td>\n",
       "      <td>Y</td>\n",
       "      <td>038B</td>\n",
       "      <td>038B</td>\n",
       "      <td>9.0</td>\n",
       "      <td>20B</td>\n",
       "      <td>20C</td>\n",
       "      <td>35.0</td>\n",
       "      <td>69.0</td>\n",
       "      <td>4.0</td>\n",
       "      <td>1</td>\n",
       "      <td>Election Day</td>\n",
       "      <td>1</td>\n",
       "      <td>0</td>\n",
       "      <td>Dem</td>\n",
       "      <td>White</td>\n",
       "      <td>Indian Trail</td>\n",
       "      <td>Northeast</td>\n",
       "      <td>GenX</td>\n",
       "      <td>GenX</td>\n",
       "    </tr>\n",
       "  </tbody>\n",
       "</table>\n",
       "</div>"
      ],
      "text/plain": [
       "       ncid  no_vote_his  birth_age_adj     voting_method      Gen_2012  \\\n",
       "0  AA109481            0           39.0  ABSENTEE ONESTOP         Early   \n",
       "1  AA112504            0           64.0  ABSENTEE ONESTOP         Early   \n",
       "2  AA114763            0           45.0  ABSENTEE ONESTOP         Early   \n",
       "3  AA116927            0           50.0         IN-PERSON  Election Day   \n",
       "4  AA118202            0           40.0         IN-PERSON  Election Day   \n",
       "\n",
       "   vote_early  vote_by_mail  vote_curbside      Pri_2012 party_cd gender_code  \\\n",
       "0         1.0           0.0            0.0  Election Day      DEM           F   \n",
       "1         1.0           0.0            0.0       No Vote      REP           F   \n",
       "2         1.0           0.0            0.0       No Vote      DEM           F   \n",
       "3         0.0           0.0            0.0  Election Day      REP           M   \n",
       "4         0.0           0.0            0.0       No Vote      DEM           M   \n",
       "\n",
       "   birth_year  registr_dt race_code ethnic_code  zip_code  \\\n",
       "0        1973  2020-03-19         W          NL   28173.0   \n",
       "1        1948  2012-10-26         W          NL   28112.0   \n",
       "2        1967  2012-08-13         B          UN   28104.0   \n",
       "3        1962  2018-08-06         W          NL   28173.0   \n",
       "4        1972  2006-04-12         W          UN   28079.0   \n",
       "\n",
       "            res_street_address res_city_desc birth_state drivers_lic  \\\n",
       "0          1013  LYDNEY CIR           WAXHAW          MN           Y   \n",
       "1        4325  WOLF POND RD           MONROE          NY           Y   \n",
       "2  4002  LAWRENCE DANIEL DR         MATTHEWS          NC           Y   \n",
       "3        3513  MCPHERSON ST           WAXHAW          NY           Y   \n",
       "4         7006  CONIFER CIR     INDIAN TRAIL          CT           Y   \n",
       "\n",
       "  precinct_abbrv vtd_abbrv  cong_dist_abbrv super_court_abbrv  \\\n",
       "0           020A      020A              9.0               20B   \n",
       "1            024       024              9.0               20B   \n",
       "2           037A      037A              9.0               20B   \n",
       "3           028D       028              9.0               20B   \n",
       "4           038B      038B              9.0               20B   \n",
       "\n",
       "  judic_dist_abbrv  nc_senate_abbrv  nc_house_abbrv  school_dist_abbrv  \\\n",
       "0              20C             35.0            68.0                2.0   \n",
       "1              20C             35.0            55.0                2.0   \n",
       "2              20C             35.0            69.0                5.0   \n",
       "3              20C             35.0            68.0                6.0   \n",
       "4              20C             35.0            69.0                4.0   \n",
       "\n",
       "   drivers_lic_bin      vote_cat  Gen_2012_binary  Pri_2012_binary party_grp  \\\n",
       "0                1         Early                1                1       Dem   \n",
       "1                1         Early                1                0       Rep   \n",
       "2                1         Early                1                0       Dem   \n",
       "3                1  Election Day                1                1       Rep   \n",
       "4                1  Election Day                1                0       Dem   \n",
       "\n",
       "  race_grp      city_grp birth_reg_other generation gen_grp  \n",
       "0    White        Waxhaw         Midwest       GenX    GenX  \n",
       "1    White        Monroe       Northeast     Boomer  Boomer  \n",
       "2    Black      Matthews           South       GenX    GenX  \n",
       "3    White        Waxhaw       Northeast     Boomer  Boomer  \n",
       "4    White  Indian Trail       Northeast       GenX    GenX  "
      ]
     },
     "execution_count": 246,
     "metadata": {},
     "output_type": "execute_result"
    }
   ],
   "source": [
    "## Import and preview dataset\n",
    "elec_2012_df = pd.read_csv('Data/UC_gen_2012_clean.gz',\n",
    "                     dtype={'precinct_abbrv': str, \n",
    "                            'vtd_abbrv': str\n",
    "                             })\n",
    "elec_2012_df.head()"
   ]
  },
  {
   "cell_type": "markdown",
   "metadata": {},
   "source": [
    "### 2012 Registered Voter Population Summary"
   ]
  },
  {
   "cell_type": "code",
   "execution_count": 247,
   "metadata": {
    "ExecuteTime": {
     "end_time": "2021-01-12T23:10:46.184150Z",
     "start_time": "2021-01-12T23:10:46.181497Z"
    }
   },
   "outputs": [],
   "source": [
    "if show_plotly:\n",
    "    display(basic_px_hist(elec_2012_df, 2012, 'Gen_2012',\n",
    "              title='Distribution of Voting Methods in 2012 Election'))"
   ]
  },
  {
   "cell_type": "code",
   "execution_count": 248,
   "metadata": {
    "ExecuteTime": {
     "end_time": "2021-01-12T23:10:46.188857Z",
     "start_time": "2021-01-12T23:10:46.186056Z"
    }
   },
   "outputs": [],
   "source": [
    "if show_plotly:\n",
    "    display(basic_pie(elec_2012_df, 2012, 'Gen_2012',\n",
    "              title='Voting Methods in 2012 Election'))"
   ]
  },
  {
   "cell_type": "code",
   "execution_count": 249,
   "metadata": {
    "ExecuteTime": {
     "end_time": "2021-01-12T23:10:46.194391Z",
     "start_time": "2021-01-12T23:10:46.190926Z"
    }
   },
   "outputs": [],
   "source": [
    "if show_plotly:\n",
    "    fig = px.histogram(elec_2012_df, x='birth_age_adj', nbins=50,\n",
    "                       title='Distribution of Registered Voters by Age in 2012 Election',\n",
    "                       labels={'birth_age_adj': 'Age'},\n",
    "                       template='seaborn'\n",
    "                      )\n",
    "    \n",
    "    fig.show()"
   ]
  },
  {
   "cell_type": "code",
   "execution_count": 250,
   "metadata": {
    "ExecuteTime": {
     "end_time": "2021-01-12T23:10:46.199017Z",
     "start_time": "2021-01-12T23:10:46.196303Z"
    }
   },
   "outputs": [],
   "source": [
    "if show_plotly:\n",
    "    display(basic_px_hist(elec_2012_df, 2012, 'gen_grp',\n",
    "              title='Distribution of Registered Voters by Generation in 2012 Election'))"
   ]
  },
  {
   "cell_type": "code",
   "execution_count": 251,
   "metadata": {
    "ExecuteTime": {
     "end_time": "2021-01-12T23:10:46.203856Z",
     "start_time": "2021-01-12T23:10:46.200999Z"
    }
   },
   "outputs": [],
   "source": [
    "if show_plotly:\n",
    "    display(basic_pie(elec_2012_df, 2012, 'gen_grp',\n",
    "              title='Registered Voters by Generation in 2012 Election'))"
   ]
  },
  {
   "cell_type": "code",
   "execution_count": 252,
   "metadata": {
    "ExecuteTime": {
     "end_time": "2021-01-12T23:10:46.208387Z",
     "start_time": "2021-01-12T23:10:46.205676Z"
    }
   },
   "outputs": [],
   "source": [
    "if show_plotly:\n",
    "    display(basic_px_hist(elec_2012_df, 2012, 'party_grp',\n",
    "              title='Distribution of Registered Voters by Party Affiliation in 2012 Election'))"
   ]
  },
  {
   "cell_type": "code",
   "execution_count": 253,
   "metadata": {
    "ExecuteTime": {
     "end_time": "2021-01-12T23:10:46.213269Z",
     "start_time": "2021-01-12T23:10:46.210338Z"
    }
   },
   "outputs": [],
   "source": [
    "if show_plotly:\n",
    "    display(basic_pie(elec_2012_df, 2012, 'party_grp',\n",
    "              title='Registered Voters by Party Affiliation in 2012 Election'))"
   ]
  },
  {
   "cell_type": "code",
   "execution_count": 254,
   "metadata": {
    "ExecuteTime": {
     "end_time": "2021-01-12T23:10:46.218338Z",
     "start_time": "2021-01-12T23:10:46.215516Z"
    }
   },
   "outputs": [],
   "source": [
    "if show_plotly:\n",
    "    display(basic_px_hist(elec_2012_df, 2012, 'race_grp',\n",
    "              title='Distribution of Registered Voters by Race in 2012 Election'))"
   ]
  },
  {
   "cell_type": "code",
   "execution_count": 255,
   "metadata": {
    "ExecuteTime": {
     "end_time": "2021-01-12T23:10:46.222841Z",
     "start_time": "2021-01-12T23:10:46.220159Z"
    }
   },
   "outputs": [],
   "source": [
    "if show_plotly:\n",
    "    display(basic_pie(elec_2012_df, 2012, 'race_grp',\n",
    "              title='Registered Voters by Race in 2012 Election'))"
   ]
  },
  {
   "cell_type": "code",
   "execution_count": 256,
   "metadata": {
    "ExecuteTime": {
     "end_time": "2021-01-12T23:10:46.227636Z",
     "start_time": "2021-01-12T23:10:46.224834Z"
    }
   },
   "outputs": [],
   "source": [
    "if show_plotly:\n",
    "    display(basic_px_hist(elec_2012_df, 2012, 'gender_code',\n",
    "              title='Distribution of Registered Voters by Gender in 2012 Election'))"
   ]
  },
  {
   "cell_type": "code",
   "execution_count": 257,
   "metadata": {
    "ExecuteTime": {
     "end_time": "2021-01-12T23:10:46.232255Z",
     "start_time": "2021-01-12T23:10:46.229623Z"
    }
   },
   "outputs": [],
   "source": [
    "if show_plotly:\n",
    "    display(basic_pie(elec_2012_df, 2012, 'gender_code',\n",
    "              title='Registered Voters by Gender in 2012 Election'))"
   ]
  },
  {
   "cell_type": "code",
   "execution_count": 258,
   "metadata": {
    "ExecuteTime": {
     "end_time": "2021-01-12T23:10:46.236531Z",
     "start_time": "2021-01-12T23:10:46.233961Z"
    }
   },
   "outputs": [],
   "source": [
    "if show_plotly:\n",
    "    display(basic_px_hist(elec_2012_df, 2012, 'birth_reg_other',\n",
    "              title='Distribution of Registered Voters by Birth Region in 2012 Election'))"
   ]
  },
  {
   "cell_type": "code",
   "execution_count": 259,
   "metadata": {
    "ExecuteTime": {
     "end_time": "2021-01-12T23:10:46.241363Z",
     "start_time": "2021-01-12T23:10:46.238490Z"
    }
   },
   "outputs": [],
   "source": [
    "if show_plotly:\n",
    "    display(basic_pie(elec_2012_df, 2012, 'birth_reg_other',\n",
    "              title='Registered Voters by Birth Region in 2012 Election'))"
   ]
  },
  {
   "cell_type": "code",
   "execution_count": 260,
   "metadata": {
    "ExecuteTime": {
     "end_time": "2021-01-12T23:10:46.245637Z",
     "start_time": "2021-01-12T23:10:46.242989Z"
    }
   },
   "outputs": [],
   "source": [
    "if show_plotly:\n",
    "    display(basic_px_hist(elec_2012_df, 2012, 'drivers_lic',\n",
    "              title='Distribution of Registered Voters by Drivers License Possession in 2012 Election'))"
   ]
  },
  {
   "cell_type": "code",
   "execution_count": 261,
   "metadata": {
    "ExecuteTime": {
     "end_time": "2021-01-12T23:10:46.250107Z",
     "start_time": "2021-01-12T23:10:46.247363Z"
    }
   },
   "outputs": [],
   "source": [
    "if show_plotly:\n",
    "    display(basic_pie(elec_2012_df, 2012, 'drivers_lic',\n",
    "              title='Possession of Drivers License by Registered Voters in 2012 Election'))"
   ]
  },
  {
   "cell_type": "code",
   "execution_count": 262,
   "metadata": {
    "ExecuteTime": {
     "end_time": "2021-01-12T23:10:46.254475Z",
     "start_time": "2021-01-12T23:10:46.251861Z"
    }
   },
   "outputs": [],
   "source": [
    "if show_plotly:\n",
    "    display(basic_px_hist(elec_2012_df, 2012, 'city_grp',\n",
    "              title='Distribution of Registered Voters by City in 2012 Election'))"
   ]
  },
  {
   "cell_type": "code",
   "execution_count": 263,
   "metadata": {
    "ExecuteTime": {
     "end_time": "2021-01-12T23:10:46.258963Z",
     "start_time": "2021-01-12T23:10:46.256297Z"
    }
   },
   "outputs": [],
   "source": [
    "if show_plotly:\n",
    "    display(basic_pie(elec_2012_df, 2012, 'city_grp',\n",
    "              title='Registered Voters by City in 2012 Election'))"
   ]
  },
  {
   "cell_type": "markdown",
   "metadata": {},
   "source": [
    "### 2012 Relationship to Voting Method\n",
    "\n",
    "#### 2012 By Age"
   ]
  },
  {
   "cell_type": "code",
   "execution_count": 264,
   "metadata": {
    "ExecuteTime": {
     "end_time": "2021-01-12T23:10:46.264451Z",
     "start_time": "2021-01-12T23:10:46.261024Z"
    }
   },
   "outputs": [],
   "source": [
    "if show_plotly:\n",
    "    display(grp_px_hist(elec_2012_df, 2012, 'birth_age_adj', 'Gen_2012', \n",
    "            title='Distribution of Voter Age by Voting Method in 2012 Election'))"
   ]
  },
  {
   "cell_type": "code",
   "execution_count": 265,
   "metadata": {
    "ExecuteTime": {
     "end_time": "2021-01-12T23:10:46.270090Z",
     "start_time": "2021-01-12T23:10:46.266652Z"
    }
   },
   "outputs": [],
   "source": [
    "if show_plotly:\n",
    "    display(grp_px_hist(elec_2012_df, 2012, 'gen_grp', 'Gen_2012', \n",
    "            title='Voting Method by Generation'))"
   ]
  },
  {
   "cell_type": "code",
   "execution_count": 266,
   "metadata": {
    "ExecuteTime": {
     "end_time": "2021-01-12T23:10:46.275740Z",
     "start_time": "2021-01-12T23:10:46.272459Z"
    }
   },
   "outputs": [],
   "source": [
    "if show_plotly:\n",
    "    display(grp_pie(elec_2012_df, 2012, 'Gen_2012', 'gen_grp', 'Early',\n",
    "              title='Early Voters by Generation'))"
   ]
  },
  {
   "cell_type": "code",
   "execution_count": 267,
   "metadata": {
    "ExecuteTime": {
     "end_time": "2021-01-12T23:10:46.280936Z",
     "start_time": "2021-01-12T23:10:46.278144Z"
    }
   },
   "outputs": [],
   "source": [
    "if show_plotly:\n",
    "    display(grp_pie(elec_2012_df, 2012, 'Gen_2012', 'gen_grp', 'Election Day',\n",
    "              title='Election Day Voters by Generation'))"
   ]
  },
  {
   "cell_type": "code",
   "execution_count": 268,
   "metadata": {
    "ExecuteTime": {
     "end_time": "2021-01-12T23:10:46.286418Z",
     "start_time": "2021-01-12T23:10:46.283381Z"
    }
   },
   "outputs": [],
   "source": [
    "if show_plotly:\n",
    "    display(grp_pie(elec_2012_df, 2012, 'Gen_2012', 'gen_grp', 'No Vote',\n",
    "              title='Non-Voters by Generation'))"
   ]
  },
  {
   "cell_type": "code",
   "execution_count": 269,
   "metadata": {
    "ExecuteTime": {
     "end_time": "2021-01-12T23:10:46.292616Z",
     "start_time": "2021-01-12T23:10:46.289134Z"
    }
   },
   "outputs": [],
   "source": [
    "if show_plotly:\n",
    "    display(grp_pie(elec_2012_df, 2012, 'Gen_2012', 'gen_grp', 'Other',\n",
    "              title='Provisional/ Transfer Voters by Generation'))"
   ]
  },
  {
   "cell_type": "code",
   "execution_count": 270,
   "metadata": {
    "ExecuteTime": {
     "end_time": "2021-01-12T23:10:46.298047Z",
     "start_time": "2021-01-12T23:10:46.295079Z"
    }
   },
   "outputs": [],
   "source": [
    "if show_plotly:\n",
    "    display(grp_pie(elec_2012_df, 2012, 'gen_grp', 'Gen_2012', 'Millennial',\n",
    "              title='Votes by Millennials'))"
   ]
  },
  {
   "cell_type": "code",
   "execution_count": 271,
   "metadata": {
    "ExecuteTime": {
     "end_time": "2021-01-12T23:10:46.303061Z",
     "start_time": "2021-01-12T23:10:46.300065Z"
    }
   },
   "outputs": [],
   "source": [
    "if show_plotly:\n",
    "    display(grp_pie(elec_2012_df, 2012, 'gen_grp', 'Gen_2012', 'GenX',\n",
    "              title='Votes by Generation X'))"
   ]
  },
  {
   "cell_type": "code",
   "execution_count": 272,
   "metadata": {
    "ExecuteTime": {
     "end_time": "2021-01-12T23:10:46.308466Z",
     "start_time": "2021-01-12T23:10:46.305556Z"
    }
   },
   "outputs": [],
   "source": [
    "if show_plotly:\n",
    "    display(grp_pie(elec_2012_df, 2012, 'gen_grp', 'Gen_2012', 'Boomer',\n",
    "              title='Votes by Baby Boomers'))"
   ]
  },
  {
   "cell_type": "code",
   "execution_count": 273,
   "metadata": {
    "ExecuteTime": {
     "end_time": "2021-01-12T23:10:46.313049Z",
     "start_time": "2021-01-12T23:10:46.310228Z"
    }
   },
   "outputs": [],
   "source": [
    "if show_plotly:\n",
    "    display(grp_pie(elec_2012_df, 2012, 'gen_grp', 'Gen_2012', 'Greatest-Silent',\n",
    "              title='Votes by Greatest and Silent Generation'))"
   ]
  },
  {
   "cell_type": "markdown",
   "metadata": {},
   "source": [
    "#### 2012 By Party"
   ]
  },
  {
   "cell_type": "code",
   "execution_count": 274,
   "metadata": {
    "ExecuteTime": {
     "end_time": "2021-01-12T23:10:46.317835Z",
     "start_time": "2021-01-12T23:10:46.314898Z"
    }
   },
   "outputs": [],
   "source": [
    "if show_plotly:\n",
    "    display(grp_px_hist(elec_2012_df, 2012, 'Gen_2012', 'party_grp', \n",
    "            title='Voting Method by Party'))"
   ]
  },
  {
   "cell_type": "code",
   "execution_count": 275,
   "metadata": {
    "ExecuteTime": {
     "end_time": "2021-01-12T23:10:46.322809Z",
     "start_time": "2021-01-12T23:10:46.319832Z"
    }
   },
   "outputs": [],
   "source": [
    "if show_plotly:\n",
    "    display(grp_pie(elec_2012_df, 2012, 'Gen_2012', 'party_grp', 'Early',\n",
    "              title='Early Voters by Party'))"
   ]
  },
  {
   "cell_type": "code",
   "execution_count": 276,
   "metadata": {
    "ExecuteTime": {
     "end_time": "2021-01-12T23:10:46.327351Z",
     "start_time": "2021-01-12T23:10:46.324346Z"
    }
   },
   "outputs": [],
   "source": [
    "if show_plotly:\n",
    "    display(grp_pie(elec_2012_df, 2012, 'Gen_2012', 'party_grp', 'Election Day',\n",
    "              title='Election Day Voters by Party'))"
   ]
  },
  {
   "cell_type": "code",
   "execution_count": 277,
   "metadata": {
    "ExecuteTime": {
     "end_time": "2021-01-12T23:10:46.333412Z",
     "start_time": "2021-01-12T23:10:46.329961Z"
    }
   },
   "outputs": [],
   "source": [
    "if show_plotly:\n",
    "    display(grp_pie(elec_2012_df, 2012, 'Gen_2012', 'party_grp', 'No Vote',\n",
    "              title='Non-Voters by Party'))"
   ]
  },
  {
   "cell_type": "code",
   "execution_count": 278,
   "metadata": {
    "ExecuteTime": {
     "end_time": "2021-01-12T23:10:46.338609Z",
     "start_time": "2021-01-12T23:10:46.335694Z"
    }
   },
   "outputs": [],
   "source": [
    "if show_plotly:\n",
    "    display(grp_pie(elec_2012_df, 2012, 'Gen_2012', 'party_grp', 'Other',\n",
    "              title='Provisional/ Transfer Voters by Party'))"
   ]
  },
  {
   "cell_type": "code",
   "execution_count": 279,
   "metadata": {
    "ExecuteTime": {
     "end_time": "2021-01-12T23:10:46.344522Z",
     "start_time": "2021-01-12T23:10:46.341025Z"
    }
   },
   "outputs": [],
   "source": [
    "if show_plotly:\n",
    "    display(grp_pie(elec_2012_df, 2012, 'party_grp', 'Gen_2012', 'Dem',\n",
    "              title='Votes by Democratic Party'))"
   ]
  },
  {
   "cell_type": "code",
   "execution_count": 280,
   "metadata": {
    "ExecuteTime": {
     "end_time": "2021-01-12T23:10:46.349420Z",
     "start_time": "2021-01-12T23:10:46.346504Z"
    }
   },
   "outputs": [],
   "source": [
    "if show_plotly:\n",
    "    display(grp_pie(elec_2012_df, 2012, 'party_grp', 'Gen_2012', 'Rep',\n",
    "              title='Votes by Republican Party'))"
   ]
  },
  {
   "cell_type": "code",
   "execution_count": 281,
   "metadata": {
    "ExecuteTime": {
     "end_time": "2021-01-12T23:10:46.353921Z",
     "start_time": "2021-01-12T23:10:46.351136Z"
    }
   },
   "outputs": [],
   "source": [
    "if show_plotly:\n",
    "    display(grp_pie(elec_2012_df, 2012, 'party_grp', 'Gen_2012', 'Other',\n",
    "              title='Votes by Other Voters'))"
   ]
  },
  {
   "cell_type": "markdown",
   "metadata": {},
   "source": [
    "#### 2012 By Race"
   ]
  },
  {
   "cell_type": "code",
   "execution_count": 282,
   "metadata": {
    "ExecuteTime": {
     "end_time": "2021-01-12T23:10:46.358751Z",
     "start_time": "2021-01-12T23:10:46.355905Z"
    }
   },
   "outputs": [],
   "source": [
    "if show_plotly:\n",
    "    display(grp_px_hist(elec_2012_df, 2012, 'Gen_2012', 'race_grp',\n",
    "            title='Voting Method by Race'))"
   ]
  },
  {
   "cell_type": "code",
   "execution_count": 283,
   "metadata": {
    "ExecuteTime": {
     "end_time": "2021-01-12T23:10:46.363269Z",
     "start_time": "2021-01-12T23:10:46.360475Z"
    }
   },
   "outputs": [],
   "source": [
    "if show_plotly:\n",
    "    display(grp_pie(elec_2012_df, 2012, 'Gen_2012', 'race_grp', 'Early',\n",
    "              title='Early Voters by Race'))"
   ]
  },
  {
   "cell_type": "code",
   "execution_count": 284,
   "metadata": {
    "ExecuteTime": {
     "end_time": "2021-01-12T23:10:46.367836Z",
     "start_time": "2021-01-12T23:10:46.365156Z"
    }
   },
   "outputs": [],
   "source": [
    "if show_plotly:\n",
    "    display(grp_pie(elec_2012_df, 2012, 'Gen_2012', 'race_grp', 'Election Day',\n",
    "              title='Election Day Voters by Race'))"
   ]
  },
  {
   "cell_type": "code",
   "execution_count": 285,
   "metadata": {
    "ExecuteTime": {
     "end_time": "2021-01-12T23:10:46.372779Z",
     "start_time": "2021-01-12T23:10:46.369770Z"
    }
   },
   "outputs": [],
   "source": [
    "if show_plotly:\n",
    "    display(grp_pie(elec_2012_df, 2012, 'Gen_2012', 'race_grp', 'No Vote',\n",
    "              title='Non-Voters by Race'))"
   ]
  },
  {
   "cell_type": "code",
   "execution_count": 286,
   "metadata": {
    "ExecuteTime": {
     "end_time": "2021-01-12T23:10:46.377640Z",
     "start_time": "2021-01-12T23:10:46.374814Z"
    }
   },
   "outputs": [],
   "source": [
    "if show_plotly:\n",
    "    display(grp_pie(elec_2012_df, 2012, 'Gen_2012', 'race_grp', 'Other',\n",
    "              title='Provisional/ Transfer Voters by Race'))"
   ]
  },
  {
   "cell_type": "code",
   "execution_count": 287,
   "metadata": {
    "ExecuteTime": {
     "end_time": "2021-01-12T23:10:46.382733Z",
     "start_time": "2021-01-12T23:10:46.379954Z"
    }
   },
   "outputs": [],
   "source": [
    "if show_plotly:\n",
    "    display(grp_pie(elec_2012_df, 2012, 'race_grp', 'Gen_2012', 'White',\n",
    "              title='Votes by White Voters'))"
   ]
  },
  {
   "cell_type": "code",
   "execution_count": 288,
   "metadata": {
    "ExecuteTime": {
     "end_time": "2021-01-12T23:10:46.387335Z",
     "start_time": "2021-01-12T23:10:46.384492Z"
    }
   },
   "outputs": [],
   "source": [
    "if show_plotly:\n",
    "    display(grp_pie(elec_2012_df, 2012, 'race_grp', 'Gen_2012', 'Black',\n",
    "              title='Votes by Black Voters'))"
   ]
  },
  {
   "cell_type": "code",
   "execution_count": 289,
   "metadata": {
    "ExecuteTime": {
     "end_time": "2021-01-12T23:10:46.392019Z",
     "start_time": "2021-01-12T23:10:46.389304Z"
    }
   },
   "outputs": [],
   "source": [
    "if show_plotly:\n",
    "    display(grp_pie(elec_2012_df, 2012, 'race_grp', 'Gen_2012', 'Undesig.',\n",
    "              title='Votes by Voters of Undesignated Race'))"
   ]
  },
  {
   "cell_type": "code",
   "execution_count": 290,
   "metadata": {
    "ExecuteTime": {
     "end_time": "2021-01-12T23:10:46.396826Z",
     "start_time": "2021-01-12T23:10:46.393919Z"
    }
   },
   "outputs": [],
   "source": [
    "if show_plotly:\n",
    "    display(grp_pie(elec_2012_df, 2012, 'race_grp', 'Gen_2012', 'Other',\n",
    "              title='Votes by Voters of Other Racial Backgrounds'))"
   ]
  },
  {
   "cell_type": "markdown",
   "metadata": {},
   "source": [
    "#### 2012 By Gender"
   ]
  },
  {
   "cell_type": "code",
   "execution_count": 291,
   "metadata": {
    "ExecuteTime": {
     "end_time": "2021-01-12T23:10:46.401653Z",
     "start_time": "2021-01-12T23:10:46.398588Z"
    }
   },
   "outputs": [],
   "source": [
    "if show_plotly:\n",
    "    display(grp_px_hist(elec_2012_df, 2012, 'Gen_2012', 'gender_code', \n",
    "            title='Voting Method by Gender'))"
   ]
  },
  {
   "cell_type": "code",
   "execution_count": 292,
   "metadata": {
    "ExecuteTime": {
     "end_time": "2021-01-12T23:10:46.406222Z",
     "start_time": "2021-01-12T23:10:46.403428Z"
    }
   },
   "outputs": [],
   "source": [
    "if show_plotly:\n",
    "    display(grp_pie(elec_2012_df, 2012, 'Gen_2012', 'gender_code', 'Early',\n",
    "              title='Early Voters by Gender'))"
   ]
  },
  {
   "cell_type": "code",
   "execution_count": 293,
   "metadata": {
    "ExecuteTime": {
     "end_time": "2021-01-12T23:10:46.410672Z",
     "start_time": "2021-01-12T23:10:46.408089Z"
    }
   },
   "outputs": [],
   "source": [
    "if show_plotly:\n",
    "    display(grp_pie(elec_2012_df, 2012, 'Gen_2012', 'gender_code', 'Election Day',\n",
    "              title='Election Day Voters by Gender'))"
   ]
  },
  {
   "cell_type": "code",
   "execution_count": 294,
   "metadata": {
    "ExecuteTime": {
     "end_time": "2021-01-12T23:10:46.415596Z",
     "start_time": "2021-01-12T23:10:46.412564Z"
    }
   },
   "outputs": [],
   "source": [
    "if show_plotly:\n",
    "    display(grp_pie(elec_2012_df, 2012, 'Gen_2012', 'gender_code', 'No Vote',\n",
    "              title='Non-Voters by Gender'))"
   ]
  },
  {
   "cell_type": "code",
   "execution_count": 295,
   "metadata": {
    "ExecuteTime": {
     "end_time": "2021-01-12T23:10:46.420460Z",
     "start_time": "2021-01-12T23:10:46.417441Z"
    }
   },
   "outputs": [],
   "source": [
    "if show_plotly:\n",
    "    display(grp_pie(elec_2012_df, 2012, 'Gen_2012', 'gender_code', 'Other',\n",
    "              title='Provisional/ Transfer Voters by Gender'))"
   ]
  },
  {
   "cell_type": "code",
   "execution_count": 296,
   "metadata": {
    "ExecuteTime": {
     "end_time": "2021-01-12T23:10:46.425450Z",
     "start_time": "2021-01-12T23:10:46.422447Z"
    }
   },
   "outputs": [],
   "source": [
    "if show_plotly:\n",
    "    display(grp_pie(elec_2012_df, 2012, 'gender_code', 'Gen_2012', 'F',\n",
    "              title='Votes by Women'))"
   ]
  },
  {
   "cell_type": "code",
   "execution_count": 297,
   "metadata": {
    "ExecuteTime": {
     "end_time": "2021-01-12T23:10:46.430606Z",
     "start_time": "2021-01-12T23:10:46.427878Z"
    }
   },
   "outputs": [],
   "source": [
    "if show_plotly:\n",
    "    display(grp_pie(elec_2012_df, 2012, 'gender_code', 'Gen_2012', 'M',\n",
    "              title='Votes by Men'))"
   ]
  },
  {
   "cell_type": "code",
   "execution_count": 298,
   "metadata": {
    "ExecuteTime": {
     "end_time": "2021-01-12T23:10:46.436357Z",
     "start_time": "2021-01-12T23:10:46.432973Z"
    }
   },
   "outputs": [],
   "source": [
    "if show_plotly:\n",
    "    display(grp_pie(elec_2012_df, 2012, 'gender_code', 'Gen_2012', 'U',\n",
    "              title='Votes by Voters of Undesignated Gender'))"
   ]
  },
  {
   "cell_type": "markdown",
   "metadata": {},
   "source": [
    "#### 2012 By Birth Region"
   ]
  },
  {
   "cell_type": "code",
   "execution_count": 299,
   "metadata": {
    "ExecuteTime": {
     "end_time": "2021-01-12T23:10:46.441677Z",
     "start_time": "2021-01-12T23:10:46.438764Z"
    }
   },
   "outputs": [],
   "source": [
    "if show_plotly:\n",
    "    display(grp_px_hist(elec_2012_df, 2012, 'Gen_2012', 'birth_reg_other', \n",
    "            title='Voting Method by Birth Region'))"
   ]
  },
  {
   "cell_type": "code",
   "execution_count": 300,
   "metadata": {
    "ExecuteTime": {
     "end_time": "2021-01-12T23:10:46.447205Z",
     "start_time": "2021-01-12T23:10:46.444121Z"
    }
   },
   "outputs": [],
   "source": [
    "if show_plotly:\n",
    "    display(grp_pie(elec_2012_df, 2012, 'Gen_2012', 'birth_reg_other', 'Early',\n",
    "              title='Early Voters by Birth Region'))"
   ]
  },
  {
   "cell_type": "code",
   "execution_count": 301,
   "metadata": {
    "ExecuteTime": {
     "end_time": "2021-01-12T23:10:46.452804Z",
     "start_time": "2021-01-12T23:10:46.449692Z"
    }
   },
   "outputs": [],
   "source": [
    "if show_plotly:\n",
    "    display(grp_pie(elec_2012_df, 2012, 'Gen_2012', 'birth_reg_other', 'Election Day',\n",
    "              title='Election Day Voters by Birth Region'))"
   ]
  },
  {
   "cell_type": "code",
   "execution_count": 302,
   "metadata": {
    "ExecuteTime": {
     "end_time": "2021-01-12T23:10:46.459711Z",
     "start_time": "2021-01-12T23:10:46.455760Z"
    }
   },
   "outputs": [],
   "source": [
    "if show_plotly:\n",
    "    display(grp_pie(elec_2012_df, 2012, 'Gen_2012', 'birth_reg_other', 'No Vote',\n",
    "              title='Non-Voters by Birth Region'))"
   ]
  },
  {
   "cell_type": "code",
   "execution_count": 303,
   "metadata": {
    "ExecuteTime": {
     "end_time": "2021-01-12T23:10:46.465229Z",
     "start_time": "2021-01-12T23:10:46.461758Z"
    }
   },
   "outputs": [],
   "source": [
    "if show_plotly:\n",
    "    display(grp_pie(elec_2012_df, 2012, 'Gen_2012', 'birth_reg_other', 'Other',\n",
    "              title='Provisional/ Transfer Voters by Birth Region'))"
   ]
  },
  {
   "cell_type": "code",
   "execution_count": 304,
   "metadata": {
    "ExecuteTime": {
     "end_time": "2021-01-12T23:10:46.470703Z",
     "start_time": "2021-01-12T23:10:46.467209Z"
    }
   },
   "outputs": [],
   "source": [
    "if show_plotly:\n",
    "    display(grp_pie(elec_2012_df, 2012, 'birth_reg_other', 'Gen_2012', 'South',\n",
    "              title='Votes by Voters from the South'))"
   ]
  },
  {
   "cell_type": "code",
   "execution_count": 305,
   "metadata": {
    "ExecuteTime": {
     "end_time": "2021-01-12T23:10:46.475829Z",
     "start_time": "2021-01-12T23:10:46.473074Z"
    }
   },
   "outputs": [],
   "source": [
    "if show_plotly:\n",
    "    display(grp_pie(elec_2012_df, 2012, 'birth_reg_other', 'Gen_2012', 'Missing',\n",
    "              title='Votes by Voters with Missing Birth Region'))"
   ]
  },
  {
   "cell_type": "code",
   "execution_count": 306,
   "metadata": {
    "ExecuteTime": {
     "end_time": "2021-01-12T23:10:46.480377Z",
     "start_time": "2021-01-12T23:10:46.477601Z"
    }
   },
   "outputs": [],
   "source": [
    "if show_plotly:\n",
    "    display(grp_pie(elec_2012_df, 2012, 'birth_reg_other', 'Gen_2012', 'Northeast',\n",
    "              title='Votes by Voters from the Northeast'))"
   ]
  },
  {
   "cell_type": "code",
   "execution_count": 307,
   "metadata": {
    "ExecuteTime": {
     "end_time": "2021-01-12T23:10:46.485183Z",
     "start_time": "2021-01-12T23:10:46.482263Z"
    }
   },
   "outputs": [],
   "source": [
    "if show_plotly:\n",
    "    display(grp_pie(elec_2012_df, 2012, 'birth_reg_other', 'Gen_2012', 'Midwest',\n",
    "              title='Votes by Voters from the Midwest'))"
   ]
  },
  {
   "cell_type": "code",
   "execution_count": 308,
   "metadata": {
    "ExecuteTime": {
     "end_time": "2021-01-12T23:10:46.489837Z",
     "start_time": "2021-01-12T23:10:46.487238Z"
    }
   },
   "outputs": [],
   "source": [
    "if show_plotly:\n",
    "    display(grp_pie(elec_2012_df, 2012, 'birth_reg_other', 'Gen_2012', 'Other',\n",
    "              title='Votes by Voters Born in U.S. Territories or Outside the U.S.'))"
   ]
  },
  {
   "cell_type": "code",
   "execution_count": 309,
   "metadata": {
    "ExecuteTime": {
     "end_time": "2021-01-12T23:10:46.494667Z",
     "start_time": "2021-01-12T23:10:46.491630Z"
    }
   },
   "outputs": [],
   "source": [
    "if show_plotly:\n",
    "    display(grp_pie(elec_2012_df, 2012, 'birth_reg_other', 'Gen_2012', 'West',\n",
    "              title='Votes by Voters from the West'))"
   ]
  },
  {
   "cell_type": "markdown",
   "metadata": {},
   "source": [
    "#### 2012 By Possessing a Drivers License"
   ]
  },
  {
   "cell_type": "code",
   "execution_count": 310,
   "metadata": {
    "ExecuteTime": {
     "end_time": "2021-01-12T23:10:46.499350Z",
     "start_time": "2021-01-12T23:10:46.496552Z"
    }
   },
   "outputs": [],
   "source": [
    "if show_plotly:\n",
    "    display(grp_px_hist(elec_2012_df, 2012, 'Gen_2012', 'drivers_lic', \n",
    "            title='Voting Method by Voters with and without Drivers Licenses'))"
   ]
  },
  {
   "cell_type": "code",
   "execution_count": 311,
   "metadata": {
    "ExecuteTime": {
     "end_time": "2021-01-12T23:10:46.503772Z",
     "start_time": "2021-01-12T23:10:46.501107Z"
    }
   },
   "outputs": [],
   "source": [
    "if show_plotly:\n",
    "    display(grp_pie(elec_2012_df, 2012, 'Gen_2012', 'drivers_lic', 'Early',\n",
    "              title='Early Voters by Possession of Drivers License'))"
   ]
  },
  {
   "cell_type": "code",
   "execution_count": 312,
   "metadata": {
    "ExecuteTime": {
     "end_time": "2021-01-12T23:10:46.509248Z",
     "start_time": "2021-01-12T23:10:46.506437Z"
    }
   },
   "outputs": [],
   "source": [
    "if show_plotly:\n",
    "    display(grp_pie(elec_2012_df, 2012, 'Gen_2012', 'drivers_lic', 'Election Day',\n",
    "              title='Election Day Voters by Possession of Drivers License'))"
   ]
  },
  {
   "cell_type": "code",
   "execution_count": 313,
   "metadata": {
    "ExecuteTime": {
     "end_time": "2021-01-12T23:10:46.514094Z",
     "start_time": "2021-01-12T23:10:46.511421Z"
    }
   },
   "outputs": [],
   "source": [
    "if show_plotly:\n",
    "    display(grp_pie(elec_2012_df, 2012, 'Gen_2012', 'drivers_lic', 'No Vote',\n",
    "              title='Non-Voters by Possession of Drivers License'))"
   ]
  },
  {
   "cell_type": "code",
   "execution_count": 314,
   "metadata": {
    "ExecuteTime": {
     "end_time": "2021-01-12T23:10:46.518833Z",
     "start_time": "2021-01-12T23:10:46.515851Z"
    }
   },
   "outputs": [],
   "source": [
    "if show_plotly:\n",
    "    display(grp_pie(elec_2012_df, 2012, 'Gen_2012', 'drivers_lic', 'Other',\n",
    "              title='Provisional/ Transfer Voters by Possession of Drivers License'))"
   ]
  },
  {
   "cell_type": "code",
   "execution_count": 315,
   "metadata": {
    "ExecuteTime": {
     "end_time": "2021-01-12T23:10:46.523828Z",
     "start_time": "2021-01-12T23:10:46.521076Z"
    }
   },
   "outputs": [],
   "source": [
    "if show_plotly:\n",
    "    display(grp_pie(elec_2012_df, 2012, 'drivers_lic', 'Gen_2012', 'Y',\n",
    "              title='Votes by People with a Drivers License'))"
   ]
  },
  {
   "cell_type": "code",
   "execution_count": 316,
   "metadata": {
    "ExecuteTime": {
     "end_time": "2021-01-12T23:10:46.528392Z",
     "start_time": "2021-01-12T23:10:46.525450Z"
    }
   },
   "outputs": [],
   "source": [
    "if show_plotly:\n",
    "    display(grp_pie(elec_2012_df, 2012, 'drivers_lic', 'Gen_2012', 'N',\n",
    "              title='Votes by People with No Drivers License'))"
   ]
  },
  {
   "cell_type": "markdown",
   "metadata": {},
   "source": [
    "#### 2012 By City"
   ]
  },
  {
   "cell_type": "code",
   "execution_count": 317,
   "metadata": {
    "ExecuteTime": {
     "end_time": "2021-01-12T23:10:46.532982Z",
     "start_time": "2021-01-12T23:10:46.530142Z"
    }
   },
   "outputs": [],
   "source": [
    "if show_plotly:\n",
    "    display(grp_px_hist(elec_2012_df, 2012, 'Gen_2012', 'city_grp', \n",
    "            title='Voting Method by City of Residence'))"
   ]
  },
  {
   "cell_type": "code",
   "execution_count": 318,
   "metadata": {
    "ExecuteTime": {
     "end_time": "2021-01-12T23:10:46.538280Z",
     "start_time": "2021-01-12T23:10:46.535194Z"
    }
   },
   "outputs": [],
   "source": [
    "if show_plotly:\n",
    "    display(grp_pie(elec_2012_df, 2012, 'Gen_2012', 'city_grp', 'Early',\n",
    "              title='Early Voters by City of Residence'))"
   ]
  },
  {
   "cell_type": "code",
   "execution_count": 319,
   "metadata": {
    "ExecuteTime": {
     "end_time": "2021-01-12T23:10:46.542478Z",
     "start_time": "2021-01-12T23:10:46.539872Z"
    }
   },
   "outputs": [],
   "source": [
    "if show_plotly:\n",
    "    display(grp_pie(elec_2012_df, 2012, 'Gen_2012', 'city_grp', 'Election Day',\n",
    "              title='Election Day Voters by City of Residence'))"
   ]
  },
  {
   "cell_type": "code",
   "execution_count": 320,
   "metadata": {
    "ExecuteTime": {
     "end_time": "2021-01-12T23:10:46.547046Z",
     "start_time": "2021-01-12T23:10:46.544361Z"
    }
   },
   "outputs": [],
   "source": [
    "if show_plotly:\n",
    "    display(grp_pie(elec_2012_df, 2012, 'Gen_2012', 'city_grp', 'No Vote',\n",
    "              title='Non-Voters by City of Residence'))"
   ]
  },
  {
   "cell_type": "code",
   "execution_count": 321,
   "metadata": {
    "ExecuteTime": {
     "end_time": "2021-01-12T23:10:46.551301Z",
     "start_time": "2021-01-12T23:10:46.548678Z"
    }
   },
   "outputs": [],
   "source": [
    "if show_plotly:\n",
    "    display(grp_pie(elec_2012_df, 2012, 'Gen_2012', 'city_grp', 'Other',\n",
    "              title='Provisional/ Transfer Voters by City of Residence'))"
   ]
  },
  {
   "cell_type": "code",
   "execution_count": 322,
   "metadata": {
    "ExecuteTime": {
     "end_time": "2021-01-12T23:10:46.555624Z",
     "start_time": "2021-01-12T23:10:46.553092Z"
    }
   },
   "outputs": [],
   "source": [
    "if show_plotly:\n",
    "    display(grp_pie(elec_2012_df, 2012, 'city_grp', 'Gen_2012', 'Monroe',\n",
    "              title='Votes by Residents of Monroe'))"
   ]
  },
  {
   "cell_type": "code",
   "execution_count": 323,
   "metadata": {
    "ExecuteTime": {
     "end_time": "2021-01-12T23:10:46.560629Z",
     "start_time": "2021-01-12T23:10:46.557740Z"
    }
   },
   "outputs": [],
   "source": [
    "if show_plotly:\n",
    "    display(grp_pie(elec_2012_df, 2012, 'city_grp', 'Gen_2012', 'Waxhaw',\n",
    "              title='Votes by Residents of Waxhaw'))"
   ]
  },
  {
   "cell_type": "code",
   "execution_count": 324,
   "metadata": {
    "ExecuteTime": {
     "end_time": "2021-01-12T23:10:46.565421Z",
     "start_time": "2021-01-12T23:10:46.562440Z"
    }
   },
   "outputs": [],
   "source": [
    "if show_plotly:\n",
    "    display(grp_pie(elec_2012_df, 2012, 'city_grp', 'Gen_2012', 'Indian Trail',\n",
    "              title='Votes by Residents of Indian Trail'))"
   ]
  },
  {
   "cell_type": "code",
   "execution_count": 325,
   "metadata": {
    "ExecuteTime": {
     "end_time": "2021-01-12T23:10:46.569772Z",
     "start_time": "2021-01-12T23:10:46.567169Z"
    }
   },
   "outputs": [],
   "source": [
    "if show_plotly:\n",
    "    display(grp_pie(elec_2012_df, 2012, 'city_grp', 'Gen_2012', 'Matthews',\n",
    "              title='Votes by Residents of Matthews'))"
   ]
  },
  {
   "cell_type": "code",
   "execution_count": 326,
   "metadata": {
    "ExecuteTime": {
     "end_time": "2021-01-12T23:10:46.574494Z",
     "start_time": "2021-01-12T23:10:46.571916Z"
    }
   },
   "outputs": [],
   "source": [
    "if show_plotly:\n",
    "    display(grp_pie(elec_2012_df, 2012, 'city_grp', 'Gen_2012', 'Other',\n",
    "              title='Votes from Other Cities in Union County'))"
   ]
  }
 ],
 "metadata": {
  "kernelspec": {
   "display_name": "learn-env",
   "language": "python",
   "name": "learn-env"
  },
  "language_info": {
   "codemirror_mode": {
    "name": "ipython",
    "version": 3
   },
   "file_extension": ".py",
   "mimetype": "text/x-python",
   "name": "python",
   "nbconvert_exporter": "python",
   "pygments_lexer": "ipython3",
   "version": "3.6.9"
  },
  "toc": {
   "base_numbering": 1,
   "nav_menu": {},
   "number_sections": true,
   "sideBar": true,
   "skip_h1_title": false,
   "title_cell": "Table of Contents",
   "title_sidebar": "Contents",
   "toc_cell": false,
   "toc_position": {
    "height": "calc(100% - 180px)",
    "left": "10px",
    "top": "150px",
    "width": "389px"
   },
   "toc_section_display": true,
   "toc_window_display": true
  }
 },
 "nbformat": 4,
 "nbformat_minor": 2
}
